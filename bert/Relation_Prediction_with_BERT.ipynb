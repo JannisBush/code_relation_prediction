{
 "cells": [
  {
   "cell_type": "markdown",
   "metadata": {},
   "source": [
    "# Relation Prediction in Argument Mining with Pre-trained Deep Bidirectional Transformers\n",
    "\n",
    "Code for BA thesis."
   ]
  },
  {
   "cell_type": "code",
   "execution_count": 9,
   "metadata": {},
   "outputs": [],
   "source": [
    "# All imports\n",
    "# import os \n",
    "# import re\n",
    "\n",
    "import pandas as pd\n",
    "import numpy as np\n",
    "import tensorflow as tf\n",
    "import tensorflow_hub as hub\n",
    "\n",
    "# from sklearn.model_selection import train_test_split\n",
    "from sklearn.metrics import classification_report, confusion_matrix, accuracy_score\n",
    "from sklearn.model_selection import StratifiedKFold\n",
    "\n",
    "\n",
    "from bert import run_classifier\n",
    "from bert import optimization\n",
    "from bert import tokenization\n",
    "from bert import modeling\n",
    "from datetime import datetime"
   ]
  },
  {
   "cell_type": "code",
   "execution_count": 10,
   "metadata": {},
   "outputs": [],
   "source": [
    "def load_local_data(filename, data):\n",
    "    df = pd.read_csv(filename, sep='\\t')\n",
    "    print(df.groupby('org_dataset').org.apply(lambda x: x.str.split().str.len().mean()))\n",
    "    print(df.groupby('org_dataset').response.apply(lambda x: x.str.split().str.len().mean()))\n",
    "    # Split in Training and Validation data\n",
    "    if data == 'node':\n",
    "        # Training data: NoDe debatepedia all versions without neutral label\n",
    "        # Validation data: NoDe procon\n",
    "        dataset = df.loc[~df['org_dataset'].isin(['political', 'comargGM', 'comargUGIP', 'agreement'])]\n",
    "        dataset = df.loc[df['org_dataset'].isin(['debate_test', 'debate_train', 'procon'])] # Use orignal data\n",
    "        # dataset = dataset[dataset['label'] != 'unrelated'] # Filter only support/attack\n",
    "        dataset = dataset.sample(frac=1)\n",
    "        #data_train = dataset.iloc[:-100]\n",
    "        #data_val = dataset #.iloc[-100:]\n",
    "        data_train = dataset.loc[~dataset['org_dataset'].isin(['debate_test'])]\n",
    "        data_val = dataset.loc[dataset['org_dataset'].isin(['debate_test'])]\n",
    "    elif data == 'political':\n",
    "        dataset = df.loc[df['org_dataset'].isin(['political'])]\n",
    "        #dataset = dataset[dataset['label'] != 'unrelated'] # Filter only support/attack\n",
    "        dataset = dataset.sample(frac=1)\n",
    "        data_train = dataset.iloc[:-200]\n",
    "        data_val = dataset.iloc[-200:]\n",
    "    elif data == 'agreement':\n",
    "        dataset = df.loc[df['org_dataset'].isin(['agreement'])]\n",
    "        dataset = dataset.sample(frac=1).dropna()\n",
    "        data_train = dataset.iloc[:-2000]\n",
    "        data_val = dataset.iloc[-2000:]\n",
    "    else:\n",
    "        print('Invalid dataset')\n",
    "        sys.exit(-1)\n",
    "    return data_train, data_val\n",
    "\n",
    "def create_model(is_predicting, input_ids, input_mask, segment_ids, labels,\n",
    "                 num_labels):\n",
    "    \"\"\"Creates a classification model.\"\"\"\n",
    "    \n",
    "    is_training = not is_predicting\n",
    "    \n",
    "    \"\"\"\n",
    "    model = modeling.BertModel(\n",
    "        config=BERT_CONFIG,\n",
    "        is_training=is_training,\n",
    "        input_ids=input_ids,\n",
    "        input_mask=input_mask,\n",
    "        token_type_ids=segment_ids,\n",
    "        use_one_hot_embeddings=False)\n",
    "\n",
    "    # Use \"pooled_output\" for classification tasks on an entire sentence.\n",
    "    # Use \"sequence_outputs\" for token-level output.\n",
    "    output_layer = model.get_pooled_output()\n",
    "    \n",
    "    \"\"\"\n",
    "    tags = set()\n",
    "    if is_training:\n",
    "        tags.add(\"train\")\n",
    "    bert_module = hub.Module(\n",
    "        BERT_MODEL_HUB,\n",
    "        tags=tags,\n",
    "        trainable=True)\n",
    "    bert_inputs = dict(\n",
    "        input_ids=input_ids,\n",
    "        input_mask=input_mask,\n",
    "        segment_ids=segment_ids)\n",
    "    bert_outputs = bert_module(\n",
    "        inputs=bert_inputs,\n",
    "        signature=\"tokens\",\n",
    "        as_dict=True)\n",
    "    \n",
    "\n",
    "    # Use \"pooled_output\" for classification tasks on an entire sentence.\n",
    "    # Use \"sequence_outputs\" for token-level output.\n",
    "    output_layer = bert_outputs[\"pooled_output\"]\n",
    "    \n",
    "    #######\n",
    "    \n",
    "\n",
    "    hidden_size = output_layer.shape[-1].value\n",
    "\n",
    "    # Create our own layer to tune for politeness data.\n",
    "    output_weights = tf.get_variable(\n",
    "      \"output_weights\", [num_labels, hidden_size],\n",
    "      initializer=tf.truncated_normal_initializer(stddev=0.02))\n",
    "\n",
    "    output_bias = tf.get_variable(\n",
    "      \"output_bias\", [num_labels], initializer=tf.zeros_initializer())\n",
    "\n",
    "    with tf.variable_scope(\"loss\"):\n",
    "        if is_training:\n",
    "            # Dropout helps prevent overfitting\n",
    "            output_layer = tf.nn.dropout(output_layer, keep_prob=0.9)\n",
    "\n",
    "        logits = tf.matmul(output_layer, output_weights, transpose_b=True)\n",
    "        logits = tf.nn.bias_add(logits, output_bias)\n",
    "        log_probs = tf.nn.log_softmax(logits, axis=-1)\n",
    "\n",
    "        # Convert labels into one-hot encoding\n",
    "        one_hot_labels = tf.one_hot(labels, depth=num_labels, dtype=tf.float32)\n",
    "\n",
    "        predicted_labels = tf.squeeze(tf.argmax(log_probs, axis=-1, output_type=tf.int32))\n",
    "        # If we're predicting, we want predicted labels and the probabiltiies.\n",
    "        if is_predicting:\n",
    "            return (predicted_labels, log_probs)\n",
    "\n",
    "        # If we're train/eval, compute loss between predicted and actual label\n",
    "        per_example_loss = -tf.reduce_sum(one_hot_labels * log_probs, axis=-1)\n",
    "        loss = tf.reduce_mean(per_example_loss)\n",
    "        return (loss, predicted_labels, log_probs)\n",
    "\n",
    "# model_fn_builder actually creates our model function\n",
    "# using the passed parameters for num_labels, learning_rate, etc.\n",
    "def model_fn_builder(num_labels, learning_rate, num_train_steps, num_warmup_steps):\n",
    "    \"\"\"Returns `model_fn` closure for TPUEstimator.\"\"\"\n",
    "    \n",
    "    def model_fn(features, labels, mode, params):  # pylint: disable=unused-argument\n",
    "        \"\"\"The `model_fn` for TPUEstimator.\"\"\"\n",
    "\n",
    "        input_ids = features[\"input_ids\"]\n",
    "        input_mask = features[\"input_mask\"]\n",
    "        segment_ids = features[\"segment_ids\"]\n",
    "        label_ids = features[\"label_ids\"]\n",
    "\n",
    "        is_predicting = (mode == tf.estimator.ModeKeys.PREDICT)\n",
    "\n",
    "        # TRAIN \n",
    "        if not is_predicting:\n",
    "\n",
    "            (loss, predicted_labels, log_probs) = create_model(\n",
    "                is_predicting, input_ids, input_mask, segment_ids, label_ids, num_labels)\n",
    "\n",
    "            train_op = optimization.create_optimizer(\n",
    "              loss, learning_rate, num_train_steps, num_warmup_steps, use_tpu=False)\n",
    "\n",
    "\n",
    "            if mode == tf.estimator.ModeKeys.TRAIN:\n",
    "                return tf.estimator.EstimatorSpec(mode=mode,\n",
    "                  loss=loss,\n",
    "                  train_op=train_op)\n",
    "\n",
    "        # TEST\n",
    "        else:\n",
    "            (predicted_labels, log_probs) = create_model(\n",
    "                is_predicting, input_ids, input_mask, segment_ids, label_ids, num_labels)\n",
    "\n",
    "            predictions = {\n",
    "                'probabilities': log_probs,\n",
    "                'labels': predicted_labels\n",
    "            }\n",
    "            return tf.estimator.EstimatorSpec(mode, predictions=predictions)\n",
    "\n",
    "    # Return the actual model function in the closure\n",
    "    return model_fn   "
   ]
  },
  {
   "cell_type": "code",
   "execution_count": 11,
   "metadata": {},
   "outputs": [],
   "source": [
    "# All parameters\n",
    "cross_val = True\n",
    "data_path = '../data/complete_data.tsv'\n",
    "dataset = 'political'  # One of 'agreement', 'node' and 'political'\n",
    "use_org = True\n",
    "use_resp = True\n",
    "convert_dicts = {'agreement': {\"agreement\": 0, \"disagreement\": 1, \"unrelated\": 2},\n",
    "                'node': {\"attack\": 0, \"support\": 1, \"unrelated\": 2},\n",
    "                'political': {\"attack\": 0, \"support\": 0, \"unrelated\": 1}}\n",
    "                #'political': {\"attack\": 0, \"support\": 1, \"unrelated\": 1}}\n",
    "convert_dict = convert_dicts[dataset]\n",
    "\n",
    "ORG_COLUMN = 'org'\n",
    "RESP_COLUMN = 'response'\n",
    "LABEL_COLUMN = 'label'\n",
    "# label_list is the list of labels, i.e. True, False or 0, 1 or 'dog', 'cat'\n",
    "label_list = [0, 1] # [0, 1, 2]\n",
    "BERT_VOCAB= './uncased_L-12_H-768_A-12/vocab.txt'\n",
    "BERT_INIT_CHKPNT = './uncased_L-12_H-768_A-12/bert_model.ckpt'\n",
    "BERT_CONFIG_PATH = './uncased_L-12_H-768_A-12/bert_config.json'\n",
    "BERT_CONFIG = modeling.BertConfig.from_json_file(BERT_CONFIG_PATH)\n",
    "BERT_MODEL_HUB = \"https://tfhub.dev/google/bert_uncased_L-12_H-768_A-12/1\"\n",
    "\n",
    "\n",
    "\n",
    "MAX_SEQ_LENGTH = 128\n",
    "\n",
    "# Compute train and warmup steps from batch size\n",
    "# These hyperparameters are copied from this colab notebook (https://colab.sandbox.google.com/github/tensorflow/tpu/blob/master/tools/colab/bert_finetuning_with_cloud_tpus.ipynb)\n",
    "BATCH_SIZE = 8\n",
    "LEARNING_RATE = 2e-5\n",
    "NUM_TRAIN_EPOCHS = 3.0\n",
    "# Warmup is a period of time where hte learning rate \n",
    "# is small and gradually increases--usually helps training.\n",
    "WARMUP_PROPORTION = 0.1\n",
    "# Model configs\n",
    "SAVE_CHECKPOINTS_STEPS = 5000\n",
    "SAVE_SUMMARY_STEPS = 100\n",
    "OUTPUT_DIR = 'BERT_RUN' + str(datetime.now()) + dataset\n",
    "\n",
    "# Specify outpit directory and number of checkpoint steps to save\n",
    "run_config = tf.estimator.RunConfig(\n",
    "#run_config = tf.contrib.tpu.RunConfig(\n",
    "    model_dir=OUTPUT_DIR,\n",
    "    save_summary_steps=SAVE_SUMMARY_STEPS,\n",
    "    save_checkpoints_steps=SAVE_CHECKPOINTS_STEPS)\n"
   ]
  },
  {
   "cell_type": "code",
   "execution_count": 12,
   "metadata": {},
   "outputs": [],
   "source": [
    "# Create tokenizer\n",
    "tokenization.validate_case_matches_checkpoint(True, BERT_INIT_CHKPNT)\n",
    "tokenizer = tokenization.FullTokenizer(\n",
    "      vocab_file=BERT_VOCAB, do_lower_case=True)"
   ]
  },
  {
   "cell_type": "code",
   "execution_count": 13,
   "metadata": {},
   "outputs": [
    {
     "name": "stdout",
     "output_type": "stream",
     "text": [
      "org_dataset\n",
      "agreement              74.945753\n",
      "comargGM               13.558755\n",
      "comargUGIP              9.486594\n",
      "debate_ext_attacks     36.043478\n",
      "debate_ext_media       53.533333\n",
      "debate_ext_second      11.043478\n",
      "debate_ext_supp        18.885714\n",
      "debate_extended        35.772358\n",
      "debate_test            13.860000\n",
      "debate_train           17.280000\n",
      "political             102.759589\n",
      "procon                 13.950000\n",
      "Name: org, dtype: float64\n",
      "org_dataset\n",
      "agreement              69.926330\n",
      "comargGM              115.659922\n",
      "comargUGIP             83.567031\n",
      "debate_ext_attacks     32.782609\n",
      "debate_ext_media       53.168254\n",
      "debate_ext_second      60.717391\n",
      "debate_ext_supp        45.428571\n",
      "debate_extended        59.934959\n",
      "debate_test            51.240000\n",
      "debate_train           48.080000\n",
      "political             102.171233\n",
      "procon                 30.366667\n",
      "Name: response, dtype: float64\n",
      "     org_dataset    id                                                org  \\\n",
      "4075   political  1280   What are the folks going to do ? What are the...   \n",
      "3227   political   175  [ Applause . ] Mr. Nixon considers a minimum w...   \n",
      "3988   political  1174  [ Applause . ] Let me make it very clear that ...   \n",
      "3543   political   583  The point is that we pay for that . Every time...   \n",
      "3758   political   871  When a political party votes , in 1935 , 98 pe...   \n",
      "\n",
      "     org_stance                                           response  \\\n",
      "4075    unknown  And what about that future ? We want a future ...   \n",
      "3227    unknown  Meanwhile , the contradictory statements of Se...   \n",
      "3988    unknown  [ Applause . ] A party which opposed social se...   \n",
      "3543    unknown  They talked . But what did they produce ? They...   \n",
      "3758    unknown  It is our function , however , not to merely i...   \n",
      "\n",
      "     response_stance      label                     topic  \n",
      "4075         unknown  unrelated  medical care,health care  \n",
      "3227         unknown     attack              minimum wage  \n",
      "3988         unknown  unrelated  medical care,health care  \n",
      "3543         unknown     attack              minimum wage  \n",
      "3758         unknown    support              minimum wage  \n",
      "      org_dataset                           id                    org         \\\n",
      "            count unique        top freq count unique  top freq count unique   \n",
      "label                                                                          \n",
      "0             638      1  political  638   638    638  483    1   638    418   \n",
      "1             622      1  political  622   622    622  798    1   622    433   \n",
      "\n",
      "       ...                                           response       \\\n",
      "       ...                                                top freq   \n",
      "label  ...                                                           \n",
      "0      ...  The Republican program in education , unlike M...   12   \n",
      "1      ...  Once again the economy surged to levels that t...   10   \n",
      "\n",
      "      response_stance                      topic                            \n",
      "                count unique      top freq count unique           top freq  \n",
      "label                                                                       \n",
      "0                 638      1  unknown  638   638      5  minimum wage  178  \n",
      "1                 622      1  unknown  622   622      5          cuba  157  \n",
      "\n",
      "[2 rows x 28 columns]\n",
      "      org_dataset                           id                    org         \\\n",
      "            count unique        top freq count unique  top freq count unique   \n",
      "label                                                                          \n",
      "0              93      1  political   93    93     93  741    1    93     84   \n",
      "1             107      1  political  107   107    107  946    1   107     98   \n",
      "\n",
      "       ...                                           response       \\\n",
      "       ...                                                top freq   \n",
      "label  ...                                                           \n",
      "0      ...  Five times they have ignored the President 's ...    3   \n",
      "1      ...  They talked . But what did they produce ? They...    4   \n",
      "\n",
      "      response_stance                      topic         \\\n",
      "                count unique      top freq count unique   \n",
      "label                                                     \n",
      "0                  93      1  unknown   93    93      5   \n",
      "1                 107      1  unknown  107   107      5   \n",
      "\n",
      "                                      \n",
      "                            top freq  \n",
      "label                                 \n",
      "0                  minimum wage   27  \n",
      "1      medical care,health care   31  \n",
      "\n",
      "[2 rows x 28 columns]\n",
      "INFO:tensorflow:Writing example 0 of 1260\n"
     ]
    },
    {
     "name": "stderr",
     "output_type": "stream",
     "text": [
      "I0620 08:25:40.542505 139737458554624 tf_logging.py:115] Writing example 0 of 1260\n"
     ]
    },
    {
     "name": "stdout",
     "output_type": "stream",
     "text": [
      "INFO:tensorflow:*** Example ***\n"
     ]
    },
    {
     "name": "stderr",
     "output_type": "stream",
     "text": [
      "I0620 08:25:40.545546 139737458554624 tf_logging.py:115] *** Example ***\n"
     ]
    },
    {
     "name": "stdout",
     "output_type": "stream",
     "text": [
      "INFO:tensorflow:guid: None\n"
     ]
    },
    {
     "name": "stderr",
     "output_type": "stream",
     "text": [
      "I0620 08:25:40.547175 139737458554624 tf_logging.py:115] guid: None\n"
     ]
    },
    {
     "name": "stdout",
     "output_type": "stream",
     "text": [
      "INFO:tensorflow:tokens: [CLS] he was only talking about theory . and as far as cuba was concerned , he really meant to say the same thing we ' ve been doing all the time , to give moral support to freedom throughout the world . let me say this : you can forgive a candidate for his mistakes , because when he makes them , he [SEP] if he pursued the programs he has advocated domestically - programs which could only produce cruel inflation and government interference with every aspect of our economic life , he could only pipe us to recession or worse . if he pursued the policies abroad which he has suggested , apology to k ##hr ##ush ##chev , retreat in the pacific , open [SEP]\n"
     ]
    },
    {
     "name": "stderr",
     "output_type": "stream",
     "text": [
      "I0620 08:25:40.548102 139737458554624 tf_logging.py:115] tokens: [CLS] he was only talking about theory . and as far as cuba was concerned , he really meant to say the same thing we ' ve been doing all the time , to give moral support to freedom throughout the world . let me say this : you can forgive a candidate for his mistakes , because when he makes them , he [SEP] if he pursued the programs he has advocated domestically - programs which could only produce cruel inflation and government interference with every aspect of our economic life , he could only pipe us to recession or worse . if he pursued the policies abroad which he has suggested , apology to k ##hr ##ush ##chev , retreat in the pacific , open [SEP]\n"
     ]
    },
    {
     "name": "stdout",
     "output_type": "stream",
     "text": [
      "INFO:tensorflow:input_ids: 101 2002 2001 2069 3331 2055 3399 1012 1998 2004 2521 2004 7394 2001 4986 1010 2002 2428 3214 2000 2360 1996 2168 2518 2057 1005 2310 2042 2725 2035 1996 2051 1010 2000 2507 7191 2490 2000 4071 2802 1996 2088 1012 2292 2033 2360 2023 1024 2017 2064 9641 1037 4018 2005 2010 12051 1010 2138 2043 2002 3084 2068 1010 2002 102 2065 2002 9505 1996 3454 2002 2038 11886 27143 1011 3454 2029 2071 2069 3965 10311 14200 1998 2231 11099 2007 2296 7814 1997 2256 3171 2166 1010 2002 2071 2069 8667 2149 2000 19396 2030 4788 1012 2065 2002 9505 1996 6043 6917 2029 2002 2038 4081 1010 12480 2000 1047 8093 20668 16179 1010 7822 1999 1996 3534 1010 2330 102\n"
     ]
    },
    {
     "name": "stderr",
     "output_type": "stream",
     "text": [
      "I0620 08:25:40.549316 139737458554624 tf_logging.py:115] input_ids: 101 2002 2001 2069 3331 2055 3399 1012 1998 2004 2521 2004 7394 2001 4986 1010 2002 2428 3214 2000 2360 1996 2168 2518 2057 1005 2310 2042 2725 2035 1996 2051 1010 2000 2507 7191 2490 2000 4071 2802 1996 2088 1012 2292 2033 2360 2023 1024 2017 2064 9641 1037 4018 2005 2010 12051 1010 2138 2043 2002 3084 2068 1010 2002 102 2065 2002 9505 1996 3454 2002 2038 11886 27143 1011 3454 2029 2071 2069 3965 10311 14200 1998 2231 11099 2007 2296 7814 1997 2256 3171 2166 1010 2002 2071 2069 8667 2149 2000 19396 2030 4788 1012 2065 2002 9505 1996 6043 6917 2029 2002 2038 4081 1010 12480 2000 1047 8093 20668 16179 1010 7822 1999 1996 3534 1010 2330 102\n"
     ]
    },
    {
     "name": "stdout",
     "output_type": "stream",
     "text": [
      "INFO:tensorflow:input_mask: 1 1 1 1 1 1 1 1 1 1 1 1 1 1 1 1 1 1 1 1 1 1 1 1 1 1 1 1 1 1 1 1 1 1 1 1 1 1 1 1 1 1 1 1 1 1 1 1 1 1 1 1 1 1 1 1 1 1 1 1 1 1 1 1 1 1 1 1 1 1 1 1 1 1 1 1 1 1 1 1 1 1 1 1 1 1 1 1 1 1 1 1 1 1 1 1 1 1 1 1 1 1 1 1 1 1 1 1 1 1 1 1 1 1 1 1 1 1 1 1 1 1 1 1 1 1 1 1\n"
     ]
    },
    {
     "name": "stderr",
     "output_type": "stream",
     "text": [
      "I0620 08:25:40.550281 139737458554624 tf_logging.py:115] input_mask: 1 1 1 1 1 1 1 1 1 1 1 1 1 1 1 1 1 1 1 1 1 1 1 1 1 1 1 1 1 1 1 1 1 1 1 1 1 1 1 1 1 1 1 1 1 1 1 1 1 1 1 1 1 1 1 1 1 1 1 1 1 1 1 1 1 1 1 1 1 1 1 1 1 1 1 1 1 1 1 1 1 1 1 1 1 1 1 1 1 1 1 1 1 1 1 1 1 1 1 1 1 1 1 1 1 1 1 1 1 1 1 1 1 1 1 1 1 1 1 1 1 1 1 1 1 1 1 1\n"
     ]
    },
    {
     "name": "stdout",
     "output_type": "stream",
     "text": [
      "INFO:tensorflow:segment_ids: 0 0 0 0 0 0 0 0 0 0 0 0 0 0 0 0 0 0 0 0 0 0 0 0 0 0 0 0 0 0 0 0 0 0 0 0 0 0 0 0 0 0 0 0 0 0 0 0 0 0 0 0 0 0 0 0 0 0 0 0 0 0 0 0 0 1 1 1 1 1 1 1 1 1 1 1 1 1 1 1 1 1 1 1 1 1 1 1 1 1 1 1 1 1 1 1 1 1 1 1 1 1 1 1 1 1 1 1 1 1 1 1 1 1 1 1 1 1 1 1 1 1 1 1 1 1 1 1\n"
     ]
    },
    {
     "name": "stderr",
     "output_type": "stream",
     "text": [
      "I0620 08:25:40.550804 139737458554624 tf_logging.py:115] segment_ids: 0 0 0 0 0 0 0 0 0 0 0 0 0 0 0 0 0 0 0 0 0 0 0 0 0 0 0 0 0 0 0 0 0 0 0 0 0 0 0 0 0 0 0 0 0 0 0 0 0 0 0 0 0 0 0 0 0 0 0 0 0 0 0 0 0 1 1 1 1 1 1 1 1 1 1 1 1 1 1 1 1 1 1 1 1 1 1 1 1 1 1 1 1 1 1 1 1 1 1 1 1 1 1 1 1 1 1 1 1 1 1 1 1 1 1 1 1 1 1 1 1 1 1 1 1 1 1 1\n"
     ]
    },
    {
     "name": "stdout",
     "output_type": "stream",
     "text": [
      "INFO:tensorflow:label: 1 (id = 1)\n"
     ]
    },
    {
     "name": "stderr",
     "output_type": "stream",
     "text": [
      "I0620 08:25:40.551291 139737458554624 tf_logging.py:115] label: 1 (id = 1)\n"
     ]
    },
    {
     "name": "stdout",
     "output_type": "stream",
     "text": [
      "INFO:tensorflow:*** Example ***\n"
     ]
    },
    {
     "name": "stderr",
     "output_type": "stream",
     "text": [
      "I0620 08:25:40.554828 139737458554624 tf_logging.py:115] *** Example ***\n"
     ]
    },
    {
     "name": "stdout",
     "output_type": "stream",
     "text": [
      "INFO:tensorflow:guid: None\n"
     ]
    },
    {
     "name": "stderr",
     "output_type": "stream",
     "text": [
      "I0620 08:25:40.556058 139737458554624 tf_logging.py:115] guid: None\n"
     ]
    },
    {
     "name": "stdout",
     "output_type": "stream",
     "text": [
      "INFO:tensorflow:tokens: [CLS] he charged that we republicans were indifferent , indifferent to the problems of unemployment and distress in west virginia . now , first , about indifference : i know what unemployment is . i have seen people come into my dad ' s store when they were unemployed and wanted a job and have to put things on the books , and i [SEP] one in particular is with regard to unemployment compensation . i think that unemployment compensation - our unemployment compensation principles and programs - should be revised , so that we can have a more effective method . that means longer periods which the unemployment compensation covers and also standards which are more general throughout the states , so that you can have [SEP]\n"
     ]
    },
    {
     "name": "stderr",
     "output_type": "stream",
     "text": [
      "I0620 08:25:40.556700 139737458554624 tf_logging.py:115] tokens: [CLS] he charged that we republicans were indifferent , indifferent to the problems of unemployment and distress in west virginia . now , first , about indifference : i know what unemployment is . i have seen people come into my dad ' s store when they were unemployed and wanted a job and have to put things on the books , and i [SEP] one in particular is with regard to unemployment compensation . i think that unemployment compensation - our unemployment compensation principles and programs - should be revised , so that we can have a more effective method . that means longer periods which the unemployment compensation covers and also standards which are more general throughout the states , so that you can have [SEP]\n"
     ]
    },
    {
     "name": "stdout",
     "output_type": "stream",
     "text": [
      "INFO:tensorflow:input_ids: 101 2002 5338 2008 2057 10643 2020 24436 1010 24436 2000 1996 3471 1997 12163 1998 12893 1999 2225 3448 1012 2085 1010 2034 1010 2055 25920 1024 1045 2113 2054 12163 2003 1012 1045 2031 2464 2111 2272 2046 2026 3611 1005 1055 3573 2043 2027 2020 18787 1998 2359 1037 3105 1998 2031 2000 2404 2477 2006 1996 2808 1010 1998 1045 102 2028 1999 3327 2003 2007 7634 2000 12163 9430 1012 1045 2228 2008 12163 9430 1011 2256 12163 9430 6481 1998 3454 1011 2323 2022 8001 1010 2061 2008 2057 2064 2031 1037 2062 4621 4118 1012 2008 2965 2936 6993 2029 1996 12163 9430 4472 1998 2036 4781 2029 2024 2062 2236 2802 1996 2163 1010 2061 2008 2017 2064 2031 102\n"
     ]
    },
    {
     "name": "stderr",
     "output_type": "stream",
     "text": [
      "I0620 08:25:40.557339 139737458554624 tf_logging.py:115] input_ids: 101 2002 5338 2008 2057 10643 2020 24436 1010 24436 2000 1996 3471 1997 12163 1998 12893 1999 2225 3448 1012 2085 1010 2034 1010 2055 25920 1024 1045 2113 2054 12163 2003 1012 1045 2031 2464 2111 2272 2046 2026 3611 1005 1055 3573 2043 2027 2020 18787 1998 2359 1037 3105 1998 2031 2000 2404 2477 2006 1996 2808 1010 1998 1045 102 2028 1999 3327 2003 2007 7634 2000 12163 9430 1012 1045 2228 2008 12163 9430 1011 2256 12163 9430 6481 1998 3454 1011 2323 2022 8001 1010 2061 2008 2057 2064 2031 1037 2062 4621 4118 1012 2008 2965 2936 6993 2029 1996 12163 9430 4472 1998 2036 4781 2029 2024 2062 2236 2802 1996 2163 1010 2061 2008 2017 2064 2031 102\n"
     ]
    },
    {
     "name": "stdout",
     "output_type": "stream",
     "text": [
      "INFO:tensorflow:input_mask: 1 1 1 1 1 1 1 1 1 1 1 1 1 1 1 1 1 1 1 1 1 1 1 1 1 1 1 1 1 1 1 1 1 1 1 1 1 1 1 1 1 1 1 1 1 1 1 1 1 1 1 1 1 1 1 1 1 1 1 1 1 1 1 1 1 1 1 1 1 1 1 1 1 1 1 1 1 1 1 1 1 1 1 1 1 1 1 1 1 1 1 1 1 1 1 1 1 1 1 1 1 1 1 1 1 1 1 1 1 1 1 1 1 1 1 1 1 1 1 1 1 1 1 1 1 1 1 1\n"
     ]
    },
    {
     "name": "stderr",
     "output_type": "stream",
     "text": [
      "I0620 08:25:40.557857 139737458554624 tf_logging.py:115] input_mask: 1 1 1 1 1 1 1 1 1 1 1 1 1 1 1 1 1 1 1 1 1 1 1 1 1 1 1 1 1 1 1 1 1 1 1 1 1 1 1 1 1 1 1 1 1 1 1 1 1 1 1 1 1 1 1 1 1 1 1 1 1 1 1 1 1 1 1 1 1 1 1 1 1 1 1 1 1 1 1 1 1 1 1 1 1 1 1 1 1 1 1 1 1 1 1 1 1 1 1 1 1 1 1 1 1 1 1 1 1 1 1 1 1 1 1 1 1 1 1 1 1 1 1 1 1 1 1 1\n"
     ]
    },
    {
     "name": "stdout",
     "output_type": "stream",
     "text": [
      "INFO:tensorflow:segment_ids: 0 0 0 0 0 0 0 0 0 0 0 0 0 0 0 0 0 0 0 0 0 0 0 0 0 0 0 0 0 0 0 0 0 0 0 0 0 0 0 0 0 0 0 0 0 0 0 0 0 0 0 0 0 0 0 0 0 0 0 0 0 0 0 0 0 1 1 1 1 1 1 1 1 1 1 1 1 1 1 1 1 1 1 1 1 1 1 1 1 1 1 1 1 1 1 1 1 1 1 1 1 1 1 1 1 1 1 1 1 1 1 1 1 1 1 1 1 1 1 1 1 1 1 1 1 1 1 1\n"
     ]
    },
    {
     "name": "stderr",
     "output_type": "stream",
     "text": [
      "I0620 08:25:40.558409 139737458554624 tf_logging.py:115] segment_ids: 0 0 0 0 0 0 0 0 0 0 0 0 0 0 0 0 0 0 0 0 0 0 0 0 0 0 0 0 0 0 0 0 0 0 0 0 0 0 0 0 0 0 0 0 0 0 0 0 0 0 0 0 0 0 0 0 0 0 0 0 0 0 0 0 0 1 1 1 1 1 1 1 1 1 1 1 1 1 1 1 1 1 1 1 1 1 1 1 1 1 1 1 1 1 1 1 1 1 1 1 1 1 1 1 1 1 1 1 1 1 1 1 1 1 1 1 1 1 1 1 1 1 1 1 1 1 1 1\n"
     ]
    },
    {
     "name": "stdout",
     "output_type": "stream",
     "text": [
      "INFO:tensorflow:label: 1 (id = 1)\n"
     ]
    },
    {
     "name": "stderr",
     "output_type": "stream",
     "text": [
      "I0620 08:25:40.558999 139737458554624 tf_logging.py:115] label: 1 (id = 1)\n"
     ]
    },
    {
     "name": "stdout",
     "output_type": "stream",
     "text": [
      "INFO:tensorflow:*** Example ***\n"
     ]
    },
    {
     "name": "stderr",
     "output_type": "stream",
     "text": [
      "I0620 08:25:40.563243 139737458554624 tf_logging.py:115] *** Example ***\n"
     ]
    },
    {
     "name": "stdout",
     "output_type": "stream",
     "text": [
      "INFO:tensorflow:guid: None\n"
     ]
    },
    {
     "name": "stderr",
     "output_type": "stream",
     "text": [
      "I0620 08:25:40.564130 139737458554624 tf_logging.py:115] guid: None\n"
     ]
    },
    {
     "name": "stdout",
     "output_type": "stream",
     "text": [
      "INFO:tensorflow:tokens: [CLS] the decision is yours . boo ##s , shouts , screams , applause on november 8 you have to make a judgment as to what kind of a country you want , whether you feel what we are doing now is good enough , whether you feel that the prestige and power of the united states in the world is rising fast enough [SEP] it relies in part on the threat of that intervention but not the reality . but instead relies on building cells within those countries , playing on the hostility to us , playing in some cases on our indifference to the problems of the people , playing on their poverty and disease and ignorance , playing on our wealth , playing on [SEP]\n"
     ]
    },
    {
     "name": "stderr",
     "output_type": "stream",
     "text": [
      "I0620 08:25:40.564758 139737458554624 tf_logging.py:115] tokens: [CLS] the decision is yours . boo ##s , shouts , screams , applause on november 8 you have to make a judgment as to what kind of a country you want , whether you feel what we are doing now is good enough , whether you feel that the prestige and power of the united states in the world is rising fast enough [SEP] it relies in part on the threat of that intervention but not the reality . but instead relies on building cells within those countries , playing on the hostility to us , playing in some cases on our indifference to the problems of the people , playing on their poverty and disease and ignorance , playing on our wealth , playing on [SEP]\n"
     ]
    },
    {
     "name": "stdout",
     "output_type": "stream",
     "text": [
      "INFO:tensorflow:input_ids: 101 1996 3247 2003 6737 1012 22017 2015 1010 15701 1010 11652 1010 20737 2006 2281 1022 2017 2031 2000 2191 1037 8689 2004 2000 2054 2785 1997 1037 2406 2017 2215 1010 3251 2017 2514 2054 2057 2024 2725 2085 2003 2204 2438 1010 3251 2017 2514 2008 1996 14653 1998 2373 1997 1996 2142 2163 1999 1996 2088 2003 4803 3435 2438 102 2009 16803 1999 2112 2006 1996 5081 1997 2008 8830 2021 2025 1996 4507 1012 2021 2612 16803 2006 2311 4442 2306 2216 3032 1010 2652 2006 1996 18258 2000 2149 1010 2652 1999 2070 3572 2006 2256 25920 2000 1996 3471 1997 1996 2111 1010 2652 2006 2037 5635 1998 4295 1998 18173 1010 2652 2006 2256 7177 1010 2652 2006 102\n"
     ]
    },
    {
     "name": "stderr",
     "output_type": "stream",
     "text": [
      "I0620 08:25:40.565340 139737458554624 tf_logging.py:115] input_ids: 101 1996 3247 2003 6737 1012 22017 2015 1010 15701 1010 11652 1010 20737 2006 2281 1022 2017 2031 2000 2191 1037 8689 2004 2000 2054 2785 1997 1037 2406 2017 2215 1010 3251 2017 2514 2054 2057 2024 2725 2085 2003 2204 2438 1010 3251 2017 2514 2008 1996 14653 1998 2373 1997 1996 2142 2163 1999 1996 2088 2003 4803 3435 2438 102 2009 16803 1999 2112 2006 1996 5081 1997 2008 8830 2021 2025 1996 4507 1012 2021 2612 16803 2006 2311 4442 2306 2216 3032 1010 2652 2006 1996 18258 2000 2149 1010 2652 1999 2070 3572 2006 2256 25920 2000 1996 3471 1997 1996 2111 1010 2652 2006 2037 5635 1998 4295 1998 18173 1010 2652 2006 2256 7177 1010 2652 2006 102\n"
     ]
    },
    {
     "name": "stdout",
     "output_type": "stream",
     "text": [
      "INFO:tensorflow:input_mask: 1 1 1 1 1 1 1 1 1 1 1 1 1 1 1 1 1 1 1 1 1 1 1 1 1 1 1 1 1 1 1 1 1 1 1 1 1 1 1 1 1 1 1 1 1 1 1 1 1 1 1 1 1 1 1 1 1 1 1 1 1 1 1 1 1 1 1 1 1 1 1 1 1 1 1 1 1 1 1 1 1 1 1 1 1 1 1 1 1 1 1 1 1 1 1 1 1 1 1 1 1 1 1 1 1 1 1 1 1 1 1 1 1 1 1 1 1 1 1 1 1 1 1 1 1 1 1 1\n"
     ]
    },
    {
     "name": "stderr",
     "output_type": "stream",
     "text": [
      "I0620 08:25:40.565944 139737458554624 tf_logging.py:115] input_mask: 1 1 1 1 1 1 1 1 1 1 1 1 1 1 1 1 1 1 1 1 1 1 1 1 1 1 1 1 1 1 1 1 1 1 1 1 1 1 1 1 1 1 1 1 1 1 1 1 1 1 1 1 1 1 1 1 1 1 1 1 1 1 1 1 1 1 1 1 1 1 1 1 1 1 1 1 1 1 1 1 1 1 1 1 1 1 1 1 1 1 1 1 1 1 1 1 1 1 1 1 1 1 1 1 1 1 1 1 1 1 1 1 1 1 1 1 1 1 1 1 1 1 1 1 1 1 1 1\n"
     ]
    },
    {
     "name": "stdout",
     "output_type": "stream",
     "text": [
      "INFO:tensorflow:segment_ids: 0 0 0 0 0 0 0 0 0 0 0 0 0 0 0 0 0 0 0 0 0 0 0 0 0 0 0 0 0 0 0 0 0 0 0 0 0 0 0 0 0 0 0 0 0 0 0 0 0 0 0 0 0 0 0 0 0 0 0 0 0 0 0 0 0 1 1 1 1 1 1 1 1 1 1 1 1 1 1 1 1 1 1 1 1 1 1 1 1 1 1 1 1 1 1 1 1 1 1 1 1 1 1 1 1 1 1 1 1 1 1 1 1 1 1 1 1 1 1 1 1 1 1 1 1 1 1 1\n"
     ]
    },
    {
     "name": "stderr",
     "output_type": "stream",
     "text": [
      "I0620 08:25:40.566522 139737458554624 tf_logging.py:115] segment_ids: 0 0 0 0 0 0 0 0 0 0 0 0 0 0 0 0 0 0 0 0 0 0 0 0 0 0 0 0 0 0 0 0 0 0 0 0 0 0 0 0 0 0 0 0 0 0 0 0 0 0 0 0 0 0 0 0 0 0 0 0 0 0 0 0 0 1 1 1 1 1 1 1 1 1 1 1 1 1 1 1 1 1 1 1 1 1 1 1 1 1 1 1 1 1 1 1 1 1 1 1 1 1 1 1 1 1 1 1 1 1 1 1 1 1 1 1 1 1 1 1 1 1 1 1 1 1 1 1\n"
     ]
    },
    {
     "name": "stdout",
     "output_type": "stream",
     "text": [
      "INFO:tensorflow:label: 1 (id = 1)\n"
     ]
    },
    {
     "name": "stderr",
     "output_type": "stream",
     "text": [
      "I0620 08:25:40.567057 139737458554624 tf_logging.py:115] label: 1 (id = 1)\n"
     ]
    },
    {
     "name": "stdout",
     "output_type": "stream",
     "text": [
      "INFO:tensorflow:*** Example ***\n"
     ]
    },
    {
     "name": "stderr",
     "output_type": "stream",
     "text": [
      "I0620 08:25:40.571906 139737458554624 tf_logging.py:115] *** Example ***\n"
     ]
    },
    {
     "name": "stdout",
     "output_type": "stream",
     "text": [
      "INFO:tensorflow:guid: None\n"
     ]
    },
    {
     "name": "stderr",
     "output_type": "stream",
     "text": [
      "I0620 08:25:40.585840 139737458554624 tf_logging.py:115] guid: None\n"
     ]
    },
    {
     "name": "stdout",
     "output_type": "stream",
     "text": [
      "INFO:tensorflow:tokens: [CLS] thomas jefferson has often made the point that the greatest guarantee of freedom is to diffuse power and that we must not have concentration of power in an all - powerful federal government , and it is because we believe that any kind of program that would put immense power in the federal government over our school system is something that americans should [SEP] his figures are wholly fictitious . but how can anyone figure the cost of the republican platform ? how much have they cost the taxpayer for the dams and highways that cost more now than they did when they should have been built ? how can you measure the cost of increased juvenile del ##in ##que ##ncy bred in the sl ##ums [SEP]\n"
     ]
    },
    {
     "name": "stderr",
     "output_type": "stream",
     "text": [
      "I0620 08:25:40.587426 139737458554624 tf_logging.py:115] tokens: [CLS] thomas jefferson has often made the point that the greatest guarantee of freedom is to diffuse power and that we must not have concentration of power in an all - powerful federal government , and it is because we believe that any kind of program that would put immense power in the federal government over our school system is something that americans should [SEP] his figures are wholly fictitious . but how can anyone figure the cost of the republican platform ? how much have they cost the taxpayer for the dams and highways that cost more now than they did when they should have been built ? how can you measure the cost of increased juvenile del ##in ##que ##ncy bred in the sl ##ums [SEP]\n"
     ]
    },
    {
     "name": "stdout",
     "output_type": "stream",
     "text": [
      "INFO:tensorflow:input_ids: 101 2726 7625 2038 2411 2081 1996 2391 2008 1996 4602 11302 1997 4071 2003 2000 28105 2373 1998 2008 2057 2442 2025 2031 6693 1997 2373 1999 2019 2035 1011 3928 2976 2231 1010 1998 2009 2003 2138 2057 2903 2008 2151 2785 1997 2565 2008 2052 2404 14269 2373 1999 1996 2976 2231 2058 2256 2082 2291 2003 2242 2008 4841 2323 102 2010 4481 2024 12590 23577 1012 2021 2129 2064 3087 3275 1996 3465 1997 1996 3951 4132 1029 2129 2172 2031 2027 3465 1996 26980 2005 1996 17278 1998 10292 2008 3465 2062 2085 2084 2027 2106 2043 2027 2323 2031 2042 2328 1029 2129 2064 2017 5468 1996 3465 1997 3445 11799 3972 2378 4226 9407 13680 1999 1996 22889 18163 102\n"
     ]
    },
    {
     "name": "stderr",
     "output_type": "stream",
     "text": [
      "I0620 08:25:40.588456 139737458554624 tf_logging.py:115] input_ids: 101 2726 7625 2038 2411 2081 1996 2391 2008 1996 4602 11302 1997 4071 2003 2000 28105 2373 1998 2008 2057 2442 2025 2031 6693 1997 2373 1999 2019 2035 1011 3928 2976 2231 1010 1998 2009 2003 2138 2057 2903 2008 2151 2785 1997 2565 2008 2052 2404 14269 2373 1999 1996 2976 2231 2058 2256 2082 2291 2003 2242 2008 4841 2323 102 2010 4481 2024 12590 23577 1012 2021 2129 2064 3087 3275 1996 3465 1997 1996 3951 4132 1029 2129 2172 2031 2027 3465 1996 26980 2005 1996 17278 1998 10292 2008 3465 2062 2085 2084 2027 2106 2043 2027 2323 2031 2042 2328 1029 2129 2064 2017 5468 1996 3465 1997 3445 11799 3972 2378 4226 9407 13680 1999 1996 22889 18163 102\n"
     ]
    },
    {
     "name": "stdout",
     "output_type": "stream",
     "text": [
      "INFO:tensorflow:input_mask: 1 1 1 1 1 1 1 1 1 1 1 1 1 1 1 1 1 1 1 1 1 1 1 1 1 1 1 1 1 1 1 1 1 1 1 1 1 1 1 1 1 1 1 1 1 1 1 1 1 1 1 1 1 1 1 1 1 1 1 1 1 1 1 1 1 1 1 1 1 1 1 1 1 1 1 1 1 1 1 1 1 1 1 1 1 1 1 1 1 1 1 1 1 1 1 1 1 1 1 1 1 1 1 1 1 1 1 1 1 1 1 1 1 1 1 1 1 1 1 1 1 1 1 1 1 1 1 1\n"
     ]
    },
    {
     "name": "stderr",
     "output_type": "stream",
     "text": [
      "I0620 08:25:40.589899 139737458554624 tf_logging.py:115] input_mask: 1 1 1 1 1 1 1 1 1 1 1 1 1 1 1 1 1 1 1 1 1 1 1 1 1 1 1 1 1 1 1 1 1 1 1 1 1 1 1 1 1 1 1 1 1 1 1 1 1 1 1 1 1 1 1 1 1 1 1 1 1 1 1 1 1 1 1 1 1 1 1 1 1 1 1 1 1 1 1 1 1 1 1 1 1 1 1 1 1 1 1 1 1 1 1 1 1 1 1 1 1 1 1 1 1 1 1 1 1 1 1 1 1 1 1 1 1 1 1 1 1 1 1 1 1 1 1 1\n"
     ]
    },
    {
     "name": "stdout",
     "output_type": "stream",
     "text": [
      "INFO:tensorflow:segment_ids: 0 0 0 0 0 0 0 0 0 0 0 0 0 0 0 0 0 0 0 0 0 0 0 0 0 0 0 0 0 0 0 0 0 0 0 0 0 0 0 0 0 0 0 0 0 0 0 0 0 0 0 0 0 0 0 0 0 0 0 0 0 0 0 0 0 1 1 1 1 1 1 1 1 1 1 1 1 1 1 1 1 1 1 1 1 1 1 1 1 1 1 1 1 1 1 1 1 1 1 1 1 1 1 1 1 1 1 1 1 1 1 1 1 1 1 1 1 1 1 1 1 1 1 1 1 1 1 1\n"
     ]
    },
    {
     "name": "stderr",
     "output_type": "stream",
     "text": [
      "I0620 08:25:40.590384 139737458554624 tf_logging.py:115] segment_ids: 0 0 0 0 0 0 0 0 0 0 0 0 0 0 0 0 0 0 0 0 0 0 0 0 0 0 0 0 0 0 0 0 0 0 0 0 0 0 0 0 0 0 0 0 0 0 0 0 0 0 0 0 0 0 0 0 0 0 0 0 0 0 0 0 0 1 1 1 1 1 1 1 1 1 1 1 1 1 1 1 1 1 1 1 1 1 1 1 1 1 1 1 1 1 1 1 1 1 1 1 1 1 1 1 1 1 1 1 1 1 1 1 1 1 1 1 1 1 1 1 1 1 1 1 1 1 1 1\n"
     ]
    },
    {
     "name": "stdout",
     "output_type": "stream",
     "text": [
      "INFO:tensorflow:label: 1 (id = 1)\n"
     ]
    },
    {
     "name": "stderr",
     "output_type": "stream",
     "text": [
      "I0620 08:25:40.591563 139737458554624 tf_logging.py:115] label: 1 (id = 1)\n"
     ]
    },
    {
     "name": "stdout",
     "output_type": "stream",
     "text": [
      "INFO:tensorflow:*** Example ***\n"
     ]
    },
    {
     "name": "stderr",
     "output_type": "stream",
     "text": [
      "I0620 08:25:40.595087 139737458554624 tf_logging.py:115] *** Example ***\n"
     ]
    },
    {
     "name": "stdout",
     "output_type": "stream",
     "text": [
      "INFO:tensorflow:guid: None\n"
     ]
    },
    {
     "name": "stderr",
     "output_type": "stream",
     "text": [
      "I0620 08:25:40.596095 139737458554624 tf_logging.py:115] guid: None\n"
     ]
    },
    {
     "name": "stdout",
     "output_type": "stream",
     "text": [
      "INFO:tensorflow:tokens: [CLS] you have the kennedy bill , which would raise the minimum wage on a graduated basis to a dollar and a quarter in 3 years , and which would expand coverage to 5 million people not presently covered . you have the house bill , which would raise the minimum wage to $ 1 . 15 in 1 year , and which would [SEP] i think for the last 8 years we have had a government frozen in the ice of its own indifference . as long as there are 15 million americans living in sub ##stand ##ard housing , as long as the average unemployment compensation check for workers thrown out of work in this country is $ 32 a week , as long as [SEP]\n"
     ]
    },
    {
     "name": "stderr",
     "output_type": "stream",
     "text": [
      "I0620 08:25:40.596951 139737458554624 tf_logging.py:115] tokens: [CLS] you have the kennedy bill , which would raise the minimum wage on a graduated basis to a dollar and a quarter in 3 years , and which would expand coverage to 5 million people not presently covered . you have the house bill , which would raise the minimum wage to $ 1 . 15 in 1 year , and which would [SEP] i think for the last 8 years we have had a government frozen in the ice of its own indifference . as long as there are 15 million americans living in sub ##stand ##ard housing , as long as the average unemployment compensation check for workers thrown out of work in this country is $ 32 a week , as long as [SEP]\n"
     ]
    },
    {
     "name": "stdout",
     "output_type": "stream",
     "text": [
      "INFO:tensorflow:input_ids: 101 2017 2031 1996 5817 3021 1010 2029 2052 5333 1996 6263 11897 2006 1037 3852 3978 2000 1037 7922 1998 1037 4284 1999 1017 2086 1010 1998 2029 2052 7818 6325 2000 1019 2454 2111 2025 12825 3139 1012 2017 2031 1996 2160 3021 1010 2029 2052 5333 1996 6263 11897 2000 1002 1015 1012 2321 1999 1015 2095 1010 1998 2029 2052 102 1045 2228 2005 1996 2197 1022 2086 2057 2031 2018 1037 2231 7708 1999 1996 3256 1997 2049 2219 25920 1012 2004 2146 2004 2045 2024 2321 2454 4841 2542 1999 4942 21515 4232 3847 1010 2004 2146 2004 1996 2779 12163 9430 4638 2005 3667 6908 2041 1997 2147 1999 2023 2406 2003 1002 3590 1037 2733 1010 2004 2146 2004 102\n"
     ]
    },
    {
     "name": "stderr",
     "output_type": "stream",
     "text": [
      "I0620 08:25:40.597601 139737458554624 tf_logging.py:115] input_ids: 101 2017 2031 1996 5817 3021 1010 2029 2052 5333 1996 6263 11897 2006 1037 3852 3978 2000 1037 7922 1998 1037 4284 1999 1017 2086 1010 1998 2029 2052 7818 6325 2000 1019 2454 2111 2025 12825 3139 1012 2017 2031 1996 2160 3021 1010 2029 2052 5333 1996 6263 11897 2000 1002 1015 1012 2321 1999 1015 2095 1010 1998 2029 2052 102 1045 2228 2005 1996 2197 1022 2086 2057 2031 2018 1037 2231 7708 1999 1996 3256 1997 2049 2219 25920 1012 2004 2146 2004 2045 2024 2321 2454 4841 2542 1999 4942 21515 4232 3847 1010 2004 2146 2004 1996 2779 12163 9430 4638 2005 3667 6908 2041 1997 2147 1999 2023 2406 2003 1002 3590 1037 2733 1010 2004 2146 2004 102\n"
     ]
    },
    {
     "name": "stdout",
     "output_type": "stream",
     "text": [
      "INFO:tensorflow:input_mask: 1 1 1 1 1 1 1 1 1 1 1 1 1 1 1 1 1 1 1 1 1 1 1 1 1 1 1 1 1 1 1 1 1 1 1 1 1 1 1 1 1 1 1 1 1 1 1 1 1 1 1 1 1 1 1 1 1 1 1 1 1 1 1 1 1 1 1 1 1 1 1 1 1 1 1 1 1 1 1 1 1 1 1 1 1 1 1 1 1 1 1 1 1 1 1 1 1 1 1 1 1 1 1 1 1 1 1 1 1 1 1 1 1 1 1 1 1 1 1 1 1 1 1 1 1 1 1 1\n"
     ]
    },
    {
     "name": "stderr",
     "output_type": "stream",
     "text": [
      "I0620 08:25:40.598176 139737458554624 tf_logging.py:115] input_mask: 1 1 1 1 1 1 1 1 1 1 1 1 1 1 1 1 1 1 1 1 1 1 1 1 1 1 1 1 1 1 1 1 1 1 1 1 1 1 1 1 1 1 1 1 1 1 1 1 1 1 1 1 1 1 1 1 1 1 1 1 1 1 1 1 1 1 1 1 1 1 1 1 1 1 1 1 1 1 1 1 1 1 1 1 1 1 1 1 1 1 1 1 1 1 1 1 1 1 1 1 1 1 1 1 1 1 1 1 1 1 1 1 1 1 1 1 1 1 1 1 1 1 1 1 1 1 1 1\n"
     ]
    },
    {
     "name": "stdout",
     "output_type": "stream",
     "text": [
      "INFO:tensorflow:segment_ids: 0 0 0 0 0 0 0 0 0 0 0 0 0 0 0 0 0 0 0 0 0 0 0 0 0 0 0 0 0 0 0 0 0 0 0 0 0 0 0 0 0 0 0 0 0 0 0 0 0 0 0 0 0 0 0 0 0 0 0 0 0 0 0 0 0 1 1 1 1 1 1 1 1 1 1 1 1 1 1 1 1 1 1 1 1 1 1 1 1 1 1 1 1 1 1 1 1 1 1 1 1 1 1 1 1 1 1 1 1 1 1 1 1 1 1 1 1 1 1 1 1 1 1 1 1 1 1 1\n"
     ]
    },
    {
     "name": "stderr",
     "output_type": "stream",
     "text": [
      "I0620 08:25:40.598635 139737458554624 tf_logging.py:115] segment_ids: 0 0 0 0 0 0 0 0 0 0 0 0 0 0 0 0 0 0 0 0 0 0 0 0 0 0 0 0 0 0 0 0 0 0 0 0 0 0 0 0 0 0 0 0 0 0 0 0 0 0 0 0 0 0 0 0 0 0 0 0 0 0 0 0 0 1 1 1 1 1 1 1 1 1 1 1 1 1 1 1 1 1 1 1 1 1 1 1 1 1 1 1 1 1 1 1 1 1 1 1 1 1 1 1 1 1 1 1 1 1 1 1 1 1 1 1 1 1 1 1 1 1 1 1 1 1 1 1\n"
     ]
    },
    {
     "name": "stdout",
     "output_type": "stream",
     "text": [
      "INFO:tensorflow:label: 1 (id = 1)\n"
     ]
    },
    {
     "name": "stderr",
     "output_type": "stream",
     "text": [
      "I0620 08:25:40.599405 139737458554624 tf_logging.py:115] label: 1 (id = 1)\n"
     ]
    },
    {
     "name": "stdout",
     "output_type": "stream",
     "text": [
      "INFO:tensorflow:Writing example 0 of 200\n"
     ]
    },
    {
     "name": "stderr",
     "output_type": "stream",
     "text": [
      "I0620 08:25:43.238618 139737458554624 tf_logging.py:115] Writing example 0 of 200\n"
     ]
    },
    {
     "name": "stdout",
     "output_type": "stream",
     "text": [
      "INFO:tensorflow:*** Example ***\n"
     ]
    },
    {
     "name": "stderr",
     "output_type": "stream",
     "text": [
      "I0620 08:25:43.242223 139737458554624 tf_logging.py:115] *** Example ***\n"
     ]
    },
    {
     "name": "stdout",
     "output_type": "stream",
     "text": [
      "INFO:tensorflow:guid: None\n"
     ]
    },
    {
     "name": "stderr",
     "output_type": "stream",
     "text": [
      "I0620 08:25:43.243161 139737458554624 tf_logging.py:115] guid: None\n"
     ]
    },
    {
     "name": "stdout",
     "output_type": "stream",
     "text": [
      "INFO:tensorflow:tokens: [CLS] these are the times that you can read and have the time to read that you will never have later , and you can get the opportunity to special ##ize much later . you can learn about political science by participating in political organizations , and i would say certainly a political science course under the very able people who ins ##truct you in our colleges and universities is worth while , but particularly to those who want to enter public service , if [SEP] they ' re going to stir up trouble . we ' re going to have trouble not only in cuba but in japan and all over the world . why ? because they ' re going to stir them up . [SEP]\n"
     ]
    },
    {
     "name": "stderr",
     "output_type": "stream",
     "text": [
      "I0620 08:25:43.244803 139737458554624 tf_logging.py:115] tokens: [CLS] these are the times that you can read and have the time to read that you will never have later , and you can get the opportunity to special ##ize much later . you can learn about political science by participating in political organizations , and i would say certainly a political science course under the very able people who ins ##truct you in our colleges and universities is worth while , but particularly to those who want to enter public service , if [SEP] they ' re going to stir up trouble . we ' re going to have trouble not only in cuba but in japan and all over the world . why ? because they ' re going to stir them up . [SEP]\n"
     ]
    },
    {
     "name": "stdout",
     "output_type": "stream",
     "text": [
      "INFO:tensorflow:input_ids: 101 2122 2024 1996 2335 2008 2017 2064 3191 1998 2031 1996 2051 2000 3191 2008 2017 2097 2196 2031 2101 1010 1998 2017 2064 2131 1996 4495 2000 2569 4697 2172 2101 1012 2017 2064 4553 2055 2576 2671 2011 8019 1999 2576 4411 1010 1998 1045 2052 2360 5121 1037 2576 2671 2607 2104 1996 2200 2583 2111 2040 16021 18300 2017 1999 2256 6667 1998 5534 2003 4276 2096 1010 2021 3391 2000 2216 2040 2215 2000 4607 2270 2326 1010 2065 102 2027 1005 2128 2183 2000 16130 2039 4390 1012 2057 1005 2128 2183 2000 2031 4390 2025 2069 1999 7394 2021 1999 2900 1998 2035 2058 1996 2088 1012 2339 1029 2138 2027 1005 2128 2183 2000 16130 2068 2039 1012 102\n"
     ]
    },
    {
     "name": "stderr",
     "output_type": "stream",
     "text": [
      "I0620 08:25:43.245572 139737458554624 tf_logging.py:115] input_ids: 101 2122 2024 1996 2335 2008 2017 2064 3191 1998 2031 1996 2051 2000 3191 2008 2017 2097 2196 2031 2101 1010 1998 2017 2064 2131 1996 4495 2000 2569 4697 2172 2101 1012 2017 2064 4553 2055 2576 2671 2011 8019 1999 2576 4411 1010 1998 1045 2052 2360 5121 1037 2576 2671 2607 2104 1996 2200 2583 2111 2040 16021 18300 2017 1999 2256 6667 1998 5534 2003 4276 2096 1010 2021 3391 2000 2216 2040 2215 2000 4607 2270 2326 1010 2065 102 2027 1005 2128 2183 2000 16130 2039 4390 1012 2057 1005 2128 2183 2000 2031 4390 2025 2069 1999 7394 2021 1999 2900 1998 2035 2058 1996 2088 1012 2339 1029 2138 2027 1005 2128 2183 2000 16130 2068 2039 1012 102\n"
     ]
    },
    {
     "name": "stdout",
     "output_type": "stream",
     "text": [
      "INFO:tensorflow:input_mask: 1 1 1 1 1 1 1 1 1 1 1 1 1 1 1 1 1 1 1 1 1 1 1 1 1 1 1 1 1 1 1 1 1 1 1 1 1 1 1 1 1 1 1 1 1 1 1 1 1 1 1 1 1 1 1 1 1 1 1 1 1 1 1 1 1 1 1 1 1 1 1 1 1 1 1 1 1 1 1 1 1 1 1 1 1 1 1 1 1 1 1 1 1 1 1 1 1 1 1 1 1 1 1 1 1 1 1 1 1 1 1 1 1 1 1 1 1 1 1 1 1 1 1 1 1 1 1 1\n"
     ]
    },
    {
     "name": "stderr",
     "output_type": "stream",
     "text": [
      "I0620 08:25:43.247216 139737458554624 tf_logging.py:115] input_mask: 1 1 1 1 1 1 1 1 1 1 1 1 1 1 1 1 1 1 1 1 1 1 1 1 1 1 1 1 1 1 1 1 1 1 1 1 1 1 1 1 1 1 1 1 1 1 1 1 1 1 1 1 1 1 1 1 1 1 1 1 1 1 1 1 1 1 1 1 1 1 1 1 1 1 1 1 1 1 1 1 1 1 1 1 1 1 1 1 1 1 1 1 1 1 1 1 1 1 1 1 1 1 1 1 1 1 1 1 1 1 1 1 1 1 1 1 1 1 1 1 1 1 1 1 1 1 1 1\n"
     ]
    },
    {
     "name": "stdout",
     "output_type": "stream",
     "text": [
      "INFO:tensorflow:segment_ids: 0 0 0 0 0 0 0 0 0 0 0 0 0 0 0 0 0 0 0 0 0 0 0 0 0 0 0 0 0 0 0 0 0 0 0 0 0 0 0 0 0 0 0 0 0 0 0 0 0 0 0 0 0 0 0 0 0 0 0 0 0 0 0 0 0 0 0 0 0 0 0 0 0 0 0 0 0 0 0 0 0 0 0 0 0 0 1 1 1 1 1 1 1 1 1 1 1 1 1 1 1 1 1 1 1 1 1 1 1 1 1 1 1 1 1 1 1 1 1 1 1 1 1 1 1 1 1 1\n"
     ]
    },
    {
     "name": "stderr",
     "output_type": "stream",
     "text": [
      "I0620 08:25:43.247849 139737458554624 tf_logging.py:115] segment_ids: 0 0 0 0 0 0 0 0 0 0 0 0 0 0 0 0 0 0 0 0 0 0 0 0 0 0 0 0 0 0 0 0 0 0 0 0 0 0 0 0 0 0 0 0 0 0 0 0 0 0 0 0 0 0 0 0 0 0 0 0 0 0 0 0 0 0 0 0 0 0 0 0 0 0 0 0 0 0 0 0 0 0 0 0 0 0 1 1 1 1 1 1 1 1 1 1 1 1 1 1 1 1 1 1 1 1 1 1 1 1 1 1 1 1 1 1 1 1 1 1 1 1 1 1 1 1 1 1\n"
     ]
    },
    {
     "name": "stdout",
     "output_type": "stream",
     "text": [
      "INFO:tensorflow:label: 1 (id = 1)\n"
     ]
    },
    {
     "name": "stderr",
     "output_type": "stream",
     "text": [
      "I0620 08:25:43.248372 139737458554624 tf_logging.py:115] label: 1 (id = 1)\n"
     ]
    },
    {
     "name": "stdout",
     "output_type": "stream",
     "text": [
      "INFO:tensorflow:*** Example ***\n"
     ]
    },
    {
     "name": "stderr",
     "output_type": "stream",
     "text": [
      "I0620 08:25:43.251230 139737458554624 tf_logging.py:115] *** Example ***\n"
     ]
    },
    {
     "name": "stdout",
     "output_type": "stream",
     "text": [
      "INFO:tensorflow:guid: None\n"
     ]
    },
    {
     "name": "stderr",
     "output_type": "stream",
     "text": [
      "I0620 08:25:43.251862 139737458554624 tf_logging.py:115] guid: None\n"
     ]
    },
    {
     "name": "stdout",
     "output_type": "stream",
     "text": [
      "INFO:tensorflow:tokens: [CLS] they stem from the administration of woodrow wilson and franklin roosevelt and harry truman . they are the efforts which democratic presidents and democratic congresses have made to write into law a whole platform of social legislation , which permits all americans to participate in our standard of living , minimum wage , social security , unemployment compensation , housing , aid to education , medical [SEP] [ applause . ] social security , unemployment compensation , housing legislation , care for the aged - all of these programs - civil rights - in 1953 and 1954 the republican party controlled the white house , the senate and the house . not one single civil rights bill saw the light of day in either body . [SEP]\n"
     ]
    },
    {
     "name": "stderr",
     "output_type": "stream",
     "text": [
      "I0620 08:25:43.252340 139737458554624 tf_logging.py:115] tokens: [CLS] they stem from the administration of woodrow wilson and franklin roosevelt and harry truman . they are the efforts which democratic presidents and democratic congresses have made to write into law a whole platform of social legislation , which permits all americans to participate in our standard of living , minimum wage , social security , unemployment compensation , housing , aid to education , medical [SEP] [ applause . ] social security , unemployment compensation , housing legislation , care for the aged - all of these programs - civil rights - in 1953 and 1954 the republican party controlled the white house , the senate and the house . not one single civil rights bill saw the light of day in either body . [SEP]\n"
     ]
    },
    {
     "name": "stdout",
     "output_type": "stream",
     "text": [
      "INFO:tensorflow:input_ids: 101 2027 7872 2013 1996 3447 1997 23954 4267 1998 5951 8573 1998 4302 15237 1012 2027 2024 1996 4073 2029 3537 11274 1998 3537 24460 2031 2081 2000 4339 2046 2375 1037 2878 4132 1997 2591 6094 1010 2029 14245 2035 4841 2000 5589 1999 2256 3115 1997 2542 1010 6263 11897 1010 2591 3036 1010 12163 9430 1010 3847 1010 4681 2000 2495 1010 2966 102 1031 20737 1012 1033 2591 3036 1010 12163 9430 1010 3847 6094 1010 2729 2005 1996 4793 1011 2035 1997 2122 3454 1011 2942 2916 1011 1999 4052 1998 4051 1996 3951 2283 4758 1996 2317 2160 1010 1996 4001 1998 1996 2160 1012 2025 2028 2309 2942 2916 3021 2387 1996 2422 1997 2154 1999 2593 2303 1012 102\n"
     ]
    },
    {
     "name": "stderr",
     "output_type": "stream",
     "text": [
      "I0620 08:25:43.252839 139737458554624 tf_logging.py:115] input_ids: 101 2027 7872 2013 1996 3447 1997 23954 4267 1998 5951 8573 1998 4302 15237 1012 2027 2024 1996 4073 2029 3537 11274 1998 3537 24460 2031 2081 2000 4339 2046 2375 1037 2878 4132 1997 2591 6094 1010 2029 14245 2035 4841 2000 5589 1999 2256 3115 1997 2542 1010 6263 11897 1010 2591 3036 1010 12163 9430 1010 3847 1010 4681 2000 2495 1010 2966 102 1031 20737 1012 1033 2591 3036 1010 12163 9430 1010 3847 6094 1010 2729 2005 1996 4793 1011 2035 1997 2122 3454 1011 2942 2916 1011 1999 4052 1998 4051 1996 3951 2283 4758 1996 2317 2160 1010 1996 4001 1998 1996 2160 1012 2025 2028 2309 2942 2916 3021 2387 1996 2422 1997 2154 1999 2593 2303 1012 102\n"
     ]
    },
    {
     "name": "stdout",
     "output_type": "stream",
     "text": [
      "INFO:tensorflow:input_mask: 1 1 1 1 1 1 1 1 1 1 1 1 1 1 1 1 1 1 1 1 1 1 1 1 1 1 1 1 1 1 1 1 1 1 1 1 1 1 1 1 1 1 1 1 1 1 1 1 1 1 1 1 1 1 1 1 1 1 1 1 1 1 1 1 1 1 1 1 1 1 1 1 1 1 1 1 1 1 1 1 1 1 1 1 1 1 1 1 1 1 1 1 1 1 1 1 1 1 1 1 1 1 1 1 1 1 1 1 1 1 1 1 1 1 1 1 1 1 1 1 1 1 1 1 1 1 1 1\n"
     ]
    },
    {
     "name": "stderr",
     "output_type": "stream",
     "text": [
      "I0620 08:25:43.253342 139737458554624 tf_logging.py:115] input_mask: 1 1 1 1 1 1 1 1 1 1 1 1 1 1 1 1 1 1 1 1 1 1 1 1 1 1 1 1 1 1 1 1 1 1 1 1 1 1 1 1 1 1 1 1 1 1 1 1 1 1 1 1 1 1 1 1 1 1 1 1 1 1 1 1 1 1 1 1 1 1 1 1 1 1 1 1 1 1 1 1 1 1 1 1 1 1 1 1 1 1 1 1 1 1 1 1 1 1 1 1 1 1 1 1 1 1 1 1 1 1 1 1 1 1 1 1 1 1 1 1 1 1 1 1 1 1 1 1\n"
     ]
    },
    {
     "name": "stdout",
     "output_type": "stream",
     "text": [
      "INFO:tensorflow:segment_ids: 0 0 0 0 0 0 0 0 0 0 0 0 0 0 0 0 0 0 0 0 0 0 0 0 0 0 0 0 0 0 0 0 0 0 0 0 0 0 0 0 0 0 0 0 0 0 0 0 0 0 0 0 0 0 0 0 0 0 0 0 0 0 0 0 0 0 0 0 1 1 1 1 1 1 1 1 1 1 1 1 1 1 1 1 1 1 1 1 1 1 1 1 1 1 1 1 1 1 1 1 1 1 1 1 1 1 1 1 1 1 1 1 1 1 1 1 1 1 1 1 1 1 1 1 1 1 1 1\n"
     ]
    },
    {
     "name": "stderr",
     "output_type": "stream",
     "text": [
      "I0620 08:25:43.253833 139737458554624 tf_logging.py:115] segment_ids: 0 0 0 0 0 0 0 0 0 0 0 0 0 0 0 0 0 0 0 0 0 0 0 0 0 0 0 0 0 0 0 0 0 0 0 0 0 0 0 0 0 0 0 0 0 0 0 0 0 0 0 0 0 0 0 0 0 0 0 0 0 0 0 0 0 0 0 0 1 1 1 1 1 1 1 1 1 1 1 1 1 1 1 1 1 1 1 1 1 1 1 1 1 1 1 1 1 1 1 1 1 1 1 1 1 1 1 1 1 1 1 1 1 1 1 1 1 1 1 1 1 1 1 1 1 1 1 1\n"
     ]
    },
    {
     "name": "stdout",
     "output_type": "stream",
     "text": [
      "INFO:tensorflow:label: 0 (id = 0)\n"
     ]
    },
    {
     "name": "stderr",
     "output_type": "stream",
     "text": [
      "I0620 08:25:43.254300 139737458554624 tf_logging.py:115] label: 0 (id = 0)\n"
     ]
    },
    {
     "name": "stdout",
     "output_type": "stream",
     "text": [
      "INFO:tensorflow:*** Example ***\n"
     ]
    },
    {
     "name": "stderr",
     "output_type": "stream",
     "text": [
      "I0620 08:25:43.260413 139737458554624 tf_logging.py:115] *** Example ***\n"
     ]
    },
    {
     "name": "stdout",
     "output_type": "stream",
     "text": [
      "INFO:tensorflow:guid: None\n"
     ]
    },
    {
     "name": "stderr",
     "output_type": "stream",
     "text": [
      "I0620 08:25:43.264553 139737458554624 tf_logging.py:115] guid: None\n"
     ]
    },
    {
     "name": "stdout",
     "output_type": "stream",
     "text": [
      "INFO:tensorflow:tokens: [CLS] meanwhile , the contradictory statements of senator kennedy still leave him opposed to this position . the miss ##tate ##ment : in the second debate senator kennedy said : the republicans in recent years , not only in the last 25 years , but in the last 8 years , have opposed * * * minimum wage * * the facts : senator [SEP] we are going to have , by the middle of november , 1 million un ##sol ##d cars , the highest inventory of un ##sol ##d cars in the history of the united states . now , anyone who believes that under those conditions we should continue that kind of leadership , that supports leadership that twice , not once , but [SEP]\n"
     ]
    },
    {
     "name": "stderr",
     "output_type": "stream",
     "text": [
      "I0620 08:25:43.265731 139737458554624 tf_logging.py:115] tokens: [CLS] meanwhile , the contradictory statements of senator kennedy still leave him opposed to this position . the miss ##tate ##ment : in the second debate senator kennedy said : the republicans in recent years , not only in the last 25 years , but in the last 8 years , have opposed * * * minimum wage * * the facts : senator [SEP] we are going to have , by the middle of november , 1 million un ##sol ##d cars , the highest inventory of un ##sol ##d cars in the history of the united states . now , anyone who believes that under those conditions we should continue that kind of leadership , that supports leadership that twice , not once , but [SEP]\n"
     ]
    },
    {
     "name": "stdout",
     "output_type": "stream",
     "text": [
      "INFO:tensorflow:input_ids: 101 5564 1010 1996 27894 8635 1997 5205 5817 2145 2681 2032 4941 2000 2023 2597 1012 1996 3335 12259 3672 1024 1999 1996 2117 5981 5205 5817 2056 1024 1996 10643 1999 3522 2086 1010 2025 2069 1999 1996 2197 2423 2086 1010 2021 1999 1996 2197 1022 2086 1010 2031 4941 1008 1008 1008 6263 11897 1008 1008 1996 8866 1024 5205 102 2057 2024 2183 2000 2031 1010 2011 1996 2690 1997 2281 1010 1015 2454 4895 19454 2094 3765 1010 1996 3284 12612 1997 4895 19454 2094 3765 1999 1996 2381 1997 1996 2142 2163 1012 2085 1010 3087 2040 7164 2008 2104 2216 3785 2057 2323 3613 2008 2785 1997 4105 1010 2008 6753 4105 2008 3807 1010 2025 2320 1010 2021 102\n"
     ]
    },
    {
     "name": "stderr",
     "output_type": "stream",
     "text": [
      "I0620 08:25:43.266404 139737458554624 tf_logging.py:115] input_ids: 101 5564 1010 1996 27894 8635 1997 5205 5817 2145 2681 2032 4941 2000 2023 2597 1012 1996 3335 12259 3672 1024 1999 1996 2117 5981 5205 5817 2056 1024 1996 10643 1999 3522 2086 1010 2025 2069 1999 1996 2197 2423 2086 1010 2021 1999 1996 2197 1022 2086 1010 2031 4941 1008 1008 1008 6263 11897 1008 1008 1996 8866 1024 5205 102 2057 2024 2183 2000 2031 1010 2011 1996 2690 1997 2281 1010 1015 2454 4895 19454 2094 3765 1010 1996 3284 12612 1997 4895 19454 2094 3765 1999 1996 2381 1997 1996 2142 2163 1012 2085 1010 3087 2040 7164 2008 2104 2216 3785 2057 2323 3613 2008 2785 1997 4105 1010 2008 6753 4105 2008 3807 1010 2025 2320 1010 2021 102\n"
     ]
    },
    {
     "name": "stdout",
     "output_type": "stream",
     "text": [
      "INFO:tensorflow:input_mask: 1 1 1 1 1 1 1 1 1 1 1 1 1 1 1 1 1 1 1 1 1 1 1 1 1 1 1 1 1 1 1 1 1 1 1 1 1 1 1 1 1 1 1 1 1 1 1 1 1 1 1 1 1 1 1 1 1 1 1 1 1 1 1 1 1 1 1 1 1 1 1 1 1 1 1 1 1 1 1 1 1 1 1 1 1 1 1 1 1 1 1 1 1 1 1 1 1 1 1 1 1 1 1 1 1 1 1 1 1 1 1 1 1 1 1 1 1 1 1 1 1 1 1 1 1 1 1 1\n"
     ]
    },
    {
     "name": "stderr",
     "output_type": "stream",
     "text": [
      "I0620 08:25:43.267040 139737458554624 tf_logging.py:115] input_mask: 1 1 1 1 1 1 1 1 1 1 1 1 1 1 1 1 1 1 1 1 1 1 1 1 1 1 1 1 1 1 1 1 1 1 1 1 1 1 1 1 1 1 1 1 1 1 1 1 1 1 1 1 1 1 1 1 1 1 1 1 1 1 1 1 1 1 1 1 1 1 1 1 1 1 1 1 1 1 1 1 1 1 1 1 1 1 1 1 1 1 1 1 1 1 1 1 1 1 1 1 1 1 1 1 1 1 1 1 1 1 1 1 1 1 1 1 1 1 1 1 1 1 1 1 1 1 1 1\n"
     ]
    },
    {
     "name": "stdout",
     "output_type": "stream",
     "text": [
      "INFO:tensorflow:segment_ids: 0 0 0 0 0 0 0 0 0 0 0 0 0 0 0 0 0 0 0 0 0 0 0 0 0 0 0 0 0 0 0 0 0 0 0 0 0 0 0 0 0 0 0 0 0 0 0 0 0 0 0 0 0 0 0 0 0 0 0 0 0 0 0 0 0 1 1 1 1 1 1 1 1 1 1 1 1 1 1 1 1 1 1 1 1 1 1 1 1 1 1 1 1 1 1 1 1 1 1 1 1 1 1 1 1 1 1 1 1 1 1 1 1 1 1 1 1 1 1 1 1 1 1 1 1 1 1 1\n"
     ]
    },
    {
     "name": "stderr",
     "output_type": "stream",
     "text": [
      "I0620 08:25:43.267666 139737458554624 tf_logging.py:115] segment_ids: 0 0 0 0 0 0 0 0 0 0 0 0 0 0 0 0 0 0 0 0 0 0 0 0 0 0 0 0 0 0 0 0 0 0 0 0 0 0 0 0 0 0 0 0 0 0 0 0 0 0 0 0 0 0 0 0 0 0 0 0 0 0 0 0 0 1 1 1 1 1 1 1 1 1 1 1 1 1 1 1 1 1 1 1 1 1 1 1 1 1 1 1 1 1 1 1 1 1 1 1 1 1 1 1 1 1 1 1 1 1 1 1 1 1 1 1 1 1 1 1 1 1 1 1 1 1 1 1\n"
     ]
    },
    {
     "name": "stdout",
     "output_type": "stream",
     "text": [
      "INFO:tensorflow:label: 0 (id = 0)\n"
     ]
    },
    {
     "name": "stderr",
     "output_type": "stream",
     "text": [
      "I0620 08:25:43.268287 139737458554624 tf_logging.py:115] label: 0 (id = 0)\n"
     ]
    },
    {
     "name": "stdout",
     "output_type": "stream",
     "text": [
      "INFO:tensorflow:*** Example ***\n"
     ]
    },
    {
     "name": "stderr",
     "output_type": "stream",
     "text": [
      "I0620 08:25:43.271407 139737458554624 tf_logging.py:115] *** Example ***\n"
     ]
    },
    {
     "name": "stdout",
     "output_type": "stream",
     "text": [
      "INFO:tensorflow:guid: None\n"
     ]
    },
    {
     "name": "stderr",
     "output_type": "stream",
     "text": [
      "I0620 08:25:43.272296 139737458554624 tf_logging.py:115] guid: None\n"
     ]
    },
    {
     "name": "stdout",
     "output_type": "stream",
     "text": [
      "INFO:tensorflow:tokens: [CLS] only the president can overcome the friction ##s and differences between those agencies ; only he can we ##ld all the parts of the executive into a single ##ness of purpose in the pursuit of peace , and only the president can make the hard decisions , decisions involving peace or war , destruction or survival , which peace programs as well as [SEP] we will never be bell ##iger ##ent . we ' re always going to be willing to go the extra mile to negotiate di ##sar ##mament or anything , but we ' re never going to fall into the fatal error of what has got us in war in the past and that is let dictator ##s think that we will not [SEP]\n"
     ]
    },
    {
     "name": "stderr",
     "output_type": "stream",
     "text": [
      "I0620 08:25:43.273150 139737458554624 tf_logging.py:115] tokens: [CLS] only the president can overcome the friction ##s and differences between those agencies ; only he can we ##ld all the parts of the executive into a single ##ness of purpose in the pursuit of peace , and only the president can make the hard decisions , decisions involving peace or war , destruction or survival , which peace programs as well as [SEP] we will never be bell ##iger ##ent . we ' re always going to be willing to go the extra mile to negotiate di ##sar ##mament or anything , but we ' re never going to fall into the fatal error of what has got us in war in the past and that is let dictator ##s think that we will not [SEP]\n"
     ]
    },
    {
     "name": "stdout",
     "output_type": "stream",
     "text": [
      "INFO:tensorflow:input_ids: 101 2069 1996 2343 2064 9462 1996 15012 2015 1998 5966 2090 2216 6736 1025 2069 2002 2064 2057 6392 2035 1996 3033 1997 1996 3237 2046 1037 2309 2791 1997 3800 1999 1996 8463 1997 3521 1010 1998 2069 1996 2343 2064 2191 1996 2524 6567 1010 6567 5994 3521 2030 2162 1010 6215 2030 7691 1010 2029 3521 3454 2004 2092 2004 102 2057 2097 2196 2022 4330 17071 4765 1012 2057 1005 2128 2467 2183 2000 2022 5627 2000 2175 1996 4469 3542 2000 13676 4487 10286 28119 2030 2505 1010 2021 2057 1005 2128 2196 2183 2000 2991 2046 1996 10611 7561 1997 2054 2038 2288 2149 1999 2162 1999 1996 2627 1998 2008 2003 2292 21237 2015 2228 2008 2057 2097 2025 102\n"
     ]
    },
    {
     "name": "stderr",
     "output_type": "stream",
     "text": [
      "I0620 08:25:43.274324 139737458554624 tf_logging.py:115] input_ids: 101 2069 1996 2343 2064 9462 1996 15012 2015 1998 5966 2090 2216 6736 1025 2069 2002 2064 2057 6392 2035 1996 3033 1997 1996 3237 2046 1037 2309 2791 1997 3800 1999 1996 8463 1997 3521 1010 1998 2069 1996 2343 2064 2191 1996 2524 6567 1010 6567 5994 3521 2030 2162 1010 6215 2030 7691 1010 2029 3521 3454 2004 2092 2004 102 2057 2097 2196 2022 4330 17071 4765 1012 2057 1005 2128 2467 2183 2000 2022 5627 2000 2175 1996 4469 3542 2000 13676 4487 10286 28119 2030 2505 1010 2021 2057 1005 2128 2196 2183 2000 2991 2046 1996 10611 7561 1997 2054 2038 2288 2149 1999 2162 1999 1996 2627 1998 2008 2003 2292 21237 2015 2228 2008 2057 2097 2025 102\n"
     ]
    },
    {
     "name": "stdout",
     "output_type": "stream",
     "text": [
      "INFO:tensorflow:input_mask: 1 1 1 1 1 1 1 1 1 1 1 1 1 1 1 1 1 1 1 1 1 1 1 1 1 1 1 1 1 1 1 1 1 1 1 1 1 1 1 1 1 1 1 1 1 1 1 1 1 1 1 1 1 1 1 1 1 1 1 1 1 1 1 1 1 1 1 1 1 1 1 1 1 1 1 1 1 1 1 1 1 1 1 1 1 1 1 1 1 1 1 1 1 1 1 1 1 1 1 1 1 1 1 1 1 1 1 1 1 1 1 1 1 1 1 1 1 1 1 1 1 1 1 1 1 1 1 1\n"
     ]
    },
    {
     "name": "stderr",
     "output_type": "stream",
     "text": [
      "I0620 08:25:43.277818 139737458554624 tf_logging.py:115] input_mask: 1 1 1 1 1 1 1 1 1 1 1 1 1 1 1 1 1 1 1 1 1 1 1 1 1 1 1 1 1 1 1 1 1 1 1 1 1 1 1 1 1 1 1 1 1 1 1 1 1 1 1 1 1 1 1 1 1 1 1 1 1 1 1 1 1 1 1 1 1 1 1 1 1 1 1 1 1 1 1 1 1 1 1 1 1 1 1 1 1 1 1 1 1 1 1 1 1 1 1 1 1 1 1 1 1 1 1 1 1 1 1 1 1 1 1 1 1 1 1 1 1 1 1 1 1 1 1 1\n"
     ]
    },
    {
     "name": "stdout",
     "output_type": "stream",
     "text": [
      "INFO:tensorflow:segment_ids: 0 0 0 0 0 0 0 0 0 0 0 0 0 0 0 0 0 0 0 0 0 0 0 0 0 0 0 0 0 0 0 0 0 0 0 0 0 0 0 0 0 0 0 0 0 0 0 0 0 0 0 0 0 0 0 0 0 0 0 0 0 0 0 0 0 1 1 1 1 1 1 1 1 1 1 1 1 1 1 1 1 1 1 1 1 1 1 1 1 1 1 1 1 1 1 1 1 1 1 1 1 1 1 1 1 1 1 1 1 1 1 1 1 1 1 1 1 1 1 1 1 1 1 1 1 1 1 1\n"
     ]
    },
    {
     "name": "stderr",
     "output_type": "stream",
     "text": [
      "I0620 08:25:43.278533 139737458554624 tf_logging.py:115] segment_ids: 0 0 0 0 0 0 0 0 0 0 0 0 0 0 0 0 0 0 0 0 0 0 0 0 0 0 0 0 0 0 0 0 0 0 0 0 0 0 0 0 0 0 0 0 0 0 0 0 0 0 0 0 0 0 0 0 0 0 0 0 0 0 0 0 0 1 1 1 1 1 1 1 1 1 1 1 1 1 1 1 1 1 1 1 1 1 1 1 1 1 1 1 1 1 1 1 1 1 1 1 1 1 1 1 1 1 1 1 1 1 1 1 1 1 1 1 1 1 1 1 1 1 1 1 1 1 1 1\n"
     ]
    },
    {
     "name": "stdout",
     "output_type": "stream",
     "text": [
      "INFO:tensorflow:label: 0 (id = 0)\n"
     ]
    },
    {
     "name": "stderr",
     "output_type": "stream",
     "text": [
      "I0620 08:25:43.279109 139737458554624 tf_logging.py:115] label: 0 (id = 0)\n"
     ]
    },
    {
     "name": "stdout",
     "output_type": "stream",
     "text": [
      "INFO:tensorflow:*** Example ***\n"
     ]
    },
    {
     "name": "stderr",
     "output_type": "stream",
     "text": [
      "I0620 08:25:43.281855 139737458554624 tf_logging.py:115] *** Example ***\n"
     ]
    },
    {
     "name": "stdout",
     "output_type": "stream",
     "text": [
      "INFO:tensorflow:guid: None\n"
     ]
    },
    {
     "name": "stderr",
     "output_type": "stream",
     "text": [
      "I0620 08:25:43.282621 139737458554624 tf_logging.py:115] guid: None\n"
     ]
    },
    {
     "name": "stdout",
     "output_type": "stream",
     "text": [
      "INFO:tensorflow:tokens: [CLS] it is the kind of problem that is difficult of solution , but it is the kind of problem that the republicans never think about . they have never concerned themselves in the last 25 years with the problems of employment , of social security , of housing , of minimum wage , of social justice , of equality of treatment , of [SEP] it is our function , however , not to merely in ##vo ##ke the names of franklin roosevelt and harry truman , not to merely live off what they did , but to bring these old programs up to date . franklin roosevelt proposed a 25 - cent minimum wage , back in the middle thirties ; 90 percent of the republicans [SEP]\n"
     ]
    },
    {
     "name": "stderr",
     "output_type": "stream",
     "text": [
      "I0620 08:25:43.283126 139737458554624 tf_logging.py:115] tokens: [CLS] it is the kind of problem that is difficult of solution , but it is the kind of problem that the republicans never think about . they have never concerned themselves in the last 25 years with the problems of employment , of social security , of housing , of minimum wage , of social justice , of equality of treatment , of [SEP] it is our function , however , not to merely in ##vo ##ke the names of franklin roosevelt and harry truman , not to merely live off what they did , but to bring these old programs up to date . franklin roosevelt proposed a 25 - cent minimum wage , back in the middle thirties ; 90 percent of the republicans [SEP]\n"
     ]
    },
    {
     "name": "stdout",
     "output_type": "stream",
     "text": [
      "INFO:tensorflow:input_ids: 101 2009 2003 1996 2785 1997 3291 2008 2003 3697 1997 5576 1010 2021 2009 2003 1996 2785 1997 3291 2008 1996 10643 2196 2228 2055 1012 2027 2031 2196 4986 3209 1999 1996 2197 2423 2086 2007 1996 3471 1997 6107 1010 1997 2591 3036 1010 1997 3847 1010 1997 6263 11897 1010 1997 2591 3425 1010 1997 9945 1997 3949 1010 1997 102 2009 2003 2256 3853 1010 2174 1010 2025 2000 6414 1999 6767 3489 1996 3415 1997 5951 8573 1998 4302 15237 1010 2025 2000 6414 2444 2125 2054 2027 2106 1010 2021 2000 3288 2122 2214 3454 2039 2000 3058 1012 5951 8573 3818 1037 2423 1011 9358 6263 11897 1010 2067 1999 1996 2690 26313 1025 3938 3867 1997 1996 10643 102\n"
     ]
    },
    {
     "name": "stderr",
     "output_type": "stream",
     "text": [
      "I0620 08:25:43.283678 139737458554624 tf_logging.py:115] input_ids: 101 2009 2003 1996 2785 1997 3291 2008 2003 3697 1997 5576 1010 2021 2009 2003 1996 2785 1997 3291 2008 1996 10643 2196 2228 2055 1012 2027 2031 2196 4986 3209 1999 1996 2197 2423 2086 2007 1996 3471 1997 6107 1010 1997 2591 3036 1010 1997 3847 1010 1997 6263 11897 1010 1997 2591 3425 1010 1997 9945 1997 3949 1010 1997 102 2009 2003 2256 3853 1010 2174 1010 2025 2000 6414 1999 6767 3489 1996 3415 1997 5951 8573 1998 4302 15237 1010 2025 2000 6414 2444 2125 2054 2027 2106 1010 2021 2000 3288 2122 2214 3454 2039 2000 3058 1012 5951 8573 3818 1037 2423 1011 9358 6263 11897 1010 2067 1999 1996 2690 26313 1025 3938 3867 1997 1996 10643 102\n"
     ]
    },
    {
     "name": "stdout",
     "output_type": "stream",
     "text": [
      "INFO:tensorflow:input_mask: 1 1 1 1 1 1 1 1 1 1 1 1 1 1 1 1 1 1 1 1 1 1 1 1 1 1 1 1 1 1 1 1 1 1 1 1 1 1 1 1 1 1 1 1 1 1 1 1 1 1 1 1 1 1 1 1 1 1 1 1 1 1 1 1 1 1 1 1 1 1 1 1 1 1 1 1 1 1 1 1 1 1 1 1 1 1 1 1 1 1 1 1 1 1 1 1 1 1 1 1 1 1 1 1 1 1 1 1 1 1 1 1 1 1 1 1 1 1 1 1 1 1 1 1 1 1 1 1\n"
     ]
    },
    {
     "name": "stderr",
     "output_type": "stream",
     "text": [
      "I0620 08:25:43.284555 139737458554624 tf_logging.py:115] input_mask: 1 1 1 1 1 1 1 1 1 1 1 1 1 1 1 1 1 1 1 1 1 1 1 1 1 1 1 1 1 1 1 1 1 1 1 1 1 1 1 1 1 1 1 1 1 1 1 1 1 1 1 1 1 1 1 1 1 1 1 1 1 1 1 1 1 1 1 1 1 1 1 1 1 1 1 1 1 1 1 1 1 1 1 1 1 1 1 1 1 1 1 1 1 1 1 1 1 1 1 1 1 1 1 1 1 1 1 1 1 1 1 1 1 1 1 1 1 1 1 1 1 1 1 1 1 1 1 1\n"
     ]
    },
    {
     "name": "stdout",
     "output_type": "stream",
     "text": [
      "INFO:tensorflow:segment_ids: 0 0 0 0 0 0 0 0 0 0 0 0 0 0 0 0 0 0 0 0 0 0 0 0 0 0 0 0 0 0 0 0 0 0 0 0 0 0 0 0 0 0 0 0 0 0 0 0 0 0 0 0 0 0 0 0 0 0 0 0 0 0 0 0 0 1 1 1 1 1 1 1 1 1 1 1 1 1 1 1 1 1 1 1 1 1 1 1 1 1 1 1 1 1 1 1 1 1 1 1 1 1 1 1 1 1 1 1 1 1 1 1 1 1 1 1 1 1 1 1 1 1 1 1 1 1 1 1\n"
     ]
    },
    {
     "name": "stderr",
     "output_type": "stream",
     "text": [
      "I0620 08:25:43.285073 139737458554624 tf_logging.py:115] segment_ids: 0 0 0 0 0 0 0 0 0 0 0 0 0 0 0 0 0 0 0 0 0 0 0 0 0 0 0 0 0 0 0 0 0 0 0 0 0 0 0 0 0 0 0 0 0 0 0 0 0 0 0 0 0 0 0 0 0 0 0 0 0 0 0 0 0 1 1 1 1 1 1 1 1 1 1 1 1 1 1 1 1 1 1 1 1 1 1 1 1 1 1 1 1 1 1 1 1 1 1 1 1 1 1 1 1 1 1 1 1 1 1 1 1 1 1 1 1 1 1 1 1 1 1 1 1 1 1 1\n"
     ]
    },
    {
     "name": "stdout",
     "output_type": "stream",
     "text": [
      "INFO:tensorflow:label: 0 (id = 0)\n"
     ]
    },
    {
     "name": "stderr",
     "output_type": "stream",
     "text": [
      "I0620 08:25:43.285549 139737458554624 tf_logging.py:115] label: 0 (id = 0)\n"
     ]
    }
   ],
   "source": [
    "# Load local data\n",
    "train_df, test_df = load_local_data(data_path, dataset)\n",
    "print(train_df.head())\n",
    "\n",
    "# Create datasets (Only take up to max_seq_length words for memory)\n",
    "\n",
    "train_df = train_df.replace({'label': convert_dict})\n",
    "test_df = test_df.replace({'label': convert_dict})\n",
    "print(train_df.groupby('label').describe())\n",
    "print(test_df.groupby('label').describe())\n",
    "train = train_df.sample(frac=1)\n",
    "test = test_df.sample(frac=1)\n",
    "\n",
    "# Use org + response\n",
    "if use_org and use_resp:\n",
    "    # Use the InputExample class from BERT's run_classifier code to create examples from the data\n",
    "    train_InputExamples = train.apply(lambda x: run_classifier.InputExample(guid=None, # Globally unique ID for bookkeeping, unused in this example\n",
    "                                                                       text_a = x[ORG_COLUMN], \n",
    "                                                                       text_b = x[RESP_COLUMN], \n",
    "                                                                       label = x[LABEL_COLUMN]), axis = 1)\n",
    "\n",
    "    test_InputExamples = test.apply(lambda x: run_classifier.InputExample(guid=None, \n",
    "                                                                       text_a = x[ORG_COLUMN], \n",
    "                                                                       text_b = x[RESP_COLUMN], \n",
    "                                                                       label = x[LABEL_COLUMN]), axis = 1)\n",
    "# Use only org\n",
    "elif use_org:\n",
    "    # Use the InputExample class from BERT's run_classifier code to create examples from the data\n",
    "    train_InputExamples = train.apply(lambda x: run_classifier.InputExample(guid=None, # Globally unique ID for bookkeeping, unused in this example\n",
    "                                                                       text_a = x[ORG_COLUMN], \n",
    "                                                                       text_b = None, \n",
    "                                                                       label = x[LABEL_COLUMN]), axis = 1)\n",
    "\n",
    "    test_InputExamples = test.apply(lambda x: run_classifier.InputExample(guid=None, \n",
    "                                                                       text_a = x[ORG_COLUMN], \n",
    "                                                                       text_b = None, \n",
    "                                                                       label = x[LABEL_COLUMN]), axis = 1)\n",
    "# Use only resp\n",
    "else:\n",
    "    # Use the InputExample class from BERT's run_classifier code to create examples from the data\n",
    "    train_InputExamples = train.apply(lambda x: run_classifier.InputExample(guid=None, # Globally unique ID for bookkeeping, unused in this example\n",
    "                                                                       text_a = x[RESP_COLUMN], \n",
    "                                                                       text_b = None, \n",
    "                                                                       label = x[LABEL_COLUMN]), axis = 1)\n",
    "\n",
    "    test_InputExamples = test.apply(lambda x: run_classifier.InputExample(guid=None, \n",
    "                                                                       text_a = x[RESP_COLUMN], \n",
    "                                                                       text_b = None, \n",
    "                                                                       label = x[LABEL_COLUMN]), axis = 1)\n",
    "    \n",
    "# Convert our train and test features to InputFeatures that BERT understands.\n",
    "train_features = run_classifier.convert_examples_to_features(train_InputExamples, label_list, MAX_SEQ_LENGTH, tokenizer)\n",
    "test_features = run_classifier.convert_examples_to_features(test_InputExamples, label_list, MAX_SEQ_LENGTH, tokenizer)"
   ]
  },
  {
   "cell_type": "code",
   "execution_count": 14,
   "metadata": {},
   "outputs": [],
   "source": [
    "if not cross_val:\n",
    "    # Compute # train and warmup steps from batch size\n",
    "    num_train_steps = int(len(train_features) / BATCH_SIZE * NUM_TRAIN_EPOCHS)\n",
    "    num_warmup_steps = int(num_train_steps * WARMUP_PROPORTION)\n",
    "\n",
    "    model_fn = model_fn_builder(\n",
    "      num_labels=len(label_list),\n",
    "      learning_rate=LEARNING_RATE,\n",
    "      num_train_steps=num_train_steps,\n",
    "      num_warmup_steps=num_warmup_steps)\n",
    "\n",
    "    \"\"\"model_fn = run_classifier.model_fn_builder(\n",
    "        bert_config=BERT_CONFIG,\n",
    "        num_labels=len(label_list),\n",
    "        init_checkpoint=False,\n",
    "        learning_rate=LEARNING_RATE,\n",
    "        num_train_steps=num_train_steps,\n",
    "        num_warmup_steps=num_warmup_steps,\n",
    "        use_tpu=False,\n",
    "        use_one_hot_embeddings=False)\"\"\"\n",
    "\n",
    "    estimator = tf.estimator.Estimator(\n",
    "    #estimator = tf.contrib.tpu.TPUEstimator(\n",
    "      model_fn=model_fn,\n",
    "      config=run_config,\n",
    "      params={\"batch_size\": BATCH_SIZE})\n",
    "      #train_batch_size=BATCH_SIZE)\n",
    "\n",
    "    # Create an input function for training. drop_remainder = True for using TPUs.\n",
    "    train_input_fn = run_classifier.input_fn_builder(\n",
    "        features=train_features,\n",
    "        seq_length=MAX_SEQ_LENGTH,\n",
    "        is_training=True,\n",
    "        drop_remainder=False)\n",
    "\n",
    "    print(f'Beginning Training!')\n",
    "    current_time = datetime.now()\n",
    "    estimator.train(input_fn=train_input_fn, max_steps=num_train_steps)\n",
    "    print(\"Training took time \", datetime.now() - current_time)\n",
    "    \n",
    "    test_input_fn = run_classifier.input_fn_builder(\n",
    "    features=test_features,\n",
    "    seq_length=MAX_SEQ_LENGTH,\n",
    "    is_training=False,\n",
    "    drop_remainder=False)\n",
    "    \n",
    "    predictions = estimator.predict(input_fn=test_input_fn)\n",
    "    pred_label = [prediction['labels'] for prediction in predictions]\n",
    "    print(\"Confusion Matrix:\")\n",
    "    print(confusion_matrix(test['label'].values.astype(int), np.array(pred_label)))\n",
    "    print(\"Classification Report:\")\n",
    "    if len(set(test['label'])) == 3:\n",
    "        print(classification_report(test['label'].values.astype(int), pred_label, target_names=[\"attack\", \"support\", \"unrelated\"]))\n",
    "    else: \n",
    "        #print(classification_report(test['label'].values.astype(int), pred_label, target_names=[\"agreement\", \"disagreement\"]))\n",
    "        print(classification_report(test['label'].values.astype(int), pred_label, target_names=[\"attack\", \"support\"]))\n",
    "        #print(classification_report(test['label'].values.astype(int), pred_label, target_names=[\"relation\", \"unrelated\"]))"
   ]
  },
  {
   "cell_type": "code",
   "execution_count": 15,
   "metadata": {},
   "outputs": [],
   "source": [
    "def run_training(train_features, test_features, test, train, target_names):\n",
    "    num_train_steps = int(len(train_features) / BATCH_SIZE * NUM_TRAIN_EPOCHS)\n",
    "    num_warmup_steps = int(num_train_steps * WARMUP_PROPORTION)\n",
    "    model_fn = model_fn_builder(\n",
    "        num_labels=len(label_list),\n",
    "        learning_rate=LEARNING_RATE,\n",
    "        num_train_steps=num_train_steps,\n",
    "        num_warmup_steps=num_warmup_steps)\n",
    "    train_input_fn = run_classifier.input_fn_builder(\n",
    "        features=train_features,\n",
    "        seq_length=MAX_SEQ_LENGTH,\n",
    "        is_training=True,\n",
    "        drop_remainder=False)\n",
    "    test_input_fn = run_classifier.input_fn_builder(\n",
    "        features=test_features,\n",
    "        seq_length=MAX_SEQ_LENGTH,\n",
    "        is_training=False,\n",
    "        drop_remainder=False)\n",
    "    print(f'Beginning Training!')\n",
    "    print('test labels', test['label'].value_counts())\n",
    "    print('train labels', train['label'].value_counts())\n",
    "    current_time = datetime.now()\n",
    "    estimator = tf.estimator.Estimator(\n",
    "              model_fn=model_fn,\n",
    "              config=run_config,\n",
    "              params={\"batch_size\": BATCH_SIZE})\n",
    "    estimator = estimator.train(input_fn=train_input_fn, max_steps=num_train_steps)\n",
    "    predictions = estimator.predict(input_fn=test_input_fn, yield_single_examples=False)\n",
    "    print(predictions)\n",
    "    pred_label = np.array([])\n",
    "    pred_label = [np.append(pred_label, prediction['labels']) for prediction in predictions]\n",
    "    pred_label = np.concatenate(pred_label).ravel()\n",
    "    print(pred_label)\n",
    "    class_rep = classification_report(test['label'].values.astype(int), pred_label, labels= [0,1], target_names=target_names, output_dict=True)\n",
    "    acc = accuracy_score(test['label'].values.astype(int), pred_label)\n",
    "    print(classification_report(test['label'].values.astype(int), pred_label, target_names=target_names))\n",
    "    print(\"Accuracy:\",  acc)\n",
    "    print(\"Training took time \", datetime.now() - current_time)\n",
    "    return (class_rep, acc)\n",
    "\n",
    "def cross_validate(data):\n",
    "    results = []\n",
    "    skf = StratifiedKFold(n_splits=10)\n",
    "    for train_idx, val_idx in skf.split(data, data['label']):\n",
    "        try:\n",
    "            tf.gfile.DeleteRecursively(OUTPUT_DIR)\n",
    "        except:\n",
    "            # Doesn't matter if the directory didn't exist\n",
    "            pass\n",
    "        tf.gfile.MakeDirs(OUTPUT_DIR)\n",
    "        train = data.iloc[train_idx]\n",
    "        test = data.iloc[val_idx]\n",
    "        print(train.shape, test.shape)\n",
    "        # Use the InputExample class from BERT's run_classifier code to create examples from the data\n",
    "        train_InputExamples = train.apply(lambda x: run_classifier.InputExample(guid=None, # Globally unique ID for bookkeeping, unused in this example\n",
    "                                                                           text_a = x[ORG_COLUMN], \n",
    "                                                                           text_b = x[RESP_COLUMN], \n",
    "                                                                           label = x[LABEL_COLUMN]), axis = 1)\n",
    "\n",
    "        test_InputExamples = test.apply(lambda x: run_classifier.InputExample(guid=None, \n",
    "                                                                           text_a = x[ORG_COLUMN], \n",
    "                                                                           text_b = x[RESP_COLUMN], \n",
    "                                                                           label = x[LABEL_COLUMN]), axis = 1)\n",
    "\n",
    "        # Convert our train and test features to InputFeatures that BERT understands.\n",
    "        train_features = run_classifier.convert_examples_to_features(train_InputExamples, label_list, MAX_SEQ_LENGTH, tokenizer)\n",
    "        test_features = run_classifier.convert_examples_to_features(test_InputExamples, label_list, MAX_SEQ_LENGTH, tokenizer)\n",
    "        results.append(run_training(train_features, test_features, test, train, [\"relation\", \"unrelated\"]))\n",
    "    return results"
   ]
  },
  {
   "cell_type": "code",
   "execution_count": 16,
   "metadata": {},
   "outputs": [
    {
     "name": "stdout",
     "output_type": "stream",
     "text": [
      "(1313, 8) (147, 8)\n",
      "INFO:tensorflow:Writing example 0 of 1313\n"
     ]
    },
    {
     "name": "stderr",
     "output_type": "stream",
     "text": [
      "I0620 08:25:43.761950 139737458554624 tf_logging.py:115] Writing example 0 of 1313\n"
     ]
    },
    {
     "name": "stdout",
     "output_type": "stream",
     "text": [
      "INFO:tensorflow:*** Example ***\n"
     ]
    },
    {
     "name": "stderr",
     "output_type": "stream",
     "text": [
      "I0620 08:25:43.765559 139737458554624 tf_logging.py:115] *** Example ***\n"
     ]
    },
    {
     "name": "stdout",
     "output_type": "stream",
     "text": [
      "INFO:tensorflow:guid: None\n"
     ]
    },
    {
     "name": "stderr",
     "output_type": "stream",
     "text": [
      "I0620 08:25:43.766694 139737458554624 tf_logging.py:115] guid: None\n"
     ]
    },
    {
     "name": "stdout",
     "output_type": "stream",
     "text": [
      "INFO:tensorflow:tokens: [CLS] [ cheers . ] but you k now what could be more important than our job ? what could be more important than our education for our young people ? what could be more important than health care for our older citizens and for ourselves ? and the answer is being around to enjoy all these good things . so i say to [SEP] i have confidence in our ability to close the missile gap , to modern ##ize our conventional forces and to give this country the kind of defensive strength that stuart sy ##ming ##ton has been warning for years we will need if we are going to remain free at the end of the next years . i have confidence in this nation [SEP]\n"
     ]
    },
    {
     "name": "stderr",
     "output_type": "stream",
     "text": [
      "I0620 08:25:43.767967 139737458554624 tf_logging.py:115] tokens: [CLS] [ cheers . ] but you k now what could be more important than our job ? what could be more important than our education for our young people ? what could be more important than health care for our older citizens and for ourselves ? and the answer is being around to enjoy all these good things . so i say to [SEP] i have confidence in our ability to close the missile gap , to modern ##ize our conventional forces and to give this country the kind of defensive strength that stuart sy ##ming ##ton has been warning for years we will need if we are going to remain free at the end of the next years . i have confidence in this nation [SEP]\n"
     ]
    },
    {
     "name": "stdout",
     "output_type": "stream",
     "text": [
      "INFO:tensorflow:input_ids: 101 1031 21250 1012 1033 2021 2017 1047 2085 2054 2071 2022 2062 2590 2084 2256 3105 1029 2054 2071 2022 2062 2590 2084 2256 2495 2005 2256 2402 2111 1029 2054 2071 2022 2062 2590 2084 2740 2729 2005 2256 3080 4480 1998 2005 9731 1029 1998 1996 3437 2003 2108 2105 2000 5959 2035 2122 2204 2477 1012 2061 1045 2360 2000 102 1045 2031 7023 1999 2256 3754 2000 2485 1996 7421 6578 1010 2000 2715 4697 2256 7511 2749 1998 2000 2507 2023 2406 1996 2785 1997 5600 3997 2008 6990 25353 6562 2669 2038 2042 5432 2005 2086 2057 2097 2342 2065 2057 2024 2183 2000 3961 2489 2012 1996 2203 1997 1996 2279 2086 1012 1045 2031 7023 1999 2023 3842 102\n"
     ]
    },
    {
     "name": "stderr",
     "output_type": "stream",
     "text": [
      "I0620 08:25:43.769376 139737458554624 tf_logging.py:115] input_ids: 101 1031 21250 1012 1033 2021 2017 1047 2085 2054 2071 2022 2062 2590 2084 2256 3105 1029 2054 2071 2022 2062 2590 2084 2256 2495 2005 2256 2402 2111 1029 2054 2071 2022 2062 2590 2084 2740 2729 2005 2256 3080 4480 1998 2005 9731 1029 1998 1996 3437 2003 2108 2105 2000 5959 2035 2122 2204 2477 1012 2061 1045 2360 2000 102 1045 2031 7023 1999 2256 3754 2000 2485 1996 7421 6578 1010 2000 2715 4697 2256 7511 2749 1998 2000 2507 2023 2406 1996 2785 1997 5600 3997 2008 6990 25353 6562 2669 2038 2042 5432 2005 2086 2057 2097 2342 2065 2057 2024 2183 2000 3961 2489 2012 1996 2203 1997 1996 2279 2086 1012 1045 2031 7023 1999 2023 3842 102\n"
     ]
    },
    {
     "name": "stdout",
     "output_type": "stream",
     "text": [
      "INFO:tensorflow:input_mask: 1 1 1 1 1 1 1 1 1 1 1 1 1 1 1 1 1 1 1 1 1 1 1 1 1 1 1 1 1 1 1 1 1 1 1 1 1 1 1 1 1 1 1 1 1 1 1 1 1 1 1 1 1 1 1 1 1 1 1 1 1 1 1 1 1 1 1 1 1 1 1 1 1 1 1 1 1 1 1 1 1 1 1 1 1 1 1 1 1 1 1 1 1 1 1 1 1 1 1 1 1 1 1 1 1 1 1 1 1 1 1 1 1 1 1 1 1 1 1 1 1 1 1 1 1 1 1 1\n"
     ]
    },
    {
     "name": "stderr",
     "output_type": "stream",
     "text": [
      "I0620 08:25:43.770155 139737458554624 tf_logging.py:115] input_mask: 1 1 1 1 1 1 1 1 1 1 1 1 1 1 1 1 1 1 1 1 1 1 1 1 1 1 1 1 1 1 1 1 1 1 1 1 1 1 1 1 1 1 1 1 1 1 1 1 1 1 1 1 1 1 1 1 1 1 1 1 1 1 1 1 1 1 1 1 1 1 1 1 1 1 1 1 1 1 1 1 1 1 1 1 1 1 1 1 1 1 1 1 1 1 1 1 1 1 1 1 1 1 1 1 1 1 1 1 1 1 1 1 1 1 1 1 1 1 1 1 1 1 1 1 1 1 1 1\n"
     ]
    },
    {
     "name": "stdout",
     "output_type": "stream",
     "text": [
      "INFO:tensorflow:segment_ids: 0 0 0 0 0 0 0 0 0 0 0 0 0 0 0 0 0 0 0 0 0 0 0 0 0 0 0 0 0 0 0 0 0 0 0 0 0 0 0 0 0 0 0 0 0 0 0 0 0 0 0 0 0 0 0 0 0 0 0 0 0 0 0 0 0 1 1 1 1 1 1 1 1 1 1 1 1 1 1 1 1 1 1 1 1 1 1 1 1 1 1 1 1 1 1 1 1 1 1 1 1 1 1 1 1 1 1 1 1 1 1 1 1 1 1 1 1 1 1 1 1 1 1 1 1 1 1 1\n"
     ]
    },
    {
     "name": "stderr",
     "output_type": "stream",
     "text": [
      "I0620 08:25:43.770814 139737458554624 tf_logging.py:115] segment_ids: 0 0 0 0 0 0 0 0 0 0 0 0 0 0 0 0 0 0 0 0 0 0 0 0 0 0 0 0 0 0 0 0 0 0 0 0 0 0 0 0 0 0 0 0 0 0 0 0 0 0 0 0 0 0 0 0 0 0 0 0 0 0 0 0 0 1 1 1 1 1 1 1 1 1 1 1 1 1 1 1 1 1 1 1 1 1 1 1 1 1 1 1 1 1 1 1 1 1 1 1 1 1 1 1 1 1 1 1 1 1 1 1 1 1 1 1 1 1 1 1 1 1 1 1 1 1 1 1\n"
     ]
    },
    {
     "name": "stdout",
     "output_type": "stream",
     "text": [
      "INFO:tensorflow:label: 0 (id = 0)\n"
     ]
    },
    {
     "name": "stderr",
     "output_type": "stream",
     "text": [
      "I0620 08:25:43.771403 139737458554624 tf_logging.py:115] label: 0 (id = 0)\n"
     ]
    },
    {
     "name": "stdout",
     "output_type": "stream",
     "text": [
      "INFO:tensorflow:*** Example ***\n"
     ]
    },
    {
     "name": "stderr",
     "output_type": "stream",
     "text": [
      "I0620 08:25:43.773463 139737458554624 tf_logging.py:115] *** Example ***\n"
     ]
    },
    {
     "name": "stdout",
     "output_type": "stream",
     "text": [
      "INFO:tensorflow:guid: None\n"
     ]
    },
    {
     "name": "stderr",
     "output_type": "stream",
     "text": [
      "I0620 08:25:43.779324 139737458554624 tf_logging.py:115] guid: None\n"
     ]
    },
    {
     "name": "stdout",
     "output_type": "stream",
     "text": [
      "INFO:tensorflow:tokens: [CLS] and this administration has failed to recognize the decisive nature of what science is doing to our hopes for the future . this administration has had less than 100 people working in the entire national administration on the subject of di ##sar ##mament . we have gone into every conference un ##pre ##par ##ed . [SEP] they would use it because their aim is to conquer the world . so , my friends , let me say this : we will work for di ##sar ##mament , yes . we will work to stop tests and get an agreement , yes ; but we will never agree to anything unless we are sure they are going to keep the bargain because that ' s how america [SEP]\n"
     ]
    },
    {
     "name": "stderr",
     "output_type": "stream",
     "text": [
      "I0620 08:25:43.780908 139737458554624 tf_logging.py:115] tokens: [CLS] and this administration has failed to recognize the decisive nature of what science is doing to our hopes for the future . this administration has had less than 100 people working in the entire national administration on the subject of di ##sar ##mament . we have gone into every conference un ##pre ##par ##ed . [SEP] they would use it because their aim is to conquer the world . so , my friends , let me say this : we will work for di ##sar ##mament , yes . we will work to stop tests and get an agreement , yes ; but we will never agree to anything unless we are sure they are going to keep the bargain because that ' s how america [SEP]\n"
     ]
    },
    {
     "name": "stdout",
     "output_type": "stream",
     "text": [
      "INFO:tensorflow:input_ids: 101 1998 2023 3447 2038 3478 2000 6807 1996 13079 3267 1997 2054 2671 2003 2725 2000 2256 8069 2005 1996 2925 1012 2023 3447 2038 2018 2625 2084 2531 2111 2551 1999 1996 2972 2120 3447 2006 1996 3395 1997 4487 10286 28119 1012 2057 2031 2908 2046 2296 3034 4895 28139 19362 2098 1012 102 2027 2052 2224 2009 2138 2037 6614 2003 2000 16152 1996 2088 1012 2061 1010 2026 2814 1010 2292 2033 2360 2023 1024 2057 2097 2147 2005 4487 10286 28119 1010 2748 1012 2057 2097 2147 2000 2644 5852 1998 2131 2019 3820 1010 2748 1025 2021 2057 2097 2196 5993 2000 2505 4983 2057 2024 2469 2027 2024 2183 2000 2562 1996 17113 2138 2008 1005 1055 2129 2637 102\n"
     ]
    },
    {
     "name": "stderr",
     "output_type": "stream",
     "text": [
      "I0620 08:25:43.781653 139737458554624 tf_logging.py:115] input_ids: 101 1998 2023 3447 2038 3478 2000 6807 1996 13079 3267 1997 2054 2671 2003 2725 2000 2256 8069 2005 1996 2925 1012 2023 3447 2038 2018 2625 2084 2531 2111 2551 1999 1996 2972 2120 3447 2006 1996 3395 1997 4487 10286 28119 1012 2057 2031 2908 2046 2296 3034 4895 28139 19362 2098 1012 102 2027 2052 2224 2009 2138 2037 6614 2003 2000 16152 1996 2088 1012 2061 1010 2026 2814 1010 2292 2033 2360 2023 1024 2057 2097 2147 2005 4487 10286 28119 1010 2748 1012 2057 2097 2147 2000 2644 5852 1998 2131 2019 3820 1010 2748 1025 2021 2057 2097 2196 5993 2000 2505 4983 2057 2024 2469 2027 2024 2183 2000 2562 1996 17113 2138 2008 1005 1055 2129 2637 102\n"
     ]
    },
    {
     "name": "stdout",
     "output_type": "stream",
     "text": [
      "INFO:tensorflow:input_mask: 1 1 1 1 1 1 1 1 1 1 1 1 1 1 1 1 1 1 1 1 1 1 1 1 1 1 1 1 1 1 1 1 1 1 1 1 1 1 1 1 1 1 1 1 1 1 1 1 1 1 1 1 1 1 1 1 1 1 1 1 1 1 1 1 1 1 1 1 1 1 1 1 1 1 1 1 1 1 1 1 1 1 1 1 1 1 1 1 1 1 1 1 1 1 1 1 1 1 1 1 1 1 1 1 1 1 1 1 1 1 1 1 1 1 1 1 1 1 1 1 1 1 1 1 1 1 1 1\n"
     ]
    },
    {
     "name": "stderr",
     "output_type": "stream",
     "text": [
      "I0620 08:25:43.782273 139737458554624 tf_logging.py:115] input_mask: 1 1 1 1 1 1 1 1 1 1 1 1 1 1 1 1 1 1 1 1 1 1 1 1 1 1 1 1 1 1 1 1 1 1 1 1 1 1 1 1 1 1 1 1 1 1 1 1 1 1 1 1 1 1 1 1 1 1 1 1 1 1 1 1 1 1 1 1 1 1 1 1 1 1 1 1 1 1 1 1 1 1 1 1 1 1 1 1 1 1 1 1 1 1 1 1 1 1 1 1 1 1 1 1 1 1 1 1 1 1 1 1 1 1 1 1 1 1 1 1 1 1 1 1 1 1 1 1\n"
     ]
    },
    {
     "name": "stdout",
     "output_type": "stream",
     "text": [
      "INFO:tensorflow:segment_ids: 0 0 0 0 0 0 0 0 0 0 0 0 0 0 0 0 0 0 0 0 0 0 0 0 0 0 0 0 0 0 0 0 0 0 0 0 0 0 0 0 0 0 0 0 0 0 0 0 0 0 0 0 0 0 0 0 0 1 1 1 1 1 1 1 1 1 1 1 1 1 1 1 1 1 1 1 1 1 1 1 1 1 1 1 1 1 1 1 1 1 1 1 1 1 1 1 1 1 1 1 1 1 1 1 1 1 1 1 1 1 1 1 1 1 1 1 1 1 1 1 1 1 1 1 1 1 1 1\n"
     ]
    },
    {
     "name": "stderr",
     "output_type": "stream",
     "text": [
      "I0620 08:25:43.782787 139737458554624 tf_logging.py:115] segment_ids: 0 0 0 0 0 0 0 0 0 0 0 0 0 0 0 0 0 0 0 0 0 0 0 0 0 0 0 0 0 0 0 0 0 0 0 0 0 0 0 0 0 0 0 0 0 0 0 0 0 0 0 0 0 0 0 0 0 1 1 1 1 1 1 1 1 1 1 1 1 1 1 1 1 1 1 1 1 1 1 1 1 1 1 1 1 1 1 1 1 1 1 1 1 1 1 1 1 1 1 1 1 1 1 1 1 1 1 1 1 1 1 1 1 1 1 1 1 1 1 1 1 1 1 1 1 1 1 1\n"
     ]
    },
    {
     "name": "stdout",
     "output_type": "stream",
     "text": [
      "INFO:tensorflow:label: 0 (id = 0)\n"
     ]
    },
    {
     "name": "stderr",
     "output_type": "stream",
     "text": [
      "I0620 08:25:43.783271 139737458554624 tf_logging.py:115] label: 0 (id = 0)\n"
     ]
    },
    {
     "name": "stdout",
     "output_type": "stream",
     "text": [
      "INFO:tensorflow:*** Example ***\n"
     ]
    },
    {
     "name": "stderr",
     "output_type": "stream",
     "text": [
      "I0620 08:25:43.785475 139737458554624 tf_logging.py:115] *** Example ***\n"
     ]
    },
    {
     "name": "stdout",
     "output_type": "stream",
     "text": [
      "INFO:tensorflow:guid: None\n"
     ]
    },
    {
     "name": "stderr",
     "output_type": "stream",
     "text": [
      "I0620 08:25:43.790100 139737458554624 tf_logging.py:115] guid: None\n"
     ]
    },
    {
     "name": "stdout",
     "output_type": "stream",
     "text": [
      "INFO:tensorflow:tokens: [CLS] we have gone into every conference un ##pre ##par ##ed . this administration , a year ago , in order to get a position on di ##sar ##mament , appointed a lawyer from my own state of massachusetts , mr . cool ##idge , who had had no previous experience in the field . after 3 months , his report was dismissed and [SEP] i know that you must never make a concession to him without getting one in return . i know that you must never agree to di ##sar ##mament , for example , unless you have an iron ##cl ##ad agreement from him that he ' s going to do likewise . i know that that kind of firm ##ness is what leads [SEP]\n"
     ]
    },
    {
     "name": "stderr",
     "output_type": "stream",
     "text": [
      "I0620 08:25:43.790636 139737458554624 tf_logging.py:115] tokens: [CLS] we have gone into every conference un ##pre ##par ##ed . this administration , a year ago , in order to get a position on di ##sar ##mament , appointed a lawyer from my own state of massachusetts , mr . cool ##idge , who had had no previous experience in the field . after 3 months , his report was dismissed and [SEP] i know that you must never make a concession to him without getting one in return . i know that you must never agree to di ##sar ##mament , for example , unless you have an iron ##cl ##ad agreement from him that he ' s going to do likewise . i know that that kind of firm ##ness is what leads [SEP]\n"
     ]
    },
    {
     "name": "stdout",
     "output_type": "stream",
     "text": [
      "INFO:tensorflow:input_ids: 101 2057 2031 2908 2046 2296 3034 4895 28139 19362 2098 1012 2023 3447 1010 1037 2095 3283 1010 1999 2344 2000 2131 1037 2597 2006 4487 10286 28119 1010 2805 1037 5160 2013 2026 2219 2110 1997 4404 1010 2720 1012 4658 13623 1010 2040 2018 2018 2053 3025 3325 1999 1996 2492 1012 2044 1017 2706 1010 2010 3189 2001 7219 1998 102 1045 2113 2008 2017 2442 2196 2191 1037 16427 2000 2032 2302 2893 2028 1999 2709 1012 1045 2113 2008 2017 2442 2196 5993 2000 4487 10286 28119 1010 2005 2742 1010 4983 2017 2031 2019 3707 20464 4215 3820 2013 2032 2008 2002 1005 1055 2183 2000 2079 10655 1012 1045 2113 2008 2008 2785 1997 3813 2791 2003 2054 5260 102\n"
     ]
    },
    {
     "name": "stderr",
     "output_type": "stream",
     "text": [
      "I0620 08:25:43.791122 139737458554624 tf_logging.py:115] input_ids: 101 2057 2031 2908 2046 2296 3034 4895 28139 19362 2098 1012 2023 3447 1010 1037 2095 3283 1010 1999 2344 2000 2131 1037 2597 2006 4487 10286 28119 1010 2805 1037 5160 2013 2026 2219 2110 1997 4404 1010 2720 1012 4658 13623 1010 2040 2018 2018 2053 3025 3325 1999 1996 2492 1012 2044 1017 2706 1010 2010 3189 2001 7219 1998 102 1045 2113 2008 2017 2442 2196 2191 1037 16427 2000 2032 2302 2893 2028 1999 2709 1012 1045 2113 2008 2017 2442 2196 5993 2000 4487 10286 28119 1010 2005 2742 1010 4983 2017 2031 2019 3707 20464 4215 3820 2013 2032 2008 2002 1005 1055 2183 2000 2079 10655 1012 1045 2113 2008 2008 2785 1997 3813 2791 2003 2054 5260 102\n"
     ]
    },
    {
     "name": "stdout",
     "output_type": "stream",
     "text": [
      "INFO:tensorflow:input_mask: 1 1 1 1 1 1 1 1 1 1 1 1 1 1 1 1 1 1 1 1 1 1 1 1 1 1 1 1 1 1 1 1 1 1 1 1 1 1 1 1 1 1 1 1 1 1 1 1 1 1 1 1 1 1 1 1 1 1 1 1 1 1 1 1 1 1 1 1 1 1 1 1 1 1 1 1 1 1 1 1 1 1 1 1 1 1 1 1 1 1 1 1 1 1 1 1 1 1 1 1 1 1 1 1 1 1 1 1 1 1 1 1 1 1 1 1 1 1 1 1 1 1 1 1 1 1 1 1\n"
     ]
    },
    {
     "name": "stderr",
     "output_type": "stream",
     "text": [
      "I0620 08:25:43.791915 139737458554624 tf_logging.py:115] input_mask: 1 1 1 1 1 1 1 1 1 1 1 1 1 1 1 1 1 1 1 1 1 1 1 1 1 1 1 1 1 1 1 1 1 1 1 1 1 1 1 1 1 1 1 1 1 1 1 1 1 1 1 1 1 1 1 1 1 1 1 1 1 1 1 1 1 1 1 1 1 1 1 1 1 1 1 1 1 1 1 1 1 1 1 1 1 1 1 1 1 1 1 1 1 1 1 1 1 1 1 1 1 1 1 1 1 1 1 1 1 1 1 1 1 1 1 1 1 1 1 1 1 1 1 1 1 1 1 1\n"
     ]
    },
    {
     "name": "stdout",
     "output_type": "stream",
     "text": [
      "INFO:tensorflow:segment_ids: 0 0 0 0 0 0 0 0 0 0 0 0 0 0 0 0 0 0 0 0 0 0 0 0 0 0 0 0 0 0 0 0 0 0 0 0 0 0 0 0 0 0 0 0 0 0 0 0 0 0 0 0 0 0 0 0 0 0 0 0 0 0 0 0 0 1 1 1 1 1 1 1 1 1 1 1 1 1 1 1 1 1 1 1 1 1 1 1 1 1 1 1 1 1 1 1 1 1 1 1 1 1 1 1 1 1 1 1 1 1 1 1 1 1 1 1 1 1 1 1 1 1 1 1 1 1 1 1\n"
     ]
    },
    {
     "name": "stderr",
     "output_type": "stream",
     "text": [
      "I0620 08:25:43.792455 139737458554624 tf_logging.py:115] segment_ids: 0 0 0 0 0 0 0 0 0 0 0 0 0 0 0 0 0 0 0 0 0 0 0 0 0 0 0 0 0 0 0 0 0 0 0 0 0 0 0 0 0 0 0 0 0 0 0 0 0 0 0 0 0 0 0 0 0 0 0 0 0 0 0 0 0 1 1 1 1 1 1 1 1 1 1 1 1 1 1 1 1 1 1 1 1 1 1 1 1 1 1 1 1 1 1 1 1 1 1 1 1 1 1 1 1 1 1 1 1 1 1 1 1 1 1 1 1 1 1 1 1 1 1 1 1 1 1 1\n"
     ]
    },
    {
     "name": "stdout",
     "output_type": "stream",
     "text": [
      "INFO:tensorflow:label: 0 (id = 0)\n"
     ]
    },
    {
     "name": "stderr",
     "output_type": "stream",
     "text": [
      "I0620 08:25:43.792955 139737458554624 tf_logging.py:115] label: 0 (id = 0)\n"
     ]
    },
    {
     "name": "stdout",
     "output_type": "stream",
     "text": [
      "INFO:tensorflow:*** Example ***\n"
     ]
    },
    {
     "name": "stderr",
     "output_type": "stream",
     "text": [
      "I0620 08:25:43.795356 139737458554624 tf_logging.py:115] *** Example ***\n"
     ]
    },
    {
     "name": "stdout",
     "output_type": "stream",
     "text": [
      "INFO:tensorflow:guid: None\n"
     ]
    },
    {
     "name": "stderr",
     "output_type": "stream",
     "text": [
      "I0620 08:25:43.796154 139737458554624 tf_logging.py:115] guid: None\n"
     ]
    },
    {
     "name": "stdout",
     "output_type": "stream",
     "text": [
      "INFO:tensorflow:tokens: [CLS] but our goals are not the same . i want a $ 1 . 25 an hour minimum wage , medical care for the aged through social security , federal aid to help raise teachers salaries as well as schools , an adequate program of sl ##um clearance and low - rent housing , and a program of aid to areas of chronic [SEP] the republican party , which in 1935 voted almost unanimously against the 25 - cent minimum wage , voted almost unanimously against the $ 1 . 25 in 1960 . a republican party , which in 1935 voted 95 to 1 in the house of representatives against the social security bill , voted 44 to 1 , with only one republican , [SEP]\n"
     ]
    },
    {
     "name": "stderr",
     "output_type": "stream",
     "text": [
      "I0620 08:25:43.796874 139737458554624 tf_logging.py:115] tokens: [CLS] but our goals are not the same . i want a $ 1 . 25 an hour minimum wage , medical care for the aged through social security , federal aid to help raise teachers salaries as well as schools , an adequate program of sl ##um clearance and low - rent housing , and a program of aid to areas of chronic [SEP] the republican party , which in 1935 voted almost unanimously against the 25 - cent minimum wage , voted almost unanimously against the $ 1 . 25 in 1960 . a republican party , which in 1935 voted 95 to 1 in the house of representatives against the social security bill , voted 44 to 1 , with only one republican , [SEP]\n"
     ]
    },
    {
     "name": "stdout",
     "output_type": "stream",
     "text": [
      "INFO:tensorflow:input_ids: 101 2021 2256 3289 2024 2025 1996 2168 1012 1045 2215 1037 1002 1015 1012 2423 2019 3178 6263 11897 1010 2966 2729 2005 1996 4793 2083 2591 3036 1010 2976 4681 2000 2393 5333 5089 20566 2004 2092 2004 2816 1010 2019 11706 2565 1997 22889 2819 14860 1998 2659 1011 9278 3847 1010 1998 1037 2565 1997 4681 2000 2752 1997 11888 102 1996 3951 2283 1010 2029 1999 4437 5444 2471 15645 2114 1996 2423 1011 9358 6263 11897 1010 5444 2471 15645 2114 1996 1002 1015 1012 2423 1999 3624 1012 1037 3951 2283 1010 2029 1999 4437 5444 5345 2000 1015 1999 1996 2160 1997 4505 2114 1996 2591 3036 3021 1010 5444 4008 2000 1015 1010 2007 2069 2028 3951 1010 102\n"
     ]
    },
    {
     "name": "stderr",
     "output_type": "stream",
     "text": [
      "I0620 08:25:43.797432 139737458554624 tf_logging.py:115] input_ids: 101 2021 2256 3289 2024 2025 1996 2168 1012 1045 2215 1037 1002 1015 1012 2423 2019 3178 6263 11897 1010 2966 2729 2005 1996 4793 2083 2591 3036 1010 2976 4681 2000 2393 5333 5089 20566 2004 2092 2004 2816 1010 2019 11706 2565 1997 22889 2819 14860 1998 2659 1011 9278 3847 1010 1998 1037 2565 1997 4681 2000 2752 1997 11888 102 1996 3951 2283 1010 2029 1999 4437 5444 2471 15645 2114 1996 2423 1011 9358 6263 11897 1010 5444 2471 15645 2114 1996 1002 1015 1012 2423 1999 3624 1012 1037 3951 2283 1010 2029 1999 4437 5444 5345 2000 1015 1999 1996 2160 1997 4505 2114 1996 2591 3036 3021 1010 5444 4008 2000 1015 1010 2007 2069 2028 3951 1010 102\n"
     ]
    },
    {
     "name": "stdout",
     "output_type": "stream",
     "text": [
      "INFO:tensorflow:input_mask: 1 1 1 1 1 1 1 1 1 1 1 1 1 1 1 1 1 1 1 1 1 1 1 1 1 1 1 1 1 1 1 1 1 1 1 1 1 1 1 1 1 1 1 1 1 1 1 1 1 1 1 1 1 1 1 1 1 1 1 1 1 1 1 1 1 1 1 1 1 1 1 1 1 1 1 1 1 1 1 1 1 1 1 1 1 1 1 1 1 1 1 1 1 1 1 1 1 1 1 1 1 1 1 1 1 1 1 1 1 1 1 1 1 1 1 1 1 1 1 1 1 1 1 1 1 1 1 1\n"
     ]
    },
    {
     "name": "stderr",
     "output_type": "stream",
     "text": [
      "I0620 08:25:43.798220 139737458554624 tf_logging.py:115] input_mask: 1 1 1 1 1 1 1 1 1 1 1 1 1 1 1 1 1 1 1 1 1 1 1 1 1 1 1 1 1 1 1 1 1 1 1 1 1 1 1 1 1 1 1 1 1 1 1 1 1 1 1 1 1 1 1 1 1 1 1 1 1 1 1 1 1 1 1 1 1 1 1 1 1 1 1 1 1 1 1 1 1 1 1 1 1 1 1 1 1 1 1 1 1 1 1 1 1 1 1 1 1 1 1 1 1 1 1 1 1 1 1 1 1 1 1 1 1 1 1 1 1 1 1 1 1 1 1 1\n"
     ]
    },
    {
     "name": "stdout",
     "output_type": "stream",
     "text": [
      "INFO:tensorflow:segment_ids: 0 0 0 0 0 0 0 0 0 0 0 0 0 0 0 0 0 0 0 0 0 0 0 0 0 0 0 0 0 0 0 0 0 0 0 0 0 0 0 0 0 0 0 0 0 0 0 0 0 0 0 0 0 0 0 0 0 0 0 0 0 0 0 0 0 1 1 1 1 1 1 1 1 1 1 1 1 1 1 1 1 1 1 1 1 1 1 1 1 1 1 1 1 1 1 1 1 1 1 1 1 1 1 1 1 1 1 1 1 1 1 1 1 1 1 1 1 1 1 1 1 1 1 1 1 1 1 1\n"
     ]
    },
    {
     "name": "stderr",
     "output_type": "stream",
     "text": [
      "I0620 08:25:43.798826 139737458554624 tf_logging.py:115] segment_ids: 0 0 0 0 0 0 0 0 0 0 0 0 0 0 0 0 0 0 0 0 0 0 0 0 0 0 0 0 0 0 0 0 0 0 0 0 0 0 0 0 0 0 0 0 0 0 0 0 0 0 0 0 0 0 0 0 0 0 0 0 0 0 0 0 0 1 1 1 1 1 1 1 1 1 1 1 1 1 1 1 1 1 1 1 1 1 1 1 1 1 1 1 1 1 1 1 1 1 1 1 1 1 1 1 1 1 1 1 1 1 1 1 1 1 1 1 1 1 1 1 1 1 1 1 1 1 1 1\n"
     ]
    },
    {
     "name": "stdout",
     "output_type": "stream",
     "text": [
      "INFO:tensorflow:label: 0 (id = 0)\n"
     ]
    },
    {
     "name": "stderr",
     "output_type": "stream",
     "text": [
      "I0620 08:25:43.799885 139737458554624 tf_logging.py:115] label: 0 (id = 0)\n"
     ]
    },
    {
     "name": "stdout",
     "output_type": "stream",
     "text": [
      "INFO:tensorflow:*** Example ***\n"
     ]
    },
    {
     "name": "stderr",
     "output_type": "stream",
     "text": [
      "I0620 08:25:43.804006 139737458554624 tf_logging.py:115] *** Example ***\n"
     ]
    },
    {
     "name": "stdout",
     "output_type": "stream",
     "text": [
      "INFO:tensorflow:guid: None\n"
     ]
    },
    {
     "name": "stderr",
     "output_type": "stream",
     "text": [
      "I0620 08:25:43.804831 139737458554624 tf_logging.py:115] guid: None\n"
     ]
    },
    {
     "name": "stdout",
     "output_type": "stream",
     "text": [
      "INFO:tensorflow:tokens: [CLS] but no matter how difficult the problems are , how disco ##ura ##ging the obstacles , how uncertain the prospect for agreement , we must , nevertheless , begin a determined , large - scale effort to prepare ourselves for di ##sar ##mament - to formula ##te constructive and realistic proposals which have a chance of success . for the hopes of all [SEP] and you ask about prestige . what do our opponents think ? do they think that mr . k ##hr ##ush ##chev gains prestige for the communists when he takes off his shoe at the united nations and pounds the table with it ? i say no . i say that president eisenhower gained prestige for america when with great dignity and [SEP]\n"
     ]
    },
    {
     "name": "stderr",
     "output_type": "stream",
     "text": [
      "I0620 08:25:43.805671 139737458554624 tf_logging.py:115] tokens: [CLS] but no matter how difficult the problems are , how disco ##ura ##ging the obstacles , how uncertain the prospect for agreement , we must , nevertheless , begin a determined , large - scale effort to prepare ourselves for di ##sar ##mament - to formula ##te constructive and realistic proposals which have a chance of success . for the hopes of all [SEP] and you ask about prestige . what do our opponents think ? do they think that mr . k ##hr ##ush ##chev gains prestige for the communists when he takes off his shoe at the united nations and pounds the table with it ? i say no . i say that president eisenhower gained prestige for america when with great dignity and [SEP]\n"
     ]
    },
    {
     "name": "stdout",
     "output_type": "stream",
     "text": [
      "INFO:tensorflow:input_ids: 101 2021 2053 3043 2129 3697 1996 3471 2024 1010 2129 12532 4648 4726 1996 15314 1010 2129 9662 1996 9824 2005 3820 1010 2057 2442 1010 6600 1010 4088 1037 4340 1010 2312 1011 4094 3947 2000 7374 9731 2005 4487 10286 28119 1011 2000 5675 2618 26157 1998 12689 10340 2029 2031 1037 3382 1997 3112 1012 2005 1996 8069 1997 2035 102 1998 2017 3198 2055 14653 1012 2054 2079 2256 7892 2228 1029 2079 2027 2228 2008 2720 1012 1047 8093 20668 16179 12154 14653 2005 1996 13009 2043 2002 3138 2125 2010 10818 2012 1996 2142 3741 1998 7038 1996 2795 2007 2009 1029 1045 2360 2053 1012 1045 2360 2008 2343 16551 4227 14653 2005 2637 2043 2007 2307 13372 1998 102\n"
     ]
    },
    {
     "name": "stderr",
     "output_type": "stream",
     "text": [
      "I0620 08:25:43.806187 139737458554624 tf_logging.py:115] input_ids: 101 2021 2053 3043 2129 3697 1996 3471 2024 1010 2129 12532 4648 4726 1996 15314 1010 2129 9662 1996 9824 2005 3820 1010 2057 2442 1010 6600 1010 4088 1037 4340 1010 2312 1011 4094 3947 2000 7374 9731 2005 4487 10286 28119 1011 2000 5675 2618 26157 1998 12689 10340 2029 2031 1037 3382 1997 3112 1012 2005 1996 8069 1997 2035 102 1998 2017 3198 2055 14653 1012 2054 2079 2256 7892 2228 1029 2079 2027 2228 2008 2720 1012 1047 8093 20668 16179 12154 14653 2005 1996 13009 2043 2002 3138 2125 2010 10818 2012 1996 2142 3741 1998 7038 1996 2795 2007 2009 1029 1045 2360 2053 1012 1045 2360 2008 2343 16551 4227 14653 2005 2637 2043 2007 2307 13372 1998 102\n"
     ]
    },
    {
     "name": "stdout",
     "output_type": "stream",
     "text": [
      "INFO:tensorflow:input_mask: 1 1 1 1 1 1 1 1 1 1 1 1 1 1 1 1 1 1 1 1 1 1 1 1 1 1 1 1 1 1 1 1 1 1 1 1 1 1 1 1 1 1 1 1 1 1 1 1 1 1 1 1 1 1 1 1 1 1 1 1 1 1 1 1 1 1 1 1 1 1 1 1 1 1 1 1 1 1 1 1 1 1 1 1 1 1 1 1 1 1 1 1 1 1 1 1 1 1 1 1 1 1 1 1 1 1 1 1 1 1 1 1 1 1 1 1 1 1 1 1 1 1 1 1 1 1 1 1\n"
     ]
    },
    {
     "name": "stderr",
     "output_type": "stream",
     "text": [
      "I0620 08:25:43.806698 139737458554624 tf_logging.py:115] input_mask: 1 1 1 1 1 1 1 1 1 1 1 1 1 1 1 1 1 1 1 1 1 1 1 1 1 1 1 1 1 1 1 1 1 1 1 1 1 1 1 1 1 1 1 1 1 1 1 1 1 1 1 1 1 1 1 1 1 1 1 1 1 1 1 1 1 1 1 1 1 1 1 1 1 1 1 1 1 1 1 1 1 1 1 1 1 1 1 1 1 1 1 1 1 1 1 1 1 1 1 1 1 1 1 1 1 1 1 1 1 1 1 1 1 1 1 1 1 1 1 1 1 1 1 1 1 1 1 1\n"
     ]
    },
    {
     "name": "stdout",
     "output_type": "stream",
     "text": [
      "INFO:tensorflow:segment_ids: 0 0 0 0 0 0 0 0 0 0 0 0 0 0 0 0 0 0 0 0 0 0 0 0 0 0 0 0 0 0 0 0 0 0 0 0 0 0 0 0 0 0 0 0 0 0 0 0 0 0 0 0 0 0 0 0 0 0 0 0 0 0 0 0 0 1 1 1 1 1 1 1 1 1 1 1 1 1 1 1 1 1 1 1 1 1 1 1 1 1 1 1 1 1 1 1 1 1 1 1 1 1 1 1 1 1 1 1 1 1 1 1 1 1 1 1 1 1 1 1 1 1 1 1 1 1 1 1\n"
     ]
    },
    {
     "name": "stderr",
     "output_type": "stream",
     "text": [
      "I0620 08:25:43.807197 139737458554624 tf_logging.py:115] segment_ids: 0 0 0 0 0 0 0 0 0 0 0 0 0 0 0 0 0 0 0 0 0 0 0 0 0 0 0 0 0 0 0 0 0 0 0 0 0 0 0 0 0 0 0 0 0 0 0 0 0 0 0 0 0 0 0 0 0 0 0 0 0 0 0 0 0 1 1 1 1 1 1 1 1 1 1 1 1 1 1 1 1 1 1 1 1 1 1 1 1 1 1 1 1 1 1 1 1 1 1 1 1 1 1 1 1 1 1 1 1 1 1 1 1 1 1 1 1 1 1 1 1 1 1 1 1 1 1 1\n"
     ]
    },
    {
     "name": "stdout",
     "output_type": "stream",
     "text": [
      "INFO:tensorflow:label: 0 (id = 0)\n"
     ]
    },
    {
     "name": "stderr",
     "output_type": "stream",
     "text": [
      "I0620 08:25:43.808068 139737458554624 tf_logging.py:115] label: 0 (id = 0)\n"
     ]
    },
    {
     "name": "stdout",
     "output_type": "stream",
     "text": [
      "INFO:tensorflow:Writing example 0 of 147\n"
     ]
    },
    {
     "name": "stderr",
     "output_type": "stream",
     "text": [
      "I0620 08:25:46.595486 139737458554624 tf_logging.py:115] Writing example 0 of 147\n"
     ]
    },
    {
     "name": "stdout",
     "output_type": "stream",
     "text": [
      "INFO:tensorflow:*** Example ***\n"
     ]
    },
    {
     "name": "stderr",
     "output_type": "stream",
     "text": [
      "I0620 08:25:46.599469 139737458554624 tf_logging.py:115] *** Example ***\n"
     ]
    },
    {
     "name": "stdout",
     "output_type": "stream",
     "text": [
      "INFO:tensorflow:guid: None\n"
     ]
    },
    {
     "name": "stderr",
     "output_type": "stream",
     "text": [
      "I0620 08:25:46.601747 139737458554624 tf_logging.py:115] guid: None\n"
     ]
    },
    {
     "name": "stdout",
     "output_type": "stream",
     "text": [
      "INFO:tensorflow:tokens: [CLS] what are the folks going to do ? what are the voters going to do ? here ' s what you do : first , you look at our record and on the record i say you compare the record of the eisenhower administration with the record of the administration which preceded it . both have been in for 7 ½ years , [SEP] and what about that future ? we want a future of progress , but above all , the people of this country are concerned that our children may grow up in a world in which we can be free and we can live at peace - and that is the most important thing that americans must think about at this time . [SEP]\n"
     ]
    },
    {
     "name": "stderr",
     "output_type": "stream",
     "text": [
      "I0620 08:25:46.605093 139737458554624 tf_logging.py:115] tokens: [CLS] what are the folks going to do ? what are the voters going to do ? here ' s what you do : first , you look at our record and on the record i say you compare the record of the eisenhower administration with the record of the administration which preceded it . both have been in for 7 ½ years , [SEP] and what about that future ? we want a future of progress , but above all , the people of this country are concerned that our children may grow up in a world in which we can be free and we can live at peace - and that is the most important thing that americans must think about at this time . [SEP]\n"
     ]
    },
    {
     "name": "stdout",
     "output_type": "stream",
     "text": [
      "INFO:tensorflow:input_ids: 101 2054 2024 1996 12455 2183 2000 2079 1029 2054 2024 1996 7206 2183 2000 2079 1029 2182 1005 1055 2054 2017 2079 1024 2034 1010 2017 2298 2012 2256 2501 1998 2006 1996 2501 1045 2360 2017 12826 1996 2501 1997 1996 16551 3447 2007 1996 2501 1997 1996 3447 2029 11677 2009 1012 2119 2031 2042 1999 2005 1021 1092 2086 1010 102 1998 2054 2055 2008 2925 1029 2057 2215 1037 2925 1997 5082 1010 2021 2682 2035 1010 1996 2111 1997 2023 2406 2024 4986 2008 2256 2336 2089 4982 2039 1999 1037 2088 1999 2029 2057 2064 2022 2489 1998 2057 2064 2444 2012 3521 1011 1998 2008 2003 1996 2087 2590 2518 2008 4841 2442 2228 2055 2012 2023 2051 1012 102\n"
     ]
    },
    {
     "name": "stderr",
     "output_type": "stream",
     "text": [
      "I0620 08:25:46.605755 139737458554624 tf_logging.py:115] input_ids: 101 2054 2024 1996 12455 2183 2000 2079 1029 2054 2024 1996 7206 2183 2000 2079 1029 2182 1005 1055 2054 2017 2079 1024 2034 1010 2017 2298 2012 2256 2501 1998 2006 1996 2501 1045 2360 2017 12826 1996 2501 1997 1996 16551 3447 2007 1996 2501 1997 1996 3447 2029 11677 2009 1012 2119 2031 2042 1999 2005 1021 1092 2086 1010 102 1998 2054 2055 2008 2925 1029 2057 2215 1037 2925 1997 5082 1010 2021 2682 2035 1010 1996 2111 1997 2023 2406 2024 4986 2008 2256 2336 2089 4982 2039 1999 1037 2088 1999 2029 2057 2064 2022 2489 1998 2057 2064 2444 2012 3521 1011 1998 2008 2003 1996 2087 2590 2518 2008 4841 2442 2228 2055 2012 2023 2051 1012 102\n"
     ]
    },
    {
     "name": "stdout",
     "output_type": "stream",
     "text": [
      "INFO:tensorflow:input_mask: 1 1 1 1 1 1 1 1 1 1 1 1 1 1 1 1 1 1 1 1 1 1 1 1 1 1 1 1 1 1 1 1 1 1 1 1 1 1 1 1 1 1 1 1 1 1 1 1 1 1 1 1 1 1 1 1 1 1 1 1 1 1 1 1 1 1 1 1 1 1 1 1 1 1 1 1 1 1 1 1 1 1 1 1 1 1 1 1 1 1 1 1 1 1 1 1 1 1 1 1 1 1 1 1 1 1 1 1 1 1 1 1 1 1 1 1 1 1 1 1 1 1 1 1 1 1 1 1\n"
     ]
    },
    {
     "name": "stderr",
     "output_type": "stream",
     "text": [
      "I0620 08:25:46.606455 139737458554624 tf_logging.py:115] input_mask: 1 1 1 1 1 1 1 1 1 1 1 1 1 1 1 1 1 1 1 1 1 1 1 1 1 1 1 1 1 1 1 1 1 1 1 1 1 1 1 1 1 1 1 1 1 1 1 1 1 1 1 1 1 1 1 1 1 1 1 1 1 1 1 1 1 1 1 1 1 1 1 1 1 1 1 1 1 1 1 1 1 1 1 1 1 1 1 1 1 1 1 1 1 1 1 1 1 1 1 1 1 1 1 1 1 1 1 1 1 1 1 1 1 1 1 1 1 1 1 1 1 1 1 1 1 1 1 1\n"
     ]
    },
    {
     "name": "stdout",
     "output_type": "stream",
     "text": [
      "INFO:tensorflow:segment_ids: 0 0 0 0 0 0 0 0 0 0 0 0 0 0 0 0 0 0 0 0 0 0 0 0 0 0 0 0 0 0 0 0 0 0 0 0 0 0 0 0 0 0 0 0 0 0 0 0 0 0 0 0 0 0 0 0 0 0 0 0 0 0 0 0 0 1 1 1 1 1 1 1 1 1 1 1 1 1 1 1 1 1 1 1 1 1 1 1 1 1 1 1 1 1 1 1 1 1 1 1 1 1 1 1 1 1 1 1 1 1 1 1 1 1 1 1 1 1 1 1 1 1 1 1 1 1 1 1\n"
     ]
    },
    {
     "name": "stderr",
     "output_type": "stream",
     "text": [
      "I0620 08:25:46.608132 139737458554624 tf_logging.py:115] segment_ids: 0 0 0 0 0 0 0 0 0 0 0 0 0 0 0 0 0 0 0 0 0 0 0 0 0 0 0 0 0 0 0 0 0 0 0 0 0 0 0 0 0 0 0 0 0 0 0 0 0 0 0 0 0 0 0 0 0 0 0 0 0 0 0 0 0 1 1 1 1 1 1 1 1 1 1 1 1 1 1 1 1 1 1 1 1 1 1 1 1 1 1 1 1 1 1 1 1 1 1 1 1 1 1 1 1 1 1 1 1 1 1 1 1 1 1 1 1 1 1 1 1 1 1 1 1 1 1 1\n"
     ]
    },
    {
     "name": "stdout",
     "output_type": "stream",
     "text": [
      "INFO:tensorflow:label: 1 (id = 1)\n"
     ]
    },
    {
     "name": "stderr",
     "output_type": "stream",
     "text": [
      "I0620 08:25:46.610663 139737458554624 tf_logging.py:115] label: 1 (id = 1)\n"
     ]
    },
    {
     "name": "stdout",
     "output_type": "stream",
     "text": [
      "INFO:tensorflow:*** Example ***\n"
     ]
    },
    {
     "name": "stderr",
     "output_type": "stream",
     "text": [
      "I0620 08:25:46.613286 139737458554624 tf_logging.py:115] *** Example ***\n"
     ]
    },
    {
     "name": "stdout",
     "output_type": "stream",
     "text": [
      "INFO:tensorflow:guid: None\n"
     ]
    },
    {
     "name": "stderr",
     "output_type": "stream",
     "text": [
      "I0620 08:25:46.616047 139737458554624 tf_logging.py:115] guid: None\n"
     ]
    },
    {
     "name": "stdout",
     "output_type": "stream",
     "text": [
      "INFO:tensorflow:tokens: [CLS] [ applause . ] mr . nixon considers a minimum wage of $ 1 . 25 to be extreme . mr . nixon considers federal aid to make sure that teachers are paid a decent salary to be extreme . [SEP] meanwhile , the contradictory statements of senator kennedy still leave him opposed to this position . the miss ##tate ##ment : in the second debate senator kennedy said : the republicans in recent years , not only in the last 25 years , but in the last 8 years , have opposed * * * minimum wage * * the facts : senator kennedy is saying that republicans who opposed his particular bill are against minimum wage . the administration supported an increase in the [SEP]\n"
     ]
    },
    {
     "name": "stderr",
     "output_type": "stream",
     "text": [
      "I0620 08:25:46.616686 139737458554624 tf_logging.py:115] tokens: [CLS] [ applause . ] mr . nixon considers a minimum wage of $ 1 . 25 to be extreme . mr . nixon considers federal aid to make sure that teachers are paid a decent salary to be extreme . [SEP] meanwhile , the contradictory statements of senator kennedy still leave him opposed to this position . the miss ##tate ##ment : in the second debate senator kennedy said : the republicans in recent years , not only in the last 25 years , but in the last 8 years , have opposed * * * minimum wage * * the facts : senator kennedy is saying that republicans who opposed his particular bill are against minimum wage . the administration supported an increase in the [SEP]\n"
     ]
    },
    {
     "name": "stdout",
     "output_type": "stream",
     "text": [
      "INFO:tensorflow:input_ids: 101 1031 20737 1012 1033 2720 1012 11296 10592 1037 6263 11897 1997 1002 1015 1012 2423 2000 2022 6034 1012 2720 1012 11296 10592 2976 4681 2000 2191 2469 2008 5089 2024 3825 1037 11519 10300 2000 2022 6034 1012 102 5564 1010 1996 27894 8635 1997 5205 5817 2145 2681 2032 4941 2000 2023 2597 1012 1996 3335 12259 3672 1024 1999 1996 2117 5981 5205 5817 2056 1024 1996 10643 1999 3522 2086 1010 2025 2069 1999 1996 2197 2423 2086 1010 2021 1999 1996 2197 1022 2086 1010 2031 4941 1008 1008 1008 6263 11897 1008 1008 1996 8866 1024 5205 5817 2003 3038 2008 10643 2040 4941 2010 3327 3021 2024 2114 6263 11897 1012 1996 3447 3569 2019 3623 1999 1996 102\n"
     ]
    },
    {
     "name": "stderr",
     "output_type": "stream",
     "text": [
      "I0620 08:25:46.617189 139737458554624 tf_logging.py:115] input_ids: 101 1031 20737 1012 1033 2720 1012 11296 10592 1037 6263 11897 1997 1002 1015 1012 2423 2000 2022 6034 1012 2720 1012 11296 10592 2976 4681 2000 2191 2469 2008 5089 2024 3825 1037 11519 10300 2000 2022 6034 1012 102 5564 1010 1996 27894 8635 1997 5205 5817 2145 2681 2032 4941 2000 2023 2597 1012 1996 3335 12259 3672 1024 1999 1996 2117 5981 5205 5817 2056 1024 1996 10643 1999 3522 2086 1010 2025 2069 1999 1996 2197 2423 2086 1010 2021 1999 1996 2197 1022 2086 1010 2031 4941 1008 1008 1008 6263 11897 1008 1008 1996 8866 1024 5205 5817 2003 3038 2008 10643 2040 4941 2010 3327 3021 2024 2114 6263 11897 1012 1996 3447 3569 2019 3623 1999 1996 102\n"
     ]
    },
    {
     "name": "stdout",
     "output_type": "stream",
     "text": [
      "INFO:tensorflow:input_mask: 1 1 1 1 1 1 1 1 1 1 1 1 1 1 1 1 1 1 1 1 1 1 1 1 1 1 1 1 1 1 1 1 1 1 1 1 1 1 1 1 1 1 1 1 1 1 1 1 1 1 1 1 1 1 1 1 1 1 1 1 1 1 1 1 1 1 1 1 1 1 1 1 1 1 1 1 1 1 1 1 1 1 1 1 1 1 1 1 1 1 1 1 1 1 1 1 1 1 1 1 1 1 1 1 1 1 1 1 1 1 1 1 1 1 1 1 1 1 1 1 1 1 1 1 1 1 1 1\n"
     ]
    },
    {
     "name": "stderr",
     "output_type": "stream",
     "text": [
      "I0620 08:25:46.617696 139737458554624 tf_logging.py:115] input_mask: 1 1 1 1 1 1 1 1 1 1 1 1 1 1 1 1 1 1 1 1 1 1 1 1 1 1 1 1 1 1 1 1 1 1 1 1 1 1 1 1 1 1 1 1 1 1 1 1 1 1 1 1 1 1 1 1 1 1 1 1 1 1 1 1 1 1 1 1 1 1 1 1 1 1 1 1 1 1 1 1 1 1 1 1 1 1 1 1 1 1 1 1 1 1 1 1 1 1 1 1 1 1 1 1 1 1 1 1 1 1 1 1 1 1 1 1 1 1 1 1 1 1 1 1 1 1 1 1\n"
     ]
    },
    {
     "name": "stdout",
     "output_type": "stream",
     "text": [
      "INFO:tensorflow:segment_ids: 0 0 0 0 0 0 0 0 0 0 0 0 0 0 0 0 0 0 0 0 0 0 0 0 0 0 0 0 0 0 0 0 0 0 0 0 0 0 0 0 0 0 1 1 1 1 1 1 1 1 1 1 1 1 1 1 1 1 1 1 1 1 1 1 1 1 1 1 1 1 1 1 1 1 1 1 1 1 1 1 1 1 1 1 1 1 1 1 1 1 1 1 1 1 1 1 1 1 1 1 1 1 1 1 1 1 1 1 1 1 1 1 1 1 1 1 1 1 1 1 1 1 1 1 1 1 1 1\n"
     ]
    },
    {
     "name": "stderr",
     "output_type": "stream",
     "text": [
      "I0620 08:25:46.618173 139737458554624 tf_logging.py:115] segment_ids: 0 0 0 0 0 0 0 0 0 0 0 0 0 0 0 0 0 0 0 0 0 0 0 0 0 0 0 0 0 0 0 0 0 0 0 0 0 0 0 0 0 0 1 1 1 1 1 1 1 1 1 1 1 1 1 1 1 1 1 1 1 1 1 1 1 1 1 1 1 1 1 1 1 1 1 1 1 1 1 1 1 1 1 1 1 1 1 1 1 1 1 1 1 1 1 1 1 1 1 1 1 1 1 1 1 1 1 1 1 1 1 1 1 1 1 1 1 1 1 1 1 1 1 1 1 1 1 1\n"
     ]
    },
    {
     "name": "stdout",
     "output_type": "stream",
     "text": [
      "INFO:tensorflow:label: 0 (id = 0)\n"
     ]
    },
    {
     "name": "stderr",
     "output_type": "stream",
     "text": [
      "I0620 08:25:46.618700 139737458554624 tf_logging.py:115] label: 0 (id = 0)\n"
     ]
    },
    {
     "name": "stdout",
     "output_type": "stream",
     "text": [
      "INFO:tensorflow:*** Example ***\n"
     ]
    },
    {
     "name": "stderr",
     "output_type": "stream",
     "text": [
      "I0620 08:25:46.620866 139737458554624 tf_logging.py:115] *** Example ***\n"
     ]
    },
    {
     "name": "stdout",
     "output_type": "stream",
     "text": [
      "INFO:tensorflow:guid: None\n"
     ]
    },
    {
     "name": "stderr",
     "output_type": "stream",
     "text": [
      "I0620 08:25:46.621852 139737458554624 tf_logging.py:115] guid: None\n"
     ]
    },
    {
     "name": "stdout",
     "output_type": "stream",
     "text": [
      "INFO:tensorflow:tokens: [CLS] [ applause . ] let me make it very clear that if we are successful in january , we are going to recommend the following programs : first , we are going to make sure that those americans who are retired , who are on social security , who do need medical care , shall have it under the social security system . [ applause . [SEP] [ applause . ] a party which opposed social security , which tried to repeal it , a party which opposed minimum wage and tried to repeal it , a party which has opposed our efforts to pass in this congress medical care for the aged to the social security . [ applause . [SEP]\n"
     ]
    },
    {
     "name": "stderr",
     "output_type": "stream",
     "text": [
      "I0620 08:25:46.622464 139737458554624 tf_logging.py:115] tokens: [CLS] [ applause . ] let me make it very clear that if we are successful in january , we are going to recommend the following programs : first , we are going to make sure that those americans who are retired , who are on social security , who do need medical care , shall have it under the social security system . [ applause . [SEP] [ applause . ] a party which opposed social security , which tried to repeal it , a party which opposed minimum wage and tried to repeal it , a party which has opposed our efforts to pass in this congress medical care for the aged to the social security . [ applause . [SEP]\n"
     ]
    },
    {
     "name": "stdout",
     "output_type": "stream",
     "text": [
      "INFO:tensorflow:input_ids: 101 1031 20737 1012 1033 2292 2033 2191 2009 2200 3154 2008 2065 2057 2024 3144 1999 2254 1010 2057 2024 2183 2000 16755 1996 2206 3454 1024 2034 1010 2057 2024 2183 2000 2191 2469 2008 2216 4841 2040 2024 3394 1010 2040 2024 2006 2591 3036 1010 2040 2079 2342 2966 2729 1010 4618 2031 2009 2104 1996 2591 3036 2291 1012 1031 20737 1012 102 1031 20737 1012 1033 1037 2283 2029 4941 2591 3036 1010 2029 2699 2000 21825 2009 1010 1037 2283 2029 4941 6263 11897 1998 2699 2000 21825 2009 1010 1037 2283 2029 2038 4941 2256 4073 2000 3413 1999 2023 3519 2966 2729 2005 1996 4793 2000 1996 2591 3036 1012 1031 20737 1012 102 0 0 0 0 0\n"
     ]
    },
    {
     "name": "stderr",
     "output_type": "stream",
     "text": [
      "I0620 08:25:46.623280 139737458554624 tf_logging.py:115] input_ids: 101 1031 20737 1012 1033 2292 2033 2191 2009 2200 3154 2008 2065 2057 2024 3144 1999 2254 1010 2057 2024 2183 2000 16755 1996 2206 3454 1024 2034 1010 2057 2024 2183 2000 2191 2469 2008 2216 4841 2040 2024 3394 1010 2040 2024 2006 2591 3036 1010 2040 2079 2342 2966 2729 1010 4618 2031 2009 2104 1996 2591 3036 2291 1012 1031 20737 1012 102 1031 20737 1012 1033 1037 2283 2029 4941 2591 3036 1010 2029 2699 2000 21825 2009 1010 1037 2283 2029 4941 6263 11897 1998 2699 2000 21825 2009 1010 1037 2283 2029 2038 4941 2256 4073 2000 3413 1999 2023 3519 2966 2729 2005 1996 4793 2000 1996 2591 3036 1012 1031 20737 1012 102 0 0 0 0 0\n"
     ]
    },
    {
     "name": "stdout",
     "output_type": "stream",
     "text": [
      "INFO:tensorflow:input_mask: 1 1 1 1 1 1 1 1 1 1 1 1 1 1 1 1 1 1 1 1 1 1 1 1 1 1 1 1 1 1 1 1 1 1 1 1 1 1 1 1 1 1 1 1 1 1 1 1 1 1 1 1 1 1 1 1 1 1 1 1 1 1 1 1 1 1 1 1 1 1 1 1 1 1 1 1 1 1 1 1 1 1 1 1 1 1 1 1 1 1 1 1 1 1 1 1 1 1 1 1 1 1 1 1 1 1 1 1 1 1 1 1 1 1 1 1 1 1 1 1 1 1 1 0 0 0 0 0\n"
     ]
    },
    {
     "name": "stderr",
     "output_type": "stream",
     "text": [
      "I0620 08:25:46.631118 139737458554624 tf_logging.py:115] input_mask: 1 1 1 1 1 1 1 1 1 1 1 1 1 1 1 1 1 1 1 1 1 1 1 1 1 1 1 1 1 1 1 1 1 1 1 1 1 1 1 1 1 1 1 1 1 1 1 1 1 1 1 1 1 1 1 1 1 1 1 1 1 1 1 1 1 1 1 1 1 1 1 1 1 1 1 1 1 1 1 1 1 1 1 1 1 1 1 1 1 1 1 1 1 1 1 1 1 1 1 1 1 1 1 1 1 1 1 1 1 1 1 1 1 1 1 1 1 1 1 1 1 1 1 0 0 0 0 0\n"
     ]
    },
    {
     "name": "stdout",
     "output_type": "stream",
     "text": [
      "INFO:tensorflow:segment_ids: 0 0 0 0 0 0 0 0 0 0 0 0 0 0 0 0 0 0 0 0 0 0 0 0 0 0 0 0 0 0 0 0 0 0 0 0 0 0 0 0 0 0 0 0 0 0 0 0 0 0 0 0 0 0 0 0 0 0 0 0 0 0 0 0 0 0 0 0 1 1 1 1 1 1 1 1 1 1 1 1 1 1 1 1 1 1 1 1 1 1 1 1 1 1 1 1 1 1 1 1 1 1 1 1 1 1 1 1 1 1 1 1 1 1 1 1 1 1 1 1 1 1 1 0 0 0 0 0\n"
     ]
    },
    {
     "name": "stderr",
     "output_type": "stream",
     "text": [
      "I0620 08:25:46.633718 139737458554624 tf_logging.py:115] segment_ids: 0 0 0 0 0 0 0 0 0 0 0 0 0 0 0 0 0 0 0 0 0 0 0 0 0 0 0 0 0 0 0 0 0 0 0 0 0 0 0 0 0 0 0 0 0 0 0 0 0 0 0 0 0 0 0 0 0 0 0 0 0 0 0 0 0 0 0 0 1 1 1 1 1 1 1 1 1 1 1 1 1 1 1 1 1 1 1 1 1 1 1 1 1 1 1 1 1 1 1 1 1 1 1 1 1 1 1 1 1 1 1 1 1 1 1 1 1 1 1 1 1 1 1 0 0 0 0 0\n"
     ]
    },
    {
     "name": "stdout",
     "output_type": "stream",
     "text": [
      "INFO:tensorflow:label: 1 (id = 1)\n"
     ]
    },
    {
     "name": "stderr",
     "output_type": "stream",
     "text": [
      "I0620 08:25:46.634474 139737458554624 tf_logging.py:115] label: 1 (id = 1)\n"
     ]
    },
    {
     "name": "stdout",
     "output_type": "stream",
     "text": [
      "INFO:tensorflow:*** Example ***\n"
     ]
    },
    {
     "name": "stderr",
     "output_type": "stream",
     "text": [
      "I0620 08:25:46.637406 139737458554624 tf_logging.py:115] *** Example ***\n"
     ]
    },
    {
     "name": "stdout",
     "output_type": "stream",
     "text": [
      "INFO:tensorflow:guid: None\n"
     ]
    },
    {
     "name": "stderr",
     "output_type": "stream",
     "text": [
      "I0620 08:25:46.638149 139737458554624 tf_logging.py:115] guid: None\n"
     ]
    },
    {
     "name": "stdout",
     "output_type": "stream",
     "text": [
      "INFO:tensorflow:tokens: [CLS] the point is that we pay for that . every time the president veto ##es a housing bill , every time a republican member votes against the $ 1 . 25 minimum wage , every time we are unable to get any support on our bill to tie medical care for the aged to social security , it is not the congress that suffers , it is not the administration ; it is the people [SEP] they talked . but what did they produce ? they promised a 25 - percent minimum wage increase in place of the program that president eisenhower asked for and that could have been passed and should have been passed . what did the workers get ? nothing at all . [SEP]\n"
     ]
    },
    {
     "name": "stderr",
     "output_type": "stream",
     "text": [
      "I0620 08:25:46.638699 139737458554624 tf_logging.py:115] tokens: [CLS] the point is that we pay for that . every time the president veto ##es a housing bill , every time a republican member votes against the $ 1 . 25 minimum wage , every time we are unable to get any support on our bill to tie medical care for the aged to social security , it is not the congress that suffers , it is not the administration ; it is the people [SEP] they talked . but what did they produce ? they promised a 25 - percent minimum wage increase in place of the program that president eisenhower asked for and that could have been passed and should have been passed . what did the workers get ? nothing at all . [SEP]\n"
     ]
    },
    {
     "name": "stdout",
     "output_type": "stream",
     "text": [
      "INFO:tensorflow:input_ids: 101 1996 2391 2003 2008 2057 3477 2005 2008 1012 2296 2051 1996 2343 22102 2229 1037 3847 3021 1010 2296 2051 1037 3951 2266 4494 2114 1996 1002 1015 1012 2423 6263 11897 1010 2296 2051 2057 2024 4039 2000 2131 2151 2490 2006 2256 3021 2000 5495 2966 2729 2005 1996 4793 2000 2591 3036 1010 2009 2003 2025 1996 3519 2008 17567 1010 2009 2003 2025 1996 3447 1025 2009 2003 1996 2111 102 2027 5720 1012 2021 2054 2106 2027 3965 1029 2027 5763 1037 2423 1011 3867 6263 11897 3623 1999 2173 1997 1996 2565 2008 2343 16551 2356 2005 1998 2008 2071 2031 2042 2979 1998 2323 2031 2042 2979 1012 2054 2106 1996 3667 2131 1029 2498 2012 2035 1012 102\n"
     ]
    },
    {
     "name": "stderr",
     "output_type": "stream",
     "text": [
      "I0620 08:25:46.639730 139737458554624 tf_logging.py:115] input_ids: 101 1996 2391 2003 2008 2057 3477 2005 2008 1012 2296 2051 1996 2343 22102 2229 1037 3847 3021 1010 2296 2051 1037 3951 2266 4494 2114 1996 1002 1015 1012 2423 6263 11897 1010 2296 2051 2057 2024 4039 2000 2131 2151 2490 2006 2256 3021 2000 5495 2966 2729 2005 1996 4793 2000 2591 3036 1010 2009 2003 2025 1996 3519 2008 17567 1010 2009 2003 2025 1996 3447 1025 2009 2003 1996 2111 102 2027 5720 1012 2021 2054 2106 2027 3965 1029 2027 5763 1037 2423 1011 3867 6263 11897 3623 1999 2173 1997 1996 2565 2008 2343 16551 2356 2005 1998 2008 2071 2031 2042 2979 1998 2323 2031 2042 2979 1012 2054 2106 1996 3667 2131 1029 2498 2012 2035 1012 102\n"
     ]
    },
    {
     "name": "stdout",
     "output_type": "stream",
     "text": [
      "INFO:tensorflow:input_mask: 1 1 1 1 1 1 1 1 1 1 1 1 1 1 1 1 1 1 1 1 1 1 1 1 1 1 1 1 1 1 1 1 1 1 1 1 1 1 1 1 1 1 1 1 1 1 1 1 1 1 1 1 1 1 1 1 1 1 1 1 1 1 1 1 1 1 1 1 1 1 1 1 1 1 1 1 1 1 1 1 1 1 1 1 1 1 1 1 1 1 1 1 1 1 1 1 1 1 1 1 1 1 1 1 1 1 1 1 1 1 1 1 1 1 1 1 1 1 1 1 1 1 1 1 1 1 1 1\n"
     ]
    },
    {
     "name": "stderr",
     "output_type": "stream",
     "text": [
      "I0620 08:25:46.640431 139737458554624 tf_logging.py:115] input_mask: 1 1 1 1 1 1 1 1 1 1 1 1 1 1 1 1 1 1 1 1 1 1 1 1 1 1 1 1 1 1 1 1 1 1 1 1 1 1 1 1 1 1 1 1 1 1 1 1 1 1 1 1 1 1 1 1 1 1 1 1 1 1 1 1 1 1 1 1 1 1 1 1 1 1 1 1 1 1 1 1 1 1 1 1 1 1 1 1 1 1 1 1 1 1 1 1 1 1 1 1 1 1 1 1 1 1 1 1 1 1 1 1 1 1 1 1 1 1 1 1 1 1 1 1 1 1 1 1\n"
     ]
    },
    {
     "name": "stdout",
     "output_type": "stream",
     "text": [
      "INFO:tensorflow:segment_ids: 0 0 0 0 0 0 0 0 0 0 0 0 0 0 0 0 0 0 0 0 0 0 0 0 0 0 0 0 0 0 0 0 0 0 0 0 0 0 0 0 0 0 0 0 0 0 0 0 0 0 0 0 0 0 0 0 0 0 0 0 0 0 0 0 0 0 0 0 0 0 0 0 0 0 0 0 0 1 1 1 1 1 1 1 1 1 1 1 1 1 1 1 1 1 1 1 1 1 1 1 1 1 1 1 1 1 1 1 1 1 1 1 1 1 1 1 1 1 1 1 1 1 1 1 1 1 1 1\n"
     ]
    },
    {
     "name": "stderr",
     "output_type": "stream",
     "text": [
      "I0620 08:25:46.641012 139737458554624 tf_logging.py:115] segment_ids: 0 0 0 0 0 0 0 0 0 0 0 0 0 0 0 0 0 0 0 0 0 0 0 0 0 0 0 0 0 0 0 0 0 0 0 0 0 0 0 0 0 0 0 0 0 0 0 0 0 0 0 0 0 0 0 0 0 0 0 0 0 0 0 0 0 0 0 0 0 0 0 0 0 0 0 0 0 1 1 1 1 1 1 1 1 1 1 1 1 1 1 1 1 1 1 1 1 1 1 1 1 1 1 1 1 1 1 1 1 1 1 1 1 1 1 1 1 1 1 1 1 1 1 1 1 1 1 1\n"
     ]
    },
    {
     "name": "stdout",
     "output_type": "stream",
     "text": [
      "INFO:tensorflow:label: 0 (id = 0)\n"
     ]
    },
    {
     "name": "stderr",
     "output_type": "stream",
     "text": [
      "I0620 08:25:46.641479 139737458554624 tf_logging.py:115] label: 0 (id = 0)\n"
     ]
    },
    {
     "name": "stdout",
     "output_type": "stream",
     "text": [
      "INFO:tensorflow:*** Example ***\n"
     ]
    },
    {
     "name": "stderr",
     "output_type": "stream",
     "text": [
      "I0620 08:25:46.644603 139737458554624 tf_logging.py:115] *** Example ***\n"
     ]
    },
    {
     "name": "stdout",
     "output_type": "stream",
     "text": [
      "INFO:tensorflow:guid: None\n"
     ]
    },
    {
     "name": "stderr",
     "output_type": "stream",
     "text": [
      "I0620 08:25:46.645499 139737458554624 tf_logging.py:115] guid: None\n"
     ]
    },
    {
     "name": "stdout",
     "output_type": "stream",
     "text": [
      "INFO:tensorflow:tokens: [CLS] when a political party votes , in 1935 , 98 percent against the 25 - cent minimum wage , i know what the party stands for ; and when that same political party in 1960 votes in the house of representatives 85 percent against $ 1 . 25 minimum wage in 1960 , i know the republican party stands where it has always [SEP] it is our function , however , not to merely in ##vo ##ke the names of franklin roosevelt and harry truman , not to merely live off what they did , but to bring these old programs up to date . franklin roosevelt proposed a 25 - cent minimum wage , back in the middle thirties ; 90 percent of the republicans [SEP]\n"
     ]
    },
    {
     "name": "stderr",
     "output_type": "stream",
     "text": [
      "I0620 08:25:46.646123 139737458554624 tf_logging.py:115] tokens: [CLS] when a political party votes , in 1935 , 98 percent against the 25 - cent minimum wage , i know what the party stands for ; and when that same political party in 1960 votes in the house of representatives 85 percent against $ 1 . 25 minimum wage in 1960 , i know the republican party stands where it has always [SEP] it is our function , however , not to merely in ##vo ##ke the names of franklin roosevelt and harry truman , not to merely live off what they did , but to bring these old programs up to date . franklin roosevelt proposed a 25 - cent minimum wage , back in the middle thirties ; 90 percent of the republicans [SEP]\n"
     ]
    },
    {
     "name": "stdout",
     "output_type": "stream",
     "text": [
      "INFO:tensorflow:input_ids: 101 2043 1037 2576 2283 4494 1010 1999 4437 1010 5818 3867 2114 1996 2423 1011 9358 6263 11897 1010 1045 2113 2054 1996 2283 4832 2005 1025 1998 2043 2008 2168 2576 2283 1999 3624 4494 1999 1996 2160 1997 4505 5594 3867 2114 1002 1015 1012 2423 6263 11897 1999 3624 1010 1045 2113 1996 3951 2283 4832 2073 2009 2038 2467 102 2009 2003 2256 3853 1010 2174 1010 2025 2000 6414 1999 6767 3489 1996 3415 1997 5951 8573 1998 4302 15237 1010 2025 2000 6414 2444 2125 2054 2027 2106 1010 2021 2000 3288 2122 2214 3454 2039 2000 3058 1012 5951 8573 3818 1037 2423 1011 9358 6263 11897 1010 2067 1999 1996 2690 26313 1025 3938 3867 1997 1996 10643 102\n"
     ]
    },
    {
     "name": "stderr",
     "output_type": "stream",
     "text": [
      "I0620 08:25:46.646694 139737458554624 tf_logging.py:115] input_ids: 101 2043 1037 2576 2283 4494 1010 1999 4437 1010 5818 3867 2114 1996 2423 1011 9358 6263 11897 1010 1045 2113 2054 1996 2283 4832 2005 1025 1998 2043 2008 2168 2576 2283 1999 3624 4494 1999 1996 2160 1997 4505 5594 3867 2114 1002 1015 1012 2423 6263 11897 1999 3624 1010 1045 2113 1996 3951 2283 4832 2073 2009 2038 2467 102 2009 2003 2256 3853 1010 2174 1010 2025 2000 6414 1999 6767 3489 1996 3415 1997 5951 8573 1998 4302 15237 1010 2025 2000 6414 2444 2125 2054 2027 2106 1010 2021 2000 3288 2122 2214 3454 2039 2000 3058 1012 5951 8573 3818 1037 2423 1011 9358 6263 11897 1010 2067 1999 1996 2690 26313 1025 3938 3867 1997 1996 10643 102\n"
     ]
    },
    {
     "name": "stdout",
     "output_type": "stream",
     "text": [
      "INFO:tensorflow:input_mask: 1 1 1 1 1 1 1 1 1 1 1 1 1 1 1 1 1 1 1 1 1 1 1 1 1 1 1 1 1 1 1 1 1 1 1 1 1 1 1 1 1 1 1 1 1 1 1 1 1 1 1 1 1 1 1 1 1 1 1 1 1 1 1 1 1 1 1 1 1 1 1 1 1 1 1 1 1 1 1 1 1 1 1 1 1 1 1 1 1 1 1 1 1 1 1 1 1 1 1 1 1 1 1 1 1 1 1 1 1 1 1 1 1 1 1 1 1 1 1 1 1 1 1 1 1 1 1 1\n"
     ]
    },
    {
     "name": "stderr",
     "output_type": "stream",
     "text": [
      "I0620 08:25:46.648027 139737458554624 tf_logging.py:115] input_mask: 1 1 1 1 1 1 1 1 1 1 1 1 1 1 1 1 1 1 1 1 1 1 1 1 1 1 1 1 1 1 1 1 1 1 1 1 1 1 1 1 1 1 1 1 1 1 1 1 1 1 1 1 1 1 1 1 1 1 1 1 1 1 1 1 1 1 1 1 1 1 1 1 1 1 1 1 1 1 1 1 1 1 1 1 1 1 1 1 1 1 1 1 1 1 1 1 1 1 1 1 1 1 1 1 1 1 1 1 1 1 1 1 1 1 1 1 1 1 1 1 1 1 1 1 1 1 1 1\n"
     ]
    },
    {
     "name": "stdout",
     "output_type": "stream",
     "text": [
      "INFO:tensorflow:segment_ids: 0 0 0 0 0 0 0 0 0 0 0 0 0 0 0 0 0 0 0 0 0 0 0 0 0 0 0 0 0 0 0 0 0 0 0 0 0 0 0 0 0 0 0 0 0 0 0 0 0 0 0 0 0 0 0 0 0 0 0 0 0 0 0 0 0 1 1 1 1 1 1 1 1 1 1 1 1 1 1 1 1 1 1 1 1 1 1 1 1 1 1 1 1 1 1 1 1 1 1 1 1 1 1 1 1 1 1 1 1 1 1 1 1 1 1 1 1 1 1 1 1 1 1 1 1 1 1 1\n"
     ]
    },
    {
     "name": "stderr",
     "output_type": "stream",
     "text": [
      "I0620 08:25:46.650287 139737458554624 tf_logging.py:115] segment_ids: 0 0 0 0 0 0 0 0 0 0 0 0 0 0 0 0 0 0 0 0 0 0 0 0 0 0 0 0 0 0 0 0 0 0 0 0 0 0 0 0 0 0 0 0 0 0 0 0 0 0 0 0 0 0 0 0 0 0 0 0 0 0 0 0 0 1 1 1 1 1 1 1 1 1 1 1 1 1 1 1 1 1 1 1 1 1 1 1 1 1 1 1 1 1 1 1 1 1 1 1 1 1 1 1 1 1 1 1 1 1 1 1 1 1 1 1 1 1 1 1 1 1 1 1 1 1 1 1\n"
     ]
    },
    {
     "name": "stdout",
     "output_type": "stream",
     "text": [
      "INFO:tensorflow:label: 0 (id = 0)\n"
     ]
    },
    {
     "name": "stderr",
     "output_type": "stream",
     "text": [
      "I0620 08:25:46.650820 139737458554624 tf_logging.py:115] label: 0 (id = 0)\n"
     ]
    },
    {
     "name": "stdout",
     "output_type": "stream",
     "text": [
      "Beginning Training!\n",
      "test labels 0    74\n",
      "1    73\n",
      "Name: label, dtype: int64\n",
      "train labels 0    657\n",
      "1    656\n",
      "Name: label, dtype: int64\n",
      "INFO:tensorflow:Using config: {'_model_dir': 'BERT_RUN2019-06-20 08:25:39.792798political', '_tf_random_seed': None, '_save_summary_steps': 100, '_save_checkpoints_steps': 5000, '_save_checkpoints_secs': None, '_session_config': allow_soft_placement: true\n",
      "graph_options {\n",
      "  rewrite_options {\n",
      "    meta_optimizer_iterations: ONE\n",
      "  }\n",
      "}\n",
      ", '_keep_checkpoint_max': 5, '_keep_checkpoint_every_n_hours': 10000, '_log_step_count_steps': 100, '_train_distribute': None, '_device_fn': None, '_protocol': None, '_eval_distribute': None, '_experimental_distribute': None, '_service': None, '_cluster_spec': <tensorflow.python.training.server_lib.ClusterSpec object at 0x7f1686724b00>, '_task_type': 'worker', '_task_id': 0, '_global_id_in_cluster': 0, '_master': '', '_evaluation_master': '', '_is_chief': True, '_num_ps_replicas': 0, '_num_worker_replicas': 1}\n"
     ]
    },
    {
     "name": "stderr",
     "output_type": "stream",
     "text": [
      "I0620 08:25:46.967599 139737458554624 tf_logging.py:115] Using config: {'_model_dir': 'BERT_RUN2019-06-20 08:25:39.792798political', '_tf_random_seed': None, '_save_summary_steps': 100, '_save_checkpoints_steps': 5000, '_save_checkpoints_secs': None, '_session_config': allow_soft_placement: true\n",
      "graph_options {\n",
      "  rewrite_options {\n",
      "    meta_optimizer_iterations: ONE\n",
      "  }\n",
      "}\n",
      ", '_keep_checkpoint_max': 5, '_keep_checkpoint_every_n_hours': 10000, '_log_step_count_steps': 100, '_train_distribute': None, '_device_fn': None, '_protocol': None, '_eval_distribute': None, '_experimental_distribute': None, '_service': None, '_cluster_spec': <tensorflow.python.training.server_lib.ClusterSpec object at 0x7f1686724b00>, '_task_type': 'worker', '_task_id': 0, '_global_id_in_cluster': 0, '_master': '', '_evaluation_master': '', '_is_chief': True, '_num_ps_replicas': 0, '_num_worker_replicas': 1}\n"
     ]
    },
    {
     "name": "stdout",
     "output_type": "stream",
     "text": [
      "INFO:tensorflow:Calling model_fn.\n"
     ]
    },
    {
     "name": "stderr",
     "output_type": "stream",
     "text": [
      "I0620 08:25:47.380099 139737458554624 tf_logging.py:115] Calling model_fn.\n"
     ]
    },
    {
     "name": "stdout",
     "output_type": "stream",
     "text": [
      "INFO:tensorflow:Saver not created because there are no variables in the graph to restore\n"
     ]
    },
    {
     "name": "stderr",
     "output_type": "stream",
     "text": [
      "I0620 08:25:49.445491 139737458554624 tf_logging.py:115] Saver not created because there are no variables in the graph to restore\n",
      "/home/jannis/miniconda3/envs/tf/lib/python3.6/site-packages/tensorflow/python/ops/gradients_impl.py:108: UserWarning: Converting sparse IndexedSlices to a dense Tensor of unknown shape. This may consume a large amount of memory.\n",
      "  \"Converting sparse IndexedSlices to a dense Tensor of unknown shape. \"\n"
     ]
    },
    {
     "name": "stdout",
     "output_type": "stream",
     "text": [
      "INFO:tensorflow:Done calling model_fn.\n"
     ]
    },
    {
     "name": "stderr",
     "output_type": "stream",
     "text": [
      "I0620 08:25:55.444383 139737458554624 tf_logging.py:115] Done calling model_fn.\n"
     ]
    },
    {
     "name": "stdout",
     "output_type": "stream",
     "text": [
      "INFO:tensorflow:Create CheckpointSaverHook.\n"
     ]
    },
    {
     "name": "stderr",
     "output_type": "stream",
     "text": [
      "I0620 08:25:55.446628 139737458554624 tf_logging.py:115] Create CheckpointSaverHook.\n"
     ]
    },
    {
     "name": "stdout",
     "output_type": "stream",
     "text": [
      "INFO:tensorflow:Graph was finalized.\n"
     ]
    },
    {
     "name": "stderr",
     "output_type": "stream",
     "text": [
      "I0620 08:25:58.579635 139737458554624 tf_logging.py:115] Graph was finalized.\n"
     ]
    },
    {
     "name": "stdout",
     "output_type": "stream",
     "text": [
      "INFO:tensorflow:Running local_init_op.\n"
     ]
    },
    {
     "name": "stderr",
     "output_type": "stream",
     "text": [
      "I0620 08:26:03.131448 139737458554624 tf_logging.py:115] Running local_init_op.\n"
     ]
    },
    {
     "name": "stdout",
     "output_type": "stream",
     "text": [
      "INFO:tensorflow:Done running local_init_op.\n"
     ]
    },
    {
     "name": "stderr",
     "output_type": "stream",
     "text": [
      "I0620 08:26:03.240341 139737458554624 tf_logging.py:115] Done running local_init_op.\n"
     ]
    },
    {
     "name": "stdout",
     "output_type": "stream",
     "text": [
      "INFO:tensorflow:Saving checkpoints for 0 into BERT_RUN2019-06-20 08:25:39.792798political/model.ckpt.\n"
     ]
    },
    {
     "name": "stderr",
     "output_type": "stream",
     "text": [
      "I0620 08:26:09.236234 139737458554624 tf_logging.py:115] Saving checkpoints for 0 into BERT_RUN2019-06-20 08:25:39.792798political/model.ckpt.\n"
     ]
    },
    {
     "name": "stdout",
     "output_type": "stream",
     "text": [
      "INFO:tensorflow:loss = 0.66105103, step = 0\n"
     ]
    },
    {
     "name": "stderr",
     "output_type": "stream",
     "text": [
      "I0620 08:26:21.063784 139737458554624 tf_logging.py:115] loss = 0.66105103, step = 0\n"
     ]
    },
    {
     "name": "stdout",
     "output_type": "stream",
     "text": [
      "INFO:tensorflow:global_step/sec: 2.27729\n"
     ]
    },
    {
     "name": "stderr",
     "output_type": "stream",
     "text": [
      "I0620 08:27:04.975204 139737458554624 tf_logging.py:115] global_step/sec: 2.27729\n"
     ]
    },
    {
     "name": "stdout",
     "output_type": "stream",
     "text": [
      "INFO:tensorflow:loss = 1.0218525, step = 100 (43.914 sec)\n"
     ]
    },
    {
     "name": "stderr",
     "output_type": "stream",
     "text": [
      "I0620 08:27:04.977652 139737458554624 tf_logging.py:115] loss = 1.0218525, step = 100 (43.914 sec)\n"
     ]
    },
    {
     "name": "stdout",
     "output_type": "stream",
     "text": [
      "INFO:tensorflow:global_step/sec: 3.17945\n"
     ]
    },
    {
     "name": "stderr",
     "output_type": "stream",
     "text": [
      "I0620 08:27:36.427198 139737458554624 tf_logging.py:115] global_step/sec: 3.17945\n"
     ]
    },
    {
     "name": "stdout",
     "output_type": "stream",
     "text": [
      "INFO:tensorflow:loss = 0.6068105, step = 200 (31.452 sec)\n"
     ]
    },
    {
     "name": "stderr",
     "output_type": "stream",
     "text": [
      "I0620 08:27:36.429888 139737458554624 tf_logging.py:115] loss = 0.6068105, step = 200 (31.452 sec)\n"
     ]
    },
    {
     "name": "stdout",
     "output_type": "stream",
     "text": [
      "INFO:tensorflow:global_step/sec: 3.17571\n"
     ]
    },
    {
     "name": "stderr",
     "output_type": "stream",
     "text": [
      "I0620 08:28:07.916160 139737458554624 tf_logging.py:115] global_step/sec: 3.17571\n"
     ]
    },
    {
     "name": "stdout",
     "output_type": "stream",
     "text": [
      "INFO:tensorflow:loss = 0.30624786, step = 300 (31.488 sec)\n"
     ]
    },
    {
     "name": "stderr",
     "output_type": "stream",
     "text": [
      "I0620 08:28:07.918101 139737458554624 tf_logging.py:115] loss = 0.30624786, step = 300 (31.488 sec)\n"
     ]
    },
    {
     "name": "stdout",
     "output_type": "stream",
     "text": [
      "INFO:tensorflow:global_step/sec: 3.1746\n"
     ]
    },
    {
     "name": "stderr",
     "output_type": "stream",
     "text": [
      "I0620 08:28:39.416135 139737458554624 tf_logging.py:115] global_step/sec: 3.1746\n"
     ]
    },
    {
     "name": "stdout",
     "output_type": "stream",
     "text": [
      "INFO:tensorflow:loss = 0.5230654, step = 400 (31.500 sec)\n"
     ]
    },
    {
     "name": "stderr",
     "output_type": "stream",
     "text": [
      "I0620 08:28:39.417919 139737458554624 tf_logging.py:115] loss = 0.5230654, step = 400 (31.500 sec)\n"
     ]
    },
    {
     "name": "stdout",
     "output_type": "stream",
     "text": [
      "INFO:tensorflow:Saving checkpoints for 492 into BERT_RUN2019-06-20 08:25:39.792798political/model.ckpt.\n"
     ]
    },
    {
     "name": "stderr",
     "output_type": "stream",
     "text": [
      "I0620 08:29:08.134298 139737458554624 tf_logging.py:115] Saving checkpoints for 492 into BERT_RUN2019-06-20 08:25:39.792798political/model.ckpt.\n"
     ]
    },
    {
     "name": "stdout",
     "output_type": "stream",
     "text": [
      "INFO:tensorflow:Loss for final step: 0.48376572.\n"
     ]
    },
    {
     "name": "stderr",
     "output_type": "stream",
     "text": [
      "I0620 08:29:14.829594 139737458554624 tf_logging.py:115] Loss for final step: 0.48376572.\n"
     ]
    },
    {
     "name": "stdout",
     "output_type": "stream",
     "text": [
      "<generator object Estimator.predict at 0x7f140a298fc0>\n",
      "INFO:tensorflow:Calling model_fn.\n"
     ]
    },
    {
     "name": "stderr",
     "output_type": "stream",
     "text": [
      "I0620 08:29:14.886283 139737458554624 tf_logging.py:115] Calling model_fn.\n"
     ]
    },
    {
     "name": "stdout",
     "output_type": "stream",
     "text": [
      "INFO:tensorflow:Saver not created because there are no variables in the graph to restore\n"
     ]
    },
    {
     "name": "stderr",
     "output_type": "stream",
     "text": [
      "I0620 08:29:16.508555 139737458554624 tf_logging.py:115] Saver not created because there are no variables in the graph to restore\n"
     ]
    },
    {
     "name": "stdout",
     "output_type": "stream",
     "text": [
      "INFO:tensorflow:Done calling model_fn.\n"
     ]
    },
    {
     "name": "stderr",
     "output_type": "stream",
     "text": [
      "I0620 08:29:16.613373 139737458554624 tf_logging.py:115] Done calling model_fn.\n"
     ]
    },
    {
     "name": "stdout",
     "output_type": "stream",
     "text": [
      "INFO:tensorflow:Graph was finalized.\n"
     ]
    },
    {
     "name": "stderr",
     "output_type": "stream",
     "text": [
      "I0620 08:29:17.569034 139737458554624 tf_logging.py:115] Graph was finalized.\n"
     ]
    },
    {
     "name": "stdout",
     "output_type": "stream",
     "text": [
      "INFO:tensorflow:Restoring parameters from BERT_RUN2019-06-20 08:25:39.792798political/model.ckpt-492\n"
     ]
    },
    {
     "name": "stderr",
     "output_type": "stream",
     "text": [
      "I0620 08:29:17.571583 139737458554624 tf_logging.py:115] Restoring parameters from BERT_RUN2019-06-20 08:25:39.792798political/model.ckpt-492\n"
     ]
    },
    {
     "name": "stdout",
     "output_type": "stream",
     "text": [
      "INFO:tensorflow:Running local_init_op.\n"
     ]
    },
    {
     "name": "stderr",
     "output_type": "stream",
     "text": [
      "I0620 08:29:17.994343 139737458554624 tf_logging.py:115] Running local_init_op.\n"
     ]
    },
    {
     "name": "stdout",
     "output_type": "stream",
     "text": [
      "INFO:tensorflow:Done running local_init_op.\n"
     ]
    },
    {
     "name": "stderr",
     "output_type": "stream",
     "text": [
      "I0620 08:29:18.036114 139737458554624 tf_logging.py:115] Done running local_init_op.\n"
     ]
    },
    {
     "name": "stdout",
     "output_type": "stream",
     "text": [
      "[0. 0. 0. 0. 0. 0. 1. 1. 1. 1. 1. 0. 0. 1. 1. 1. 1. 1. 0. 0. 0. 1. 0. 0.\n",
      " 1. 0. 0. 0. 0. 0. 0. 1. 1. 0. 0. 1. 0. 1. 0. 0. 1. 1. 0. 0. 0. 1. 1. 0.\n",
      " 0. 0. 0. 1. 0. 1. 1. 0. 0. 0. 0. 1. 0. 0. 0. 0. 0. 0. 1. 0. 0. 0. 0. 0.\n",
      " 0. 0. 1. 1. 0. 0. 0. 1. 1. 0. 1. 1. 0. 0. 0. 1. 1. 0. 0. 0. 1. 1. 1. 0.\n",
      " 1. 1. 0. 1. 0. 1. 1. 1. 0. 0. 1. 1. 0. 1. 0. 0. 1. 0. 0. 0. 0. 1. 1. 1.\n",
      " 1. 0. 1. 0. 0. 0. 1. 0. 1. 1. 0. 1. 1. 0. 1. 1. 1. 0. 0. 0. 0. 1. 0. 1.\n",
      " 1. 1. 1.]\n",
      "              precision    recall  f1-score   support\n",
      "\n",
      "    relation       0.67      0.76      0.71        74\n",
      "   unrelated       0.72      0.63      0.67        73\n",
      "\n",
      "    accuracy                           0.69       147\n",
      "   macro avg       0.70      0.69      0.69       147\n",
      "weighted avg       0.70      0.69      0.69       147\n",
      "\n",
      "Accuracy: 0.6938775510204082\n",
      "Training took time  0:03:33.093368\n",
      "(1314, 8) (146, 8)\n",
      "INFO:tensorflow:Writing example 0 of 1314\n"
     ]
    },
    {
     "name": "stderr",
     "output_type": "stream",
     "text": [
      "I0620 08:29:20.166392 139737458554624 tf_logging.py:115] Writing example 0 of 1314\n"
     ]
    },
    {
     "name": "stdout",
     "output_type": "stream",
     "text": [
      "INFO:tensorflow:*** Example ***\n"
     ]
    },
    {
     "name": "stderr",
     "output_type": "stream",
     "text": [
      "I0620 08:29:20.170770 139737458554624 tf_logging.py:115] *** Example ***\n"
     ]
    },
    {
     "name": "stdout",
     "output_type": "stream",
     "text": [
      "INFO:tensorflow:guid: None\n"
     ]
    },
    {
     "name": "stderr",
     "output_type": "stream",
     "text": [
      "I0620 08:29:20.171556 139737458554624 tf_logging.py:115] guid: None\n"
     ]
    },
    {
     "name": "stdout",
     "output_type": "stream",
     "text": [
      "INFO:tensorflow:tokens: [CLS] what are the folks going to do ? what are the voters going to do ? here ' s what you do : first , you look at our record and on the record i say you compare the record of the eisenhower administration with the record of the administration which preceded it . both have been in for 7 ½ years , [SEP] and what about that future ? we want a future of progress , but above all , the people of this country are concerned that our children may grow up in a world in which we can be free and we can live at peace - and that is the most important thing that americans must think about at this time . [SEP]\n"
     ]
    },
    {
     "name": "stderr",
     "output_type": "stream",
     "text": [
      "I0620 08:29:20.172225 139737458554624 tf_logging.py:115] tokens: [CLS] what are the folks going to do ? what are the voters going to do ? here ' s what you do : first , you look at our record and on the record i say you compare the record of the eisenhower administration with the record of the administration which preceded it . both have been in for 7 ½ years , [SEP] and what about that future ? we want a future of progress , but above all , the people of this country are concerned that our children may grow up in a world in which we can be free and we can live at peace - and that is the most important thing that americans must think about at this time . [SEP]\n"
     ]
    },
    {
     "name": "stdout",
     "output_type": "stream",
     "text": [
      "INFO:tensorflow:input_ids: 101 2054 2024 1996 12455 2183 2000 2079 1029 2054 2024 1996 7206 2183 2000 2079 1029 2182 1005 1055 2054 2017 2079 1024 2034 1010 2017 2298 2012 2256 2501 1998 2006 1996 2501 1045 2360 2017 12826 1996 2501 1997 1996 16551 3447 2007 1996 2501 1997 1996 3447 2029 11677 2009 1012 2119 2031 2042 1999 2005 1021 1092 2086 1010 102 1998 2054 2055 2008 2925 1029 2057 2215 1037 2925 1997 5082 1010 2021 2682 2035 1010 1996 2111 1997 2023 2406 2024 4986 2008 2256 2336 2089 4982 2039 1999 1037 2088 1999 2029 2057 2064 2022 2489 1998 2057 2064 2444 2012 3521 1011 1998 2008 2003 1996 2087 2590 2518 2008 4841 2442 2228 2055 2012 2023 2051 1012 102\n"
     ]
    },
    {
     "name": "stderr",
     "output_type": "stream",
     "text": [
      "I0620 08:29:20.172918 139737458554624 tf_logging.py:115] input_ids: 101 2054 2024 1996 12455 2183 2000 2079 1029 2054 2024 1996 7206 2183 2000 2079 1029 2182 1005 1055 2054 2017 2079 1024 2034 1010 2017 2298 2012 2256 2501 1998 2006 1996 2501 1045 2360 2017 12826 1996 2501 1997 1996 16551 3447 2007 1996 2501 1997 1996 3447 2029 11677 2009 1012 2119 2031 2042 1999 2005 1021 1092 2086 1010 102 1998 2054 2055 2008 2925 1029 2057 2215 1037 2925 1997 5082 1010 2021 2682 2035 1010 1996 2111 1997 2023 2406 2024 4986 2008 2256 2336 2089 4982 2039 1999 1037 2088 1999 2029 2057 2064 2022 2489 1998 2057 2064 2444 2012 3521 1011 1998 2008 2003 1996 2087 2590 2518 2008 4841 2442 2228 2055 2012 2023 2051 1012 102\n"
     ]
    },
    {
     "name": "stdout",
     "output_type": "stream",
     "text": [
      "INFO:tensorflow:input_mask: 1 1 1 1 1 1 1 1 1 1 1 1 1 1 1 1 1 1 1 1 1 1 1 1 1 1 1 1 1 1 1 1 1 1 1 1 1 1 1 1 1 1 1 1 1 1 1 1 1 1 1 1 1 1 1 1 1 1 1 1 1 1 1 1 1 1 1 1 1 1 1 1 1 1 1 1 1 1 1 1 1 1 1 1 1 1 1 1 1 1 1 1 1 1 1 1 1 1 1 1 1 1 1 1 1 1 1 1 1 1 1 1 1 1 1 1 1 1 1 1 1 1 1 1 1 1 1 1\n"
     ]
    },
    {
     "name": "stderr",
     "output_type": "stream",
     "text": [
      "I0620 08:29:20.173823 139737458554624 tf_logging.py:115] input_mask: 1 1 1 1 1 1 1 1 1 1 1 1 1 1 1 1 1 1 1 1 1 1 1 1 1 1 1 1 1 1 1 1 1 1 1 1 1 1 1 1 1 1 1 1 1 1 1 1 1 1 1 1 1 1 1 1 1 1 1 1 1 1 1 1 1 1 1 1 1 1 1 1 1 1 1 1 1 1 1 1 1 1 1 1 1 1 1 1 1 1 1 1 1 1 1 1 1 1 1 1 1 1 1 1 1 1 1 1 1 1 1 1 1 1 1 1 1 1 1 1 1 1 1 1 1 1 1 1\n"
     ]
    },
    {
     "name": "stdout",
     "output_type": "stream",
     "text": [
      "INFO:tensorflow:segment_ids: 0 0 0 0 0 0 0 0 0 0 0 0 0 0 0 0 0 0 0 0 0 0 0 0 0 0 0 0 0 0 0 0 0 0 0 0 0 0 0 0 0 0 0 0 0 0 0 0 0 0 0 0 0 0 0 0 0 0 0 0 0 0 0 0 0 1 1 1 1 1 1 1 1 1 1 1 1 1 1 1 1 1 1 1 1 1 1 1 1 1 1 1 1 1 1 1 1 1 1 1 1 1 1 1 1 1 1 1 1 1 1 1 1 1 1 1 1 1 1 1 1 1 1 1 1 1 1 1\n"
     ]
    },
    {
     "name": "stderr",
     "output_type": "stream",
     "text": [
      "I0620 08:29:20.175482 139737458554624 tf_logging.py:115] segment_ids: 0 0 0 0 0 0 0 0 0 0 0 0 0 0 0 0 0 0 0 0 0 0 0 0 0 0 0 0 0 0 0 0 0 0 0 0 0 0 0 0 0 0 0 0 0 0 0 0 0 0 0 0 0 0 0 0 0 0 0 0 0 0 0 0 0 1 1 1 1 1 1 1 1 1 1 1 1 1 1 1 1 1 1 1 1 1 1 1 1 1 1 1 1 1 1 1 1 1 1 1 1 1 1 1 1 1 1 1 1 1 1 1 1 1 1 1 1 1 1 1 1 1 1 1 1 1 1 1\n"
     ]
    },
    {
     "name": "stdout",
     "output_type": "stream",
     "text": [
      "INFO:tensorflow:label: 1 (id = 1)\n"
     ]
    },
    {
     "name": "stderr",
     "output_type": "stream",
     "text": [
      "I0620 08:29:20.176141 139737458554624 tf_logging.py:115] label: 1 (id = 1)\n"
     ]
    },
    {
     "name": "stdout",
     "output_type": "stream",
     "text": [
      "INFO:tensorflow:*** Example ***\n"
     ]
    },
    {
     "name": "stderr",
     "output_type": "stream",
     "text": [
      "I0620 08:29:20.178934 139737458554624 tf_logging.py:115] *** Example ***\n"
     ]
    },
    {
     "name": "stdout",
     "output_type": "stream",
     "text": [
      "INFO:tensorflow:guid: None\n"
     ]
    },
    {
     "name": "stderr",
     "output_type": "stream",
     "text": [
      "I0620 08:29:20.180129 139737458554624 tf_logging.py:115] guid: None\n"
     ]
    },
    {
     "name": "stdout",
     "output_type": "stream",
     "text": [
      "INFO:tensorflow:tokens: [CLS] [ applause . ] mr . nixon considers a minimum wage of $ 1 . 25 to be extreme . mr . nixon considers federal aid to make sure that teachers are paid a decent salary to be extreme . [SEP] meanwhile , the contradictory statements of senator kennedy still leave him opposed to this position . the miss ##tate ##ment : in the second debate senator kennedy said : the republicans in recent years , not only in the last 25 years , but in the last 8 years , have opposed * * * minimum wage * * the facts : senator kennedy is saying that republicans who opposed his particular bill are against minimum wage . the administration supported an increase in the [SEP]\n"
     ]
    },
    {
     "name": "stderr",
     "output_type": "stream",
     "text": [
      "I0620 08:29:20.180705 139737458554624 tf_logging.py:115] tokens: [CLS] [ applause . ] mr . nixon considers a minimum wage of $ 1 . 25 to be extreme . mr . nixon considers federal aid to make sure that teachers are paid a decent salary to be extreme . [SEP] meanwhile , the contradictory statements of senator kennedy still leave him opposed to this position . the miss ##tate ##ment : in the second debate senator kennedy said : the republicans in recent years , not only in the last 25 years , but in the last 8 years , have opposed * * * minimum wage * * the facts : senator kennedy is saying that republicans who opposed his particular bill are against minimum wage . the administration supported an increase in the [SEP]\n"
     ]
    },
    {
     "name": "stdout",
     "output_type": "stream",
     "text": [
      "INFO:tensorflow:input_ids: 101 1031 20737 1012 1033 2720 1012 11296 10592 1037 6263 11897 1997 1002 1015 1012 2423 2000 2022 6034 1012 2720 1012 11296 10592 2976 4681 2000 2191 2469 2008 5089 2024 3825 1037 11519 10300 2000 2022 6034 1012 102 5564 1010 1996 27894 8635 1997 5205 5817 2145 2681 2032 4941 2000 2023 2597 1012 1996 3335 12259 3672 1024 1999 1996 2117 5981 5205 5817 2056 1024 1996 10643 1999 3522 2086 1010 2025 2069 1999 1996 2197 2423 2086 1010 2021 1999 1996 2197 1022 2086 1010 2031 4941 1008 1008 1008 6263 11897 1008 1008 1996 8866 1024 5205 5817 2003 3038 2008 10643 2040 4941 2010 3327 3021 2024 2114 6263 11897 1012 1996 3447 3569 2019 3623 1999 1996 102\n"
     ]
    },
    {
     "name": "stderr",
     "output_type": "stream",
     "text": [
      "I0620 08:29:20.181295 139737458554624 tf_logging.py:115] input_ids: 101 1031 20737 1012 1033 2720 1012 11296 10592 1037 6263 11897 1997 1002 1015 1012 2423 2000 2022 6034 1012 2720 1012 11296 10592 2976 4681 2000 2191 2469 2008 5089 2024 3825 1037 11519 10300 2000 2022 6034 1012 102 5564 1010 1996 27894 8635 1997 5205 5817 2145 2681 2032 4941 2000 2023 2597 1012 1996 3335 12259 3672 1024 1999 1996 2117 5981 5205 5817 2056 1024 1996 10643 1999 3522 2086 1010 2025 2069 1999 1996 2197 2423 2086 1010 2021 1999 1996 2197 1022 2086 1010 2031 4941 1008 1008 1008 6263 11897 1008 1008 1996 8866 1024 5205 5817 2003 3038 2008 10643 2040 4941 2010 3327 3021 2024 2114 6263 11897 1012 1996 3447 3569 2019 3623 1999 1996 102\n"
     ]
    },
    {
     "name": "stdout",
     "output_type": "stream",
     "text": [
      "INFO:tensorflow:input_mask: 1 1 1 1 1 1 1 1 1 1 1 1 1 1 1 1 1 1 1 1 1 1 1 1 1 1 1 1 1 1 1 1 1 1 1 1 1 1 1 1 1 1 1 1 1 1 1 1 1 1 1 1 1 1 1 1 1 1 1 1 1 1 1 1 1 1 1 1 1 1 1 1 1 1 1 1 1 1 1 1 1 1 1 1 1 1 1 1 1 1 1 1 1 1 1 1 1 1 1 1 1 1 1 1 1 1 1 1 1 1 1 1 1 1 1 1 1 1 1 1 1 1 1 1 1 1 1 1\n"
     ]
    },
    {
     "name": "stderr",
     "output_type": "stream",
     "text": [
      "I0620 08:29:20.181815 139737458554624 tf_logging.py:115] input_mask: 1 1 1 1 1 1 1 1 1 1 1 1 1 1 1 1 1 1 1 1 1 1 1 1 1 1 1 1 1 1 1 1 1 1 1 1 1 1 1 1 1 1 1 1 1 1 1 1 1 1 1 1 1 1 1 1 1 1 1 1 1 1 1 1 1 1 1 1 1 1 1 1 1 1 1 1 1 1 1 1 1 1 1 1 1 1 1 1 1 1 1 1 1 1 1 1 1 1 1 1 1 1 1 1 1 1 1 1 1 1 1 1 1 1 1 1 1 1 1 1 1 1 1 1 1 1 1 1\n"
     ]
    },
    {
     "name": "stdout",
     "output_type": "stream",
     "text": [
      "INFO:tensorflow:segment_ids: 0 0 0 0 0 0 0 0 0 0 0 0 0 0 0 0 0 0 0 0 0 0 0 0 0 0 0 0 0 0 0 0 0 0 0 0 0 0 0 0 0 0 1 1 1 1 1 1 1 1 1 1 1 1 1 1 1 1 1 1 1 1 1 1 1 1 1 1 1 1 1 1 1 1 1 1 1 1 1 1 1 1 1 1 1 1 1 1 1 1 1 1 1 1 1 1 1 1 1 1 1 1 1 1 1 1 1 1 1 1 1 1 1 1 1 1 1 1 1 1 1 1 1 1 1 1 1 1\n"
     ]
    },
    {
     "name": "stderr",
     "output_type": "stream",
     "text": [
      "I0620 08:29:20.182386 139737458554624 tf_logging.py:115] segment_ids: 0 0 0 0 0 0 0 0 0 0 0 0 0 0 0 0 0 0 0 0 0 0 0 0 0 0 0 0 0 0 0 0 0 0 0 0 0 0 0 0 0 0 1 1 1 1 1 1 1 1 1 1 1 1 1 1 1 1 1 1 1 1 1 1 1 1 1 1 1 1 1 1 1 1 1 1 1 1 1 1 1 1 1 1 1 1 1 1 1 1 1 1 1 1 1 1 1 1 1 1 1 1 1 1 1 1 1 1 1 1 1 1 1 1 1 1 1 1 1 1 1 1 1 1 1 1 1 1\n"
     ]
    },
    {
     "name": "stdout",
     "output_type": "stream",
     "text": [
      "INFO:tensorflow:label: 0 (id = 0)\n"
     ]
    },
    {
     "name": "stderr",
     "output_type": "stream",
     "text": [
      "I0620 08:29:20.183225 139737458554624 tf_logging.py:115] label: 0 (id = 0)\n"
     ]
    },
    {
     "name": "stdout",
     "output_type": "stream",
     "text": [
      "INFO:tensorflow:*** Example ***\n"
     ]
    },
    {
     "name": "stderr",
     "output_type": "stream",
     "text": [
      "I0620 08:29:20.185131 139737458554624 tf_logging.py:115] *** Example ***\n"
     ]
    },
    {
     "name": "stdout",
     "output_type": "stream",
     "text": [
      "INFO:tensorflow:guid: None\n"
     ]
    },
    {
     "name": "stderr",
     "output_type": "stream",
     "text": [
      "I0620 08:29:20.186711 139737458554624 tf_logging.py:115] guid: None\n"
     ]
    },
    {
     "name": "stdout",
     "output_type": "stream",
     "text": [
      "INFO:tensorflow:tokens: [CLS] [ applause . ] let me make it very clear that if we are successful in january , we are going to recommend the following programs : first , we are going to make sure that those americans who are retired , who are on social security , who do need medical care , shall have it under the social security system . [ applause . [SEP] [ applause . ] a party which opposed social security , which tried to repeal it , a party which opposed minimum wage and tried to repeal it , a party which has opposed our efforts to pass in this congress medical care for the aged to the social security . [ applause . [SEP]\n"
     ]
    },
    {
     "name": "stderr",
     "output_type": "stream",
     "text": [
      "I0620 08:29:20.187352 139737458554624 tf_logging.py:115] tokens: [CLS] [ applause . ] let me make it very clear that if we are successful in january , we are going to recommend the following programs : first , we are going to make sure that those americans who are retired , who are on social security , who do need medical care , shall have it under the social security system . [ applause . [SEP] [ applause . ] a party which opposed social security , which tried to repeal it , a party which opposed minimum wage and tried to repeal it , a party which has opposed our efforts to pass in this congress medical care for the aged to the social security . [ applause . [SEP]\n"
     ]
    },
    {
     "name": "stdout",
     "output_type": "stream",
     "text": [
      "INFO:tensorflow:input_ids: 101 1031 20737 1012 1033 2292 2033 2191 2009 2200 3154 2008 2065 2057 2024 3144 1999 2254 1010 2057 2024 2183 2000 16755 1996 2206 3454 1024 2034 1010 2057 2024 2183 2000 2191 2469 2008 2216 4841 2040 2024 3394 1010 2040 2024 2006 2591 3036 1010 2040 2079 2342 2966 2729 1010 4618 2031 2009 2104 1996 2591 3036 2291 1012 1031 20737 1012 102 1031 20737 1012 1033 1037 2283 2029 4941 2591 3036 1010 2029 2699 2000 21825 2009 1010 1037 2283 2029 4941 6263 11897 1998 2699 2000 21825 2009 1010 1037 2283 2029 2038 4941 2256 4073 2000 3413 1999 2023 3519 2966 2729 2005 1996 4793 2000 1996 2591 3036 1012 1031 20737 1012 102 0 0 0 0 0\n"
     ]
    },
    {
     "name": "stderr",
     "output_type": "stream",
     "text": [
      "I0620 08:29:20.188031 139737458554624 tf_logging.py:115] input_ids: 101 1031 20737 1012 1033 2292 2033 2191 2009 2200 3154 2008 2065 2057 2024 3144 1999 2254 1010 2057 2024 2183 2000 16755 1996 2206 3454 1024 2034 1010 2057 2024 2183 2000 2191 2469 2008 2216 4841 2040 2024 3394 1010 2040 2024 2006 2591 3036 1010 2040 2079 2342 2966 2729 1010 4618 2031 2009 2104 1996 2591 3036 2291 1012 1031 20737 1012 102 1031 20737 1012 1033 1037 2283 2029 4941 2591 3036 1010 2029 2699 2000 21825 2009 1010 1037 2283 2029 4941 6263 11897 1998 2699 2000 21825 2009 1010 1037 2283 2029 2038 4941 2256 4073 2000 3413 1999 2023 3519 2966 2729 2005 1996 4793 2000 1996 2591 3036 1012 1031 20737 1012 102 0 0 0 0 0\n"
     ]
    },
    {
     "name": "stdout",
     "output_type": "stream",
     "text": [
      "INFO:tensorflow:input_mask: 1 1 1 1 1 1 1 1 1 1 1 1 1 1 1 1 1 1 1 1 1 1 1 1 1 1 1 1 1 1 1 1 1 1 1 1 1 1 1 1 1 1 1 1 1 1 1 1 1 1 1 1 1 1 1 1 1 1 1 1 1 1 1 1 1 1 1 1 1 1 1 1 1 1 1 1 1 1 1 1 1 1 1 1 1 1 1 1 1 1 1 1 1 1 1 1 1 1 1 1 1 1 1 1 1 1 1 1 1 1 1 1 1 1 1 1 1 1 1 1 1 1 1 0 0 0 0 0\n"
     ]
    },
    {
     "name": "stderr",
     "output_type": "stream",
     "text": [
      "I0620 08:29:20.188734 139737458554624 tf_logging.py:115] input_mask: 1 1 1 1 1 1 1 1 1 1 1 1 1 1 1 1 1 1 1 1 1 1 1 1 1 1 1 1 1 1 1 1 1 1 1 1 1 1 1 1 1 1 1 1 1 1 1 1 1 1 1 1 1 1 1 1 1 1 1 1 1 1 1 1 1 1 1 1 1 1 1 1 1 1 1 1 1 1 1 1 1 1 1 1 1 1 1 1 1 1 1 1 1 1 1 1 1 1 1 1 1 1 1 1 1 1 1 1 1 1 1 1 1 1 1 1 1 1 1 1 1 1 1 0 0 0 0 0\n"
     ]
    },
    {
     "name": "stdout",
     "output_type": "stream",
     "text": [
      "INFO:tensorflow:segment_ids: 0 0 0 0 0 0 0 0 0 0 0 0 0 0 0 0 0 0 0 0 0 0 0 0 0 0 0 0 0 0 0 0 0 0 0 0 0 0 0 0 0 0 0 0 0 0 0 0 0 0 0 0 0 0 0 0 0 0 0 0 0 0 0 0 0 0 0 0 1 1 1 1 1 1 1 1 1 1 1 1 1 1 1 1 1 1 1 1 1 1 1 1 1 1 1 1 1 1 1 1 1 1 1 1 1 1 1 1 1 1 1 1 1 1 1 1 1 1 1 1 1 1 1 0 0 0 0 0\n"
     ]
    },
    {
     "name": "stderr",
     "output_type": "stream",
     "text": [
      "I0620 08:29:20.189479 139737458554624 tf_logging.py:115] segment_ids: 0 0 0 0 0 0 0 0 0 0 0 0 0 0 0 0 0 0 0 0 0 0 0 0 0 0 0 0 0 0 0 0 0 0 0 0 0 0 0 0 0 0 0 0 0 0 0 0 0 0 0 0 0 0 0 0 0 0 0 0 0 0 0 0 0 0 0 0 1 1 1 1 1 1 1 1 1 1 1 1 1 1 1 1 1 1 1 1 1 1 1 1 1 1 1 1 1 1 1 1 1 1 1 1 1 1 1 1 1 1 1 1 1 1 1 1 1 1 1 1 1 1 1 0 0 0 0 0\n"
     ]
    },
    {
     "name": "stdout",
     "output_type": "stream",
     "text": [
      "INFO:tensorflow:label: 1 (id = 1)\n"
     ]
    },
    {
     "name": "stderr",
     "output_type": "stream",
     "text": [
      "I0620 08:29:20.190001 139737458554624 tf_logging.py:115] label: 1 (id = 1)\n"
     ]
    },
    {
     "name": "stdout",
     "output_type": "stream",
     "text": [
      "INFO:tensorflow:*** Example ***\n"
     ]
    },
    {
     "name": "stderr",
     "output_type": "stream",
     "text": [
      "I0620 08:29:20.192548 139737458554624 tf_logging.py:115] *** Example ***\n"
     ]
    },
    {
     "name": "stdout",
     "output_type": "stream",
     "text": [
      "INFO:tensorflow:guid: None\n"
     ]
    },
    {
     "name": "stderr",
     "output_type": "stream",
     "text": [
      "I0620 08:29:20.193405 139737458554624 tf_logging.py:115] guid: None\n"
     ]
    },
    {
     "name": "stdout",
     "output_type": "stream",
     "text": [
      "INFO:tensorflow:tokens: [CLS] the point is that we pay for that . every time the president veto ##es a housing bill , every time a republican member votes against the $ 1 . 25 minimum wage , every time we are unable to get any support on our bill to tie medical care for the aged to social security , it is not the congress that suffers , it is not the administration ; it is the people [SEP] they talked . but what did they produce ? they promised a 25 - percent minimum wage increase in place of the program that president eisenhower asked for and that could have been passed and should have been passed . what did the workers get ? nothing at all . [SEP]\n"
     ]
    },
    {
     "name": "stderr",
     "output_type": "stream",
     "text": [
      "I0620 08:29:20.194116 139737458554624 tf_logging.py:115] tokens: [CLS] the point is that we pay for that . every time the president veto ##es a housing bill , every time a republican member votes against the $ 1 . 25 minimum wage , every time we are unable to get any support on our bill to tie medical care for the aged to social security , it is not the congress that suffers , it is not the administration ; it is the people [SEP] they talked . but what did they produce ? they promised a 25 - percent minimum wage increase in place of the program that president eisenhower asked for and that could have been passed and should have been passed . what did the workers get ? nothing at all . [SEP]\n"
     ]
    },
    {
     "name": "stdout",
     "output_type": "stream",
     "text": [
      "INFO:tensorflow:input_ids: 101 1996 2391 2003 2008 2057 3477 2005 2008 1012 2296 2051 1996 2343 22102 2229 1037 3847 3021 1010 2296 2051 1037 3951 2266 4494 2114 1996 1002 1015 1012 2423 6263 11897 1010 2296 2051 2057 2024 4039 2000 2131 2151 2490 2006 2256 3021 2000 5495 2966 2729 2005 1996 4793 2000 2591 3036 1010 2009 2003 2025 1996 3519 2008 17567 1010 2009 2003 2025 1996 3447 1025 2009 2003 1996 2111 102 2027 5720 1012 2021 2054 2106 2027 3965 1029 2027 5763 1037 2423 1011 3867 6263 11897 3623 1999 2173 1997 1996 2565 2008 2343 16551 2356 2005 1998 2008 2071 2031 2042 2979 1998 2323 2031 2042 2979 1012 2054 2106 1996 3667 2131 1029 2498 2012 2035 1012 102\n"
     ]
    },
    {
     "name": "stderr",
     "output_type": "stream",
     "text": [
      "I0620 08:29:20.194737 139737458554624 tf_logging.py:115] input_ids: 101 1996 2391 2003 2008 2057 3477 2005 2008 1012 2296 2051 1996 2343 22102 2229 1037 3847 3021 1010 2296 2051 1037 3951 2266 4494 2114 1996 1002 1015 1012 2423 6263 11897 1010 2296 2051 2057 2024 4039 2000 2131 2151 2490 2006 2256 3021 2000 5495 2966 2729 2005 1996 4793 2000 2591 3036 1010 2009 2003 2025 1996 3519 2008 17567 1010 2009 2003 2025 1996 3447 1025 2009 2003 1996 2111 102 2027 5720 1012 2021 2054 2106 2027 3965 1029 2027 5763 1037 2423 1011 3867 6263 11897 3623 1999 2173 1997 1996 2565 2008 2343 16551 2356 2005 1998 2008 2071 2031 2042 2979 1998 2323 2031 2042 2979 1012 2054 2106 1996 3667 2131 1029 2498 2012 2035 1012 102\n"
     ]
    },
    {
     "name": "stdout",
     "output_type": "stream",
     "text": [
      "INFO:tensorflow:input_mask: 1 1 1 1 1 1 1 1 1 1 1 1 1 1 1 1 1 1 1 1 1 1 1 1 1 1 1 1 1 1 1 1 1 1 1 1 1 1 1 1 1 1 1 1 1 1 1 1 1 1 1 1 1 1 1 1 1 1 1 1 1 1 1 1 1 1 1 1 1 1 1 1 1 1 1 1 1 1 1 1 1 1 1 1 1 1 1 1 1 1 1 1 1 1 1 1 1 1 1 1 1 1 1 1 1 1 1 1 1 1 1 1 1 1 1 1 1 1 1 1 1 1 1 1 1 1 1 1\n"
     ]
    },
    {
     "name": "stderr",
     "output_type": "stream",
     "text": [
      "I0620 08:29:20.195308 139737458554624 tf_logging.py:115] input_mask: 1 1 1 1 1 1 1 1 1 1 1 1 1 1 1 1 1 1 1 1 1 1 1 1 1 1 1 1 1 1 1 1 1 1 1 1 1 1 1 1 1 1 1 1 1 1 1 1 1 1 1 1 1 1 1 1 1 1 1 1 1 1 1 1 1 1 1 1 1 1 1 1 1 1 1 1 1 1 1 1 1 1 1 1 1 1 1 1 1 1 1 1 1 1 1 1 1 1 1 1 1 1 1 1 1 1 1 1 1 1 1 1 1 1 1 1 1 1 1 1 1 1 1 1 1 1 1 1\n"
     ]
    },
    {
     "name": "stdout",
     "output_type": "stream",
     "text": [
      "INFO:tensorflow:segment_ids: 0 0 0 0 0 0 0 0 0 0 0 0 0 0 0 0 0 0 0 0 0 0 0 0 0 0 0 0 0 0 0 0 0 0 0 0 0 0 0 0 0 0 0 0 0 0 0 0 0 0 0 0 0 0 0 0 0 0 0 0 0 0 0 0 0 0 0 0 0 0 0 0 0 0 0 0 0 1 1 1 1 1 1 1 1 1 1 1 1 1 1 1 1 1 1 1 1 1 1 1 1 1 1 1 1 1 1 1 1 1 1 1 1 1 1 1 1 1 1 1 1 1 1 1 1 1 1 1\n"
     ]
    },
    {
     "name": "stderr",
     "output_type": "stream",
     "text": [
      "I0620 08:29:20.195832 139737458554624 tf_logging.py:115] segment_ids: 0 0 0 0 0 0 0 0 0 0 0 0 0 0 0 0 0 0 0 0 0 0 0 0 0 0 0 0 0 0 0 0 0 0 0 0 0 0 0 0 0 0 0 0 0 0 0 0 0 0 0 0 0 0 0 0 0 0 0 0 0 0 0 0 0 0 0 0 0 0 0 0 0 0 0 0 0 1 1 1 1 1 1 1 1 1 1 1 1 1 1 1 1 1 1 1 1 1 1 1 1 1 1 1 1 1 1 1 1 1 1 1 1 1 1 1 1 1 1 1 1 1 1 1 1 1 1 1\n"
     ]
    },
    {
     "name": "stdout",
     "output_type": "stream",
     "text": [
      "INFO:tensorflow:label: 0 (id = 0)\n"
     ]
    },
    {
     "name": "stderr",
     "output_type": "stream",
     "text": [
      "I0620 08:29:20.196453 139737458554624 tf_logging.py:115] label: 0 (id = 0)\n"
     ]
    },
    {
     "name": "stdout",
     "output_type": "stream",
     "text": [
      "INFO:tensorflow:*** Example ***\n"
     ]
    },
    {
     "name": "stderr",
     "output_type": "stream",
     "text": [
      "I0620 08:29:20.199344 139737458554624 tf_logging.py:115] *** Example ***\n"
     ]
    },
    {
     "name": "stdout",
     "output_type": "stream",
     "text": [
      "INFO:tensorflow:guid: None\n"
     ]
    },
    {
     "name": "stderr",
     "output_type": "stream",
     "text": [
      "I0620 08:29:20.200278 139737458554624 tf_logging.py:115] guid: None\n"
     ]
    },
    {
     "name": "stdout",
     "output_type": "stream",
     "text": [
      "INFO:tensorflow:tokens: [CLS] when a political party votes , in 1935 , 98 percent against the 25 - cent minimum wage , i know what the party stands for ; and when that same political party in 1960 votes in the house of representatives 85 percent against $ 1 . 25 minimum wage in 1960 , i know the republican party stands where it has always [SEP] it is our function , however , not to merely in ##vo ##ke the names of franklin roosevelt and harry truman , not to merely live off what they did , but to bring these old programs up to date . franklin roosevelt proposed a 25 - cent minimum wage , back in the middle thirties ; 90 percent of the republicans [SEP]\n"
     ]
    },
    {
     "name": "stderr",
     "output_type": "stream",
     "text": [
      "I0620 08:29:20.200843 139737458554624 tf_logging.py:115] tokens: [CLS] when a political party votes , in 1935 , 98 percent against the 25 - cent minimum wage , i know what the party stands for ; and when that same political party in 1960 votes in the house of representatives 85 percent against $ 1 . 25 minimum wage in 1960 , i know the republican party stands where it has always [SEP] it is our function , however , not to merely in ##vo ##ke the names of franklin roosevelt and harry truman , not to merely live off what they did , but to bring these old programs up to date . franklin roosevelt proposed a 25 - cent minimum wage , back in the middle thirties ; 90 percent of the republicans [SEP]\n"
     ]
    },
    {
     "name": "stdout",
     "output_type": "stream",
     "text": [
      "INFO:tensorflow:input_ids: 101 2043 1037 2576 2283 4494 1010 1999 4437 1010 5818 3867 2114 1996 2423 1011 9358 6263 11897 1010 1045 2113 2054 1996 2283 4832 2005 1025 1998 2043 2008 2168 2576 2283 1999 3624 4494 1999 1996 2160 1997 4505 5594 3867 2114 1002 1015 1012 2423 6263 11897 1999 3624 1010 1045 2113 1996 3951 2283 4832 2073 2009 2038 2467 102 2009 2003 2256 3853 1010 2174 1010 2025 2000 6414 1999 6767 3489 1996 3415 1997 5951 8573 1998 4302 15237 1010 2025 2000 6414 2444 2125 2054 2027 2106 1010 2021 2000 3288 2122 2214 3454 2039 2000 3058 1012 5951 8573 3818 1037 2423 1011 9358 6263 11897 1010 2067 1999 1996 2690 26313 1025 3938 3867 1997 1996 10643 102\n"
     ]
    },
    {
     "name": "stderr",
     "output_type": "stream",
     "text": [
      "I0620 08:29:20.201418 139737458554624 tf_logging.py:115] input_ids: 101 2043 1037 2576 2283 4494 1010 1999 4437 1010 5818 3867 2114 1996 2423 1011 9358 6263 11897 1010 1045 2113 2054 1996 2283 4832 2005 1025 1998 2043 2008 2168 2576 2283 1999 3624 4494 1999 1996 2160 1997 4505 5594 3867 2114 1002 1015 1012 2423 6263 11897 1999 3624 1010 1045 2113 1996 3951 2283 4832 2073 2009 2038 2467 102 2009 2003 2256 3853 1010 2174 1010 2025 2000 6414 1999 6767 3489 1996 3415 1997 5951 8573 1998 4302 15237 1010 2025 2000 6414 2444 2125 2054 2027 2106 1010 2021 2000 3288 2122 2214 3454 2039 2000 3058 1012 5951 8573 3818 1037 2423 1011 9358 6263 11897 1010 2067 1999 1996 2690 26313 1025 3938 3867 1997 1996 10643 102\n"
     ]
    },
    {
     "name": "stdout",
     "output_type": "stream",
     "text": [
      "INFO:tensorflow:input_mask: 1 1 1 1 1 1 1 1 1 1 1 1 1 1 1 1 1 1 1 1 1 1 1 1 1 1 1 1 1 1 1 1 1 1 1 1 1 1 1 1 1 1 1 1 1 1 1 1 1 1 1 1 1 1 1 1 1 1 1 1 1 1 1 1 1 1 1 1 1 1 1 1 1 1 1 1 1 1 1 1 1 1 1 1 1 1 1 1 1 1 1 1 1 1 1 1 1 1 1 1 1 1 1 1 1 1 1 1 1 1 1 1 1 1 1 1 1 1 1 1 1 1 1 1 1 1 1 1\n"
     ]
    },
    {
     "name": "stderr",
     "output_type": "stream",
     "text": [
      "I0620 08:29:20.202116 139737458554624 tf_logging.py:115] input_mask: 1 1 1 1 1 1 1 1 1 1 1 1 1 1 1 1 1 1 1 1 1 1 1 1 1 1 1 1 1 1 1 1 1 1 1 1 1 1 1 1 1 1 1 1 1 1 1 1 1 1 1 1 1 1 1 1 1 1 1 1 1 1 1 1 1 1 1 1 1 1 1 1 1 1 1 1 1 1 1 1 1 1 1 1 1 1 1 1 1 1 1 1 1 1 1 1 1 1 1 1 1 1 1 1 1 1 1 1 1 1 1 1 1 1 1 1 1 1 1 1 1 1 1 1 1 1 1 1\n"
     ]
    },
    {
     "name": "stdout",
     "output_type": "stream",
     "text": [
      "INFO:tensorflow:segment_ids: 0 0 0 0 0 0 0 0 0 0 0 0 0 0 0 0 0 0 0 0 0 0 0 0 0 0 0 0 0 0 0 0 0 0 0 0 0 0 0 0 0 0 0 0 0 0 0 0 0 0 0 0 0 0 0 0 0 0 0 0 0 0 0 0 0 1 1 1 1 1 1 1 1 1 1 1 1 1 1 1 1 1 1 1 1 1 1 1 1 1 1 1 1 1 1 1 1 1 1 1 1 1 1 1 1 1 1 1 1 1 1 1 1 1 1 1 1 1 1 1 1 1 1 1 1 1 1 1\n"
     ]
    },
    {
     "name": "stderr",
     "output_type": "stream",
     "text": [
      "I0620 08:29:20.202641 139737458554624 tf_logging.py:115] segment_ids: 0 0 0 0 0 0 0 0 0 0 0 0 0 0 0 0 0 0 0 0 0 0 0 0 0 0 0 0 0 0 0 0 0 0 0 0 0 0 0 0 0 0 0 0 0 0 0 0 0 0 0 0 0 0 0 0 0 0 0 0 0 0 0 0 0 1 1 1 1 1 1 1 1 1 1 1 1 1 1 1 1 1 1 1 1 1 1 1 1 1 1 1 1 1 1 1 1 1 1 1 1 1 1 1 1 1 1 1 1 1 1 1 1 1 1 1 1 1 1 1 1 1 1 1 1 1 1 1\n"
     ]
    },
    {
     "name": "stdout",
     "output_type": "stream",
     "text": [
      "INFO:tensorflow:label: 0 (id = 0)\n"
     ]
    },
    {
     "name": "stderr",
     "output_type": "stream",
     "text": [
      "I0620 08:29:20.203589 139737458554624 tf_logging.py:115] label: 0 (id = 0)\n"
     ]
    },
    {
     "name": "stdout",
     "output_type": "stream",
     "text": [
      "INFO:tensorflow:Writing example 0 of 146\n"
     ]
    },
    {
     "name": "stderr",
     "output_type": "stream",
     "text": [
      "I0620 08:29:22.948391 139737458554624 tf_logging.py:115] Writing example 0 of 146\n"
     ]
    },
    {
     "name": "stdout",
     "output_type": "stream",
     "text": [
      "INFO:tensorflow:*** Example ***\n"
     ]
    },
    {
     "name": "stderr",
     "output_type": "stream",
     "text": [
      "I0620 08:29:22.951982 139737458554624 tf_logging.py:115] *** Example ***\n"
     ]
    },
    {
     "name": "stdout",
     "output_type": "stream",
     "text": [
      "INFO:tensorflow:guid: None\n"
     ]
    },
    {
     "name": "stderr",
     "output_type": "stream",
     "text": [
      "I0620 08:29:22.952744 139737458554624 tf_logging.py:115] guid: None\n"
     ]
    },
    {
     "name": "stdout",
     "output_type": "stream",
     "text": [
      "INFO:tensorflow:tokens: [CLS] [ cheers . ] but you k now what could be more important than our job ? what could be more important than our education for our young people ? what could be more important than health care for our older citizens and for ourselves ? and the answer is being around to enjoy all these good things . so i say to [SEP] i have confidence in our ability to close the missile gap , to modern ##ize our conventional forces and to give this country the kind of defensive strength that stuart sy ##ming ##ton has been warning for years we will need if we are going to remain free at the end of the next years . i have confidence in this nation [SEP]\n"
     ]
    },
    {
     "name": "stderr",
     "output_type": "stream",
     "text": [
      "I0620 08:29:22.953464 139737458554624 tf_logging.py:115] tokens: [CLS] [ cheers . ] but you k now what could be more important than our job ? what could be more important than our education for our young people ? what could be more important than health care for our older citizens and for ourselves ? and the answer is being around to enjoy all these good things . so i say to [SEP] i have confidence in our ability to close the missile gap , to modern ##ize our conventional forces and to give this country the kind of defensive strength that stuart sy ##ming ##ton has been warning for years we will need if we are going to remain free at the end of the next years . i have confidence in this nation [SEP]\n"
     ]
    },
    {
     "name": "stdout",
     "output_type": "stream",
     "text": [
      "INFO:tensorflow:input_ids: 101 1031 21250 1012 1033 2021 2017 1047 2085 2054 2071 2022 2062 2590 2084 2256 3105 1029 2054 2071 2022 2062 2590 2084 2256 2495 2005 2256 2402 2111 1029 2054 2071 2022 2062 2590 2084 2740 2729 2005 2256 3080 4480 1998 2005 9731 1029 1998 1996 3437 2003 2108 2105 2000 5959 2035 2122 2204 2477 1012 2061 1045 2360 2000 102 1045 2031 7023 1999 2256 3754 2000 2485 1996 7421 6578 1010 2000 2715 4697 2256 7511 2749 1998 2000 2507 2023 2406 1996 2785 1997 5600 3997 2008 6990 25353 6562 2669 2038 2042 5432 2005 2086 2057 2097 2342 2065 2057 2024 2183 2000 3961 2489 2012 1996 2203 1997 1996 2279 2086 1012 1045 2031 7023 1999 2023 3842 102\n"
     ]
    },
    {
     "name": "stderr",
     "output_type": "stream",
     "text": [
      "I0620 08:29:22.954123 139737458554624 tf_logging.py:115] input_ids: 101 1031 21250 1012 1033 2021 2017 1047 2085 2054 2071 2022 2062 2590 2084 2256 3105 1029 2054 2071 2022 2062 2590 2084 2256 2495 2005 2256 2402 2111 1029 2054 2071 2022 2062 2590 2084 2740 2729 2005 2256 3080 4480 1998 2005 9731 1029 1998 1996 3437 2003 2108 2105 2000 5959 2035 2122 2204 2477 1012 2061 1045 2360 2000 102 1045 2031 7023 1999 2256 3754 2000 2485 1996 7421 6578 1010 2000 2715 4697 2256 7511 2749 1998 2000 2507 2023 2406 1996 2785 1997 5600 3997 2008 6990 25353 6562 2669 2038 2042 5432 2005 2086 2057 2097 2342 2065 2057 2024 2183 2000 3961 2489 2012 1996 2203 1997 1996 2279 2086 1012 1045 2031 7023 1999 2023 3842 102\n"
     ]
    },
    {
     "name": "stdout",
     "output_type": "stream",
     "text": [
      "INFO:tensorflow:input_mask: 1 1 1 1 1 1 1 1 1 1 1 1 1 1 1 1 1 1 1 1 1 1 1 1 1 1 1 1 1 1 1 1 1 1 1 1 1 1 1 1 1 1 1 1 1 1 1 1 1 1 1 1 1 1 1 1 1 1 1 1 1 1 1 1 1 1 1 1 1 1 1 1 1 1 1 1 1 1 1 1 1 1 1 1 1 1 1 1 1 1 1 1 1 1 1 1 1 1 1 1 1 1 1 1 1 1 1 1 1 1 1 1 1 1 1 1 1 1 1 1 1 1 1 1 1 1 1 1\n"
     ]
    },
    {
     "name": "stderr",
     "output_type": "stream",
     "text": [
      "I0620 08:29:22.954731 139737458554624 tf_logging.py:115] input_mask: 1 1 1 1 1 1 1 1 1 1 1 1 1 1 1 1 1 1 1 1 1 1 1 1 1 1 1 1 1 1 1 1 1 1 1 1 1 1 1 1 1 1 1 1 1 1 1 1 1 1 1 1 1 1 1 1 1 1 1 1 1 1 1 1 1 1 1 1 1 1 1 1 1 1 1 1 1 1 1 1 1 1 1 1 1 1 1 1 1 1 1 1 1 1 1 1 1 1 1 1 1 1 1 1 1 1 1 1 1 1 1 1 1 1 1 1 1 1 1 1 1 1 1 1 1 1 1 1\n"
     ]
    },
    {
     "name": "stdout",
     "output_type": "stream",
     "text": [
      "INFO:tensorflow:segment_ids: 0 0 0 0 0 0 0 0 0 0 0 0 0 0 0 0 0 0 0 0 0 0 0 0 0 0 0 0 0 0 0 0 0 0 0 0 0 0 0 0 0 0 0 0 0 0 0 0 0 0 0 0 0 0 0 0 0 0 0 0 0 0 0 0 0 1 1 1 1 1 1 1 1 1 1 1 1 1 1 1 1 1 1 1 1 1 1 1 1 1 1 1 1 1 1 1 1 1 1 1 1 1 1 1 1 1 1 1 1 1 1 1 1 1 1 1 1 1 1 1 1 1 1 1 1 1 1 1\n"
     ]
    },
    {
     "name": "stderr",
     "output_type": "stream",
     "text": [
      "I0620 08:29:22.955409 139737458554624 tf_logging.py:115] segment_ids: 0 0 0 0 0 0 0 0 0 0 0 0 0 0 0 0 0 0 0 0 0 0 0 0 0 0 0 0 0 0 0 0 0 0 0 0 0 0 0 0 0 0 0 0 0 0 0 0 0 0 0 0 0 0 0 0 0 0 0 0 0 0 0 0 0 1 1 1 1 1 1 1 1 1 1 1 1 1 1 1 1 1 1 1 1 1 1 1 1 1 1 1 1 1 1 1 1 1 1 1 1 1 1 1 1 1 1 1 1 1 1 1 1 1 1 1 1 1 1 1 1 1 1 1 1 1 1 1\n"
     ]
    },
    {
     "name": "stdout",
     "output_type": "stream",
     "text": [
      "INFO:tensorflow:label: 0 (id = 0)\n"
     ]
    },
    {
     "name": "stderr",
     "output_type": "stream",
     "text": [
      "I0620 08:29:22.955950 139737458554624 tf_logging.py:115] label: 0 (id = 0)\n"
     ]
    },
    {
     "name": "stdout",
     "output_type": "stream",
     "text": [
      "INFO:tensorflow:*** Example ***\n"
     ]
    },
    {
     "name": "stderr",
     "output_type": "stream",
     "text": [
      "I0620 08:29:22.957947 139737458554624 tf_logging.py:115] *** Example ***\n"
     ]
    },
    {
     "name": "stdout",
     "output_type": "stream",
     "text": [
      "INFO:tensorflow:guid: None\n"
     ]
    },
    {
     "name": "stderr",
     "output_type": "stream",
     "text": [
      "I0620 08:29:22.958459 139737458554624 tf_logging.py:115] guid: None\n"
     ]
    },
    {
     "name": "stdout",
     "output_type": "stream",
     "text": [
      "INFO:tensorflow:tokens: [CLS] and this administration has failed to recognize the decisive nature of what science is doing to our hopes for the future . this administration has had less than 100 people working in the entire national administration on the subject of di ##sar ##mament . we have gone into every conference un ##pre ##par ##ed . [SEP] they would use it because their aim is to conquer the world . so , my friends , let me say this : we will work for di ##sar ##mament , yes . we will work to stop tests and get an agreement , yes ; but we will never agree to anything unless we are sure they are going to keep the bargain because that ' s how america [SEP]\n"
     ]
    },
    {
     "name": "stderr",
     "output_type": "stream",
     "text": [
      "I0620 08:29:22.958959 139737458554624 tf_logging.py:115] tokens: [CLS] and this administration has failed to recognize the decisive nature of what science is doing to our hopes for the future . this administration has had less than 100 people working in the entire national administration on the subject of di ##sar ##mament . we have gone into every conference un ##pre ##par ##ed . [SEP] they would use it because their aim is to conquer the world . so , my friends , let me say this : we will work for di ##sar ##mament , yes . we will work to stop tests and get an agreement , yes ; but we will never agree to anything unless we are sure they are going to keep the bargain because that ' s how america [SEP]\n"
     ]
    },
    {
     "name": "stdout",
     "output_type": "stream",
     "text": [
      "INFO:tensorflow:input_ids: 101 1998 2023 3447 2038 3478 2000 6807 1996 13079 3267 1997 2054 2671 2003 2725 2000 2256 8069 2005 1996 2925 1012 2023 3447 2038 2018 2625 2084 2531 2111 2551 1999 1996 2972 2120 3447 2006 1996 3395 1997 4487 10286 28119 1012 2057 2031 2908 2046 2296 3034 4895 28139 19362 2098 1012 102 2027 2052 2224 2009 2138 2037 6614 2003 2000 16152 1996 2088 1012 2061 1010 2026 2814 1010 2292 2033 2360 2023 1024 2057 2097 2147 2005 4487 10286 28119 1010 2748 1012 2057 2097 2147 2000 2644 5852 1998 2131 2019 3820 1010 2748 1025 2021 2057 2097 2196 5993 2000 2505 4983 2057 2024 2469 2027 2024 2183 2000 2562 1996 17113 2138 2008 1005 1055 2129 2637 102\n"
     ]
    },
    {
     "name": "stderr",
     "output_type": "stream",
     "text": [
      "I0620 08:29:22.959552 139737458554624 tf_logging.py:115] input_ids: 101 1998 2023 3447 2038 3478 2000 6807 1996 13079 3267 1997 2054 2671 2003 2725 2000 2256 8069 2005 1996 2925 1012 2023 3447 2038 2018 2625 2084 2531 2111 2551 1999 1996 2972 2120 3447 2006 1996 3395 1997 4487 10286 28119 1012 2057 2031 2908 2046 2296 3034 4895 28139 19362 2098 1012 102 2027 2052 2224 2009 2138 2037 6614 2003 2000 16152 1996 2088 1012 2061 1010 2026 2814 1010 2292 2033 2360 2023 1024 2057 2097 2147 2005 4487 10286 28119 1010 2748 1012 2057 2097 2147 2000 2644 5852 1998 2131 2019 3820 1010 2748 1025 2021 2057 2097 2196 5993 2000 2505 4983 2057 2024 2469 2027 2024 2183 2000 2562 1996 17113 2138 2008 1005 1055 2129 2637 102\n"
     ]
    },
    {
     "name": "stdout",
     "output_type": "stream",
     "text": [
      "INFO:tensorflow:input_mask: 1 1 1 1 1 1 1 1 1 1 1 1 1 1 1 1 1 1 1 1 1 1 1 1 1 1 1 1 1 1 1 1 1 1 1 1 1 1 1 1 1 1 1 1 1 1 1 1 1 1 1 1 1 1 1 1 1 1 1 1 1 1 1 1 1 1 1 1 1 1 1 1 1 1 1 1 1 1 1 1 1 1 1 1 1 1 1 1 1 1 1 1 1 1 1 1 1 1 1 1 1 1 1 1 1 1 1 1 1 1 1 1 1 1 1 1 1 1 1 1 1 1 1 1 1 1 1 1\n"
     ]
    },
    {
     "name": "stderr",
     "output_type": "stream",
     "text": [
      "I0620 08:29:22.960057 139737458554624 tf_logging.py:115] input_mask: 1 1 1 1 1 1 1 1 1 1 1 1 1 1 1 1 1 1 1 1 1 1 1 1 1 1 1 1 1 1 1 1 1 1 1 1 1 1 1 1 1 1 1 1 1 1 1 1 1 1 1 1 1 1 1 1 1 1 1 1 1 1 1 1 1 1 1 1 1 1 1 1 1 1 1 1 1 1 1 1 1 1 1 1 1 1 1 1 1 1 1 1 1 1 1 1 1 1 1 1 1 1 1 1 1 1 1 1 1 1 1 1 1 1 1 1 1 1 1 1 1 1 1 1 1 1 1 1\n"
     ]
    },
    {
     "name": "stdout",
     "output_type": "stream",
     "text": [
      "INFO:tensorflow:segment_ids: 0 0 0 0 0 0 0 0 0 0 0 0 0 0 0 0 0 0 0 0 0 0 0 0 0 0 0 0 0 0 0 0 0 0 0 0 0 0 0 0 0 0 0 0 0 0 0 0 0 0 0 0 0 0 0 0 0 1 1 1 1 1 1 1 1 1 1 1 1 1 1 1 1 1 1 1 1 1 1 1 1 1 1 1 1 1 1 1 1 1 1 1 1 1 1 1 1 1 1 1 1 1 1 1 1 1 1 1 1 1 1 1 1 1 1 1 1 1 1 1 1 1 1 1 1 1 1 1\n"
     ]
    },
    {
     "name": "stderr",
     "output_type": "stream",
     "text": [
      "I0620 08:29:22.960549 139737458554624 tf_logging.py:115] segment_ids: 0 0 0 0 0 0 0 0 0 0 0 0 0 0 0 0 0 0 0 0 0 0 0 0 0 0 0 0 0 0 0 0 0 0 0 0 0 0 0 0 0 0 0 0 0 0 0 0 0 0 0 0 0 0 0 0 0 1 1 1 1 1 1 1 1 1 1 1 1 1 1 1 1 1 1 1 1 1 1 1 1 1 1 1 1 1 1 1 1 1 1 1 1 1 1 1 1 1 1 1 1 1 1 1 1 1 1 1 1 1 1 1 1 1 1 1 1 1 1 1 1 1 1 1 1 1 1 1\n"
     ]
    },
    {
     "name": "stdout",
     "output_type": "stream",
     "text": [
      "INFO:tensorflow:label: 0 (id = 0)\n"
     ]
    },
    {
     "name": "stderr",
     "output_type": "stream",
     "text": [
      "I0620 08:29:22.961021 139737458554624 tf_logging.py:115] label: 0 (id = 0)\n"
     ]
    },
    {
     "name": "stdout",
     "output_type": "stream",
     "text": [
      "INFO:tensorflow:*** Example ***\n"
     ]
    },
    {
     "name": "stderr",
     "output_type": "stream",
     "text": [
      "I0620 08:29:22.963347 139737458554624 tf_logging.py:115] *** Example ***\n"
     ]
    },
    {
     "name": "stdout",
     "output_type": "stream",
     "text": [
      "INFO:tensorflow:guid: None\n"
     ]
    },
    {
     "name": "stderr",
     "output_type": "stream",
     "text": [
      "I0620 08:29:22.963809 139737458554624 tf_logging.py:115] guid: None\n"
     ]
    },
    {
     "name": "stdout",
     "output_type": "stream",
     "text": [
      "INFO:tensorflow:tokens: [CLS] we have gone into every conference un ##pre ##par ##ed . this administration , a year ago , in order to get a position on di ##sar ##mament , appointed a lawyer from my own state of massachusetts , mr . cool ##idge , who had had no previous experience in the field . after 3 months , his report was dismissed and [SEP] i know that you must never make a concession to him without getting one in return . i know that you must never agree to di ##sar ##mament , for example , unless you have an iron ##cl ##ad agreement from him that he ' s going to do likewise . i know that that kind of firm ##ness is what leads [SEP]\n"
     ]
    },
    {
     "name": "stderr",
     "output_type": "stream",
     "text": [
      "I0620 08:29:22.964320 139737458554624 tf_logging.py:115] tokens: [CLS] we have gone into every conference un ##pre ##par ##ed . this administration , a year ago , in order to get a position on di ##sar ##mament , appointed a lawyer from my own state of massachusetts , mr . cool ##idge , who had had no previous experience in the field . after 3 months , his report was dismissed and [SEP] i know that you must never make a concession to him without getting one in return . i know that you must never agree to di ##sar ##mament , for example , unless you have an iron ##cl ##ad agreement from him that he ' s going to do likewise . i know that that kind of firm ##ness is what leads [SEP]\n"
     ]
    },
    {
     "name": "stdout",
     "output_type": "stream",
     "text": [
      "INFO:tensorflow:input_ids: 101 2057 2031 2908 2046 2296 3034 4895 28139 19362 2098 1012 2023 3447 1010 1037 2095 3283 1010 1999 2344 2000 2131 1037 2597 2006 4487 10286 28119 1010 2805 1037 5160 2013 2026 2219 2110 1997 4404 1010 2720 1012 4658 13623 1010 2040 2018 2018 2053 3025 3325 1999 1996 2492 1012 2044 1017 2706 1010 2010 3189 2001 7219 1998 102 1045 2113 2008 2017 2442 2196 2191 1037 16427 2000 2032 2302 2893 2028 1999 2709 1012 1045 2113 2008 2017 2442 2196 5993 2000 4487 10286 28119 1010 2005 2742 1010 4983 2017 2031 2019 3707 20464 4215 3820 2013 2032 2008 2002 1005 1055 2183 2000 2079 10655 1012 1045 2113 2008 2008 2785 1997 3813 2791 2003 2054 5260 102\n"
     ]
    },
    {
     "name": "stderr",
     "output_type": "stream",
     "text": [
      "I0620 08:29:22.964833 139737458554624 tf_logging.py:115] input_ids: 101 2057 2031 2908 2046 2296 3034 4895 28139 19362 2098 1012 2023 3447 1010 1037 2095 3283 1010 1999 2344 2000 2131 1037 2597 2006 4487 10286 28119 1010 2805 1037 5160 2013 2026 2219 2110 1997 4404 1010 2720 1012 4658 13623 1010 2040 2018 2018 2053 3025 3325 1999 1996 2492 1012 2044 1017 2706 1010 2010 3189 2001 7219 1998 102 1045 2113 2008 2017 2442 2196 2191 1037 16427 2000 2032 2302 2893 2028 1999 2709 1012 1045 2113 2008 2017 2442 2196 5993 2000 4487 10286 28119 1010 2005 2742 1010 4983 2017 2031 2019 3707 20464 4215 3820 2013 2032 2008 2002 1005 1055 2183 2000 2079 10655 1012 1045 2113 2008 2008 2785 1997 3813 2791 2003 2054 5260 102\n"
     ]
    },
    {
     "name": "stdout",
     "output_type": "stream",
     "text": [
      "INFO:tensorflow:input_mask: 1 1 1 1 1 1 1 1 1 1 1 1 1 1 1 1 1 1 1 1 1 1 1 1 1 1 1 1 1 1 1 1 1 1 1 1 1 1 1 1 1 1 1 1 1 1 1 1 1 1 1 1 1 1 1 1 1 1 1 1 1 1 1 1 1 1 1 1 1 1 1 1 1 1 1 1 1 1 1 1 1 1 1 1 1 1 1 1 1 1 1 1 1 1 1 1 1 1 1 1 1 1 1 1 1 1 1 1 1 1 1 1 1 1 1 1 1 1 1 1 1 1 1 1 1 1 1 1\n"
     ]
    },
    {
     "name": "stderr",
     "output_type": "stream",
     "text": [
      "I0620 08:29:22.965336 139737458554624 tf_logging.py:115] input_mask: 1 1 1 1 1 1 1 1 1 1 1 1 1 1 1 1 1 1 1 1 1 1 1 1 1 1 1 1 1 1 1 1 1 1 1 1 1 1 1 1 1 1 1 1 1 1 1 1 1 1 1 1 1 1 1 1 1 1 1 1 1 1 1 1 1 1 1 1 1 1 1 1 1 1 1 1 1 1 1 1 1 1 1 1 1 1 1 1 1 1 1 1 1 1 1 1 1 1 1 1 1 1 1 1 1 1 1 1 1 1 1 1 1 1 1 1 1 1 1 1 1 1 1 1 1 1 1 1\n"
     ]
    },
    {
     "name": "stdout",
     "output_type": "stream",
     "text": [
      "INFO:tensorflow:segment_ids: 0 0 0 0 0 0 0 0 0 0 0 0 0 0 0 0 0 0 0 0 0 0 0 0 0 0 0 0 0 0 0 0 0 0 0 0 0 0 0 0 0 0 0 0 0 0 0 0 0 0 0 0 0 0 0 0 0 0 0 0 0 0 0 0 0 1 1 1 1 1 1 1 1 1 1 1 1 1 1 1 1 1 1 1 1 1 1 1 1 1 1 1 1 1 1 1 1 1 1 1 1 1 1 1 1 1 1 1 1 1 1 1 1 1 1 1 1 1 1 1 1 1 1 1 1 1 1 1\n"
     ]
    },
    {
     "name": "stderr",
     "output_type": "stream",
     "text": [
      "I0620 08:29:22.966240 139737458554624 tf_logging.py:115] segment_ids: 0 0 0 0 0 0 0 0 0 0 0 0 0 0 0 0 0 0 0 0 0 0 0 0 0 0 0 0 0 0 0 0 0 0 0 0 0 0 0 0 0 0 0 0 0 0 0 0 0 0 0 0 0 0 0 0 0 0 0 0 0 0 0 0 0 1 1 1 1 1 1 1 1 1 1 1 1 1 1 1 1 1 1 1 1 1 1 1 1 1 1 1 1 1 1 1 1 1 1 1 1 1 1 1 1 1 1 1 1 1 1 1 1 1 1 1 1 1 1 1 1 1 1 1 1 1 1 1\n"
     ]
    },
    {
     "name": "stdout",
     "output_type": "stream",
     "text": [
      "INFO:tensorflow:label: 0 (id = 0)\n"
     ]
    },
    {
     "name": "stderr",
     "output_type": "stream",
     "text": [
      "I0620 08:29:22.967009 139737458554624 tf_logging.py:115] label: 0 (id = 0)\n"
     ]
    },
    {
     "name": "stdout",
     "output_type": "stream",
     "text": [
      "INFO:tensorflow:*** Example ***\n"
     ]
    },
    {
     "name": "stderr",
     "output_type": "stream",
     "text": [
      "I0620 08:29:22.969432 139737458554624 tf_logging.py:115] *** Example ***\n"
     ]
    },
    {
     "name": "stdout",
     "output_type": "stream",
     "text": [
      "INFO:tensorflow:guid: None\n"
     ]
    },
    {
     "name": "stderr",
     "output_type": "stream",
     "text": [
      "I0620 08:29:22.969952 139737458554624 tf_logging.py:115] guid: None\n"
     ]
    },
    {
     "name": "stdout",
     "output_type": "stream",
     "text": [
      "INFO:tensorflow:tokens: [CLS] but our goals are not the same . i want a $ 1 . 25 an hour minimum wage , medical care for the aged through social security , federal aid to help raise teachers salaries as well as schools , an adequate program of sl ##um clearance and low - rent housing , and a program of aid to areas of chronic [SEP] the republican party , which in 1935 voted almost unanimously against the 25 - cent minimum wage , voted almost unanimously against the $ 1 . 25 in 1960 . a republican party , which in 1935 voted 95 to 1 in the house of representatives against the social security bill , voted 44 to 1 , with only one republican , [SEP]\n"
     ]
    },
    {
     "name": "stderr",
     "output_type": "stream",
     "text": [
      "I0620 08:29:22.970458 139737458554624 tf_logging.py:115] tokens: [CLS] but our goals are not the same . i want a $ 1 . 25 an hour minimum wage , medical care for the aged through social security , federal aid to help raise teachers salaries as well as schools , an adequate program of sl ##um clearance and low - rent housing , and a program of aid to areas of chronic [SEP] the republican party , which in 1935 voted almost unanimously against the 25 - cent minimum wage , voted almost unanimously against the $ 1 . 25 in 1960 . a republican party , which in 1935 voted 95 to 1 in the house of representatives against the social security bill , voted 44 to 1 , with only one republican , [SEP]\n"
     ]
    },
    {
     "name": "stdout",
     "output_type": "stream",
     "text": [
      "INFO:tensorflow:input_ids: 101 2021 2256 3289 2024 2025 1996 2168 1012 1045 2215 1037 1002 1015 1012 2423 2019 3178 6263 11897 1010 2966 2729 2005 1996 4793 2083 2591 3036 1010 2976 4681 2000 2393 5333 5089 20566 2004 2092 2004 2816 1010 2019 11706 2565 1997 22889 2819 14860 1998 2659 1011 9278 3847 1010 1998 1037 2565 1997 4681 2000 2752 1997 11888 102 1996 3951 2283 1010 2029 1999 4437 5444 2471 15645 2114 1996 2423 1011 9358 6263 11897 1010 5444 2471 15645 2114 1996 1002 1015 1012 2423 1999 3624 1012 1037 3951 2283 1010 2029 1999 4437 5444 5345 2000 1015 1999 1996 2160 1997 4505 2114 1996 2591 3036 3021 1010 5444 4008 2000 1015 1010 2007 2069 2028 3951 1010 102\n"
     ]
    },
    {
     "name": "stderr",
     "output_type": "stream",
     "text": [
      "I0620 08:29:22.970940 139737458554624 tf_logging.py:115] input_ids: 101 2021 2256 3289 2024 2025 1996 2168 1012 1045 2215 1037 1002 1015 1012 2423 2019 3178 6263 11897 1010 2966 2729 2005 1996 4793 2083 2591 3036 1010 2976 4681 2000 2393 5333 5089 20566 2004 2092 2004 2816 1010 2019 11706 2565 1997 22889 2819 14860 1998 2659 1011 9278 3847 1010 1998 1037 2565 1997 4681 2000 2752 1997 11888 102 1996 3951 2283 1010 2029 1999 4437 5444 2471 15645 2114 1996 2423 1011 9358 6263 11897 1010 5444 2471 15645 2114 1996 1002 1015 1012 2423 1999 3624 1012 1037 3951 2283 1010 2029 1999 4437 5444 5345 2000 1015 1999 1996 2160 1997 4505 2114 1996 2591 3036 3021 1010 5444 4008 2000 1015 1010 2007 2069 2028 3951 1010 102\n"
     ]
    },
    {
     "name": "stdout",
     "output_type": "stream",
     "text": [
      "INFO:tensorflow:input_mask: 1 1 1 1 1 1 1 1 1 1 1 1 1 1 1 1 1 1 1 1 1 1 1 1 1 1 1 1 1 1 1 1 1 1 1 1 1 1 1 1 1 1 1 1 1 1 1 1 1 1 1 1 1 1 1 1 1 1 1 1 1 1 1 1 1 1 1 1 1 1 1 1 1 1 1 1 1 1 1 1 1 1 1 1 1 1 1 1 1 1 1 1 1 1 1 1 1 1 1 1 1 1 1 1 1 1 1 1 1 1 1 1 1 1 1 1 1 1 1 1 1 1 1 1 1 1 1 1\n"
     ]
    },
    {
     "name": "stderr",
     "output_type": "stream",
     "text": [
      "I0620 08:29:22.971442 139737458554624 tf_logging.py:115] input_mask: 1 1 1 1 1 1 1 1 1 1 1 1 1 1 1 1 1 1 1 1 1 1 1 1 1 1 1 1 1 1 1 1 1 1 1 1 1 1 1 1 1 1 1 1 1 1 1 1 1 1 1 1 1 1 1 1 1 1 1 1 1 1 1 1 1 1 1 1 1 1 1 1 1 1 1 1 1 1 1 1 1 1 1 1 1 1 1 1 1 1 1 1 1 1 1 1 1 1 1 1 1 1 1 1 1 1 1 1 1 1 1 1 1 1 1 1 1 1 1 1 1 1 1 1 1 1 1 1\n"
     ]
    },
    {
     "name": "stdout",
     "output_type": "stream",
     "text": [
      "INFO:tensorflow:segment_ids: 0 0 0 0 0 0 0 0 0 0 0 0 0 0 0 0 0 0 0 0 0 0 0 0 0 0 0 0 0 0 0 0 0 0 0 0 0 0 0 0 0 0 0 0 0 0 0 0 0 0 0 0 0 0 0 0 0 0 0 0 0 0 0 0 0 1 1 1 1 1 1 1 1 1 1 1 1 1 1 1 1 1 1 1 1 1 1 1 1 1 1 1 1 1 1 1 1 1 1 1 1 1 1 1 1 1 1 1 1 1 1 1 1 1 1 1 1 1 1 1 1 1 1 1 1 1 1 1\n"
     ]
    },
    {
     "name": "stderr",
     "output_type": "stream",
     "text": [
      "I0620 08:29:22.971940 139737458554624 tf_logging.py:115] segment_ids: 0 0 0 0 0 0 0 0 0 0 0 0 0 0 0 0 0 0 0 0 0 0 0 0 0 0 0 0 0 0 0 0 0 0 0 0 0 0 0 0 0 0 0 0 0 0 0 0 0 0 0 0 0 0 0 0 0 0 0 0 0 0 0 0 0 1 1 1 1 1 1 1 1 1 1 1 1 1 1 1 1 1 1 1 1 1 1 1 1 1 1 1 1 1 1 1 1 1 1 1 1 1 1 1 1 1 1 1 1 1 1 1 1 1 1 1 1 1 1 1 1 1 1 1 1 1 1 1\n"
     ]
    },
    {
     "name": "stdout",
     "output_type": "stream",
     "text": [
      "INFO:tensorflow:label: 0 (id = 0)\n"
     ]
    },
    {
     "name": "stderr",
     "output_type": "stream",
     "text": [
      "I0620 08:29:22.972409 139737458554624 tf_logging.py:115] label: 0 (id = 0)\n"
     ]
    },
    {
     "name": "stdout",
     "output_type": "stream",
     "text": [
      "INFO:tensorflow:*** Example ***\n"
     ]
    },
    {
     "name": "stderr",
     "output_type": "stream",
     "text": [
      "I0620 08:29:22.976249 139737458554624 tf_logging.py:115] *** Example ***\n"
     ]
    },
    {
     "name": "stdout",
     "output_type": "stream",
     "text": [
      "INFO:tensorflow:guid: None\n"
     ]
    },
    {
     "name": "stderr",
     "output_type": "stream",
     "text": [
      "I0620 08:29:22.976786 139737458554624 tf_logging.py:115] guid: None\n"
     ]
    },
    {
     "name": "stdout",
     "output_type": "stream",
     "text": [
      "INFO:tensorflow:tokens: [CLS] but no matter how difficult the problems are , how disco ##ura ##ging the obstacles , how uncertain the prospect for agreement , we must , nevertheless , begin a determined , large - scale effort to prepare ourselves for di ##sar ##mament - to formula ##te constructive and realistic proposals which have a chance of success . for the hopes of all [SEP] and you ask about prestige . what do our opponents think ? do they think that mr . k ##hr ##ush ##chev gains prestige for the communists when he takes off his shoe at the united nations and pounds the table with it ? i say no . i say that president eisenhower gained prestige for america when with great dignity and [SEP]\n"
     ]
    },
    {
     "name": "stderr",
     "output_type": "stream",
     "text": [
      "I0620 08:29:22.977289 139737458554624 tf_logging.py:115] tokens: [CLS] but no matter how difficult the problems are , how disco ##ura ##ging the obstacles , how uncertain the prospect for agreement , we must , nevertheless , begin a determined , large - scale effort to prepare ourselves for di ##sar ##mament - to formula ##te constructive and realistic proposals which have a chance of success . for the hopes of all [SEP] and you ask about prestige . what do our opponents think ? do they think that mr . k ##hr ##ush ##chev gains prestige for the communists when he takes off his shoe at the united nations and pounds the table with it ? i say no . i say that president eisenhower gained prestige for america when with great dignity and [SEP]\n"
     ]
    },
    {
     "name": "stdout",
     "output_type": "stream",
     "text": [
      "INFO:tensorflow:input_ids: 101 2021 2053 3043 2129 3697 1996 3471 2024 1010 2129 12532 4648 4726 1996 15314 1010 2129 9662 1996 9824 2005 3820 1010 2057 2442 1010 6600 1010 4088 1037 4340 1010 2312 1011 4094 3947 2000 7374 9731 2005 4487 10286 28119 1011 2000 5675 2618 26157 1998 12689 10340 2029 2031 1037 3382 1997 3112 1012 2005 1996 8069 1997 2035 102 1998 2017 3198 2055 14653 1012 2054 2079 2256 7892 2228 1029 2079 2027 2228 2008 2720 1012 1047 8093 20668 16179 12154 14653 2005 1996 13009 2043 2002 3138 2125 2010 10818 2012 1996 2142 3741 1998 7038 1996 2795 2007 2009 1029 1045 2360 2053 1012 1045 2360 2008 2343 16551 4227 14653 2005 2637 2043 2007 2307 13372 1998 102\n"
     ]
    },
    {
     "name": "stderr",
     "output_type": "stream",
     "text": [
      "I0620 08:29:22.977795 139737458554624 tf_logging.py:115] input_ids: 101 2021 2053 3043 2129 3697 1996 3471 2024 1010 2129 12532 4648 4726 1996 15314 1010 2129 9662 1996 9824 2005 3820 1010 2057 2442 1010 6600 1010 4088 1037 4340 1010 2312 1011 4094 3947 2000 7374 9731 2005 4487 10286 28119 1011 2000 5675 2618 26157 1998 12689 10340 2029 2031 1037 3382 1997 3112 1012 2005 1996 8069 1997 2035 102 1998 2017 3198 2055 14653 1012 2054 2079 2256 7892 2228 1029 2079 2027 2228 2008 2720 1012 1047 8093 20668 16179 12154 14653 2005 1996 13009 2043 2002 3138 2125 2010 10818 2012 1996 2142 3741 1998 7038 1996 2795 2007 2009 1029 1045 2360 2053 1012 1045 2360 2008 2343 16551 4227 14653 2005 2637 2043 2007 2307 13372 1998 102\n"
     ]
    },
    {
     "name": "stdout",
     "output_type": "stream",
     "text": [
      "INFO:tensorflow:input_mask: 1 1 1 1 1 1 1 1 1 1 1 1 1 1 1 1 1 1 1 1 1 1 1 1 1 1 1 1 1 1 1 1 1 1 1 1 1 1 1 1 1 1 1 1 1 1 1 1 1 1 1 1 1 1 1 1 1 1 1 1 1 1 1 1 1 1 1 1 1 1 1 1 1 1 1 1 1 1 1 1 1 1 1 1 1 1 1 1 1 1 1 1 1 1 1 1 1 1 1 1 1 1 1 1 1 1 1 1 1 1 1 1 1 1 1 1 1 1 1 1 1 1 1 1 1 1 1 1\n"
     ]
    },
    {
     "name": "stderr",
     "output_type": "stream",
     "text": [
      "I0620 08:29:22.978281 139737458554624 tf_logging.py:115] input_mask: 1 1 1 1 1 1 1 1 1 1 1 1 1 1 1 1 1 1 1 1 1 1 1 1 1 1 1 1 1 1 1 1 1 1 1 1 1 1 1 1 1 1 1 1 1 1 1 1 1 1 1 1 1 1 1 1 1 1 1 1 1 1 1 1 1 1 1 1 1 1 1 1 1 1 1 1 1 1 1 1 1 1 1 1 1 1 1 1 1 1 1 1 1 1 1 1 1 1 1 1 1 1 1 1 1 1 1 1 1 1 1 1 1 1 1 1 1 1 1 1 1 1 1 1 1 1 1 1\n"
     ]
    },
    {
     "name": "stdout",
     "output_type": "stream",
     "text": [
      "INFO:tensorflow:segment_ids: 0 0 0 0 0 0 0 0 0 0 0 0 0 0 0 0 0 0 0 0 0 0 0 0 0 0 0 0 0 0 0 0 0 0 0 0 0 0 0 0 0 0 0 0 0 0 0 0 0 0 0 0 0 0 0 0 0 0 0 0 0 0 0 0 0 1 1 1 1 1 1 1 1 1 1 1 1 1 1 1 1 1 1 1 1 1 1 1 1 1 1 1 1 1 1 1 1 1 1 1 1 1 1 1 1 1 1 1 1 1 1 1 1 1 1 1 1 1 1 1 1 1 1 1 1 1 1 1\n"
     ]
    },
    {
     "name": "stderr",
     "output_type": "stream",
     "text": [
      "I0620 08:29:22.978736 139737458554624 tf_logging.py:115] segment_ids: 0 0 0 0 0 0 0 0 0 0 0 0 0 0 0 0 0 0 0 0 0 0 0 0 0 0 0 0 0 0 0 0 0 0 0 0 0 0 0 0 0 0 0 0 0 0 0 0 0 0 0 0 0 0 0 0 0 0 0 0 0 0 0 0 0 1 1 1 1 1 1 1 1 1 1 1 1 1 1 1 1 1 1 1 1 1 1 1 1 1 1 1 1 1 1 1 1 1 1 1 1 1 1 1 1 1 1 1 1 1 1 1 1 1 1 1 1 1 1 1 1 1 1 1 1 1 1 1\n"
     ]
    },
    {
     "name": "stdout",
     "output_type": "stream",
     "text": [
      "INFO:tensorflow:label: 0 (id = 0)\n"
     ]
    },
    {
     "name": "stderr",
     "output_type": "stream",
     "text": [
      "I0620 08:29:22.979192 139737458554624 tf_logging.py:115] label: 0 (id = 0)\n"
     ]
    },
    {
     "name": "stdout",
     "output_type": "stream",
     "text": [
      "Beginning Training!\n",
      "test labels 1    73\n",
      "0    73\n",
      "Name: label, dtype: int64\n",
      "train labels 0    658\n",
      "1    656\n",
      "Name: label, dtype: int64\n",
      "INFO:tensorflow:Using config: {'_model_dir': 'BERT_RUN2019-06-20 08:25:39.792798political', '_tf_random_seed': None, '_save_summary_steps': 100, '_save_checkpoints_steps': 5000, '_save_checkpoints_secs': None, '_session_config': allow_soft_placement: true\n",
      "graph_options {\n",
      "  rewrite_options {\n",
      "    meta_optimizer_iterations: ONE\n",
      "  }\n",
      "}\n",
      ", '_keep_checkpoint_max': 5, '_keep_checkpoint_every_n_hours': 10000, '_log_step_count_steps': 100, '_train_distribute': None, '_device_fn': None, '_protocol': None, '_eval_distribute': None, '_experimental_distribute': None, '_service': None, '_cluster_spec': <tensorflow.python.training.server_lib.ClusterSpec object at 0x7f168682f940>, '_task_type': 'worker', '_task_id': 0, '_global_id_in_cluster': 0, '_master': '', '_evaluation_master': '', '_is_chief': True, '_num_ps_replicas': 0, '_num_worker_replicas': 1}\n"
     ]
    },
    {
     "name": "stderr",
     "output_type": "stream",
     "text": [
      "I0620 08:29:23.295801 139737458554624 tf_logging.py:115] Using config: {'_model_dir': 'BERT_RUN2019-06-20 08:25:39.792798political', '_tf_random_seed': None, '_save_summary_steps': 100, '_save_checkpoints_steps': 5000, '_save_checkpoints_secs': None, '_session_config': allow_soft_placement: true\n",
      "graph_options {\n",
      "  rewrite_options {\n",
      "    meta_optimizer_iterations: ONE\n",
      "  }\n",
      "}\n",
      ", '_keep_checkpoint_max': 5, '_keep_checkpoint_every_n_hours': 10000, '_log_step_count_steps': 100, '_train_distribute': None, '_device_fn': None, '_protocol': None, '_eval_distribute': None, '_experimental_distribute': None, '_service': None, '_cluster_spec': <tensorflow.python.training.server_lib.ClusterSpec object at 0x7f168682f940>, '_task_type': 'worker', '_task_id': 0, '_global_id_in_cluster': 0, '_master': '', '_evaluation_master': '', '_is_chief': True, '_num_ps_replicas': 0, '_num_worker_replicas': 1}\n"
     ]
    },
    {
     "name": "stdout",
     "output_type": "stream",
     "text": [
      "INFO:tensorflow:Calling model_fn.\n"
     ]
    },
    {
     "name": "stderr",
     "output_type": "stream",
     "text": [
      "I0620 08:29:23.706843 139737458554624 tf_logging.py:115] Calling model_fn.\n"
     ]
    },
    {
     "name": "stdout",
     "output_type": "stream",
     "text": [
      "INFO:tensorflow:Saver not created because there are no variables in the graph to restore\n"
     ]
    },
    {
     "name": "stderr",
     "output_type": "stream",
     "text": [
      "I0620 08:29:25.880217 139737458554624 tf_logging.py:115] Saver not created because there are no variables in the graph to restore\n"
     ]
    },
    {
     "name": "stdout",
     "output_type": "stream",
     "text": [
      "INFO:tensorflow:Done calling model_fn.\n"
     ]
    },
    {
     "name": "stderr",
     "output_type": "stream",
     "text": [
      "I0620 08:29:31.739877 139737458554624 tf_logging.py:115] Done calling model_fn.\n"
     ]
    },
    {
     "name": "stdout",
     "output_type": "stream",
     "text": [
      "INFO:tensorflow:Create CheckpointSaverHook.\n"
     ]
    },
    {
     "name": "stderr",
     "output_type": "stream",
     "text": [
      "I0620 08:29:31.742076 139737458554624 tf_logging.py:115] Create CheckpointSaverHook.\n"
     ]
    },
    {
     "name": "stdout",
     "output_type": "stream",
     "text": [
      "INFO:tensorflow:Graph was finalized.\n"
     ]
    },
    {
     "name": "stderr",
     "output_type": "stream",
     "text": [
      "I0620 08:29:32.651507 139737458554624 tf_logging.py:115] Graph was finalized.\n"
     ]
    },
    {
     "name": "stdout",
     "output_type": "stream",
     "text": [
      "INFO:tensorflow:Running local_init_op.\n"
     ]
    },
    {
     "name": "stderr",
     "output_type": "stream",
     "text": [
      "I0620 08:29:37.032351 139737458554624 tf_logging.py:115] Running local_init_op.\n"
     ]
    },
    {
     "name": "stdout",
     "output_type": "stream",
     "text": [
      "INFO:tensorflow:Done running local_init_op.\n"
     ]
    },
    {
     "name": "stderr",
     "output_type": "stream",
     "text": [
      "I0620 08:29:37.139703 139737458554624 tf_logging.py:115] Done running local_init_op.\n"
     ]
    },
    {
     "name": "stdout",
     "output_type": "stream",
     "text": [
      "INFO:tensorflow:Saving checkpoints for 0 into BERT_RUN2019-06-20 08:25:39.792798political/model.ckpt.\n"
     ]
    },
    {
     "name": "stderr",
     "output_type": "stream",
     "text": [
      "I0620 08:29:43.272103 139737458554624 tf_logging.py:115] Saving checkpoints for 0 into BERT_RUN2019-06-20 08:25:39.792798political/model.ckpt.\n"
     ]
    },
    {
     "name": "stdout",
     "output_type": "stream",
     "text": [
      "INFO:tensorflow:loss = 0.63770735, step = 0\n"
     ]
    },
    {
     "name": "stderr",
     "output_type": "stream",
     "text": [
      "I0620 08:29:55.288852 139737458554624 tf_logging.py:115] loss = 0.63770735, step = 0\n"
     ]
    },
    {
     "name": "stdout",
     "output_type": "stream",
     "text": [
      "INFO:tensorflow:global_step/sec: 2.2563\n"
     ]
    },
    {
     "name": "stderr",
     "output_type": "stream",
     "text": [
      "I0620 08:30:39.608572 139737458554624 tf_logging.py:115] global_step/sec: 2.2563\n"
     ]
    },
    {
     "name": "stdout",
     "output_type": "stream",
     "text": [
      "INFO:tensorflow:loss = 0.59651965, step = 100 (44.321 sec)\n"
     ]
    },
    {
     "name": "stderr",
     "output_type": "stream",
     "text": [
      "I0620 08:30:39.609705 139737458554624 tf_logging.py:115] loss = 0.59651965, step = 100 (44.321 sec)\n"
     ]
    },
    {
     "name": "stdout",
     "output_type": "stream",
     "text": [
      "INFO:tensorflow:global_step/sec: 3.16733\n"
     ]
    },
    {
     "name": "stderr",
     "output_type": "stream",
     "text": [
      "I0620 08:31:11.181000 139737458554624 tf_logging.py:115] global_step/sec: 3.16733\n"
     ]
    },
    {
     "name": "stdout",
     "output_type": "stream",
     "text": [
      "INFO:tensorflow:loss = 0.4885778, step = 200 (31.574 sec)\n"
     ]
    },
    {
     "name": "stderr",
     "output_type": "stream",
     "text": [
      "I0620 08:31:11.183512 139737458554624 tf_logging.py:115] loss = 0.4885778, step = 200 (31.574 sec)\n"
     ]
    },
    {
     "name": "stdout",
     "output_type": "stream",
     "text": [
      "INFO:tensorflow:global_step/sec: 3.16846\n"
     ]
    },
    {
     "name": "stderr",
     "output_type": "stream",
     "text": [
      "I0620 08:31:42.742031 139737458554624 tf_logging.py:115] global_step/sec: 3.16846\n"
     ]
    },
    {
     "name": "stdout",
     "output_type": "stream",
     "text": [
      "INFO:tensorflow:loss = 0.33685523, step = 300 (31.560 sec)\n"
     ]
    },
    {
     "name": "stderr",
     "output_type": "stream",
     "text": [
      "I0620 08:31:42.743425 139737458554624 tf_logging.py:115] loss = 0.33685523, step = 300 (31.560 sec)\n"
     ]
    },
    {
     "name": "stdout",
     "output_type": "stream",
     "text": [
      "INFO:tensorflow:global_step/sec: 3.16037\n"
     ]
    },
    {
     "name": "stderr",
     "output_type": "stream",
     "text": [
      "I0620 08:32:14.383893 139737458554624 tf_logging.py:115] global_step/sec: 3.16037\n"
     ]
    },
    {
     "name": "stdout",
     "output_type": "stream",
     "text": [
      "INFO:tensorflow:loss = 0.34131885, step = 400 (31.643 sec)\n"
     ]
    },
    {
     "name": "stderr",
     "output_type": "stream",
     "text": [
      "I0620 08:32:14.386087 139737458554624 tf_logging.py:115] loss = 0.34131885, step = 400 (31.643 sec)\n"
     ]
    },
    {
     "name": "stdout",
     "output_type": "stream",
     "text": [
      "INFO:tensorflow:Saving checkpoints for 492 into BERT_RUN2019-06-20 08:25:39.792798political/model.ckpt.\n"
     ]
    },
    {
     "name": "stderr",
     "output_type": "stream",
     "text": [
      "I0620 08:32:43.129507 139737458554624 tf_logging.py:115] Saving checkpoints for 492 into BERT_RUN2019-06-20 08:25:39.792798political/model.ckpt.\n"
     ]
    },
    {
     "name": "stdout",
     "output_type": "stream",
     "text": [
      "INFO:tensorflow:Loss for final step: 0.4212054.\n"
     ]
    },
    {
     "name": "stderr",
     "output_type": "stream",
     "text": [
      "I0620 08:32:50.333486 139737458554624 tf_logging.py:115] Loss for final step: 0.4212054.\n"
     ]
    },
    {
     "name": "stdout",
     "output_type": "stream",
     "text": [
      "<generator object Estimator.predict at 0x7f1686ca3150>\n",
      "INFO:tensorflow:Calling model_fn.\n"
     ]
    },
    {
     "name": "stderr",
     "output_type": "stream",
     "text": [
      "I0620 08:32:50.388987 139737458554624 tf_logging.py:115] Calling model_fn.\n"
     ]
    },
    {
     "name": "stdout",
     "output_type": "stream",
     "text": [
      "INFO:tensorflow:Saver not created because there are no variables in the graph to restore\n"
     ]
    },
    {
     "name": "stderr",
     "output_type": "stream",
     "text": [
      "I0620 08:32:52.893621 139737458554624 tf_logging.py:115] Saver not created because there are no variables in the graph to restore\n"
     ]
    },
    {
     "name": "stdout",
     "output_type": "stream",
     "text": [
      "INFO:tensorflow:Done calling model_fn.\n"
     ]
    },
    {
     "name": "stderr",
     "output_type": "stream",
     "text": [
      "I0620 08:32:52.998104 139737458554624 tf_logging.py:115] Done calling model_fn.\n"
     ]
    },
    {
     "name": "stdout",
     "output_type": "stream",
     "text": [
      "INFO:tensorflow:Graph was finalized.\n"
     ]
    },
    {
     "name": "stderr",
     "output_type": "stream",
     "text": [
      "I0620 08:32:53.323531 139737458554624 tf_logging.py:115] Graph was finalized.\n"
     ]
    },
    {
     "name": "stdout",
     "output_type": "stream",
     "text": [
      "INFO:tensorflow:Restoring parameters from BERT_RUN2019-06-20 08:25:39.792798political/model.ckpt-492\n"
     ]
    },
    {
     "name": "stderr",
     "output_type": "stream",
     "text": [
      "I0620 08:32:53.327733 139737458554624 tf_logging.py:115] Restoring parameters from BERT_RUN2019-06-20 08:25:39.792798political/model.ckpt-492\n"
     ]
    },
    {
     "name": "stdout",
     "output_type": "stream",
     "text": [
      "INFO:tensorflow:Running local_init_op.\n"
     ]
    },
    {
     "name": "stderr",
     "output_type": "stream",
     "text": [
      "I0620 08:32:53.762059 139737458554624 tf_logging.py:115] Running local_init_op.\n"
     ]
    },
    {
     "name": "stdout",
     "output_type": "stream",
     "text": [
      "INFO:tensorflow:Done running local_init_op.\n"
     ]
    },
    {
     "name": "stderr",
     "output_type": "stream",
     "text": [
      "I0620 08:32:53.804749 139737458554624 tf_logging.py:115] Done running local_init_op.\n"
     ]
    },
    {
     "name": "stdout",
     "output_type": "stream",
     "text": [
      "[1. 1. 1. 0. 0. 0. 0. 1. 1. 1. 1. 1. 1. 0. 0. 1. 1. 0. 1. 0. 1. 1. 0. 1.\n",
      " 0. 1. 0. 1. 1. 0. 0. 1. 1. 0. 1. 0. 1. 1. 1. 0. 1. 0. 0. 1. 1. 0. 1. 1.\n",
      " 0. 0. 1. 1. 1. 0. 0. 1. 1. 1. 0. 0. 0. 0. 0. 0. 1. 1. 1. 0. 1. 1. 0. 0.\n",
      " 1. 0. 1. 0. 1. 1. 1. 1. 1. 1. 0. 0. 0. 1. 1. 1. 0. 1. 0. 1. 0. 1. 1. 1.\n",
      " 0. 0. 1. 0. 0. 1. 0. 0. 0. 0. 0. 0. 1. 0. 1. 1. 0. 0. 0. 0. 1. 0. 1. 0.\n",
      " 1. 1. 0. 1. 1. 0. 0. 1. 0. 0. 0. 1. 0. 1. 1. 1. 0. 1. 1. 0. 1. 0. 1. 1.\n",
      " 1. 1.]\n",
      "              precision    recall  f1-score   support\n",
      "\n",
      "    relation       0.57      0.52      0.54        73\n",
      "   unrelated       0.56      0.60      0.58        73\n",
      "\n",
      "    accuracy                           0.56       146\n",
      "   macro avg       0.56      0.56      0.56       146\n",
      "weighted avg       0.56      0.56      0.56       146\n",
      "\n",
      "Accuracy: 0.5616438356164384\n",
      "Training took time  0:03:32.584790\n",
      "(1314, 8) (146, 8)\n",
      "INFO:tensorflow:Writing example 0 of 1314\n"
     ]
    },
    {
     "name": "stderr",
     "output_type": "stream",
     "text": [
      "I0620 08:32:56.016417 139737458554624 tf_logging.py:115] Writing example 0 of 1314\n"
     ]
    },
    {
     "name": "stdout",
     "output_type": "stream",
     "text": [
      "INFO:tensorflow:*** Example ***\n"
     ]
    },
    {
     "name": "stderr",
     "output_type": "stream",
     "text": [
      "I0620 08:32:56.020477 139737458554624 tf_logging.py:115] *** Example ***\n"
     ]
    },
    {
     "name": "stdout",
     "output_type": "stream",
     "text": [
      "INFO:tensorflow:guid: None\n"
     ]
    },
    {
     "name": "stderr",
     "output_type": "stream",
     "text": [
      "I0620 08:32:56.021243 139737458554624 tf_logging.py:115] guid: None\n"
     ]
    },
    {
     "name": "stdout",
     "output_type": "stream",
     "text": [
      "INFO:tensorflow:tokens: [CLS] what are the folks going to do ? what are the voters going to do ? here ' s what you do : first , you look at our record and on the record i say you compare the record of the eisenhower administration with the record of the administration which preceded it . both have been in for 7 ½ years , [SEP] and what about that future ? we want a future of progress , but above all , the people of this country are concerned that our children may grow up in a world in which we can be free and we can live at peace - and that is the most important thing that americans must think about at this time . [SEP]\n"
     ]
    },
    {
     "name": "stderr",
     "output_type": "stream",
     "text": [
      "I0620 08:32:56.022378 139737458554624 tf_logging.py:115] tokens: [CLS] what are the folks going to do ? what are the voters going to do ? here ' s what you do : first , you look at our record and on the record i say you compare the record of the eisenhower administration with the record of the administration which preceded it . both have been in for 7 ½ years , [SEP] and what about that future ? we want a future of progress , but above all , the people of this country are concerned that our children may grow up in a world in which we can be free and we can live at peace - and that is the most important thing that americans must think about at this time . [SEP]\n"
     ]
    },
    {
     "name": "stdout",
     "output_type": "stream",
     "text": [
      "INFO:tensorflow:input_ids: 101 2054 2024 1996 12455 2183 2000 2079 1029 2054 2024 1996 7206 2183 2000 2079 1029 2182 1005 1055 2054 2017 2079 1024 2034 1010 2017 2298 2012 2256 2501 1998 2006 1996 2501 1045 2360 2017 12826 1996 2501 1997 1996 16551 3447 2007 1996 2501 1997 1996 3447 2029 11677 2009 1012 2119 2031 2042 1999 2005 1021 1092 2086 1010 102 1998 2054 2055 2008 2925 1029 2057 2215 1037 2925 1997 5082 1010 2021 2682 2035 1010 1996 2111 1997 2023 2406 2024 4986 2008 2256 2336 2089 4982 2039 1999 1037 2088 1999 2029 2057 2064 2022 2489 1998 2057 2064 2444 2012 3521 1011 1998 2008 2003 1996 2087 2590 2518 2008 4841 2442 2228 2055 2012 2023 2051 1012 102\n"
     ]
    },
    {
     "name": "stderr",
     "output_type": "stream",
     "text": [
      "I0620 08:32:56.023037 139737458554624 tf_logging.py:115] input_ids: 101 2054 2024 1996 12455 2183 2000 2079 1029 2054 2024 1996 7206 2183 2000 2079 1029 2182 1005 1055 2054 2017 2079 1024 2034 1010 2017 2298 2012 2256 2501 1998 2006 1996 2501 1045 2360 2017 12826 1996 2501 1997 1996 16551 3447 2007 1996 2501 1997 1996 3447 2029 11677 2009 1012 2119 2031 2042 1999 2005 1021 1092 2086 1010 102 1998 2054 2055 2008 2925 1029 2057 2215 1037 2925 1997 5082 1010 2021 2682 2035 1010 1996 2111 1997 2023 2406 2024 4986 2008 2256 2336 2089 4982 2039 1999 1037 2088 1999 2029 2057 2064 2022 2489 1998 2057 2064 2444 2012 3521 1011 1998 2008 2003 1996 2087 2590 2518 2008 4841 2442 2228 2055 2012 2023 2051 1012 102\n"
     ]
    },
    {
     "name": "stdout",
     "output_type": "stream",
     "text": [
      "INFO:tensorflow:input_mask: 1 1 1 1 1 1 1 1 1 1 1 1 1 1 1 1 1 1 1 1 1 1 1 1 1 1 1 1 1 1 1 1 1 1 1 1 1 1 1 1 1 1 1 1 1 1 1 1 1 1 1 1 1 1 1 1 1 1 1 1 1 1 1 1 1 1 1 1 1 1 1 1 1 1 1 1 1 1 1 1 1 1 1 1 1 1 1 1 1 1 1 1 1 1 1 1 1 1 1 1 1 1 1 1 1 1 1 1 1 1 1 1 1 1 1 1 1 1 1 1 1 1 1 1 1 1 1 1\n"
     ]
    },
    {
     "name": "stderr",
     "output_type": "stream",
     "text": [
      "I0620 08:32:56.023709 139737458554624 tf_logging.py:115] input_mask: 1 1 1 1 1 1 1 1 1 1 1 1 1 1 1 1 1 1 1 1 1 1 1 1 1 1 1 1 1 1 1 1 1 1 1 1 1 1 1 1 1 1 1 1 1 1 1 1 1 1 1 1 1 1 1 1 1 1 1 1 1 1 1 1 1 1 1 1 1 1 1 1 1 1 1 1 1 1 1 1 1 1 1 1 1 1 1 1 1 1 1 1 1 1 1 1 1 1 1 1 1 1 1 1 1 1 1 1 1 1 1 1 1 1 1 1 1 1 1 1 1 1 1 1 1 1 1 1\n"
     ]
    },
    {
     "name": "stdout",
     "output_type": "stream",
     "text": [
      "INFO:tensorflow:segment_ids: 0 0 0 0 0 0 0 0 0 0 0 0 0 0 0 0 0 0 0 0 0 0 0 0 0 0 0 0 0 0 0 0 0 0 0 0 0 0 0 0 0 0 0 0 0 0 0 0 0 0 0 0 0 0 0 0 0 0 0 0 0 0 0 0 0 1 1 1 1 1 1 1 1 1 1 1 1 1 1 1 1 1 1 1 1 1 1 1 1 1 1 1 1 1 1 1 1 1 1 1 1 1 1 1 1 1 1 1 1 1 1 1 1 1 1 1 1 1 1 1 1 1 1 1 1 1 1 1\n"
     ]
    },
    {
     "name": "stderr",
     "output_type": "stream",
     "text": [
      "I0620 08:32:56.024272 139737458554624 tf_logging.py:115] segment_ids: 0 0 0 0 0 0 0 0 0 0 0 0 0 0 0 0 0 0 0 0 0 0 0 0 0 0 0 0 0 0 0 0 0 0 0 0 0 0 0 0 0 0 0 0 0 0 0 0 0 0 0 0 0 0 0 0 0 0 0 0 0 0 0 0 0 1 1 1 1 1 1 1 1 1 1 1 1 1 1 1 1 1 1 1 1 1 1 1 1 1 1 1 1 1 1 1 1 1 1 1 1 1 1 1 1 1 1 1 1 1 1 1 1 1 1 1 1 1 1 1 1 1 1 1 1 1 1 1\n"
     ]
    },
    {
     "name": "stdout",
     "output_type": "stream",
     "text": [
      "INFO:tensorflow:label: 1 (id = 1)\n"
     ]
    },
    {
     "name": "stderr",
     "output_type": "stream",
     "text": [
      "I0620 08:32:56.024813 139737458554624 tf_logging.py:115] label: 1 (id = 1)\n"
     ]
    },
    {
     "name": "stdout",
     "output_type": "stream",
     "text": [
      "INFO:tensorflow:*** Example ***\n"
     ]
    },
    {
     "name": "stderr",
     "output_type": "stream",
     "text": [
      "I0620 08:32:56.026974 139737458554624 tf_logging.py:115] *** Example ***\n"
     ]
    },
    {
     "name": "stdout",
     "output_type": "stream",
     "text": [
      "INFO:tensorflow:guid: None\n"
     ]
    },
    {
     "name": "stderr",
     "output_type": "stream",
     "text": [
      "I0620 08:32:56.027502 139737458554624 tf_logging.py:115] guid: None\n"
     ]
    },
    {
     "name": "stdout",
     "output_type": "stream",
     "text": [
      "INFO:tensorflow:tokens: [CLS] [ applause . ] mr . nixon considers a minimum wage of $ 1 . 25 to be extreme . mr . nixon considers federal aid to make sure that teachers are paid a decent salary to be extreme . [SEP] meanwhile , the contradictory statements of senator kennedy still leave him opposed to this position . the miss ##tate ##ment : in the second debate senator kennedy said : the republicans in recent years , not only in the last 25 years , but in the last 8 years , have opposed * * * minimum wage * * the facts : senator kennedy is saying that republicans who opposed his particular bill are against minimum wage . the administration supported an increase in the [SEP]\n"
     ]
    },
    {
     "name": "stderr",
     "output_type": "stream",
     "text": [
      "I0620 08:32:56.028018 139737458554624 tf_logging.py:115] tokens: [CLS] [ applause . ] mr . nixon considers a minimum wage of $ 1 . 25 to be extreme . mr . nixon considers federal aid to make sure that teachers are paid a decent salary to be extreme . [SEP] meanwhile , the contradictory statements of senator kennedy still leave him opposed to this position . the miss ##tate ##ment : in the second debate senator kennedy said : the republicans in recent years , not only in the last 25 years , but in the last 8 years , have opposed * * * minimum wage * * the facts : senator kennedy is saying that republicans who opposed his particular bill are against minimum wage . the administration supported an increase in the [SEP]\n"
     ]
    },
    {
     "name": "stdout",
     "output_type": "stream",
     "text": [
      "INFO:tensorflow:input_ids: 101 1031 20737 1012 1033 2720 1012 11296 10592 1037 6263 11897 1997 1002 1015 1012 2423 2000 2022 6034 1012 2720 1012 11296 10592 2976 4681 2000 2191 2469 2008 5089 2024 3825 1037 11519 10300 2000 2022 6034 1012 102 5564 1010 1996 27894 8635 1997 5205 5817 2145 2681 2032 4941 2000 2023 2597 1012 1996 3335 12259 3672 1024 1999 1996 2117 5981 5205 5817 2056 1024 1996 10643 1999 3522 2086 1010 2025 2069 1999 1996 2197 2423 2086 1010 2021 1999 1996 2197 1022 2086 1010 2031 4941 1008 1008 1008 6263 11897 1008 1008 1996 8866 1024 5205 5817 2003 3038 2008 10643 2040 4941 2010 3327 3021 2024 2114 6263 11897 1012 1996 3447 3569 2019 3623 1999 1996 102\n"
     ]
    },
    {
     "name": "stderr",
     "output_type": "stream",
     "text": [
      "I0620 08:32:56.028568 139737458554624 tf_logging.py:115] input_ids: 101 1031 20737 1012 1033 2720 1012 11296 10592 1037 6263 11897 1997 1002 1015 1012 2423 2000 2022 6034 1012 2720 1012 11296 10592 2976 4681 2000 2191 2469 2008 5089 2024 3825 1037 11519 10300 2000 2022 6034 1012 102 5564 1010 1996 27894 8635 1997 5205 5817 2145 2681 2032 4941 2000 2023 2597 1012 1996 3335 12259 3672 1024 1999 1996 2117 5981 5205 5817 2056 1024 1996 10643 1999 3522 2086 1010 2025 2069 1999 1996 2197 2423 2086 1010 2021 1999 1996 2197 1022 2086 1010 2031 4941 1008 1008 1008 6263 11897 1008 1008 1996 8866 1024 5205 5817 2003 3038 2008 10643 2040 4941 2010 3327 3021 2024 2114 6263 11897 1012 1996 3447 3569 2019 3623 1999 1996 102\n"
     ]
    },
    {
     "name": "stdout",
     "output_type": "stream",
     "text": [
      "INFO:tensorflow:input_mask: 1 1 1 1 1 1 1 1 1 1 1 1 1 1 1 1 1 1 1 1 1 1 1 1 1 1 1 1 1 1 1 1 1 1 1 1 1 1 1 1 1 1 1 1 1 1 1 1 1 1 1 1 1 1 1 1 1 1 1 1 1 1 1 1 1 1 1 1 1 1 1 1 1 1 1 1 1 1 1 1 1 1 1 1 1 1 1 1 1 1 1 1 1 1 1 1 1 1 1 1 1 1 1 1 1 1 1 1 1 1 1 1 1 1 1 1 1 1 1 1 1 1 1 1 1 1 1 1\n"
     ]
    },
    {
     "name": "stderr",
     "output_type": "stream",
     "text": [
      "I0620 08:32:56.029157 139737458554624 tf_logging.py:115] input_mask: 1 1 1 1 1 1 1 1 1 1 1 1 1 1 1 1 1 1 1 1 1 1 1 1 1 1 1 1 1 1 1 1 1 1 1 1 1 1 1 1 1 1 1 1 1 1 1 1 1 1 1 1 1 1 1 1 1 1 1 1 1 1 1 1 1 1 1 1 1 1 1 1 1 1 1 1 1 1 1 1 1 1 1 1 1 1 1 1 1 1 1 1 1 1 1 1 1 1 1 1 1 1 1 1 1 1 1 1 1 1 1 1 1 1 1 1 1 1 1 1 1 1 1 1 1 1 1 1\n"
     ]
    },
    {
     "name": "stdout",
     "output_type": "stream",
     "text": [
      "INFO:tensorflow:segment_ids: 0 0 0 0 0 0 0 0 0 0 0 0 0 0 0 0 0 0 0 0 0 0 0 0 0 0 0 0 0 0 0 0 0 0 0 0 0 0 0 0 0 0 1 1 1 1 1 1 1 1 1 1 1 1 1 1 1 1 1 1 1 1 1 1 1 1 1 1 1 1 1 1 1 1 1 1 1 1 1 1 1 1 1 1 1 1 1 1 1 1 1 1 1 1 1 1 1 1 1 1 1 1 1 1 1 1 1 1 1 1 1 1 1 1 1 1 1 1 1 1 1 1 1 1 1 1 1 1\n"
     ]
    },
    {
     "name": "stderr",
     "output_type": "stream",
     "text": [
      "I0620 08:32:56.030009 139737458554624 tf_logging.py:115] segment_ids: 0 0 0 0 0 0 0 0 0 0 0 0 0 0 0 0 0 0 0 0 0 0 0 0 0 0 0 0 0 0 0 0 0 0 0 0 0 0 0 0 0 0 1 1 1 1 1 1 1 1 1 1 1 1 1 1 1 1 1 1 1 1 1 1 1 1 1 1 1 1 1 1 1 1 1 1 1 1 1 1 1 1 1 1 1 1 1 1 1 1 1 1 1 1 1 1 1 1 1 1 1 1 1 1 1 1 1 1 1 1 1 1 1 1 1 1 1 1 1 1 1 1 1 1 1 1 1 1\n"
     ]
    },
    {
     "name": "stdout",
     "output_type": "stream",
     "text": [
      "INFO:tensorflow:label: 0 (id = 0)\n"
     ]
    },
    {
     "name": "stderr",
     "output_type": "stream",
     "text": [
      "I0620 08:32:56.030588 139737458554624 tf_logging.py:115] label: 0 (id = 0)\n"
     ]
    },
    {
     "name": "stdout",
     "output_type": "stream",
     "text": [
      "INFO:tensorflow:*** Example ***\n"
     ]
    },
    {
     "name": "stderr",
     "output_type": "stream",
     "text": [
      "I0620 08:32:56.032461 139737458554624 tf_logging.py:115] *** Example ***\n"
     ]
    },
    {
     "name": "stdout",
     "output_type": "stream",
     "text": [
      "INFO:tensorflow:guid: None\n"
     ]
    },
    {
     "name": "stderr",
     "output_type": "stream",
     "text": [
      "I0620 08:32:56.033164 139737458554624 tf_logging.py:115] guid: None\n"
     ]
    },
    {
     "name": "stdout",
     "output_type": "stream",
     "text": [
      "INFO:tensorflow:tokens: [CLS] [ applause . ] let me make it very clear that if we are successful in january , we are going to recommend the following programs : first , we are going to make sure that those americans who are retired , who are on social security , who do need medical care , shall have it under the social security system . [ applause . [SEP] [ applause . ] a party which opposed social security , which tried to repeal it , a party which opposed minimum wage and tried to repeal it , a party which has opposed our efforts to pass in this congress medical care for the aged to the social security . [ applause . [SEP]\n"
     ]
    },
    {
     "name": "stderr",
     "output_type": "stream",
     "text": [
      "I0620 08:32:56.033821 139737458554624 tf_logging.py:115] tokens: [CLS] [ applause . ] let me make it very clear that if we are successful in january , we are going to recommend the following programs : first , we are going to make sure that those americans who are retired , who are on social security , who do need medical care , shall have it under the social security system . [ applause . [SEP] [ applause . ] a party which opposed social security , which tried to repeal it , a party which opposed minimum wage and tried to repeal it , a party which has opposed our efforts to pass in this congress medical care for the aged to the social security . [ applause . [SEP]\n"
     ]
    },
    {
     "name": "stdout",
     "output_type": "stream",
     "text": [
      "INFO:tensorflow:input_ids: 101 1031 20737 1012 1033 2292 2033 2191 2009 2200 3154 2008 2065 2057 2024 3144 1999 2254 1010 2057 2024 2183 2000 16755 1996 2206 3454 1024 2034 1010 2057 2024 2183 2000 2191 2469 2008 2216 4841 2040 2024 3394 1010 2040 2024 2006 2591 3036 1010 2040 2079 2342 2966 2729 1010 4618 2031 2009 2104 1996 2591 3036 2291 1012 1031 20737 1012 102 1031 20737 1012 1033 1037 2283 2029 4941 2591 3036 1010 2029 2699 2000 21825 2009 1010 1037 2283 2029 4941 6263 11897 1998 2699 2000 21825 2009 1010 1037 2283 2029 2038 4941 2256 4073 2000 3413 1999 2023 3519 2966 2729 2005 1996 4793 2000 1996 2591 3036 1012 1031 20737 1012 102 0 0 0 0 0\n"
     ]
    },
    {
     "name": "stderr",
     "output_type": "stream",
     "text": [
      "I0620 08:32:56.034504 139737458554624 tf_logging.py:115] input_ids: 101 1031 20737 1012 1033 2292 2033 2191 2009 2200 3154 2008 2065 2057 2024 3144 1999 2254 1010 2057 2024 2183 2000 16755 1996 2206 3454 1024 2034 1010 2057 2024 2183 2000 2191 2469 2008 2216 4841 2040 2024 3394 1010 2040 2024 2006 2591 3036 1010 2040 2079 2342 2966 2729 1010 4618 2031 2009 2104 1996 2591 3036 2291 1012 1031 20737 1012 102 1031 20737 1012 1033 1037 2283 2029 4941 2591 3036 1010 2029 2699 2000 21825 2009 1010 1037 2283 2029 4941 6263 11897 1998 2699 2000 21825 2009 1010 1037 2283 2029 2038 4941 2256 4073 2000 3413 1999 2023 3519 2966 2729 2005 1996 4793 2000 1996 2591 3036 1012 1031 20737 1012 102 0 0 0 0 0\n"
     ]
    },
    {
     "name": "stdout",
     "output_type": "stream",
     "text": [
      "INFO:tensorflow:input_mask: 1 1 1 1 1 1 1 1 1 1 1 1 1 1 1 1 1 1 1 1 1 1 1 1 1 1 1 1 1 1 1 1 1 1 1 1 1 1 1 1 1 1 1 1 1 1 1 1 1 1 1 1 1 1 1 1 1 1 1 1 1 1 1 1 1 1 1 1 1 1 1 1 1 1 1 1 1 1 1 1 1 1 1 1 1 1 1 1 1 1 1 1 1 1 1 1 1 1 1 1 1 1 1 1 1 1 1 1 1 1 1 1 1 1 1 1 1 1 1 1 1 1 1 0 0 0 0 0\n"
     ]
    },
    {
     "name": "stderr",
     "output_type": "stream",
     "text": [
      "I0620 08:32:56.035170 139737458554624 tf_logging.py:115] input_mask: 1 1 1 1 1 1 1 1 1 1 1 1 1 1 1 1 1 1 1 1 1 1 1 1 1 1 1 1 1 1 1 1 1 1 1 1 1 1 1 1 1 1 1 1 1 1 1 1 1 1 1 1 1 1 1 1 1 1 1 1 1 1 1 1 1 1 1 1 1 1 1 1 1 1 1 1 1 1 1 1 1 1 1 1 1 1 1 1 1 1 1 1 1 1 1 1 1 1 1 1 1 1 1 1 1 1 1 1 1 1 1 1 1 1 1 1 1 1 1 1 1 1 1 0 0 0 0 0\n"
     ]
    },
    {
     "name": "stdout",
     "output_type": "stream",
     "text": [
      "INFO:tensorflow:segment_ids: 0 0 0 0 0 0 0 0 0 0 0 0 0 0 0 0 0 0 0 0 0 0 0 0 0 0 0 0 0 0 0 0 0 0 0 0 0 0 0 0 0 0 0 0 0 0 0 0 0 0 0 0 0 0 0 0 0 0 0 0 0 0 0 0 0 0 0 0 1 1 1 1 1 1 1 1 1 1 1 1 1 1 1 1 1 1 1 1 1 1 1 1 1 1 1 1 1 1 1 1 1 1 1 1 1 1 1 1 1 1 1 1 1 1 1 1 1 1 1 1 1 1 1 0 0 0 0 0\n"
     ]
    },
    {
     "name": "stderr",
     "output_type": "stream",
     "text": [
      "I0620 08:32:56.035919 139737458554624 tf_logging.py:115] segment_ids: 0 0 0 0 0 0 0 0 0 0 0 0 0 0 0 0 0 0 0 0 0 0 0 0 0 0 0 0 0 0 0 0 0 0 0 0 0 0 0 0 0 0 0 0 0 0 0 0 0 0 0 0 0 0 0 0 0 0 0 0 0 0 0 0 0 0 0 0 1 1 1 1 1 1 1 1 1 1 1 1 1 1 1 1 1 1 1 1 1 1 1 1 1 1 1 1 1 1 1 1 1 1 1 1 1 1 1 1 1 1 1 1 1 1 1 1 1 1 1 1 1 1 1 0 0 0 0 0\n"
     ]
    },
    {
     "name": "stdout",
     "output_type": "stream",
     "text": [
      "INFO:tensorflow:label: 1 (id = 1)\n"
     ]
    },
    {
     "name": "stderr",
     "output_type": "stream",
     "text": [
      "I0620 08:32:56.036525 139737458554624 tf_logging.py:115] label: 1 (id = 1)\n"
     ]
    },
    {
     "name": "stdout",
     "output_type": "stream",
     "text": [
      "INFO:tensorflow:*** Example ***\n"
     ]
    },
    {
     "name": "stderr",
     "output_type": "stream",
     "text": [
      "I0620 08:32:56.039122 139737458554624 tf_logging.py:115] *** Example ***\n"
     ]
    },
    {
     "name": "stdout",
     "output_type": "stream",
     "text": [
      "INFO:tensorflow:guid: None\n"
     ]
    },
    {
     "name": "stderr",
     "output_type": "stream",
     "text": [
      "I0620 08:32:56.039993 139737458554624 tf_logging.py:115] guid: None\n"
     ]
    },
    {
     "name": "stdout",
     "output_type": "stream",
     "text": [
      "INFO:tensorflow:tokens: [CLS] the point is that we pay for that . every time the president veto ##es a housing bill , every time a republican member votes against the $ 1 . 25 minimum wage , every time we are unable to get any support on our bill to tie medical care for the aged to social security , it is not the congress that suffers , it is not the administration ; it is the people [SEP] they talked . but what did they produce ? they promised a 25 - percent minimum wage increase in place of the program that president eisenhower asked for and that could have been passed and should have been passed . what did the workers get ? nothing at all . [SEP]\n"
     ]
    },
    {
     "name": "stderr",
     "output_type": "stream",
     "text": [
      "I0620 08:32:56.040774 139737458554624 tf_logging.py:115] tokens: [CLS] the point is that we pay for that . every time the president veto ##es a housing bill , every time a republican member votes against the $ 1 . 25 minimum wage , every time we are unable to get any support on our bill to tie medical care for the aged to social security , it is not the congress that suffers , it is not the administration ; it is the people [SEP] they talked . but what did they produce ? they promised a 25 - percent minimum wage increase in place of the program that president eisenhower asked for and that could have been passed and should have been passed . what did the workers get ? nothing at all . [SEP]\n"
     ]
    },
    {
     "name": "stdout",
     "output_type": "stream",
     "text": [
      "INFO:tensorflow:input_ids: 101 1996 2391 2003 2008 2057 3477 2005 2008 1012 2296 2051 1996 2343 22102 2229 1037 3847 3021 1010 2296 2051 1037 3951 2266 4494 2114 1996 1002 1015 1012 2423 6263 11897 1010 2296 2051 2057 2024 4039 2000 2131 2151 2490 2006 2256 3021 2000 5495 2966 2729 2005 1996 4793 2000 2591 3036 1010 2009 2003 2025 1996 3519 2008 17567 1010 2009 2003 2025 1996 3447 1025 2009 2003 1996 2111 102 2027 5720 1012 2021 2054 2106 2027 3965 1029 2027 5763 1037 2423 1011 3867 6263 11897 3623 1999 2173 1997 1996 2565 2008 2343 16551 2356 2005 1998 2008 2071 2031 2042 2979 1998 2323 2031 2042 2979 1012 2054 2106 1996 3667 2131 1029 2498 2012 2035 1012 102\n"
     ]
    },
    {
     "name": "stderr",
     "output_type": "stream",
     "text": [
      "I0620 08:32:56.041503 139737458554624 tf_logging.py:115] input_ids: 101 1996 2391 2003 2008 2057 3477 2005 2008 1012 2296 2051 1996 2343 22102 2229 1037 3847 3021 1010 2296 2051 1037 3951 2266 4494 2114 1996 1002 1015 1012 2423 6263 11897 1010 2296 2051 2057 2024 4039 2000 2131 2151 2490 2006 2256 3021 2000 5495 2966 2729 2005 1996 4793 2000 2591 3036 1010 2009 2003 2025 1996 3519 2008 17567 1010 2009 2003 2025 1996 3447 1025 2009 2003 1996 2111 102 2027 5720 1012 2021 2054 2106 2027 3965 1029 2027 5763 1037 2423 1011 3867 6263 11897 3623 1999 2173 1997 1996 2565 2008 2343 16551 2356 2005 1998 2008 2071 2031 2042 2979 1998 2323 2031 2042 2979 1012 2054 2106 1996 3667 2131 1029 2498 2012 2035 1012 102\n"
     ]
    },
    {
     "name": "stdout",
     "output_type": "stream",
     "text": [
      "INFO:tensorflow:input_mask: 1 1 1 1 1 1 1 1 1 1 1 1 1 1 1 1 1 1 1 1 1 1 1 1 1 1 1 1 1 1 1 1 1 1 1 1 1 1 1 1 1 1 1 1 1 1 1 1 1 1 1 1 1 1 1 1 1 1 1 1 1 1 1 1 1 1 1 1 1 1 1 1 1 1 1 1 1 1 1 1 1 1 1 1 1 1 1 1 1 1 1 1 1 1 1 1 1 1 1 1 1 1 1 1 1 1 1 1 1 1 1 1 1 1 1 1 1 1 1 1 1 1 1 1 1 1 1 1\n"
     ]
    },
    {
     "name": "stderr",
     "output_type": "stream",
     "text": [
      "I0620 08:32:56.042249 139737458554624 tf_logging.py:115] input_mask: 1 1 1 1 1 1 1 1 1 1 1 1 1 1 1 1 1 1 1 1 1 1 1 1 1 1 1 1 1 1 1 1 1 1 1 1 1 1 1 1 1 1 1 1 1 1 1 1 1 1 1 1 1 1 1 1 1 1 1 1 1 1 1 1 1 1 1 1 1 1 1 1 1 1 1 1 1 1 1 1 1 1 1 1 1 1 1 1 1 1 1 1 1 1 1 1 1 1 1 1 1 1 1 1 1 1 1 1 1 1 1 1 1 1 1 1 1 1 1 1 1 1 1 1 1 1 1 1\n"
     ]
    },
    {
     "name": "stdout",
     "output_type": "stream",
     "text": [
      "INFO:tensorflow:segment_ids: 0 0 0 0 0 0 0 0 0 0 0 0 0 0 0 0 0 0 0 0 0 0 0 0 0 0 0 0 0 0 0 0 0 0 0 0 0 0 0 0 0 0 0 0 0 0 0 0 0 0 0 0 0 0 0 0 0 0 0 0 0 0 0 0 0 0 0 0 0 0 0 0 0 0 0 0 0 1 1 1 1 1 1 1 1 1 1 1 1 1 1 1 1 1 1 1 1 1 1 1 1 1 1 1 1 1 1 1 1 1 1 1 1 1 1 1 1 1 1 1 1 1 1 1 1 1 1 1\n"
     ]
    },
    {
     "name": "stderr",
     "output_type": "stream",
     "text": [
      "I0620 08:32:56.042916 139737458554624 tf_logging.py:115] segment_ids: 0 0 0 0 0 0 0 0 0 0 0 0 0 0 0 0 0 0 0 0 0 0 0 0 0 0 0 0 0 0 0 0 0 0 0 0 0 0 0 0 0 0 0 0 0 0 0 0 0 0 0 0 0 0 0 0 0 0 0 0 0 0 0 0 0 0 0 0 0 0 0 0 0 0 0 0 0 1 1 1 1 1 1 1 1 1 1 1 1 1 1 1 1 1 1 1 1 1 1 1 1 1 1 1 1 1 1 1 1 1 1 1 1 1 1 1 1 1 1 1 1 1 1 1 1 1 1 1\n"
     ]
    },
    {
     "name": "stdout",
     "output_type": "stream",
     "text": [
      "INFO:tensorflow:label: 0 (id = 0)\n"
     ]
    },
    {
     "name": "stderr",
     "output_type": "stream",
     "text": [
      "I0620 08:32:56.043679 139737458554624 tf_logging.py:115] label: 0 (id = 0)\n"
     ]
    },
    {
     "name": "stdout",
     "output_type": "stream",
     "text": [
      "INFO:tensorflow:*** Example ***\n"
     ]
    },
    {
     "name": "stderr",
     "output_type": "stream",
     "text": [
      "I0620 08:32:56.046659 139737458554624 tf_logging.py:115] *** Example ***\n"
     ]
    },
    {
     "name": "stdout",
     "output_type": "stream",
     "text": [
      "INFO:tensorflow:guid: None\n"
     ]
    },
    {
     "name": "stderr",
     "output_type": "stream",
     "text": [
      "I0620 08:32:56.047514 139737458554624 tf_logging.py:115] guid: None\n"
     ]
    },
    {
     "name": "stdout",
     "output_type": "stream",
     "text": [
      "INFO:tensorflow:tokens: [CLS] when a political party votes , in 1935 , 98 percent against the 25 - cent minimum wage , i know what the party stands for ; and when that same political party in 1960 votes in the house of representatives 85 percent against $ 1 . 25 minimum wage in 1960 , i know the republican party stands where it has always [SEP] it is our function , however , not to merely in ##vo ##ke the names of franklin roosevelt and harry truman , not to merely live off what they did , but to bring these old programs up to date . franklin roosevelt proposed a 25 - cent minimum wage , back in the middle thirties ; 90 percent of the republicans [SEP]\n"
     ]
    },
    {
     "name": "stderr",
     "output_type": "stream",
     "text": [
      "I0620 08:32:56.048200 139737458554624 tf_logging.py:115] tokens: [CLS] when a political party votes , in 1935 , 98 percent against the 25 - cent minimum wage , i know what the party stands for ; and when that same political party in 1960 votes in the house of representatives 85 percent against $ 1 . 25 minimum wage in 1960 , i know the republican party stands where it has always [SEP] it is our function , however , not to merely in ##vo ##ke the names of franklin roosevelt and harry truman , not to merely live off what they did , but to bring these old programs up to date . franklin roosevelt proposed a 25 - cent minimum wage , back in the middle thirties ; 90 percent of the republicans [SEP]\n"
     ]
    },
    {
     "name": "stdout",
     "output_type": "stream",
     "text": [
      "INFO:tensorflow:input_ids: 101 2043 1037 2576 2283 4494 1010 1999 4437 1010 5818 3867 2114 1996 2423 1011 9358 6263 11897 1010 1045 2113 2054 1996 2283 4832 2005 1025 1998 2043 2008 2168 2576 2283 1999 3624 4494 1999 1996 2160 1997 4505 5594 3867 2114 1002 1015 1012 2423 6263 11897 1999 3624 1010 1045 2113 1996 3951 2283 4832 2073 2009 2038 2467 102 2009 2003 2256 3853 1010 2174 1010 2025 2000 6414 1999 6767 3489 1996 3415 1997 5951 8573 1998 4302 15237 1010 2025 2000 6414 2444 2125 2054 2027 2106 1010 2021 2000 3288 2122 2214 3454 2039 2000 3058 1012 5951 8573 3818 1037 2423 1011 9358 6263 11897 1010 2067 1999 1996 2690 26313 1025 3938 3867 1997 1996 10643 102\n"
     ]
    },
    {
     "name": "stderr",
     "output_type": "stream",
     "text": [
      "I0620 08:32:56.048930 139737458554624 tf_logging.py:115] input_ids: 101 2043 1037 2576 2283 4494 1010 1999 4437 1010 5818 3867 2114 1996 2423 1011 9358 6263 11897 1010 1045 2113 2054 1996 2283 4832 2005 1025 1998 2043 2008 2168 2576 2283 1999 3624 4494 1999 1996 2160 1997 4505 5594 3867 2114 1002 1015 1012 2423 6263 11897 1999 3624 1010 1045 2113 1996 3951 2283 4832 2073 2009 2038 2467 102 2009 2003 2256 3853 1010 2174 1010 2025 2000 6414 1999 6767 3489 1996 3415 1997 5951 8573 1998 4302 15237 1010 2025 2000 6414 2444 2125 2054 2027 2106 1010 2021 2000 3288 2122 2214 3454 2039 2000 3058 1012 5951 8573 3818 1037 2423 1011 9358 6263 11897 1010 2067 1999 1996 2690 26313 1025 3938 3867 1997 1996 10643 102\n"
     ]
    },
    {
     "name": "stdout",
     "output_type": "stream",
     "text": [
      "INFO:tensorflow:input_mask: 1 1 1 1 1 1 1 1 1 1 1 1 1 1 1 1 1 1 1 1 1 1 1 1 1 1 1 1 1 1 1 1 1 1 1 1 1 1 1 1 1 1 1 1 1 1 1 1 1 1 1 1 1 1 1 1 1 1 1 1 1 1 1 1 1 1 1 1 1 1 1 1 1 1 1 1 1 1 1 1 1 1 1 1 1 1 1 1 1 1 1 1 1 1 1 1 1 1 1 1 1 1 1 1 1 1 1 1 1 1 1 1 1 1 1 1 1 1 1 1 1 1 1 1 1 1 1 1\n"
     ]
    },
    {
     "name": "stderr",
     "output_type": "stream",
     "text": [
      "I0620 08:32:56.049493 139737458554624 tf_logging.py:115] input_mask: 1 1 1 1 1 1 1 1 1 1 1 1 1 1 1 1 1 1 1 1 1 1 1 1 1 1 1 1 1 1 1 1 1 1 1 1 1 1 1 1 1 1 1 1 1 1 1 1 1 1 1 1 1 1 1 1 1 1 1 1 1 1 1 1 1 1 1 1 1 1 1 1 1 1 1 1 1 1 1 1 1 1 1 1 1 1 1 1 1 1 1 1 1 1 1 1 1 1 1 1 1 1 1 1 1 1 1 1 1 1 1 1 1 1 1 1 1 1 1 1 1 1 1 1 1 1 1 1\n"
     ]
    },
    {
     "name": "stdout",
     "output_type": "stream",
     "text": [
      "INFO:tensorflow:segment_ids: 0 0 0 0 0 0 0 0 0 0 0 0 0 0 0 0 0 0 0 0 0 0 0 0 0 0 0 0 0 0 0 0 0 0 0 0 0 0 0 0 0 0 0 0 0 0 0 0 0 0 0 0 0 0 0 0 0 0 0 0 0 0 0 0 0 1 1 1 1 1 1 1 1 1 1 1 1 1 1 1 1 1 1 1 1 1 1 1 1 1 1 1 1 1 1 1 1 1 1 1 1 1 1 1 1 1 1 1 1 1 1 1 1 1 1 1 1 1 1 1 1 1 1 1 1 1 1 1\n"
     ]
    },
    {
     "name": "stderr",
     "output_type": "stream",
     "text": [
      "I0620 08:32:56.050837 139737458554624 tf_logging.py:115] segment_ids: 0 0 0 0 0 0 0 0 0 0 0 0 0 0 0 0 0 0 0 0 0 0 0 0 0 0 0 0 0 0 0 0 0 0 0 0 0 0 0 0 0 0 0 0 0 0 0 0 0 0 0 0 0 0 0 0 0 0 0 0 0 0 0 0 0 1 1 1 1 1 1 1 1 1 1 1 1 1 1 1 1 1 1 1 1 1 1 1 1 1 1 1 1 1 1 1 1 1 1 1 1 1 1 1 1 1 1 1 1 1 1 1 1 1 1 1 1 1 1 1 1 1 1 1 1 1 1 1\n"
     ]
    },
    {
     "name": "stdout",
     "output_type": "stream",
     "text": [
      "INFO:tensorflow:label: 0 (id = 0)\n"
     ]
    },
    {
     "name": "stderr",
     "output_type": "stream",
     "text": [
      "I0620 08:32:56.054966 139737458554624 tf_logging.py:115] label: 0 (id = 0)\n"
     ]
    },
    {
     "name": "stdout",
     "output_type": "stream",
     "text": [
      "INFO:tensorflow:Writing example 0 of 146\n"
     ]
    },
    {
     "name": "stderr",
     "output_type": "stream",
     "text": [
      "I0620 08:32:58.827937 139737458554624 tf_logging.py:115] Writing example 0 of 146\n"
     ]
    },
    {
     "name": "stdout",
     "output_type": "stream",
     "text": [
      "INFO:tensorflow:*** Example ***\n"
     ]
    },
    {
     "name": "stderr",
     "output_type": "stream",
     "text": [
      "I0620 08:32:58.830774 139737458554624 tf_logging.py:115] *** Example ***\n"
     ]
    },
    {
     "name": "stdout",
     "output_type": "stream",
     "text": [
      "INFO:tensorflow:guid: None\n"
     ]
    },
    {
     "name": "stderr",
     "output_type": "stream",
     "text": [
      "I0620 08:32:58.831552 139737458554624 tf_logging.py:115] guid: None\n"
     ]
    },
    {
     "name": "stdout",
     "output_type": "stream",
     "text": [
      "INFO:tensorflow:tokens: [CLS] we have shown very little interest in their health , welfare , and economic problems . third , i think the united states should put greater emphasis on di ##sar ##mament . fourth , i think it has been the greatest blow we have had in the 1950 ' s or since world war ii , when the united states was second in space . [SEP] in other words , maintaining a position of equality permits you to negotiate more successfully . it is a source of concern to me that this government has had less than 100 people scattered through the entire federal government working on the subject of di ##sar ##mament . i would put more people into it . [SEP]\n"
     ]
    },
    {
     "name": "stderr",
     "output_type": "stream",
     "text": [
      "I0620 08:32:58.832215 139737458554624 tf_logging.py:115] tokens: [CLS] we have shown very little interest in their health , welfare , and economic problems . third , i think the united states should put greater emphasis on di ##sar ##mament . fourth , i think it has been the greatest blow we have had in the 1950 ' s or since world war ii , when the united states was second in space . [SEP] in other words , maintaining a position of equality permits you to negotiate more successfully . it is a source of concern to me that this government has had less than 100 people scattered through the entire federal government working on the subject of di ##sar ##mament . i would put more people into it . [SEP]\n"
     ]
    },
    {
     "name": "stdout",
     "output_type": "stream",
     "text": [
      "INFO:tensorflow:input_ids: 101 2057 2031 3491 2200 2210 3037 1999 2037 2740 1010 7574 1010 1998 3171 3471 1012 2353 1010 1045 2228 1996 2142 2163 2323 2404 3618 7902 2006 4487 10286 28119 1012 2959 1010 1045 2228 2009 2038 2042 1996 4602 6271 2057 2031 2018 1999 1996 3925 1005 1055 2030 2144 2088 2162 2462 1010 2043 1996 2142 2163 2001 2117 1999 2686 1012 102 1999 2060 2616 1010 8498 1037 2597 1997 9945 14245 2017 2000 13676 2062 5147 1012 2009 2003 1037 3120 1997 5142 2000 2033 2008 2023 2231 2038 2018 2625 2084 2531 2111 7932 2083 1996 2972 2976 2231 2551 2006 1996 3395 1997 4487 10286 28119 1012 1045 2052 2404 2062 2111 2046 2009 1012 102 0 0 0 0\n"
     ]
    },
    {
     "name": "stderr",
     "output_type": "stream",
     "text": [
      "I0620 08:32:58.833058 139737458554624 tf_logging.py:115] input_ids: 101 2057 2031 3491 2200 2210 3037 1999 2037 2740 1010 7574 1010 1998 3171 3471 1012 2353 1010 1045 2228 1996 2142 2163 2323 2404 3618 7902 2006 4487 10286 28119 1012 2959 1010 1045 2228 2009 2038 2042 1996 4602 6271 2057 2031 2018 1999 1996 3925 1005 1055 2030 2144 2088 2162 2462 1010 2043 1996 2142 2163 2001 2117 1999 2686 1012 102 1999 2060 2616 1010 8498 1037 2597 1997 9945 14245 2017 2000 13676 2062 5147 1012 2009 2003 1037 3120 1997 5142 2000 2033 2008 2023 2231 2038 2018 2625 2084 2531 2111 7932 2083 1996 2972 2976 2231 2551 2006 1996 3395 1997 4487 10286 28119 1012 1045 2052 2404 2062 2111 2046 2009 1012 102 0 0 0 0\n"
     ]
    },
    {
     "name": "stdout",
     "output_type": "stream",
     "text": [
      "INFO:tensorflow:input_mask: 1 1 1 1 1 1 1 1 1 1 1 1 1 1 1 1 1 1 1 1 1 1 1 1 1 1 1 1 1 1 1 1 1 1 1 1 1 1 1 1 1 1 1 1 1 1 1 1 1 1 1 1 1 1 1 1 1 1 1 1 1 1 1 1 1 1 1 1 1 1 1 1 1 1 1 1 1 1 1 1 1 1 1 1 1 1 1 1 1 1 1 1 1 1 1 1 1 1 1 1 1 1 1 1 1 1 1 1 1 1 1 1 1 1 1 1 1 1 1 1 1 1 1 1 0 0 0 0\n"
     ]
    },
    {
     "name": "stderr",
     "output_type": "stream",
     "text": [
      "I0620 08:32:58.834007 139737458554624 tf_logging.py:115] input_mask: 1 1 1 1 1 1 1 1 1 1 1 1 1 1 1 1 1 1 1 1 1 1 1 1 1 1 1 1 1 1 1 1 1 1 1 1 1 1 1 1 1 1 1 1 1 1 1 1 1 1 1 1 1 1 1 1 1 1 1 1 1 1 1 1 1 1 1 1 1 1 1 1 1 1 1 1 1 1 1 1 1 1 1 1 1 1 1 1 1 1 1 1 1 1 1 1 1 1 1 1 1 1 1 1 1 1 1 1 1 1 1 1 1 1 1 1 1 1 1 1 1 1 1 1 0 0 0 0\n"
     ]
    },
    {
     "name": "stdout",
     "output_type": "stream",
     "text": [
      "INFO:tensorflow:segment_ids: 0 0 0 0 0 0 0 0 0 0 0 0 0 0 0 0 0 0 0 0 0 0 0 0 0 0 0 0 0 0 0 0 0 0 0 0 0 0 0 0 0 0 0 0 0 0 0 0 0 0 0 0 0 0 0 0 0 0 0 0 0 0 0 0 0 0 0 1 1 1 1 1 1 1 1 1 1 1 1 1 1 1 1 1 1 1 1 1 1 1 1 1 1 1 1 1 1 1 1 1 1 1 1 1 1 1 1 1 1 1 1 1 1 1 1 1 1 1 1 1 1 1 1 1 0 0 0 0\n"
     ]
    },
    {
     "name": "stderr",
     "output_type": "stream",
     "text": [
      "I0620 08:32:58.834994 139737458554624 tf_logging.py:115] segment_ids: 0 0 0 0 0 0 0 0 0 0 0 0 0 0 0 0 0 0 0 0 0 0 0 0 0 0 0 0 0 0 0 0 0 0 0 0 0 0 0 0 0 0 0 0 0 0 0 0 0 0 0 0 0 0 0 0 0 0 0 0 0 0 0 0 0 0 0 1 1 1 1 1 1 1 1 1 1 1 1 1 1 1 1 1 1 1 1 1 1 1 1 1 1 1 1 1 1 1 1 1 1 1 1 1 1 1 1 1 1 1 1 1 1 1 1 1 1 1 1 1 1 1 1 1 0 0 0 0\n"
     ]
    },
    {
     "name": "stdout",
     "output_type": "stream",
     "text": [
      "INFO:tensorflow:label: 0 (id = 0)\n"
     ]
    },
    {
     "name": "stderr",
     "output_type": "stream",
     "text": [
      "I0620 08:32:58.835582 139737458554624 tf_logging.py:115] label: 0 (id = 0)\n"
     ]
    },
    {
     "name": "stdout",
     "output_type": "stream",
     "text": [
      "INFO:tensorflow:*** Example ***\n"
     ]
    },
    {
     "name": "stderr",
     "output_type": "stream",
     "text": [
      "I0620 08:32:58.837674 139737458554624 tf_logging.py:115] *** Example ***\n"
     ]
    },
    {
     "name": "stdout",
     "output_type": "stream",
     "text": [
      "INFO:tensorflow:guid: None\n"
     ]
    },
    {
     "name": "stderr",
     "output_type": "stream",
     "text": [
      "I0620 08:32:58.838935 139737458554624 tf_logging.py:115] guid: None\n"
     ]
    },
    {
     "name": "stdout",
     "output_type": "stream",
     "text": [
      "INFO:tensorflow:tokens: [CLS] it is now clear that our prestige is not based on what we say but what we do , relative to what our enemies do . mr . nixon has said many times that our confusion on u - 2 , the collapse of the summit , the cancellation of the president ' s trip to tokyo , our policies on cuba were [SEP] this was too little and too late . he said the government of the united states should support the anti - castro forces in and out of cuba - and again i quote him exactly - and again he was wrong and the president was right , because what my opponent would have done would have violated five treaties . it caused [SEP]\n"
     ]
    },
    {
     "name": "stderr",
     "output_type": "stream",
     "text": [
      "I0620 08:32:58.839763 139737458554624 tf_logging.py:115] tokens: [CLS] it is now clear that our prestige is not based on what we say but what we do , relative to what our enemies do . mr . nixon has said many times that our confusion on u - 2 , the collapse of the summit , the cancellation of the president ' s trip to tokyo , our policies on cuba were [SEP] this was too little and too late . he said the government of the united states should support the anti - castro forces in and out of cuba - and again i quote him exactly - and again he was wrong and the president was right , because what my opponent would have done would have violated five treaties . it caused [SEP]\n"
     ]
    },
    {
     "name": "stdout",
     "output_type": "stream",
     "text": [
      "INFO:tensorflow:input_ids: 101 2009 2003 2085 3154 2008 2256 14653 2003 2025 2241 2006 2054 2057 2360 2021 2054 2057 2079 1010 5816 2000 2054 2256 6716 2079 1012 2720 1012 11296 2038 2056 2116 2335 2008 2256 6724 2006 1057 1011 1016 1010 1996 7859 1997 1996 6465 1010 1996 16990 1997 1996 2343 1005 1055 4440 2000 5522 1010 2256 6043 2006 7394 2020 102 2023 2001 2205 2210 1998 2205 2397 1012 2002 2056 1996 2231 1997 1996 2142 2163 2323 2490 1996 3424 1011 11794 2749 1999 1998 2041 1997 7394 1011 1998 2153 1045 14686 2032 3599 1011 1998 2153 2002 2001 3308 1998 1996 2343 2001 2157 1010 2138 2054 2026 7116 2052 2031 2589 2052 2031 14424 2274 16013 1012 2009 3303 102\n"
     ]
    },
    {
     "name": "stderr",
     "output_type": "stream",
     "text": [
      "I0620 08:32:58.840458 139737458554624 tf_logging.py:115] input_ids: 101 2009 2003 2085 3154 2008 2256 14653 2003 2025 2241 2006 2054 2057 2360 2021 2054 2057 2079 1010 5816 2000 2054 2256 6716 2079 1012 2720 1012 11296 2038 2056 2116 2335 2008 2256 6724 2006 1057 1011 1016 1010 1996 7859 1997 1996 6465 1010 1996 16990 1997 1996 2343 1005 1055 4440 2000 5522 1010 2256 6043 2006 7394 2020 102 2023 2001 2205 2210 1998 2205 2397 1012 2002 2056 1996 2231 1997 1996 2142 2163 2323 2490 1996 3424 1011 11794 2749 1999 1998 2041 1997 7394 1011 1998 2153 1045 14686 2032 3599 1011 1998 2153 2002 2001 3308 1998 1996 2343 2001 2157 1010 2138 2054 2026 7116 2052 2031 2589 2052 2031 14424 2274 16013 1012 2009 3303 102\n"
     ]
    },
    {
     "name": "stdout",
     "output_type": "stream",
     "text": [
      "INFO:tensorflow:input_mask: 1 1 1 1 1 1 1 1 1 1 1 1 1 1 1 1 1 1 1 1 1 1 1 1 1 1 1 1 1 1 1 1 1 1 1 1 1 1 1 1 1 1 1 1 1 1 1 1 1 1 1 1 1 1 1 1 1 1 1 1 1 1 1 1 1 1 1 1 1 1 1 1 1 1 1 1 1 1 1 1 1 1 1 1 1 1 1 1 1 1 1 1 1 1 1 1 1 1 1 1 1 1 1 1 1 1 1 1 1 1 1 1 1 1 1 1 1 1 1 1 1 1 1 1 1 1 1 1\n"
     ]
    },
    {
     "name": "stderr",
     "output_type": "stream",
     "text": [
      "I0620 08:32:58.841059 139737458554624 tf_logging.py:115] input_mask: 1 1 1 1 1 1 1 1 1 1 1 1 1 1 1 1 1 1 1 1 1 1 1 1 1 1 1 1 1 1 1 1 1 1 1 1 1 1 1 1 1 1 1 1 1 1 1 1 1 1 1 1 1 1 1 1 1 1 1 1 1 1 1 1 1 1 1 1 1 1 1 1 1 1 1 1 1 1 1 1 1 1 1 1 1 1 1 1 1 1 1 1 1 1 1 1 1 1 1 1 1 1 1 1 1 1 1 1 1 1 1 1 1 1 1 1 1 1 1 1 1 1 1 1 1 1 1 1\n"
     ]
    },
    {
     "name": "stdout",
     "output_type": "stream",
     "text": [
      "INFO:tensorflow:segment_ids: 0 0 0 0 0 0 0 0 0 0 0 0 0 0 0 0 0 0 0 0 0 0 0 0 0 0 0 0 0 0 0 0 0 0 0 0 0 0 0 0 0 0 0 0 0 0 0 0 0 0 0 0 0 0 0 0 0 0 0 0 0 0 0 0 0 1 1 1 1 1 1 1 1 1 1 1 1 1 1 1 1 1 1 1 1 1 1 1 1 1 1 1 1 1 1 1 1 1 1 1 1 1 1 1 1 1 1 1 1 1 1 1 1 1 1 1 1 1 1 1 1 1 1 1 1 1 1 1\n"
     ]
    },
    {
     "name": "stderr",
     "output_type": "stream",
     "text": [
      "I0620 08:32:58.841713 139737458554624 tf_logging.py:115] segment_ids: 0 0 0 0 0 0 0 0 0 0 0 0 0 0 0 0 0 0 0 0 0 0 0 0 0 0 0 0 0 0 0 0 0 0 0 0 0 0 0 0 0 0 0 0 0 0 0 0 0 0 0 0 0 0 0 0 0 0 0 0 0 0 0 0 0 1 1 1 1 1 1 1 1 1 1 1 1 1 1 1 1 1 1 1 1 1 1 1 1 1 1 1 1 1 1 1 1 1 1 1 1 1 1 1 1 1 1 1 1 1 1 1 1 1 1 1 1 1 1 1 1 1 1 1 1 1 1 1\n"
     ]
    },
    {
     "name": "stdout",
     "output_type": "stream",
     "text": [
      "INFO:tensorflow:label: 0 (id = 0)\n"
     ]
    },
    {
     "name": "stderr",
     "output_type": "stream",
     "text": [
      "I0620 08:32:58.842338 139737458554624 tf_logging.py:115] label: 0 (id = 0)\n"
     ]
    },
    {
     "name": "stdout",
     "output_type": "stream",
     "text": [
      "INFO:tensorflow:*** Example ***\n"
     ]
    },
    {
     "name": "stderr",
     "output_type": "stream",
     "text": [
      "I0620 08:32:58.844991 139737458554624 tf_logging.py:115] *** Example ***\n"
     ]
    },
    {
     "name": "stdout",
     "output_type": "stream",
     "text": [
      "INFO:tensorflow:guid: None\n"
     ]
    },
    {
     "name": "stderr",
     "output_type": "stream",
     "text": [
      "I0620 08:32:58.846000 139737458554624 tf_logging.py:115] guid: None\n"
     ]
    },
    {
     "name": "stdout",
     "output_type": "stream",
     "text": [
      "INFO:tensorflow:tokens: [CLS] i do n ' t think the monetary and fiscal policies which this administration has followed are good enough . i believe that when they stand against the minimum wage of $ 1 . 25 an hour , i think they are standing in the way of progress . we have high interest rates and as a partial result we built this year [SEP] the administration supported an increase in the minimum wage in 1955 , and in 1957 urged legislation to extend minimum wage coverage to some 3 million additional workers , an extension which the democratic - led congress failed to approve . in 1960 , this administration sought to extend minimum wage coverage to 3 . 1 million additional workers and indicated support [SEP]\n"
     ]
    },
    {
     "name": "stderr",
     "output_type": "stream",
     "text": [
      "I0620 08:32:58.846745 139737458554624 tf_logging.py:115] tokens: [CLS] i do n ' t think the monetary and fiscal policies which this administration has followed are good enough . i believe that when they stand against the minimum wage of $ 1 . 25 an hour , i think they are standing in the way of progress . we have high interest rates and as a partial result we built this year [SEP] the administration supported an increase in the minimum wage in 1955 , and in 1957 urged legislation to extend minimum wage coverage to some 3 million additional workers , an extension which the democratic - led congress failed to approve . in 1960 , this administration sought to extend minimum wage coverage to 3 . 1 million additional workers and indicated support [SEP]\n"
     ]
    },
    {
     "name": "stdout",
     "output_type": "stream",
     "text": [
      "INFO:tensorflow:input_ids: 101 1045 2079 1050 1005 1056 2228 1996 12194 1998 10807 6043 2029 2023 3447 2038 2628 2024 2204 2438 1012 1045 2903 2008 2043 2027 3233 2114 1996 6263 11897 1997 1002 1015 1012 2423 2019 3178 1010 1045 2228 2027 2024 3061 1999 1996 2126 1997 5082 1012 2057 2031 2152 3037 6165 1998 2004 1037 7704 2765 2057 2328 2023 2095 102 1996 3447 3569 2019 3623 1999 1996 6263 11897 1999 3982 1010 1998 1999 3890 9720 6094 2000 7949 6263 11897 6325 2000 2070 1017 2454 3176 3667 1010 2019 5331 2029 1996 3537 1011 2419 3519 3478 2000 14300 1012 1999 3624 1010 2023 3447 4912 2000 7949 6263 11897 6325 2000 1017 1012 1015 2454 3176 3667 1998 5393 2490 102\n"
     ]
    },
    {
     "name": "stderr",
     "output_type": "stream",
     "text": [
      "I0620 08:32:58.847551 139737458554624 tf_logging.py:115] input_ids: 101 1045 2079 1050 1005 1056 2228 1996 12194 1998 10807 6043 2029 2023 3447 2038 2628 2024 2204 2438 1012 1045 2903 2008 2043 2027 3233 2114 1996 6263 11897 1997 1002 1015 1012 2423 2019 3178 1010 1045 2228 2027 2024 3061 1999 1996 2126 1997 5082 1012 2057 2031 2152 3037 6165 1998 2004 1037 7704 2765 2057 2328 2023 2095 102 1996 3447 3569 2019 3623 1999 1996 6263 11897 1999 3982 1010 1998 1999 3890 9720 6094 2000 7949 6263 11897 6325 2000 2070 1017 2454 3176 3667 1010 2019 5331 2029 1996 3537 1011 2419 3519 3478 2000 14300 1012 1999 3624 1010 2023 3447 4912 2000 7949 6263 11897 6325 2000 1017 1012 1015 2454 3176 3667 1998 5393 2490 102\n"
     ]
    },
    {
     "name": "stdout",
     "output_type": "stream",
     "text": [
      "INFO:tensorflow:input_mask: 1 1 1 1 1 1 1 1 1 1 1 1 1 1 1 1 1 1 1 1 1 1 1 1 1 1 1 1 1 1 1 1 1 1 1 1 1 1 1 1 1 1 1 1 1 1 1 1 1 1 1 1 1 1 1 1 1 1 1 1 1 1 1 1 1 1 1 1 1 1 1 1 1 1 1 1 1 1 1 1 1 1 1 1 1 1 1 1 1 1 1 1 1 1 1 1 1 1 1 1 1 1 1 1 1 1 1 1 1 1 1 1 1 1 1 1 1 1 1 1 1 1 1 1 1 1 1 1\n"
     ]
    },
    {
     "name": "stderr",
     "output_type": "stream",
     "text": [
      "I0620 08:32:58.848263 139737458554624 tf_logging.py:115] input_mask: 1 1 1 1 1 1 1 1 1 1 1 1 1 1 1 1 1 1 1 1 1 1 1 1 1 1 1 1 1 1 1 1 1 1 1 1 1 1 1 1 1 1 1 1 1 1 1 1 1 1 1 1 1 1 1 1 1 1 1 1 1 1 1 1 1 1 1 1 1 1 1 1 1 1 1 1 1 1 1 1 1 1 1 1 1 1 1 1 1 1 1 1 1 1 1 1 1 1 1 1 1 1 1 1 1 1 1 1 1 1 1 1 1 1 1 1 1 1 1 1 1 1 1 1 1 1 1 1\n"
     ]
    },
    {
     "name": "stdout",
     "output_type": "stream",
     "text": [
      "INFO:tensorflow:segment_ids: 0 0 0 0 0 0 0 0 0 0 0 0 0 0 0 0 0 0 0 0 0 0 0 0 0 0 0 0 0 0 0 0 0 0 0 0 0 0 0 0 0 0 0 0 0 0 0 0 0 0 0 0 0 0 0 0 0 0 0 0 0 0 0 0 0 1 1 1 1 1 1 1 1 1 1 1 1 1 1 1 1 1 1 1 1 1 1 1 1 1 1 1 1 1 1 1 1 1 1 1 1 1 1 1 1 1 1 1 1 1 1 1 1 1 1 1 1 1 1 1 1 1 1 1 1 1 1 1\n"
     ]
    },
    {
     "name": "stderr",
     "output_type": "stream",
     "text": [
      "I0620 08:32:58.849057 139737458554624 tf_logging.py:115] segment_ids: 0 0 0 0 0 0 0 0 0 0 0 0 0 0 0 0 0 0 0 0 0 0 0 0 0 0 0 0 0 0 0 0 0 0 0 0 0 0 0 0 0 0 0 0 0 0 0 0 0 0 0 0 0 0 0 0 0 0 0 0 0 0 0 0 0 1 1 1 1 1 1 1 1 1 1 1 1 1 1 1 1 1 1 1 1 1 1 1 1 1 1 1 1 1 1 1 1 1 1 1 1 1 1 1 1 1 1 1 1 1 1 1 1 1 1 1 1 1 1 1 1 1 1 1 1 1 1 1\n"
     ]
    },
    {
     "name": "stdout",
     "output_type": "stream",
     "text": [
      "INFO:tensorflow:label: 0 (id = 0)\n"
     ]
    },
    {
     "name": "stderr",
     "output_type": "stream",
     "text": [
      "I0620 08:32:58.849830 139737458554624 tf_logging.py:115] label: 0 (id = 0)\n"
     ]
    },
    {
     "name": "stdout",
     "output_type": "stream",
     "text": [
      "INFO:tensorflow:*** Example ***\n"
     ]
    },
    {
     "name": "stderr",
     "output_type": "stream",
     "text": [
      "I0620 08:32:58.852992 139737458554624 tf_logging.py:115] *** Example ***\n"
     ]
    },
    {
     "name": "stdout",
     "output_type": "stream",
     "text": [
      "INFO:tensorflow:guid: None\n"
     ]
    },
    {
     "name": "stderr",
     "output_type": "stream",
     "text": [
      "I0620 08:32:58.853717 139737458554624 tf_logging.py:115] guid: None\n"
     ]
    },
    {
     "name": "stdout",
     "output_type": "stream",
     "text": [
      "INFO:tensorflow:tokens: [CLS] this would n ' t have happened under franklin roosevelt , who warned the nazis in 1940 to stay out of our hemisphere ; this would n ' t have happened under harry truman who warned the communists in 1947 to stay out of greece and turkey . and this would not have happened in cuba if the republican leadership mr . nixon [SEP] it is a program like this which is the ultimate answer to castro and the communists . for if latin america is moving forward , if it is progressing under democratic government , then eventually the people of cuba too will demand freedom for themselves , and communist rule in latin america will per ##ish where it began - in the streets [SEP]\n"
     ]
    },
    {
     "name": "stderr",
     "output_type": "stream",
     "text": [
      "I0620 08:32:58.854491 139737458554624 tf_logging.py:115] tokens: [CLS] this would n ' t have happened under franklin roosevelt , who warned the nazis in 1940 to stay out of our hemisphere ; this would n ' t have happened under harry truman who warned the communists in 1947 to stay out of greece and turkey . and this would not have happened in cuba if the republican leadership mr . nixon [SEP] it is a program like this which is the ultimate answer to castro and the communists . for if latin america is moving forward , if it is progressing under democratic government , then eventually the people of cuba too will demand freedom for themselves , and communist rule in latin america will per ##ish where it began - in the streets [SEP]\n"
     ]
    },
    {
     "name": "stdout",
     "output_type": "stream",
     "text": [
      "INFO:tensorflow:input_ids: 101 2023 2052 1050 1005 1056 2031 3047 2104 5951 8573 1010 2040 7420 1996 13157 1999 3878 2000 2994 2041 1997 2256 14130 1025 2023 2052 1050 1005 1056 2031 3047 2104 4302 15237 2040 7420 1996 13009 1999 4006 2000 2994 2041 1997 5483 1998 4977 1012 1998 2023 2052 2025 2031 3047 1999 7394 2065 1996 3951 4105 2720 1012 11296 102 2009 2003 1037 2565 2066 2023 2029 2003 1996 7209 3437 2000 11794 1998 1996 13009 1012 2005 2065 3763 2637 2003 3048 2830 1010 2065 2009 2003 27673 2104 3537 2231 1010 2059 2776 1996 2111 1997 7394 2205 2097 5157 4071 2005 3209 1010 1998 4750 3627 1999 3763 2637 2097 2566 4509 2073 2009 2211 1011 1999 1996 4534 102\n"
     ]
    },
    {
     "name": "stderr",
     "output_type": "stream",
     "text": [
      "I0620 08:32:58.855373 139737458554624 tf_logging.py:115] input_ids: 101 2023 2052 1050 1005 1056 2031 3047 2104 5951 8573 1010 2040 7420 1996 13157 1999 3878 2000 2994 2041 1997 2256 14130 1025 2023 2052 1050 1005 1056 2031 3047 2104 4302 15237 2040 7420 1996 13009 1999 4006 2000 2994 2041 1997 5483 1998 4977 1012 1998 2023 2052 2025 2031 3047 1999 7394 2065 1996 3951 4105 2720 1012 11296 102 2009 2003 1037 2565 2066 2023 2029 2003 1996 7209 3437 2000 11794 1998 1996 13009 1012 2005 2065 3763 2637 2003 3048 2830 1010 2065 2009 2003 27673 2104 3537 2231 1010 2059 2776 1996 2111 1997 7394 2205 2097 5157 4071 2005 3209 1010 1998 4750 3627 1999 3763 2637 2097 2566 4509 2073 2009 2211 1011 1999 1996 4534 102\n"
     ]
    },
    {
     "name": "stdout",
     "output_type": "stream",
     "text": [
      "INFO:tensorflow:input_mask: 1 1 1 1 1 1 1 1 1 1 1 1 1 1 1 1 1 1 1 1 1 1 1 1 1 1 1 1 1 1 1 1 1 1 1 1 1 1 1 1 1 1 1 1 1 1 1 1 1 1 1 1 1 1 1 1 1 1 1 1 1 1 1 1 1 1 1 1 1 1 1 1 1 1 1 1 1 1 1 1 1 1 1 1 1 1 1 1 1 1 1 1 1 1 1 1 1 1 1 1 1 1 1 1 1 1 1 1 1 1 1 1 1 1 1 1 1 1 1 1 1 1 1 1 1 1 1 1\n"
     ]
    },
    {
     "name": "stderr",
     "output_type": "stream",
     "text": [
      "I0620 08:32:58.856068 139737458554624 tf_logging.py:115] input_mask: 1 1 1 1 1 1 1 1 1 1 1 1 1 1 1 1 1 1 1 1 1 1 1 1 1 1 1 1 1 1 1 1 1 1 1 1 1 1 1 1 1 1 1 1 1 1 1 1 1 1 1 1 1 1 1 1 1 1 1 1 1 1 1 1 1 1 1 1 1 1 1 1 1 1 1 1 1 1 1 1 1 1 1 1 1 1 1 1 1 1 1 1 1 1 1 1 1 1 1 1 1 1 1 1 1 1 1 1 1 1 1 1 1 1 1 1 1 1 1 1 1 1 1 1 1 1 1 1\n"
     ]
    },
    {
     "name": "stdout",
     "output_type": "stream",
     "text": [
      "INFO:tensorflow:segment_ids: 0 0 0 0 0 0 0 0 0 0 0 0 0 0 0 0 0 0 0 0 0 0 0 0 0 0 0 0 0 0 0 0 0 0 0 0 0 0 0 0 0 0 0 0 0 0 0 0 0 0 0 0 0 0 0 0 0 0 0 0 0 0 0 0 0 1 1 1 1 1 1 1 1 1 1 1 1 1 1 1 1 1 1 1 1 1 1 1 1 1 1 1 1 1 1 1 1 1 1 1 1 1 1 1 1 1 1 1 1 1 1 1 1 1 1 1 1 1 1 1 1 1 1 1 1 1 1 1\n"
     ]
    },
    {
     "name": "stderr",
     "output_type": "stream",
     "text": [
      "I0620 08:32:58.856763 139737458554624 tf_logging.py:115] segment_ids: 0 0 0 0 0 0 0 0 0 0 0 0 0 0 0 0 0 0 0 0 0 0 0 0 0 0 0 0 0 0 0 0 0 0 0 0 0 0 0 0 0 0 0 0 0 0 0 0 0 0 0 0 0 0 0 0 0 0 0 0 0 0 0 0 0 1 1 1 1 1 1 1 1 1 1 1 1 1 1 1 1 1 1 1 1 1 1 1 1 1 1 1 1 1 1 1 1 1 1 1 1 1 1 1 1 1 1 1 1 1 1 1 1 1 1 1 1 1 1 1 1 1 1 1 1 1 1 1\n"
     ]
    },
    {
     "name": "stdout",
     "output_type": "stream",
     "text": [
      "INFO:tensorflow:label: 0 (id = 0)\n"
     ]
    },
    {
     "name": "stderr",
     "output_type": "stream",
     "text": [
      "I0620 08:32:58.857364 139737458554624 tf_logging.py:115] label: 0 (id = 0)\n"
     ]
    },
    {
     "name": "stdout",
     "output_type": "stream",
     "text": [
      "INFO:tensorflow:*** Example ***\n"
     ]
    },
    {
     "name": "stderr",
     "output_type": "stream",
     "text": [
      "I0620 08:32:58.859820 139737458554624 tf_logging.py:115] *** Example ***\n"
     ]
    },
    {
     "name": "stdout",
     "output_type": "stream",
     "text": [
      "INFO:tensorflow:guid: None\n"
     ]
    },
    {
     "name": "stderr",
     "output_type": "stream",
     "text": [
      "I0620 08:32:58.860612 139737458554624 tf_logging.py:115] guid: None\n"
     ]
    },
    {
     "name": "stdout",
     "output_type": "stream",
     "text": [
      "INFO:tensorflow:tokens: [CLS] [ applause . ] and the reason that we insist that di ##sar ##mament must not be just a fine slogan but that it must be honest and that there must be an agreement which will see that both sides keep it is not because we do not want di ##sar ##mament but because we do want di ##sar ##mament . we want [SEP] secondly , peace requires an america that is planning , preparing , and st ##ri ##ving for di ##sar ##mament and other steps toward peace . di ##sar ##mament today is just as complicated as armament ##s - involving complex problems of surveillance , reconnaissance , se ##ism ##ography , atmospheric sampling and testing stations . a successful blue ##print for a [SEP]\n"
     ]
    },
    {
     "name": "stderr",
     "output_type": "stream",
     "text": [
      "I0620 08:32:58.861457 139737458554624 tf_logging.py:115] tokens: [CLS] [ applause . ] and the reason that we insist that di ##sar ##mament must not be just a fine slogan but that it must be honest and that there must be an agreement which will see that both sides keep it is not because we do not want di ##sar ##mament but because we do want di ##sar ##mament . we want [SEP] secondly , peace requires an america that is planning , preparing , and st ##ri ##ving for di ##sar ##mament and other steps toward peace . di ##sar ##mament today is just as complicated as armament ##s - involving complex problems of surveillance , reconnaissance , se ##ism ##ography , atmospheric sampling and testing stations . a successful blue ##print for a [SEP]\n"
     ]
    },
    {
     "name": "stdout",
     "output_type": "stream",
     "text": [
      "INFO:tensorflow:input_ids: 101 1031 20737 1012 1033 1998 1996 3114 2008 2057 18292 2008 4487 10286 28119 2442 2025 2022 2074 1037 2986 14558 2021 2008 2009 2442 2022 7481 1998 2008 2045 2442 2022 2019 3820 2029 2097 2156 2008 2119 3903 2562 2009 2003 2025 2138 2057 2079 2025 2215 4487 10286 28119 2021 2138 2057 2079 2215 4487 10286 28119 1012 2057 2215 102 16378 1010 3521 5942 2019 2637 2008 2003 4041 1010 8225 1010 1998 2358 3089 6455 2005 4487 10286 28119 1998 2060 4084 2646 3521 1012 4487 10286 28119 2651 2003 2074 2004 8552 2004 14410 2015 1011 5994 3375 3471 1997 9867 1010 8967 1010 7367 2964 9888 1010 12483 16227 1998 5604 3703 1012 1037 3144 2630 16550 2005 1037 102\n"
     ]
    },
    {
     "name": "stderr",
     "output_type": "stream",
     "text": [
      "I0620 08:32:58.862184 139737458554624 tf_logging.py:115] input_ids: 101 1031 20737 1012 1033 1998 1996 3114 2008 2057 18292 2008 4487 10286 28119 2442 2025 2022 2074 1037 2986 14558 2021 2008 2009 2442 2022 7481 1998 2008 2045 2442 2022 2019 3820 2029 2097 2156 2008 2119 3903 2562 2009 2003 2025 2138 2057 2079 2025 2215 4487 10286 28119 2021 2138 2057 2079 2215 4487 10286 28119 1012 2057 2215 102 16378 1010 3521 5942 2019 2637 2008 2003 4041 1010 8225 1010 1998 2358 3089 6455 2005 4487 10286 28119 1998 2060 4084 2646 3521 1012 4487 10286 28119 2651 2003 2074 2004 8552 2004 14410 2015 1011 5994 3375 3471 1997 9867 1010 8967 1010 7367 2964 9888 1010 12483 16227 1998 5604 3703 1012 1037 3144 2630 16550 2005 1037 102\n"
     ]
    },
    {
     "name": "stdout",
     "output_type": "stream",
     "text": [
      "INFO:tensorflow:input_mask: 1 1 1 1 1 1 1 1 1 1 1 1 1 1 1 1 1 1 1 1 1 1 1 1 1 1 1 1 1 1 1 1 1 1 1 1 1 1 1 1 1 1 1 1 1 1 1 1 1 1 1 1 1 1 1 1 1 1 1 1 1 1 1 1 1 1 1 1 1 1 1 1 1 1 1 1 1 1 1 1 1 1 1 1 1 1 1 1 1 1 1 1 1 1 1 1 1 1 1 1 1 1 1 1 1 1 1 1 1 1 1 1 1 1 1 1 1 1 1 1 1 1 1 1 1 1 1 1\n"
     ]
    },
    {
     "name": "stderr",
     "output_type": "stream",
     "text": [
      "I0620 08:32:58.862788 139737458554624 tf_logging.py:115] input_mask: 1 1 1 1 1 1 1 1 1 1 1 1 1 1 1 1 1 1 1 1 1 1 1 1 1 1 1 1 1 1 1 1 1 1 1 1 1 1 1 1 1 1 1 1 1 1 1 1 1 1 1 1 1 1 1 1 1 1 1 1 1 1 1 1 1 1 1 1 1 1 1 1 1 1 1 1 1 1 1 1 1 1 1 1 1 1 1 1 1 1 1 1 1 1 1 1 1 1 1 1 1 1 1 1 1 1 1 1 1 1 1 1 1 1 1 1 1 1 1 1 1 1 1 1 1 1 1 1\n"
     ]
    },
    {
     "name": "stdout",
     "output_type": "stream",
     "text": [
      "INFO:tensorflow:segment_ids: 0 0 0 0 0 0 0 0 0 0 0 0 0 0 0 0 0 0 0 0 0 0 0 0 0 0 0 0 0 0 0 0 0 0 0 0 0 0 0 0 0 0 0 0 0 0 0 0 0 0 0 0 0 0 0 0 0 0 0 0 0 0 0 0 0 1 1 1 1 1 1 1 1 1 1 1 1 1 1 1 1 1 1 1 1 1 1 1 1 1 1 1 1 1 1 1 1 1 1 1 1 1 1 1 1 1 1 1 1 1 1 1 1 1 1 1 1 1 1 1 1 1 1 1 1 1 1 1\n"
     ]
    },
    {
     "name": "stderr",
     "output_type": "stream",
     "text": [
      "I0620 08:32:58.863399 139737458554624 tf_logging.py:115] segment_ids: 0 0 0 0 0 0 0 0 0 0 0 0 0 0 0 0 0 0 0 0 0 0 0 0 0 0 0 0 0 0 0 0 0 0 0 0 0 0 0 0 0 0 0 0 0 0 0 0 0 0 0 0 0 0 0 0 0 0 0 0 0 0 0 0 0 1 1 1 1 1 1 1 1 1 1 1 1 1 1 1 1 1 1 1 1 1 1 1 1 1 1 1 1 1 1 1 1 1 1 1 1 1 1 1 1 1 1 1 1 1 1 1 1 1 1 1 1 1 1 1 1 1 1 1 1 1 1 1\n"
     ]
    },
    {
     "name": "stdout",
     "output_type": "stream",
     "text": [
      "INFO:tensorflow:label: 0 (id = 0)\n"
     ]
    },
    {
     "name": "stderr",
     "output_type": "stream",
     "text": [
      "I0620 08:32:58.863971 139737458554624 tf_logging.py:115] label: 0 (id = 0)\n"
     ]
    },
    {
     "name": "stdout",
     "output_type": "stream",
     "text": [
      "Beginning Training!\n",
      "test labels 1    73\n",
      "0    73\n",
      "Name: label, dtype: int64\n",
      "train labels 0    658\n",
      "1    656\n",
      "Name: label, dtype: int64\n",
      "INFO:tensorflow:Using config: {'_model_dir': 'BERT_RUN2019-06-20 08:25:39.792798political', '_tf_random_seed': None, '_save_summary_steps': 100, '_save_checkpoints_steps': 5000, '_save_checkpoints_secs': None, '_session_config': allow_soft_placement: true\n",
      "graph_options {\n",
      "  rewrite_options {\n",
      "    meta_optimizer_iterations: ONE\n",
      "  }\n",
      "}\n",
      ", '_keep_checkpoint_max': 5, '_keep_checkpoint_every_n_hours': 10000, '_log_step_count_steps': 100, '_train_distribute': None, '_device_fn': None, '_protocol': None, '_eval_distribute': None, '_experimental_distribute': None, '_service': None, '_cluster_spec': <tensorflow.python.training.server_lib.ClusterSpec object at 0x7f1686787710>, '_task_type': 'worker', '_task_id': 0, '_global_id_in_cluster': 0, '_master': '', '_evaluation_master': '', '_is_chief': True, '_num_ps_replicas': 0, '_num_worker_replicas': 1}\n"
     ]
    },
    {
     "name": "stderr",
     "output_type": "stream",
     "text": [
      "I0620 08:32:59.166705 139737458554624 tf_logging.py:115] Using config: {'_model_dir': 'BERT_RUN2019-06-20 08:25:39.792798political', '_tf_random_seed': None, '_save_summary_steps': 100, '_save_checkpoints_steps': 5000, '_save_checkpoints_secs': None, '_session_config': allow_soft_placement: true\n",
      "graph_options {\n",
      "  rewrite_options {\n",
      "    meta_optimizer_iterations: ONE\n",
      "  }\n",
      "}\n",
      ", '_keep_checkpoint_max': 5, '_keep_checkpoint_every_n_hours': 10000, '_log_step_count_steps': 100, '_train_distribute': None, '_device_fn': None, '_protocol': None, '_eval_distribute': None, '_experimental_distribute': None, '_service': None, '_cluster_spec': <tensorflow.python.training.server_lib.ClusterSpec object at 0x7f1686787710>, '_task_type': 'worker', '_task_id': 0, '_global_id_in_cluster': 0, '_master': '', '_evaluation_master': '', '_is_chief': True, '_num_ps_replicas': 0, '_num_worker_replicas': 1}\n"
     ]
    },
    {
     "name": "stdout",
     "output_type": "stream",
     "text": [
      "INFO:tensorflow:Calling model_fn.\n"
     ]
    },
    {
     "name": "stderr",
     "output_type": "stream",
     "text": [
      "I0620 08:32:59.579044 139737458554624 tf_logging.py:115] Calling model_fn.\n"
     ]
    },
    {
     "name": "stdout",
     "output_type": "stream",
     "text": [
      "INFO:tensorflow:Saver not created because there are no variables in the graph to restore\n"
     ]
    },
    {
     "name": "stderr",
     "output_type": "stream",
     "text": [
      "I0620 08:33:01.782147 139737458554624 tf_logging.py:115] Saver not created because there are no variables in the graph to restore\n"
     ]
    },
    {
     "name": "stdout",
     "output_type": "stream",
     "text": [
      "INFO:tensorflow:Done calling model_fn.\n"
     ]
    },
    {
     "name": "stderr",
     "output_type": "stream",
     "text": [
      "I0620 08:33:07.497436 139737458554624 tf_logging.py:115] Done calling model_fn.\n"
     ]
    },
    {
     "name": "stdout",
     "output_type": "stream",
     "text": [
      "INFO:tensorflow:Create CheckpointSaverHook.\n"
     ]
    },
    {
     "name": "stderr",
     "output_type": "stream",
     "text": [
      "I0620 08:33:07.499578 139737458554624 tf_logging.py:115] Create CheckpointSaverHook.\n"
     ]
    },
    {
     "name": "stdout",
     "output_type": "stream",
     "text": [
      "INFO:tensorflow:Graph was finalized.\n"
     ]
    },
    {
     "name": "stderr",
     "output_type": "stream",
     "text": [
      "I0620 08:33:08.414186 139737458554624 tf_logging.py:115] Graph was finalized.\n"
     ]
    },
    {
     "name": "stdout",
     "output_type": "stream",
     "text": [
      "INFO:tensorflow:Running local_init_op.\n"
     ]
    },
    {
     "name": "stderr",
     "output_type": "stream",
     "text": [
      "I0620 08:33:13.109940 139737458554624 tf_logging.py:115] Running local_init_op.\n"
     ]
    },
    {
     "name": "stdout",
     "output_type": "stream",
     "text": [
      "INFO:tensorflow:Done running local_init_op.\n"
     ]
    },
    {
     "name": "stderr",
     "output_type": "stream",
     "text": [
      "I0620 08:33:13.223409 139737458554624 tf_logging.py:115] Done running local_init_op.\n"
     ]
    },
    {
     "name": "stdout",
     "output_type": "stream",
     "text": [
      "INFO:tensorflow:Saving checkpoints for 0 into BERT_RUN2019-06-20 08:25:39.792798political/model.ckpt.\n"
     ]
    },
    {
     "name": "stderr",
     "output_type": "stream",
     "text": [
      "I0620 08:33:19.486421 139737458554624 tf_logging.py:115] Saving checkpoints for 0 into BERT_RUN2019-06-20 08:25:39.792798political/model.ckpt.\n"
     ]
    },
    {
     "name": "stdout",
     "output_type": "stream",
     "text": [
      "INFO:tensorflow:loss = 0.9345021, step = 0\n"
     ]
    },
    {
     "name": "stderr",
     "output_type": "stream",
     "text": [
      "I0620 08:33:31.856815 139737458554624 tf_logging.py:115] loss = 0.9345021, step = 0\n"
     ]
    },
    {
     "name": "stdout",
     "output_type": "stream",
     "text": [
      "INFO:tensorflow:global_step/sec: 2.271\n"
     ]
    },
    {
     "name": "stderr",
     "output_type": "stream",
     "text": [
      "I0620 08:34:15.889814 139737458554624 tf_logging.py:115] global_step/sec: 2.271\n"
     ]
    },
    {
     "name": "stdout",
     "output_type": "stream",
     "text": [
      "INFO:tensorflow:loss = 0.72024333, step = 100 (44.034 sec)\n"
     ]
    },
    {
     "name": "stderr",
     "output_type": "stream",
     "text": [
      "I0620 08:34:15.891037 139737458554624 tf_logging.py:115] loss = 0.72024333, step = 100 (44.034 sec)\n"
     ]
    },
    {
     "name": "stdout",
     "output_type": "stream",
     "text": [
      "INFO:tensorflow:global_step/sec: 3.1677\n"
     ]
    },
    {
     "name": "stderr",
     "output_type": "stream",
     "text": [
      "I0620 08:34:47.458546 139737458554624 tf_logging.py:115] global_step/sec: 3.1677\n"
     ]
    },
    {
     "name": "stdout",
     "output_type": "stream",
     "text": [
      "INFO:tensorflow:loss = 0.6533252, step = 200 (31.569 sec)\n"
     ]
    },
    {
     "name": "stderr",
     "output_type": "stream",
     "text": [
      "I0620 08:34:47.460192 139737458554624 tf_logging.py:115] loss = 0.6533252, step = 200 (31.569 sec)\n"
     ]
    },
    {
     "name": "stdout",
     "output_type": "stream",
     "text": [
      "INFO:tensorflow:global_step/sec: 3.16993\n"
     ]
    },
    {
     "name": "stderr",
     "output_type": "stream",
     "text": [
      "I0620 08:35:19.005033 139737458554624 tf_logging.py:115] global_step/sec: 3.16993\n"
     ]
    },
    {
     "name": "stdout",
     "output_type": "stream",
     "text": [
      "INFO:tensorflow:loss = 0.82127845, step = 300 (31.547 sec)\n"
     ]
    },
    {
     "name": "stderr",
     "output_type": "stream",
     "text": [
      "I0620 08:35:19.007128 139737458554624 tf_logging.py:115] loss = 0.82127845, step = 300 (31.547 sec)\n"
     ]
    },
    {
     "name": "stdout",
     "output_type": "stream",
     "text": [
      "INFO:tensorflow:global_step/sec: 3.15161\n"
     ]
    },
    {
     "name": "stderr",
     "output_type": "stream",
     "text": [
      "I0620 08:35:50.734860 139737458554624 tf_logging.py:115] global_step/sec: 3.15161\n"
     ]
    },
    {
     "name": "stdout",
     "output_type": "stream",
     "text": [
      "INFO:tensorflow:loss = 0.35975087, step = 400 (31.729 sec)\n"
     ]
    },
    {
     "name": "stderr",
     "output_type": "stream",
     "text": [
      "I0620 08:35:50.736490 139737458554624 tf_logging.py:115] loss = 0.35975087, step = 400 (31.729 sec)\n"
     ]
    },
    {
     "name": "stdout",
     "output_type": "stream",
     "text": [
      "INFO:tensorflow:Saving checkpoints for 492 into BERT_RUN2019-06-20 08:25:39.792798political/model.ckpt.\n"
     ]
    },
    {
     "name": "stderr",
     "output_type": "stream",
     "text": [
      "I0620 08:36:19.591383 139737458554624 tf_logging.py:115] Saving checkpoints for 492 into BERT_RUN2019-06-20 08:25:39.792798political/model.ckpt.\n"
     ]
    },
    {
     "name": "stdout",
     "output_type": "stream",
     "text": [
      "INFO:tensorflow:Loss for final step: 0.080869675.\n"
     ]
    },
    {
     "name": "stderr",
     "output_type": "stream",
     "text": [
      "I0620 08:36:26.370068 139737458554624 tf_logging.py:115] Loss for final step: 0.080869675.\n"
     ]
    },
    {
     "name": "stdout",
     "output_type": "stream",
     "text": [
      "<generator object Estimator.predict at 0x7f16854583b8>\n",
      "INFO:tensorflow:Calling model_fn.\n"
     ]
    },
    {
     "name": "stderr",
     "output_type": "stream",
     "text": [
      "I0620 08:36:26.427736 139737458554624 tf_logging.py:115] Calling model_fn.\n"
     ]
    },
    {
     "name": "stdout",
     "output_type": "stream",
     "text": [
      "INFO:tensorflow:Saver not created because there are no variables in the graph to restore\n"
     ]
    },
    {
     "name": "stderr",
     "output_type": "stream",
     "text": [
      "I0620 08:36:28.037041 139737458554624 tf_logging.py:115] Saver not created because there are no variables in the graph to restore\n"
     ]
    },
    {
     "name": "stdout",
     "output_type": "stream",
     "text": [
      "INFO:tensorflow:Done calling model_fn.\n"
     ]
    },
    {
     "name": "stderr",
     "output_type": "stream",
     "text": [
      "I0620 08:36:28.141231 139737458554624 tf_logging.py:115] Done calling model_fn.\n"
     ]
    },
    {
     "name": "stdout",
     "output_type": "stream",
     "text": [
      "INFO:tensorflow:Graph was finalized.\n"
     ]
    },
    {
     "name": "stderr",
     "output_type": "stream",
     "text": [
      "I0620 08:36:28.466678 139737458554624 tf_logging.py:115] Graph was finalized.\n"
     ]
    },
    {
     "name": "stdout",
     "output_type": "stream",
     "text": [
      "INFO:tensorflow:Restoring parameters from BERT_RUN2019-06-20 08:25:39.792798political/model.ckpt-492\n"
     ]
    },
    {
     "name": "stderr",
     "output_type": "stream",
     "text": [
      "I0620 08:36:28.470586 139737458554624 tf_logging.py:115] Restoring parameters from BERT_RUN2019-06-20 08:25:39.792798political/model.ckpt-492\n"
     ]
    },
    {
     "name": "stdout",
     "output_type": "stream",
     "text": [
      "INFO:tensorflow:Running local_init_op.\n"
     ]
    },
    {
     "name": "stderr",
     "output_type": "stream",
     "text": [
      "I0620 08:36:28.892493 139737458554624 tf_logging.py:115] Running local_init_op.\n"
     ]
    },
    {
     "name": "stdout",
     "output_type": "stream",
     "text": [
      "INFO:tensorflow:Done running local_init_op.\n"
     ]
    },
    {
     "name": "stderr",
     "output_type": "stream",
     "text": [
      "I0620 08:36:28.935440 139737458554624 tf_logging.py:115] Done running local_init_op.\n"
     ]
    },
    {
     "name": "stdout",
     "output_type": "stream",
     "text": [
      "[1. 1. 0. 0. 0. 0. 0. 0. 1. 1. 0. 1. 0. 1. 1. 0. 0. 1. 1. 0. 1. 0. 1. 0.\n",
      " 0. 0. 1. 0. 1. 0. 1. 0. 0. 1. 1. 0. 0. 1. 1. 0. 0. 0. 0. 0. 0. 1. 1. 0.\n",
      " 0. 0. 1. 1. 1. 0. 1. 0. 0. 1. 0. 0. 0. 0. 0. 0. 0. 0. 0. 0. 1. 0. 0. 0.\n",
      " 0. 1. 0. 0. 0. 0. 1. 1. 0. 0. 1. 1. 1. 0. 0. 0. 1. 0. 1. 0. 0. 0. 1. 1.\n",
      " 1. 1. 0. 1. 0. 0. 1. 0. 0. 0. 0. 0. 1. 1. 1. 0. 0. 0. 0. 0. 1. 0. 1. 1.\n",
      " 1. 0. 0. 1. 0. 0. 1. 0. 0. 1. 1. 1. 1. 1. 0. 0. 1. 0. 1. 1. 1. 0. 1. 1.\n",
      " 1. 1.]\n",
      "              precision    recall  f1-score   support\n",
      "\n",
      "    relation       0.62      0.71      0.66        73\n",
      "   unrelated       0.66      0.56      0.61        73\n",
      "\n",
      "    accuracy                           0.64       146\n",
      "   macro avg       0.64      0.64      0.63       146\n",
      "weighted avg       0.64      0.64      0.63       146\n",
      "\n",
      "Accuracy: 0.636986301369863\n",
      "Training took time  0:03:31.755845\n",
      "(1314, 8) (146, 8)\n",
      "INFO:tensorflow:Writing example 0 of 1314\n"
     ]
    },
    {
     "name": "stderr",
     "output_type": "stream",
     "text": [
      "I0620 08:36:31.074892 139737458554624 tf_logging.py:115] Writing example 0 of 1314\n"
     ]
    },
    {
     "name": "stdout",
     "output_type": "stream",
     "text": [
      "INFO:tensorflow:*** Example ***\n"
     ]
    },
    {
     "name": "stderr",
     "output_type": "stream",
     "text": [
      "I0620 08:36:31.079062 139737458554624 tf_logging.py:115] *** Example ***\n"
     ]
    },
    {
     "name": "stdout",
     "output_type": "stream",
     "text": [
      "INFO:tensorflow:guid: None\n"
     ]
    },
    {
     "name": "stderr",
     "output_type": "stream",
     "text": [
      "I0620 08:36:31.080187 139737458554624 tf_logging.py:115] guid: None\n"
     ]
    },
    {
     "name": "stdout",
     "output_type": "stream",
     "text": [
      "INFO:tensorflow:tokens: [CLS] what are the folks going to do ? what are the voters going to do ? here ' s what you do : first , you look at our record and on the record i say you compare the record of the eisenhower administration with the record of the administration which preceded it . both have been in for 7 ½ years , [SEP] and what about that future ? we want a future of progress , but above all , the people of this country are concerned that our children may grow up in a world in which we can be free and we can live at peace - and that is the most important thing that americans must think about at this time . [SEP]\n"
     ]
    },
    {
     "name": "stderr",
     "output_type": "stream",
     "text": [
      "I0620 08:36:31.081744 139737458554624 tf_logging.py:115] tokens: [CLS] what are the folks going to do ? what are the voters going to do ? here ' s what you do : first , you look at our record and on the record i say you compare the record of the eisenhower administration with the record of the administration which preceded it . both have been in for 7 ½ years , [SEP] and what about that future ? we want a future of progress , but above all , the people of this country are concerned that our children may grow up in a world in which we can be free and we can live at peace - and that is the most important thing that americans must think about at this time . [SEP]\n"
     ]
    },
    {
     "name": "stdout",
     "output_type": "stream",
     "text": [
      "INFO:tensorflow:input_ids: 101 2054 2024 1996 12455 2183 2000 2079 1029 2054 2024 1996 7206 2183 2000 2079 1029 2182 1005 1055 2054 2017 2079 1024 2034 1010 2017 2298 2012 2256 2501 1998 2006 1996 2501 1045 2360 2017 12826 1996 2501 1997 1996 16551 3447 2007 1996 2501 1997 1996 3447 2029 11677 2009 1012 2119 2031 2042 1999 2005 1021 1092 2086 1010 102 1998 2054 2055 2008 2925 1029 2057 2215 1037 2925 1997 5082 1010 2021 2682 2035 1010 1996 2111 1997 2023 2406 2024 4986 2008 2256 2336 2089 4982 2039 1999 1037 2088 1999 2029 2057 2064 2022 2489 1998 2057 2064 2444 2012 3521 1011 1998 2008 2003 1996 2087 2590 2518 2008 4841 2442 2228 2055 2012 2023 2051 1012 102\n"
     ]
    },
    {
     "name": "stderr",
     "output_type": "stream",
     "text": [
      "I0620 08:36:31.082568 139737458554624 tf_logging.py:115] input_ids: 101 2054 2024 1996 12455 2183 2000 2079 1029 2054 2024 1996 7206 2183 2000 2079 1029 2182 1005 1055 2054 2017 2079 1024 2034 1010 2017 2298 2012 2256 2501 1998 2006 1996 2501 1045 2360 2017 12826 1996 2501 1997 1996 16551 3447 2007 1996 2501 1997 1996 3447 2029 11677 2009 1012 2119 2031 2042 1999 2005 1021 1092 2086 1010 102 1998 2054 2055 2008 2925 1029 2057 2215 1037 2925 1997 5082 1010 2021 2682 2035 1010 1996 2111 1997 2023 2406 2024 4986 2008 2256 2336 2089 4982 2039 1999 1037 2088 1999 2029 2057 2064 2022 2489 1998 2057 2064 2444 2012 3521 1011 1998 2008 2003 1996 2087 2590 2518 2008 4841 2442 2228 2055 2012 2023 2051 1012 102\n"
     ]
    },
    {
     "name": "stdout",
     "output_type": "stream",
     "text": [
      "INFO:tensorflow:input_mask: 1 1 1 1 1 1 1 1 1 1 1 1 1 1 1 1 1 1 1 1 1 1 1 1 1 1 1 1 1 1 1 1 1 1 1 1 1 1 1 1 1 1 1 1 1 1 1 1 1 1 1 1 1 1 1 1 1 1 1 1 1 1 1 1 1 1 1 1 1 1 1 1 1 1 1 1 1 1 1 1 1 1 1 1 1 1 1 1 1 1 1 1 1 1 1 1 1 1 1 1 1 1 1 1 1 1 1 1 1 1 1 1 1 1 1 1 1 1 1 1 1 1 1 1 1 1 1 1\n"
     ]
    },
    {
     "name": "stderr",
     "output_type": "stream",
     "text": [
      "I0620 08:36:31.084198 139737458554624 tf_logging.py:115] input_mask: 1 1 1 1 1 1 1 1 1 1 1 1 1 1 1 1 1 1 1 1 1 1 1 1 1 1 1 1 1 1 1 1 1 1 1 1 1 1 1 1 1 1 1 1 1 1 1 1 1 1 1 1 1 1 1 1 1 1 1 1 1 1 1 1 1 1 1 1 1 1 1 1 1 1 1 1 1 1 1 1 1 1 1 1 1 1 1 1 1 1 1 1 1 1 1 1 1 1 1 1 1 1 1 1 1 1 1 1 1 1 1 1 1 1 1 1 1 1 1 1 1 1 1 1 1 1 1 1\n"
     ]
    },
    {
     "name": "stdout",
     "output_type": "stream",
     "text": [
      "INFO:tensorflow:segment_ids: 0 0 0 0 0 0 0 0 0 0 0 0 0 0 0 0 0 0 0 0 0 0 0 0 0 0 0 0 0 0 0 0 0 0 0 0 0 0 0 0 0 0 0 0 0 0 0 0 0 0 0 0 0 0 0 0 0 0 0 0 0 0 0 0 0 1 1 1 1 1 1 1 1 1 1 1 1 1 1 1 1 1 1 1 1 1 1 1 1 1 1 1 1 1 1 1 1 1 1 1 1 1 1 1 1 1 1 1 1 1 1 1 1 1 1 1 1 1 1 1 1 1 1 1 1 1 1 1\n"
     ]
    },
    {
     "name": "stderr",
     "output_type": "stream",
     "text": [
      "I0620 08:36:31.086076 139737458554624 tf_logging.py:115] segment_ids: 0 0 0 0 0 0 0 0 0 0 0 0 0 0 0 0 0 0 0 0 0 0 0 0 0 0 0 0 0 0 0 0 0 0 0 0 0 0 0 0 0 0 0 0 0 0 0 0 0 0 0 0 0 0 0 0 0 0 0 0 0 0 0 0 0 1 1 1 1 1 1 1 1 1 1 1 1 1 1 1 1 1 1 1 1 1 1 1 1 1 1 1 1 1 1 1 1 1 1 1 1 1 1 1 1 1 1 1 1 1 1 1 1 1 1 1 1 1 1 1 1 1 1 1 1 1 1 1\n"
     ]
    },
    {
     "name": "stdout",
     "output_type": "stream",
     "text": [
      "INFO:tensorflow:label: 1 (id = 1)\n"
     ]
    },
    {
     "name": "stderr",
     "output_type": "stream",
     "text": [
      "I0620 08:36:31.086893 139737458554624 tf_logging.py:115] label: 1 (id = 1)\n"
     ]
    },
    {
     "name": "stdout",
     "output_type": "stream",
     "text": [
      "INFO:tensorflow:*** Example ***\n"
     ]
    },
    {
     "name": "stderr",
     "output_type": "stream",
     "text": [
      "I0620 08:36:31.089313 139737458554624 tf_logging.py:115] *** Example ***\n"
     ]
    },
    {
     "name": "stdout",
     "output_type": "stream",
     "text": [
      "INFO:tensorflow:guid: None\n"
     ]
    },
    {
     "name": "stderr",
     "output_type": "stream",
     "text": [
      "I0620 08:36:31.090178 139737458554624 tf_logging.py:115] guid: None\n"
     ]
    },
    {
     "name": "stdout",
     "output_type": "stream",
     "text": [
      "INFO:tensorflow:tokens: [CLS] [ applause . ] mr . nixon considers a minimum wage of $ 1 . 25 to be extreme . mr . nixon considers federal aid to make sure that teachers are paid a decent salary to be extreme . [SEP] meanwhile , the contradictory statements of senator kennedy still leave him opposed to this position . the miss ##tate ##ment : in the second debate senator kennedy said : the republicans in recent years , not only in the last 25 years , but in the last 8 years , have opposed * * * minimum wage * * the facts : senator kennedy is saying that republicans who opposed his particular bill are against minimum wage . the administration supported an increase in the [SEP]\n"
     ]
    },
    {
     "name": "stderr",
     "output_type": "stream",
     "text": [
      "I0620 08:36:31.092373 139737458554624 tf_logging.py:115] tokens: [CLS] [ applause . ] mr . nixon considers a minimum wage of $ 1 . 25 to be extreme . mr . nixon considers federal aid to make sure that teachers are paid a decent salary to be extreme . [SEP] meanwhile , the contradictory statements of senator kennedy still leave him opposed to this position . the miss ##tate ##ment : in the second debate senator kennedy said : the republicans in recent years , not only in the last 25 years , but in the last 8 years , have opposed * * * minimum wage * * the facts : senator kennedy is saying that republicans who opposed his particular bill are against minimum wage . the administration supported an increase in the [SEP]\n"
     ]
    },
    {
     "name": "stdout",
     "output_type": "stream",
     "text": [
      "INFO:tensorflow:input_ids: 101 1031 20737 1012 1033 2720 1012 11296 10592 1037 6263 11897 1997 1002 1015 1012 2423 2000 2022 6034 1012 2720 1012 11296 10592 2976 4681 2000 2191 2469 2008 5089 2024 3825 1037 11519 10300 2000 2022 6034 1012 102 5564 1010 1996 27894 8635 1997 5205 5817 2145 2681 2032 4941 2000 2023 2597 1012 1996 3335 12259 3672 1024 1999 1996 2117 5981 5205 5817 2056 1024 1996 10643 1999 3522 2086 1010 2025 2069 1999 1996 2197 2423 2086 1010 2021 1999 1996 2197 1022 2086 1010 2031 4941 1008 1008 1008 6263 11897 1008 1008 1996 8866 1024 5205 5817 2003 3038 2008 10643 2040 4941 2010 3327 3021 2024 2114 6263 11897 1012 1996 3447 3569 2019 3623 1999 1996 102\n"
     ]
    },
    {
     "name": "stderr",
     "output_type": "stream",
     "text": [
      "I0620 08:36:31.093310 139737458554624 tf_logging.py:115] input_ids: 101 1031 20737 1012 1033 2720 1012 11296 10592 1037 6263 11897 1997 1002 1015 1012 2423 2000 2022 6034 1012 2720 1012 11296 10592 2976 4681 2000 2191 2469 2008 5089 2024 3825 1037 11519 10300 2000 2022 6034 1012 102 5564 1010 1996 27894 8635 1997 5205 5817 2145 2681 2032 4941 2000 2023 2597 1012 1996 3335 12259 3672 1024 1999 1996 2117 5981 5205 5817 2056 1024 1996 10643 1999 3522 2086 1010 2025 2069 1999 1996 2197 2423 2086 1010 2021 1999 1996 2197 1022 2086 1010 2031 4941 1008 1008 1008 6263 11897 1008 1008 1996 8866 1024 5205 5817 2003 3038 2008 10643 2040 4941 2010 3327 3021 2024 2114 6263 11897 1012 1996 3447 3569 2019 3623 1999 1996 102\n"
     ]
    },
    {
     "name": "stdout",
     "output_type": "stream",
     "text": [
      "INFO:tensorflow:input_mask: 1 1 1 1 1 1 1 1 1 1 1 1 1 1 1 1 1 1 1 1 1 1 1 1 1 1 1 1 1 1 1 1 1 1 1 1 1 1 1 1 1 1 1 1 1 1 1 1 1 1 1 1 1 1 1 1 1 1 1 1 1 1 1 1 1 1 1 1 1 1 1 1 1 1 1 1 1 1 1 1 1 1 1 1 1 1 1 1 1 1 1 1 1 1 1 1 1 1 1 1 1 1 1 1 1 1 1 1 1 1 1 1 1 1 1 1 1 1 1 1 1 1 1 1 1 1 1 1\n"
     ]
    },
    {
     "name": "stderr",
     "output_type": "stream",
     "text": [
      "I0620 08:36:31.094304 139737458554624 tf_logging.py:115] input_mask: 1 1 1 1 1 1 1 1 1 1 1 1 1 1 1 1 1 1 1 1 1 1 1 1 1 1 1 1 1 1 1 1 1 1 1 1 1 1 1 1 1 1 1 1 1 1 1 1 1 1 1 1 1 1 1 1 1 1 1 1 1 1 1 1 1 1 1 1 1 1 1 1 1 1 1 1 1 1 1 1 1 1 1 1 1 1 1 1 1 1 1 1 1 1 1 1 1 1 1 1 1 1 1 1 1 1 1 1 1 1 1 1 1 1 1 1 1 1 1 1 1 1 1 1 1 1 1 1\n"
     ]
    },
    {
     "name": "stdout",
     "output_type": "stream",
     "text": [
      "INFO:tensorflow:segment_ids: 0 0 0 0 0 0 0 0 0 0 0 0 0 0 0 0 0 0 0 0 0 0 0 0 0 0 0 0 0 0 0 0 0 0 0 0 0 0 0 0 0 0 1 1 1 1 1 1 1 1 1 1 1 1 1 1 1 1 1 1 1 1 1 1 1 1 1 1 1 1 1 1 1 1 1 1 1 1 1 1 1 1 1 1 1 1 1 1 1 1 1 1 1 1 1 1 1 1 1 1 1 1 1 1 1 1 1 1 1 1 1 1 1 1 1 1 1 1 1 1 1 1 1 1 1 1 1 1\n"
     ]
    },
    {
     "name": "stderr",
     "output_type": "stream",
     "text": [
      "I0620 08:36:31.095485 139737458554624 tf_logging.py:115] segment_ids: 0 0 0 0 0 0 0 0 0 0 0 0 0 0 0 0 0 0 0 0 0 0 0 0 0 0 0 0 0 0 0 0 0 0 0 0 0 0 0 0 0 0 1 1 1 1 1 1 1 1 1 1 1 1 1 1 1 1 1 1 1 1 1 1 1 1 1 1 1 1 1 1 1 1 1 1 1 1 1 1 1 1 1 1 1 1 1 1 1 1 1 1 1 1 1 1 1 1 1 1 1 1 1 1 1 1 1 1 1 1 1 1 1 1 1 1 1 1 1 1 1 1 1 1 1 1 1 1\n"
     ]
    },
    {
     "name": "stdout",
     "output_type": "stream",
     "text": [
      "INFO:tensorflow:label: 0 (id = 0)\n"
     ]
    },
    {
     "name": "stderr",
     "output_type": "stream",
     "text": [
      "I0620 08:36:31.096095 139737458554624 tf_logging.py:115] label: 0 (id = 0)\n"
     ]
    },
    {
     "name": "stdout",
     "output_type": "stream",
     "text": [
      "INFO:tensorflow:*** Example ***\n"
     ]
    },
    {
     "name": "stderr",
     "output_type": "stream",
     "text": [
      "I0620 08:36:31.098105 139737458554624 tf_logging.py:115] *** Example ***\n"
     ]
    },
    {
     "name": "stdout",
     "output_type": "stream",
     "text": [
      "INFO:tensorflow:guid: None\n"
     ]
    },
    {
     "name": "stderr",
     "output_type": "stream",
     "text": [
      "I0620 08:36:31.098886 139737458554624 tf_logging.py:115] guid: None\n"
     ]
    },
    {
     "name": "stdout",
     "output_type": "stream",
     "text": [
      "INFO:tensorflow:tokens: [CLS] [ applause . ] let me make it very clear that if we are successful in january , we are going to recommend the following programs : first , we are going to make sure that those americans who are retired , who are on social security , who do need medical care , shall have it under the social security system . [ applause . [SEP] [ applause . ] a party which opposed social security , which tried to repeal it , a party which opposed minimum wage and tried to repeal it , a party which has opposed our efforts to pass in this congress medical care for the aged to the social security . [ applause . [SEP]\n"
     ]
    },
    {
     "name": "stderr",
     "output_type": "stream",
     "text": [
      "I0620 08:36:31.099453 139737458554624 tf_logging.py:115] tokens: [CLS] [ applause . ] let me make it very clear that if we are successful in january , we are going to recommend the following programs : first , we are going to make sure that those americans who are retired , who are on social security , who do need medical care , shall have it under the social security system . [ applause . [SEP] [ applause . ] a party which opposed social security , which tried to repeal it , a party which opposed minimum wage and tried to repeal it , a party which has opposed our efforts to pass in this congress medical care for the aged to the social security . [ applause . [SEP]\n"
     ]
    },
    {
     "name": "stdout",
     "output_type": "stream",
     "text": [
      "INFO:tensorflow:input_ids: 101 1031 20737 1012 1033 2292 2033 2191 2009 2200 3154 2008 2065 2057 2024 3144 1999 2254 1010 2057 2024 2183 2000 16755 1996 2206 3454 1024 2034 1010 2057 2024 2183 2000 2191 2469 2008 2216 4841 2040 2024 3394 1010 2040 2024 2006 2591 3036 1010 2040 2079 2342 2966 2729 1010 4618 2031 2009 2104 1996 2591 3036 2291 1012 1031 20737 1012 102 1031 20737 1012 1033 1037 2283 2029 4941 2591 3036 1010 2029 2699 2000 21825 2009 1010 1037 2283 2029 4941 6263 11897 1998 2699 2000 21825 2009 1010 1037 2283 2029 2038 4941 2256 4073 2000 3413 1999 2023 3519 2966 2729 2005 1996 4793 2000 1996 2591 3036 1012 1031 20737 1012 102 0 0 0 0 0\n"
     ]
    },
    {
     "name": "stderr",
     "output_type": "stream",
     "text": [
      "I0620 08:36:31.100164 139737458554624 tf_logging.py:115] input_ids: 101 1031 20737 1012 1033 2292 2033 2191 2009 2200 3154 2008 2065 2057 2024 3144 1999 2254 1010 2057 2024 2183 2000 16755 1996 2206 3454 1024 2034 1010 2057 2024 2183 2000 2191 2469 2008 2216 4841 2040 2024 3394 1010 2040 2024 2006 2591 3036 1010 2040 2079 2342 2966 2729 1010 4618 2031 2009 2104 1996 2591 3036 2291 1012 1031 20737 1012 102 1031 20737 1012 1033 1037 2283 2029 4941 2591 3036 1010 2029 2699 2000 21825 2009 1010 1037 2283 2029 4941 6263 11897 1998 2699 2000 21825 2009 1010 1037 2283 2029 2038 4941 2256 4073 2000 3413 1999 2023 3519 2966 2729 2005 1996 4793 2000 1996 2591 3036 1012 1031 20737 1012 102 0 0 0 0 0\n"
     ]
    },
    {
     "name": "stdout",
     "output_type": "stream",
     "text": [
      "INFO:tensorflow:input_mask: 1 1 1 1 1 1 1 1 1 1 1 1 1 1 1 1 1 1 1 1 1 1 1 1 1 1 1 1 1 1 1 1 1 1 1 1 1 1 1 1 1 1 1 1 1 1 1 1 1 1 1 1 1 1 1 1 1 1 1 1 1 1 1 1 1 1 1 1 1 1 1 1 1 1 1 1 1 1 1 1 1 1 1 1 1 1 1 1 1 1 1 1 1 1 1 1 1 1 1 1 1 1 1 1 1 1 1 1 1 1 1 1 1 1 1 1 1 1 1 1 1 1 1 0 0 0 0 0\n"
     ]
    },
    {
     "name": "stderr",
     "output_type": "stream",
     "text": [
      "I0620 08:36:31.100781 139737458554624 tf_logging.py:115] input_mask: 1 1 1 1 1 1 1 1 1 1 1 1 1 1 1 1 1 1 1 1 1 1 1 1 1 1 1 1 1 1 1 1 1 1 1 1 1 1 1 1 1 1 1 1 1 1 1 1 1 1 1 1 1 1 1 1 1 1 1 1 1 1 1 1 1 1 1 1 1 1 1 1 1 1 1 1 1 1 1 1 1 1 1 1 1 1 1 1 1 1 1 1 1 1 1 1 1 1 1 1 1 1 1 1 1 1 1 1 1 1 1 1 1 1 1 1 1 1 1 1 1 1 1 0 0 0 0 0\n"
     ]
    },
    {
     "name": "stdout",
     "output_type": "stream",
     "text": [
      "INFO:tensorflow:segment_ids: 0 0 0 0 0 0 0 0 0 0 0 0 0 0 0 0 0 0 0 0 0 0 0 0 0 0 0 0 0 0 0 0 0 0 0 0 0 0 0 0 0 0 0 0 0 0 0 0 0 0 0 0 0 0 0 0 0 0 0 0 0 0 0 0 0 0 0 0 1 1 1 1 1 1 1 1 1 1 1 1 1 1 1 1 1 1 1 1 1 1 1 1 1 1 1 1 1 1 1 1 1 1 1 1 1 1 1 1 1 1 1 1 1 1 1 1 1 1 1 1 1 1 1 0 0 0 0 0\n"
     ]
    },
    {
     "name": "stderr",
     "output_type": "stream",
     "text": [
      "I0620 08:36:31.101571 139737458554624 tf_logging.py:115] segment_ids: 0 0 0 0 0 0 0 0 0 0 0 0 0 0 0 0 0 0 0 0 0 0 0 0 0 0 0 0 0 0 0 0 0 0 0 0 0 0 0 0 0 0 0 0 0 0 0 0 0 0 0 0 0 0 0 0 0 0 0 0 0 0 0 0 0 0 0 0 1 1 1 1 1 1 1 1 1 1 1 1 1 1 1 1 1 1 1 1 1 1 1 1 1 1 1 1 1 1 1 1 1 1 1 1 1 1 1 1 1 1 1 1 1 1 1 1 1 1 1 1 1 1 1 0 0 0 0 0\n"
     ]
    },
    {
     "name": "stdout",
     "output_type": "stream",
     "text": [
      "INFO:tensorflow:label: 1 (id = 1)\n"
     ]
    },
    {
     "name": "stderr",
     "output_type": "stream",
     "text": [
      "I0620 08:36:31.102048 139737458554624 tf_logging.py:115] label: 1 (id = 1)\n"
     ]
    },
    {
     "name": "stdout",
     "output_type": "stream",
     "text": [
      "INFO:tensorflow:*** Example ***\n"
     ]
    },
    {
     "name": "stderr",
     "output_type": "stream",
     "text": [
      "I0620 08:36:31.105059 139737458554624 tf_logging.py:115] *** Example ***\n"
     ]
    },
    {
     "name": "stdout",
     "output_type": "stream",
     "text": [
      "INFO:tensorflow:guid: None\n"
     ]
    },
    {
     "name": "stderr",
     "output_type": "stream",
     "text": [
      "I0620 08:36:31.106091 139737458554624 tf_logging.py:115] guid: None\n"
     ]
    },
    {
     "name": "stdout",
     "output_type": "stream",
     "text": [
      "INFO:tensorflow:tokens: [CLS] the point is that we pay for that . every time the president veto ##es a housing bill , every time a republican member votes against the $ 1 . 25 minimum wage , every time we are unable to get any support on our bill to tie medical care for the aged to social security , it is not the congress that suffers , it is not the administration ; it is the people [SEP] they talked . but what did they produce ? they promised a 25 - percent minimum wage increase in place of the program that president eisenhower asked for and that could have been passed and should have been passed . what did the workers get ? nothing at all . [SEP]\n"
     ]
    },
    {
     "name": "stderr",
     "output_type": "stream",
     "text": [
      "I0620 08:36:31.106821 139737458554624 tf_logging.py:115] tokens: [CLS] the point is that we pay for that . every time the president veto ##es a housing bill , every time a republican member votes against the $ 1 . 25 minimum wage , every time we are unable to get any support on our bill to tie medical care for the aged to social security , it is not the congress that suffers , it is not the administration ; it is the people [SEP] they talked . but what did they produce ? they promised a 25 - percent minimum wage increase in place of the program that president eisenhower asked for and that could have been passed and should have been passed . what did the workers get ? nothing at all . [SEP]\n"
     ]
    },
    {
     "name": "stdout",
     "output_type": "stream",
     "text": [
      "INFO:tensorflow:input_ids: 101 1996 2391 2003 2008 2057 3477 2005 2008 1012 2296 2051 1996 2343 22102 2229 1037 3847 3021 1010 2296 2051 1037 3951 2266 4494 2114 1996 1002 1015 1012 2423 6263 11897 1010 2296 2051 2057 2024 4039 2000 2131 2151 2490 2006 2256 3021 2000 5495 2966 2729 2005 1996 4793 2000 2591 3036 1010 2009 2003 2025 1996 3519 2008 17567 1010 2009 2003 2025 1996 3447 1025 2009 2003 1996 2111 102 2027 5720 1012 2021 2054 2106 2027 3965 1029 2027 5763 1037 2423 1011 3867 6263 11897 3623 1999 2173 1997 1996 2565 2008 2343 16551 2356 2005 1998 2008 2071 2031 2042 2979 1998 2323 2031 2042 2979 1012 2054 2106 1996 3667 2131 1029 2498 2012 2035 1012 102\n"
     ]
    },
    {
     "name": "stderr",
     "output_type": "stream",
     "text": [
      "I0620 08:36:31.107420 139737458554624 tf_logging.py:115] input_ids: 101 1996 2391 2003 2008 2057 3477 2005 2008 1012 2296 2051 1996 2343 22102 2229 1037 3847 3021 1010 2296 2051 1037 3951 2266 4494 2114 1996 1002 1015 1012 2423 6263 11897 1010 2296 2051 2057 2024 4039 2000 2131 2151 2490 2006 2256 3021 2000 5495 2966 2729 2005 1996 4793 2000 2591 3036 1010 2009 2003 2025 1996 3519 2008 17567 1010 2009 2003 2025 1996 3447 1025 2009 2003 1996 2111 102 2027 5720 1012 2021 2054 2106 2027 3965 1029 2027 5763 1037 2423 1011 3867 6263 11897 3623 1999 2173 1997 1996 2565 2008 2343 16551 2356 2005 1998 2008 2071 2031 2042 2979 1998 2323 2031 2042 2979 1012 2054 2106 1996 3667 2131 1029 2498 2012 2035 1012 102\n"
     ]
    },
    {
     "name": "stdout",
     "output_type": "stream",
     "text": [
      "INFO:tensorflow:input_mask: 1 1 1 1 1 1 1 1 1 1 1 1 1 1 1 1 1 1 1 1 1 1 1 1 1 1 1 1 1 1 1 1 1 1 1 1 1 1 1 1 1 1 1 1 1 1 1 1 1 1 1 1 1 1 1 1 1 1 1 1 1 1 1 1 1 1 1 1 1 1 1 1 1 1 1 1 1 1 1 1 1 1 1 1 1 1 1 1 1 1 1 1 1 1 1 1 1 1 1 1 1 1 1 1 1 1 1 1 1 1 1 1 1 1 1 1 1 1 1 1 1 1 1 1 1 1 1 1\n"
     ]
    },
    {
     "name": "stderr",
     "output_type": "stream",
     "text": [
      "I0620 08:36:31.108136 139737458554624 tf_logging.py:115] input_mask: 1 1 1 1 1 1 1 1 1 1 1 1 1 1 1 1 1 1 1 1 1 1 1 1 1 1 1 1 1 1 1 1 1 1 1 1 1 1 1 1 1 1 1 1 1 1 1 1 1 1 1 1 1 1 1 1 1 1 1 1 1 1 1 1 1 1 1 1 1 1 1 1 1 1 1 1 1 1 1 1 1 1 1 1 1 1 1 1 1 1 1 1 1 1 1 1 1 1 1 1 1 1 1 1 1 1 1 1 1 1 1 1 1 1 1 1 1 1 1 1 1 1 1 1 1 1 1 1\n"
     ]
    },
    {
     "name": "stdout",
     "output_type": "stream",
     "text": [
      "INFO:tensorflow:segment_ids: 0 0 0 0 0 0 0 0 0 0 0 0 0 0 0 0 0 0 0 0 0 0 0 0 0 0 0 0 0 0 0 0 0 0 0 0 0 0 0 0 0 0 0 0 0 0 0 0 0 0 0 0 0 0 0 0 0 0 0 0 0 0 0 0 0 0 0 0 0 0 0 0 0 0 0 0 0 1 1 1 1 1 1 1 1 1 1 1 1 1 1 1 1 1 1 1 1 1 1 1 1 1 1 1 1 1 1 1 1 1 1 1 1 1 1 1 1 1 1 1 1 1 1 1 1 1 1 1\n"
     ]
    },
    {
     "name": "stderr",
     "output_type": "stream",
     "text": [
      "I0620 08:36:31.108954 139737458554624 tf_logging.py:115] segment_ids: 0 0 0 0 0 0 0 0 0 0 0 0 0 0 0 0 0 0 0 0 0 0 0 0 0 0 0 0 0 0 0 0 0 0 0 0 0 0 0 0 0 0 0 0 0 0 0 0 0 0 0 0 0 0 0 0 0 0 0 0 0 0 0 0 0 0 0 0 0 0 0 0 0 0 0 0 0 1 1 1 1 1 1 1 1 1 1 1 1 1 1 1 1 1 1 1 1 1 1 1 1 1 1 1 1 1 1 1 1 1 1 1 1 1 1 1 1 1 1 1 1 1 1 1 1 1 1 1\n"
     ]
    },
    {
     "name": "stdout",
     "output_type": "stream",
     "text": [
      "INFO:tensorflow:label: 0 (id = 0)\n"
     ]
    },
    {
     "name": "stderr",
     "output_type": "stream",
     "text": [
      "I0620 08:36:31.109694 139737458554624 tf_logging.py:115] label: 0 (id = 0)\n"
     ]
    },
    {
     "name": "stdout",
     "output_type": "stream",
     "text": [
      "INFO:tensorflow:*** Example ***\n"
     ]
    },
    {
     "name": "stderr",
     "output_type": "stream",
     "text": [
      "I0620 08:36:31.113381 139737458554624 tf_logging.py:115] *** Example ***\n"
     ]
    },
    {
     "name": "stdout",
     "output_type": "stream",
     "text": [
      "INFO:tensorflow:guid: None\n"
     ]
    },
    {
     "name": "stderr",
     "output_type": "stream",
     "text": [
      "I0620 08:36:31.114243 139737458554624 tf_logging.py:115] guid: None\n"
     ]
    },
    {
     "name": "stdout",
     "output_type": "stream",
     "text": [
      "INFO:tensorflow:tokens: [CLS] when a political party votes , in 1935 , 98 percent against the 25 - cent minimum wage , i know what the party stands for ; and when that same political party in 1960 votes in the house of representatives 85 percent against $ 1 . 25 minimum wage in 1960 , i know the republican party stands where it has always [SEP] it is our function , however , not to merely in ##vo ##ke the names of franklin roosevelt and harry truman , not to merely live off what they did , but to bring these old programs up to date . franklin roosevelt proposed a 25 - cent minimum wage , back in the middle thirties ; 90 percent of the republicans [SEP]\n"
     ]
    },
    {
     "name": "stderr",
     "output_type": "stream",
     "text": [
      "I0620 08:36:31.115017 139737458554624 tf_logging.py:115] tokens: [CLS] when a political party votes , in 1935 , 98 percent against the 25 - cent minimum wage , i know what the party stands for ; and when that same political party in 1960 votes in the house of representatives 85 percent against $ 1 . 25 minimum wage in 1960 , i know the republican party stands where it has always [SEP] it is our function , however , not to merely in ##vo ##ke the names of franklin roosevelt and harry truman , not to merely live off what they did , but to bring these old programs up to date . franklin roosevelt proposed a 25 - cent minimum wage , back in the middle thirties ; 90 percent of the republicans [SEP]\n"
     ]
    },
    {
     "name": "stdout",
     "output_type": "stream",
     "text": [
      "INFO:tensorflow:input_ids: 101 2043 1037 2576 2283 4494 1010 1999 4437 1010 5818 3867 2114 1996 2423 1011 9358 6263 11897 1010 1045 2113 2054 1996 2283 4832 2005 1025 1998 2043 2008 2168 2576 2283 1999 3624 4494 1999 1996 2160 1997 4505 5594 3867 2114 1002 1015 1012 2423 6263 11897 1999 3624 1010 1045 2113 1996 3951 2283 4832 2073 2009 2038 2467 102 2009 2003 2256 3853 1010 2174 1010 2025 2000 6414 1999 6767 3489 1996 3415 1997 5951 8573 1998 4302 15237 1010 2025 2000 6414 2444 2125 2054 2027 2106 1010 2021 2000 3288 2122 2214 3454 2039 2000 3058 1012 5951 8573 3818 1037 2423 1011 9358 6263 11897 1010 2067 1999 1996 2690 26313 1025 3938 3867 1997 1996 10643 102\n"
     ]
    },
    {
     "name": "stderr",
     "output_type": "stream",
     "text": [
      "I0620 08:36:31.115622 139737458554624 tf_logging.py:115] input_ids: 101 2043 1037 2576 2283 4494 1010 1999 4437 1010 5818 3867 2114 1996 2423 1011 9358 6263 11897 1010 1045 2113 2054 1996 2283 4832 2005 1025 1998 2043 2008 2168 2576 2283 1999 3624 4494 1999 1996 2160 1997 4505 5594 3867 2114 1002 1015 1012 2423 6263 11897 1999 3624 1010 1045 2113 1996 3951 2283 4832 2073 2009 2038 2467 102 2009 2003 2256 3853 1010 2174 1010 2025 2000 6414 1999 6767 3489 1996 3415 1997 5951 8573 1998 4302 15237 1010 2025 2000 6414 2444 2125 2054 2027 2106 1010 2021 2000 3288 2122 2214 3454 2039 2000 3058 1012 5951 8573 3818 1037 2423 1011 9358 6263 11897 1010 2067 1999 1996 2690 26313 1025 3938 3867 1997 1996 10643 102\n"
     ]
    },
    {
     "name": "stdout",
     "output_type": "stream",
     "text": [
      "INFO:tensorflow:input_mask: 1 1 1 1 1 1 1 1 1 1 1 1 1 1 1 1 1 1 1 1 1 1 1 1 1 1 1 1 1 1 1 1 1 1 1 1 1 1 1 1 1 1 1 1 1 1 1 1 1 1 1 1 1 1 1 1 1 1 1 1 1 1 1 1 1 1 1 1 1 1 1 1 1 1 1 1 1 1 1 1 1 1 1 1 1 1 1 1 1 1 1 1 1 1 1 1 1 1 1 1 1 1 1 1 1 1 1 1 1 1 1 1 1 1 1 1 1 1 1 1 1 1 1 1 1 1 1 1\n"
     ]
    },
    {
     "name": "stderr",
     "output_type": "stream",
     "text": [
      "I0620 08:36:31.116227 139737458554624 tf_logging.py:115] input_mask: 1 1 1 1 1 1 1 1 1 1 1 1 1 1 1 1 1 1 1 1 1 1 1 1 1 1 1 1 1 1 1 1 1 1 1 1 1 1 1 1 1 1 1 1 1 1 1 1 1 1 1 1 1 1 1 1 1 1 1 1 1 1 1 1 1 1 1 1 1 1 1 1 1 1 1 1 1 1 1 1 1 1 1 1 1 1 1 1 1 1 1 1 1 1 1 1 1 1 1 1 1 1 1 1 1 1 1 1 1 1 1 1 1 1 1 1 1 1 1 1 1 1 1 1 1 1 1 1\n"
     ]
    },
    {
     "name": "stdout",
     "output_type": "stream",
     "text": [
      "INFO:tensorflow:segment_ids: 0 0 0 0 0 0 0 0 0 0 0 0 0 0 0 0 0 0 0 0 0 0 0 0 0 0 0 0 0 0 0 0 0 0 0 0 0 0 0 0 0 0 0 0 0 0 0 0 0 0 0 0 0 0 0 0 0 0 0 0 0 0 0 0 0 1 1 1 1 1 1 1 1 1 1 1 1 1 1 1 1 1 1 1 1 1 1 1 1 1 1 1 1 1 1 1 1 1 1 1 1 1 1 1 1 1 1 1 1 1 1 1 1 1 1 1 1 1 1 1 1 1 1 1 1 1 1 1\n"
     ]
    },
    {
     "name": "stderr",
     "output_type": "stream",
     "text": [
      "I0620 08:36:31.116918 139737458554624 tf_logging.py:115] segment_ids: 0 0 0 0 0 0 0 0 0 0 0 0 0 0 0 0 0 0 0 0 0 0 0 0 0 0 0 0 0 0 0 0 0 0 0 0 0 0 0 0 0 0 0 0 0 0 0 0 0 0 0 0 0 0 0 0 0 0 0 0 0 0 0 0 0 1 1 1 1 1 1 1 1 1 1 1 1 1 1 1 1 1 1 1 1 1 1 1 1 1 1 1 1 1 1 1 1 1 1 1 1 1 1 1 1 1 1 1 1 1 1 1 1 1 1 1 1 1 1 1 1 1 1 1 1 1 1 1\n"
     ]
    },
    {
     "name": "stdout",
     "output_type": "stream",
     "text": [
      "INFO:tensorflow:label: 0 (id = 0)\n"
     ]
    },
    {
     "name": "stderr",
     "output_type": "stream",
     "text": [
      "I0620 08:36:31.117439 139737458554624 tf_logging.py:115] label: 0 (id = 0)\n"
     ]
    },
    {
     "name": "stdout",
     "output_type": "stream",
     "text": [
      "INFO:tensorflow:Writing example 0 of 146\n"
     ]
    },
    {
     "name": "stderr",
     "output_type": "stream",
     "text": [
      "I0620 08:36:33.877351 139737458554624 tf_logging.py:115] Writing example 0 of 146\n"
     ]
    },
    {
     "name": "stdout",
     "output_type": "stream",
     "text": [
      "INFO:tensorflow:*** Example ***\n"
     ]
    },
    {
     "name": "stderr",
     "output_type": "stream",
     "text": [
      "I0620 08:36:33.879509 139737458554624 tf_logging.py:115] *** Example ***\n"
     ]
    },
    {
     "name": "stdout",
     "output_type": "stream",
     "text": [
      "INFO:tensorflow:guid: None\n"
     ]
    },
    {
     "name": "stderr",
     "output_type": "stream",
     "text": [
      "I0620 08:36:33.880460 139737458554624 tf_logging.py:115] guid: None\n"
     ]
    },
    {
     "name": "stdout",
     "output_type": "stream",
     "text": [
      "INFO:tensorflow:tokens: [CLS] the in ##e ##qui ##ty between employees in the same establishment will be abolished . the justification for applying the proposed new minimum wage to the newly covered employees is the same as the reasoning which supports the increase in the minimum . the employees have the same needs . [SEP] yet the average wage for laundry women in five large cities of the united states is 64 cents an hour , and for a 48 - hour week . i believe in $ 1 . 25 minimum wage , and i think the next congress should pass it . [ applause . [SEP]\n"
     ]
    },
    {
     "name": "stderr",
     "output_type": "stream",
     "text": [
      "I0620 08:36:33.881232 139737458554624 tf_logging.py:115] tokens: [CLS] the in ##e ##qui ##ty between employees in the same establishment will be abolished . the justification for applying the proposed new minimum wage to the newly covered employees is the same as the reasoning which supports the increase in the minimum . the employees have the same needs . [SEP] yet the average wage for laundry women in five large cities of the united states is 64 cents an hour , and for a 48 - hour week . i believe in $ 1 . 25 minimum wage , and i think the next congress should pass it . [ applause . [SEP]\n"
     ]
    },
    {
     "name": "stdout",
     "output_type": "stream",
     "text": [
      "INFO:tensorflow:input_ids: 101 1996 1999 2063 15549 3723 2090 5126 1999 1996 2168 5069 2097 2022 8961 1012 1996 19777 2005 11243 1996 3818 2047 6263 11897 2000 1996 4397 3139 5126 2003 1996 2168 2004 1996 13384 2029 6753 1996 3623 1999 1996 6263 1012 1996 5126 2031 1996 2168 3791 1012 102 2664 1996 2779 11897 2005 14533 2308 1999 2274 2312 3655 1997 1996 2142 2163 2003 4185 16653 2019 3178 1010 1998 2005 1037 4466 1011 3178 2733 1012 1045 2903 1999 1002 1015 1012 2423 6263 11897 1010 1998 1045 2228 1996 2279 3519 2323 3413 2009 1012 1031 20737 1012 102 0 0 0 0 0 0 0 0 0 0 0 0 0 0 0 0 0 0 0 0 0 0 0\n"
     ]
    },
    {
     "name": "stderr",
     "output_type": "stream",
     "text": [
      "I0620 08:36:33.881851 139737458554624 tf_logging.py:115] input_ids: 101 1996 1999 2063 15549 3723 2090 5126 1999 1996 2168 5069 2097 2022 8961 1012 1996 19777 2005 11243 1996 3818 2047 6263 11897 2000 1996 4397 3139 5126 2003 1996 2168 2004 1996 13384 2029 6753 1996 3623 1999 1996 6263 1012 1996 5126 2031 1996 2168 3791 1012 102 2664 1996 2779 11897 2005 14533 2308 1999 2274 2312 3655 1997 1996 2142 2163 2003 4185 16653 2019 3178 1010 1998 2005 1037 4466 1011 3178 2733 1012 1045 2903 1999 1002 1015 1012 2423 6263 11897 1010 1998 1045 2228 1996 2279 3519 2323 3413 2009 1012 1031 20737 1012 102 0 0 0 0 0 0 0 0 0 0 0 0 0 0 0 0 0 0 0 0 0 0 0\n"
     ]
    },
    {
     "name": "stdout",
     "output_type": "stream",
     "text": [
      "INFO:tensorflow:input_mask: 1 1 1 1 1 1 1 1 1 1 1 1 1 1 1 1 1 1 1 1 1 1 1 1 1 1 1 1 1 1 1 1 1 1 1 1 1 1 1 1 1 1 1 1 1 1 1 1 1 1 1 1 1 1 1 1 1 1 1 1 1 1 1 1 1 1 1 1 1 1 1 1 1 1 1 1 1 1 1 1 1 1 1 1 1 1 1 1 1 1 1 1 1 1 1 1 1 1 1 1 1 1 1 1 1 0 0 0 0 0 0 0 0 0 0 0 0 0 0 0 0 0 0 0 0 0 0 0\n"
     ]
    },
    {
     "name": "stderr",
     "output_type": "stream",
     "text": [
      "I0620 08:36:33.882472 139737458554624 tf_logging.py:115] input_mask: 1 1 1 1 1 1 1 1 1 1 1 1 1 1 1 1 1 1 1 1 1 1 1 1 1 1 1 1 1 1 1 1 1 1 1 1 1 1 1 1 1 1 1 1 1 1 1 1 1 1 1 1 1 1 1 1 1 1 1 1 1 1 1 1 1 1 1 1 1 1 1 1 1 1 1 1 1 1 1 1 1 1 1 1 1 1 1 1 1 1 1 1 1 1 1 1 1 1 1 1 1 1 1 1 1 0 0 0 0 0 0 0 0 0 0 0 0 0 0 0 0 0 0 0 0 0 0 0\n"
     ]
    },
    {
     "name": "stdout",
     "output_type": "stream",
     "text": [
      "INFO:tensorflow:segment_ids: 0 0 0 0 0 0 0 0 0 0 0 0 0 0 0 0 0 0 0 0 0 0 0 0 0 0 0 0 0 0 0 0 0 0 0 0 0 0 0 0 0 0 0 0 0 0 0 0 0 0 0 0 1 1 1 1 1 1 1 1 1 1 1 1 1 1 1 1 1 1 1 1 1 1 1 1 1 1 1 1 1 1 1 1 1 1 1 1 1 1 1 1 1 1 1 1 1 1 1 1 1 1 1 1 1 0 0 0 0 0 0 0 0 0 0 0 0 0 0 0 0 0 0 0 0 0 0 0\n"
     ]
    },
    {
     "name": "stderr",
     "output_type": "stream",
     "text": [
      "I0620 08:36:33.883043 139737458554624 tf_logging.py:115] segment_ids: 0 0 0 0 0 0 0 0 0 0 0 0 0 0 0 0 0 0 0 0 0 0 0 0 0 0 0 0 0 0 0 0 0 0 0 0 0 0 0 0 0 0 0 0 0 0 0 0 0 0 0 0 1 1 1 1 1 1 1 1 1 1 1 1 1 1 1 1 1 1 1 1 1 1 1 1 1 1 1 1 1 1 1 1 1 1 1 1 1 1 1 1 1 1 1 1 1 1 1 1 1 1 1 1 1 0 0 0 0 0 0 0 0 0 0 0 0 0 0 0 0 0 0 0 0 0 0 0\n"
     ]
    },
    {
     "name": "stdout",
     "output_type": "stream",
     "text": [
      "INFO:tensorflow:label: 0 (id = 0)\n"
     ]
    },
    {
     "name": "stderr",
     "output_type": "stream",
     "text": [
      "I0620 08:36:33.883580 139737458554624 tf_logging.py:115] label: 0 (id = 0)\n"
     ]
    },
    {
     "name": "stdout",
     "output_type": "stream",
     "text": [
      "INFO:tensorflow:*** Example ***\n"
     ]
    },
    {
     "name": "stderr",
     "output_type": "stream",
     "text": [
      "I0620 08:36:33.885725 139737458554624 tf_logging.py:115] *** Example ***\n"
     ]
    },
    {
     "name": "stdout",
     "output_type": "stream",
     "text": [
      "INFO:tensorflow:guid: None\n"
     ]
    },
    {
     "name": "stderr",
     "output_type": "stream",
     "text": [
      "I0620 08:36:33.886523 139737458554624 tf_logging.py:115] guid: None\n"
     ]
    },
    {
     "name": "stdout",
     "output_type": "stream",
     "text": [
      "INFO:tensorflow:tokens: [CLS] some people say that this last brief session of the congress was a handicap to the democratic party - and it is true that the republicans blocked our efforts on every major front . but that session was an education to the american people - it taught them that if they want to have , among other urgent items , decent medical care for our [SEP] [ applause . ] during the last session of the congress in august , we offered on the floor of the u . s . senate a bill which would tie medical care for the aged to the social security system . we failed by five votes , and this was regarded as an ign ##omi ##nio ##us defeat . [SEP]\n"
     ]
    },
    {
     "name": "stderr",
     "output_type": "stream",
     "text": [
      "I0620 08:36:33.887190 139737458554624 tf_logging.py:115] tokens: [CLS] some people say that this last brief session of the congress was a handicap to the democratic party - and it is true that the republicans blocked our efforts on every major front . but that session was an education to the american people - it taught them that if they want to have , among other urgent items , decent medical care for our [SEP] [ applause . ] during the last session of the congress in august , we offered on the floor of the u . s . senate a bill which would tie medical care for the aged to the social security system . we failed by five votes , and this was regarded as an ign ##omi ##nio ##us defeat . [SEP]\n"
     ]
    },
    {
     "name": "stdout",
     "output_type": "stream",
     "text": [
      "INFO:tensorflow:input_ids: 101 2070 2111 2360 2008 2023 2197 4766 5219 1997 1996 3519 2001 1037 15822 2000 1996 3537 2283 1011 1998 2009 2003 2995 2008 1996 10643 8534 2256 4073 2006 2296 2350 2392 1012 2021 2008 5219 2001 2019 2495 2000 1996 2137 2111 1011 2009 4036 2068 2008 2065 2027 2215 2000 2031 1010 2426 2060 13661 5167 1010 11519 2966 2729 2005 2256 102 1031 20737 1012 1033 2076 1996 2197 5219 1997 1996 3519 1999 2257 1010 2057 3253 2006 1996 2723 1997 1996 1057 1012 1055 1012 4001 1037 3021 2029 2052 5495 2966 2729 2005 1996 4793 2000 1996 2591 3036 2291 1012 2057 3478 2011 2274 4494 1010 1998 2023 2001 5240 2004 2019 16270 20936 27678 2271 4154 1012 102\n"
     ]
    },
    {
     "name": "stderr",
     "output_type": "stream",
     "text": [
      "I0620 08:36:33.887852 139737458554624 tf_logging.py:115] input_ids: 101 2070 2111 2360 2008 2023 2197 4766 5219 1997 1996 3519 2001 1037 15822 2000 1996 3537 2283 1011 1998 2009 2003 2995 2008 1996 10643 8534 2256 4073 2006 2296 2350 2392 1012 2021 2008 5219 2001 2019 2495 2000 1996 2137 2111 1011 2009 4036 2068 2008 2065 2027 2215 2000 2031 1010 2426 2060 13661 5167 1010 11519 2966 2729 2005 2256 102 1031 20737 1012 1033 2076 1996 2197 5219 1997 1996 3519 1999 2257 1010 2057 3253 2006 1996 2723 1997 1996 1057 1012 1055 1012 4001 1037 3021 2029 2052 5495 2966 2729 2005 1996 4793 2000 1996 2591 3036 2291 1012 2057 3478 2011 2274 4494 1010 1998 2023 2001 5240 2004 2019 16270 20936 27678 2271 4154 1012 102\n"
     ]
    },
    {
     "name": "stdout",
     "output_type": "stream",
     "text": [
      "INFO:tensorflow:input_mask: 1 1 1 1 1 1 1 1 1 1 1 1 1 1 1 1 1 1 1 1 1 1 1 1 1 1 1 1 1 1 1 1 1 1 1 1 1 1 1 1 1 1 1 1 1 1 1 1 1 1 1 1 1 1 1 1 1 1 1 1 1 1 1 1 1 1 1 1 1 1 1 1 1 1 1 1 1 1 1 1 1 1 1 1 1 1 1 1 1 1 1 1 1 1 1 1 1 1 1 1 1 1 1 1 1 1 1 1 1 1 1 1 1 1 1 1 1 1 1 1 1 1 1 1 1 1 1 1\n"
     ]
    },
    {
     "name": "stderr",
     "output_type": "stream",
     "text": [
      "I0620 08:36:33.888456 139737458554624 tf_logging.py:115] input_mask: 1 1 1 1 1 1 1 1 1 1 1 1 1 1 1 1 1 1 1 1 1 1 1 1 1 1 1 1 1 1 1 1 1 1 1 1 1 1 1 1 1 1 1 1 1 1 1 1 1 1 1 1 1 1 1 1 1 1 1 1 1 1 1 1 1 1 1 1 1 1 1 1 1 1 1 1 1 1 1 1 1 1 1 1 1 1 1 1 1 1 1 1 1 1 1 1 1 1 1 1 1 1 1 1 1 1 1 1 1 1 1 1 1 1 1 1 1 1 1 1 1 1 1 1 1 1 1 1\n"
     ]
    },
    {
     "name": "stdout",
     "output_type": "stream",
     "text": [
      "INFO:tensorflow:segment_ids: 0 0 0 0 0 0 0 0 0 0 0 0 0 0 0 0 0 0 0 0 0 0 0 0 0 0 0 0 0 0 0 0 0 0 0 0 0 0 0 0 0 0 0 0 0 0 0 0 0 0 0 0 0 0 0 0 0 0 0 0 0 0 0 0 0 0 0 1 1 1 1 1 1 1 1 1 1 1 1 1 1 1 1 1 1 1 1 1 1 1 1 1 1 1 1 1 1 1 1 1 1 1 1 1 1 1 1 1 1 1 1 1 1 1 1 1 1 1 1 1 1 1 1 1 1 1 1 1\n"
     ]
    },
    {
     "name": "stderr",
     "output_type": "stream",
     "text": [
      "I0620 08:36:33.889386 139737458554624 tf_logging.py:115] segment_ids: 0 0 0 0 0 0 0 0 0 0 0 0 0 0 0 0 0 0 0 0 0 0 0 0 0 0 0 0 0 0 0 0 0 0 0 0 0 0 0 0 0 0 0 0 0 0 0 0 0 0 0 0 0 0 0 0 0 0 0 0 0 0 0 0 0 0 0 1 1 1 1 1 1 1 1 1 1 1 1 1 1 1 1 1 1 1 1 1 1 1 1 1 1 1 1 1 1 1 1 1 1 1 1 1 1 1 1 1 1 1 1 1 1 1 1 1 1 1 1 1 1 1 1 1 1 1 1 1\n"
     ]
    },
    {
     "name": "stdout",
     "output_type": "stream",
     "text": [
      "INFO:tensorflow:label: 0 (id = 0)\n"
     ]
    },
    {
     "name": "stderr",
     "output_type": "stream",
     "text": [
      "I0620 08:36:33.891629 139737458554624 tf_logging.py:115] label: 0 (id = 0)\n"
     ]
    },
    {
     "name": "stdout",
     "output_type": "stream",
     "text": [
      "INFO:tensorflow:*** Example ***\n"
     ]
    },
    {
     "name": "stderr",
     "output_type": "stream",
     "text": [
      "I0620 08:36:33.894772 139737458554624 tf_logging.py:115] *** Example ***\n"
     ]
    },
    {
     "name": "stdout",
     "output_type": "stream",
     "text": [
      "INFO:tensorflow:guid: None\n"
     ]
    },
    {
     "name": "stderr",
     "output_type": "stream",
     "text": [
      "I0620 08:36:33.896801 139737458554624 tf_logging.py:115] guid: None\n"
     ]
    },
    {
     "name": "stdout",
     "output_type": "stream",
     "text": [
      "INFO:tensorflow:tokens: [CLS] and by that time our chief ne ##go ##tia ##tor had been rep ##udi ##ated by the administration , and publicly demoted from the white house staff . at the next important di ##sar ##mament conference , the 1958 geneva conference on surprise attack , we were represented by a businessman who had been out of government for 5 years , and who [SEP] and i say that we can not and should not blame ourselves , our policies , our ne ##go ##tia ##tors , their scientific advisers , or their instructions , for the un ##yi ##eld ##ing refusal of the soviets to make an agreement at geneva . the time and patience which we have already ex ##pen ##ded to explore this way [SEP]\n"
     ]
    },
    {
     "name": "stderr",
     "output_type": "stream",
     "text": [
      "I0620 08:36:33.897497 139737458554624 tf_logging.py:115] tokens: [CLS] and by that time our chief ne ##go ##tia ##tor had been rep ##udi ##ated by the administration , and publicly demoted from the white house staff . at the next important di ##sar ##mament conference , the 1958 geneva conference on surprise attack , we were represented by a businessman who had been out of government for 5 years , and who [SEP] and i say that we can not and should not blame ourselves , our policies , our ne ##go ##tia ##tors , their scientific advisers , or their instructions , for the un ##yi ##eld ##ing refusal of the soviets to make an agreement at geneva . the time and patience which we have already ex ##pen ##ded to explore this way [SEP]\n"
     ]
    },
    {
     "name": "stdout",
     "output_type": "stream",
     "text": [
      "INFO:tensorflow:input_ids: 101 1998 2011 2008 2051 2256 2708 11265 3995 10711 4263 2018 2042 16360 21041 4383 2011 1996 3447 1010 1998 7271 25692 2013 1996 2317 2160 3095 1012 2012 1996 2279 2590 4487 10286 28119 3034 1010 1996 3845 9810 3034 2006 4474 2886 1010 2057 2020 3421 2011 1037 6883 2040 2018 2042 2041 1997 2231 2005 1019 2086 1010 1998 2040 102 1998 1045 2360 2008 2057 2064 2025 1998 2323 2025 7499 9731 1010 2256 6043 1010 2256 11265 3995 10711 6591 1010 2037 4045 24205 1010 2030 2037 8128 1010 2005 1996 4895 10139 14273 2075 13948 1997 1996 15269 2000 2191 2019 3820 2012 9810 1012 1996 2051 1998 11752 2029 2057 2031 2525 4654 11837 5732 2000 8849 2023 2126 102\n"
     ]
    },
    {
     "name": "stderr",
     "output_type": "stream",
     "text": [
      "I0620 08:36:33.898073 139737458554624 tf_logging.py:115] input_ids: 101 1998 2011 2008 2051 2256 2708 11265 3995 10711 4263 2018 2042 16360 21041 4383 2011 1996 3447 1010 1998 7271 25692 2013 1996 2317 2160 3095 1012 2012 1996 2279 2590 4487 10286 28119 3034 1010 1996 3845 9810 3034 2006 4474 2886 1010 2057 2020 3421 2011 1037 6883 2040 2018 2042 2041 1997 2231 2005 1019 2086 1010 1998 2040 102 1998 1045 2360 2008 2057 2064 2025 1998 2323 2025 7499 9731 1010 2256 6043 1010 2256 11265 3995 10711 6591 1010 2037 4045 24205 1010 2030 2037 8128 1010 2005 1996 4895 10139 14273 2075 13948 1997 1996 15269 2000 2191 2019 3820 2012 9810 1012 1996 2051 1998 11752 2029 2057 2031 2525 4654 11837 5732 2000 8849 2023 2126 102\n"
     ]
    },
    {
     "name": "stdout",
     "output_type": "stream",
     "text": [
      "INFO:tensorflow:input_mask: 1 1 1 1 1 1 1 1 1 1 1 1 1 1 1 1 1 1 1 1 1 1 1 1 1 1 1 1 1 1 1 1 1 1 1 1 1 1 1 1 1 1 1 1 1 1 1 1 1 1 1 1 1 1 1 1 1 1 1 1 1 1 1 1 1 1 1 1 1 1 1 1 1 1 1 1 1 1 1 1 1 1 1 1 1 1 1 1 1 1 1 1 1 1 1 1 1 1 1 1 1 1 1 1 1 1 1 1 1 1 1 1 1 1 1 1 1 1 1 1 1 1 1 1 1 1 1 1\n"
     ]
    },
    {
     "name": "stderr",
     "output_type": "stream",
     "text": [
      "I0620 08:36:33.898665 139737458554624 tf_logging.py:115] input_mask: 1 1 1 1 1 1 1 1 1 1 1 1 1 1 1 1 1 1 1 1 1 1 1 1 1 1 1 1 1 1 1 1 1 1 1 1 1 1 1 1 1 1 1 1 1 1 1 1 1 1 1 1 1 1 1 1 1 1 1 1 1 1 1 1 1 1 1 1 1 1 1 1 1 1 1 1 1 1 1 1 1 1 1 1 1 1 1 1 1 1 1 1 1 1 1 1 1 1 1 1 1 1 1 1 1 1 1 1 1 1 1 1 1 1 1 1 1 1 1 1 1 1 1 1 1 1 1 1\n"
     ]
    },
    {
     "name": "stdout",
     "output_type": "stream",
     "text": [
      "INFO:tensorflow:segment_ids: 0 0 0 0 0 0 0 0 0 0 0 0 0 0 0 0 0 0 0 0 0 0 0 0 0 0 0 0 0 0 0 0 0 0 0 0 0 0 0 0 0 0 0 0 0 0 0 0 0 0 0 0 0 0 0 0 0 0 0 0 0 0 0 0 0 1 1 1 1 1 1 1 1 1 1 1 1 1 1 1 1 1 1 1 1 1 1 1 1 1 1 1 1 1 1 1 1 1 1 1 1 1 1 1 1 1 1 1 1 1 1 1 1 1 1 1 1 1 1 1 1 1 1 1 1 1 1 1\n"
     ]
    },
    {
     "name": "stderr",
     "output_type": "stream",
     "text": [
      "I0620 08:36:33.899330 139737458554624 tf_logging.py:115] segment_ids: 0 0 0 0 0 0 0 0 0 0 0 0 0 0 0 0 0 0 0 0 0 0 0 0 0 0 0 0 0 0 0 0 0 0 0 0 0 0 0 0 0 0 0 0 0 0 0 0 0 0 0 0 0 0 0 0 0 0 0 0 0 0 0 0 0 1 1 1 1 1 1 1 1 1 1 1 1 1 1 1 1 1 1 1 1 1 1 1 1 1 1 1 1 1 1 1 1 1 1 1 1 1 1 1 1 1 1 1 1 1 1 1 1 1 1 1 1 1 1 1 1 1 1 1 1 1 1 1\n"
     ]
    },
    {
     "name": "stdout",
     "output_type": "stream",
     "text": [
      "INFO:tensorflow:label: 0 (id = 0)\n"
     ]
    },
    {
     "name": "stderr",
     "output_type": "stream",
     "text": [
      "I0620 08:36:33.899909 139737458554624 tf_logging.py:115] label: 0 (id = 0)\n"
     ]
    },
    {
     "name": "stdout",
     "output_type": "stream",
     "text": [
      "INFO:tensorflow:*** Example ***\n"
     ]
    },
    {
     "name": "stderr",
     "output_type": "stream",
     "text": [
      "I0620 08:36:33.903750 139737458554624 tf_logging.py:115] *** Example ***\n"
     ]
    },
    {
     "name": "stdout",
     "output_type": "stream",
     "text": [
      "INFO:tensorflow:guid: None\n"
     ]
    },
    {
     "name": "stderr",
     "output_type": "stream",
     "text": [
      "I0620 08:36:33.905019 139737458554624 tf_logging.py:115] guid: None\n"
     ]
    },
    {
     "name": "stdout",
     "output_type": "stream",
     "text": [
      "INFO:tensorflow:tokens: [CLS] cuba is not the only example . what i am concerned about is in 1970 i do n ' t want to see independent country after independent country begin to move where guinea and ghana have gone , where the congo almost went and may still go , where cuba has already gone , because for a simple reason they feel that the [SEP] i say in that connection that with all the criticism of president eisenhower ' s administration , they ca n ' t take away the solid fact that under his leadership we got the united states out of one war ; we ' ve kept her out of other wars , and we do have peace without surrender today . yes , [SEP]\n"
     ]
    },
    {
     "name": "stderr",
     "output_type": "stream",
     "text": [
      "I0620 08:36:33.910312 139737458554624 tf_logging.py:115] tokens: [CLS] cuba is not the only example . what i am concerned about is in 1970 i do n ' t want to see independent country after independent country begin to move where guinea and ghana have gone , where the congo almost went and may still go , where cuba has already gone , because for a simple reason they feel that the [SEP] i say in that connection that with all the criticism of president eisenhower ' s administration , they ca n ' t take away the solid fact that under his leadership we got the united states out of one war ; we ' ve kept her out of other wars , and we do have peace without surrender today . yes , [SEP]\n"
     ]
    },
    {
     "name": "stdout",
     "output_type": "stream",
     "text": [
      "INFO:tensorflow:input_ids: 101 7394 2003 2025 1996 2069 2742 1012 2054 1045 2572 4986 2055 2003 1999 3359 1045 2079 1050 1005 1056 2215 2000 2156 2981 2406 2044 2981 2406 4088 2000 2693 2073 7102 1998 9701 2031 2908 1010 2073 1996 9030 2471 2253 1998 2089 2145 2175 1010 2073 7394 2038 2525 2908 1010 2138 2005 1037 3722 3114 2027 2514 2008 1996 102 1045 2360 1999 2008 4434 2008 2007 2035 1996 6256 1997 2343 16551 1005 1055 3447 1010 2027 6187 1050 1005 1056 2202 2185 1996 5024 2755 2008 2104 2010 4105 2057 2288 1996 2142 2163 2041 1997 2028 2162 1025 2057 1005 2310 2921 2014 2041 1997 2060 5233 1010 1998 2057 2079 2031 3521 2302 7806 2651 1012 2748 1010 102\n"
     ]
    },
    {
     "name": "stderr",
     "output_type": "stream",
     "text": [
      "I0620 08:36:33.911121 139737458554624 tf_logging.py:115] input_ids: 101 7394 2003 2025 1996 2069 2742 1012 2054 1045 2572 4986 2055 2003 1999 3359 1045 2079 1050 1005 1056 2215 2000 2156 2981 2406 2044 2981 2406 4088 2000 2693 2073 7102 1998 9701 2031 2908 1010 2073 1996 9030 2471 2253 1998 2089 2145 2175 1010 2073 7394 2038 2525 2908 1010 2138 2005 1037 3722 3114 2027 2514 2008 1996 102 1045 2360 1999 2008 4434 2008 2007 2035 1996 6256 1997 2343 16551 1005 1055 3447 1010 2027 6187 1050 1005 1056 2202 2185 1996 5024 2755 2008 2104 2010 4105 2057 2288 1996 2142 2163 2041 1997 2028 2162 1025 2057 1005 2310 2921 2014 2041 1997 2060 5233 1010 1998 2057 2079 2031 3521 2302 7806 2651 1012 2748 1010 102\n"
     ]
    },
    {
     "name": "stdout",
     "output_type": "stream",
     "text": [
      "INFO:tensorflow:input_mask: 1 1 1 1 1 1 1 1 1 1 1 1 1 1 1 1 1 1 1 1 1 1 1 1 1 1 1 1 1 1 1 1 1 1 1 1 1 1 1 1 1 1 1 1 1 1 1 1 1 1 1 1 1 1 1 1 1 1 1 1 1 1 1 1 1 1 1 1 1 1 1 1 1 1 1 1 1 1 1 1 1 1 1 1 1 1 1 1 1 1 1 1 1 1 1 1 1 1 1 1 1 1 1 1 1 1 1 1 1 1 1 1 1 1 1 1 1 1 1 1 1 1 1 1 1 1 1 1\n"
     ]
    },
    {
     "name": "stderr",
     "output_type": "stream",
     "text": [
      "I0620 08:36:33.911834 139737458554624 tf_logging.py:115] input_mask: 1 1 1 1 1 1 1 1 1 1 1 1 1 1 1 1 1 1 1 1 1 1 1 1 1 1 1 1 1 1 1 1 1 1 1 1 1 1 1 1 1 1 1 1 1 1 1 1 1 1 1 1 1 1 1 1 1 1 1 1 1 1 1 1 1 1 1 1 1 1 1 1 1 1 1 1 1 1 1 1 1 1 1 1 1 1 1 1 1 1 1 1 1 1 1 1 1 1 1 1 1 1 1 1 1 1 1 1 1 1 1 1 1 1 1 1 1 1 1 1 1 1 1 1 1 1 1 1\n"
     ]
    },
    {
     "name": "stdout",
     "output_type": "stream",
     "text": [
      "INFO:tensorflow:segment_ids: 0 0 0 0 0 0 0 0 0 0 0 0 0 0 0 0 0 0 0 0 0 0 0 0 0 0 0 0 0 0 0 0 0 0 0 0 0 0 0 0 0 0 0 0 0 0 0 0 0 0 0 0 0 0 0 0 0 0 0 0 0 0 0 0 0 1 1 1 1 1 1 1 1 1 1 1 1 1 1 1 1 1 1 1 1 1 1 1 1 1 1 1 1 1 1 1 1 1 1 1 1 1 1 1 1 1 1 1 1 1 1 1 1 1 1 1 1 1 1 1 1 1 1 1 1 1 1 1\n"
     ]
    },
    {
     "name": "stderr",
     "output_type": "stream",
     "text": [
      "I0620 08:36:33.912477 139737458554624 tf_logging.py:115] segment_ids: 0 0 0 0 0 0 0 0 0 0 0 0 0 0 0 0 0 0 0 0 0 0 0 0 0 0 0 0 0 0 0 0 0 0 0 0 0 0 0 0 0 0 0 0 0 0 0 0 0 0 0 0 0 0 0 0 0 0 0 0 0 0 0 0 0 1 1 1 1 1 1 1 1 1 1 1 1 1 1 1 1 1 1 1 1 1 1 1 1 1 1 1 1 1 1 1 1 1 1 1 1 1 1 1 1 1 1 1 1 1 1 1 1 1 1 1 1 1 1 1 1 1 1 1 1 1 1 1\n"
     ]
    },
    {
     "name": "stdout",
     "output_type": "stream",
     "text": [
      "INFO:tensorflow:label: 0 (id = 0)\n"
     ]
    },
    {
     "name": "stderr",
     "output_type": "stream",
     "text": [
      "I0620 08:36:33.913774 139737458554624 tf_logging.py:115] label: 0 (id = 0)\n"
     ]
    },
    {
     "name": "stdout",
     "output_type": "stream",
     "text": [
      "INFO:tensorflow:*** Example ***\n"
     ]
    },
    {
     "name": "stderr",
     "output_type": "stream",
     "text": [
      "I0620 08:36:33.917429 139737458554624 tf_logging.py:115] *** Example ***\n"
     ]
    },
    {
     "name": "stdout",
     "output_type": "stream",
     "text": [
      "INFO:tensorflow:guid: None\n"
     ]
    },
    {
     "name": "stderr",
     "output_type": "stream",
     "text": [
      "I0620 08:36:33.918238 139737458554624 tf_logging.py:115] guid: None\n"
     ]
    },
    {
     "name": "stdout",
     "output_type": "stream",
     "text": [
      "INFO:tensorflow:tokens: [CLS] the administration supported an increase in the minimum wage in 1955 , and in 1957 urged legislation to extend minimum wage coverage to some 3 million additional workers , an extension which the democratic - led congress failed to approve . in 1960 , this administration sought to extend minimum wage coverage to 3 . 1 million additional workers and indicated support of [SEP] franklin roosevelt proposed a 25 - cent minimum wage , back in the middle thirties ; 90 percent of the republicans voted against it . we proposed this summer a minimum wage of $ 1 . 25 and 90 percent of the members of the house of representatives voted against it . these are the traditional issues , old but still new [SEP]\n"
     ]
    },
    {
     "name": "stderr",
     "output_type": "stream",
     "text": [
      "I0620 08:36:33.919054 139737458554624 tf_logging.py:115] tokens: [CLS] the administration supported an increase in the minimum wage in 1955 , and in 1957 urged legislation to extend minimum wage coverage to some 3 million additional workers , an extension which the democratic - led congress failed to approve . in 1960 , this administration sought to extend minimum wage coverage to 3 . 1 million additional workers and indicated support of [SEP] franklin roosevelt proposed a 25 - cent minimum wage , back in the middle thirties ; 90 percent of the republicans voted against it . we proposed this summer a minimum wage of $ 1 . 25 and 90 percent of the members of the house of representatives voted against it . these are the traditional issues , old but still new [SEP]\n"
     ]
    },
    {
     "name": "stdout",
     "output_type": "stream",
     "text": [
      "INFO:tensorflow:input_ids: 101 1996 3447 3569 2019 3623 1999 1996 6263 11897 1999 3982 1010 1998 1999 3890 9720 6094 2000 7949 6263 11897 6325 2000 2070 1017 2454 3176 3667 1010 2019 5331 2029 1996 3537 1011 2419 3519 3478 2000 14300 1012 1999 3624 1010 2023 3447 4912 2000 7949 6263 11897 6325 2000 1017 1012 1015 2454 3176 3667 1998 5393 2490 1997 102 5951 8573 3818 1037 2423 1011 9358 6263 11897 1010 2067 1999 1996 2690 26313 1025 3938 3867 1997 1996 10643 5444 2114 2009 1012 2057 3818 2023 2621 1037 6263 11897 1997 1002 1015 1012 2423 1998 3938 3867 1997 1996 2372 1997 1996 2160 1997 4505 5444 2114 2009 1012 2122 2024 1996 3151 3314 1010 2214 2021 2145 2047 102\n"
     ]
    },
    {
     "name": "stderr",
     "output_type": "stream",
     "text": [
      "I0620 08:36:33.919813 139737458554624 tf_logging.py:115] input_ids: 101 1996 3447 3569 2019 3623 1999 1996 6263 11897 1999 3982 1010 1998 1999 3890 9720 6094 2000 7949 6263 11897 6325 2000 2070 1017 2454 3176 3667 1010 2019 5331 2029 1996 3537 1011 2419 3519 3478 2000 14300 1012 1999 3624 1010 2023 3447 4912 2000 7949 6263 11897 6325 2000 1017 1012 1015 2454 3176 3667 1998 5393 2490 1997 102 5951 8573 3818 1037 2423 1011 9358 6263 11897 1010 2067 1999 1996 2690 26313 1025 3938 3867 1997 1996 10643 5444 2114 2009 1012 2057 3818 2023 2621 1037 6263 11897 1997 1002 1015 1012 2423 1998 3938 3867 1997 1996 2372 1997 1996 2160 1997 4505 5444 2114 2009 1012 2122 2024 1996 3151 3314 1010 2214 2021 2145 2047 102\n"
     ]
    },
    {
     "name": "stdout",
     "output_type": "stream",
     "text": [
      "INFO:tensorflow:input_mask: 1 1 1 1 1 1 1 1 1 1 1 1 1 1 1 1 1 1 1 1 1 1 1 1 1 1 1 1 1 1 1 1 1 1 1 1 1 1 1 1 1 1 1 1 1 1 1 1 1 1 1 1 1 1 1 1 1 1 1 1 1 1 1 1 1 1 1 1 1 1 1 1 1 1 1 1 1 1 1 1 1 1 1 1 1 1 1 1 1 1 1 1 1 1 1 1 1 1 1 1 1 1 1 1 1 1 1 1 1 1 1 1 1 1 1 1 1 1 1 1 1 1 1 1 1 1 1 1\n"
     ]
    },
    {
     "name": "stderr",
     "output_type": "stream",
     "text": [
      "I0620 08:36:33.920460 139737458554624 tf_logging.py:115] input_mask: 1 1 1 1 1 1 1 1 1 1 1 1 1 1 1 1 1 1 1 1 1 1 1 1 1 1 1 1 1 1 1 1 1 1 1 1 1 1 1 1 1 1 1 1 1 1 1 1 1 1 1 1 1 1 1 1 1 1 1 1 1 1 1 1 1 1 1 1 1 1 1 1 1 1 1 1 1 1 1 1 1 1 1 1 1 1 1 1 1 1 1 1 1 1 1 1 1 1 1 1 1 1 1 1 1 1 1 1 1 1 1 1 1 1 1 1 1 1 1 1 1 1 1 1 1 1 1 1\n"
     ]
    },
    {
     "name": "stdout",
     "output_type": "stream",
     "text": [
      "INFO:tensorflow:segment_ids: 0 0 0 0 0 0 0 0 0 0 0 0 0 0 0 0 0 0 0 0 0 0 0 0 0 0 0 0 0 0 0 0 0 0 0 0 0 0 0 0 0 0 0 0 0 0 0 0 0 0 0 0 0 0 0 0 0 0 0 0 0 0 0 0 0 1 1 1 1 1 1 1 1 1 1 1 1 1 1 1 1 1 1 1 1 1 1 1 1 1 1 1 1 1 1 1 1 1 1 1 1 1 1 1 1 1 1 1 1 1 1 1 1 1 1 1 1 1 1 1 1 1 1 1 1 1 1 1\n"
     ]
    },
    {
     "name": "stderr",
     "output_type": "stream",
     "text": [
      "I0620 08:36:33.921044 139737458554624 tf_logging.py:115] segment_ids: 0 0 0 0 0 0 0 0 0 0 0 0 0 0 0 0 0 0 0 0 0 0 0 0 0 0 0 0 0 0 0 0 0 0 0 0 0 0 0 0 0 0 0 0 0 0 0 0 0 0 0 0 0 0 0 0 0 0 0 0 0 0 0 0 0 1 1 1 1 1 1 1 1 1 1 1 1 1 1 1 1 1 1 1 1 1 1 1 1 1 1 1 1 1 1 1 1 1 1 1 1 1 1 1 1 1 1 1 1 1 1 1 1 1 1 1 1 1 1 1 1 1 1 1 1 1 1 1\n"
     ]
    },
    {
     "name": "stdout",
     "output_type": "stream",
     "text": [
      "INFO:tensorflow:label: 0 (id = 0)\n"
     ]
    },
    {
     "name": "stderr",
     "output_type": "stream",
     "text": [
      "I0620 08:36:33.921756 139737458554624 tf_logging.py:115] label: 0 (id = 0)\n"
     ]
    },
    {
     "name": "stdout",
     "output_type": "stream",
     "text": [
      "Beginning Training!\n",
      "test labels 1    73\n",
      "0    73\n",
      "Name: label, dtype: int64\n",
      "train labels 0    658\n",
      "1    656\n",
      "Name: label, dtype: int64\n",
      "INFO:tensorflow:Using config: {'_model_dir': 'BERT_RUN2019-06-20 08:25:39.792798political', '_tf_random_seed': None, '_save_summary_steps': 100, '_save_checkpoints_steps': 5000, '_save_checkpoints_secs': None, '_session_config': allow_soft_placement: true\n",
      "graph_options {\n",
      "  rewrite_options {\n",
      "    meta_optimizer_iterations: ONE\n",
      "  }\n",
      "}\n",
      ", '_keep_checkpoint_max': 5, '_keep_checkpoint_every_n_hours': 10000, '_log_step_count_steps': 100, '_train_distribute': None, '_device_fn': None, '_protocol': None, '_eval_distribute': None, '_experimental_distribute': None, '_service': None, '_cluster_spec': <tensorflow.python.training.server_lib.ClusterSpec object at 0x7f1686c94eb8>, '_task_type': 'worker', '_task_id': 0, '_global_id_in_cluster': 0, '_master': '', '_evaluation_master': '', '_is_chief': True, '_num_ps_replicas': 0, '_num_worker_replicas': 1}\n"
     ]
    },
    {
     "name": "stderr",
     "output_type": "stream",
     "text": [
      "I0620 08:36:34.224663 139737458554624 tf_logging.py:115] Using config: {'_model_dir': 'BERT_RUN2019-06-20 08:25:39.792798political', '_tf_random_seed': None, '_save_summary_steps': 100, '_save_checkpoints_steps': 5000, '_save_checkpoints_secs': None, '_session_config': allow_soft_placement: true\n",
      "graph_options {\n",
      "  rewrite_options {\n",
      "    meta_optimizer_iterations: ONE\n",
      "  }\n",
      "}\n",
      ", '_keep_checkpoint_max': 5, '_keep_checkpoint_every_n_hours': 10000, '_log_step_count_steps': 100, '_train_distribute': None, '_device_fn': None, '_protocol': None, '_eval_distribute': None, '_experimental_distribute': None, '_service': None, '_cluster_spec': <tensorflow.python.training.server_lib.ClusterSpec object at 0x7f1686c94eb8>, '_task_type': 'worker', '_task_id': 0, '_global_id_in_cluster': 0, '_master': '', '_evaluation_master': '', '_is_chief': True, '_num_ps_replicas': 0, '_num_worker_replicas': 1}\n"
     ]
    },
    {
     "name": "stdout",
     "output_type": "stream",
     "text": [
      "INFO:tensorflow:Calling model_fn.\n"
     ]
    },
    {
     "name": "stderr",
     "output_type": "stream",
     "text": [
      "I0620 08:36:34.633360 139737458554624 tf_logging.py:115] Calling model_fn.\n"
     ]
    },
    {
     "name": "stdout",
     "output_type": "stream",
     "text": [
      "INFO:tensorflow:Saver not created because there are no variables in the graph to restore\n"
     ]
    },
    {
     "name": "stderr",
     "output_type": "stream",
     "text": [
      "I0620 08:36:37.159538 139737458554624 tf_logging.py:115] Saver not created because there are no variables in the graph to restore\n"
     ]
    },
    {
     "name": "stdout",
     "output_type": "stream",
     "text": [
      "INFO:tensorflow:Done calling model_fn.\n"
     ]
    },
    {
     "name": "stderr",
     "output_type": "stream",
     "text": [
      "I0620 08:36:43.181878 139737458554624 tf_logging.py:115] Done calling model_fn.\n"
     ]
    },
    {
     "name": "stdout",
     "output_type": "stream",
     "text": [
      "INFO:tensorflow:Create CheckpointSaverHook.\n"
     ]
    },
    {
     "name": "stderr",
     "output_type": "stream",
     "text": [
      "I0620 08:36:43.183656 139737458554624 tf_logging.py:115] Create CheckpointSaverHook.\n"
     ]
    },
    {
     "name": "stdout",
     "output_type": "stream",
     "text": [
      "INFO:tensorflow:Graph was finalized.\n"
     ]
    },
    {
     "name": "stderr",
     "output_type": "stream",
     "text": [
      "I0620 08:36:44.102370 139737458554624 tf_logging.py:115] Graph was finalized.\n"
     ]
    },
    {
     "name": "stdout",
     "output_type": "stream",
     "text": [
      "INFO:tensorflow:Running local_init_op.\n"
     ]
    },
    {
     "name": "stderr",
     "output_type": "stream",
     "text": [
      "I0620 08:36:48.213022 139737458554624 tf_logging.py:115] Running local_init_op.\n"
     ]
    },
    {
     "name": "stdout",
     "output_type": "stream",
     "text": [
      "INFO:tensorflow:Done running local_init_op.\n"
     ]
    },
    {
     "name": "stderr",
     "output_type": "stream",
     "text": [
      "I0620 08:36:48.322129 139737458554624 tf_logging.py:115] Done running local_init_op.\n"
     ]
    },
    {
     "name": "stdout",
     "output_type": "stream",
     "text": [
      "INFO:tensorflow:Saving checkpoints for 0 into BERT_RUN2019-06-20 08:25:39.792798political/model.ckpt.\n"
     ]
    },
    {
     "name": "stderr",
     "output_type": "stream",
     "text": [
      "I0620 08:36:54.425853 139737458554624 tf_logging.py:115] Saving checkpoints for 0 into BERT_RUN2019-06-20 08:25:39.792798political/model.ckpt.\n"
     ]
    },
    {
     "name": "stdout",
     "output_type": "stream",
     "text": [
      "INFO:tensorflow:loss = 0.85470456, step = 0\n"
     ]
    },
    {
     "name": "stderr",
     "output_type": "stream",
     "text": [
      "I0620 08:37:06.131658 139737458554624 tf_logging.py:115] loss = 0.85470456, step = 0\n"
     ]
    },
    {
     "name": "stdout",
     "output_type": "stream",
     "text": [
      "INFO:tensorflow:global_step/sec: 2.29905\n"
     ]
    },
    {
     "name": "stderr",
     "output_type": "stream",
     "text": [
      "I0620 08:37:49.627403 139737458554624 tf_logging.py:115] global_step/sec: 2.29905\n"
     ]
    },
    {
     "name": "stdout",
     "output_type": "stream",
     "text": [
      "INFO:tensorflow:loss = 0.8580885, step = 100 (43.499 sec)\n"
     ]
    },
    {
     "name": "stderr",
     "output_type": "stream",
     "text": [
      "I0620 08:37:49.630333 139737458554624 tf_logging.py:115] loss = 0.8580885, step = 100 (43.499 sec)\n"
     ]
    },
    {
     "name": "stdout",
     "output_type": "stream",
     "text": [
      "INFO:tensorflow:global_step/sec: 3.1784\n"
     ]
    },
    {
     "name": "stderr",
     "output_type": "stream",
     "text": [
      "I0620 08:38:21.089756 139737458554624 tf_logging.py:115] global_step/sec: 3.1784\n"
     ]
    },
    {
     "name": "stdout",
     "output_type": "stream",
     "text": [
      "INFO:tensorflow:loss = 0.46405083, step = 200 (31.463 sec)\n"
     ]
    },
    {
     "name": "stderr",
     "output_type": "stream",
     "text": [
      "I0620 08:38:21.092860 139737458554624 tf_logging.py:115] loss = 0.46405083, step = 200 (31.463 sec)\n"
     ]
    },
    {
     "name": "stdout",
     "output_type": "stream",
     "text": [
      "INFO:tensorflow:global_step/sec: 3.17476\n"
     ]
    },
    {
     "name": "stderr",
     "output_type": "stream",
     "text": [
      "I0620 08:38:52.588156 139737458554624 tf_logging.py:115] global_step/sec: 3.17476\n"
     ]
    },
    {
     "name": "stdout",
     "output_type": "stream",
     "text": [
      "INFO:tensorflow:loss = 0.87566745, step = 300 (31.497 sec)\n"
     ]
    },
    {
     "name": "stderr",
     "output_type": "stream",
     "text": [
      "I0620 08:38:52.590044 139737458554624 tf_logging.py:115] loss = 0.87566745, step = 300 (31.497 sec)\n"
     ]
    },
    {
     "name": "stdout",
     "output_type": "stream",
     "text": [
      "INFO:tensorflow:global_step/sec: 3.17372\n"
     ]
    },
    {
     "name": "stderr",
     "output_type": "stream",
     "text": [
      "I0620 08:39:24.096937 139737458554624 tf_logging.py:115] global_step/sec: 3.17372\n"
     ]
    },
    {
     "name": "stdout",
     "output_type": "stream",
     "text": [
      "INFO:tensorflow:loss = 0.4623456, step = 400 (31.509 sec)\n"
     ]
    },
    {
     "name": "stderr",
     "output_type": "stream",
     "text": [
      "I0620 08:39:24.098649 139737458554624 tf_logging.py:115] loss = 0.4623456, step = 400 (31.509 sec)\n"
     ]
    },
    {
     "name": "stdout",
     "output_type": "stream",
     "text": [
      "INFO:tensorflow:Saving checkpoints for 492 into BERT_RUN2019-06-20 08:25:39.792798political/model.ckpt.\n"
     ]
    },
    {
     "name": "stderr",
     "output_type": "stream",
     "text": [
      "I0620 08:39:52.756198 139737458554624 tf_logging.py:115] Saving checkpoints for 492 into BERT_RUN2019-06-20 08:25:39.792798political/model.ckpt.\n"
     ]
    },
    {
     "name": "stdout",
     "output_type": "stream",
     "text": [
      "INFO:tensorflow:Loss for final step: 0.53144443.\n"
     ]
    },
    {
     "name": "stderr",
     "output_type": "stream",
     "text": [
      "I0620 08:39:59.383432 139737458554624 tf_logging.py:115] Loss for final step: 0.53144443.\n"
     ]
    },
    {
     "name": "stdout",
     "output_type": "stream",
     "text": [
      "<generator object Estimator.predict at 0x7f16854583b8>\n",
      "INFO:tensorflow:Calling model_fn.\n"
     ]
    },
    {
     "name": "stderr",
     "output_type": "stream",
     "text": [
      "I0620 08:39:59.441362 139737458554624 tf_logging.py:115] Calling model_fn.\n"
     ]
    },
    {
     "name": "stdout",
     "output_type": "stream",
     "text": [
      "INFO:tensorflow:Saver not created because there are no variables in the graph to restore\n"
     ]
    },
    {
     "name": "stderr",
     "output_type": "stream",
     "text": [
      "I0620 08:40:01.695883 139737458554624 tf_logging.py:115] Saver not created because there are no variables in the graph to restore\n"
     ]
    },
    {
     "name": "stdout",
     "output_type": "stream",
     "text": [
      "INFO:tensorflow:Done calling model_fn.\n"
     ]
    },
    {
     "name": "stderr",
     "output_type": "stream",
     "text": [
      "I0620 08:40:01.803187 139737458554624 tf_logging.py:115] Done calling model_fn.\n"
     ]
    },
    {
     "name": "stdout",
     "output_type": "stream",
     "text": [
      "INFO:tensorflow:Graph was finalized.\n"
     ]
    },
    {
     "name": "stderr",
     "output_type": "stream",
     "text": [
      "I0620 08:40:02.128187 139737458554624 tf_logging.py:115] Graph was finalized.\n"
     ]
    },
    {
     "name": "stdout",
     "output_type": "stream",
     "text": [
      "INFO:tensorflow:Restoring parameters from BERT_RUN2019-06-20 08:25:39.792798political/model.ckpt-492\n"
     ]
    },
    {
     "name": "stderr",
     "output_type": "stream",
     "text": [
      "I0620 08:40:02.132643 139737458554624 tf_logging.py:115] Restoring parameters from BERT_RUN2019-06-20 08:25:39.792798political/model.ckpt-492\n"
     ]
    },
    {
     "name": "stdout",
     "output_type": "stream",
     "text": [
      "INFO:tensorflow:Running local_init_op.\n"
     ]
    },
    {
     "name": "stderr",
     "output_type": "stream",
     "text": [
      "I0620 08:40:02.563298 139737458554624 tf_logging.py:115] Running local_init_op.\n"
     ]
    },
    {
     "name": "stdout",
     "output_type": "stream",
     "text": [
      "INFO:tensorflow:Done running local_init_op.\n"
     ]
    },
    {
     "name": "stderr",
     "output_type": "stream",
     "text": [
      "I0620 08:40:02.607545 139737458554624 tf_logging.py:115] Done running local_init_op.\n"
     ]
    },
    {
     "name": "stdout",
     "output_type": "stream",
     "text": [
      "[1. 0. 0. 1. 0. 0. 0. 0. 0. 1. 1. 1. 1. 1. 1. 1. 0. 0. 0. 1. 1. 1. 1. 1.\n",
      " 0. 0. 0. 0. 0. 0. 0. 0. 1. 1. 1. 0. 0. 1. 1. 0. 1. 1. 0. 0. 1. 1. 1. 0.\n",
      " 0. 0. 0. 1. 1. 1. 1. 1. 0. 1. 1. 0. 1. 1. 1. 1. 0. 1. 1. 0. 0. 0. 1. 0.\n",
      " 1. 1. 1. 0. 0. 0. 0. 0. 1. 1. 1. 1. 1. 0. 0. 1. 1. 0. 1. 0. 1. 1. 1. 0.\n",
      " 0. 1. 1. 0. 1. 1. 1. 0. 0. 0. 1. 1. 1. 0. 1. 0. 1. 1. 0. 1. 1. 0. 1. 1.\n",
      " 0. 0. 0. 1. 0. 1. 1. 1. 1. 1. 1. 0. 0. 0. 0. 1. 0. 1. 0. 0. 0. 0. 0. 0.\n",
      " 0. 0.]\n",
      "              precision    recall  f1-score   support\n",
      "\n",
      "    relation       0.74      0.71      0.73        73\n",
      "   unrelated       0.72      0.75      0.74        73\n",
      "\n",
      "    accuracy                           0.73       146\n",
      "   macro avg       0.73      0.73      0.73       146\n",
      "weighted avg       0.73      0.73      0.73       146\n",
      "\n",
      "Accuracy: 0.7328767123287672\n",
      "Training took time  0:03:30.400350\n",
      "(1314, 8) (146, 8)\n",
      "INFO:tensorflow:Writing example 0 of 1314\n"
     ]
    },
    {
     "name": "stderr",
     "output_type": "stream",
     "text": [
      "I0620 08:40:04.772852 139737458554624 tf_logging.py:115] Writing example 0 of 1314\n"
     ]
    },
    {
     "name": "stdout",
     "output_type": "stream",
     "text": [
      "INFO:tensorflow:*** Example ***\n"
     ]
    },
    {
     "name": "stderr",
     "output_type": "stream",
     "text": [
      "I0620 08:40:04.776848 139737458554624 tf_logging.py:115] *** Example ***\n"
     ]
    },
    {
     "name": "stdout",
     "output_type": "stream",
     "text": [
      "INFO:tensorflow:guid: None\n"
     ]
    },
    {
     "name": "stderr",
     "output_type": "stream",
     "text": [
      "I0620 08:40:04.777944 139737458554624 tf_logging.py:115] guid: None\n"
     ]
    },
    {
     "name": "stdout",
     "output_type": "stream",
     "text": [
      "INFO:tensorflow:tokens: [CLS] what are the folks going to do ? what are the voters going to do ? here ' s what you do : first , you look at our record and on the record i say you compare the record of the eisenhower administration with the record of the administration which preceded it . both have been in for 7 ½ years , [SEP] and what about that future ? we want a future of progress , but above all , the people of this country are concerned that our children may grow up in a world in which we can be free and we can live at peace - and that is the most important thing that americans must think about at this time . [SEP]\n"
     ]
    },
    {
     "name": "stderr",
     "output_type": "stream",
     "text": [
      "I0620 08:40:04.778594 139737458554624 tf_logging.py:115] tokens: [CLS] what are the folks going to do ? what are the voters going to do ? here ' s what you do : first , you look at our record and on the record i say you compare the record of the eisenhower administration with the record of the administration which preceded it . both have been in for 7 ½ years , [SEP] and what about that future ? we want a future of progress , but above all , the people of this country are concerned that our children may grow up in a world in which we can be free and we can live at peace - and that is the most important thing that americans must think about at this time . [SEP]\n"
     ]
    },
    {
     "name": "stdout",
     "output_type": "stream",
     "text": [
      "INFO:tensorflow:input_ids: 101 2054 2024 1996 12455 2183 2000 2079 1029 2054 2024 1996 7206 2183 2000 2079 1029 2182 1005 1055 2054 2017 2079 1024 2034 1010 2017 2298 2012 2256 2501 1998 2006 1996 2501 1045 2360 2017 12826 1996 2501 1997 1996 16551 3447 2007 1996 2501 1997 1996 3447 2029 11677 2009 1012 2119 2031 2042 1999 2005 1021 1092 2086 1010 102 1998 2054 2055 2008 2925 1029 2057 2215 1037 2925 1997 5082 1010 2021 2682 2035 1010 1996 2111 1997 2023 2406 2024 4986 2008 2256 2336 2089 4982 2039 1999 1037 2088 1999 2029 2057 2064 2022 2489 1998 2057 2064 2444 2012 3521 1011 1998 2008 2003 1996 2087 2590 2518 2008 4841 2442 2228 2055 2012 2023 2051 1012 102\n"
     ]
    },
    {
     "name": "stderr",
     "output_type": "stream",
     "text": [
      "I0620 08:40:04.779491 139737458554624 tf_logging.py:115] input_ids: 101 2054 2024 1996 12455 2183 2000 2079 1029 2054 2024 1996 7206 2183 2000 2079 1029 2182 1005 1055 2054 2017 2079 1024 2034 1010 2017 2298 2012 2256 2501 1998 2006 1996 2501 1045 2360 2017 12826 1996 2501 1997 1996 16551 3447 2007 1996 2501 1997 1996 3447 2029 11677 2009 1012 2119 2031 2042 1999 2005 1021 1092 2086 1010 102 1998 2054 2055 2008 2925 1029 2057 2215 1037 2925 1997 5082 1010 2021 2682 2035 1010 1996 2111 1997 2023 2406 2024 4986 2008 2256 2336 2089 4982 2039 1999 1037 2088 1999 2029 2057 2064 2022 2489 1998 2057 2064 2444 2012 3521 1011 1998 2008 2003 1996 2087 2590 2518 2008 4841 2442 2228 2055 2012 2023 2051 1012 102\n"
     ]
    },
    {
     "name": "stdout",
     "output_type": "stream",
     "text": [
      "INFO:tensorflow:input_mask: 1 1 1 1 1 1 1 1 1 1 1 1 1 1 1 1 1 1 1 1 1 1 1 1 1 1 1 1 1 1 1 1 1 1 1 1 1 1 1 1 1 1 1 1 1 1 1 1 1 1 1 1 1 1 1 1 1 1 1 1 1 1 1 1 1 1 1 1 1 1 1 1 1 1 1 1 1 1 1 1 1 1 1 1 1 1 1 1 1 1 1 1 1 1 1 1 1 1 1 1 1 1 1 1 1 1 1 1 1 1 1 1 1 1 1 1 1 1 1 1 1 1 1 1 1 1 1 1\n"
     ]
    },
    {
     "name": "stderr",
     "output_type": "stream",
     "text": [
      "I0620 08:40:04.780379 139737458554624 tf_logging.py:115] input_mask: 1 1 1 1 1 1 1 1 1 1 1 1 1 1 1 1 1 1 1 1 1 1 1 1 1 1 1 1 1 1 1 1 1 1 1 1 1 1 1 1 1 1 1 1 1 1 1 1 1 1 1 1 1 1 1 1 1 1 1 1 1 1 1 1 1 1 1 1 1 1 1 1 1 1 1 1 1 1 1 1 1 1 1 1 1 1 1 1 1 1 1 1 1 1 1 1 1 1 1 1 1 1 1 1 1 1 1 1 1 1 1 1 1 1 1 1 1 1 1 1 1 1 1 1 1 1 1 1\n"
     ]
    },
    {
     "name": "stdout",
     "output_type": "stream",
     "text": [
      "INFO:tensorflow:segment_ids: 0 0 0 0 0 0 0 0 0 0 0 0 0 0 0 0 0 0 0 0 0 0 0 0 0 0 0 0 0 0 0 0 0 0 0 0 0 0 0 0 0 0 0 0 0 0 0 0 0 0 0 0 0 0 0 0 0 0 0 0 0 0 0 0 0 1 1 1 1 1 1 1 1 1 1 1 1 1 1 1 1 1 1 1 1 1 1 1 1 1 1 1 1 1 1 1 1 1 1 1 1 1 1 1 1 1 1 1 1 1 1 1 1 1 1 1 1 1 1 1 1 1 1 1 1 1 1 1\n"
     ]
    },
    {
     "name": "stderr",
     "output_type": "stream",
     "text": [
      "I0620 08:40:04.781385 139737458554624 tf_logging.py:115] segment_ids: 0 0 0 0 0 0 0 0 0 0 0 0 0 0 0 0 0 0 0 0 0 0 0 0 0 0 0 0 0 0 0 0 0 0 0 0 0 0 0 0 0 0 0 0 0 0 0 0 0 0 0 0 0 0 0 0 0 0 0 0 0 0 0 0 0 1 1 1 1 1 1 1 1 1 1 1 1 1 1 1 1 1 1 1 1 1 1 1 1 1 1 1 1 1 1 1 1 1 1 1 1 1 1 1 1 1 1 1 1 1 1 1 1 1 1 1 1 1 1 1 1 1 1 1 1 1 1 1\n"
     ]
    },
    {
     "name": "stdout",
     "output_type": "stream",
     "text": [
      "INFO:tensorflow:label: 1 (id = 1)\n"
     ]
    },
    {
     "name": "stderr",
     "output_type": "stream",
     "text": [
      "I0620 08:40:04.782012 139737458554624 tf_logging.py:115] label: 1 (id = 1)\n"
     ]
    },
    {
     "name": "stdout",
     "output_type": "stream",
     "text": [
      "INFO:tensorflow:*** Example ***\n"
     ]
    },
    {
     "name": "stderr",
     "output_type": "stream",
     "text": [
      "I0620 08:40:04.784402 139737458554624 tf_logging.py:115] *** Example ***\n"
     ]
    },
    {
     "name": "stdout",
     "output_type": "stream",
     "text": [
      "INFO:tensorflow:guid: None\n"
     ]
    },
    {
     "name": "stderr",
     "output_type": "stream",
     "text": [
      "I0620 08:40:04.785221 139737458554624 tf_logging.py:115] guid: None\n"
     ]
    },
    {
     "name": "stdout",
     "output_type": "stream",
     "text": [
      "INFO:tensorflow:tokens: [CLS] [ applause . ] mr . nixon considers a minimum wage of $ 1 . 25 to be extreme . mr . nixon considers federal aid to make sure that teachers are paid a decent salary to be extreme . [SEP] meanwhile , the contradictory statements of senator kennedy still leave him opposed to this position . the miss ##tate ##ment : in the second debate senator kennedy said : the republicans in recent years , not only in the last 25 years , but in the last 8 years , have opposed * * * minimum wage * * the facts : senator kennedy is saying that republicans who opposed his particular bill are against minimum wage . the administration supported an increase in the [SEP]\n"
     ]
    },
    {
     "name": "stderr",
     "output_type": "stream",
     "text": [
      "I0620 08:40:04.785806 139737458554624 tf_logging.py:115] tokens: [CLS] [ applause . ] mr . nixon considers a minimum wage of $ 1 . 25 to be extreme . mr . nixon considers federal aid to make sure that teachers are paid a decent salary to be extreme . [SEP] meanwhile , the contradictory statements of senator kennedy still leave him opposed to this position . the miss ##tate ##ment : in the second debate senator kennedy said : the republicans in recent years , not only in the last 25 years , but in the last 8 years , have opposed * * * minimum wage * * the facts : senator kennedy is saying that republicans who opposed his particular bill are against minimum wage . the administration supported an increase in the [SEP]\n"
     ]
    },
    {
     "name": "stdout",
     "output_type": "stream",
     "text": [
      "INFO:tensorflow:input_ids: 101 1031 20737 1012 1033 2720 1012 11296 10592 1037 6263 11897 1997 1002 1015 1012 2423 2000 2022 6034 1012 2720 1012 11296 10592 2976 4681 2000 2191 2469 2008 5089 2024 3825 1037 11519 10300 2000 2022 6034 1012 102 5564 1010 1996 27894 8635 1997 5205 5817 2145 2681 2032 4941 2000 2023 2597 1012 1996 3335 12259 3672 1024 1999 1996 2117 5981 5205 5817 2056 1024 1996 10643 1999 3522 2086 1010 2025 2069 1999 1996 2197 2423 2086 1010 2021 1999 1996 2197 1022 2086 1010 2031 4941 1008 1008 1008 6263 11897 1008 1008 1996 8866 1024 5205 5817 2003 3038 2008 10643 2040 4941 2010 3327 3021 2024 2114 6263 11897 1012 1996 3447 3569 2019 3623 1999 1996 102\n"
     ]
    },
    {
     "name": "stderr",
     "output_type": "stream",
     "text": [
      "I0620 08:40:04.786455 139737458554624 tf_logging.py:115] input_ids: 101 1031 20737 1012 1033 2720 1012 11296 10592 1037 6263 11897 1997 1002 1015 1012 2423 2000 2022 6034 1012 2720 1012 11296 10592 2976 4681 2000 2191 2469 2008 5089 2024 3825 1037 11519 10300 2000 2022 6034 1012 102 5564 1010 1996 27894 8635 1997 5205 5817 2145 2681 2032 4941 2000 2023 2597 1012 1996 3335 12259 3672 1024 1999 1996 2117 5981 5205 5817 2056 1024 1996 10643 1999 3522 2086 1010 2025 2069 1999 1996 2197 2423 2086 1010 2021 1999 1996 2197 1022 2086 1010 2031 4941 1008 1008 1008 6263 11897 1008 1008 1996 8866 1024 5205 5817 2003 3038 2008 10643 2040 4941 2010 3327 3021 2024 2114 6263 11897 1012 1996 3447 3569 2019 3623 1999 1996 102\n"
     ]
    },
    {
     "name": "stdout",
     "output_type": "stream",
     "text": [
      "INFO:tensorflow:input_mask: 1 1 1 1 1 1 1 1 1 1 1 1 1 1 1 1 1 1 1 1 1 1 1 1 1 1 1 1 1 1 1 1 1 1 1 1 1 1 1 1 1 1 1 1 1 1 1 1 1 1 1 1 1 1 1 1 1 1 1 1 1 1 1 1 1 1 1 1 1 1 1 1 1 1 1 1 1 1 1 1 1 1 1 1 1 1 1 1 1 1 1 1 1 1 1 1 1 1 1 1 1 1 1 1 1 1 1 1 1 1 1 1 1 1 1 1 1 1 1 1 1 1 1 1 1 1 1 1\n"
     ]
    },
    {
     "name": "stderr",
     "output_type": "stream",
     "text": [
      "I0620 08:40:04.787008 139737458554624 tf_logging.py:115] input_mask: 1 1 1 1 1 1 1 1 1 1 1 1 1 1 1 1 1 1 1 1 1 1 1 1 1 1 1 1 1 1 1 1 1 1 1 1 1 1 1 1 1 1 1 1 1 1 1 1 1 1 1 1 1 1 1 1 1 1 1 1 1 1 1 1 1 1 1 1 1 1 1 1 1 1 1 1 1 1 1 1 1 1 1 1 1 1 1 1 1 1 1 1 1 1 1 1 1 1 1 1 1 1 1 1 1 1 1 1 1 1 1 1 1 1 1 1 1 1 1 1 1 1 1 1 1 1 1 1\n"
     ]
    },
    {
     "name": "stdout",
     "output_type": "stream",
     "text": [
      "INFO:tensorflow:segment_ids: 0 0 0 0 0 0 0 0 0 0 0 0 0 0 0 0 0 0 0 0 0 0 0 0 0 0 0 0 0 0 0 0 0 0 0 0 0 0 0 0 0 0 1 1 1 1 1 1 1 1 1 1 1 1 1 1 1 1 1 1 1 1 1 1 1 1 1 1 1 1 1 1 1 1 1 1 1 1 1 1 1 1 1 1 1 1 1 1 1 1 1 1 1 1 1 1 1 1 1 1 1 1 1 1 1 1 1 1 1 1 1 1 1 1 1 1 1 1 1 1 1 1 1 1 1 1 1 1\n"
     ]
    },
    {
     "name": "stderr",
     "output_type": "stream",
     "text": [
      "I0620 08:40:04.787561 139737458554624 tf_logging.py:115] segment_ids: 0 0 0 0 0 0 0 0 0 0 0 0 0 0 0 0 0 0 0 0 0 0 0 0 0 0 0 0 0 0 0 0 0 0 0 0 0 0 0 0 0 0 1 1 1 1 1 1 1 1 1 1 1 1 1 1 1 1 1 1 1 1 1 1 1 1 1 1 1 1 1 1 1 1 1 1 1 1 1 1 1 1 1 1 1 1 1 1 1 1 1 1 1 1 1 1 1 1 1 1 1 1 1 1 1 1 1 1 1 1 1 1 1 1 1 1 1 1 1 1 1 1 1 1 1 1 1 1\n"
     ]
    },
    {
     "name": "stdout",
     "output_type": "stream",
     "text": [
      "INFO:tensorflow:label: 0 (id = 0)\n"
     ]
    },
    {
     "name": "stderr",
     "output_type": "stream",
     "text": [
      "I0620 08:40:04.790380 139737458554624 tf_logging.py:115] label: 0 (id = 0)\n"
     ]
    },
    {
     "name": "stdout",
     "output_type": "stream",
     "text": [
      "INFO:tensorflow:*** Example ***\n"
     ]
    },
    {
     "name": "stderr",
     "output_type": "stream",
     "text": [
      "I0620 08:40:04.797874 139737458554624 tf_logging.py:115] *** Example ***\n"
     ]
    },
    {
     "name": "stdout",
     "output_type": "stream",
     "text": [
      "INFO:tensorflow:guid: None\n"
     ]
    },
    {
     "name": "stderr",
     "output_type": "stream",
     "text": [
      "I0620 08:40:04.798885 139737458554624 tf_logging.py:115] guid: None\n"
     ]
    },
    {
     "name": "stdout",
     "output_type": "stream",
     "text": [
      "INFO:tensorflow:tokens: [CLS] [ applause . ] let me make it very clear that if we are successful in january , we are going to recommend the following programs : first , we are going to make sure that those americans who are retired , who are on social security , who do need medical care , shall have it under the social security system . [ applause . [SEP] [ applause . ] a party which opposed social security , which tried to repeal it , a party which opposed minimum wage and tried to repeal it , a party which has opposed our efforts to pass in this congress medical care for the aged to the social security . [ applause . [SEP]\n"
     ]
    },
    {
     "name": "stderr",
     "output_type": "stream",
     "text": [
      "I0620 08:40:04.799635 139737458554624 tf_logging.py:115] tokens: [CLS] [ applause . ] let me make it very clear that if we are successful in january , we are going to recommend the following programs : first , we are going to make sure that those americans who are retired , who are on social security , who do need medical care , shall have it under the social security system . [ applause . [SEP] [ applause . ] a party which opposed social security , which tried to repeal it , a party which opposed minimum wage and tried to repeal it , a party which has opposed our efforts to pass in this congress medical care for the aged to the social security . [ applause . [SEP]\n"
     ]
    },
    {
     "name": "stdout",
     "output_type": "stream",
     "text": [
      "INFO:tensorflow:input_ids: 101 1031 20737 1012 1033 2292 2033 2191 2009 2200 3154 2008 2065 2057 2024 3144 1999 2254 1010 2057 2024 2183 2000 16755 1996 2206 3454 1024 2034 1010 2057 2024 2183 2000 2191 2469 2008 2216 4841 2040 2024 3394 1010 2040 2024 2006 2591 3036 1010 2040 2079 2342 2966 2729 1010 4618 2031 2009 2104 1996 2591 3036 2291 1012 1031 20737 1012 102 1031 20737 1012 1033 1037 2283 2029 4941 2591 3036 1010 2029 2699 2000 21825 2009 1010 1037 2283 2029 4941 6263 11897 1998 2699 2000 21825 2009 1010 1037 2283 2029 2038 4941 2256 4073 2000 3413 1999 2023 3519 2966 2729 2005 1996 4793 2000 1996 2591 3036 1012 1031 20737 1012 102 0 0 0 0 0\n"
     ]
    },
    {
     "name": "stderr",
     "output_type": "stream",
     "text": [
      "I0620 08:40:04.800318 139737458554624 tf_logging.py:115] input_ids: 101 1031 20737 1012 1033 2292 2033 2191 2009 2200 3154 2008 2065 2057 2024 3144 1999 2254 1010 2057 2024 2183 2000 16755 1996 2206 3454 1024 2034 1010 2057 2024 2183 2000 2191 2469 2008 2216 4841 2040 2024 3394 1010 2040 2024 2006 2591 3036 1010 2040 2079 2342 2966 2729 1010 4618 2031 2009 2104 1996 2591 3036 2291 1012 1031 20737 1012 102 1031 20737 1012 1033 1037 2283 2029 4941 2591 3036 1010 2029 2699 2000 21825 2009 1010 1037 2283 2029 4941 6263 11897 1998 2699 2000 21825 2009 1010 1037 2283 2029 2038 4941 2256 4073 2000 3413 1999 2023 3519 2966 2729 2005 1996 4793 2000 1996 2591 3036 1012 1031 20737 1012 102 0 0 0 0 0\n"
     ]
    },
    {
     "name": "stdout",
     "output_type": "stream",
     "text": [
      "INFO:tensorflow:input_mask: 1 1 1 1 1 1 1 1 1 1 1 1 1 1 1 1 1 1 1 1 1 1 1 1 1 1 1 1 1 1 1 1 1 1 1 1 1 1 1 1 1 1 1 1 1 1 1 1 1 1 1 1 1 1 1 1 1 1 1 1 1 1 1 1 1 1 1 1 1 1 1 1 1 1 1 1 1 1 1 1 1 1 1 1 1 1 1 1 1 1 1 1 1 1 1 1 1 1 1 1 1 1 1 1 1 1 1 1 1 1 1 1 1 1 1 1 1 1 1 1 1 1 1 0 0 0 0 0\n"
     ]
    },
    {
     "name": "stderr",
     "output_type": "stream",
     "text": [
      "I0620 08:40:04.800919 139737458554624 tf_logging.py:115] input_mask: 1 1 1 1 1 1 1 1 1 1 1 1 1 1 1 1 1 1 1 1 1 1 1 1 1 1 1 1 1 1 1 1 1 1 1 1 1 1 1 1 1 1 1 1 1 1 1 1 1 1 1 1 1 1 1 1 1 1 1 1 1 1 1 1 1 1 1 1 1 1 1 1 1 1 1 1 1 1 1 1 1 1 1 1 1 1 1 1 1 1 1 1 1 1 1 1 1 1 1 1 1 1 1 1 1 1 1 1 1 1 1 1 1 1 1 1 1 1 1 1 1 1 1 0 0 0 0 0\n"
     ]
    },
    {
     "name": "stdout",
     "output_type": "stream",
     "text": [
      "INFO:tensorflow:segment_ids: 0 0 0 0 0 0 0 0 0 0 0 0 0 0 0 0 0 0 0 0 0 0 0 0 0 0 0 0 0 0 0 0 0 0 0 0 0 0 0 0 0 0 0 0 0 0 0 0 0 0 0 0 0 0 0 0 0 0 0 0 0 0 0 0 0 0 0 0 1 1 1 1 1 1 1 1 1 1 1 1 1 1 1 1 1 1 1 1 1 1 1 1 1 1 1 1 1 1 1 1 1 1 1 1 1 1 1 1 1 1 1 1 1 1 1 1 1 1 1 1 1 1 1 0 0 0 0 0\n"
     ]
    },
    {
     "name": "stderr",
     "output_type": "stream",
     "text": [
      "I0620 08:40:04.802014 139737458554624 tf_logging.py:115] segment_ids: 0 0 0 0 0 0 0 0 0 0 0 0 0 0 0 0 0 0 0 0 0 0 0 0 0 0 0 0 0 0 0 0 0 0 0 0 0 0 0 0 0 0 0 0 0 0 0 0 0 0 0 0 0 0 0 0 0 0 0 0 0 0 0 0 0 0 0 0 1 1 1 1 1 1 1 1 1 1 1 1 1 1 1 1 1 1 1 1 1 1 1 1 1 1 1 1 1 1 1 1 1 1 1 1 1 1 1 1 1 1 1 1 1 1 1 1 1 1 1 1 1 1 1 0 0 0 0 0\n"
     ]
    },
    {
     "name": "stdout",
     "output_type": "stream",
     "text": [
      "INFO:tensorflow:label: 1 (id = 1)\n"
     ]
    },
    {
     "name": "stderr",
     "output_type": "stream",
     "text": [
      "I0620 08:40:04.802618 139737458554624 tf_logging.py:115] label: 1 (id = 1)\n"
     ]
    },
    {
     "name": "stdout",
     "output_type": "stream",
     "text": [
      "INFO:tensorflow:*** Example ***\n"
     ]
    },
    {
     "name": "stderr",
     "output_type": "stream",
     "text": [
      "I0620 08:40:04.805202 139737458554624 tf_logging.py:115] *** Example ***\n"
     ]
    },
    {
     "name": "stdout",
     "output_type": "stream",
     "text": [
      "INFO:tensorflow:guid: None\n"
     ]
    },
    {
     "name": "stderr",
     "output_type": "stream",
     "text": [
      "I0620 08:40:04.806084 139737458554624 tf_logging.py:115] guid: None\n"
     ]
    },
    {
     "name": "stdout",
     "output_type": "stream",
     "text": [
      "INFO:tensorflow:tokens: [CLS] the point is that we pay for that . every time the president veto ##es a housing bill , every time a republican member votes against the $ 1 . 25 minimum wage , every time we are unable to get any support on our bill to tie medical care for the aged to social security , it is not the congress that suffers , it is not the administration ; it is the people [SEP] they talked . but what did they produce ? they promised a 25 - percent minimum wage increase in place of the program that president eisenhower asked for and that could have been passed and should have been passed . what did the workers get ? nothing at all . [SEP]\n"
     ]
    },
    {
     "name": "stderr",
     "output_type": "stream",
     "text": [
      "I0620 08:40:04.806750 139737458554624 tf_logging.py:115] tokens: [CLS] the point is that we pay for that . every time the president veto ##es a housing bill , every time a republican member votes against the $ 1 . 25 minimum wage , every time we are unable to get any support on our bill to tie medical care for the aged to social security , it is not the congress that suffers , it is not the administration ; it is the people [SEP] they talked . but what did they produce ? they promised a 25 - percent minimum wage increase in place of the program that president eisenhower asked for and that could have been passed and should have been passed . what did the workers get ? nothing at all . [SEP]\n"
     ]
    },
    {
     "name": "stdout",
     "output_type": "stream",
     "text": [
      "INFO:tensorflow:input_ids: 101 1996 2391 2003 2008 2057 3477 2005 2008 1012 2296 2051 1996 2343 22102 2229 1037 3847 3021 1010 2296 2051 1037 3951 2266 4494 2114 1996 1002 1015 1012 2423 6263 11897 1010 2296 2051 2057 2024 4039 2000 2131 2151 2490 2006 2256 3021 2000 5495 2966 2729 2005 1996 4793 2000 2591 3036 1010 2009 2003 2025 1996 3519 2008 17567 1010 2009 2003 2025 1996 3447 1025 2009 2003 1996 2111 102 2027 5720 1012 2021 2054 2106 2027 3965 1029 2027 5763 1037 2423 1011 3867 6263 11897 3623 1999 2173 1997 1996 2565 2008 2343 16551 2356 2005 1998 2008 2071 2031 2042 2979 1998 2323 2031 2042 2979 1012 2054 2106 1996 3667 2131 1029 2498 2012 2035 1012 102\n"
     ]
    },
    {
     "name": "stderr",
     "output_type": "stream",
     "text": [
      "I0620 08:40:04.807926 139737458554624 tf_logging.py:115] input_ids: 101 1996 2391 2003 2008 2057 3477 2005 2008 1012 2296 2051 1996 2343 22102 2229 1037 3847 3021 1010 2296 2051 1037 3951 2266 4494 2114 1996 1002 1015 1012 2423 6263 11897 1010 2296 2051 2057 2024 4039 2000 2131 2151 2490 2006 2256 3021 2000 5495 2966 2729 2005 1996 4793 2000 2591 3036 1010 2009 2003 2025 1996 3519 2008 17567 1010 2009 2003 2025 1996 3447 1025 2009 2003 1996 2111 102 2027 5720 1012 2021 2054 2106 2027 3965 1029 2027 5763 1037 2423 1011 3867 6263 11897 3623 1999 2173 1997 1996 2565 2008 2343 16551 2356 2005 1998 2008 2071 2031 2042 2979 1998 2323 2031 2042 2979 1012 2054 2106 1996 3667 2131 1029 2498 2012 2035 1012 102\n"
     ]
    },
    {
     "name": "stdout",
     "output_type": "stream",
     "text": [
      "INFO:tensorflow:input_mask: 1 1 1 1 1 1 1 1 1 1 1 1 1 1 1 1 1 1 1 1 1 1 1 1 1 1 1 1 1 1 1 1 1 1 1 1 1 1 1 1 1 1 1 1 1 1 1 1 1 1 1 1 1 1 1 1 1 1 1 1 1 1 1 1 1 1 1 1 1 1 1 1 1 1 1 1 1 1 1 1 1 1 1 1 1 1 1 1 1 1 1 1 1 1 1 1 1 1 1 1 1 1 1 1 1 1 1 1 1 1 1 1 1 1 1 1 1 1 1 1 1 1 1 1 1 1 1 1\n"
     ]
    },
    {
     "name": "stderr",
     "output_type": "stream",
     "text": [
      "I0620 08:40:04.810079 139737458554624 tf_logging.py:115] input_mask: 1 1 1 1 1 1 1 1 1 1 1 1 1 1 1 1 1 1 1 1 1 1 1 1 1 1 1 1 1 1 1 1 1 1 1 1 1 1 1 1 1 1 1 1 1 1 1 1 1 1 1 1 1 1 1 1 1 1 1 1 1 1 1 1 1 1 1 1 1 1 1 1 1 1 1 1 1 1 1 1 1 1 1 1 1 1 1 1 1 1 1 1 1 1 1 1 1 1 1 1 1 1 1 1 1 1 1 1 1 1 1 1 1 1 1 1 1 1 1 1 1 1 1 1 1 1 1 1\n"
     ]
    },
    {
     "name": "stdout",
     "output_type": "stream",
     "text": [
      "INFO:tensorflow:segment_ids: 0 0 0 0 0 0 0 0 0 0 0 0 0 0 0 0 0 0 0 0 0 0 0 0 0 0 0 0 0 0 0 0 0 0 0 0 0 0 0 0 0 0 0 0 0 0 0 0 0 0 0 0 0 0 0 0 0 0 0 0 0 0 0 0 0 0 0 0 0 0 0 0 0 0 0 0 0 1 1 1 1 1 1 1 1 1 1 1 1 1 1 1 1 1 1 1 1 1 1 1 1 1 1 1 1 1 1 1 1 1 1 1 1 1 1 1 1 1 1 1 1 1 1 1 1 1 1 1\n"
     ]
    },
    {
     "name": "stderr",
     "output_type": "stream",
     "text": [
      "I0620 08:40:04.810698 139737458554624 tf_logging.py:115] segment_ids: 0 0 0 0 0 0 0 0 0 0 0 0 0 0 0 0 0 0 0 0 0 0 0 0 0 0 0 0 0 0 0 0 0 0 0 0 0 0 0 0 0 0 0 0 0 0 0 0 0 0 0 0 0 0 0 0 0 0 0 0 0 0 0 0 0 0 0 0 0 0 0 0 0 0 0 0 0 1 1 1 1 1 1 1 1 1 1 1 1 1 1 1 1 1 1 1 1 1 1 1 1 1 1 1 1 1 1 1 1 1 1 1 1 1 1 1 1 1 1 1 1 1 1 1 1 1 1 1\n"
     ]
    },
    {
     "name": "stdout",
     "output_type": "stream",
     "text": [
      "INFO:tensorflow:label: 0 (id = 0)\n"
     ]
    },
    {
     "name": "stderr",
     "output_type": "stream",
     "text": [
      "I0620 08:40:04.811278 139737458554624 tf_logging.py:115] label: 0 (id = 0)\n"
     ]
    },
    {
     "name": "stdout",
     "output_type": "stream",
     "text": [
      "INFO:tensorflow:*** Example ***\n"
     ]
    },
    {
     "name": "stderr",
     "output_type": "stream",
     "text": [
      "I0620 08:40:04.814168 139737458554624 tf_logging.py:115] *** Example ***\n"
     ]
    },
    {
     "name": "stdout",
     "output_type": "stream",
     "text": [
      "INFO:tensorflow:guid: None\n"
     ]
    },
    {
     "name": "stderr",
     "output_type": "stream",
     "text": [
      "I0620 08:40:04.815129 139737458554624 tf_logging.py:115] guid: None\n"
     ]
    },
    {
     "name": "stdout",
     "output_type": "stream",
     "text": [
      "INFO:tensorflow:tokens: [CLS] when a political party votes , in 1935 , 98 percent against the 25 - cent minimum wage , i know what the party stands for ; and when that same political party in 1960 votes in the house of representatives 85 percent against $ 1 . 25 minimum wage in 1960 , i know the republican party stands where it has always [SEP] it is our function , however , not to merely in ##vo ##ke the names of franklin roosevelt and harry truman , not to merely live off what they did , but to bring these old programs up to date . franklin roosevelt proposed a 25 - cent minimum wage , back in the middle thirties ; 90 percent of the republicans [SEP]\n"
     ]
    },
    {
     "name": "stderr",
     "output_type": "stream",
     "text": [
      "I0620 08:40:04.815802 139737458554624 tf_logging.py:115] tokens: [CLS] when a political party votes , in 1935 , 98 percent against the 25 - cent minimum wage , i know what the party stands for ; and when that same political party in 1960 votes in the house of representatives 85 percent against $ 1 . 25 minimum wage in 1960 , i know the republican party stands where it has always [SEP] it is our function , however , not to merely in ##vo ##ke the names of franklin roosevelt and harry truman , not to merely live off what they did , but to bring these old programs up to date . franklin roosevelt proposed a 25 - cent minimum wage , back in the middle thirties ; 90 percent of the republicans [SEP]\n"
     ]
    },
    {
     "name": "stdout",
     "output_type": "stream",
     "text": [
      "INFO:tensorflow:input_ids: 101 2043 1037 2576 2283 4494 1010 1999 4437 1010 5818 3867 2114 1996 2423 1011 9358 6263 11897 1010 1045 2113 2054 1996 2283 4832 2005 1025 1998 2043 2008 2168 2576 2283 1999 3624 4494 1999 1996 2160 1997 4505 5594 3867 2114 1002 1015 1012 2423 6263 11897 1999 3624 1010 1045 2113 1996 3951 2283 4832 2073 2009 2038 2467 102 2009 2003 2256 3853 1010 2174 1010 2025 2000 6414 1999 6767 3489 1996 3415 1997 5951 8573 1998 4302 15237 1010 2025 2000 6414 2444 2125 2054 2027 2106 1010 2021 2000 3288 2122 2214 3454 2039 2000 3058 1012 5951 8573 3818 1037 2423 1011 9358 6263 11897 1010 2067 1999 1996 2690 26313 1025 3938 3867 1997 1996 10643 102\n"
     ]
    },
    {
     "name": "stderr",
     "output_type": "stream",
     "text": [
      "I0620 08:40:04.816458 139737458554624 tf_logging.py:115] input_ids: 101 2043 1037 2576 2283 4494 1010 1999 4437 1010 5818 3867 2114 1996 2423 1011 9358 6263 11897 1010 1045 2113 2054 1996 2283 4832 2005 1025 1998 2043 2008 2168 2576 2283 1999 3624 4494 1999 1996 2160 1997 4505 5594 3867 2114 1002 1015 1012 2423 6263 11897 1999 3624 1010 1045 2113 1996 3951 2283 4832 2073 2009 2038 2467 102 2009 2003 2256 3853 1010 2174 1010 2025 2000 6414 1999 6767 3489 1996 3415 1997 5951 8573 1998 4302 15237 1010 2025 2000 6414 2444 2125 2054 2027 2106 1010 2021 2000 3288 2122 2214 3454 2039 2000 3058 1012 5951 8573 3818 1037 2423 1011 9358 6263 11897 1010 2067 1999 1996 2690 26313 1025 3938 3867 1997 1996 10643 102\n"
     ]
    },
    {
     "name": "stdout",
     "output_type": "stream",
     "text": [
      "INFO:tensorflow:input_mask: 1 1 1 1 1 1 1 1 1 1 1 1 1 1 1 1 1 1 1 1 1 1 1 1 1 1 1 1 1 1 1 1 1 1 1 1 1 1 1 1 1 1 1 1 1 1 1 1 1 1 1 1 1 1 1 1 1 1 1 1 1 1 1 1 1 1 1 1 1 1 1 1 1 1 1 1 1 1 1 1 1 1 1 1 1 1 1 1 1 1 1 1 1 1 1 1 1 1 1 1 1 1 1 1 1 1 1 1 1 1 1 1 1 1 1 1 1 1 1 1 1 1 1 1 1 1 1 1\n"
     ]
    },
    {
     "name": "stderr",
     "output_type": "stream",
     "text": [
      "I0620 08:40:04.817429 139737458554624 tf_logging.py:115] input_mask: 1 1 1 1 1 1 1 1 1 1 1 1 1 1 1 1 1 1 1 1 1 1 1 1 1 1 1 1 1 1 1 1 1 1 1 1 1 1 1 1 1 1 1 1 1 1 1 1 1 1 1 1 1 1 1 1 1 1 1 1 1 1 1 1 1 1 1 1 1 1 1 1 1 1 1 1 1 1 1 1 1 1 1 1 1 1 1 1 1 1 1 1 1 1 1 1 1 1 1 1 1 1 1 1 1 1 1 1 1 1 1 1 1 1 1 1 1 1 1 1 1 1 1 1 1 1 1 1\n"
     ]
    },
    {
     "name": "stdout",
     "output_type": "stream",
     "text": [
      "INFO:tensorflow:segment_ids: 0 0 0 0 0 0 0 0 0 0 0 0 0 0 0 0 0 0 0 0 0 0 0 0 0 0 0 0 0 0 0 0 0 0 0 0 0 0 0 0 0 0 0 0 0 0 0 0 0 0 0 0 0 0 0 0 0 0 0 0 0 0 0 0 0 1 1 1 1 1 1 1 1 1 1 1 1 1 1 1 1 1 1 1 1 1 1 1 1 1 1 1 1 1 1 1 1 1 1 1 1 1 1 1 1 1 1 1 1 1 1 1 1 1 1 1 1 1 1 1 1 1 1 1 1 1 1 1\n"
     ]
    },
    {
     "name": "stderr",
     "output_type": "stream",
     "text": [
      "I0620 08:40:04.818311 139737458554624 tf_logging.py:115] segment_ids: 0 0 0 0 0 0 0 0 0 0 0 0 0 0 0 0 0 0 0 0 0 0 0 0 0 0 0 0 0 0 0 0 0 0 0 0 0 0 0 0 0 0 0 0 0 0 0 0 0 0 0 0 0 0 0 0 0 0 0 0 0 0 0 0 0 1 1 1 1 1 1 1 1 1 1 1 1 1 1 1 1 1 1 1 1 1 1 1 1 1 1 1 1 1 1 1 1 1 1 1 1 1 1 1 1 1 1 1 1 1 1 1 1 1 1 1 1 1 1 1 1 1 1 1 1 1 1 1\n"
     ]
    },
    {
     "name": "stdout",
     "output_type": "stream",
     "text": [
      "INFO:tensorflow:label: 0 (id = 0)\n"
     ]
    },
    {
     "name": "stderr",
     "output_type": "stream",
     "text": [
      "I0620 08:40:04.818964 139737458554624 tf_logging.py:115] label: 0 (id = 0)\n"
     ]
    },
    {
     "name": "stdout",
     "output_type": "stream",
     "text": [
      "INFO:tensorflow:Writing example 0 of 146\n"
     ]
    },
    {
     "name": "stderr",
     "output_type": "stream",
     "text": [
      "I0620 08:40:07.560271 139737458554624 tf_logging.py:115] Writing example 0 of 146\n"
     ]
    },
    {
     "name": "stdout",
     "output_type": "stream",
     "text": [
      "INFO:tensorflow:*** Example ***\n"
     ]
    },
    {
     "name": "stderr",
     "output_type": "stream",
     "text": [
      "I0620 08:40:07.564359 139737458554624 tf_logging.py:115] *** Example ***\n"
     ]
    },
    {
     "name": "stdout",
     "output_type": "stream",
     "text": [
      "INFO:tensorflow:guid: None\n"
     ]
    },
    {
     "name": "stderr",
     "output_type": "stream",
     "text": [
      "I0620 08:40:07.565788 139737458554624 tf_logging.py:115] guid: None\n"
     ]
    },
    {
     "name": "stdout",
     "output_type": "stream",
     "text": [
      "INFO:tensorflow:tokens: [CLS] in 1952 , during the campaign between ad ##lai stevenson and dwight eisenhower , there was no discussion , really , of outer space , and yet this administration , when a similar opportunity was granted to it to make a significant breakthrough , to recognize the implications of the opportunity in the same way that franklin roosevelt had recognized it in 1941 [SEP] we can not par ##ley on the basis of equality with the soviet unless we maintain a military position of equality with them , and that goes in the traditional weapons and in missiles and in outer space . one of the reasons why we have never been able to get an agreement on the di ##sar ##mament of outer space is [SEP]\n"
     ]
    },
    {
     "name": "stderr",
     "output_type": "stream",
     "text": [
      "I0620 08:40:07.566449 139737458554624 tf_logging.py:115] tokens: [CLS] in 1952 , during the campaign between ad ##lai stevenson and dwight eisenhower , there was no discussion , really , of outer space , and yet this administration , when a similar opportunity was granted to it to make a significant breakthrough , to recognize the implications of the opportunity in the same way that franklin roosevelt had recognized it in 1941 [SEP] we can not par ##ley on the basis of equality with the soviet unless we maintain a military position of equality with them , and that goes in the traditional weapons and in missiles and in outer space . one of the reasons why we have never been able to get an agreement on the di ##sar ##mament of outer space is [SEP]\n"
     ]
    },
    {
     "name": "stdout",
     "output_type": "stream",
     "text": [
      "INFO:tensorflow:input_ids: 101 1999 3999 1010 2076 1996 3049 2090 4748 19771 13636 1998 14304 16551 1010 2045 2001 2053 6594 1010 2428 1010 1997 6058 2686 1010 1998 2664 2023 3447 1010 2043 1037 2714 4495 2001 4379 2000 2009 2000 2191 1037 3278 12687 1010 2000 6807 1996 13494 1997 1996 4495 1999 1996 2168 2126 2008 5951 8573 2018 3858 2009 1999 3874 102 2057 2064 2025 11968 3051 2006 1996 3978 1997 9945 2007 1996 3354 4983 2057 5441 1037 2510 2597 1997 9945 2007 2068 1010 1998 2008 3632 1999 1996 3151 4255 1998 1999 10815 1998 1999 6058 2686 1012 2028 1997 1996 4436 2339 2057 2031 2196 2042 2583 2000 2131 2019 3820 2006 1996 4487 10286 28119 1997 6058 2686 2003 102\n"
     ]
    },
    {
     "name": "stderr",
     "output_type": "stream",
     "text": [
      "I0620 08:40:07.567216 139737458554624 tf_logging.py:115] input_ids: 101 1999 3999 1010 2076 1996 3049 2090 4748 19771 13636 1998 14304 16551 1010 2045 2001 2053 6594 1010 2428 1010 1997 6058 2686 1010 1998 2664 2023 3447 1010 2043 1037 2714 4495 2001 4379 2000 2009 2000 2191 1037 3278 12687 1010 2000 6807 1996 13494 1997 1996 4495 1999 1996 2168 2126 2008 5951 8573 2018 3858 2009 1999 3874 102 2057 2064 2025 11968 3051 2006 1996 3978 1997 9945 2007 1996 3354 4983 2057 5441 1037 2510 2597 1997 9945 2007 2068 1010 1998 2008 3632 1999 1996 3151 4255 1998 1999 10815 1998 1999 6058 2686 1012 2028 1997 1996 4436 2339 2057 2031 2196 2042 2583 2000 2131 2019 3820 2006 1996 4487 10286 28119 1997 6058 2686 2003 102\n"
     ]
    },
    {
     "name": "stdout",
     "output_type": "stream",
     "text": [
      "INFO:tensorflow:input_mask: 1 1 1 1 1 1 1 1 1 1 1 1 1 1 1 1 1 1 1 1 1 1 1 1 1 1 1 1 1 1 1 1 1 1 1 1 1 1 1 1 1 1 1 1 1 1 1 1 1 1 1 1 1 1 1 1 1 1 1 1 1 1 1 1 1 1 1 1 1 1 1 1 1 1 1 1 1 1 1 1 1 1 1 1 1 1 1 1 1 1 1 1 1 1 1 1 1 1 1 1 1 1 1 1 1 1 1 1 1 1 1 1 1 1 1 1 1 1 1 1 1 1 1 1 1 1 1 1\n"
     ]
    },
    {
     "name": "stderr",
     "output_type": "stream",
     "text": [
      "I0620 08:40:07.567837 139737458554624 tf_logging.py:115] input_mask: 1 1 1 1 1 1 1 1 1 1 1 1 1 1 1 1 1 1 1 1 1 1 1 1 1 1 1 1 1 1 1 1 1 1 1 1 1 1 1 1 1 1 1 1 1 1 1 1 1 1 1 1 1 1 1 1 1 1 1 1 1 1 1 1 1 1 1 1 1 1 1 1 1 1 1 1 1 1 1 1 1 1 1 1 1 1 1 1 1 1 1 1 1 1 1 1 1 1 1 1 1 1 1 1 1 1 1 1 1 1 1 1 1 1 1 1 1 1 1 1 1 1 1 1 1 1 1 1\n"
     ]
    },
    {
     "name": "stdout",
     "output_type": "stream",
     "text": [
      "INFO:tensorflow:segment_ids: 0 0 0 0 0 0 0 0 0 0 0 0 0 0 0 0 0 0 0 0 0 0 0 0 0 0 0 0 0 0 0 0 0 0 0 0 0 0 0 0 0 0 0 0 0 0 0 0 0 0 0 0 0 0 0 0 0 0 0 0 0 0 0 0 0 1 1 1 1 1 1 1 1 1 1 1 1 1 1 1 1 1 1 1 1 1 1 1 1 1 1 1 1 1 1 1 1 1 1 1 1 1 1 1 1 1 1 1 1 1 1 1 1 1 1 1 1 1 1 1 1 1 1 1 1 1 1 1\n"
     ]
    },
    {
     "name": "stderr",
     "output_type": "stream",
     "text": [
      "I0620 08:40:07.569938 139737458554624 tf_logging.py:115] segment_ids: 0 0 0 0 0 0 0 0 0 0 0 0 0 0 0 0 0 0 0 0 0 0 0 0 0 0 0 0 0 0 0 0 0 0 0 0 0 0 0 0 0 0 0 0 0 0 0 0 0 0 0 0 0 0 0 0 0 0 0 0 0 0 0 0 0 1 1 1 1 1 1 1 1 1 1 1 1 1 1 1 1 1 1 1 1 1 1 1 1 1 1 1 1 1 1 1 1 1 1 1 1 1 1 1 1 1 1 1 1 1 1 1 1 1 1 1 1 1 1 1 1 1 1 1 1 1 1 1\n"
     ]
    },
    {
     "name": "stdout",
     "output_type": "stream",
     "text": [
      "INFO:tensorflow:label: 1 (id = 1)\n"
     ]
    },
    {
     "name": "stderr",
     "output_type": "stream",
     "text": [
      "I0620 08:40:07.570896 139737458554624 tf_logging.py:115] label: 1 (id = 1)\n"
     ]
    },
    {
     "name": "stdout",
     "output_type": "stream",
     "text": [
      "INFO:tensorflow:*** Example ***\n"
     ]
    },
    {
     "name": "stderr",
     "output_type": "stream",
     "text": [
      "I0620 08:40:07.574368 139737458554624 tf_logging.py:115] *** Example ***\n"
     ]
    },
    {
     "name": "stdout",
     "output_type": "stream",
     "text": [
      "INFO:tensorflow:guid: None\n"
     ]
    },
    {
     "name": "stderr",
     "output_type": "stream",
     "text": [
      "I0620 08:40:07.575555 139737458554624 tf_logging.py:115] guid: None\n"
     ]
    },
    {
     "name": "stdout",
     "output_type": "stream",
     "text": [
      "INFO:tensorflow:tokens: [CLS] physicians and scientists in fields closely allied to medicine have told me how they are already probing below the level of the body ' s cells and have begun to explore the molecules in the cells - the fundamental area where both normal ##ity and disease are controlled . we are , therefore , now in a position to further this mounting scientific [SEP] every 4 years the republican candidate for the presidency says it does n ' t matter which party wins , we are all for the same things , we are all for the same goals . well , if we are all for the same goals , why did the republicans defeat our efforts to provide a minimum wage of $ 1 [SEP]\n"
     ]
    },
    {
     "name": "stderr",
     "output_type": "stream",
     "text": [
      "I0620 08:40:07.576287 139737458554624 tf_logging.py:115] tokens: [CLS] physicians and scientists in fields closely allied to medicine have told me how they are already probing below the level of the body ' s cells and have begun to explore the molecules in the cells - the fundamental area where both normal ##ity and disease are controlled . we are , therefore , now in a position to further this mounting scientific [SEP] every 4 years the republican candidate for the presidency says it does n ' t matter which party wins , we are all for the same things , we are all for the same goals . well , if we are all for the same goals , why did the republicans defeat our efforts to provide a minimum wage of $ 1 [SEP]\n"
     ]
    },
    {
     "name": "stdout",
     "output_type": "stream",
     "text": [
      "INFO:tensorflow:input_ids: 101 11572 1998 6529 1999 4249 4876 6035 2000 4200 2031 2409 2033 2129 2027 2024 2525 28664 2917 1996 2504 1997 1996 2303 1005 1055 4442 1998 2031 5625 2000 8849 1996 10737 1999 1996 4442 1011 1996 8050 2181 2073 2119 3671 3012 1998 4295 2024 4758 1012 2057 2024 1010 3568 1010 2085 1999 1037 2597 2000 2582 2023 15986 4045 102 2296 1018 2086 1996 3951 4018 2005 1996 8798 2758 2009 2515 1050 1005 1056 3043 2029 2283 5222 1010 2057 2024 2035 2005 1996 2168 2477 1010 2057 2024 2035 2005 1996 2168 3289 1012 2092 1010 2065 2057 2024 2035 2005 1996 2168 3289 1010 2339 2106 1996 10643 4154 2256 4073 2000 3073 1037 6263 11897 1997 1002 1015 102\n"
     ]
    },
    {
     "name": "stderr",
     "output_type": "stream",
     "text": [
      "I0620 08:40:07.576952 139737458554624 tf_logging.py:115] input_ids: 101 11572 1998 6529 1999 4249 4876 6035 2000 4200 2031 2409 2033 2129 2027 2024 2525 28664 2917 1996 2504 1997 1996 2303 1005 1055 4442 1998 2031 5625 2000 8849 1996 10737 1999 1996 4442 1011 1996 8050 2181 2073 2119 3671 3012 1998 4295 2024 4758 1012 2057 2024 1010 3568 1010 2085 1999 1037 2597 2000 2582 2023 15986 4045 102 2296 1018 2086 1996 3951 4018 2005 1996 8798 2758 2009 2515 1050 1005 1056 3043 2029 2283 5222 1010 2057 2024 2035 2005 1996 2168 2477 1010 2057 2024 2035 2005 1996 2168 3289 1012 2092 1010 2065 2057 2024 2035 2005 1996 2168 3289 1010 2339 2106 1996 10643 4154 2256 4073 2000 3073 1037 6263 11897 1997 1002 1015 102\n"
     ]
    },
    {
     "name": "stdout",
     "output_type": "stream",
     "text": [
      "INFO:tensorflow:input_mask: 1 1 1 1 1 1 1 1 1 1 1 1 1 1 1 1 1 1 1 1 1 1 1 1 1 1 1 1 1 1 1 1 1 1 1 1 1 1 1 1 1 1 1 1 1 1 1 1 1 1 1 1 1 1 1 1 1 1 1 1 1 1 1 1 1 1 1 1 1 1 1 1 1 1 1 1 1 1 1 1 1 1 1 1 1 1 1 1 1 1 1 1 1 1 1 1 1 1 1 1 1 1 1 1 1 1 1 1 1 1 1 1 1 1 1 1 1 1 1 1 1 1 1 1 1 1 1 1\n"
     ]
    },
    {
     "name": "stderr",
     "output_type": "stream",
     "text": [
      "I0620 08:40:07.577630 139737458554624 tf_logging.py:115] input_mask: 1 1 1 1 1 1 1 1 1 1 1 1 1 1 1 1 1 1 1 1 1 1 1 1 1 1 1 1 1 1 1 1 1 1 1 1 1 1 1 1 1 1 1 1 1 1 1 1 1 1 1 1 1 1 1 1 1 1 1 1 1 1 1 1 1 1 1 1 1 1 1 1 1 1 1 1 1 1 1 1 1 1 1 1 1 1 1 1 1 1 1 1 1 1 1 1 1 1 1 1 1 1 1 1 1 1 1 1 1 1 1 1 1 1 1 1 1 1 1 1 1 1 1 1 1 1 1 1\n"
     ]
    },
    {
     "name": "stdout",
     "output_type": "stream",
     "text": [
      "INFO:tensorflow:segment_ids: 0 0 0 0 0 0 0 0 0 0 0 0 0 0 0 0 0 0 0 0 0 0 0 0 0 0 0 0 0 0 0 0 0 0 0 0 0 0 0 0 0 0 0 0 0 0 0 0 0 0 0 0 0 0 0 0 0 0 0 0 0 0 0 0 0 1 1 1 1 1 1 1 1 1 1 1 1 1 1 1 1 1 1 1 1 1 1 1 1 1 1 1 1 1 1 1 1 1 1 1 1 1 1 1 1 1 1 1 1 1 1 1 1 1 1 1 1 1 1 1 1 1 1 1 1 1 1 1\n"
     ]
    },
    {
     "name": "stderr",
     "output_type": "stream",
     "text": [
      "I0620 08:40:07.579943 139737458554624 tf_logging.py:115] segment_ids: 0 0 0 0 0 0 0 0 0 0 0 0 0 0 0 0 0 0 0 0 0 0 0 0 0 0 0 0 0 0 0 0 0 0 0 0 0 0 0 0 0 0 0 0 0 0 0 0 0 0 0 0 0 0 0 0 0 0 0 0 0 0 0 0 0 1 1 1 1 1 1 1 1 1 1 1 1 1 1 1 1 1 1 1 1 1 1 1 1 1 1 1 1 1 1 1 1 1 1 1 1 1 1 1 1 1 1 1 1 1 1 1 1 1 1 1 1 1 1 1 1 1 1 1 1 1 1 1\n"
     ]
    },
    {
     "name": "stdout",
     "output_type": "stream",
     "text": [
      "INFO:tensorflow:label: 1 (id = 1)\n"
     ]
    },
    {
     "name": "stderr",
     "output_type": "stream",
     "text": [
      "I0620 08:40:07.580833 139737458554624 tf_logging.py:115] label: 1 (id = 1)\n"
     ]
    },
    {
     "name": "stdout",
     "output_type": "stream",
     "text": [
      "INFO:tensorflow:*** Example ***\n"
     ]
    },
    {
     "name": "stderr",
     "output_type": "stream",
     "text": [
      "I0620 08:40:07.583380 139737458554624 tf_logging.py:115] *** Example ***\n"
     ]
    },
    {
     "name": "stdout",
     "output_type": "stream",
     "text": [
      "INFO:tensorflow:guid: None\n"
     ]
    },
    {
     "name": "stderr",
     "output_type": "stream",
     "text": [
      "I0620 08:40:07.584192 139737458554624 tf_logging.py:115] guid: None\n"
     ]
    },
    {
     "name": "stdout",
     "output_type": "stream",
     "text": [
      "INFO:tensorflow:tokens: [CLS] this is a program for economic growth - a program which can start our economy moving again and put men back to work . but this program alone will not be enough without a change in attitude - unless we realize that unemployment , poverty , sl ##ums , hunger , and run ##down schools are all man made , and they can [SEP] i know what it is in the little store in which i worked to see a child of an unemployed man come in and have to ask to put things on the bill , knowing that his dad or hers probably was n ' t going to get a job for a while . i know what continued unemployment can do , [SEP]\n"
     ]
    },
    {
     "name": "stderr",
     "output_type": "stream",
     "text": [
      "I0620 08:40:07.584850 139737458554624 tf_logging.py:115] tokens: [CLS] this is a program for economic growth - a program which can start our economy moving again and put men back to work . but this program alone will not be enough without a change in attitude - unless we realize that unemployment , poverty , sl ##ums , hunger , and run ##down schools are all man made , and they can [SEP] i know what it is in the little store in which i worked to see a child of an unemployed man come in and have to ask to put things on the bill , knowing that his dad or hers probably was n ' t going to get a job for a while . i know what continued unemployment can do , [SEP]\n"
     ]
    },
    {
     "name": "stdout",
     "output_type": "stream",
     "text": [
      "INFO:tensorflow:input_ids: 101 2023 2003 1037 2565 2005 3171 3930 1011 1037 2565 2029 2064 2707 2256 4610 3048 2153 1998 2404 2273 2067 2000 2147 1012 2021 2023 2565 2894 2097 2025 2022 2438 2302 1037 2689 1999 7729 1011 4983 2057 5382 2008 12163 1010 5635 1010 22889 18163 1010 9012 1010 1998 2448 7698 2816 2024 2035 2158 2081 1010 1998 2027 2064 102 1045 2113 2054 2009 2003 1999 1996 2210 3573 1999 2029 1045 2499 2000 2156 1037 2775 1997 2019 18787 2158 2272 1999 1998 2031 2000 3198 2000 2404 2477 2006 1996 3021 1010 4209 2008 2010 3611 2030 5106 2763 2001 1050 1005 1056 2183 2000 2131 1037 3105 2005 1037 2096 1012 1045 2113 2054 2506 12163 2064 2079 1010 102\n"
     ]
    },
    {
     "name": "stderr",
     "output_type": "stream",
     "text": [
      "I0620 08:40:07.585393 139737458554624 tf_logging.py:115] input_ids: 101 2023 2003 1037 2565 2005 3171 3930 1011 1037 2565 2029 2064 2707 2256 4610 3048 2153 1998 2404 2273 2067 2000 2147 1012 2021 2023 2565 2894 2097 2025 2022 2438 2302 1037 2689 1999 7729 1011 4983 2057 5382 2008 12163 1010 5635 1010 22889 18163 1010 9012 1010 1998 2448 7698 2816 2024 2035 2158 2081 1010 1998 2027 2064 102 1045 2113 2054 2009 2003 1999 1996 2210 3573 1999 2029 1045 2499 2000 2156 1037 2775 1997 2019 18787 2158 2272 1999 1998 2031 2000 3198 2000 2404 2477 2006 1996 3021 1010 4209 2008 2010 3611 2030 5106 2763 2001 1050 1005 1056 2183 2000 2131 1037 3105 2005 1037 2096 1012 1045 2113 2054 2506 12163 2064 2079 1010 102\n"
     ]
    },
    {
     "name": "stdout",
     "output_type": "stream",
     "text": [
      "INFO:tensorflow:input_mask: 1 1 1 1 1 1 1 1 1 1 1 1 1 1 1 1 1 1 1 1 1 1 1 1 1 1 1 1 1 1 1 1 1 1 1 1 1 1 1 1 1 1 1 1 1 1 1 1 1 1 1 1 1 1 1 1 1 1 1 1 1 1 1 1 1 1 1 1 1 1 1 1 1 1 1 1 1 1 1 1 1 1 1 1 1 1 1 1 1 1 1 1 1 1 1 1 1 1 1 1 1 1 1 1 1 1 1 1 1 1 1 1 1 1 1 1 1 1 1 1 1 1 1 1 1 1 1 1\n"
     ]
    },
    {
     "name": "stderr",
     "output_type": "stream",
     "text": [
      "I0620 08:40:07.585901 139737458554624 tf_logging.py:115] input_mask: 1 1 1 1 1 1 1 1 1 1 1 1 1 1 1 1 1 1 1 1 1 1 1 1 1 1 1 1 1 1 1 1 1 1 1 1 1 1 1 1 1 1 1 1 1 1 1 1 1 1 1 1 1 1 1 1 1 1 1 1 1 1 1 1 1 1 1 1 1 1 1 1 1 1 1 1 1 1 1 1 1 1 1 1 1 1 1 1 1 1 1 1 1 1 1 1 1 1 1 1 1 1 1 1 1 1 1 1 1 1 1 1 1 1 1 1 1 1 1 1 1 1 1 1 1 1 1 1\n"
     ]
    },
    {
     "name": "stdout",
     "output_type": "stream",
     "text": [
      "INFO:tensorflow:segment_ids: 0 0 0 0 0 0 0 0 0 0 0 0 0 0 0 0 0 0 0 0 0 0 0 0 0 0 0 0 0 0 0 0 0 0 0 0 0 0 0 0 0 0 0 0 0 0 0 0 0 0 0 0 0 0 0 0 0 0 0 0 0 0 0 0 0 1 1 1 1 1 1 1 1 1 1 1 1 1 1 1 1 1 1 1 1 1 1 1 1 1 1 1 1 1 1 1 1 1 1 1 1 1 1 1 1 1 1 1 1 1 1 1 1 1 1 1 1 1 1 1 1 1 1 1 1 1 1 1\n"
     ]
    },
    {
     "name": "stderr",
     "output_type": "stream",
     "text": [
      "I0620 08:40:07.598371 139737458554624 tf_logging.py:115] segment_ids: 0 0 0 0 0 0 0 0 0 0 0 0 0 0 0 0 0 0 0 0 0 0 0 0 0 0 0 0 0 0 0 0 0 0 0 0 0 0 0 0 0 0 0 0 0 0 0 0 0 0 0 0 0 0 0 0 0 0 0 0 0 0 0 0 0 1 1 1 1 1 1 1 1 1 1 1 1 1 1 1 1 1 1 1 1 1 1 1 1 1 1 1 1 1 1 1 1 1 1 1 1 1 1 1 1 1 1 1 1 1 1 1 1 1 1 1 1 1 1 1 1 1 1 1 1 1 1 1\n"
     ]
    },
    {
     "name": "stdout",
     "output_type": "stream",
     "text": [
      "INFO:tensorflow:label: 1 (id = 1)\n"
     ]
    },
    {
     "name": "stderr",
     "output_type": "stream",
     "text": [
      "I0620 08:40:07.600410 139737458554624 tf_logging.py:115] label: 1 (id = 1)\n"
     ]
    },
    {
     "name": "stdout",
     "output_type": "stream",
     "text": [
      "INFO:tensorflow:*** Example ***\n"
     ]
    },
    {
     "name": "stderr",
     "output_type": "stream",
     "text": [
      "I0620 08:40:07.603320 139737458554624 tf_logging.py:115] *** Example ***\n"
     ]
    },
    {
     "name": "stdout",
     "output_type": "stream",
     "text": [
      "INFO:tensorflow:guid: None\n"
     ]
    },
    {
     "name": "stderr",
     "output_type": "stream",
     "text": [
      "I0620 08:40:07.604098 139737458554624 tf_logging.py:115] guid: None\n"
     ]
    },
    {
     "name": "stdout",
     "output_type": "stream",
     "text": [
      "INFO:tensorflow:tokens: [CLS] fifth - and most important , the fight for di ##sar ##mament must command the personal attention and concern of the president of the united states . our defense and six di ##sar ##mament experts are concentrated in many important agencies of government - in the state department , the defense department , the ae ##c and others . only the president can [SEP] and i say that we can not and should not blame ourselves , our policies , our ne ##go ##tia ##tors , their scientific advisers , or their instructions , for the un ##yi ##eld ##ing refusal of the soviets to make an agreement at geneva . the time and patience which we have already ex ##pen ##ded to explore this way [SEP]\n"
     ]
    },
    {
     "name": "stderr",
     "output_type": "stream",
     "text": [
      "I0620 08:40:07.604922 139737458554624 tf_logging.py:115] tokens: [CLS] fifth - and most important , the fight for di ##sar ##mament must command the personal attention and concern of the president of the united states . our defense and six di ##sar ##mament experts are concentrated in many important agencies of government - in the state department , the defense department , the ae ##c and others . only the president can [SEP] and i say that we can not and should not blame ourselves , our policies , our ne ##go ##tia ##tors , their scientific advisers , or their instructions , for the un ##yi ##eld ##ing refusal of the soviets to make an agreement at geneva . the time and patience which we have already ex ##pen ##ded to explore this way [SEP]\n"
     ]
    },
    {
     "name": "stdout",
     "output_type": "stream",
     "text": [
      "INFO:tensorflow:input_ids: 101 3587 1011 1998 2087 2590 1010 1996 2954 2005 4487 10286 28119 2442 3094 1996 3167 3086 1998 5142 1997 1996 2343 1997 1996 2142 2163 1012 2256 3639 1998 2416 4487 10286 28119 8519 2024 8279 1999 2116 2590 6736 1997 2231 1011 1999 1996 2110 2533 1010 1996 3639 2533 1010 1996 29347 2278 1998 2500 1012 2069 1996 2343 2064 102 1998 1045 2360 2008 2057 2064 2025 1998 2323 2025 7499 9731 1010 2256 6043 1010 2256 11265 3995 10711 6591 1010 2037 4045 24205 1010 2030 2037 8128 1010 2005 1996 4895 10139 14273 2075 13948 1997 1996 15269 2000 2191 2019 3820 2012 9810 1012 1996 2051 1998 11752 2029 2057 2031 2525 4654 11837 5732 2000 8849 2023 2126 102\n"
     ]
    },
    {
     "name": "stderr",
     "output_type": "stream",
     "text": [
      "I0620 08:40:07.605498 139737458554624 tf_logging.py:115] input_ids: 101 3587 1011 1998 2087 2590 1010 1996 2954 2005 4487 10286 28119 2442 3094 1996 3167 3086 1998 5142 1997 1996 2343 1997 1996 2142 2163 1012 2256 3639 1998 2416 4487 10286 28119 8519 2024 8279 1999 2116 2590 6736 1997 2231 1011 1999 1996 2110 2533 1010 1996 3639 2533 1010 1996 29347 2278 1998 2500 1012 2069 1996 2343 2064 102 1998 1045 2360 2008 2057 2064 2025 1998 2323 2025 7499 9731 1010 2256 6043 1010 2256 11265 3995 10711 6591 1010 2037 4045 24205 1010 2030 2037 8128 1010 2005 1996 4895 10139 14273 2075 13948 1997 1996 15269 2000 2191 2019 3820 2012 9810 1012 1996 2051 1998 11752 2029 2057 2031 2525 4654 11837 5732 2000 8849 2023 2126 102\n"
     ]
    },
    {
     "name": "stdout",
     "output_type": "stream",
     "text": [
      "INFO:tensorflow:input_mask: 1 1 1 1 1 1 1 1 1 1 1 1 1 1 1 1 1 1 1 1 1 1 1 1 1 1 1 1 1 1 1 1 1 1 1 1 1 1 1 1 1 1 1 1 1 1 1 1 1 1 1 1 1 1 1 1 1 1 1 1 1 1 1 1 1 1 1 1 1 1 1 1 1 1 1 1 1 1 1 1 1 1 1 1 1 1 1 1 1 1 1 1 1 1 1 1 1 1 1 1 1 1 1 1 1 1 1 1 1 1 1 1 1 1 1 1 1 1 1 1 1 1 1 1 1 1 1 1\n"
     ]
    },
    {
     "name": "stderr",
     "output_type": "stream",
     "text": [
      "I0620 08:40:07.606017 139737458554624 tf_logging.py:115] input_mask: 1 1 1 1 1 1 1 1 1 1 1 1 1 1 1 1 1 1 1 1 1 1 1 1 1 1 1 1 1 1 1 1 1 1 1 1 1 1 1 1 1 1 1 1 1 1 1 1 1 1 1 1 1 1 1 1 1 1 1 1 1 1 1 1 1 1 1 1 1 1 1 1 1 1 1 1 1 1 1 1 1 1 1 1 1 1 1 1 1 1 1 1 1 1 1 1 1 1 1 1 1 1 1 1 1 1 1 1 1 1 1 1 1 1 1 1 1 1 1 1 1 1 1 1 1 1 1 1\n"
     ]
    },
    {
     "name": "stdout",
     "output_type": "stream",
     "text": [
      "INFO:tensorflow:segment_ids: 0 0 0 0 0 0 0 0 0 0 0 0 0 0 0 0 0 0 0 0 0 0 0 0 0 0 0 0 0 0 0 0 0 0 0 0 0 0 0 0 0 0 0 0 0 0 0 0 0 0 0 0 0 0 0 0 0 0 0 0 0 0 0 0 0 1 1 1 1 1 1 1 1 1 1 1 1 1 1 1 1 1 1 1 1 1 1 1 1 1 1 1 1 1 1 1 1 1 1 1 1 1 1 1 1 1 1 1 1 1 1 1 1 1 1 1 1 1 1 1 1 1 1 1 1 1 1 1\n"
     ]
    },
    {
     "name": "stderr",
     "output_type": "stream",
     "text": [
      "I0620 08:40:07.606512 139737458554624 tf_logging.py:115] segment_ids: 0 0 0 0 0 0 0 0 0 0 0 0 0 0 0 0 0 0 0 0 0 0 0 0 0 0 0 0 0 0 0 0 0 0 0 0 0 0 0 0 0 0 0 0 0 0 0 0 0 0 0 0 0 0 0 0 0 0 0 0 0 0 0 0 0 1 1 1 1 1 1 1 1 1 1 1 1 1 1 1 1 1 1 1 1 1 1 1 1 1 1 1 1 1 1 1 1 1 1 1 1 1 1 1 1 1 1 1 1 1 1 1 1 1 1 1 1 1 1 1 1 1 1 1 1 1 1 1\n"
     ]
    },
    {
     "name": "stdout",
     "output_type": "stream",
     "text": [
      "INFO:tensorflow:label: 1 (id = 1)\n"
     ]
    },
    {
     "name": "stderr",
     "output_type": "stream",
     "text": [
      "I0620 08:40:07.606982 139737458554624 tf_logging.py:115] label: 1 (id = 1)\n"
     ]
    },
    {
     "name": "stdout",
     "output_type": "stream",
     "text": [
      "INFO:tensorflow:*** Example ***\n"
     ]
    },
    {
     "name": "stderr",
     "output_type": "stream",
     "text": [
      "I0620 08:40:07.608410 139737458554624 tf_logging.py:115] *** Example ***\n"
     ]
    },
    {
     "name": "stdout",
     "output_type": "stream",
     "text": [
      "INFO:tensorflow:guid: None\n"
     ]
    },
    {
     "name": "stderr",
     "output_type": "stream",
     "text": [
      "I0620 08:40:07.609218 139737458554624 tf_logging.py:115] guid: None\n"
     ]
    },
    {
     "name": "stdout",
     "output_type": "stream",
     "text": [
      "INFO:tensorflow:tokens: [CLS] [ applause . ] next january we will have four more votes in the u . s . senate to give us medical care for the aged under social security . [ applause . [SEP] [ applause . ] during the last session of the congress in august , we offered on the floor of the u . s . senate a bill which would tie medical care for the aged to the social security system . we failed by five votes , and this was regarded as an ign ##omi ##nio ##us defeat . [SEP]\n"
     ]
    },
    {
     "name": "stderr",
     "output_type": "stream",
     "text": [
      "I0620 08:40:07.609772 139737458554624 tf_logging.py:115] tokens: [CLS] [ applause . ] next january we will have four more votes in the u . s . senate to give us medical care for the aged under social security . [ applause . [SEP] [ applause . ] during the last session of the congress in august , we offered on the floor of the u . s . senate a bill which would tie medical care for the aged to the social security system . we failed by five votes , and this was regarded as an ign ##omi ##nio ##us defeat . [SEP]\n"
     ]
    },
    {
     "name": "stdout",
     "output_type": "stream",
     "text": [
      "INFO:tensorflow:input_ids: 101 1031 20737 1012 1033 2279 2254 2057 2097 2031 2176 2062 4494 1999 1996 1057 1012 1055 1012 4001 2000 2507 2149 2966 2729 2005 1996 4793 2104 2591 3036 1012 1031 20737 1012 102 1031 20737 1012 1033 2076 1996 2197 5219 1997 1996 3519 1999 2257 1010 2057 3253 2006 1996 2723 1997 1996 1057 1012 1055 1012 4001 1037 3021 2029 2052 5495 2966 2729 2005 1996 4793 2000 1996 2591 3036 2291 1012 2057 3478 2011 2274 4494 1010 1998 2023 2001 5240 2004 2019 16270 20936 27678 2271 4154 1012 102 0 0 0 0 0 0 0 0 0 0 0 0 0 0 0 0 0 0 0 0 0 0 0 0 0 0 0 0 0 0 0\n"
     ]
    },
    {
     "name": "stderr",
     "output_type": "stream",
     "text": [
      "I0620 08:40:07.610326 139737458554624 tf_logging.py:115] input_ids: 101 1031 20737 1012 1033 2279 2254 2057 2097 2031 2176 2062 4494 1999 1996 1057 1012 1055 1012 4001 2000 2507 2149 2966 2729 2005 1996 4793 2104 2591 3036 1012 1031 20737 1012 102 1031 20737 1012 1033 2076 1996 2197 5219 1997 1996 3519 1999 2257 1010 2057 3253 2006 1996 2723 1997 1996 1057 1012 1055 1012 4001 1037 3021 2029 2052 5495 2966 2729 2005 1996 4793 2000 1996 2591 3036 2291 1012 2057 3478 2011 2274 4494 1010 1998 2023 2001 5240 2004 2019 16270 20936 27678 2271 4154 1012 102 0 0 0 0 0 0 0 0 0 0 0 0 0 0 0 0 0 0 0 0 0 0 0 0 0 0 0 0 0 0 0\n"
     ]
    },
    {
     "name": "stdout",
     "output_type": "stream",
     "text": [
      "INFO:tensorflow:input_mask: 1 1 1 1 1 1 1 1 1 1 1 1 1 1 1 1 1 1 1 1 1 1 1 1 1 1 1 1 1 1 1 1 1 1 1 1 1 1 1 1 1 1 1 1 1 1 1 1 1 1 1 1 1 1 1 1 1 1 1 1 1 1 1 1 1 1 1 1 1 1 1 1 1 1 1 1 1 1 1 1 1 1 1 1 1 1 1 1 1 1 1 1 1 1 1 1 1 0 0 0 0 0 0 0 0 0 0 0 0 0 0 0 0 0 0 0 0 0 0 0 0 0 0 0 0 0 0 0\n"
     ]
    },
    {
     "name": "stderr",
     "output_type": "stream",
     "text": [
      "I0620 08:40:07.610869 139737458554624 tf_logging.py:115] input_mask: 1 1 1 1 1 1 1 1 1 1 1 1 1 1 1 1 1 1 1 1 1 1 1 1 1 1 1 1 1 1 1 1 1 1 1 1 1 1 1 1 1 1 1 1 1 1 1 1 1 1 1 1 1 1 1 1 1 1 1 1 1 1 1 1 1 1 1 1 1 1 1 1 1 1 1 1 1 1 1 1 1 1 1 1 1 1 1 1 1 1 1 1 1 1 1 1 1 0 0 0 0 0 0 0 0 0 0 0 0 0 0 0 0 0 0 0 0 0 0 0 0 0 0 0 0 0 0 0\n"
     ]
    },
    {
     "name": "stdout",
     "output_type": "stream",
     "text": [
      "INFO:tensorflow:segment_ids: 0 0 0 0 0 0 0 0 0 0 0 0 0 0 0 0 0 0 0 0 0 0 0 0 0 0 0 0 0 0 0 0 0 0 0 0 1 1 1 1 1 1 1 1 1 1 1 1 1 1 1 1 1 1 1 1 1 1 1 1 1 1 1 1 1 1 1 1 1 1 1 1 1 1 1 1 1 1 1 1 1 1 1 1 1 1 1 1 1 1 1 1 1 1 1 1 1 0 0 0 0 0 0 0 0 0 0 0 0 0 0 0 0 0 0 0 0 0 0 0 0 0 0 0 0 0 0 0\n"
     ]
    },
    {
     "name": "stderr",
     "output_type": "stream",
     "text": [
      "I0620 08:40:07.611417 139737458554624 tf_logging.py:115] segment_ids: 0 0 0 0 0 0 0 0 0 0 0 0 0 0 0 0 0 0 0 0 0 0 0 0 0 0 0 0 0 0 0 0 0 0 0 0 1 1 1 1 1 1 1 1 1 1 1 1 1 1 1 1 1 1 1 1 1 1 1 1 1 1 1 1 1 1 1 1 1 1 1 1 1 1 1 1 1 1 1 1 1 1 1 1 1 1 1 1 1 1 1 1 1 1 1 1 1 0 0 0 0 0 0 0 0 0 0 0 0 0 0 0 0 0 0 0 0 0 0 0 0 0 0 0 0 0 0 0\n"
     ]
    },
    {
     "name": "stdout",
     "output_type": "stream",
     "text": [
      "INFO:tensorflow:label: 1 (id = 1)\n"
     ]
    },
    {
     "name": "stderr",
     "output_type": "stream",
     "text": [
      "I0620 08:40:07.612001 139737458554624 tf_logging.py:115] label: 1 (id = 1)\n"
     ]
    },
    {
     "name": "stdout",
     "output_type": "stream",
     "text": [
      "Beginning Training!\n",
      "test labels 1    73\n",
      "0    73\n",
      "Name: label, dtype: int64\n",
      "train labels 0    658\n",
      "1    656\n",
      "Name: label, dtype: int64\n",
      "INFO:tensorflow:Using config: {'_model_dir': 'BERT_RUN2019-06-20 08:25:39.792798political', '_tf_random_seed': None, '_save_summary_steps': 100, '_save_checkpoints_steps': 5000, '_save_checkpoints_secs': None, '_session_config': allow_soft_placement: true\n",
      "graph_options {\n",
      "  rewrite_options {\n",
      "    meta_optimizer_iterations: ONE\n",
      "  }\n",
      "}\n",
      ", '_keep_checkpoint_max': 5, '_keep_checkpoint_every_n_hours': 10000, '_log_step_count_steps': 100, '_train_distribute': None, '_device_fn': None, '_protocol': None, '_eval_distribute': None, '_experimental_distribute': None, '_service': None, '_cluster_spec': <tensorflow.python.training.server_lib.ClusterSpec object at 0x7f134e855c88>, '_task_type': 'worker', '_task_id': 0, '_global_id_in_cluster': 0, '_master': '', '_evaluation_master': '', '_is_chief': True, '_num_ps_replicas': 0, '_num_worker_replicas': 1}\n"
     ]
    },
    {
     "name": "stderr",
     "output_type": "stream",
     "text": [
      "I0620 08:40:07.919158 139737458554624 tf_logging.py:115] Using config: {'_model_dir': 'BERT_RUN2019-06-20 08:25:39.792798political', '_tf_random_seed': None, '_save_summary_steps': 100, '_save_checkpoints_steps': 5000, '_save_checkpoints_secs': None, '_session_config': allow_soft_placement: true\n",
      "graph_options {\n",
      "  rewrite_options {\n",
      "    meta_optimizer_iterations: ONE\n",
      "  }\n",
      "}\n",
      ", '_keep_checkpoint_max': 5, '_keep_checkpoint_every_n_hours': 10000, '_log_step_count_steps': 100, '_train_distribute': None, '_device_fn': None, '_protocol': None, '_eval_distribute': None, '_experimental_distribute': None, '_service': None, '_cluster_spec': <tensorflow.python.training.server_lib.ClusterSpec object at 0x7f134e855c88>, '_task_type': 'worker', '_task_id': 0, '_global_id_in_cluster': 0, '_master': '', '_evaluation_master': '', '_is_chief': True, '_num_ps_replicas': 0, '_num_worker_replicas': 1}\n"
     ]
    },
    {
     "name": "stdout",
     "output_type": "stream",
     "text": [
      "INFO:tensorflow:Calling model_fn.\n"
     ]
    },
    {
     "name": "stderr",
     "output_type": "stream",
     "text": [
      "I0620 08:40:08.333590 139737458554624 tf_logging.py:115] Calling model_fn.\n"
     ]
    },
    {
     "name": "stdout",
     "output_type": "stream",
     "text": [
      "INFO:tensorflow:Saver not created because there are no variables in the graph to restore\n"
     ]
    },
    {
     "name": "stderr",
     "output_type": "stream",
     "text": [
      "I0620 08:40:10.463657 139737458554624 tf_logging.py:115] Saver not created because there are no variables in the graph to restore\n"
     ]
    },
    {
     "name": "stdout",
     "output_type": "stream",
     "text": [
      "INFO:tensorflow:Done calling model_fn.\n"
     ]
    },
    {
     "name": "stderr",
     "output_type": "stream",
     "text": [
      "I0620 08:40:16.471343 139737458554624 tf_logging.py:115] Done calling model_fn.\n"
     ]
    },
    {
     "name": "stdout",
     "output_type": "stream",
     "text": [
      "INFO:tensorflow:Create CheckpointSaverHook.\n"
     ]
    },
    {
     "name": "stderr",
     "output_type": "stream",
     "text": [
      "I0620 08:40:16.473499 139737458554624 tf_logging.py:115] Create CheckpointSaverHook.\n"
     ]
    },
    {
     "name": "stdout",
     "output_type": "stream",
     "text": [
      "INFO:tensorflow:Graph was finalized.\n"
     ]
    },
    {
     "name": "stderr",
     "output_type": "stream",
     "text": [
      "I0620 08:40:17.390841 139737458554624 tf_logging.py:115] Graph was finalized.\n"
     ]
    },
    {
     "name": "stdout",
     "output_type": "stream",
     "text": [
      "INFO:tensorflow:Running local_init_op.\n"
     ]
    },
    {
     "name": "stderr",
     "output_type": "stream",
     "text": [
      "I0620 08:40:21.783312 139737458554624 tf_logging.py:115] Running local_init_op.\n"
     ]
    },
    {
     "name": "stdout",
     "output_type": "stream",
     "text": [
      "INFO:tensorflow:Done running local_init_op.\n"
     ]
    },
    {
     "name": "stderr",
     "output_type": "stream",
     "text": [
      "I0620 08:40:21.891176 139737458554624 tf_logging.py:115] Done running local_init_op.\n"
     ]
    },
    {
     "name": "stdout",
     "output_type": "stream",
     "text": [
      "INFO:tensorflow:Saving checkpoints for 0 into BERT_RUN2019-06-20 08:25:39.792798political/model.ckpt.\n"
     ]
    },
    {
     "name": "stderr",
     "output_type": "stream",
     "text": [
      "I0620 08:40:27.994217 139737458554624 tf_logging.py:115] Saving checkpoints for 0 into BERT_RUN2019-06-20 08:25:39.792798political/model.ckpt.\n"
     ]
    },
    {
     "name": "stdout",
     "output_type": "stream",
     "text": [
      "INFO:tensorflow:loss = 0.72979164, step = 0\n"
     ]
    },
    {
     "name": "stderr",
     "output_type": "stream",
     "text": [
      "I0620 08:40:39.776782 139737458554624 tf_logging.py:115] loss = 0.72979164, step = 0\n"
     ]
    },
    {
     "name": "stdout",
     "output_type": "stream",
     "text": [
      "INFO:tensorflow:global_step/sec: 2.29831\n"
     ]
    },
    {
     "name": "stderr",
     "output_type": "stream",
     "text": [
      "I0620 08:41:23.286467 139737458554624 tf_logging.py:115] global_step/sec: 2.29831\n"
     ]
    },
    {
     "name": "stdout",
     "output_type": "stream",
     "text": [
      "INFO:tensorflow:loss = 0.5789658, step = 100 (43.511 sec)\n"
     ]
    },
    {
     "name": "stderr",
     "output_type": "stream",
     "text": [
      "I0620 08:41:23.287736 139737458554624 tf_logging.py:115] loss = 0.5789658, step = 100 (43.511 sec)\n"
     ]
    },
    {
     "name": "stdout",
     "output_type": "stream",
     "text": [
      "INFO:tensorflow:global_step/sec: 3.17804\n"
     ]
    },
    {
     "name": "stderr",
     "output_type": "stream",
     "text": [
      "I0620 08:41:54.752493 139737458554624 tf_logging.py:115] global_step/sec: 3.17804\n"
     ]
    },
    {
     "name": "stdout",
     "output_type": "stream",
     "text": [
      "INFO:tensorflow:loss = 0.4979189, step = 200 (31.468 sec)\n"
     ]
    },
    {
     "name": "stderr",
     "output_type": "stream",
     "text": [
      "I0620 08:41:54.755775 139737458554624 tf_logging.py:115] loss = 0.4979189, step = 200 (31.468 sec)\n"
     ]
    },
    {
     "name": "stdout",
     "output_type": "stream",
     "text": [
      "INFO:tensorflow:global_step/sec: 3.17649\n"
     ]
    },
    {
     "name": "stderr",
     "output_type": "stream",
     "text": [
      "I0620 08:42:26.233663 139737458554624 tf_logging.py:115] global_step/sec: 3.17649\n"
     ]
    },
    {
     "name": "stdout",
     "output_type": "stream",
     "text": [
      "INFO:tensorflow:loss = 0.6923029, step = 300 (31.479 sec)\n"
     ]
    },
    {
     "name": "stderr",
     "output_type": "stream",
     "text": [
      "I0620 08:42:26.234816 139737458554624 tf_logging.py:115] loss = 0.6923029, step = 300 (31.479 sec)\n"
     ]
    },
    {
     "name": "stdout",
     "output_type": "stream",
     "text": [
      "INFO:tensorflow:global_step/sec: 3.17206\n"
     ]
    },
    {
     "name": "stderr",
     "output_type": "stream",
     "text": [
      "I0620 08:42:57.758977 139737458554624 tf_logging.py:115] global_step/sec: 3.17206\n"
     ]
    },
    {
     "name": "stdout",
     "output_type": "stream",
     "text": [
      "INFO:tensorflow:loss = 0.57352614, step = 400 (31.525 sec)\n"
     ]
    },
    {
     "name": "stderr",
     "output_type": "stream",
     "text": [
      "I0620 08:42:57.760310 139737458554624 tf_logging.py:115] loss = 0.57352614, step = 400 (31.525 sec)\n"
     ]
    },
    {
     "name": "stdout",
     "output_type": "stream",
     "text": [
      "INFO:tensorflow:Saving checkpoints for 492 into BERT_RUN2019-06-20 08:25:39.792798political/model.ckpt.\n"
     ]
    },
    {
     "name": "stderr",
     "output_type": "stream",
     "text": [
      "I0620 08:43:26.401159 139737458554624 tf_logging.py:115] Saving checkpoints for 492 into BERT_RUN2019-06-20 08:25:39.792798political/model.ckpt.\n"
     ]
    },
    {
     "name": "stdout",
     "output_type": "stream",
     "text": [
      "INFO:tensorflow:Loss for final step: 0.51871717.\n"
     ]
    },
    {
     "name": "stderr",
     "output_type": "stream",
     "text": [
      "I0620 08:43:32.916093 139737458554624 tf_logging.py:115] Loss for final step: 0.51871717.\n"
     ]
    },
    {
     "name": "stdout",
     "output_type": "stream",
     "text": [
      "<generator object Estimator.predict at 0x7f172098ce60>\n",
      "INFO:tensorflow:Calling model_fn.\n"
     ]
    },
    {
     "name": "stderr",
     "output_type": "stream",
     "text": [
      "I0620 08:43:32.977227 139737458554624 tf_logging.py:115] Calling model_fn.\n"
     ]
    },
    {
     "name": "stdout",
     "output_type": "stream",
     "text": [
      "INFO:tensorflow:Saver not created because there are no variables in the graph to restore\n"
     ]
    },
    {
     "name": "stderr",
     "output_type": "stream",
     "text": [
      "I0620 08:43:35.227776 139737458554624 tf_logging.py:115] Saver not created because there are no variables in the graph to restore\n"
     ]
    },
    {
     "name": "stdout",
     "output_type": "stream",
     "text": [
      "INFO:tensorflow:Done calling model_fn.\n"
     ]
    },
    {
     "name": "stderr",
     "output_type": "stream",
     "text": [
      "I0620 08:43:35.332988 139737458554624 tf_logging.py:115] Done calling model_fn.\n"
     ]
    },
    {
     "name": "stdout",
     "output_type": "stream",
     "text": [
      "INFO:tensorflow:Graph was finalized.\n"
     ]
    },
    {
     "name": "stderr",
     "output_type": "stream",
     "text": [
      "I0620 08:43:35.655426 139737458554624 tf_logging.py:115] Graph was finalized.\n"
     ]
    },
    {
     "name": "stdout",
     "output_type": "stream",
     "text": [
      "INFO:tensorflow:Restoring parameters from BERT_RUN2019-06-20 08:25:39.792798political/model.ckpt-492\n"
     ]
    },
    {
     "name": "stderr",
     "output_type": "stream",
     "text": [
      "I0620 08:43:35.658089 139737458554624 tf_logging.py:115] Restoring parameters from BERT_RUN2019-06-20 08:25:39.792798political/model.ckpt-492\n"
     ]
    },
    {
     "name": "stdout",
     "output_type": "stream",
     "text": [
      "INFO:tensorflow:Running local_init_op.\n"
     ]
    },
    {
     "name": "stderr",
     "output_type": "stream",
     "text": [
      "I0620 08:43:36.091004 139737458554624 tf_logging.py:115] Running local_init_op.\n"
     ]
    },
    {
     "name": "stdout",
     "output_type": "stream",
     "text": [
      "INFO:tensorflow:Done running local_init_op.\n"
     ]
    },
    {
     "name": "stderr",
     "output_type": "stream",
     "text": [
      "I0620 08:43:36.134466 139737458554624 tf_logging.py:115] Done running local_init_op.\n"
     ]
    },
    {
     "name": "stdout",
     "output_type": "stream",
     "text": [
      "[0. 0. 1. 0. 1. 0. 1. 1. 1. 1. 0. 0. 0. 1. 1. 1. 1. 1. 1. 1. 0. 0. 0. 1.\n",
      " 1. 0. 1. 0. 1. 1. 1. 1. 0. 0. 1. 1. 1. 0. 0. 0. 1. 0. 0. 0. 0. 0. 1. 1.\n",
      " 0. 0. 1. 0. 1. 0. 1. 1. 0. 0. 0. 0. 1. 0. 0. 1. 0. 0. 0. 0. 1. 1. 0. 1.\n",
      " 0. 1. 1. 1. 1. 1. 0. 1. 1. 1. 1. 0. 0. 0. 1. 0. 1. 1. 0. 0. 0. 0. 1. 1.\n",
      " 0. 0. 1. 0. 0. 1. 1. 0. 1. 0. 0. 1. 1. 0. 1. 1. 0. 0. 0. 1. 1. 1. 1. 1.\n",
      " 1. 0. 0. 0. 0. 1. 1. 0. 1. 1. 1. 0. 0. 1. 0. 0. 1. 0. 0. 0. 1. 1. 0. 0.\n",
      " 0. 0.]\n",
      "              precision    recall  f1-score   support\n",
      "\n",
      "    relation       0.68      0.68      0.68        73\n",
      "   unrelated       0.68      0.67      0.68        73\n",
      "\n",
      "    accuracy                           0.68       146\n",
      "   macro avg       0.68      0.68      0.68       146\n",
      "weighted avg       0.68      0.68      0.68       146\n",
      "\n",
      "Accuracy: 0.678082191780822\n",
      "Training took time  0:03:30.221093\n",
      "(1314, 8) (146, 8)\n",
      "INFO:tensorflow:Writing example 0 of 1314\n"
     ]
    },
    {
     "name": "stderr",
     "output_type": "stream",
     "text": [
      "I0620 08:43:38.281586 139737458554624 tf_logging.py:115] Writing example 0 of 1314\n"
     ]
    },
    {
     "name": "stdout",
     "output_type": "stream",
     "text": [
      "INFO:tensorflow:*** Example ***\n"
     ]
    },
    {
     "name": "stderr",
     "output_type": "stream",
     "text": [
      "I0620 08:43:38.285625 139737458554624 tf_logging.py:115] *** Example ***\n"
     ]
    },
    {
     "name": "stdout",
     "output_type": "stream",
     "text": [
      "INFO:tensorflow:guid: None\n"
     ]
    },
    {
     "name": "stderr",
     "output_type": "stream",
     "text": [
      "I0620 08:43:38.286578 139737458554624 tf_logging.py:115] guid: None\n"
     ]
    },
    {
     "name": "stdout",
     "output_type": "stream",
     "text": [
      "INFO:tensorflow:tokens: [CLS] what are the folks going to do ? what are the voters going to do ? here ' s what you do : first , you look at our record and on the record i say you compare the record of the eisenhower administration with the record of the administration which preceded it . both have been in for 7 ½ years , [SEP] and what about that future ? we want a future of progress , but above all , the people of this country are concerned that our children may grow up in a world in which we can be free and we can live at peace - and that is the most important thing that americans must think about at this time . [SEP]\n"
     ]
    },
    {
     "name": "stderr",
     "output_type": "stream",
     "text": [
      "I0620 08:43:38.287547 139737458554624 tf_logging.py:115] tokens: [CLS] what are the folks going to do ? what are the voters going to do ? here ' s what you do : first , you look at our record and on the record i say you compare the record of the eisenhower administration with the record of the administration which preceded it . both have been in for 7 ½ years , [SEP] and what about that future ? we want a future of progress , but above all , the people of this country are concerned that our children may grow up in a world in which we can be free and we can live at peace - and that is the most important thing that americans must think about at this time . [SEP]\n"
     ]
    },
    {
     "name": "stdout",
     "output_type": "stream",
     "text": [
      "INFO:tensorflow:input_ids: 101 2054 2024 1996 12455 2183 2000 2079 1029 2054 2024 1996 7206 2183 2000 2079 1029 2182 1005 1055 2054 2017 2079 1024 2034 1010 2017 2298 2012 2256 2501 1998 2006 1996 2501 1045 2360 2017 12826 1996 2501 1997 1996 16551 3447 2007 1996 2501 1997 1996 3447 2029 11677 2009 1012 2119 2031 2042 1999 2005 1021 1092 2086 1010 102 1998 2054 2055 2008 2925 1029 2057 2215 1037 2925 1997 5082 1010 2021 2682 2035 1010 1996 2111 1997 2023 2406 2024 4986 2008 2256 2336 2089 4982 2039 1999 1037 2088 1999 2029 2057 2064 2022 2489 1998 2057 2064 2444 2012 3521 1011 1998 2008 2003 1996 2087 2590 2518 2008 4841 2442 2228 2055 2012 2023 2051 1012 102\n"
     ]
    },
    {
     "name": "stderr",
     "output_type": "stream",
     "text": [
      "I0620 08:43:38.288265 139737458554624 tf_logging.py:115] input_ids: 101 2054 2024 1996 12455 2183 2000 2079 1029 2054 2024 1996 7206 2183 2000 2079 1029 2182 1005 1055 2054 2017 2079 1024 2034 1010 2017 2298 2012 2256 2501 1998 2006 1996 2501 1045 2360 2017 12826 1996 2501 1997 1996 16551 3447 2007 1996 2501 1997 1996 3447 2029 11677 2009 1012 2119 2031 2042 1999 2005 1021 1092 2086 1010 102 1998 2054 2055 2008 2925 1029 2057 2215 1037 2925 1997 5082 1010 2021 2682 2035 1010 1996 2111 1997 2023 2406 2024 4986 2008 2256 2336 2089 4982 2039 1999 1037 2088 1999 2029 2057 2064 2022 2489 1998 2057 2064 2444 2012 3521 1011 1998 2008 2003 1996 2087 2590 2518 2008 4841 2442 2228 2055 2012 2023 2051 1012 102\n"
     ]
    },
    {
     "name": "stdout",
     "output_type": "stream",
     "text": [
      "INFO:tensorflow:input_mask: 1 1 1 1 1 1 1 1 1 1 1 1 1 1 1 1 1 1 1 1 1 1 1 1 1 1 1 1 1 1 1 1 1 1 1 1 1 1 1 1 1 1 1 1 1 1 1 1 1 1 1 1 1 1 1 1 1 1 1 1 1 1 1 1 1 1 1 1 1 1 1 1 1 1 1 1 1 1 1 1 1 1 1 1 1 1 1 1 1 1 1 1 1 1 1 1 1 1 1 1 1 1 1 1 1 1 1 1 1 1 1 1 1 1 1 1 1 1 1 1 1 1 1 1 1 1 1 1\n"
     ]
    },
    {
     "name": "stderr",
     "output_type": "stream",
     "text": [
      "I0620 08:43:38.288911 139737458554624 tf_logging.py:115] input_mask: 1 1 1 1 1 1 1 1 1 1 1 1 1 1 1 1 1 1 1 1 1 1 1 1 1 1 1 1 1 1 1 1 1 1 1 1 1 1 1 1 1 1 1 1 1 1 1 1 1 1 1 1 1 1 1 1 1 1 1 1 1 1 1 1 1 1 1 1 1 1 1 1 1 1 1 1 1 1 1 1 1 1 1 1 1 1 1 1 1 1 1 1 1 1 1 1 1 1 1 1 1 1 1 1 1 1 1 1 1 1 1 1 1 1 1 1 1 1 1 1 1 1 1 1 1 1 1 1\n"
     ]
    },
    {
     "name": "stdout",
     "output_type": "stream",
     "text": [
      "INFO:tensorflow:segment_ids: 0 0 0 0 0 0 0 0 0 0 0 0 0 0 0 0 0 0 0 0 0 0 0 0 0 0 0 0 0 0 0 0 0 0 0 0 0 0 0 0 0 0 0 0 0 0 0 0 0 0 0 0 0 0 0 0 0 0 0 0 0 0 0 0 0 1 1 1 1 1 1 1 1 1 1 1 1 1 1 1 1 1 1 1 1 1 1 1 1 1 1 1 1 1 1 1 1 1 1 1 1 1 1 1 1 1 1 1 1 1 1 1 1 1 1 1 1 1 1 1 1 1 1 1 1 1 1 1\n"
     ]
    },
    {
     "name": "stderr",
     "output_type": "stream",
     "text": [
      "I0620 08:43:38.289846 139737458554624 tf_logging.py:115] segment_ids: 0 0 0 0 0 0 0 0 0 0 0 0 0 0 0 0 0 0 0 0 0 0 0 0 0 0 0 0 0 0 0 0 0 0 0 0 0 0 0 0 0 0 0 0 0 0 0 0 0 0 0 0 0 0 0 0 0 0 0 0 0 0 0 0 0 1 1 1 1 1 1 1 1 1 1 1 1 1 1 1 1 1 1 1 1 1 1 1 1 1 1 1 1 1 1 1 1 1 1 1 1 1 1 1 1 1 1 1 1 1 1 1 1 1 1 1 1 1 1 1 1 1 1 1 1 1 1 1\n"
     ]
    },
    {
     "name": "stdout",
     "output_type": "stream",
     "text": [
      "INFO:tensorflow:label: 1 (id = 1)\n"
     ]
    },
    {
     "name": "stderr",
     "output_type": "stream",
     "text": [
      "I0620 08:43:38.291104 139737458554624 tf_logging.py:115] label: 1 (id = 1)\n"
     ]
    },
    {
     "name": "stdout",
     "output_type": "stream",
     "text": [
      "INFO:tensorflow:*** Example ***\n"
     ]
    },
    {
     "name": "stderr",
     "output_type": "stream",
     "text": [
      "I0620 08:43:38.293653 139737458554624 tf_logging.py:115] *** Example ***\n"
     ]
    },
    {
     "name": "stdout",
     "output_type": "stream",
     "text": [
      "INFO:tensorflow:guid: None\n"
     ]
    },
    {
     "name": "stderr",
     "output_type": "stream",
     "text": [
      "I0620 08:43:38.294636 139737458554624 tf_logging.py:115] guid: None\n"
     ]
    },
    {
     "name": "stdout",
     "output_type": "stream",
     "text": [
      "INFO:tensorflow:tokens: [CLS] [ applause . ] mr . nixon considers a minimum wage of $ 1 . 25 to be extreme . mr . nixon considers federal aid to make sure that teachers are paid a decent salary to be extreme . [SEP] meanwhile , the contradictory statements of senator kennedy still leave him opposed to this position . the miss ##tate ##ment : in the second debate senator kennedy said : the republicans in recent years , not only in the last 25 years , but in the last 8 years , have opposed * * * minimum wage * * the facts : senator kennedy is saying that republicans who opposed his particular bill are against minimum wage . the administration supported an increase in the [SEP]\n"
     ]
    },
    {
     "name": "stderr",
     "output_type": "stream",
     "text": [
      "I0620 08:43:38.295177 139737458554624 tf_logging.py:115] tokens: [CLS] [ applause . ] mr . nixon considers a minimum wage of $ 1 . 25 to be extreme . mr . nixon considers federal aid to make sure that teachers are paid a decent salary to be extreme . [SEP] meanwhile , the contradictory statements of senator kennedy still leave him opposed to this position . the miss ##tate ##ment : in the second debate senator kennedy said : the republicans in recent years , not only in the last 25 years , but in the last 8 years , have opposed * * * minimum wage * * the facts : senator kennedy is saying that republicans who opposed his particular bill are against minimum wage . the administration supported an increase in the [SEP]\n"
     ]
    },
    {
     "name": "stdout",
     "output_type": "stream",
     "text": [
      "INFO:tensorflow:input_ids: 101 1031 20737 1012 1033 2720 1012 11296 10592 1037 6263 11897 1997 1002 1015 1012 2423 2000 2022 6034 1012 2720 1012 11296 10592 2976 4681 2000 2191 2469 2008 5089 2024 3825 1037 11519 10300 2000 2022 6034 1012 102 5564 1010 1996 27894 8635 1997 5205 5817 2145 2681 2032 4941 2000 2023 2597 1012 1996 3335 12259 3672 1024 1999 1996 2117 5981 5205 5817 2056 1024 1996 10643 1999 3522 2086 1010 2025 2069 1999 1996 2197 2423 2086 1010 2021 1999 1996 2197 1022 2086 1010 2031 4941 1008 1008 1008 6263 11897 1008 1008 1996 8866 1024 5205 5817 2003 3038 2008 10643 2040 4941 2010 3327 3021 2024 2114 6263 11897 1012 1996 3447 3569 2019 3623 1999 1996 102\n"
     ]
    },
    {
     "name": "stderr",
     "output_type": "stream",
     "text": [
      "I0620 08:43:38.301659 139737458554624 tf_logging.py:115] input_ids: 101 1031 20737 1012 1033 2720 1012 11296 10592 1037 6263 11897 1997 1002 1015 1012 2423 2000 2022 6034 1012 2720 1012 11296 10592 2976 4681 2000 2191 2469 2008 5089 2024 3825 1037 11519 10300 2000 2022 6034 1012 102 5564 1010 1996 27894 8635 1997 5205 5817 2145 2681 2032 4941 2000 2023 2597 1012 1996 3335 12259 3672 1024 1999 1996 2117 5981 5205 5817 2056 1024 1996 10643 1999 3522 2086 1010 2025 2069 1999 1996 2197 2423 2086 1010 2021 1999 1996 2197 1022 2086 1010 2031 4941 1008 1008 1008 6263 11897 1008 1008 1996 8866 1024 5205 5817 2003 3038 2008 10643 2040 4941 2010 3327 3021 2024 2114 6263 11897 1012 1996 3447 3569 2019 3623 1999 1996 102\n"
     ]
    },
    {
     "name": "stdout",
     "output_type": "stream",
     "text": [
      "INFO:tensorflow:input_mask: 1 1 1 1 1 1 1 1 1 1 1 1 1 1 1 1 1 1 1 1 1 1 1 1 1 1 1 1 1 1 1 1 1 1 1 1 1 1 1 1 1 1 1 1 1 1 1 1 1 1 1 1 1 1 1 1 1 1 1 1 1 1 1 1 1 1 1 1 1 1 1 1 1 1 1 1 1 1 1 1 1 1 1 1 1 1 1 1 1 1 1 1 1 1 1 1 1 1 1 1 1 1 1 1 1 1 1 1 1 1 1 1 1 1 1 1 1 1 1 1 1 1 1 1 1 1 1 1\n"
     ]
    },
    {
     "name": "stderr",
     "output_type": "stream",
     "text": [
      "I0620 08:43:38.302775 139737458554624 tf_logging.py:115] input_mask: 1 1 1 1 1 1 1 1 1 1 1 1 1 1 1 1 1 1 1 1 1 1 1 1 1 1 1 1 1 1 1 1 1 1 1 1 1 1 1 1 1 1 1 1 1 1 1 1 1 1 1 1 1 1 1 1 1 1 1 1 1 1 1 1 1 1 1 1 1 1 1 1 1 1 1 1 1 1 1 1 1 1 1 1 1 1 1 1 1 1 1 1 1 1 1 1 1 1 1 1 1 1 1 1 1 1 1 1 1 1 1 1 1 1 1 1 1 1 1 1 1 1 1 1 1 1 1 1\n"
     ]
    },
    {
     "name": "stdout",
     "output_type": "stream",
     "text": [
      "INFO:tensorflow:segment_ids: 0 0 0 0 0 0 0 0 0 0 0 0 0 0 0 0 0 0 0 0 0 0 0 0 0 0 0 0 0 0 0 0 0 0 0 0 0 0 0 0 0 0 1 1 1 1 1 1 1 1 1 1 1 1 1 1 1 1 1 1 1 1 1 1 1 1 1 1 1 1 1 1 1 1 1 1 1 1 1 1 1 1 1 1 1 1 1 1 1 1 1 1 1 1 1 1 1 1 1 1 1 1 1 1 1 1 1 1 1 1 1 1 1 1 1 1 1 1 1 1 1 1 1 1 1 1 1 1\n"
     ]
    },
    {
     "name": "stderr",
     "output_type": "stream",
     "text": [
      "I0620 08:43:38.303414 139737458554624 tf_logging.py:115] segment_ids: 0 0 0 0 0 0 0 0 0 0 0 0 0 0 0 0 0 0 0 0 0 0 0 0 0 0 0 0 0 0 0 0 0 0 0 0 0 0 0 0 0 0 1 1 1 1 1 1 1 1 1 1 1 1 1 1 1 1 1 1 1 1 1 1 1 1 1 1 1 1 1 1 1 1 1 1 1 1 1 1 1 1 1 1 1 1 1 1 1 1 1 1 1 1 1 1 1 1 1 1 1 1 1 1 1 1 1 1 1 1 1 1 1 1 1 1 1 1 1 1 1 1 1 1 1 1 1 1\n"
     ]
    },
    {
     "name": "stdout",
     "output_type": "stream",
     "text": [
      "INFO:tensorflow:label: 0 (id = 0)\n"
     ]
    },
    {
     "name": "stderr",
     "output_type": "stream",
     "text": [
      "I0620 08:43:38.304054 139737458554624 tf_logging.py:115] label: 0 (id = 0)\n"
     ]
    },
    {
     "name": "stdout",
     "output_type": "stream",
     "text": [
      "INFO:tensorflow:*** Example ***\n"
     ]
    },
    {
     "name": "stderr",
     "output_type": "stream",
     "text": [
      "I0620 08:43:38.305817 139737458554624 tf_logging.py:115] *** Example ***\n"
     ]
    },
    {
     "name": "stdout",
     "output_type": "stream",
     "text": [
      "INFO:tensorflow:guid: None\n"
     ]
    },
    {
     "name": "stderr",
     "output_type": "stream",
     "text": [
      "I0620 08:43:38.306588 139737458554624 tf_logging.py:115] guid: None\n"
     ]
    },
    {
     "name": "stdout",
     "output_type": "stream",
     "text": [
      "INFO:tensorflow:tokens: [CLS] [ applause . ] let me make it very clear that if we are successful in january , we are going to recommend the following programs : first , we are going to make sure that those americans who are retired , who are on social security , who do need medical care , shall have it under the social security system . [ applause . [SEP] [ applause . ] a party which opposed social security , which tried to repeal it , a party which opposed minimum wage and tried to repeal it , a party which has opposed our efforts to pass in this congress medical care for the aged to the social security . [ applause . [SEP]\n"
     ]
    },
    {
     "name": "stderr",
     "output_type": "stream",
     "text": [
      "I0620 08:43:38.308608 139737458554624 tf_logging.py:115] tokens: [CLS] [ applause . ] let me make it very clear that if we are successful in january , we are going to recommend the following programs : first , we are going to make sure that those americans who are retired , who are on social security , who do need medical care , shall have it under the social security system . [ applause . [SEP] [ applause . ] a party which opposed social security , which tried to repeal it , a party which opposed minimum wage and tried to repeal it , a party which has opposed our efforts to pass in this congress medical care for the aged to the social security . [ applause . [SEP]\n"
     ]
    },
    {
     "name": "stdout",
     "output_type": "stream",
     "text": [
      "INFO:tensorflow:input_ids: 101 1031 20737 1012 1033 2292 2033 2191 2009 2200 3154 2008 2065 2057 2024 3144 1999 2254 1010 2057 2024 2183 2000 16755 1996 2206 3454 1024 2034 1010 2057 2024 2183 2000 2191 2469 2008 2216 4841 2040 2024 3394 1010 2040 2024 2006 2591 3036 1010 2040 2079 2342 2966 2729 1010 4618 2031 2009 2104 1996 2591 3036 2291 1012 1031 20737 1012 102 1031 20737 1012 1033 1037 2283 2029 4941 2591 3036 1010 2029 2699 2000 21825 2009 1010 1037 2283 2029 4941 6263 11897 1998 2699 2000 21825 2009 1010 1037 2283 2029 2038 4941 2256 4073 2000 3413 1999 2023 3519 2966 2729 2005 1996 4793 2000 1996 2591 3036 1012 1031 20737 1012 102 0 0 0 0 0\n"
     ]
    },
    {
     "name": "stderr",
     "output_type": "stream",
     "text": [
      "I0620 08:43:38.309510 139737458554624 tf_logging.py:115] input_ids: 101 1031 20737 1012 1033 2292 2033 2191 2009 2200 3154 2008 2065 2057 2024 3144 1999 2254 1010 2057 2024 2183 2000 16755 1996 2206 3454 1024 2034 1010 2057 2024 2183 2000 2191 2469 2008 2216 4841 2040 2024 3394 1010 2040 2024 2006 2591 3036 1010 2040 2079 2342 2966 2729 1010 4618 2031 2009 2104 1996 2591 3036 2291 1012 1031 20737 1012 102 1031 20737 1012 1033 1037 2283 2029 4941 2591 3036 1010 2029 2699 2000 21825 2009 1010 1037 2283 2029 4941 6263 11897 1998 2699 2000 21825 2009 1010 1037 2283 2029 2038 4941 2256 4073 2000 3413 1999 2023 3519 2966 2729 2005 1996 4793 2000 1996 2591 3036 1012 1031 20737 1012 102 0 0 0 0 0\n"
     ]
    },
    {
     "name": "stdout",
     "output_type": "stream",
     "text": [
      "INFO:tensorflow:input_mask: 1 1 1 1 1 1 1 1 1 1 1 1 1 1 1 1 1 1 1 1 1 1 1 1 1 1 1 1 1 1 1 1 1 1 1 1 1 1 1 1 1 1 1 1 1 1 1 1 1 1 1 1 1 1 1 1 1 1 1 1 1 1 1 1 1 1 1 1 1 1 1 1 1 1 1 1 1 1 1 1 1 1 1 1 1 1 1 1 1 1 1 1 1 1 1 1 1 1 1 1 1 1 1 1 1 1 1 1 1 1 1 1 1 1 1 1 1 1 1 1 1 1 1 0 0 0 0 0\n"
     ]
    },
    {
     "name": "stderr",
     "output_type": "stream",
     "text": [
      "I0620 08:43:38.310244 139737458554624 tf_logging.py:115] input_mask: 1 1 1 1 1 1 1 1 1 1 1 1 1 1 1 1 1 1 1 1 1 1 1 1 1 1 1 1 1 1 1 1 1 1 1 1 1 1 1 1 1 1 1 1 1 1 1 1 1 1 1 1 1 1 1 1 1 1 1 1 1 1 1 1 1 1 1 1 1 1 1 1 1 1 1 1 1 1 1 1 1 1 1 1 1 1 1 1 1 1 1 1 1 1 1 1 1 1 1 1 1 1 1 1 1 1 1 1 1 1 1 1 1 1 1 1 1 1 1 1 1 1 1 0 0 0 0 0\n"
     ]
    },
    {
     "name": "stdout",
     "output_type": "stream",
     "text": [
      "INFO:tensorflow:segment_ids: 0 0 0 0 0 0 0 0 0 0 0 0 0 0 0 0 0 0 0 0 0 0 0 0 0 0 0 0 0 0 0 0 0 0 0 0 0 0 0 0 0 0 0 0 0 0 0 0 0 0 0 0 0 0 0 0 0 0 0 0 0 0 0 0 0 0 0 0 1 1 1 1 1 1 1 1 1 1 1 1 1 1 1 1 1 1 1 1 1 1 1 1 1 1 1 1 1 1 1 1 1 1 1 1 1 1 1 1 1 1 1 1 1 1 1 1 1 1 1 1 1 1 1 0 0 0 0 0\n"
     ]
    },
    {
     "name": "stderr",
     "output_type": "stream",
     "text": [
      "I0620 08:43:38.310884 139737458554624 tf_logging.py:115] segment_ids: 0 0 0 0 0 0 0 0 0 0 0 0 0 0 0 0 0 0 0 0 0 0 0 0 0 0 0 0 0 0 0 0 0 0 0 0 0 0 0 0 0 0 0 0 0 0 0 0 0 0 0 0 0 0 0 0 0 0 0 0 0 0 0 0 0 0 0 0 1 1 1 1 1 1 1 1 1 1 1 1 1 1 1 1 1 1 1 1 1 1 1 1 1 1 1 1 1 1 1 1 1 1 1 1 1 1 1 1 1 1 1 1 1 1 1 1 1 1 1 1 1 1 1 0 0 0 0 0\n"
     ]
    },
    {
     "name": "stdout",
     "output_type": "stream",
     "text": [
      "INFO:tensorflow:label: 1 (id = 1)\n"
     ]
    },
    {
     "name": "stderr",
     "output_type": "stream",
     "text": [
      "I0620 08:43:38.311463 139737458554624 tf_logging.py:115] label: 1 (id = 1)\n"
     ]
    },
    {
     "name": "stdout",
     "output_type": "stream",
     "text": [
      "INFO:tensorflow:*** Example ***\n"
     ]
    },
    {
     "name": "stderr",
     "output_type": "stream",
     "text": [
      "I0620 08:43:38.314153 139737458554624 tf_logging.py:115] *** Example ***\n"
     ]
    },
    {
     "name": "stdout",
     "output_type": "stream",
     "text": [
      "INFO:tensorflow:guid: None\n"
     ]
    },
    {
     "name": "stderr",
     "output_type": "stream",
     "text": [
      "I0620 08:43:38.315115 139737458554624 tf_logging.py:115] guid: None\n"
     ]
    },
    {
     "name": "stdout",
     "output_type": "stream",
     "text": [
      "INFO:tensorflow:tokens: [CLS] the point is that we pay for that . every time the president veto ##es a housing bill , every time a republican member votes against the $ 1 . 25 minimum wage , every time we are unable to get any support on our bill to tie medical care for the aged to social security , it is not the congress that suffers , it is not the administration ; it is the people [SEP] they talked . but what did they produce ? they promised a 25 - percent minimum wage increase in place of the program that president eisenhower asked for and that could have been passed and should have been passed . what did the workers get ? nothing at all . [SEP]\n"
     ]
    },
    {
     "name": "stderr",
     "output_type": "stream",
     "text": [
      "I0620 08:43:38.315732 139737458554624 tf_logging.py:115] tokens: [CLS] the point is that we pay for that . every time the president veto ##es a housing bill , every time a republican member votes against the $ 1 . 25 minimum wage , every time we are unable to get any support on our bill to tie medical care for the aged to social security , it is not the congress that suffers , it is not the administration ; it is the people [SEP] they talked . but what did they produce ? they promised a 25 - percent minimum wage increase in place of the program that president eisenhower asked for and that could have been passed and should have been passed . what did the workers get ? nothing at all . [SEP]\n"
     ]
    },
    {
     "name": "stdout",
     "output_type": "stream",
     "text": [
      "INFO:tensorflow:input_ids: 101 1996 2391 2003 2008 2057 3477 2005 2008 1012 2296 2051 1996 2343 22102 2229 1037 3847 3021 1010 2296 2051 1037 3951 2266 4494 2114 1996 1002 1015 1012 2423 6263 11897 1010 2296 2051 2057 2024 4039 2000 2131 2151 2490 2006 2256 3021 2000 5495 2966 2729 2005 1996 4793 2000 2591 3036 1010 2009 2003 2025 1996 3519 2008 17567 1010 2009 2003 2025 1996 3447 1025 2009 2003 1996 2111 102 2027 5720 1012 2021 2054 2106 2027 3965 1029 2027 5763 1037 2423 1011 3867 6263 11897 3623 1999 2173 1997 1996 2565 2008 2343 16551 2356 2005 1998 2008 2071 2031 2042 2979 1998 2323 2031 2042 2979 1012 2054 2106 1996 3667 2131 1029 2498 2012 2035 1012 102\n"
     ]
    },
    {
     "name": "stderr",
     "output_type": "stream",
     "text": [
      "I0620 08:43:38.316425 139737458554624 tf_logging.py:115] input_ids: 101 1996 2391 2003 2008 2057 3477 2005 2008 1012 2296 2051 1996 2343 22102 2229 1037 3847 3021 1010 2296 2051 1037 3951 2266 4494 2114 1996 1002 1015 1012 2423 6263 11897 1010 2296 2051 2057 2024 4039 2000 2131 2151 2490 2006 2256 3021 2000 5495 2966 2729 2005 1996 4793 2000 2591 3036 1010 2009 2003 2025 1996 3519 2008 17567 1010 2009 2003 2025 1996 3447 1025 2009 2003 1996 2111 102 2027 5720 1012 2021 2054 2106 2027 3965 1029 2027 5763 1037 2423 1011 3867 6263 11897 3623 1999 2173 1997 1996 2565 2008 2343 16551 2356 2005 1998 2008 2071 2031 2042 2979 1998 2323 2031 2042 2979 1012 2054 2106 1996 3667 2131 1029 2498 2012 2035 1012 102\n"
     ]
    },
    {
     "name": "stdout",
     "output_type": "stream",
     "text": [
      "INFO:tensorflow:input_mask: 1 1 1 1 1 1 1 1 1 1 1 1 1 1 1 1 1 1 1 1 1 1 1 1 1 1 1 1 1 1 1 1 1 1 1 1 1 1 1 1 1 1 1 1 1 1 1 1 1 1 1 1 1 1 1 1 1 1 1 1 1 1 1 1 1 1 1 1 1 1 1 1 1 1 1 1 1 1 1 1 1 1 1 1 1 1 1 1 1 1 1 1 1 1 1 1 1 1 1 1 1 1 1 1 1 1 1 1 1 1 1 1 1 1 1 1 1 1 1 1 1 1 1 1 1 1 1 1\n"
     ]
    },
    {
     "name": "stderr",
     "output_type": "stream",
     "text": [
      "I0620 08:43:38.317049 139737458554624 tf_logging.py:115] input_mask: 1 1 1 1 1 1 1 1 1 1 1 1 1 1 1 1 1 1 1 1 1 1 1 1 1 1 1 1 1 1 1 1 1 1 1 1 1 1 1 1 1 1 1 1 1 1 1 1 1 1 1 1 1 1 1 1 1 1 1 1 1 1 1 1 1 1 1 1 1 1 1 1 1 1 1 1 1 1 1 1 1 1 1 1 1 1 1 1 1 1 1 1 1 1 1 1 1 1 1 1 1 1 1 1 1 1 1 1 1 1 1 1 1 1 1 1 1 1 1 1 1 1 1 1 1 1 1 1\n"
     ]
    },
    {
     "name": "stdout",
     "output_type": "stream",
     "text": [
      "INFO:tensorflow:segment_ids: 0 0 0 0 0 0 0 0 0 0 0 0 0 0 0 0 0 0 0 0 0 0 0 0 0 0 0 0 0 0 0 0 0 0 0 0 0 0 0 0 0 0 0 0 0 0 0 0 0 0 0 0 0 0 0 0 0 0 0 0 0 0 0 0 0 0 0 0 0 0 0 0 0 0 0 0 0 1 1 1 1 1 1 1 1 1 1 1 1 1 1 1 1 1 1 1 1 1 1 1 1 1 1 1 1 1 1 1 1 1 1 1 1 1 1 1 1 1 1 1 1 1 1 1 1 1 1 1\n"
     ]
    },
    {
     "name": "stderr",
     "output_type": "stream",
     "text": [
      "I0620 08:43:38.318190 139737458554624 tf_logging.py:115] segment_ids: 0 0 0 0 0 0 0 0 0 0 0 0 0 0 0 0 0 0 0 0 0 0 0 0 0 0 0 0 0 0 0 0 0 0 0 0 0 0 0 0 0 0 0 0 0 0 0 0 0 0 0 0 0 0 0 0 0 0 0 0 0 0 0 0 0 0 0 0 0 0 0 0 0 0 0 0 0 1 1 1 1 1 1 1 1 1 1 1 1 1 1 1 1 1 1 1 1 1 1 1 1 1 1 1 1 1 1 1 1 1 1 1 1 1 1 1 1 1 1 1 1 1 1 1 1 1 1 1\n"
     ]
    },
    {
     "name": "stdout",
     "output_type": "stream",
     "text": [
      "INFO:tensorflow:label: 0 (id = 0)\n"
     ]
    },
    {
     "name": "stderr",
     "output_type": "stream",
     "text": [
      "I0620 08:43:38.320519 139737458554624 tf_logging.py:115] label: 0 (id = 0)\n"
     ]
    },
    {
     "name": "stdout",
     "output_type": "stream",
     "text": [
      "INFO:tensorflow:*** Example ***\n"
     ]
    },
    {
     "name": "stderr",
     "output_type": "stream",
     "text": [
      "I0620 08:43:38.323315 139737458554624 tf_logging.py:115] *** Example ***\n"
     ]
    },
    {
     "name": "stdout",
     "output_type": "stream",
     "text": [
      "INFO:tensorflow:guid: None\n"
     ]
    },
    {
     "name": "stderr",
     "output_type": "stream",
     "text": [
      "I0620 08:43:38.324259 139737458554624 tf_logging.py:115] guid: None\n"
     ]
    },
    {
     "name": "stdout",
     "output_type": "stream",
     "text": [
      "INFO:tensorflow:tokens: [CLS] when a political party votes , in 1935 , 98 percent against the 25 - cent minimum wage , i know what the party stands for ; and when that same political party in 1960 votes in the house of representatives 85 percent against $ 1 . 25 minimum wage in 1960 , i know the republican party stands where it has always [SEP] it is our function , however , not to merely in ##vo ##ke the names of franklin roosevelt and harry truman , not to merely live off what they did , but to bring these old programs up to date . franklin roosevelt proposed a 25 - cent minimum wage , back in the middle thirties ; 90 percent of the republicans [SEP]\n"
     ]
    },
    {
     "name": "stderr",
     "output_type": "stream",
     "text": [
      "I0620 08:43:38.324963 139737458554624 tf_logging.py:115] tokens: [CLS] when a political party votes , in 1935 , 98 percent against the 25 - cent minimum wage , i know what the party stands for ; and when that same political party in 1960 votes in the house of representatives 85 percent against $ 1 . 25 minimum wage in 1960 , i know the republican party stands where it has always [SEP] it is our function , however , not to merely in ##vo ##ke the names of franklin roosevelt and harry truman , not to merely live off what they did , but to bring these old programs up to date . franklin roosevelt proposed a 25 - cent minimum wage , back in the middle thirties ; 90 percent of the republicans [SEP]\n"
     ]
    },
    {
     "name": "stdout",
     "output_type": "stream",
     "text": [
      "INFO:tensorflow:input_ids: 101 2043 1037 2576 2283 4494 1010 1999 4437 1010 5818 3867 2114 1996 2423 1011 9358 6263 11897 1010 1045 2113 2054 1996 2283 4832 2005 1025 1998 2043 2008 2168 2576 2283 1999 3624 4494 1999 1996 2160 1997 4505 5594 3867 2114 1002 1015 1012 2423 6263 11897 1999 3624 1010 1045 2113 1996 3951 2283 4832 2073 2009 2038 2467 102 2009 2003 2256 3853 1010 2174 1010 2025 2000 6414 1999 6767 3489 1996 3415 1997 5951 8573 1998 4302 15237 1010 2025 2000 6414 2444 2125 2054 2027 2106 1010 2021 2000 3288 2122 2214 3454 2039 2000 3058 1012 5951 8573 3818 1037 2423 1011 9358 6263 11897 1010 2067 1999 1996 2690 26313 1025 3938 3867 1997 1996 10643 102\n"
     ]
    },
    {
     "name": "stderr",
     "output_type": "stream",
     "text": [
      "I0620 08:43:38.325556 139737458554624 tf_logging.py:115] input_ids: 101 2043 1037 2576 2283 4494 1010 1999 4437 1010 5818 3867 2114 1996 2423 1011 9358 6263 11897 1010 1045 2113 2054 1996 2283 4832 2005 1025 1998 2043 2008 2168 2576 2283 1999 3624 4494 1999 1996 2160 1997 4505 5594 3867 2114 1002 1015 1012 2423 6263 11897 1999 3624 1010 1045 2113 1996 3951 2283 4832 2073 2009 2038 2467 102 2009 2003 2256 3853 1010 2174 1010 2025 2000 6414 1999 6767 3489 1996 3415 1997 5951 8573 1998 4302 15237 1010 2025 2000 6414 2444 2125 2054 2027 2106 1010 2021 2000 3288 2122 2214 3454 2039 2000 3058 1012 5951 8573 3818 1037 2423 1011 9358 6263 11897 1010 2067 1999 1996 2690 26313 1025 3938 3867 1997 1996 10643 102\n"
     ]
    },
    {
     "name": "stdout",
     "output_type": "stream",
     "text": [
      "INFO:tensorflow:input_mask: 1 1 1 1 1 1 1 1 1 1 1 1 1 1 1 1 1 1 1 1 1 1 1 1 1 1 1 1 1 1 1 1 1 1 1 1 1 1 1 1 1 1 1 1 1 1 1 1 1 1 1 1 1 1 1 1 1 1 1 1 1 1 1 1 1 1 1 1 1 1 1 1 1 1 1 1 1 1 1 1 1 1 1 1 1 1 1 1 1 1 1 1 1 1 1 1 1 1 1 1 1 1 1 1 1 1 1 1 1 1 1 1 1 1 1 1 1 1 1 1 1 1 1 1 1 1 1 1\n"
     ]
    },
    {
     "name": "stderr",
     "output_type": "stream",
     "text": [
      "I0620 08:43:38.326119 139737458554624 tf_logging.py:115] input_mask: 1 1 1 1 1 1 1 1 1 1 1 1 1 1 1 1 1 1 1 1 1 1 1 1 1 1 1 1 1 1 1 1 1 1 1 1 1 1 1 1 1 1 1 1 1 1 1 1 1 1 1 1 1 1 1 1 1 1 1 1 1 1 1 1 1 1 1 1 1 1 1 1 1 1 1 1 1 1 1 1 1 1 1 1 1 1 1 1 1 1 1 1 1 1 1 1 1 1 1 1 1 1 1 1 1 1 1 1 1 1 1 1 1 1 1 1 1 1 1 1 1 1 1 1 1 1 1 1\n"
     ]
    },
    {
     "name": "stdout",
     "output_type": "stream",
     "text": [
      "INFO:tensorflow:segment_ids: 0 0 0 0 0 0 0 0 0 0 0 0 0 0 0 0 0 0 0 0 0 0 0 0 0 0 0 0 0 0 0 0 0 0 0 0 0 0 0 0 0 0 0 0 0 0 0 0 0 0 0 0 0 0 0 0 0 0 0 0 0 0 0 0 0 1 1 1 1 1 1 1 1 1 1 1 1 1 1 1 1 1 1 1 1 1 1 1 1 1 1 1 1 1 1 1 1 1 1 1 1 1 1 1 1 1 1 1 1 1 1 1 1 1 1 1 1 1 1 1 1 1 1 1 1 1 1 1\n"
     ]
    },
    {
     "name": "stderr",
     "output_type": "stream",
     "text": [
      "I0620 08:43:38.326871 139737458554624 tf_logging.py:115] segment_ids: 0 0 0 0 0 0 0 0 0 0 0 0 0 0 0 0 0 0 0 0 0 0 0 0 0 0 0 0 0 0 0 0 0 0 0 0 0 0 0 0 0 0 0 0 0 0 0 0 0 0 0 0 0 0 0 0 0 0 0 0 0 0 0 0 0 1 1 1 1 1 1 1 1 1 1 1 1 1 1 1 1 1 1 1 1 1 1 1 1 1 1 1 1 1 1 1 1 1 1 1 1 1 1 1 1 1 1 1 1 1 1 1 1 1 1 1 1 1 1 1 1 1 1 1 1 1 1 1\n"
     ]
    },
    {
     "name": "stdout",
     "output_type": "stream",
     "text": [
      "INFO:tensorflow:label: 0 (id = 0)\n"
     ]
    },
    {
     "name": "stderr",
     "output_type": "stream",
     "text": [
      "I0620 08:43:38.327712 139737458554624 tf_logging.py:115] label: 0 (id = 0)\n"
     ]
    },
    {
     "name": "stdout",
     "output_type": "stream",
     "text": [
      "INFO:tensorflow:Writing example 0 of 146\n"
     ]
    },
    {
     "name": "stderr",
     "output_type": "stream",
     "text": [
      "I0620 08:43:41.056502 139737458554624 tf_logging.py:115] Writing example 0 of 146\n"
     ]
    },
    {
     "name": "stdout",
     "output_type": "stream",
     "text": [
      "INFO:tensorflow:*** Example ***\n"
     ]
    },
    {
     "name": "stderr",
     "output_type": "stream",
     "text": [
      "I0620 08:43:41.059300 139737458554624 tf_logging.py:115] *** Example ***\n"
     ]
    },
    {
     "name": "stdout",
     "output_type": "stream",
     "text": [
      "INFO:tensorflow:guid: None\n"
     ]
    },
    {
     "name": "stderr",
     "output_type": "stream",
     "text": [
      "I0620 08:43:41.060292 139737458554624 tf_logging.py:115] guid: None\n"
     ]
    },
    {
     "name": "stdout",
     "output_type": "stream",
     "text": [
      "INFO:tensorflow:tokens: [CLS] what are most families to do ? they are concerned about the growing missile gap - but they are equally concerned about the growing gap between what they earn and what they have to spend . for example : the cost of medical care , drugs , and hospital bills have become too high for their aged parents to pay . as devoted sons and daughters , they can hardly ask their parents to [SEP] hospitals ? we have built more hospitals in this 7 years than in the preceding 7 years . health ? we find generally the standards of health care have been improved more in this 7 years than in the preceding 7 years . highways ? you know the record there . [SEP]\n"
     ]
    },
    {
     "name": "stderr",
     "output_type": "stream",
     "text": [
      "I0620 08:43:41.061331 139737458554624 tf_logging.py:115] tokens: [CLS] what are most families to do ? they are concerned about the growing missile gap - but they are equally concerned about the growing gap between what they earn and what they have to spend . for example : the cost of medical care , drugs , and hospital bills have become too high for their aged parents to pay . as devoted sons and daughters , they can hardly ask their parents to [SEP] hospitals ? we have built more hospitals in this 7 years than in the preceding 7 years . health ? we find generally the standards of health care have been improved more in this 7 years than in the preceding 7 years . highways ? you know the record there . [SEP]\n"
     ]
    },
    {
     "name": "stdout",
     "output_type": "stream",
     "text": [
      "INFO:tensorflow:input_ids: 101 2054 2024 2087 2945 2000 2079 1029 2027 2024 4986 2055 1996 3652 7421 6578 1011 2021 2027 2024 8053 4986 2055 1996 3652 6578 2090 2054 2027 7796 1998 2054 2027 2031 2000 5247 1012 2005 2742 1024 1996 3465 1997 2966 2729 1010 5850 1010 1998 2902 8236 2031 2468 2205 2152 2005 2037 4793 3008 2000 3477 1012 2004 7422 4124 1998 5727 1010 2027 2064 6684 3198 2037 3008 2000 102 8323 1029 2057 2031 2328 2062 8323 1999 2023 1021 2086 2084 1999 1996 11003 1021 2086 1012 2740 1029 2057 2424 3227 1996 4781 1997 2740 2729 2031 2042 5301 2062 1999 2023 1021 2086 2084 1999 1996 11003 1021 2086 1012 10292 1029 2017 2113 1996 2501 2045 1012 102\n"
     ]
    },
    {
     "name": "stderr",
     "output_type": "stream",
     "text": [
      "I0620 08:43:41.062739 139737458554624 tf_logging.py:115] input_ids: 101 2054 2024 2087 2945 2000 2079 1029 2027 2024 4986 2055 1996 3652 7421 6578 1011 2021 2027 2024 8053 4986 2055 1996 3652 6578 2090 2054 2027 7796 1998 2054 2027 2031 2000 5247 1012 2005 2742 1024 1996 3465 1997 2966 2729 1010 5850 1010 1998 2902 8236 2031 2468 2205 2152 2005 2037 4793 3008 2000 3477 1012 2004 7422 4124 1998 5727 1010 2027 2064 6684 3198 2037 3008 2000 102 8323 1029 2057 2031 2328 2062 8323 1999 2023 1021 2086 2084 1999 1996 11003 1021 2086 1012 2740 1029 2057 2424 3227 1996 4781 1997 2740 2729 2031 2042 5301 2062 1999 2023 1021 2086 2084 1999 1996 11003 1021 2086 1012 10292 1029 2017 2113 1996 2501 2045 1012 102\n"
     ]
    },
    {
     "name": "stdout",
     "output_type": "stream",
     "text": [
      "INFO:tensorflow:input_mask: 1 1 1 1 1 1 1 1 1 1 1 1 1 1 1 1 1 1 1 1 1 1 1 1 1 1 1 1 1 1 1 1 1 1 1 1 1 1 1 1 1 1 1 1 1 1 1 1 1 1 1 1 1 1 1 1 1 1 1 1 1 1 1 1 1 1 1 1 1 1 1 1 1 1 1 1 1 1 1 1 1 1 1 1 1 1 1 1 1 1 1 1 1 1 1 1 1 1 1 1 1 1 1 1 1 1 1 1 1 1 1 1 1 1 1 1 1 1 1 1 1 1 1 1 1 1 1 1\n"
     ]
    },
    {
     "name": "stderr",
     "output_type": "stream",
     "text": [
      "I0620 08:43:41.063961 139737458554624 tf_logging.py:115] input_mask: 1 1 1 1 1 1 1 1 1 1 1 1 1 1 1 1 1 1 1 1 1 1 1 1 1 1 1 1 1 1 1 1 1 1 1 1 1 1 1 1 1 1 1 1 1 1 1 1 1 1 1 1 1 1 1 1 1 1 1 1 1 1 1 1 1 1 1 1 1 1 1 1 1 1 1 1 1 1 1 1 1 1 1 1 1 1 1 1 1 1 1 1 1 1 1 1 1 1 1 1 1 1 1 1 1 1 1 1 1 1 1 1 1 1 1 1 1 1 1 1 1 1 1 1 1 1 1 1\n"
     ]
    },
    {
     "name": "stdout",
     "output_type": "stream",
     "text": [
      "INFO:tensorflow:segment_ids: 0 0 0 0 0 0 0 0 0 0 0 0 0 0 0 0 0 0 0 0 0 0 0 0 0 0 0 0 0 0 0 0 0 0 0 0 0 0 0 0 0 0 0 0 0 0 0 0 0 0 0 0 0 0 0 0 0 0 0 0 0 0 0 0 0 0 0 0 0 0 0 0 0 0 0 0 1 1 1 1 1 1 1 1 1 1 1 1 1 1 1 1 1 1 1 1 1 1 1 1 1 1 1 1 1 1 1 1 1 1 1 1 1 1 1 1 1 1 1 1 1 1 1 1 1 1 1 1\n"
     ]
    },
    {
     "name": "stderr",
     "output_type": "stream",
     "text": [
      "I0620 08:43:41.064772 139737458554624 tf_logging.py:115] segment_ids: 0 0 0 0 0 0 0 0 0 0 0 0 0 0 0 0 0 0 0 0 0 0 0 0 0 0 0 0 0 0 0 0 0 0 0 0 0 0 0 0 0 0 0 0 0 0 0 0 0 0 0 0 0 0 0 0 0 0 0 0 0 0 0 0 0 0 0 0 0 0 0 0 0 0 0 0 1 1 1 1 1 1 1 1 1 1 1 1 1 1 1 1 1 1 1 1 1 1 1 1 1 1 1 1 1 1 1 1 1 1 1 1 1 1 1 1 1 1 1 1 1 1 1 1 1 1 1 1\n"
     ]
    },
    {
     "name": "stdout",
     "output_type": "stream",
     "text": [
      "INFO:tensorflow:label: 1 (id = 1)\n"
     ]
    },
    {
     "name": "stderr",
     "output_type": "stream",
     "text": [
      "I0620 08:43:41.065912 139737458554624 tf_logging.py:115] label: 1 (id = 1)\n"
     ]
    },
    {
     "name": "stdout",
     "output_type": "stream",
     "text": [
      "INFO:tensorflow:*** Example ***\n"
     ]
    },
    {
     "name": "stderr",
     "output_type": "stream",
     "text": [
      "I0620 08:43:41.069796 139737458554624 tf_logging.py:115] *** Example ***\n"
     ]
    },
    {
     "name": "stdout",
     "output_type": "stream",
     "text": [
      "INFO:tensorflow:guid: None\n"
     ]
    },
    {
     "name": "stderr",
     "output_type": "stream",
     "text": [
      "I0620 08:43:41.070743 139737458554624 tf_logging.py:115] guid: None\n"
     ]
    },
    {
     "name": "stdout",
     "output_type": "stream",
     "text": [
      "INFO:tensorflow:tokens: [CLS] the administration ' s position is in between . we would extend coverage to approximately 3 million not presently covered , and the coverage which we would extend is to those particular businesses which operate interstate and which have larger gross incomes and , therefore , businesses that we think could , therefore , pay the minimum wage , not resulting in unemployment [SEP] the point is that we pay for that . every time the president veto ##es a housing bill , every time a republican member votes against the $ 1 . 25 minimum wage , every time we are unable to get any support on our bill to tie medical care for the aged to social security , it is not the congress [SEP]\n"
     ]
    },
    {
     "name": "stderr",
     "output_type": "stream",
     "text": [
      "I0620 08:43:41.071497 139737458554624 tf_logging.py:115] tokens: [CLS] the administration ' s position is in between . we would extend coverage to approximately 3 million not presently covered , and the coverage which we would extend is to those particular businesses which operate interstate and which have larger gross incomes and , therefore , businesses that we think could , therefore , pay the minimum wage , not resulting in unemployment [SEP] the point is that we pay for that . every time the president veto ##es a housing bill , every time a republican member votes against the $ 1 . 25 minimum wage , every time we are unable to get any support on our bill to tie medical care for the aged to social security , it is not the congress [SEP]\n"
     ]
    },
    {
     "name": "stdout",
     "output_type": "stream",
     "text": [
      "INFO:tensorflow:input_ids: 101 1996 3447 1005 1055 2597 2003 1999 2090 1012 2057 2052 7949 6325 2000 3155 1017 2454 2025 12825 3139 1010 1998 1996 6325 2029 2057 2052 7949 2003 2000 2216 3327 5661 2029 5452 7553 1998 2029 2031 3469 7977 29373 1998 1010 3568 1010 5661 2008 2057 2228 2071 1010 3568 1010 3477 1996 6263 11897 1010 2025 4525 1999 12163 102 1996 2391 2003 2008 2057 3477 2005 2008 1012 2296 2051 1996 2343 22102 2229 1037 3847 3021 1010 2296 2051 1037 3951 2266 4494 2114 1996 1002 1015 1012 2423 6263 11897 1010 2296 2051 2057 2024 4039 2000 2131 2151 2490 2006 2256 3021 2000 5495 2966 2729 2005 1996 4793 2000 2591 3036 1010 2009 2003 2025 1996 3519 102\n"
     ]
    },
    {
     "name": "stderr",
     "output_type": "stream",
     "text": [
      "I0620 08:43:41.072160 139737458554624 tf_logging.py:115] input_ids: 101 1996 3447 1005 1055 2597 2003 1999 2090 1012 2057 2052 7949 6325 2000 3155 1017 2454 2025 12825 3139 1010 1998 1996 6325 2029 2057 2052 7949 2003 2000 2216 3327 5661 2029 5452 7553 1998 2029 2031 3469 7977 29373 1998 1010 3568 1010 5661 2008 2057 2228 2071 1010 3568 1010 3477 1996 6263 11897 1010 2025 4525 1999 12163 102 1996 2391 2003 2008 2057 3477 2005 2008 1012 2296 2051 1996 2343 22102 2229 1037 3847 3021 1010 2296 2051 1037 3951 2266 4494 2114 1996 1002 1015 1012 2423 6263 11897 1010 2296 2051 2057 2024 4039 2000 2131 2151 2490 2006 2256 3021 2000 5495 2966 2729 2005 1996 4793 2000 2591 3036 1010 2009 2003 2025 1996 3519 102\n"
     ]
    },
    {
     "name": "stdout",
     "output_type": "stream",
     "text": [
      "INFO:tensorflow:input_mask: 1 1 1 1 1 1 1 1 1 1 1 1 1 1 1 1 1 1 1 1 1 1 1 1 1 1 1 1 1 1 1 1 1 1 1 1 1 1 1 1 1 1 1 1 1 1 1 1 1 1 1 1 1 1 1 1 1 1 1 1 1 1 1 1 1 1 1 1 1 1 1 1 1 1 1 1 1 1 1 1 1 1 1 1 1 1 1 1 1 1 1 1 1 1 1 1 1 1 1 1 1 1 1 1 1 1 1 1 1 1 1 1 1 1 1 1 1 1 1 1 1 1 1 1 1 1 1 1\n"
     ]
    },
    {
     "name": "stderr",
     "output_type": "stream",
     "text": [
      "I0620 08:43:41.072775 139737458554624 tf_logging.py:115] input_mask: 1 1 1 1 1 1 1 1 1 1 1 1 1 1 1 1 1 1 1 1 1 1 1 1 1 1 1 1 1 1 1 1 1 1 1 1 1 1 1 1 1 1 1 1 1 1 1 1 1 1 1 1 1 1 1 1 1 1 1 1 1 1 1 1 1 1 1 1 1 1 1 1 1 1 1 1 1 1 1 1 1 1 1 1 1 1 1 1 1 1 1 1 1 1 1 1 1 1 1 1 1 1 1 1 1 1 1 1 1 1 1 1 1 1 1 1 1 1 1 1 1 1 1 1 1 1 1 1\n"
     ]
    },
    {
     "name": "stdout",
     "output_type": "stream",
     "text": [
      "INFO:tensorflow:segment_ids: 0 0 0 0 0 0 0 0 0 0 0 0 0 0 0 0 0 0 0 0 0 0 0 0 0 0 0 0 0 0 0 0 0 0 0 0 0 0 0 0 0 0 0 0 0 0 0 0 0 0 0 0 0 0 0 0 0 0 0 0 0 0 0 0 0 1 1 1 1 1 1 1 1 1 1 1 1 1 1 1 1 1 1 1 1 1 1 1 1 1 1 1 1 1 1 1 1 1 1 1 1 1 1 1 1 1 1 1 1 1 1 1 1 1 1 1 1 1 1 1 1 1 1 1 1 1 1 1\n"
     ]
    },
    {
     "name": "stderr",
     "output_type": "stream",
     "text": [
      "I0620 08:43:41.073384 139737458554624 tf_logging.py:115] segment_ids: 0 0 0 0 0 0 0 0 0 0 0 0 0 0 0 0 0 0 0 0 0 0 0 0 0 0 0 0 0 0 0 0 0 0 0 0 0 0 0 0 0 0 0 0 0 0 0 0 0 0 0 0 0 0 0 0 0 0 0 0 0 0 0 0 0 1 1 1 1 1 1 1 1 1 1 1 1 1 1 1 1 1 1 1 1 1 1 1 1 1 1 1 1 1 1 1 1 1 1 1 1 1 1 1 1 1 1 1 1 1 1 1 1 1 1 1 1 1 1 1 1 1 1 1 1 1 1 1\n"
     ]
    },
    {
     "name": "stdout",
     "output_type": "stream",
     "text": [
      "INFO:tensorflow:label: 1 (id = 1)\n"
     ]
    },
    {
     "name": "stderr",
     "output_type": "stream",
     "text": [
      "I0620 08:43:41.075686 139737458554624 tf_logging.py:115] label: 1 (id = 1)\n"
     ]
    },
    {
     "name": "stdout",
     "output_type": "stream",
     "text": [
      "INFO:tensorflow:*** Example ***\n"
     ]
    },
    {
     "name": "stderr",
     "output_type": "stream",
     "text": [
      "I0620 08:43:41.079225 139737458554624 tf_logging.py:115] *** Example ***\n"
     ]
    },
    {
     "name": "stdout",
     "output_type": "stream",
     "text": [
      "INFO:tensorflow:guid: None\n"
     ]
    },
    {
     "name": "stderr",
     "output_type": "stream",
     "text": [
      "I0620 08:43:41.080095 139737458554624 tf_logging.py:115] guid: None\n"
     ]
    },
    {
     "name": "stdout",
     "output_type": "stream",
     "text": [
      "INFO:tensorflow:tokens: [CLS] it is impossible for us to provide for the di ##sar ##mament of outer space , the di ##sar ##mament of nuclear weapons , unless we are in a position of par ##ity with the soviet union . this administration has less than 100 people working in the entire federal government on the subject of di ##sar ##mament . i think we can [SEP] no home was safe and there was no freedom of religious worship . mr . k ##hr ##ush ##chev is in our country now , as he was a year ago , confident that all is going his way , smug in his recent successes , and pious ##ly talking about peace , colonial ##ism , and di ##sar ##mament . but [SEP]\n"
     ]
    },
    {
     "name": "stderr",
     "output_type": "stream",
     "text": [
      "I0620 08:43:41.080734 139737458554624 tf_logging.py:115] tokens: [CLS] it is impossible for us to provide for the di ##sar ##mament of outer space , the di ##sar ##mament of nuclear weapons , unless we are in a position of par ##ity with the soviet union . this administration has less than 100 people working in the entire federal government on the subject of di ##sar ##mament . i think we can [SEP] no home was safe and there was no freedom of religious worship . mr . k ##hr ##ush ##chev is in our country now , as he was a year ago , confident that all is going his way , smug in his recent successes , and pious ##ly talking about peace , colonial ##ism , and di ##sar ##mament . but [SEP]\n"
     ]
    },
    {
     "name": "stdout",
     "output_type": "stream",
     "text": [
      "INFO:tensorflow:input_ids: 101 2009 2003 5263 2005 2149 2000 3073 2005 1996 4487 10286 28119 1997 6058 2686 1010 1996 4487 10286 28119 1997 4517 4255 1010 4983 2057 2024 1999 1037 2597 1997 11968 3012 2007 1996 3354 2586 1012 2023 3447 2038 2625 2084 2531 2111 2551 1999 1996 2972 2976 2231 2006 1996 3395 1997 4487 10286 28119 1012 1045 2228 2057 2064 102 2053 2188 2001 3647 1998 2045 2001 2053 4071 1997 3412 7425 1012 2720 1012 1047 8093 20668 16179 2003 1999 2256 2406 2085 1010 2004 2002 2001 1037 2095 3283 1010 9657 2008 2035 2003 2183 2010 2126 1010 20673 1999 2010 3522 14152 1010 1998 25020 2135 3331 2055 3521 1010 5336 2964 1010 1998 4487 10286 28119 1012 2021 102\n"
     ]
    },
    {
     "name": "stderr",
     "output_type": "stream",
     "text": [
      "I0620 08:43:41.081290 139737458554624 tf_logging.py:115] input_ids: 101 2009 2003 5263 2005 2149 2000 3073 2005 1996 4487 10286 28119 1997 6058 2686 1010 1996 4487 10286 28119 1997 4517 4255 1010 4983 2057 2024 1999 1037 2597 1997 11968 3012 2007 1996 3354 2586 1012 2023 3447 2038 2625 2084 2531 2111 2551 1999 1996 2972 2976 2231 2006 1996 3395 1997 4487 10286 28119 1012 1045 2228 2057 2064 102 2053 2188 2001 3647 1998 2045 2001 2053 4071 1997 3412 7425 1012 2720 1012 1047 8093 20668 16179 2003 1999 2256 2406 2085 1010 2004 2002 2001 1037 2095 3283 1010 9657 2008 2035 2003 2183 2010 2126 1010 20673 1999 2010 3522 14152 1010 1998 25020 2135 3331 2055 3521 1010 5336 2964 1010 1998 4487 10286 28119 1012 2021 102\n"
     ]
    },
    {
     "name": "stdout",
     "output_type": "stream",
     "text": [
      "INFO:tensorflow:input_mask: 1 1 1 1 1 1 1 1 1 1 1 1 1 1 1 1 1 1 1 1 1 1 1 1 1 1 1 1 1 1 1 1 1 1 1 1 1 1 1 1 1 1 1 1 1 1 1 1 1 1 1 1 1 1 1 1 1 1 1 1 1 1 1 1 1 1 1 1 1 1 1 1 1 1 1 1 1 1 1 1 1 1 1 1 1 1 1 1 1 1 1 1 1 1 1 1 1 1 1 1 1 1 1 1 1 1 1 1 1 1 1 1 1 1 1 1 1 1 1 1 1 1 1 1 1 1 1 1\n"
     ]
    },
    {
     "name": "stderr",
     "output_type": "stream",
     "text": [
      "I0620 08:43:41.081852 139737458554624 tf_logging.py:115] input_mask: 1 1 1 1 1 1 1 1 1 1 1 1 1 1 1 1 1 1 1 1 1 1 1 1 1 1 1 1 1 1 1 1 1 1 1 1 1 1 1 1 1 1 1 1 1 1 1 1 1 1 1 1 1 1 1 1 1 1 1 1 1 1 1 1 1 1 1 1 1 1 1 1 1 1 1 1 1 1 1 1 1 1 1 1 1 1 1 1 1 1 1 1 1 1 1 1 1 1 1 1 1 1 1 1 1 1 1 1 1 1 1 1 1 1 1 1 1 1 1 1 1 1 1 1 1 1 1 1\n"
     ]
    },
    {
     "name": "stdout",
     "output_type": "stream",
     "text": [
      "INFO:tensorflow:segment_ids: 0 0 0 0 0 0 0 0 0 0 0 0 0 0 0 0 0 0 0 0 0 0 0 0 0 0 0 0 0 0 0 0 0 0 0 0 0 0 0 0 0 0 0 0 0 0 0 0 0 0 0 0 0 0 0 0 0 0 0 0 0 0 0 0 0 1 1 1 1 1 1 1 1 1 1 1 1 1 1 1 1 1 1 1 1 1 1 1 1 1 1 1 1 1 1 1 1 1 1 1 1 1 1 1 1 1 1 1 1 1 1 1 1 1 1 1 1 1 1 1 1 1 1 1 1 1 1 1\n"
     ]
    },
    {
     "name": "stderr",
     "output_type": "stream",
     "text": [
      "I0620 08:43:41.082365 139737458554624 tf_logging.py:115] segment_ids: 0 0 0 0 0 0 0 0 0 0 0 0 0 0 0 0 0 0 0 0 0 0 0 0 0 0 0 0 0 0 0 0 0 0 0 0 0 0 0 0 0 0 0 0 0 0 0 0 0 0 0 0 0 0 0 0 0 0 0 0 0 0 0 0 0 1 1 1 1 1 1 1 1 1 1 1 1 1 1 1 1 1 1 1 1 1 1 1 1 1 1 1 1 1 1 1 1 1 1 1 1 1 1 1 1 1 1 1 1 1 1 1 1 1 1 1 1 1 1 1 1 1 1 1 1 1 1 1\n"
     ]
    },
    {
     "name": "stdout",
     "output_type": "stream",
     "text": [
      "INFO:tensorflow:label: 1 (id = 1)\n"
     ]
    },
    {
     "name": "stderr",
     "output_type": "stream",
     "text": [
      "I0620 08:43:41.082824 139737458554624 tf_logging.py:115] label: 1 (id = 1)\n"
     ]
    },
    {
     "name": "stdout",
     "output_type": "stream",
     "text": [
      "INFO:tensorflow:*** Example ***\n"
     ]
    },
    {
     "name": "stderr",
     "output_type": "stream",
     "text": [
      "I0620 08:43:41.085333 139737458554624 tf_logging.py:115] *** Example ***\n"
     ]
    },
    {
     "name": "stdout",
     "output_type": "stream",
     "text": [
      "INFO:tensorflow:guid: None\n"
     ]
    },
    {
     "name": "stderr",
     "output_type": "stream",
     "text": [
      "I0620 08:43:41.086075 139737458554624 tf_logging.py:115] guid: None\n"
     ]
    },
    {
     "name": "stdout",
     "output_type": "stream",
     "text": [
      "INFO:tensorflow:tokens: [CLS] they feel we were correct , i think , the majority of them , in acting as we did with regard to the sugar , the taking away of special consideration that we had with regard to sugar . they thought that was justified in view of the cuban government ' s ex ##pro ##pr ##iation of much of our property , but [SEP] that is the great force working for us . the seed it planted and ultimately is going to re ##ap the harvest the desire of people to be independent whether they live in congo or cuba or russia or poland or east germany . sooner or later the basic desire to run their own affairs , to be free men and women [SEP]\n"
     ]
    },
    {
     "name": "stderr",
     "output_type": "stream",
     "text": [
      "I0620 08:43:41.086889 139737458554624 tf_logging.py:115] tokens: [CLS] they feel we were correct , i think , the majority of them , in acting as we did with regard to the sugar , the taking away of special consideration that we had with regard to sugar . they thought that was justified in view of the cuban government ' s ex ##pro ##pr ##iation of much of our property , but [SEP] that is the great force working for us . the seed it planted and ultimately is going to re ##ap the harvest the desire of people to be independent whether they live in congo or cuba or russia or poland or east germany . sooner or later the basic desire to run their own affairs , to be free men and women [SEP]\n"
     ]
    },
    {
     "name": "stdout",
     "output_type": "stream",
     "text": [
      "INFO:tensorflow:input_ids: 101 2027 2514 2057 2020 6149 1010 1045 2228 1010 1996 3484 1997 2068 1010 1999 3772 2004 2057 2106 2007 7634 2000 1996 5699 1010 1996 2635 2185 1997 2569 9584 2008 2057 2018 2007 7634 2000 5699 1012 2027 2245 2008 2001 15123 1999 3193 1997 1996 9642 2231 1005 1055 4654 21572 18098 18963 1997 2172 1997 2256 3200 1010 2021 102 2008 2003 1996 2307 2486 2551 2005 2149 1012 1996 6534 2009 8461 1998 4821 2003 2183 2000 2128 9331 1996 11203 1996 4792 1997 2111 2000 2022 2981 3251 2027 2444 1999 9030 2030 7394 2030 3607 2030 3735 2030 2264 2762 1012 10076 2030 2101 1996 3937 4792 2000 2448 2037 2219 3821 1010 2000 2022 2489 2273 1998 2308 102\n"
     ]
    },
    {
     "name": "stderr",
     "output_type": "stream",
     "text": [
      "I0620 08:43:41.087601 139737458554624 tf_logging.py:115] input_ids: 101 2027 2514 2057 2020 6149 1010 1045 2228 1010 1996 3484 1997 2068 1010 1999 3772 2004 2057 2106 2007 7634 2000 1996 5699 1010 1996 2635 2185 1997 2569 9584 2008 2057 2018 2007 7634 2000 5699 1012 2027 2245 2008 2001 15123 1999 3193 1997 1996 9642 2231 1005 1055 4654 21572 18098 18963 1997 2172 1997 2256 3200 1010 2021 102 2008 2003 1996 2307 2486 2551 2005 2149 1012 1996 6534 2009 8461 1998 4821 2003 2183 2000 2128 9331 1996 11203 1996 4792 1997 2111 2000 2022 2981 3251 2027 2444 1999 9030 2030 7394 2030 3607 2030 3735 2030 2264 2762 1012 10076 2030 2101 1996 3937 4792 2000 2448 2037 2219 3821 1010 2000 2022 2489 2273 1998 2308 102\n"
     ]
    },
    {
     "name": "stdout",
     "output_type": "stream",
     "text": [
      "INFO:tensorflow:input_mask: 1 1 1 1 1 1 1 1 1 1 1 1 1 1 1 1 1 1 1 1 1 1 1 1 1 1 1 1 1 1 1 1 1 1 1 1 1 1 1 1 1 1 1 1 1 1 1 1 1 1 1 1 1 1 1 1 1 1 1 1 1 1 1 1 1 1 1 1 1 1 1 1 1 1 1 1 1 1 1 1 1 1 1 1 1 1 1 1 1 1 1 1 1 1 1 1 1 1 1 1 1 1 1 1 1 1 1 1 1 1 1 1 1 1 1 1 1 1 1 1 1 1 1 1 1 1 1 1\n"
     ]
    },
    {
     "name": "stderr",
     "output_type": "stream",
     "text": [
      "I0620 08:43:41.088351 139737458554624 tf_logging.py:115] input_mask: 1 1 1 1 1 1 1 1 1 1 1 1 1 1 1 1 1 1 1 1 1 1 1 1 1 1 1 1 1 1 1 1 1 1 1 1 1 1 1 1 1 1 1 1 1 1 1 1 1 1 1 1 1 1 1 1 1 1 1 1 1 1 1 1 1 1 1 1 1 1 1 1 1 1 1 1 1 1 1 1 1 1 1 1 1 1 1 1 1 1 1 1 1 1 1 1 1 1 1 1 1 1 1 1 1 1 1 1 1 1 1 1 1 1 1 1 1 1 1 1 1 1 1 1 1 1 1 1\n"
     ]
    },
    {
     "name": "stdout",
     "output_type": "stream",
     "text": [
      "INFO:tensorflow:segment_ids: 0 0 0 0 0 0 0 0 0 0 0 0 0 0 0 0 0 0 0 0 0 0 0 0 0 0 0 0 0 0 0 0 0 0 0 0 0 0 0 0 0 0 0 0 0 0 0 0 0 0 0 0 0 0 0 0 0 0 0 0 0 0 0 0 0 1 1 1 1 1 1 1 1 1 1 1 1 1 1 1 1 1 1 1 1 1 1 1 1 1 1 1 1 1 1 1 1 1 1 1 1 1 1 1 1 1 1 1 1 1 1 1 1 1 1 1 1 1 1 1 1 1 1 1 1 1 1 1\n"
     ]
    },
    {
     "name": "stderr",
     "output_type": "stream",
     "text": [
      "I0620 08:43:41.089039 139737458554624 tf_logging.py:115] segment_ids: 0 0 0 0 0 0 0 0 0 0 0 0 0 0 0 0 0 0 0 0 0 0 0 0 0 0 0 0 0 0 0 0 0 0 0 0 0 0 0 0 0 0 0 0 0 0 0 0 0 0 0 0 0 0 0 0 0 0 0 0 0 0 0 0 0 1 1 1 1 1 1 1 1 1 1 1 1 1 1 1 1 1 1 1 1 1 1 1 1 1 1 1 1 1 1 1 1 1 1 1 1 1 1 1 1 1 1 1 1 1 1 1 1 1 1 1 1 1 1 1 1 1 1 1 1 1 1 1\n"
     ]
    },
    {
     "name": "stdout",
     "output_type": "stream",
     "text": [
      "INFO:tensorflow:label: 1 (id = 1)\n"
     ]
    },
    {
     "name": "stderr",
     "output_type": "stream",
     "text": [
      "I0620 08:43:41.089644 139737458554624 tf_logging.py:115] label: 1 (id = 1)\n"
     ]
    },
    {
     "name": "stdout",
     "output_type": "stream",
     "text": [
      "INFO:tensorflow:*** Example ***\n"
     ]
    },
    {
     "name": "stderr",
     "output_type": "stream",
     "text": [
      "I0620 08:43:41.092408 139737458554624 tf_logging.py:115] *** Example ***\n"
     ]
    },
    {
     "name": "stdout",
     "output_type": "stream",
     "text": [
      "INFO:tensorflow:guid: None\n"
     ]
    },
    {
     "name": "stderr",
     "output_type": "stream",
     "text": [
      "I0620 08:43:41.093335 139737458554624 tf_logging.py:115] guid: None\n"
     ]
    },
    {
     "name": "stdout",
     "output_type": "stream",
     "text": [
      "INFO:tensorflow:tokens: [CLS] i see him , ruthless , tough , completely a man dedicated to one purpose only - the evil purpose of conquer ##ing the world , and this is what i know . if america ever makes the mistake of entering into a di ##sar ##mament agreement , which he does not also keep with inspection , it will increase the danger of [SEP] they want to go eisenhower ' s way - and that ' s our way , and that ' s the way we ' re going . now , the last point that i make is one that i make particularly because i know of the great concern the people in these university communities have for the cause of di ##sar ##mament [SEP]\n"
     ]
    },
    {
     "name": "stderr",
     "output_type": "stream",
     "text": [
      "I0620 08:43:41.099296 139737458554624 tf_logging.py:115] tokens: [CLS] i see him , ruthless , tough , completely a man dedicated to one purpose only - the evil purpose of conquer ##ing the world , and this is what i know . if america ever makes the mistake of entering into a di ##sar ##mament agreement , which he does not also keep with inspection , it will increase the danger of [SEP] they want to go eisenhower ' s way - and that ' s our way , and that ' s the way we ' re going . now , the last point that i make is one that i make particularly because i know of the great concern the people in these university communities have for the cause of di ##sar ##mament [SEP]\n"
     ]
    },
    {
     "name": "stdout",
     "output_type": "stream",
     "text": [
      "INFO:tensorflow:input_ids: 101 1045 2156 2032 1010 18101 1010 7823 1010 3294 1037 2158 4056 2000 2028 3800 2069 1011 1996 4763 3800 1997 16152 2075 1996 2088 1010 1998 2023 2003 2054 1045 2113 1012 2065 2637 2412 3084 1996 6707 1997 5738 2046 1037 4487 10286 28119 3820 1010 2029 2002 2515 2025 2036 2562 2007 10569 1010 2009 2097 3623 1996 5473 1997 102 2027 2215 2000 2175 16551 1005 1055 2126 1011 1998 2008 1005 1055 2256 2126 1010 1998 2008 1005 1055 1996 2126 2057 1005 2128 2183 1012 2085 1010 1996 2197 2391 2008 1045 2191 2003 2028 2008 1045 2191 3391 2138 1045 2113 1997 1996 2307 5142 1996 2111 1999 2122 2118 4279 2031 2005 1996 3426 1997 4487 10286 28119 102\n"
     ]
    },
    {
     "name": "stderr",
     "output_type": "stream",
     "text": [
      "I0620 08:43:41.100159 139737458554624 tf_logging.py:115] input_ids: 101 1045 2156 2032 1010 18101 1010 7823 1010 3294 1037 2158 4056 2000 2028 3800 2069 1011 1996 4763 3800 1997 16152 2075 1996 2088 1010 1998 2023 2003 2054 1045 2113 1012 2065 2637 2412 3084 1996 6707 1997 5738 2046 1037 4487 10286 28119 3820 1010 2029 2002 2515 2025 2036 2562 2007 10569 1010 2009 2097 3623 1996 5473 1997 102 2027 2215 2000 2175 16551 1005 1055 2126 1011 1998 2008 1005 1055 2256 2126 1010 1998 2008 1005 1055 1996 2126 2057 1005 2128 2183 1012 2085 1010 1996 2197 2391 2008 1045 2191 2003 2028 2008 1045 2191 3391 2138 1045 2113 1997 1996 2307 5142 1996 2111 1999 2122 2118 4279 2031 2005 1996 3426 1997 4487 10286 28119 102\n"
     ]
    },
    {
     "name": "stdout",
     "output_type": "stream",
     "text": [
      "INFO:tensorflow:input_mask: 1 1 1 1 1 1 1 1 1 1 1 1 1 1 1 1 1 1 1 1 1 1 1 1 1 1 1 1 1 1 1 1 1 1 1 1 1 1 1 1 1 1 1 1 1 1 1 1 1 1 1 1 1 1 1 1 1 1 1 1 1 1 1 1 1 1 1 1 1 1 1 1 1 1 1 1 1 1 1 1 1 1 1 1 1 1 1 1 1 1 1 1 1 1 1 1 1 1 1 1 1 1 1 1 1 1 1 1 1 1 1 1 1 1 1 1 1 1 1 1 1 1 1 1 1 1 1 1\n"
     ]
    },
    {
     "name": "stderr",
     "output_type": "stream",
     "text": [
      "I0620 08:43:41.100718 139737458554624 tf_logging.py:115] input_mask: 1 1 1 1 1 1 1 1 1 1 1 1 1 1 1 1 1 1 1 1 1 1 1 1 1 1 1 1 1 1 1 1 1 1 1 1 1 1 1 1 1 1 1 1 1 1 1 1 1 1 1 1 1 1 1 1 1 1 1 1 1 1 1 1 1 1 1 1 1 1 1 1 1 1 1 1 1 1 1 1 1 1 1 1 1 1 1 1 1 1 1 1 1 1 1 1 1 1 1 1 1 1 1 1 1 1 1 1 1 1 1 1 1 1 1 1 1 1 1 1 1 1 1 1 1 1 1 1\n"
     ]
    },
    {
     "name": "stdout",
     "output_type": "stream",
     "text": [
      "INFO:tensorflow:segment_ids: 0 0 0 0 0 0 0 0 0 0 0 0 0 0 0 0 0 0 0 0 0 0 0 0 0 0 0 0 0 0 0 0 0 0 0 0 0 0 0 0 0 0 0 0 0 0 0 0 0 0 0 0 0 0 0 0 0 0 0 0 0 0 0 0 0 1 1 1 1 1 1 1 1 1 1 1 1 1 1 1 1 1 1 1 1 1 1 1 1 1 1 1 1 1 1 1 1 1 1 1 1 1 1 1 1 1 1 1 1 1 1 1 1 1 1 1 1 1 1 1 1 1 1 1 1 1 1 1\n"
     ]
    },
    {
     "name": "stderr",
     "output_type": "stream",
     "text": [
      "I0620 08:43:41.101286 139737458554624 tf_logging.py:115] segment_ids: 0 0 0 0 0 0 0 0 0 0 0 0 0 0 0 0 0 0 0 0 0 0 0 0 0 0 0 0 0 0 0 0 0 0 0 0 0 0 0 0 0 0 0 0 0 0 0 0 0 0 0 0 0 0 0 0 0 0 0 0 0 0 0 0 0 1 1 1 1 1 1 1 1 1 1 1 1 1 1 1 1 1 1 1 1 1 1 1 1 1 1 1 1 1 1 1 1 1 1 1 1 1 1 1 1 1 1 1 1 1 1 1 1 1 1 1 1 1 1 1 1 1 1 1 1 1 1 1\n"
     ]
    },
    {
     "name": "stdout",
     "output_type": "stream",
     "text": [
      "INFO:tensorflow:label: 1 (id = 1)\n"
     ]
    },
    {
     "name": "stderr",
     "output_type": "stream",
     "text": [
      "I0620 08:43:41.101846 139737458554624 tf_logging.py:115] label: 1 (id = 1)\n"
     ]
    },
    {
     "name": "stdout",
     "output_type": "stream",
     "text": [
      "Beginning Training!\n",
      "test labels 1    73\n",
      "0    73\n",
      "Name: label, dtype: int64\n",
      "train labels 0    658\n",
      "1    656\n",
      "Name: label, dtype: int64\n",
      "INFO:tensorflow:Using config: {'_model_dir': 'BERT_RUN2019-06-20 08:25:39.792798political', '_tf_random_seed': None, '_save_summary_steps': 100, '_save_checkpoints_steps': 5000, '_save_checkpoints_secs': None, '_session_config': allow_soft_placement: true\n",
      "graph_options {\n",
      "  rewrite_options {\n",
      "    meta_optimizer_iterations: ONE\n",
      "  }\n",
      "}\n",
      ", '_keep_checkpoint_max': 5, '_keep_checkpoint_every_n_hours': 10000, '_log_step_count_steps': 100, '_train_distribute': None, '_device_fn': None, '_protocol': None, '_eval_distribute': None, '_experimental_distribute': None, '_service': None, '_cluster_spec': <tensorflow.python.training.server_lib.ClusterSpec object at 0x7f134a34ae10>, '_task_type': 'worker', '_task_id': 0, '_global_id_in_cluster': 0, '_master': '', '_evaluation_master': '', '_is_chief': True, '_num_ps_replicas': 0, '_num_worker_replicas': 1}\n"
     ]
    },
    {
     "name": "stderr",
     "output_type": "stream",
     "text": [
      "I0620 08:43:41.427878 139737458554624 tf_logging.py:115] Using config: {'_model_dir': 'BERT_RUN2019-06-20 08:25:39.792798political', '_tf_random_seed': None, '_save_summary_steps': 100, '_save_checkpoints_steps': 5000, '_save_checkpoints_secs': None, '_session_config': allow_soft_placement: true\n",
      "graph_options {\n",
      "  rewrite_options {\n",
      "    meta_optimizer_iterations: ONE\n",
      "  }\n",
      "}\n",
      ", '_keep_checkpoint_max': 5, '_keep_checkpoint_every_n_hours': 10000, '_log_step_count_steps': 100, '_train_distribute': None, '_device_fn': None, '_protocol': None, '_eval_distribute': None, '_experimental_distribute': None, '_service': None, '_cluster_spec': <tensorflow.python.training.server_lib.ClusterSpec object at 0x7f134a34ae10>, '_task_type': 'worker', '_task_id': 0, '_global_id_in_cluster': 0, '_master': '', '_evaluation_master': '', '_is_chief': True, '_num_ps_replicas': 0, '_num_worker_replicas': 1}\n"
     ]
    },
    {
     "name": "stdout",
     "output_type": "stream",
     "text": [
      "INFO:tensorflow:Calling model_fn.\n"
     ]
    },
    {
     "name": "stderr",
     "output_type": "stream",
     "text": [
      "I0620 08:43:41.833267 139737458554624 tf_logging.py:115] Calling model_fn.\n"
     ]
    },
    {
     "name": "stdout",
     "output_type": "stream",
     "text": [
      "INFO:tensorflow:Saver not created because there are no variables in the graph to restore\n"
     ]
    },
    {
     "name": "stderr",
     "output_type": "stream",
     "text": [
      "I0620 08:43:43.971755 139737458554624 tf_logging.py:115] Saver not created because there are no variables in the graph to restore\n"
     ]
    },
    {
     "name": "stdout",
     "output_type": "stream",
     "text": [
      "INFO:tensorflow:Done calling model_fn.\n"
     ]
    },
    {
     "name": "stderr",
     "output_type": "stream",
     "text": [
      "I0620 08:43:49.628745 139737458554624 tf_logging.py:115] Done calling model_fn.\n"
     ]
    },
    {
     "name": "stdout",
     "output_type": "stream",
     "text": [
      "INFO:tensorflow:Create CheckpointSaverHook.\n"
     ]
    },
    {
     "name": "stderr",
     "output_type": "stream",
     "text": [
      "I0620 08:43:49.631363 139737458554624 tf_logging.py:115] Create CheckpointSaverHook.\n"
     ]
    },
    {
     "name": "stdout",
     "output_type": "stream",
     "text": [
      "INFO:tensorflow:Graph was finalized.\n"
     ]
    },
    {
     "name": "stderr",
     "output_type": "stream",
     "text": [
      "I0620 08:43:50.885583 139737458554624 tf_logging.py:115] Graph was finalized.\n"
     ]
    },
    {
     "name": "stdout",
     "output_type": "stream",
     "text": [
      "INFO:tensorflow:Running local_init_op.\n"
     ]
    },
    {
     "name": "stderr",
     "output_type": "stream",
     "text": [
      "I0620 08:43:55.347638 139737458554624 tf_logging.py:115] Running local_init_op.\n"
     ]
    },
    {
     "name": "stdout",
     "output_type": "stream",
     "text": [
      "INFO:tensorflow:Done running local_init_op.\n"
     ]
    },
    {
     "name": "stderr",
     "output_type": "stream",
     "text": [
      "I0620 08:43:55.457212 139737458554624 tf_logging.py:115] Done running local_init_op.\n"
     ]
    },
    {
     "name": "stdout",
     "output_type": "stream",
     "text": [
      "INFO:tensorflow:Saving checkpoints for 0 into BERT_RUN2019-06-20 08:25:39.792798political/model.ckpt.\n"
     ]
    },
    {
     "name": "stderr",
     "output_type": "stream",
     "text": [
      "I0620 08:44:01.599145 139737458554624 tf_logging.py:115] Saving checkpoints for 0 into BERT_RUN2019-06-20 08:25:39.792798political/model.ckpt.\n"
     ]
    },
    {
     "name": "stdout",
     "output_type": "stream",
     "text": [
      "INFO:tensorflow:loss = 0.65817714, step = 0\n"
     ]
    },
    {
     "name": "stderr",
     "output_type": "stream",
     "text": [
      "I0620 08:44:13.209818 139737458554624 tf_logging.py:115] loss = 0.65817714, step = 0\n"
     ]
    },
    {
     "name": "stdout",
     "output_type": "stream",
     "text": [
      "INFO:tensorflow:global_step/sec: 2.29916\n"
     ]
    },
    {
     "name": "stderr",
     "output_type": "stream",
     "text": [
      "I0620 08:44:56.703669 139737458554624 tf_logging.py:115] global_step/sec: 2.29916\n"
     ]
    },
    {
     "name": "stdout",
     "output_type": "stream",
     "text": [
      "INFO:tensorflow:loss = 0.705028, step = 100 (43.495 sec)\n"
     ]
    },
    {
     "name": "stderr",
     "output_type": "stream",
     "text": [
      "I0620 08:44:56.705210 139737458554624 tf_logging.py:115] loss = 0.705028, step = 100 (43.495 sec)\n"
     ]
    },
    {
     "name": "stdout",
     "output_type": "stream",
     "text": [
      "INFO:tensorflow:global_step/sec: 3.18051\n"
     ]
    },
    {
     "name": "stderr",
     "output_type": "stream",
     "text": [
      "I0620 08:45:28.145170 139737458554624 tf_logging.py:115] global_step/sec: 3.18051\n"
     ]
    },
    {
     "name": "stdout",
     "output_type": "stream",
     "text": [
      "INFO:tensorflow:loss = 0.70110905, step = 200 (31.441 sec)\n"
     ]
    },
    {
     "name": "stderr",
     "output_type": "stream",
     "text": [
      "I0620 08:45:28.146502 139737458554624 tf_logging.py:115] loss = 0.70110905, step = 200 (31.441 sec)\n"
     ]
    },
    {
     "name": "stdout",
     "output_type": "stream",
     "text": [
      "INFO:tensorflow:global_step/sec: 3.17524\n"
     ]
    },
    {
     "name": "stderr",
     "output_type": "stream",
     "text": [
      "I0620 08:45:59.638912 139737458554624 tf_logging.py:115] global_step/sec: 3.17524\n"
     ]
    },
    {
     "name": "stdout",
     "output_type": "stream",
     "text": [
      "INFO:tensorflow:loss = 0.7858698, step = 300 (31.495 sec)\n"
     ]
    },
    {
     "name": "stderr",
     "output_type": "stream",
     "text": [
      "I0620 08:45:59.641040 139737458554624 tf_logging.py:115] loss = 0.7858698, step = 300 (31.495 sec)\n"
     ]
    },
    {
     "name": "stdout",
     "output_type": "stream",
     "text": [
      "INFO:tensorflow:global_step/sec: 3.17668\n"
     ]
    },
    {
     "name": "stderr",
     "output_type": "stream",
     "text": [
      "I0620 08:46:31.118298 139737458554624 tf_logging.py:115] global_step/sec: 3.17668\n"
     ]
    },
    {
     "name": "stdout",
     "output_type": "stream",
     "text": [
      "INFO:tensorflow:loss = 0.3522546, step = 400 (31.479 sec)\n"
     ]
    },
    {
     "name": "stderr",
     "output_type": "stream",
     "text": [
      "I0620 08:46:31.119756 139737458554624 tf_logging.py:115] loss = 0.3522546, step = 400 (31.479 sec)\n"
     ]
    },
    {
     "name": "stdout",
     "output_type": "stream",
     "text": [
      "INFO:tensorflow:Saving checkpoints for 492 into BERT_RUN2019-06-20 08:25:39.792798political/model.ckpt.\n"
     ]
    },
    {
     "name": "stderr",
     "output_type": "stream",
     "text": [
      "I0620 08:46:59.771827 139737458554624 tf_logging.py:115] Saving checkpoints for 492 into BERT_RUN2019-06-20 08:25:39.792798political/model.ckpt.\n"
     ]
    },
    {
     "name": "stdout",
     "output_type": "stream",
     "text": [
      "INFO:tensorflow:Loss for final step: 0.5461668.\n"
     ]
    },
    {
     "name": "stderr",
     "output_type": "stream",
     "text": [
      "I0620 08:47:06.233224 139737458554624 tf_logging.py:115] Loss for final step: 0.5461668.\n"
     ]
    },
    {
     "name": "stdout",
     "output_type": "stream",
     "text": [
      "<generator object Estimator.predict at 0x7f172098ce60>\n",
      "INFO:tensorflow:Calling model_fn.\n"
     ]
    },
    {
     "name": "stderr",
     "output_type": "stream",
     "text": [
      "I0620 08:47:06.292767 139737458554624 tf_logging.py:115] Calling model_fn.\n"
     ]
    },
    {
     "name": "stdout",
     "output_type": "stream",
     "text": [
      "INFO:tensorflow:Saver not created because there are no variables in the graph to restore\n"
     ]
    },
    {
     "name": "stderr",
     "output_type": "stream",
     "text": [
      "I0620 08:47:07.923524 139737458554624 tf_logging.py:115] Saver not created because there are no variables in the graph to restore\n"
     ]
    },
    {
     "name": "stdout",
     "output_type": "stream",
     "text": [
      "INFO:tensorflow:Done calling model_fn.\n"
     ]
    },
    {
     "name": "stderr",
     "output_type": "stream",
     "text": [
      "I0620 08:47:08.028800 139737458554624 tf_logging.py:115] Done calling model_fn.\n"
     ]
    },
    {
     "name": "stdout",
     "output_type": "stream",
     "text": [
      "INFO:tensorflow:Graph was finalized.\n"
     ]
    },
    {
     "name": "stderr",
     "output_type": "stream",
     "text": [
      "I0620 08:47:09.009051 139737458554624 tf_logging.py:115] Graph was finalized.\n"
     ]
    },
    {
     "name": "stdout",
     "output_type": "stream",
     "text": [
      "INFO:tensorflow:Restoring parameters from BERT_RUN2019-06-20 08:25:39.792798political/model.ckpt-492\n"
     ]
    },
    {
     "name": "stderr",
     "output_type": "stream",
     "text": [
      "I0620 08:47:09.012474 139737458554624 tf_logging.py:115] Restoring parameters from BERT_RUN2019-06-20 08:25:39.792798political/model.ckpt-492\n"
     ]
    },
    {
     "name": "stdout",
     "output_type": "stream",
     "text": [
      "INFO:tensorflow:Running local_init_op.\n"
     ]
    },
    {
     "name": "stderr",
     "output_type": "stream",
     "text": [
      "I0620 08:47:09.450594 139737458554624 tf_logging.py:115] Running local_init_op.\n"
     ]
    },
    {
     "name": "stdout",
     "output_type": "stream",
     "text": [
      "INFO:tensorflow:Done running local_init_op.\n"
     ]
    },
    {
     "name": "stderr",
     "output_type": "stream",
     "text": [
      "I0620 08:47:09.495123 139737458554624 tf_logging.py:115] Done running local_init_op.\n"
     ]
    },
    {
     "name": "stdout",
     "output_type": "stream",
     "text": [
      "[0. 0. 1. 1. 0. 1. 1. 1. 1. 1. 1. 1. 1. 1. 0. 0. 1. 1. 1. 0. 0. 1. 1. 0.\n",
      " 1. 0. 0. 0. 0. 0. 1. 1. 1. 0. 1. 1. 1. 1. 0. 0. 1. 1. 1. 0. 0. 0. 1. 0.\n",
      " 0. 1. 0. 0. 1. 0. 1. 1. 0. 1. 1. 0. 1. 1. 0. 0. 1. 0. 1. 0. 1. 1. 1. 1.\n",
      " 0. 0. 1. 1. 1. 0. 1. 1. 0. 1. 1. 0. 1. 0. 0. 0. 0. 1. 0. 1. 0. 0. 1. 1.\n",
      " 0. 1. 0. 0. 0. 0. 0. 1. 1. 0. 0. 1. 0. 1. 0. 1. 0. 1. 0. 0. 1. 0. 1. 1.\n",
      " 1. 1. 0. 1. 1. 0. 0. 0. 0. 1. 0. 1. 0. 0. 1. 1. 1. 1. 0. 0. 0. 1. 1. 0.\n",
      " 1. 0.]\n",
      "              precision    recall  f1-score   support\n",
      "\n",
      "    relation       0.70      0.66      0.68        73\n",
      "   unrelated       0.68      0.71      0.69        73\n",
      "\n",
      "    accuracy                           0.68       146\n",
      "   macro avg       0.69      0.68      0.68       146\n",
      "weighted avg       0.69      0.68      0.68       146\n",
      "\n",
      "Accuracy: 0.684931506849315\n",
      "Training took time  0:03:30.087003\n",
      "(1314, 8) (146, 8)\n",
      "INFO:tensorflow:Writing example 0 of 1314\n"
     ]
    },
    {
     "name": "stderr",
     "output_type": "stream",
     "text": [
      "I0620 08:47:11.652645 139737458554624 tf_logging.py:115] Writing example 0 of 1314\n"
     ]
    },
    {
     "name": "stdout",
     "output_type": "stream",
     "text": [
      "INFO:tensorflow:*** Example ***\n"
     ]
    },
    {
     "name": "stderr",
     "output_type": "stream",
     "text": [
      "I0620 08:47:11.656802 139737458554624 tf_logging.py:115] *** Example ***\n"
     ]
    },
    {
     "name": "stdout",
     "output_type": "stream",
     "text": [
      "INFO:tensorflow:guid: None\n"
     ]
    },
    {
     "name": "stderr",
     "output_type": "stream",
     "text": [
      "I0620 08:47:11.658850 139737458554624 tf_logging.py:115] guid: None\n"
     ]
    },
    {
     "name": "stdout",
     "output_type": "stream",
     "text": [
      "INFO:tensorflow:tokens: [CLS] what are the folks going to do ? what are the voters going to do ? here ' s what you do : first , you look at our record and on the record i say you compare the record of the eisenhower administration with the record of the administration which preceded it . both have been in for 7 ½ years , [SEP] and what about that future ? we want a future of progress , but above all , the people of this country are concerned that our children may grow up in a world in which we can be free and we can live at peace - and that is the most important thing that americans must think about at this time . [SEP]\n"
     ]
    },
    {
     "name": "stderr",
     "output_type": "stream",
     "text": [
      "I0620 08:47:11.659593 139737458554624 tf_logging.py:115] tokens: [CLS] what are the folks going to do ? what are the voters going to do ? here ' s what you do : first , you look at our record and on the record i say you compare the record of the eisenhower administration with the record of the administration which preceded it . both have been in for 7 ½ years , [SEP] and what about that future ? we want a future of progress , but above all , the people of this country are concerned that our children may grow up in a world in which we can be free and we can live at peace - and that is the most important thing that americans must think about at this time . [SEP]\n"
     ]
    },
    {
     "name": "stdout",
     "output_type": "stream",
     "text": [
      "INFO:tensorflow:input_ids: 101 2054 2024 1996 12455 2183 2000 2079 1029 2054 2024 1996 7206 2183 2000 2079 1029 2182 1005 1055 2054 2017 2079 1024 2034 1010 2017 2298 2012 2256 2501 1998 2006 1996 2501 1045 2360 2017 12826 1996 2501 1997 1996 16551 3447 2007 1996 2501 1997 1996 3447 2029 11677 2009 1012 2119 2031 2042 1999 2005 1021 1092 2086 1010 102 1998 2054 2055 2008 2925 1029 2057 2215 1037 2925 1997 5082 1010 2021 2682 2035 1010 1996 2111 1997 2023 2406 2024 4986 2008 2256 2336 2089 4982 2039 1999 1037 2088 1999 2029 2057 2064 2022 2489 1998 2057 2064 2444 2012 3521 1011 1998 2008 2003 1996 2087 2590 2518 2008 4841 2442 2228 2055 2012 2023 2051 1012 102\n"
     ]
    },
    {
     "name": "stderr",
     "output_type": "stream",
     "text": [
      "I0620 08:47:11.660607 139737458554624 tf_logging.py:115] input_ids: 101 2054 2024 1996 12455 2183 2000 2079 1029 2054 2024 1996 7206 2183 2000 2079 1029 2182 1005 1055 2054 2017 2079 1024 2034 1010 2017 2298 2012 2256 2501 1998 2006 1996 2501 1045 2360 2017 12826 1996 2501 1997 1996 16551 3447 2007 1996 2501 1997 1996 3447 2029 11677 2009 1012 2119 2031 2042 1999 2005 1021 1092 2086 1010 102 1998 2054 2055 2008 2925 1029 2057 2215 1037 2925 1997 5082 1010 2021 2682 2035 1010 1996 2111 1997 2023 2406 2024 4986 2008 2256 2336 2089 4982 2039 1999 1037 2088 1999 2029 2057 2064 2022 2489 1998 2057 2064 2444 2012 3521 1011 1998 2008 2003 1996 2087 2590 2518 2008 4841 2442 2228 2055 2012 2023 2051 1012 102\n"
     ]
    },
    {
     "name": "stdout",
     "output_type": "stream",
     "text": [
      "INFO:tensorflow:input_mask: 1 1 1 1 1 1 1 1 1 1 1 1 1 1 1 1 1 1 1 1 1 1 1 1 1 1 1 1 1 1 1 1 1 1 1 1 1 1 1 1 1 1 1 1 1 1 1 1 1 1 1 1 1 1 1 1 1 1 1 1 1 1 1 1 1 1 1 1 1 1 1 1 1 1 1 1 1 1 1 1 1 1 1 1 1 1 1 1 1 1 1 1 1 1 1 1 1 1 1 1 1 1 1 1 1 1 1 1 1 1 1 1 1 1 1 1 1 1 1 1 1 1 1 1 1 1 1 1\n"
     ]
    },
    {
     "name": "stderr",
     "output_type": "stream",
     "text": [
      "I0620 08:47:11.661535 139737458554624 tf_logging.py:115] input_mask: 1 1 1 1 1 1 1 1 1 1 1 1 1 1 1 1 1 1 1 1 1 1 1 1 1 1 1 1 1 1 1 1 1 1 1 1 1 1 1 1 1 1 1 1 1 1 1 1 1 1 1 1 1 1 1 1 1 1 1 1 1 1 1 1 1 1 1 1 1 1 1 1 1 1 1 1 1 1 1 1 1 1 1 1 1 1 1 1 1 1 1 1 1 1 1 1 1 1 1 1 1 1 1 1 1 1 1 1 1 1 1 1 1 1 1 1 1 1 1 1 1 1 1 1 1 1 1 1\n"
     ]
    },
    {
     "name": "stdout",
     "output_type": "stream",
     "text": [
      "INFO:tensorflow:segment_ids: 0 0 0 0 0 0 0 0 0 0 0 0 0 0 0 0 0 0 0 0 0 0 0 0 0 0 0 0 0 0 0 0 0 0 0 0 0 0 0 0 0 0 0 0 0 0 0 0 0 0 0 0 0 0 0 0 0 0 0 0 0 0 0 0 0 1 1 1 1 1 1 1 1 1 1 1 1 1 1 1 1 1 1 1 1 1 1 1 1 1 1 1 1 1 1 1 1 1 1 1 1 1 1 1 1 1 1 1 1 1 1 1 1 1 1 1 1 1 1 1 1 1 1 1 1 1 1 1\n"
     ]
    },
    {
     "name": "stderr",
     "output_type": "stream",
     "text": [
      "I0620 08:47:11.663015 139737458554624 tf_logging.py:115] segment_ids: 0 0 0 0 0 0 0 0 0 0 0 0 0 0 0 0 0 0 0 0 0 0 0 0 0 0 0 0 0 0 0 0 0 0 0 0 0 0 0 0 0 0 0 0 0 0 0 0 0 0 0 0 0 0 0 0 0 0 0 0 0 0 0 0 0 1 1 1 1 1 1 1 1 1 1 1 1 1 1 1 1 1 1 1 1 1 1 1 1 1 1 1 1 1 1 1 1 1 1 1 1 1 1 1 1 1 1 1 1 1 1 1 1 1 1 1 1 1 1 1 1 1 1 1 1 1 1 1\n"
     ]
    },
    {
     "name": "stdout",
     "output_type": "stream",
     "text": [
      "INFO:tensorflow:label: 1 (id = 1)\n"
     ]
    },
    {
     "name": "stderr",
     "output_type": "stream",
     "text": [
      "I0620 08:47:11.663964 139737458554624 tf_logging.py:115] label: 1 (id = 1)\n"
     ]
    },
    {
     "name": "stdout",
     "output_type": "stream",
     "text": [
      "INFO:tensorflow:*** Example ***\n"
     ]
    },
    {
     "name": "stderr",
     "output_type": "stream",
     "text": [
      "I0620 08:47:11.667250 139737458554624 tf_logging.py:115] *** Example ***\n"
     ]
    },
    {
     "name": "stdout",
     "output_type": "stream",
     "text": [
      "INFO:tensorflow:guid: None\n"
     ]
    },
    {
     "name": "stderr",
     "output_type": "stream",
     "text": [
      "I0620 08:47:11.668150 139737458554624 tf_logging.py:115] guid: None\n"
     ]
    },
    {
     "name": "stdout",
     "output_type": "stream",
     "text": [
      "INFO:tensorflow:tokens: [CLS] [ applause . ] mr . nixon considers a minimum wage of $ 1 . 25 to be extreme . mr . nixon considers federal aid to make sure that teachers are paid a decent salary to be extreme . [SEP] meanwhile , the contradictory statements of senator kennedy still leave him opposed to this position . the miss ##tate ##ment : in the second debate senator kennedy said : the republicans in recent years , not only in the last 25 years , but in the last 8 years , have opposed * * * minimum wage * * the facts : senator kennedy is saying that republicans who opposed his particular bill are against minimum wage . the administration supported an increase in the [SEP]\n"
     ]
    },
    {
     "name": "stderr",
     "output_type": "stream",
     "text": [
      "I0620 08:47:11.668932 139737458554624 tf_logging.py:115] tokens: [CLS] [ applause . ] mr . nixon considers a minimum wage of $ 1 . 25 to be extreme . mr . nixon considers federal aid to make sure that teachers are paid a decent salary to be extreme . [SEP] meanwhile , the contradictory statements of senator kennedy still leave him opposed to this position . the miss ##tate ##ment : in the second debate senator kennedy said : the republicans in recent years , not only in the last 25 years , but in the last 8 years , have opposed * * * minimum wage * * the facts : senator kennedy is saying that republicans who opposed his particular bill are against minimum wage . the administration supported an increase in the [SEP]\n"
     ]
    },
    {
     "name": "stdout",
     "output_type": "stream",
     "text": [
      "INFO:tensorflow:input_ids: 101 1031 20737 1012 1033 2720 1012 11296 10592 1037 6263 11897 1997 1002 1015 1012 2423 2000 2022 6034 1012 2720 1012 11296 10592 2976 4681 2000 2191 2469 2008 5089 2024 3825 1037 11519 10300 2000 2022 6034 1012 102 5564 1010 1996 27894 8635 1997 5205 5817 2145 2681 2032 4941 2000 2023 2597 1012 1996 3335 12259 3672 1024 1999 1996 2117 5981 5205 5817 2056 1024 1996 10643 1999 3522 2086 1010 2025 2069 1999 1996 2197 2423 2086 1010 2021 1999 1996 2197 1022 2086 1010 2031 4941 1008 1008 1008 6263 11897 1008 1008 1996 8866 1024 5205 5817 2003 3038 2008 10643 2040 4941 2010 3327 3021 2024 2114 6263 11897 1012 1996 3447 3569 2019 3623 1999 1996 102\n"
     ]
    },
    {
     "name": "stderr",
     "output_type": "stream",
     "text": [
      "I0620 08:47:11.669611 139737458554624 tf_logging.py:115] input_ids: 101 1031 20737 1012 1033 2720 1012 11296 10592 1037 6263 11897 1997 1002 1015 1012 2423 2000 2022 6034 1012 2720 1012 11296 10592 2976 4681 2000 2191 2469 2008 5089 2024 3825 1037 11519 10300 2000 2022 6034 1012 102 5564 1010 1996 27894 8635 1997 5205 5817 2145 2681 2032 4941 2000 2023 2597 1012 1996 3335 12259 3672 1024 1999 1996 2117 5981 5205 5817 2056 1024 1996 10643 1999 3522 2086 1010 2025 2069 1999 1996 2197 2423 2086 1010 2021 1999 1996 2197 1022 2086 1010 2031 4941 1008 1008 1008 6263 11897 1008 1008 1996 8866 1024 5205 5817 2003 3038 2008 10643 2040 4941 2010 3327 3021 2024 2114 6263 11897 1012 1996 3447 3569 2019 3623 1999 1996 102\n"
     ]
    },
    {
     "name": "stdout",
     "output_type": "stream",
     "text": [
      "INFO:tensorflow:input_mask: 1 1 1 1 1 1 1 1 1 1 1 1 1 1 1 1 1 1 1 1 1 1 1 1 1 1 1 1 1 1 1 1 1 1 1 1 1 1 1 1 1 1 1 1 1 1 1 1 1 1 1 1 1 1 1 1 1 1 1 1 1 1 1 1 1 1 1 1 1 1 1 1 1 1 1 1 1 1 1 1 1 1 1 1 1 1 1 1 1 1 1 1 1 1 1 1 1 1 1 1 1 1 1 1 1 1 1 1 1 1 1 1 1 1 1 1 1 1 1 1 1 1 1 1 1 1 1 1\n"
     ]
    },
    {
     "name": "stderr",
     "output_type": "stream",
     "text": [
      "I0620 08:47:11.670427 139737458554624 tf_logging.py:115] input_mask: 1 1 1 1 1 1 1 1 1 1 1 1 1 1 1 1 1 1 1 1 1 1 1 1 1 1 1 1 1 1 1 1 1 1 1 1 1 1 1 1 1 1 1 1 1 1 1 1 1 1 1 1 1 1 1 1 1 1 1 1 1 1 1 1 1 1 1 1 1 1 1 1 1 1 1 1 1 1 1 1 1 1 1 1 1 1 1 1 1 1 1 1 1 1 1 1 1 1 1 1 1 1 1 1 1 1 1 1 1 1 1 1 1 1 1 1 1 1 1 1 1 1 1 1 1 1 1 1\n"
     ]
    },
    {
     "name": "stdout",
     "output_type": "stream",
     "text": [
      "INFO:tensorflow:segment_ids: 0 0 0 0 0 0 0 0 0 0 0 0 0 0 0 0 0 0 0 0 0 0 0 0 0 0 0 0 0 0 0 0 0 0 0 0 0 0 0 0 0 0 1 1 1 1 1 1 1 1 1 1 1 1 1 1 1 1 1 1 1 1 1 1 1 1 1 1 1 1 1 1 1 1 1 1 1 1 1 1 1 1 1 1 1 1 1 1 1 1 1 1 1 1 1 1 1 1 1 1 1 1 1 1 1 1 1 1 1 1 1 1 1 1 1 1 1 1 1 1 1 1 1 1 1 1 1 1\n"
     ]
    },
    {
     "name": "stderr",
     "output_type": "stream",
     "text": [
      "I0620 08:47:11.671590 139737458554624 tf_logging.py:115] segment_ids: 0 0 0 0 0 0 0 0 0 0 0 0 0 0 0 0 0 0 0 0 0 0 0 0 0 0 0 0 0 0 0 0 0 0 0 0 0 0 0 0 0 0 1 1 1 1 1 1 1 1 1 1 1 1 1 1 1 1 1 1 1 1 1 1 1 1 1 1 1 1 1 1 1 1 1 1 1 1 1 1 1 1 1 1 1 1 1 1 1 1 1 1 1 1 1 1 1 1 1 1 1 1 1 1 1 1 1 1 1 1 1 1 1 1 1 1 1 1 1 1 1 1 1 1 1 1 1 1\n"
     ]
    },
    {
     "name": "stdout",
     "output_type": "stream",
     "text": [
      "INFO:tensorflow:label: 0 (id = 0)\n"
     ]
    },
    {
     "name": "stderr",
     "output_type": "stream",
     "text": [
      "I0620 08:47:11.672259 139737458554624 tf_logging.py:115] label: 0 (id = 0)\n"
     ]
    },
    {
     "name": "stdout",
     "output_type": "stream",
     "text": [
      "INFO:tensorflow:*** Example ***\n"
     ]
    },
    {
     "name": "stderr",
     "output_type": "stream",
     "text": [
      "I0620 08:47:11.680164 139737458554624 tf_logging.py:115] *** Example ***\n"
     ]
    },
    {
     "name": "stdout",
     "output_type": "stream",
     "text": [
      "INFO:tensorflow:guid: None\n"
     ]
    },
    {
     "name": "stderr",
     "output_type": "stream",
     "text": [
      "I0620 08:47:11.680881 139737458554624 tf_logging.py:115] guid: None\n"
     ]
    },
    {
     "name": "stdout",
     "output_type": "stream",
     "text": [
      "INFO:tensorflow:tokens: [CLS] [ applause . ] let me make it very clear that if we are successful in january , we are going to recommend the following programs : first , we are going to make sure that those americans who are retired , who are on social security , who do need medical care , shall have it under the social security system . [ applause . [SEP] [ applause . ] a party which opposed social security , which tried to repeal it , a party which opposed minimum wage and tried to repeal it , a party which has opposed our efforts to pass in this congress medical care for the aged to the social security . [ applause . [SEP]\n"
     ]
    },
    {
     "name": "stderr",
     "output_type": "stream",
     "text": [
      "I0620 08:47:11.681403 139737458554624 tf_logging.py:115] tokens: [CLS] [ applause . ] let me make it very clear that if we are successful in january , we are going to recommend the following programs : first , we are going to make sure that those americans who are retired , who are on social security , who do need medical care , shall have it under the social security system . [ applause . [SEP] [ applause . ] a party which opposed social security , which tried to repeal it , a party which opposed minimum wage and tried to repeal it , a party which has opposed our efforts to pass in this congress medical care for the aged to the social security . [ applause . [SEP]\n"
     ]
    },
    {
     "name": "stdout",
     "output_type": "stream",
     "text": [
      "INFO:tensorflow:input_ids: 101 1031 20737 1012 1033 2292 2033 2191 2009 2200 3154 2008 2065 2057 2024 3144 1999 2254 1010 2057 2024 2183 2000 16755 1996 2206 3454 1024 2034 1010 2057 2024 2183 2000 2191 2469 2008 2216 4841 2040 2024 3394 1010 2040 2024 2006 2591 3036 1010 2040 2079 2342 2966 2729 1010 4618 2031 2009 2104 1996 2591 3036 2291 1012 1031 20737 1012 102 1031 20737 1012 1033 1037 2283 2029 4941 2591 3036 1010 2029 2699 2000 21825 2009 1010 1037 2283 2029 4941 6263 11897 1998 2699 2000 21825 2009 1010 1037 2283 2029 2038 4941 2256 4073 2000 3413 1999 2023 3519 2966 2729 2005 1996 4793 2000 1996 2591 3036 1012 1031 20737 1012 102 0 0 0 0 0\n"
     ]
    },
    {
     "name": "stderr",
     "output_type": "stream",
     "text": [
      "I0620 08:47:11.682366 139737458554624 tf_logging.py:115] input_ids: 101 1031 20737 1012 1033 2292 2033 2191 2009 2200 3154 2008 2065 2057 2024 3144 1999 2254 1010 2057 2024 2183 2000 16755 1996 2206 3454 1024 2034 1010 2057 2024 2183 2000 2191 2469 2008 2216 4841 2040 2024 3394 1010 2040 2024 2006 2591 3036 1010 2040 2079 2342 2966 2729 1010 4618 2031 2009 2104 1996 2591 3036 2291 1012 1031 20737 1012 102 1031 20737 1012 1033 1037 2283 2029 4941 2591 3036 1010 2029 2699 2000 21825 2009 1010 1037 2283 2029 4941 6263 11897 1998 2699 2000 21825 2009 1010 1037 2283 2029 2038 4941 2256 4073 2000 3413 1999 2023 3519 2966 2729 2005 1996 4793 2000 1996 2591 3036 1012 1031 20737 1012 102 0 0 0 0 0\n"
     ]
    },
    {
     "name": "stdout",
     "output_type": "stream",
     "text": [
      "INFO:tensorflow:input_mask: 1 1 1 1 1 1 1 1 1 1 1 1 1 1 1 1 1 1 1 1 1 1 1 1 1 1 1 1 1 1 1 1 1 1 1 1 1 1 1 1 1 1 1 1 1 1 1 1 1 1 1 1 1 1 1 1 1 1 1 1 1 1 1 1 1 1 1 1 1 1 1 1 1 1 1 1 1 1 1 1 1 1 1 1 1 1 1 1 1 1 1 1 1 1 1 1 1 1 1 1 1 1 1 1 1 1 1 1 1 1 1 1 1 1 1 1 1 1 1 1 1 1 1 0 0 0 0 0\n"
     ]
    },
    {
     "name": "stderr",
     "output_type": "stream",
     "text": [
      "I0620 08:47:11.682997 139737458554624 tf_logging.py:115] input_mask: 1 1 1 1 1 1 1 1 1 1 1 1 1 1 1 1 1 1 1 1 1 1 1 1 1 1 1 1 1 1 1 1 1 1 1 1 1 1 1 1 1 1 1 1 1 1 1 1 1 1 1 1 1 1 1 1 1 1 1 1 1 1 1 1 1 1 1 1 1 1 1 1 1 1 1 1 1 1 1 1 1 1 1 1 1 1 1 1 1 1 1 1 1 1 1 1 1 1 1 1 1 1 1 1 1 1 1 1 1 1 1 1 1 1 1 1 1 1 1 1 1 1 1 0 0 0 0 0\n"
     ]
    },
    {
     "name": "stdout",
     "output_type": "stream",
     "text": [
      "INFO:tensorflow:segment_ids: 0 0 0 0 0 0 0 0 0 0 0 0 0 0 0 0 0 0 0 0 0 0 0 0 0 0 0 0 0 0 0 0 0 0 0 0 0 0 0 0 0 0 0 0 0 0 0 0 0 0 0 0 0 0 0 0 0 0 0 0 0 0 0 0 0 0 0 0 1 1 1 1 1 1 1 1 1 1 1 1 1 1 1 1 1 1 1 1 1 1 1 1 1 1 1 1 1 1 1 1 1 1 1 1 1 1 1 1 1 1 1 1 1 1 1 1 1 1 1 1 1 1 1 0 0 0 0 0\n"
     ]
    },
    {
     "name": "stderr",
     "output_type": "stream",
     "text": [
      "I0620 08:47:11.683612 139737458554624 tf_logging.py:115] segment_ids: 0 0 0 0 0 0 0 0 0 0 0 0 0 0 0 0 0 0 0 0 0 0 0 0 0 0 0 0 0 0 0 0 0 0 0 0 0 0 0 0 0 0 0 0 0 0 0 0 0 0 0 0 0 0 0 0 0 0 0 0 0 0 0 0 0 0 0 0 1 1 1 1 1 1 1 1 1 1 1 1 1 1 1 1 1 1 1 1 1 1 1 1 1 1 1 1 1 1 1 1 1 1 1 1 1 1 1 1 1 1 1 1 1 1 1 1 1 1 1 1 1 1 1 0 0 0 0 0\n"
     ]
    },
    {
     "name": "stdout",
     "output_type": "stream",
     "text": [
      "INFO:tensorflow:label: 1 (id = 1)\n"
     ]
    },
    {
     "name": "stderr",
     "output_type": "stream",
     "text": [
      "I0620 08:47:11.684235 139737458554624 tf_logging.py:115] label: 1 (id = 1)\n"
     ]
    },
    {
     "name": "stdout",
     "output_type": "stream",
     "text": [
      "INFO:tensorflow:*** Example ***\n"
     ]
    },
    {
     "name": "stderr",
     "output_type": "stream",
     "text": [
      "I0620 08:47:11.687049 139737458554624 tf_logging.py:115] *** Example ***\n"
     ]
    },
    {
     "name": "stdout",
     "output_type": "stream",
     "text": [
      "INFO:tensorflow:guid: None\n"
     ]
    },
    {
     "name": "stderr",
     "output_type": "stream",
     "text": [
      "I0620 08:47:11.689776 139737458554624 tf_logging.py:115] guid: None\n"
     ]
    },
    {
     "name": "stdout",
     "output_type": "stream",
     "text": [
      "INFO:tensorflow:tokens: [CLS] the point is that we pay for that . every time the president veto ##es a housing bill , every time a republican member votes against the $ 1 . 25 minimum wage , every time we are unable to get any support on our bill to tie medical care for the aged to social security , it is not the congress that suffers , it is not the administration ; it is the people [SEP] they talked . but what did they produce ? they promised a 25 - percent minimum wage increase in place of the program that president eisenhower asked for and that could have been passed and should have been passed . what did the workers get ? nothing at all . [SEP]\n"
     ]
    },
    {
     "name": "stderr",
     "output_type": "stream",
     "text": [
      "I0620 08:47:11.696054 139737458554624 tf_logging.py:115] tokens: [CLS] the point is that we pay for that . every time the president veto ##es a housing bill , every time a republican member votes against the $ 1 . 25 minimum wage , every time we are unable to get any support on our bill to tie medical care for the aged to social security , it is not the congress that suffers , it is not the administration ; it is the people [SEP] they talked . but what did they produce ? they promised a 25 - percent minimum wage increase in place of the program that president eisenhower asked for and that could have been passed and should have been passed . what did the workers get ? nothing at all . [SEP]\n"
     ]
    },
    {
     "name": "stdout",
     "output_type": "stream",
     "text": [
      "INFO:tensorflow:input_ids: 101 1996 2391 2003 2008 2057 3477 2005 2008 1012 2296 2051 1996 2343 22102 2229 1037 3847 3021 1010 2296 2051 1037 3951 2266 4494 2114 1996 1002 1015 1012 2423 6263 11897 1010 2296 2051 2057 2024 4039 2000 2131 2151 2490 2006 2256 3021 2000 5495 2966 2729 2005 1996 4793 2000 2591 3036 1010 2009 2003 2025 1996 3519 2008 17567 1010 2009 2003 2025 1996 3447 1025 2009 2003 1996 2111 102 2027 5720 1012 2021 2054 2106 2027 3965 1029 2027 5763 1037 2423 1011 3867 6263 11897 3623 1999 2173 1997 1996 2565 2008 2343 16551 2356 2005 1998 2008 2071 2031 2042 2979 1998 2323 2031 2042 2979 1012 2054 2106 1996 3667 2131 1029 2498 2012 2035 1012 102\n"
     ]
    },
    {
     "name": "stderr",
     "output_type": "stream",
     "text": [
      "I0620 08:47:11.696751 139737458554624 tf_logging.py:115] input_ids: 101 1996 2391 2003 2008 2057 3477 2005 2008 1012 2296 2051 1996 2343 22102 2229 1037 3847 3021 1010 2296 2051 1037 3951 2266 4494 2114 1996 1002 1015 1012 2423 6263 11897 1010 2296 2051 2057 2024 4039 2000 2131 2151 2490 2006 2256 3021 2000 5495 2966 2729 2005 1996 4793 2000 2591 3036 1010 2009 2003 2025 1996 3519 2008 17567 1010 2009 2003 2025 1996 3447 1025 2009 2003 1996 2111 102 2027 5720 1012 2021 2054 2106 2027 3965 1029 2027 5763 1037 2423 1011 3867 6263 11897 3623 1999 2173 1997 1996 2565 2008 2343 16551 2356 2005 1998 2008 2071 2031 2042 2979 1998 2323 2031 2042 2979 1012 2054 2106 1996 3667 2131 1029 2498 2012 2035 1012 102\n"
     ]
    },
    {
     "name": "stdout",
     "output_type": "stream",
     "text": [
      "INFO:tensorflow:input_mask: 1 1 1 1 1 1 1 1 1 1 1 1 1 1 1 1 1 1 1 1 1 1 1 1 1 1 1 1 1 1 1 1 1 1 1 1 1 1 1 1 1 1 1 1 1 1 1 1 1 1 1 1 1 1 1 1 1 1 1 1 1 1 1 1 1 1 1 1 1 1 1 1 1 1 1 1 1 1 1 1 1 1 1 1 1 1 1 1 1 1 1 1 1 1 1 1 1 1 1 1 1 1 1 1 1 1 1 1 1 1 1 1 1 1 1 1 1 1 1 1 1 1 1 1 1 1 1 1\n"
     ]
    },
    {
     "name": "stderr",
     "output_type": "stream",
     "text": [
      "I0620 08:47:11.697290 139737458554624 tf_logging.py:115] input_mask: 1 1 1 1 1 1 1 1 1 1 1 1 1 1 1 1 1 1 1 1 1 1 1 1 1 1 1 1 1 1 1 1 1 1 1 1 1 1 1 1 1 1 1 1 1 1 1 1 1 1 1 1 1 1 1 1 1 1 1 1 1 1 1 1 1 1 1 1 1 1 1 1 1 1 1 1 1 1 1 1 1 1 1 1 1 1 1 1 1 1 1 1 1 1 1 1 1 1 1 1 1 1 1 1 1 1 1 1 1 1 1 1 1 1 1 1 1 1 1 1 1 1 1 1 1 1 1 1\n"
     ]
    },
    {
     "name": "stdout",
     "output_type": "stream",
     "text": [
      "INFO:tensorflow:segment_ids: 0 0 0 0 0 0 0 0 0 0 0 0 0 0 0 0 0 0 0 0 0 0 0 0 0 0 0 0 0 0 0 0 0 0 0 0 0 0 0 0 0 0 0 0 0 0 0 0 0 0 0 0 0 0 0 0 0 0 0 0 0 0 0 0 0 0 0 0 0 0 0 0 0 0 0 0 0 1 1 1 1 1 1 1 1 1 1 1 1 1 1 1 1 1 1 1 1 1 1 1 1 1 1 1 1 1 1 1 1 1 1 1 1 1 1 1 1 1 1 1 1 1 1 1 1 1 1 1\n"
     ]
    },
    {
     "name": "stderr",
     "output_type": "stream",
     "text": [
      "I0620 08:47:11.697794 139737458554624 tf_logging.py:115] segment_ids: 0 0 0 0 0 0 0 0 0 0 0 0 0 0 0 0 0 0 0 0 0 0 0 0 0 0 0 0 0 0 0 0 0 0 0 0 0 0 0 0 0 0 0 0 0 0 0 0 0 0 0 0 0 0 0 0 0 0 0 0 0 0 0 0 0 0 0 0 0 0 0 0 0 0 0 0 0 1 1 1 1 1 1 1 1 1 1 1 1 1 1 1 1 1 1 1 1 1 1 1 1 1 1 1 1 1 1 1 1 1 1 1 1 1 1 1 1 1 1 1 1 1 1 1 1 1 1 1\n"
     ]
    },
    {
     "name": "stdout",
     "output_type": "stream",
     "text": [
      "INFO:tensorflow:label: 0 (id = 0)\n"
     ]
    },
    {
     "name": "stderr",
     "output_type": "stream",
     "text": [
      "I0620 08:47:11.698309 139737458554624 tf_logging.py:115] label: 0 (id = 0)\n"
     ]
    },
    {
     "name": "stdout",
     "output_type": "stream",
     "text": [
      "INFO:tensorflow:*** Example ***\n"
     ]
    },
    {
     "name": "stderr",
     "output_type": "stream",
     "text": [
      "I0620 08:47:11.701123 139737458554624 tf_logging.py:115] *** Example ***\n"
     ]
    },
    {
     "name": "stdout",
     "output_type": "stream",
     "text": [
      "INFO:tensorflow:guid: None\n"
     ]
    },
    {
     "name": "stderr",
     "output_type": "stream",
     "text": [
      "I0620 08:47:11.702006 139737458554624 tf_logging.py:115] guid: None\n"
     ]
    },
    {
     "name": "stdout",
     "output_type": "stream",
     "text": [
      "INFO:tensorflow:tokens: [CLS] when a political party votes , in 1935 , 98 percent against the 25 - cent minimum wage , i know what the party stands for ; and when that same political party in 1960 votes in the house of representatives 85 percent against $ 1 . 25 minimum wage in 1960 , i know the republican party stands where it has always [SEP] it is our function , however , not to merely in ##vo ##ke the names of franklin roosevelt and harry truman , not to merely live off what they did , but to bring these old programs up to date . franklin roosevelt proposed a 25 - cent minimum wage , back in the middle thirties ; 90 percent of the republicans [SEP]\n"
     ]
    },
    {
     "name": "stderr",
     "output_type": "stream",
     "text": [
      "I0620 08:47:11.702736 139737458554624 tf_logging.py:115] tokens: [CLS] when a political party votes , in 1935 , 98 percent against the 25 - cent minimum wage , i know what the party stands for ; and when that same political party in 1960 votes in the house of representatives 85 percent against $ 1 . 25 minimum wage in 1960 , i know the republican party stands where it has always [SEP] it is our function , however , not to merely in ##vo ##ke the names of franklin roosevelt and harry truman , not to merely live off what they did , but to bring these old programs up to date . franklin roosevelt proposed a 25 - cent minimum wage , back in the middle thirties ; 90 percent of the republicans [SEP]\n"
     ]
    },
    {
     "name": "stdout",
     "output_type": "stream",
     "text": [
      "INFO:tensorflow:input_ids: 101 2043 1037 2576 2283 4494 1010 1999 4437 1010 5818 3867 2114 1996 2423 1011 9358 6263 11897 1010 1045 2113 2054 1996 2283 4832 2005 1025 1998 2043 2008 2168 2576 2283 1999 3624 4494 1999 1996 2160 1997 4505 5594 3867 2114 1002 1015 1012 2423 6263 11897 1999 3624 1010 1045 2113 1996 3951 2283 4832 2073 2009 2038 2467 102 2009 2003 2256 3853 1010 2174 1010 2025 2000 6414 1999 6767 3489 1996 3415 1997 5951 8573 1998 4302 15237 1010 2025 2000 6414 2444 2125 2054 2027 2106 1010 2021 2000 3288 2122 2214 3454 2039 2000 3058 1012 5951 8573 3818 1037 2423 1011 9358 6263 11897 1010 2067 1999 1996 2690 26313 1025 3938 3867 1997 1996 10643 102\n"
     ]
    },
    {
     "name": "stderr",
     "output_type": "stream",
     "text": [
      "I0620 08:47:11.703315 139737458554624 tf_logging.py:115] input_ids: 101 2043 1037 2576 2283 4494 1010 1999 4437 1010 5818 3867 2114 1996 2423 1011 9358 6263 11897 1010 1045 2113 2054 1996 2283 4832 2005 1025 1998 2043 2008 2168 2576 2283 1999 3624 4494 1999 1996 2160 1997 4505 5594 3867 2114 1002 1015 1012 2423 6263 11897 1999 3624 1010 1045 2113 1996 3951 2283 4832 2073 2009 2038 2467 102 2009 2003 2256 3853 1010 2174 1010 2025 2000 6414 1999 6767 3489 1996 3415 1997 5951 8573 1998 4302 15237 1010 2025 2000 6414 2444 2125 2054 2027 2106 1010 2021 2000 3288 2122 2214 3454 2039 2000 3058 1012 5951 8573 3818 1037 2423 1011 9358 6263 11897 1010 2067 1999 1996 2690 26313 1025 3938 3867 1997 1996 10643 102\n"
     ]
    },
    {
     "name": "stdout",
     "output_type": "stream",
     "text": [
      "INFO:tensorflow:input_mask: 1 1 1 1 1 1 1 1 1 1 1 1 1 1 1 1 1 1 1 1 1 1 1 1 1 1 1 1 1 1 1 1 1 1 1 1 1 1 1 1 1 1 1 1 1 1 1 1 1 1 1 1 1 1 1 1 1 1 1 1 1 1 1 1 1 1 1 1 1 1 1 1 1 1 1 1 1 1 1 1 1 1 1 1 1 1 1 1 1 1 1 1 1 1 1 1 1 1 1 1 1 1 1 1 1 1 1 1 1 1 1 1 1 1 1 1 1 1 1 1 1 1 1 1 1 1 1 1\n"
     ]
    },
    {
     "name": "stderr",
     "output_type": "stream",
     "text": [
      "I0620 08:47:11.703934 139737458554624 tf_logging.py:115] input_mask: 1 1 1 1 1 1 1 1 1 1 1 1 1 1 1 1 1 1 1 1 1 1 1 1 1 1 1 1 1 1 1 1 1 1 1 1 1 1 1 1 1 1 1 1 1 1 1 1 1 1 1 1 1 1 1 1 1 1 1 1 1 1 1 1 1 1 1 1 1 1 1 1 1 1 1 1 1 1 1 1 1 1 1 1 1 1 1 1 1 1 1 1 1 1 1 1 1 1 1 1 1 1 1 1 1 1 1 1 1 1 1 1 1 1 1 1 1 1 1 1 1 1 1 1 1 1 1 1\n"
     ]
    },
    {
     "name": "stdout",
     "output_type": "stream",
     "text": [
      "INFO:tensorflow:segment_ids: 0 0 0 0 0 0 0 0 0 0 0 0 0 0 0 0 0 0 0 0 0 0 0 0 0 0 0 0 0 0 0 0 0 0 0 0 0 0 0 0 0 0 0 0 0 0 0 0 0 0 0 0 0 0 0 0 0 0 0 0 0 0 0 0 0 1 1 1 1 1 1 1 1 1 1 1 1 1 1 1 1 1 1 1 1 1 1 1 1 1 1 1 1 1 1 1 1 1 1 1 1 1 1 1 1 1 1 1 1 1 1 1 1 1 1 1 1 1 1 1 1 1 1 1 1 1 1 1\n"
     ]
    },
    {
     "name": "stderr",
     "output_type": "stream",
     "text": [
      "I0620 08:47:11.704921 139737458554624 tf_logging.py:115] segment_ids: 0 0 0 0 0 0 0 0 0 0 0 0 0 0 0 0 0 0 0 0 0 0 0 0 0 0 0 0 0 0 0 0 0 0 0 0 0 0 0 0 0 0 0 0 0 0 0 0 0 0 0 0 0 0 0 0 0 0 0 0 0 0 0 0 0 1 1 1 1 1 1 1 1 1 1 1 1 1 1 1 1 1 1 1 1 1 1 1 1 1 1 1 1 1 1 1 1 1 1 1 1 1 1 1 1 1 1 1 1 1 1 1 1 1 1 1 1 1 1 1 1 1 1 1 1 1 1 1\n"
     ]
    },
    {
     "name": "stdout",
     "output_type": "stream",
     "text": [
      "INFO:tensorflow:label: 0 (id = 0)\n"
     ]
    },
    {
     "name": "stderr",
     "output_type": "stream",
     "text": [
      "I0620 08:47:11.705612 139737458554624 tf_logging.py:115] label: 0 (id = 0)\n"
     ]
    },
    {
     "name": "stdout",
     "output_type": "stream",
     "text": [
      "INFO:tensorflow:Writing example 0 of 146\n"
     ]
    },
    {
     "name": "stderr",
     "output_type": "stream",
     "text": [
      "I0620 08:47:14.456022 139737458554624 tf_logging.py:115] Writing example 0 of 146\n"
     ]
    },
    {
     "name": "stdout",
     "output_type": "stream",
     "text": [
      "INFO:tensorflow:*** Example ***\n"
     ]
    },
    {
     "name": "stderr",
     "output_type": "stream",
     "text": [
      "I0620 08:47:14.463050 139737458554624 tf_logging.py:115] *** Example ***\n"
     ]
    },
    {
     "name": "stdout",
     "output_type": "stream",
     "text": [
      "INFO:tensorflow:guid: None\n"
     ]
    },
    {
     "name": "stderr",
     "output_type": "stream",
     "text": [
      "I0620 08:47:14.464071 139737458554624 tf_logging.py:115] guid: None\n"
     ]
    },
    {
     "name": "stdout",
     "output_type": "stream",
     "text": [
      "INFO:tensorflow:tokens: [CLS] he has worked to see that this new country and all others can retain its independence and this all americans are proud of . yes ; he has worked for di ##sar ##mament but not a ph ##ony di ##sar ##mament because this nation must never di ##sar ##m until we get absolute assurance that those who threaten the peace of the world [SEP] i select it because i believe it is the most important issue not only of this campaign , but of our time , of our generation , of this country . i select it because i know that the people of this state as the people of the other 49 states of the union , want leadership which will continue to do [SEP]\n"
     ]
    },
    {
     "name": "stderr",
     "output_type": "stream",
     "text": [
      "I0620 08:47:14.464976 139737458554624 tf_logging.py:115] tokens: [CLS] he has worked to see that this new country and all others can retain its independence and this all americans are proud of . yes ; he has worked for di ##sar ##mament but not a ph ##ony di ##sar ##mament because this nation must never di ##sar ##m until we get absolute assurance that those who threaten the peace of the world [SEP] i select it because i believe it is the most important issue not only of this campaign , but of our time , of our generation , of this country . i select it because i know that the people of this state as the people of the other 49 states of the union , want leadership which will continue to do [SEP]\n"
     ]
    },
    {
     "name": "stdout",
     "output_type": "stream",
     "text": [
      "INFO:tensorflow:input_ids: 101 2002 2038 2499 2000 2156 2008 2023 2047 2406 1998 2035 2500 2064 9279 2049 4336 1998 2023 2035 4841 2024 7098 1997 1012 2748 1025 2002 2038 2499 2005 4487 10286 28119 2021 2025 1037 6887 16585 4487 10286 28119 2138 2023 3842 2442 2196 4487 10286 2213 2127 2057 2131 7619 16375 2008 2216 2040 15686 1996 3521 1997 1996 2088 102 1045 7276 2009 2138 1045 2903 2009 2003 1996 2087 2590 3277 2025 2069 1997 2023 3049 1010 2021 1997 2256 2051 1010 1997 2256 4245 1010 1997 2023 2406 1012 1045 7276 2009 2138 1045 2113 2008 1996 2111 1997 2023 2110 2004 1996 2111 1997 1996 2060 4749 2163 1997 1996 2586 1010 2215 4105 2029 2097 3613 2000 2079 102\n"
     ]
    },
    {
     "name": "stderr",
     "output_type": "stream",
     "text": [
      "I0620 08:47:14.465933 139737458554624 tf_logging.py:115] input_ids: 101 2002 2038 2499 2000 2156 2008 2023 2047 2406 1998 2035 2500 2064 9279 2049 4336 1998 2023 2035 4841 2024 7098 1997 1012 2748 1025 2002 2038 2499 2005 4487 10286 28119 2021 2025 1037 6887 16585 4487 10286 28119 2138 2023 3842 2442 2196 4487 10286 2213 2127 2057 2131 7619 16375 2008 2216 2040 15686 1996 3521 1997 1996 2088 102 1045 7276 2009 2138 1045 2903 2009 2003 1996 2087 2590 3277 2025 2069 1997 2023 3049 1010 2021 1997 2256 2051 1010 1997 2256 4245 1010 1997 2023 2406 1012 1045 7276 2009 2138 1045 2113 2008 1996 2111 1997 2023 2110 2004 1996 2111 1997 1996 2060 4749 2163 1997 1996 2586 1010 2215 4105 2029 2097 3613 2000 2079 102\n"
     ]
    },
    {
     "name": "stdout",
     "output_type": "stream",
     "text": [
      "INFO:tensorflow:input_mask: 1 1 1 1 1 1 1 1 1 1 1 1 1 1 1 1 1 1 1 1 1 1 1 1 1 1 1 1 1 1 1 1 1 1 1 1 1 1 1 1 1 1 1 1 1 1 1 1 1 1 1 1 1 1 1 1 1 1 1 1 1 1 1 1 1 1 1 1 1 1 1 1 1 1 1 1 1 1 1 1 1 1 1 1 1 1 1 1 1 1 1 1 1 1 1 1 1 1 1 1 1 1 1 1 1 1 1 1 1 1 1 1 1 1 1 1 1 1 1 1 1 1 1 1 1 1 1 1\n"
     ]
    },
    {
     "name": "stderr",
     "output_type": "stream",
     "text": [
      "I0620 08:47:14.466596 139737458554624 tf_logging.py:115] input_mask: 1 1 1 1 1 1 1 1 1 1 1 1 1 1 1 1 1 1 1 1 1 1 1 1 1 1 1 1 1 1 1 1 1 1 1 1 1 1 1 1 1 1 1 1 1 1 1 1 1 1 1 1 1 1 1 1 1 1 1 1 1 1 1 1 1 1 1 1 1 1 1 1 1 1 1 1 1 1 1 1 1 1 1 1 1 1 1 1 1 1 1 1 1 1 1 1 1 1 1 1 1 1 1 1 1 1 1 1 1 1 1 1 1 1 1 1 1 1 1 1 1 1 1 1 1 1 1 1\n"
     ]
    },
    {
     "name": "stdout",
     "output_type": "stream",
     "text": [
      "INFO:tensorflow:segment_ids: 0 0 0 0 0 0 0 0 0 0 0 0 0 0 0 0 0 0 0 0 0 0 0 0 0 0 0 0 0 0 0 0 0 0 0 0 0 0 0 0 0 0 0 0 0 0 0 0 0 0 0 0 0 0 0 0 0 0 0 0 0 0 0 0 0 1 1 1 1 1 1 1 1 1 1 1 1 1 1 1 1 1 1 1 1 1 1 1 1 1 1 1 1 1 1 1 1 1 1 1 1 1 1 1 1 1 1 1 1 1 1 1 1 1 1 1 1 1 1 1 1 1 1 1 1 1 1 1\n"
     ]
    },
    {
     "name": "stderr",
     "output_type": "stream",
     "text": [
      "I0620 08:47:14.467274 139737458554624 tf_logging.py:115] segment_ids: 0 0 0 0 0 0 0 0 0 0 0 0 0 0 0 0 0 0 0 0 0 0 0 0 0 0 0 0 0 0 0 0 0 0 0 0 0 0 0 0 0 0 0 0 0 0 0 0 0 0 0 0 0 0 0 0 0 0 0 0 0 0 0 0 0 1 1 1 1 1 1 1 1 1 1 1 1 1 1 1 1 1 1 1 1 1 1 1 1 1 1 1 1 1 1 1 1 1 1 1 1 1 1 1 1 1 1 1 1 1 1 1 1 1 1 1 1 1 1 1 1 1 1 1 1 1 1 1\n"
     ]
    },
    {
     "name": "stdout",
     "output_type": "stream",
     "text": [
      "INFO:tensorflow:label: 1 (id = 1)\n"
     ]
    },
    {
     "name": "stderr",
     "output_type": "stream",
     "text": [
      "I0620 08:47:14.468088 139737458554624 tf_logging.py:115] label: 1 (id = 1)\n"
     ]
    },
    {
     "name": "stdout",
     "output_type": "stream",
     "text": [
      "INFO:tensorflow:*** Example ***\n"
     ]
    },
    {
     "name": "stderr",
     "output_type": "stream",
     "text": [
      "I0620 08:47:14.470489 139737458554624 tf_logging.py:115] *** Example ***\n"
     ]
    },
    {
     "name": "stdout",
     "output_type": "stream",
     "text": [
      "INFO:tensorflow:guid: None\n"
     ]
    },
    {
     "name": "stderr",
     "output_type": "stream",
     "text": [
      "I0620 08:47:14.471103 139737458554624 tf_logging.py:115] guid: None\n"
     ]
    },
    {
     "name": "stdout",
     "output_type": "stream",
     "text": [
      "INFO:tensorflow:tokens: [CLS] mr . nixon believes that the program which we have recommended , of medical care for the aged tied to social security , is extreme . he believes , and has said so , that $ 1 . 25 an hour minimum wage is extreme . [ response from the audience . [SEP] my opponent wants to win . why do n ' t i say , let ' s have a dollar and a half ? why not a $ 2 minimum wage ? why not $ 5 ? and here you get the basic economic principles . if you raise the minimum wage , in my opinion - and all the experts confirm this that i have talked to in the government - above [SEP]\n"
     ]
    },
    {
     "name": "stderr",
     "output_type": "stream",
     "text": [
      "I0620 08:47:14.471755 139737458554624 tf_logging.py:115] tokens: [CLS] mr . nixon believes that the program which we have recommended , of medical care for the aged tied to social security , is extreme . he believes , and has said so , that $ 1 . 25 an hour minimum wage is extreme . [ response from the audience . [SEP] my opponent wants to win . why do n ' t i say , let ' s have a dollar and a half ? why not a $ 2 minimum wage ? why not $ 5 ? and here you get the basic economic principles . if you raise the minimum wage , in my opinion - and all the experts confirm this that i have talked to in the government - above [SEP]\n"
     ]
    },
    {
     "name": "stdout",
     "output_type": "stream",
     "text": [
      "INFO:tensorflow:input_ids: 101 2720 1012 11296 7164 2008 1996 2565 2029 2057 2031 6749 1010 1997 2966 2729 2005 1996 4793 5079 2000 2591 3036 1010 2003 6034 1012 2002 7164 1010 1998 2038 2056 2061 1010 2008 1002 1015 1012 2423 2019 3178 6263 11897 2003 6034 1012 1031 3433 2013 1996 4378 1012 102 2026 7116 4122 2000 2663 1012 2339 2079 1050 1005 1056 1045 2360 1010 2292 1005 1055 2031 1037 7922 1998 1037 2431 1029 2339 2025 1037 1002 1016 6263 11897 1029 2339 2025 1002 1019 1029 1998 2182 2017 2131 1996 3937 3171 6481 1012 2065 2017 5333 1996 6263 11897 1010 1999 2026 5448 1011 1998 2035 1996 8519 12210 2023 2008 1045 2031 5720 2000 1999 1996 2231 1011 2682 102\n"
     ]
    },
    {
     "name": "stderr",
     "output_type": "stream",
     "text": [
      "I0620 08:47:14.472320 139737458554624 tf_logging.py:115] input_ids: 101 2720 1012 11296 7164 2008 1996 2565 2029 2057 2031 6749 1010 1997 2966 2729 2005 1996 4793 5079 2000 2591 3036 1010 2003 6034 1012 2002 7164 1010 1998 2038 2056 2061 1010 2008 1002 1015 1012 2423 2019 3178 6263 11897 2003 6034 1012 1031 3433 2013 1996 4378 1012 102 2026 7116 4122 2000 2663 1012 2339 2079 1050 1005 1056 1045 2360 1010 2292 1005 1055 2031 1037 7922 1998 1037 2431 1029 2339 2025 1037 1002 1016 6263 11897 1029 2339 2025 1002 1019 1029 1998 2182 2017 2131 1996 3937 3171 6481 1012 2065 2017 5333 1996 6263 11897 1010 1999 2026 5448 1011 1998 2035 1996 8519 12210 2023 2008 1045 2031 5720 2000 1999 1996 2231 1011 2682 102\n"
     ]
    },
    {
     "name": "stdout",
     "output_type": "stream",
     "text": [
      "INFO:tensorflow:input_mask: 1 1 1 1 1 1 1 1 1 1 1 1 1 1 1 1 1 1 1 1 1 1 1 1 1 1 1 1 1 1 1 1 1 1 1 1 1 1 1 1 1 1 1 1 1 1 1 1 1 1 1 1 1 1 1 1 1 1 1 1 1 1 1 1 1 1 1 1 1 1 1 1 1 1 1 1 1 1 1 1 1 1 1 1 1 1 1 1 1 1 1 1 1 1 1 1 1 1 1 1 1 1 1 1 1 1 1 1 1 1 1 1 1 1 1 1 1 1 1 1 1 1 1 1 1 1 1 1\n"
     ]
    },
    {
     "name": "stderr",
     "output_type": "stream",
     "text": [
      "I0620 08:47:14.473004 139737458554624 tf_logging.py:115] input_mask: 1 1 1 1 1 1 1 1 1 1 1 1 1 1 1 1 1 1 1 1 1 1 1 1 1 1 1 1 1 1 1 1 1 1 1 1 1 1 1 1 1 1 1 1 1 1 1 1 1 1 1 1 1 1 1 1 1 1 1 1 1 1 1 1 1 1 1 1 1 1 1 1 1 1 1 1 1 1 1 1 1 1 1 1 1 1 1 1 1 1 1 1 1 1 1 1 1 1 1 1 1 1 1 1 1 1 1 1 1 1 1 1 1 1 1 1 1 1 1 1 1 1 1 1 1 1 1 1\n"
     ]
    },
    {
     "name": "stdout",
     "output_type": "stream",
     "text": [
      "INFO:tensorflow:segment_ids: 0 0 0 0 0 0 0 0 0 0 0 0 0 0 0 0 0 0 0 0 0 0 0 0 0 0 0 0 0 0 0 0 0 0 0 0 0 0 0 0 0 0 0 0 0 0 0 0 0 0 0 0 0 0 1 1 1 1 1 1 1 1 1 1 1 1 1 1 1 1 1 1 1 1 1 1 1 1 1 1 1 1 1 1 1 1 1 1 1 1 1 1 1 1 1 1 1 1 1 1 1 1 1 1 1 1 1 1 1 1 1 1 1 1 1 1 1 1 1 1 1 1 1 1 1 1 1 1\n"
     ]
    },
    {
     "name": "stderr",
     "output_type": "stream",
     "text": [
      "I0620 08:47:14.473523 139737458554624 tf_logging.py:115] segment_ids: 0 0 0 0 0 0 0 0 0 0 0 0 0 0 0 0 0 0 0 0 0 0 0 0 0 0 0 0 0 0 0 0 0 0 0 0 0 0 0 0 0 0 0 0 0 0 0 0 0 0 0 0 0 0 1 1 1 1 1 1 1 1 1 1 1 1 1 1 1 1 1 1 1 1 1 1 1 1 1 1 1 1 1 1 1 1 1 1 1 1 1 1 1 1 1 1 1 1 1 1 1 1 1 1 1 1 1 1 1 1 1 1 1 1 1 1 1 1 1 1 1 1 1 1 1 1 1 1\n"
     ]
    },
    {
     "name": "stdout",
     "output_type": "stream",
     "text": [
      "INFO:tensorflow:label: 1 (id = 1)\n"
     ]
    },
    {
     "name": "stderr",
     "output_type": "stream",
     "text": [
      "I0620 08:47:14.474037 139737458554624 tf_logging.py:115] label: 1 (id = 1)\n"
     ]
    },
    {
     "name": "stdout",
     "output_type": "stream",
     "text": [
      "INFO:tensorflow:*** Example ***\n"
     ]
    },
    {
     "name": "stderr",
     "output_type": "stream",
     "text": [
      "I0620 08:47:14.478058 139737458554624 tf_logging.py:115] *** Example ***\n"
     ]
    },
    {
     "name": "stdout",
     "output_type": "stream",
     "text": [
      "INFO:tensorflow:guid: None\n"
     ]
    },
    {
     "name": "stderr",
     "output_type": "stream",
     "text": [
      "I0620 08:47:14.478912 139737458554624 tf_logging.py:115] guid: None\n"
     ]
    },
    {
     "name": "stdout",
     "output_type": "stream",
     "text": [
      "INFO:tensorflow:tokens: [CLS] i am proud of the fact that i was endorsed by the afl - ci ##o . for i know that the american labor movement wants for america what i want for america : the elimination of poverty and unemployment , the rees ##ta ##bl ##ishment of america ' s world leadership , the guarantee of full civil rights for all our citizens [SEP] franklin roosevelt once reminded us that we can not be content * * * if some fraction of our people - whether it be one - third or one - fifth or one - tenth - is ill - fed , ill - clothed , ill - housed , and ins ##ecure . but mr . nixon and the party he leads [SEP]\n"
     ]
    },
    {
     "name": "stderr",
     "output_type": "stream",
     "text": [
      "I0620 08:47:14.479799 139737458554624 tf_logging.py:115] tokens: [CLS] i am proud of the fact that i was endorsed by the afl - ci ##o . for i know that the american labor movement wants for america what i want for america : the elimination of poverty and unemployment , the rees ##ta ##bl ##ishment of america ' s world leadership , the guarantee of full civil rights for all our citizens [SEP] franklin roosevelt once reminded us that we can not be content * * * if some fraction of our people - whether it be one - third or one - fifth or one - tenth - is ill - fed , ill - clothed , ill - housed , and ins ##ecure . but mr . nixon and the party he leads [SEP]\n"
     ]
    },
    {
     "name": "stdout",
     "output_type": "stream",
     "text": [
      "INFO:tensorflow:input_ids: 101 1045 2572 7098 1997 1996 2755 2008 1045 2001 11763 2011 1996 10028 1011 25022 2080 1012 2005 1045 2113 2008 1996 2137 4450 2929 4122 2005 2637 2054 1045 2215 2005 2637 1024 1996 9614 1997 5635 1998 12163 1010 1996 22131 2696 16558 21808 1997 2637 1005 1055 2088 4105 1010 1996 11302 1997 2440 2942 2916 2005 2035 2256 4480 102 5951 8573 2320 6966 2149 2008 2057 2064 2025 2022 4180 1008 1008 1008 2065 2070 12884 1997 2256 2111 1011 3251 2009 2022 2028 1011 2353 2030 2028 1011 3587 2030 2028 1011 7891 1011 2003 5665 1011 7349 1010 5665 1011 24963 1010 5665 1011 7431 1010 1998 16021 29150 1012 2021 2720 1012 11296 1998 1996 2283 2002 5260 102\n"
     ]
    },
    {
     "name": "stderr",
     "output_type": "stream",
     "text": [
      "I0620 08:47:14.480429 139737458554624 tf_logging.py:115] input_ids: 101 1045 2572 7098 1997 1996 2755 2008 1045 2001 11763 2011 1996 10028 1011 25022 2080 1012 2005 1045 2113 2008 1996 2137 4450 2929 4122 2005 2637 2054 1045 2215 2005 2637 1024 1996 9614 1997 5635 1998 12163 1010 1996 22131 2696 16558 21808 1997 2637 1005 1055 2088 4105 1010 1996 11302 1997 2440 2942 2916 2005 2035 2256 4480 102 5951 8573 2320 6966 2149 2008 2057 2064 2025 2022 4180 1008 1008 1008 2065 2070 12884 1997 2256 2111 1011 3251 2009 2022 2028 1011 2353 2030 2028 1011 3587 2030 2028 1011 7891 1011 2003 5665 1011 7349 1010 5665 1011 24963 1010 5665 1011 7431 1010 1998 16021 29150 1012 2021 2720 1012 11296 1998 1996 2283 2002 5260 102\n"
     ]
    },
    {
     "name": "stdout",
     "output_type": "stream",
     "text": [
      "INFO:tensorflow:input_mask: 1 1 1 1 1 1 1 1 1 1 1 1 1 1 1 1 1 1 1 1 1 1 1 1 1 1 1 1 1 1 1 1 1 1 1 1 1 1 1 1 1 1 1 1 1 1 1 1 1 1 1 1 1 1 1 1 1 1 1 1 1 1 1 1 1 1 1 1 1 1 1 1 1 1 1 1 1 1 1 1 1 1 1 1 1 1 1 1 1 1 1 1 1 1 1 1 1 1 1 1 1 1 1 1 1 1 1 1 1 1 1 1 1 1 1 1 1 1 1 1 1 1 1 1 1 1 1 1\n"
     ]
    },
    {
     "name": "stderr",
     "output_type": "stream",
     "text": [
      "I0620 08:47:14.480988 139737458554624 tf_logging.py:115] input_mask: 1 1 1 1 1 1 1 1 1 1 1 1 1 1 1 1 1 1 1 1 1 1 1 1 1 1 1 1 1 1 1 1 1 1 1 1 1 1 1 1 1 1 1 1 1 1 1 1 1 1 1 1 1 1 1 1 1 1 1 1 1 1 1 1 1 1 1 1 1 1 1 1 1 1 1 1 1 1 1 1 1 1 1 1 1 1 1 1 1 1 1 1 1 1 1 1 1 1 1 1 1 1 1 1 1 1 1 1 1 1 1 1 1 1 1 1 1 1 1 1 1 1 1 1 1 1 1 1\n"
     ]
    },
    {
     "name": "stdout",
     "output_type": "stream",
     "text": [
      "INFO:tensorflow:segment_ids: 0 0 0 0 0 0 0 0 0 0 0 0 0 0 0 0 0 0 0 0 0 0 0 0 0 0 0 0 0 0 0 0 0 0 0 0 0 0 0 0 0 0 0 0 0 0 0 0 0 0 0 0 0 0 0 0 0 0 0 0 0 0 0 0 0 1 1 1 1 1 1 1 1 1 1 1 1 1 1 1 1 1 1 1 1 1 1 1 1 1 1 1 1 1 1 1 1 1 1 1 1 1 1 1 1 1 1 1 1 1 1 1 1 1 1 1 1 1 1 1 1 1 1 1 1 1 1 1\n"
     ]
    },
    {
     "name": "stderr",
     "output_type": "stream",
     "text": [
      "I0620 08:47:14.481791 139737458554624 tf_logging.py:115] segment_ids: 0 0 0 0 0 0 0 0 0 0 0 0 0 0 0 0 0 0 0 0 0 0 0 0 0 0 0 0 0 0 0 0 0 0 0 0 0 0 0 0 0 0 0 0 0 0 0 0 0 0 0 0 0 0 0 0 0 0 0 0 0 0 0 0 0 1 1 1 1 1 1 1 1 1 1 1 1 1 1 1 1 1 1 1 1 1 1 1 1 1 1 1 1 1 1 1 1 1 1 1 1 1 1 1 1 1 1 1 1 1 1 1 1 1 1 1 1 1 1 1 1 1 1 1 1 1 1 1\n"
     ]
    },
    {
     "name": "stdout",
     "output_type": "stream",
     "text": [
      "INFO:tensorflow:label: 1 (id = 1)\n"
     ]
    },
    {
     "name": "stderr",
     "output_type": "stream",
     "text": [
      "I0620 08:47:14.482420 139737458554624 tf_logging.py:115] label: 1 (id = 1)\n"
     ]
    },
    {
     "name": "stdout",
     "output_type": "stream",
     "text": [
      "INFO:tensorflow:*** Example ***\n"
     ]
    },
    {
     "name": "stderr",
     "output_type": "stream",
     "text": [
      "I0620 08:47:14.486060 139737458554624 tf_logging.py:115] *** Example ***\n"
     ]
    },
    {
     "name": "stdout",
     "output_type": "stream",
     "text": [
      "INFO:tensorflow:guid: None\n"
     ]
    },
    {
     "name": "stderr",
     "output_type": "stream",
     "text": [
      "I0620 08:47:14.486890 139737458554624 tf_logging.py:115] guid: None\n"
     ]
    },
    {
     "name": "stdout",
     "output_type": "stream",
     "text": [
      "INFO:tensorflow:tokens: [CLS] and i really do n ' t think that we ' ve made enough progress , for example , in the area of di ##sar ##mament in the last years . we ' ve only had about 100 people working in the entire federal government on the subject of di ##sar ##mament , the subject of nuclear testing . that ' s a [SEP] it ' s only di ##sar ##mament with inspection that will reduce the risk of war . so , i pledge to you that , with my colleague , cab ##ot lodge , to whom i am going to give special assignments in this field , we will take the initiative at every opportunity to deal with mr . k ##hr ##ush [SEP]\n"
     ]
    },
    {
     "name": "stderr",
     "output_type": "stream",
     "text": [
      "I0620 08:47:14.487594 139737458554624 tf_logging.py:115] tokens: [CLS] and i really do n ' t think that we ' ve made enough progress , for example , in the area of di ##sar ##mament in the last years . we ' ve only had about 100 people working in the entire federal government on the subject of di ##sar ##mament , the subject of nuclear testing . that ' s a [SEP] it ' s only di ##sar ##mament with inspection that will reduce the risk of war . so , i pledge to you that , with my colleague , cab ##ot lodge , to whom i am going to give special assignments in this field , we will take the initiative at every opportunity to deal with mr . k ##hr ##ush [SEP]\n"
     ]
    },
    {
     "name": "stdout",
     "output_type": "stream",
     "text": [
      "INFO:tensorflow:input_ids: 101 1998 1045 2428 2079 1050 1005 1056 2228 2008 2057 1005 2310 2081 2438 5082 1010 2005 2742 1010 1999 1996 2181 1997 4487 10286 28119 1999 1996 2197 2086 1012 2057 1005 2310 2069 2018 2055 2531 2111 2551 1999 1996 2972 2976 2231 2006 1996 3395 1997 4487 10286 28119 1010 1996 3395 1997 4517 5604 1012 2008 1005 1055 1037 102 2009 1005 1055 2069 4487 10286 28119 2007 10569 2008 2097 5547 1996 3891 1997 2162 1012 2061 1010 1045 16393 2000 2017 2008 1010 2007 2026 11729 1010 9298 4140 7410 1010 2000 3183 1045 2572 2183 2000 2507 2569 14799 1999 2023 2492 1010 2057 2097 2202 1996 6349 2012 2296 4495 2000 3066 2007 2720 1012 1047 8093 20668 102\n"
     ]
    },
    {
     "name": "stderr",
     "output_type": "stream",
     "text": [
      "I0620 08:47:14.488238 139737458554624 tf_logging.py:115] input_ids: 101 1998 1045 2428 2079 1050 1005 1056 2228 2008 2057 1005 2310 2081 2438 5082 1010 2005 2742 1010 1999 1996 2181 1997 4487 10286 28119 1999 1996 2197 2086 1012 2057 1005 2310 2069 2018 2055 2531 2111 2551 1999 1996 2972 2976 2231 2006 1996 3395 1997 4487 10286 28119 1010 1996 3395 1997 4517 5604 1012 2008 1005 1055 1037 102 2009 1005 1055 2069 4487 10286 28119 2007 10569 2008 2097 5547 1996 3891 1997 2162 1012 2061 1010 1045 16393 2000 2017 2008 1010 2007 2026 11729 1010 9298 4140 7410 1010 2000 3183 1045 2572 2183 2000 2507 2569 14799 1999 2023 2492 1010 2057 2097 2202 1996 6349 2012 2296 4495 2000 3066 2007 2720 1012 1047 8093 20668 102\n"
     ]
    },
    {
     "name": "stdout",
     "output_type": "stream",
     "text": [
      "INFO:tensorflow:input_mask: 1 1 1 1 1 1 1 1 1 1 1 1 1 1 1 1 1 1 1 1 1 1 1 1 1 1 1 1 1 1 1 1 1 1 1 1 1 1 1 1 1 1 1 1 1 1 1 1 1 1 1 1 1 1 1 1 1 1 1 1 1 1 1 1 1 1 1 1 1 1 1 1 1 1 1 1 1 1 1 1 1 1 1 1 1 1 1 1 1 1 1 1 1 1 1 1 1 1 1 1 1 1 1 1 1 1 1 1 1 1 1 1 1 1 1 1 1 1 1 1 1 1 1 1 1 1 1 1\n"
     ]
    },
    {
     "name": "stderr",
     "output_type": "stream",
     "text": [
      "I0620 08:47:14.488857 139737458554624 tf_logging.py:115] input_mask: 1 1 1 1 1 1 1 1 1 1 1 1 1 1 1 1 1 1 1 1 1 1 1 1 1 1 1 1 1 1 1 1 1 1 1 1 1 1 1 1 1 1 1 1 1 1 1 1 1 1 1 1 1 1 1 1 1 1 1 1 1 1 1 1 1 1 1 1 1 1 1 1 1 1 1 1 1 1 1 1 1 1 1 1 1 1 1 1 1 1 1 1 1 1 1 1 1 1 1 1 1 1 1 1 1 1 1 1 1 1 1 1 1 1 1 1 1 1 1 1 1 1 1 1 1 1 1 1\n"
     ]
    },
    {
     "name": "stdout",
     "output_type": "stream",
     "text": [
      "INFO:tensorflow:segment_ids: 0 0 0 0 0 0 0 0 0 0 0 0 0 0 0 0 0 0 0 0 0 0 0 0 0 0 0 0 0 0 0 0 0 0 0 0 0 0 0 0 0 0 0 0 0 0 0 0 0 0 0 0 0 0 0 0 0 0 0 0 0 0 0 0 0 1 1 1 1 1 1 1 1 1 1 1 1 1 1 1 1 1 1 1 1 1 1 1 1 1 1 1 1 1 1 1 1 1 1 1 1 1 1 1 1 1 1 1 1 1 1 1 1 1 1 1 1 1 1 1 1 1 1 1 1 1 1 1\n"
     ]
    },
    {
     "name": "stderr",
     "output_type": "stream",
     "text": [
      "I0620 08:47:14.489457 139737458554624 tf_logging.py:115] segment_ids: 0 0 0 0 0 0 0 0 0 0 0 0 0 0 0 0 0 0 0 0 0 0 0 0 0 0 0 0 0 0 0 0 0 0 0 0 0 0 0 0 0 0 0 0 0 0 0 0 0 0 0 0 0 0 0 0 0 0 0 0 0 0 0 0 0 1 1 1 1 1 1 1 1 1 1 1 1 1 1 1 1 1 1 1 1 1 1 1 1 1 1 1 1 1 1 1 1 1 1 1 1 1 1 1 1 1 1 1 1 1 1 1 1 1 1 1 1 1 1 1 1 1 1 1 1 1 1 1\n"
     ]
    },
    {
     "name": "stdout",
     "output_type": "stream",
     "text": [
      "INFO:tensorflow:label: 1 (id = 1)\n"
     ]
    },
    {
     "name": "stderr",
     "output_type": "stream",
     "text": [
      "I0620 08:47:14.490026 139737458554624 tf_logging.py:115] label: 1 (id = 1)\n"
     ]
    },
    {
     "name": "stdout",
     "output_type": "stream",
     "text": [
      "INFO:tensorflow:*** Example ***\n"
     ]
    },
    {
     "name": "stderr",
     "output_type": "stream",
     "text": [
      "I0620 08:47:14.491914 139737458554624 tf_logging.py:115] *** Example ***\n"
     ]
    },
    {
     "name": "stdout",
     "output_type": "stream",
     "text": [
      "INFO:tensorflow:guid: None\n"
     ]
    },
    {
     "name": "stderr",
     "output_type": "stream",
     "text": [
      "I0620 08:47:14.493737 139737458554624 tf_logging.py:115] guid: None\n"
     ]
    },
    {
     "name": "stdout",
     "output_type": "stream",
     "text": [
      "INFO:tensorflow:tokens: [CLS] we just want to keep it as it is . we do n ' t care about medical care for the aged . he says , as far as we are concerned , we have no programs , nothing to offer , except standing where we are . [SEP] to meet this distress , the democrats proposed that the medical expenses of retired americans be financed through the social security system . but mr . nixon and the republicans opposed medical care for the aged and they managed to defeat it in the congress . a national magazine reported that when the senate roll ##cal ##l killing medical care for older citizens was announced , the vice president smiled . [SEP]\n"
     ]
    },
    {
     "name": "stderr",
     "output_type": "stream",
     "text": [
      "I0620 08:47:14.494561 139737458554624 tf_logging.py:115] tokens: [CLS] we just want to keep it as it is . we do n ' t care about medical care for the aged . he says , as far as we are concerned , we have no programs , nothing to offer , except standing where we are . [SEP] to meet this distress , the democrats proposed that the medical expenses of retired americans be financed through the social security system . but mr . nixon and the republicans opposed medical care for the aged and they managed to defeat it in the congress . a national magazine reported that when the senate roll ##cal ##l killing medical care for older citizens was announced , the vice president smiled . [SEP]\n"
     ]
    },
    {
     "name": "stdout",
     "output_type": "stream",
     "text": [
      "INFO:tensorflow:input_ids: 101 2057 2074 2215 2000 2562 2009 2004 2009 2003 1012 2057 2079 1050 1005 1056 2729 2055 2966 2729 2005 1996 4793 1012 2002 2758 1010 2004 2521 2004 2057 2024 4986 1010 2057 2031 2053 3454 1010 2498 2000 3749 1010 3272 3061 2073 2057 2024 1012 102 2000 3113 2023 12893 1010 1996 8037 3818 2008 1996 2966 11727 1997 3394 4841 2022 13790 2083 1996 2591 3036 2291 1012 2021 2720 1012 11296 1998 1996 10643 4941 2966 2729 2005 1996 4793 1998 2027 3266 2000 4154 2009 1999 1996 3519 1012 1037 2120 2932 2988 2008 2043 1996 4001 4897 9289 2140 4288 2966 2729 2005 3080 4480 2001 2623 1010 1996 3580 2343 3281 1012 102 0 0 0 0 0 0\n"
     ]
    },
    {
     "name": "stderr",
     "output_type": "stream",
     "text": [
      "I0620 08:47:14.495139 139737458554624 tf_logging.py:115] input_ids: 101 2057 2074 2215 2000 2562 2009 2004 2009 2003 1012 2057 2079 1050 1005 1056 2729 2055 2966 2729 2005 1996 4793 1012 2002 2758 1010 2004 2521 2004 2057 2024 4986 1010 2057 2031 2053 3454 1010 2498 2000 3749 1010 3272 3061 2073 2057 2024 1012 102 2000 3113 2023 12893 1010 1996 8037 3818 2008 1996 2966 11727 1997 3394 4841 2022 13790 2083 1996 2591 3036 2291 1012 2021 2720 1012 11296 1998 1996 10643 4941 2966 2729 2005 1996 4793 1998 2027 3266 2000 4154 2009 1999 1996 3519 1012 1037 2120 2932 2988 2008 2043 1996 4001 4897 9289 2140 4288 2966 2729 2005 3080 4480 2001 2623 1010 1996 3580 2343 3281 1012 102 0 0 0 0 0 0\n"
     ]
    },
    {
     "name": "stdout",
     "output_type": "stream",
     "text": [
      "INFO:tensorflow:input_mask: 1 1 1 1 1 1 1 1 1 1 1 1 1 1 1 1 1 1 1 1 1 1 1 1 1 1 1 1 1 1 1 1 1 1 1 1 1 1 1 1 1 1 1 1 1 1 1 1 1 1 1 1 1 1 1 1 1 1 1 1 1 1 1 1 1 1 1 1 1 1 1 1 1 1 1 1 1 1 1 1 1 1 1 1 1 1 1 1 1 1 1 1 1 1 1 1 1 1 1 1 1 1 1 1 1 1 1 1 1 1 1 1 1 1 1 1 1 1 1 1 1 1 0 0 0 0 0 0\n"
     ]
    },
    {
     "name": "stderr",
     "output_type": "stream",
     "text": [
      "I0620 08:47:14.496027 139737458554624 tf_logging.py:115] input_mask: 1 1 1 1 1 1 1 1 1 1 1 1 1 1 1 1 1 1 1 1 1 1 1 1 1 1 1 1 1 1 1 1 1 1 1 1 1 1 1 1 1 1 1 1 1 1 1 1 1 1 1 1 1 1 1 1 1 1 1 1 1 1 1 1 1 1 1 1 1 1 1 1 1 1 1 1 1 1 1 1 1 1 1 1 1 1 1 1 1 1 1 1 1 1 1 1 1 1 1 1 1 1 1 1 1 1 1 1 1 1 1 1 1 1 1 1 1 1 1 1 1 1 0 0 0 0 0 0\n"
     ]
    },
    {
     "name": "stdout",
     "output_type": "stream",
     "text": [
      "INFO:tensorflow:segment_ids: 0 0 0 0 0 0 0 0 0 0 0 0 0 0 0 0 0 0 0 0 0 0 0 0 0 0 0 0 0 0 0 0 0 0 0 0 0 0 0 0 0 0 0 0 0 0 0 0 0 0 1 1 1 1 1 1 1 1 1 1 1 1 1 1 1 1 1 1 1 1 1 1 1 1 1 1 1 1 1 1 1 1 1 1 1 1 1 1 1 1 1 1 1 1 1 1 1 1 1 1 1 1 1 1 1 1 1 1 1 1 1 1 1 1 1 1 1 1 1 1 1 1 0 0 0 0 0 0\n"
     ]
    },
    {
     "name": "stderr",
     "output_type": "stream",
     "text": [
      "I0620 08:47:14.496546 139737458554624 tf_logging.py:115] segment_ids: 0 0 0 0 0 0 0 0 0 0 0 0 0 0 0 0 0 0 0 0 0 0 0 0 0 0 0 0 0 0 0 0 0 0 0 0 0 0 0 0 0 0 0 0 0 0 0 0 0 0 1 1 1 1 1 1 1 1 1 1 1 1 1 1 1 1 1 1 1 1 1 1 1 1 1 1 1 1 1 1 1 1 1 1 1 1 1 1 1 1 1 1 1 1 1 1 1 1 1 1 1 1 1 1 1 1 1 1 1 1 1 1 1 1 1 1 1 1 1 1 1 1 0 0 0 0 0 0\n"
     ]
    },
    {
     "name": "stdout",
     "output_type": "stream",
     "text": [
      "INFO:tensorflow:label: 1 (id = 1)\n"
     ]
    },
    {
     "name": "stderr",
     "output_type": "stream",
     "text": [
      "I0620 08:47:14.497107 139737458554624 tf_logging.py:115] label: 1 (id = 1)\n"
     ]
    },
    {
     "name": "stdout",
     "output_type": "stream",
     "text": [
      "Beginning Training!\n",
      "test labels 1    73\n",
      "0    73\n",
      "Name: label, dtype: int64\n",
      "train labels 0    658\n",
      "1    656\n",
      "Name: label, dtype: int64\n",
      "INFO:tensorflow:Using config: {'_model_dir': 'BERT_RUN2019-06-20 08:25:39.792798political', '_tf_random_seed': None, '_save_summary_steps': 100, '_save_checkpoints_steps': 5000, '_save_checkpoints_secs': None, '_session_config': allow_soft_placement: true\n",
      "graph_options {\n",
      "  rewrite_options {\n",
      "    meta_optimizer_iterations: ONE\n",
      "  }\n",
      "}\n",
      ", '_keep_checkpoint_max': 5, '_keep_checkpoint_every_n_hours': 10000, '_log_step_count_steps': 100, '_train_distribute': None, '_device_fn': None, '_protocol': None, '_eval_distribute': None, '_experimental_distribute': None, '_service': None, '_cluster_spec': <tensorflow.python.training.server_lib.ClusterSpec object at 0x7f135330db38>, '_task_type': 'worker', '_task_id': 0, '_global_id_in_cluster': 0, '_master': '', '_evaluation_master': '', '_is_chief': True, '_num_ps_replicas': 0, '_num_worker_replicas': 1}\n"
     ]
    },
    {
     "name": "stderr",
     "output_type": "stream",
     "text": [
      "I0620 08:47:14.801348 139737458554624 tf_logging.py:115] Using config: {'_model_dir': 'BERT_RUN2019-06-20 08:25:39.792798political', '_tf_random_seed': None, '_save_summary_steps': 100, '_save_checkpoints_steps': 5000, '_save_checkpoints_secs': None, '_session_config': allow_soft_placement: true\n",
      "graph_options {\n",
      "  rewrite_options {\n",
      "    meta_optimizer_iterations: ONE\n",
      "  }\n",
      "}\n",
      ", '_keep_checkpoint_max': 5, '_keep_checkpoint_every_n_hours': 10000, '_log_step_count_steps': 100, '_train_distribute': None, '_device_fn': None, '_protocol': None, '_eval_distribute': None, '_experimental_distribute': None, '_service': None, '_cluster_spec': <tensorflow.python.training.server_lib.ClusterSpec object at 0x7f135330db38>, '_task_type': 'worker', '_task_id': 0, '_global_id_in_cluster': 0, '_master': '', '_evaluation_master': '', '_is_chief': True, '_num_ps_replicas': 0, '_num_worker_replicas': 1}\n"
     ]
    },
    {
     "name": "stdout",
     "output_type": "stream",
     "text": [
      "INFO:tensorflow:Calling model_fn.\n"
     ]
    },
    {
     "name": "stderr",
     "output_type": "stream",
     "text": [
      "I0620 08:47:15.214282 139737458554624 tf_logging.py:115] Calling model_fn.\n"
     ]
    },
    {
     "name": "stdout",
     "output_type": "stream",
     "text": [
      "INFO:tensorflow:Saver not created because there are no variables in the graph to restore\n"
     ]
    },
    {
     "name": "stderr",
     "output_type": "stream",
     "text": [
      "I0620 08:47:17.376794 139737458554624 tf_logging.py:115] Saver not created because there are no variables in the graph to restore\n"
     ]
    },
    {
     "name": "stdout",
     "output_type": "stream",
     "text": [
      "INFO:tensorflow:Done calling model_fn.\n"
     ]
    },
    {
     "name": "stderr",
     "output_type": "stream",
     "text": [
      "I0620 08:47:23.096814 139737458554624 tf_logging.py:115] Done calling model_fn.\n"
     ]
    },
    {
     "name": "stdout",
     "output_type": "stream",
     "text": [
      "INFO:tensorflow:Create CheckpointSaverHook.\n"
     ]
    },
    {
     "name": "stderr",
     "output_type": "stream",
     "text": [
      "I0620 08:47:23.099333 139737458554624 tf_logging.py:115] Create CheckpointSaverHook.\n"
     ]
    },
    {
     "name": "stdout",
     "output_type": "stream",
     "text": [
      "INFO:tensorflow:Graph was finalized.\n"
     ]
    },
    {
     "name": "stderr",
     "output_type": "stream",
     "text": [
      "I0620 08:47:24.015322 139737458554624 tf_logging.py:115] Graph was finalized.\n"
     ]
    },
    {
     "name": "stdout",
     "output_type": "stream",
     "text": [
      "INFO:tensorflow:Running local_init_op.\n"
     ]
    },
    {
     "name": "stderr",
     "output_type": "stream",
     "text": [
      "I0620 08:47:28.426054 139737458554624 tf_logging.py:115] Running local_init_op.\n"
     ]
    },
    {
     "name": "stdout",
     "output_type": "stream",
     "text": [
      "INFO:tensorflow:Done running local_init_op.\n"
     ]
    },
    {
     "name": "stderr",
     "output_type": "stream",
     "text": [
      "I0620 08:47:28.535632 139737458554624 tf_logging.py:115] Done running local_init_op.\n"
     ]
    },
    {
     "name": "stdout",
     "output_type": "stream",
     "text": [
      "INFO:tensorflow:Saving checkpoints for 0 into BERT_RUN2019-06-20 08:25:39.792798political/model.ckpt.\n"
     ]
    },
    {
     "name": "stderr",
     "output_type": "stream",
     "text": [
      "I0620 08:47:34.661090 139737458554624 tf_logging.py:115] Saving checkpoints for 0 into BERT_RUN2019-06-20 08:25:39.792798political/model.ckpt.\n"
     ]
    },
    {
     "name": "stdout",
     "output_type": "stream",
     "text": [
      "INFO:tensorflow:loss = 0.64839846, step = 0\n"
     ]
    },
    {
     "name": "stderr",
     "output_type": "stream",
     "text": [
      "I0620 08:47:46.246988 139737458554624 tf_logging.py:115] loss = 0.64839846, step = 0\n"
     ]
    },
    {
     "name": "stdout",
     "output_type": "stream",
     "text": [
      "INFO:tensorflow:global_step/sec: 2.2968\n"
     ]
    },
    {
     "name": "stderr",
     "output_type": "stream",
     "text": [
      "I0620 08:48:29.785260 139737458554624 tf_logging.py:115] global_step/sec: 2.2968\n"
     ]
    },
    {
     "name": "stdout",
     "output_type": "stream",
     "text": [
      "INFO:tensorflow:loss = 0.60313904, step = 100 (43.540 sec)\n"
     ]
    },
    {
     "name": "stderr",
     "output_type": "stream",
     "text": [
      "I0620 08:48:29.787075 139737458554624 tf_logging.py:115] loss = 0.60313904, step = 100 (43.540 sec)\n"
     ]
    },
    {
     "name": "stdout",
     "output_type": "stream",
     "text": [
      "INFO:tensorflow:global_step/sec: 3.1792\n"
     ]
    },
    {
     "name": "stderr",
     "output_type": "stream",
     "text": [
      "I0620 08:49:01.241323 139737458554624 tf_logging.py:115] global_step/sec: 3.1792\n"
     ]
    },
    {
     "name": "stdout",
     "output_type": "stream",
     "text": [
      "INFO:tensorflow:loss = 0.42852426, step = 200 (31.458 sec)\n"
     ]
    },
    {
     "name": "stderr",
     "output_type": "stream",
     "text": [
      "I0620 08:49:01.244801 139737458554624 tf_logging.py:115] loss = 0.42852426, step = 200 (31.458 sec)\n"
     ]
    },
    {
     "name": "stdout",
     "output_type": "stream",
     "text": [
      "INFO:tensorflow:global_step/sec: 3.17606\n"
     ]
    },
    {
     "name": "stderr",
     "output_type": "stream",
     "text": [
      "I0620 08:49:32.725214 139737458554624 tf_logging.py:115] global_step/sec: 3.17606\n"
     ]
    },
    {
     "name": "stdout",
     "output_type": "stream",
     "text": [
      "INFO:tensorflow:loss = 0.5436842, step = 300 (31.482 sec)\n"
     ]
    },
    {
     "name": "stderr",
     "output_type": "stream",
     "text": [
      "I0620 08:49:32.727254 139737458554624 tf_logging.py:115] loss = 0.5436842, step = 300 (31.482 sec)\n"
     ]
    },
    {
     "name": "stdout",
     "output_type": "stream",
     "text": [
      "INFO:tensorflow:global_step/sec: 3.17389\n"
     ]
    },
    {
     "name": "stderr",
     "output_type": "stream",
     "text": [
      "I0620 08:50:04.232335 139737458554624 tf_logging.py:115] global_step/sec: 3.17389\n"
     ]
    },
    {
     "name": "stdout",
     "output_type": "stream",
     "text": [
      "INFO:tensorflow:loss = 0.32651505, step = 400 (31.507 sec)\n"
     ]
    },
    {
     "name": "stderr",
     "output_type": "stream",
     "text": [
      "I0620 08:50:04.233955 139737458554624 tf_logging.py:115] loss = 0.32651505, step = 400 (31.507 sec)\n"
     ]
    },
    {
     "name": "stdout",
     "output_type": "stream",
     "text": [
      "INFO:tensorflow:Saving checkpoints for 492 into BERT_RUN2019-06-20 08:25:39.792798political/model.ckpt.\n"
     ]
    },
    {
     "name": "stderr",
     "output_type": "stream",
     "text": [
      "I0620 08:50:32.871688 139737458554624 tf_logging.py:115] Saving checkpoints for 492 into BERT_RUN2019-06-20 08:25:39.792798political/model.ckpt.\n"
     ]
    },
    {
     "name": "stdout",
     "output_type": "stream",
     "text": [
      "INFO:tensorflow:Loss for final step: 0.36757922.\n"
     ]
    },
    {
     "name": "stderr",
     "output_type": "stream",
     "text": [
      "I0620 08:50:39.615596 139737458554624 tf_logging.py:115] Loss for final step: 0.36757922.\n"
     ]
    },
    {
     "name": "stdout",
     "output_type": "stream",
     "text": [
      "<generator object Estimator.predict at 0x7f16854f4e08>\n",
      "INFO:tensorflow:Calling model_fn.\n"
     ]
    },
    {
     "name": "stderr",
     "output_type": "stream",
     "text": [
      "I0620 08:50:39.674133 139737458554624 tf_logging.py:115] Calling model_fn.\n"
     ]
    },
    {
     "name": "stdout",
     "output_type": "stream",
     "text": [
      "INFO:tensorflow:Saver not created because there are no variables in the graph to restore\n"
     ]
    },
    {
     "name": "stderr",
     "output_type": "stream",
     "text": [
      "I0620 08:50:42.180247 139737458554624 tf_logging.py:115] Saver not created because there are no variables in the graph to restore\n"
     ]
    },
    {
     "name": "stdout",
     "output_type": "stream",
     "text": [
      "INFO:tensorflow:Done calling model_fn.\n"
     ]
    },
    {
     "name": "stderr",
     "output_type": "stream",
     "text": [
      "I0620 08:50:42.285652 139737458554624 tf_logging.py:115] Done calling model_fn.\n"
     ]
    },
    {
     "name": "stdout",
     "output_type": "stream",
     "text": [
      "INFO:tensorflow:Graph was finalized.\n"
     ]
    },
    {
     "name": "stderr",
     "output_type": "stream",
     "text": [
      "I0620 08:50:42.610113 139737458554624 tf_logging.py:115] Graph was finalized.\n"
     ]
    },
    {
     "name": "stdout",
     "output_type": "stream",
     "text": [
      "INFO:tensorflow:Restoring parameters from BERT_RUN2019-06-20 08:25:39.792798political/model.ckpt-492\n"
     ]
    },
    {
     "name": "stderr",
     "output_type": "stream",
     "text": [
      "I0620 08:50:42.612650 139737458554624 tf_logging.py:115] Restoring parameters from BERT_RUN2019-06-20 08:25:39.792798political/model.ckpt-492\n"
     ]
    },
    {
     "name": "stdout",
     "output_type": "stream",
     "text": [
      "INFO:tensorflow:Running local_init_op.\n"
     ]
    },
    {
     "name": "stderr",
     "output_type": "stream",
     "text": [
      "I0620 08:50:43.043990 139737458554624 tf_logging.py:115] Running local_init_op.\n"
     ]
    },
    {
     "name": "stdout",
     "output_type": "stream",
     "text": [
      "INFO:tensorflow:Done running local_init_op.\n"
     ]
    },
    {
     "name": "stderr",
     "output_type": "stream",
     "text": [
      "I0620 08:50:43.088007 139737458554624 tf_logging.py:115] Done running local_init_op.\n"
     ]
    },
    {
     "name": "stdout",
     "output_type": "stream",
     "text": [
      "[0. 0. 0. 0. 0. 1. 0. 1. 1. 1. 1. 0. 1. 0. 0. 1. 1. 0. 0. 0. 0. 0. 0. 1.\n",
      " 0. 0. 0. 1. 1. 0. 0. 1. 1. 1. 0. 0. 0. 0. 0. 1. 0. 0. 0. 0. 0. 1. 1. 1.\n",
      " 1. 0. 1. 0. 0. 1. 0. 0. 1. 1. 1. 1. 0. 0. 0. 1. 1. 1. 1. 1. 0. 1. 0. 0.\n",
      " 0. 0. 0. 0. 1. 0. 0. 1. 1. 1. 0. 1. 0. 0. 0. 1. 0. 0. 0. 0. 1. 0. 1. 1.\n",
      " 0. 1. 1. 1. 1. 0. 1. 0. 0. 0. 1. 0. 1. 1. 0. 0. 0. 0. 0. 0. 1. 0. 0. 1.\n",
      " 1. 0. 1. 0. 0. 0. 0. 0. 1. 0. 1. 1. 0. 0. 1. 0. 0. 0. 1. 1. 0. 0. 1. 1.\n",
      " 1. 0.]\n",
      "              precision    recall  f1-score   support\n",
      "\n",
      "    relation       0.55      0.64      0.59        73\n",
      "   unrelated       0.57      0.48      0.52        73\n",
      "\n",
      "    accuracy                           0.56       146\n",
      "   macro avg       0.56      0.56      0.56       146\n",
      "weighted avg       0.56      0.56      0.56       146\n",
      "\n",
      "Accuracy: 0.5616438356164384\n",
      "Training took time  0:03:30.296699\n",
      "(1314, 8) (146, 8)\n",
      "INFO:tensorflow:Writing example 0 of 1314\n"
     ]
    },
    {
     "name": "stderr",
     "output_type": "stream",
     "text": [
      "I0620 08:50:45.247937 139737458554624 tf_logging.py:115] Writing example 0 of 1314\n"
     ]
    },
    {
     "name": "stdout",
     "output_type": "stream",
     "text": [
      "INFO:tensorflow:*** Example ***\n"
     ]
    },
    {
     "name": "stderr",
     "output_type": "stream",
     "text": [
      "I0620 08:50:45.251926 139737458554624 tf_logging.py:115] *** Example ***\n"
     ]
    },
    {
     "name": "stdout",
     "output_type": "stream",
     "text": [
      "INFO:tensorflow:guid: None\n"
     ]
    },
    {
     "name": "stderr",
     "output_type": "stream",
     "text": [
      "I0620 08:50:45.253046 139737458554624 tf_logging.py:115] guid: None\n"
     ]
    },
    {
     "name": "stdout",
     "output_type": "stream",
     "text": [
      "INFO:tensorflow:tokens: [CLS] what are the folks going to do ? what are the voters going to do ? here ' s what you do : first , you look at our record and on the record i say you compare the record of the eisenhower administration with the record of the administration which preceded it . both have been in for 7 ½ years , [SEP] and what about that future ? we want a future of progress , but above all , the people of this country are concerned that our children may grow up in a world in which we can be free and we can live at peace - and that is the most important thing that americans must think about at this time . [SEP]\n"
     ]
    },
    {
     "name": "stderr",
     "output_type": "stream",
     "text": [
      "I0620 08:50:45.254468 139737458554624 tf_logging.py:115] tokens: [CLS] what are the folks going to do ? what are the voters going to do ? here ' s what you do : first , you look at our record and on the record i say you compare the record of the eisenhower administration with the record of the administration which preceded it . both have been in for 7 ½ years , [SEP] and what about that future ? we want a future of progress , but above all , the people of this country are concerned that our children may grow up in a world in which we can be free and we can live at peace - and that is the most important thing that americans must think about at this time . [SEP]\n"
     ]
    },
    {
     "name": "stdout",
     "output_type": "stream",
     "text": [
      "INFO:tensorflow:input_ids: 101 2054 2024 1996 12455 2183 2000 2079 1029 2054 2024 1996 7206 2183 2000 2079 1029 2182 1005 1055 2054 2017 2079 1024 2034 1010 2017 2298 2012 2256 2501 1998 2006 1996 2501 1045 2360 2017 12826 1996 2501 1997 1996 16551 3447 2007 1996 2501 1997 1996 3447 2029 11677 2009 1012 2119 2031 2042 1999 2005 1021 1092 2086 1010 102 1998 2054 2055 2008 2925 1029 2057 2215 1037 2925 1997 5082 1010 2021 2682 2035 1010 1996 2111 1997 2023 2406 2024 4986 2008 2256 2336 2089 4982 2039 1999 1037 2088 1999 2029 2057 2064 2022 2489 1998 2057 2064 2444 2012 3521 1011 1998 2008 2003 1996 2087 2590 2518 2008 4841 2442 2228 2055 2012 2023 2051 1012 102\n"
     ]
    },
    {
     "name": "stderr",
     "output_type": "stream",
     "text": [
      "I0620 08:50:45.255062 139737458554624 tf_logging.py:115] input_ids: 101 2054 2024 1996 12455 2183 2000 2079 1029 2054 2024 1996 7206 2183 2000 2079 1029 2182 1005 1055 2054 2017 2079 1024 2034 1010 2017 2298 2012 2256 2501 1998 2006 1996 2501 1045 2360 2017 12826 1996 2501 1997 1996 16551 3447 2007 1996 2501 1997 1996 3447 2029 11677 2009 1012 2119 2031 2042 1999 2005 1021 1092 2086 1010 102 1998 2054 2055 2008 2925 1029 2057 2215 1037 2925 1997 5082 1010 2021 2682 2035 1010 1996 2111 1997 2023 2406 2024 4986 2008 2256 2336 2089 4982 2039 1999 1037 2088 1999 2029 2057 2064 2022 2489 1998 2057 2064 2444 2012 3521 1011 1998 2008 2003 1996 2087 2590 2518 2008 4841 2442 2228 2055 2012 2023 2051 1012 102\n"
     ]
    },
    {
     "name": "stdout",
     "output_type": "stream",
     "text": [
      "INFO:tensorflow:input_mask: 1 1 1 1 1 1 1 1 1 1 1 1 1 1 1 1 1 1 1 1 1 1 1 1 1 1 1 1 1 1 1 1 1 1 1 1 1 1 1 1 1 1 1 1 1 1 1 1 1 1 1 1 1 1 1 1 1 1 1 1 1 1 1 1 1 1 1 1 1 1 1 1 1 1 1 1 1 1 1 1 1 1 1 1 1 1 1 1 1 1 1 1 1 1 1 1 1 1 1 1 1 1 1 1 1 1 1 1 1 1 1 1 1 1 1 1 1 1 1 1 1 1 1 1 1 1 1 1\n"
     ]
    },
    {
     "name": "stderr",
     "output_type": "stream",
     "text": [
      "I0620 08:50:45.255651 139737458554624 tf_logging.py:115] input_mask: 1 1 1 1 1 1 1 1 1 1 1 1 1 1 1 1 1 1 1 1 1 1 1 1 1 1 1 1 1 1 1 1 1 1 1 1 1 1 1 1 1 1 1 1 1 1 1 1 1 1 1 1 1 1 1 1 1 1 1 1 1 1 1 1 1 1 1 1 1 1 1 1 1 1 1 1 1 1 1 1 1 1 1 1 1 1 1 1 1 1 1 1 1 1 1 1 1 1 1 1 1 1 1 1 1 1 1 1 1 1 1 1 1 1 1 1 1 1 1 1 1 1 1 1 1 1 1 1\n"
     ]
    },
    {
     "name": "stdout",
     "output_type": "stream",
     "text": [
      "INFO:tensorflow:segment_ids: 0 0 0 0 0 0 0 0 0 0 0 0 0 0 0 0 0 0 0 0 0 0 0 0 0 0 0 0 0 0 0 0 0 0 0 0 0 0 0 0 0 0 0 0 0 0 0 0 0 0 0 0 0 0 0 0 0 0 0 0 0 0 0 0 0 1 1 1 1 1 1 1 1 1 1 1 1 1 1 1 1 1 1 1 1 1 1 1 1 1 1 1 1 1 1 1 1 1 1 1 1 1 1 1 1 1 1 1 1 1 1 1 1 1 1 1 1 1 1 1 1 1 1 1 1 1 1 1\n"
     ]
    },
    {
     "name": "stderr",
     "output_type": "stream",
     "text": [
      "I0620 08:50:45.257349 139737458554624 tf_logging.py:115] segment_ids: 0 0 0 0 0 0 0 0 0 0 0 0 0 0 0 0 0 0 0 0 0 0 0 0 0 0 0 0 0 0 0 0 0 0 0 0 0 0 0 0 0 0 0 0 0 0 0 0 0 0 0 0 0 0 0 0 0 0 0 0 0 0 0 0 0 1 1 1 1 1 1 1 1 1 1 1 1 1 1 1 1 1 1 1 1 1 1 1 1 1 1 1 1 1 1 1 1 1 1 1 1 1 1 1 1 1 1 1 1 1 1 1 1 1 1 1 1 1 1 1 1 1 1 1 1 1 1 1\n"
     ]
    },
    {
     "name": "stdout",
     "output_type": "stream",
     "text": [
      "INFO:tensorflow:label: 1 (id = 1)\n"
     ]
    },
    {
     "name": "stderr",
     "output_type": "stream",
     "text": [
      "I0620 08:50:45.259054 139737458554624 tf_logging.py:115] label: 1 (id = 1)\n"
     ]
    },
    {
     "name": "stdout",
     "output_type": "stream",
     "text": [
      "INFO:tensorflow:*** Example ***\n"
     ]
    },
    {
     "name": "stderr",
     "output_type": "stream",
     "text": [
      "I0620 08:50:45.261708 139737458554624 tf_logging.py:115] *** Example ***\n"
     ]
    },
    {
     "name": "stdout",
     "output_type": "stream",
     "text": [
      "INFO:tensorflow:guid: None\n"
     ]
    },
    {
     "name": "stderr",
     "output_type": "stream",
     "text": [
      "I0620 08:50:45.262614 139737458554624 tf_logging.py:115] guid: None\n"
     ]
    },
    {
     "name": "stdout",
     "output_type": "stream",
     "text": [
      "INFO:tensorflow:tokens: [CLS] [ applause . ] mr . nixon considers a minimum wage of $ 1 . 25 to be extreme . mr . nixon considers federal aid to make sure that teachers are paid a decent salary to be extreme . [SEP] meanwhile , the contradictory statements of senator kennedy still leave him opposed to this position . the miss ##tate ##ment : in the second debate senator kennedy said : the republicans in recent years , not only in the last 25 years , but in the last 8 years , have opposed * * * minimum wage * * the facts : senator kennedy is saying that republicans who opposed his particular bill are against minimum wage . the administration supported an increase in the [SEP]\n"
     ]
    },
    {
     "name": "stderr",
     "output_type": "stream",
     "text": [
      "I0620 08:50:45.263305 139737458554624 tf_logging.py:115] tokens: [CLS] [ applause . ] mr . nixon considers a minimum wage of $ 1 . 25 to be extreme . mr . nixon considers federal aid to make sure that teachers are paid a decent salary to be extreme . [SEP] meanwhile , the contradictory statements of senator kennedy still leave him opposed to this position . the miss ##tate ##ment : in the second debate senator kennedy said : the republicans in recent years , not only in the last 25 years , but in the last 8 years , have opposed * * * minimum wage * * the facts : senator kennedy is saying that republicans who opposed his particular bill are against minimum wage . the administration supported an increase in the [SEP]\n"
     ]
    },
    {
     "name": "stdout",
     "output_type": "stream",
     "text": [
      "INFO:tensorflow:input_ids: 101 1031 20737 1012 1033 2720 1012 11296 10592 1037 6263 11897 1997 1002 1015 1012 2423 2000 2022 6034 1012 2720 1012 11296 10592 2976 4681 2000 2191 2469 2008 5089 2024 3825 1037 11519 10300 2000 2022 6034 1012 102 5564 1010 1996 27894 8635 1997 5205 5817 2145 2681 2032 4941 2000 2023 2597 1012 1996 3335 12259 3672 1024 1999 1996 2117 5981 5205 5817 2056 1024 1996 10643 1999 3522 2086 1010 2025 2069 1999 1996 2197 2423 2086 1010 2021 1999 1996 2197 1022 2086 1010 2031 4941 1008 1008 1008 6263 11897 1008 1008 1996 8866 1024 5205 5817 2003 3038 2008 10643 2040 4941 2010 3327 3021 2024 2114 6263 11897 1012 1996 3447 3569 2019 3623 1999 1996 102\n"
     ]
    },
    {
     "name": "stderr",
     "output_type": "stream",
     "text": [
      "I0620 08:50:45.264027 139737458554624 tf_logging.py:115] input_ids: 101 1031 20737 1012 1033 2720 1012 11296 10592 1037 6263 11897 1997 1002 1015 1012 2423 2000 2022 6034 1012 2720 1012 11296 10592 2976 4681 2000 2191 2469 2008 5089 2024 3825 1037 11519 10300 2000 2022 6034 1012 102 5564 1010 1996 27894 8635 1997 5205 5817 2145 2681 2032 4941 2000 2023 2597 1012 1996 3335 12259 3672 1024 1999 1996 2117 5981 5205 5817 2056 1024 1996 10643 1999 3522 2086 1010 2025 2069 1999 1996 2197 2423 2086 1010 2021 1999 1996 2197 1022 2086 1010 2031 4941 1008 1008 1008 6263 11897 1008 1008 1996 8866 1024 5205 5817 2003 3038 2008 10643 2040 4941 2010 3327 3021 2024 2114 6263 11897 1012 1996 3447 3569 2019 3623 1999 1996 102\n"
     ]
    },
    {
     "name": "stdout",
     "output_type": "stream",
     "text": [
      "INFO:tensorflow:input_mask: 1 1 1 1 1 1 1 1 1 1 1 1 1 1 1 1 1 1 1 1 1 1 1 1 1 1 1 1 1 1 1 1 1 1 1 1 1 1 1 1 1 1 1 1 1 1 1 1 1 1 1 1 1 1 1 1 1 1 1 1 1 1 1 1 1 1 1 1 1 1 1 1 1 1 1 1 1 1 1 1 1 1 1 1 1 1 1 1 1 1 1 1 1 1 1 1 1 1 1 1 1 1 1 1 1 1 1 1 1 1 1 1 1 1 1 1 1 1 1 1 1 1 1 1 1 1 1 1\n"
     ]
    },
    {
     "name": "stderr",
     "output_type": "stream",
     "text": [
      "I0620 08:50:45.264691 139737458554624 tf_logging.py:115] input_mask: 1 1 1 1 1 1 1 1 1 1 1 1 1 1 1 1 1 1 1 1 1 1 1 1 1 1 1 1 1 1 1 1 1 1 1 1 1 1 1 1 1 1 1 1 1 1 1 1 1 1 1 1 1 1 1 1 1 1 1 1 1 1 1 1 1 1 1 1 1 1 1 1 1 1 1 1 1 1 1 1 1 1 1 1 1 1 1 1 1 1 1 1 1 1 1 1 1 1 1 1 1 1 1 1 1 1 1 1 1 1 1 1 1 1 1 1 1 1 1 1 1 1 1 1 1 1 1 1\n"
     ]
    },
    {
     "name": "stdout",
     "output_type": "stream",
     "text": [
      "INFO:tensorflow:segment_ids: 0 0 0 0 0 0 0 0 0 0 0 0 0 0 0 0 0 0 0 0 0 0 0 0 0 0 0 0 0 0 0 0 0 0 0 0 0 0 0 0 0 0 1 1 1 1 1 1 1 1 1 1 1 1 1 1 1 1 1 1 1 1 1 1 1 1 1 1 1 1 1 1 1 1 1 1 1 1 1 1 1 1 1 1 1 1 1 1 1 1 1 1 1 1 1 1 1 1 1 1 1 1 1 1 1 1 1 1 1 1 1 1 1 1 1 1 1 1 1 1 1 1 1 1 1 1 1 1\n"
     ]
    },
    {
     "name": "stderr",
     "output_type": "stream",
     "text": [
      "I0620 08:50:45.265379 139737458554624 tf_logging.py:115] segment_ids: 0 0 0 0 0 0 0 0 0 0 0 0 0 0 0 0 0 0 0 0 0 0 0 0 0 0 0 0 0 0 0 0 0 0 0 0 0 0 0 0 0 0 1 1 1 1 1 1 1 1 1 1 1 1 1 1 1 1 1 1 1 1 1 1 1 1 1 1 1 1 1 1 1 1 1 1 1 1 1 1 1 1 1 1 1 1 1 1 1 1 1 1 1 1 1 1 1 1 1 1 1 1 1 1 1 1 1 1 1 1 1 1 1 1 1 1 1 1 1 1 1 1 1 1 1 1 1 1\n"
     ]
    },
    {
     "name": "stdout",
     "output_type": "stream",
     "text": [
      "INFO:tensorflow:label: 0 (id = 0)\n"
     ]
    },
    {
     "name": "stderr",
     "output_type": "stream",
     "text": [
      "I0620 08:50:45.265954 139737458554624 tf_logging.py:115] label: 0 (id = 0)\n"
     ]
    },
    {
     "name": "stdout",
     "output_type": "stream",
     "text": [
      "INFO:tensorflow:*** Example ***\n"
     ]
    },
    {
     "name": "stderr",
     "output_type": "stream",
     "text": [
      "I0620 08:50:45.267921 139737458554624 tf_logging.py:115] *** Example ***\n"
     ]
    },
    {
     "name": "stdout",
     "output_type": "stream",
     "text": [
      "INFO:tensorflow:guid: None\n"
     ]
    },
    {
     "name": "stderr",
     "output_type": "stream",
     "text": [
      "I0620 08:50:45.268584 139737458554624 tf_logging.py:115] guid: None\n"
     ]
    },
    {
     "name": "stdout",
     "output_type": "stream",
     "text": [
      "INFO:tensorflow:tokens: [CLS] [ applause . ] let me make it very clear that if we are successful in january , we are going to recommend the following programs : first , we are going to make sure that those americans who are retired , who are on social security , who do need medical care , shall have it under the social security system . [ applause . [SEP] [ applause . ] a party which opposed social security , which tried to repeal it , a party which opposed minimum wage and tried to repeal it , a party which has opposed our efforts to pass in this congress medical care for the aged to the social security . [ applause . [SEP]\n"
     ]
    },
    {
     "name": "stderr",
     "output_type": "stream",
     "text": [
      "I0620 08:50:45.269150 139737458554624 tf_logging.py:115] tokens: [CLS] [ applause . ] let me make it very clear that if we are successful in january , we are going to recommend the following programs : first , we are going to make sure that those americans who are retired , who are on social security , who do need medical care , shall have it under the social security system . [ applause . [SEP] [ applause . ] a party which opposed social security , which tried to repeal it , a party which opposed minimum wage and tried to repeal it , a party which has opposed our efforts to pass in this congress medical care for the aged to the social security . [ applause . [SEP]\n"
     ]
    },
    {
     "name": "stdout",
     "output_type": "stream",
     "text": [
      "INFO:tensorflow:input_ids: 101 1031 20737 1012 1033 2292 2033 2191 2009 2200 3154 2008 2065 2057 2024 3144 1999 2254 1010 2057 2024 2183 2000 16755 1996 2206 3454 1024 2034 1010 2057 2024 2183 2000 2191 2469 2008 2216 4841 2040 2024 3394 1010 2040 2024 2006 2591 3036 1010 2040 2079 2342 2966 2729 1010 4618 2031 2009 2104 1996 2591 3036 2291 1012 1031 20737 1012 102 1031 20737 1012 1033 1037 2283 2029 4941 2591 3036 1010 2029 2699 2000 21825 2009 1010 1037 2283 2029 4941 6263 11897 1998 2699 2000 21825 2009 1010 1037 2283 2029 2038 4941 2256 4073 2000 3413 1999 2023 3519 2966 2729 2005 1996 4793 2000 1996 2591 3036 1012 1031 20737 1012 102 0 0 0 0 0\n"
     ]
    },
    {
     "name": "stderr",
     "output_type": "stream",
     "text": [
      "I0620 08:50:45.269671 139737458554624 tf_logging.py:115] input_ids: 101 1031 20737 1012 1033 2292 2033 2191 2009 2200 3154 2008 2065 2057 2024 3144 1999 2254 1010 2057 2024 2183 2000 16755 1996 2206 3454 1024 2034 1010 2057 2024 2183 2000 2191 2469 2008 2216 4841 2040 2024 3394 1010 2040 2024 2006 2591 3036 1010 2040 2079 2342 2966 2729 1010 4618 2031 2009 2104 1996 2591 3036 2291 1012 1031 20737 1012 102 1031 20737 1012 1033 1037 2283 2029 4941 2591 3036 1010 2029 2699 2000 21825 2009 1010 1037 2283 2029 4941 6263 11897 1998 2699 2000 21825 2009 1010 1037 2283 2029 2038 4941 2256 4073 2000 3413 1999 2023 3519 2966 2729 2005 1996 4793 2000 1996 2591 3036 1012 1031 20737 1012 102 0 0 0 0 0\n"
     ]
    },
    {
     "name": "stdout",
     "output_type": "stream",
     "text": [
      "INFO:tensorflow:input_mask: 1 1 1 1 1 1 1 1 1 1 1 1 1 1 1 1 1 1 1 1 1 1 1 1 1 1 1 1 1 1 1 1 1 1 1 1 1 1 1 1 1 1 1 1 1 1 1 1 1 1 1 1 1 1 1 1 1 1 1 1 1 1 1 1 1 1 1 1 1 1 1 1 1 1 1 1 1 1 1 1 1 1 1 1 1 1 1 1 1 1 1 1 1 1 1 1 1 1 1 1 1 1 1 1 1 1 1 1 1 1 1 1 1 1 1 1 1 1 1 1 1 1 1 0 0 0 0 0\n"
     ]
    },
    {
     "name": "stderr",
     "output_type": "stream",
     "text": [
      "I0620 08:50:45.270250 139737458554624 tf_logging.py:115] input_mask: 1 1 1 1 1 1 1 1 1 1 1 1 1 1 1 1 1 1 1 1 1 1 1 1 1 1 1 1 1 1 1 1 1 1 1 1 1 1 1 1 1 1 1 1 1 1 1 1 1 1 1 1 1 1 1 1 1 1 1 1 1 1 1 1 1 1 1 1 1 1 1 1 1 1 1 1 1 1 1 1 1 1 1 1 1 1 1 1 1 1 1 1 1 1 1 1 1 1 1 1 1 1 1 1 1 1 1 1 1 1 1 1 1 1 1 1 1 1 1 1 1 1 1 0 0 0 0 0\n"
     ]
    },
    {
     "name": "stdout",
     "output_type": "stream",
     "text": [
      "INFO:tensorflow:segment_ids: 0 0 0 0 0 0 0 0 0 0 0 0 0 0 0 0 0 0 0 0 0 0 0 0 0 0 0 0 0 0 0 0 0 0 0 0 0 0 0 0 0 0 0 0 0 0 0 0 0 0 0 0 0 0 0 0 0 0 0 0 0 0 0 0 0 0 0 0 1 1 1 1 1 1 1 1 1 1 1 1 1 1 1 1 1 1 1 1 1 1 1 1 1 1 1 1 1 1 1 1 1 1 1 1 1 1 1 1 1 1 1 1 1 1 1 1 1 1 1 1 1 1 1 0 0 0 0 0\n"
     ]
    },
    {
     "name": "stderr",
     "output_type": "stream",
     "text": [
      "I0620 08:50:45.270806 139737458554624 tf_logging.py:115] segment_ids: 0 0 0 0 0 0 0 0 0 0 0 0 0 0 0 0 0 0 0 0 0 0 0 0 0 0 0 0 0 0 0 0 0 0 0 0 0 0 0 0 0 0 0 0 0 0 0 0 0 0 0 0 0 0 0 0 0 0 0 0 0 0 0 0 0 0 0 0 1 1 1 1 1 1 1 1 1 1 1 1 1 1 1 1 1 1 1 1 1 1 1 1 1 1 1 1 1 1 1 1 1 1 1 1 1 1 1 1 1 1 1 1 1 1 1 1 1 1 1 1 1 1 1 0 0 0 0 0\n"
     ]
    },
    {
     "name": "stdout",
     "output_type": "stream",
     "text": [
      "INFO:tensorflow:label: 1 (id = 1)\n"
     ]
    },
    {
     "name": "stderr",
     "output_type": "stream",
     "text": [
      "I0620 08:50:45.271383 139737458554624 tf_logging.py:115] label: 1 (id = 1)\n"
     ]
    },
    {
     "name": "stdout",
     "output_type": "stream",
     "text": [
      "INFO:tensorflow:*** Example ***\n"
     ]
    },
    {
     "name": "stderr",
     "output_type": "stream",
     "text": [
      "I0620 08:50:45.273831 139737458554624 tf_logging.py:115] *** Example ***\n"
     ]
    },
    {
     "name": "stdout",
     "output_type": "stream",
     "text": [
      "INFO:tensorflow:guid: None\n"
     ]
    },
    {
     "name": "stderr",
     "output_type": "stream",
     "text": [
      "I0620 08:50:45.274580 139737458554624 tf_logging.py:115] guid: None\n"
     ]
    },
    {
     "name": "stdout",
     "output_type": "stream",
     "text": [
      "INFO:tensorflow:tokens: [CLS] the point is that we pay for that . every time the president veto ##es a housing bill , every time a republican member votes against the $ 1 . 25 minimum wage , every time we are unable to get any support on our bill to tie medical care for the aged to social security , it is not the congress that suffers , it is not the administration ; it is the people [SEP] they talked . but what did they produce ? they promised a 25 - percent minimum wage increase in place of the program that president eisenhower asked for and that could have been passed and should have been passed . what did the workers get ? nothing at all . [SEP]\n"
     ]
    },
    {
     "name": "stderr",
     "output_type": "stream",
     "text": [
      "I0620 08:50:45.275210 139737458554624 tf_logging.py:115] tokens: [CLS] the point is that we pay for that . every time the president veto ##es a housing bill , every time a republican member votes against the $ 1 . 25 minimum wage , every time we are unable to get any support on our bill to tie medical care for the aged to social security , it is not the congress that suffers , it is not the administration ; it is the people [SEP] they talked . but what did they produce ? they promised a 25 - percent minimum wage increase in place of the program that president eisenhower asked for and that could have been passed and should have been passed . what did the workers get ? nothing at all . [SEP]\n"
     ]
    },
    {
     "name": "stdout",
     "output_type": "stream",
     "text": [
      "INFO:tensorflow:input_ids: 101 1996 2391 2003 2008 2057 3477 2005 2008 1012 2296 2051 1996 2343 22102 2229 1037 3847 3021 1010 2296 2051 1037 3951 2266 4494 2114 1996 1002 1015 1012 2423 6263 11897 1010 2296 2051 2057 2024 4039 2000 2131 2151 2490 2006 2256 3021 2000 5495 2966 2729 2005 1996 4793 2000 2591 3036 1010 2009 2003 2025 1996 3519 2008 17567 1010 2009 2003 2025 1996 3447 1025 2009 2003 1996 2111 102 2027 5720 1012 2021 2054 2106 2027 3965 1029 2027 5763 1037 2423 1011 3867 6263 11897 3623 1999 2173 1997 1996 2565 2008 2343 16551 2356 2005 1998 2008 2071 2031 2042 2979 1998 2323 2031 2042 2979 1012 2054 2106 1996 3667 2131 1029 2498 2012 2035 1012 102\n"
     ]
    },
    {
     "name": "stderr",
     "output_type": "stream",
     "text": [
      "I0620 08:50:45.275738 139737458554624 tf_logging.py:115] input_ids: 101 1996 2391 2003 2008 2057 3477 2005 2008 1012 2296 2051 1996 2343 22102 2229 1037 3847 3021 1010 2296 2051 1037 3951 2266 4494 2114 1996 1002 1015 1012 2423 6263 11897 1010 2296 2051 2057 2024 4039 2000 2131 2151 2490 2006 2256 3021 2000 5495 2966 2729 2005 1996 4793 2000 2591 3036 1010 2009 2003 2025 1996 3519 2008 17567 1010 2009 2003 2025 1996 3447 1025 2009 2003 1996 2111 102 2027 5720 1012 2021 2054 2106 2027 3965 1029 2027 5763 1037 2423 1011 3867 6263 11897 3623 1999 2173 1997 1996 2565 2008 2343 16551 2356 2005 1998 2008 2071 2031 2042 2979 1998 2323 2031 2042 2979 1012 2054 2106 1996 3667 2131 1029 2498 2012 2035 1012 102\n"
     ]
    },
    {
     "name": "stdout",
     "output_type": "stream",
     "text": [
      "INFO:tensorflow:input_mask: 1 1 1 1 1 1 1 1 1 1 1 1 1 1 1 1 1 1 1 1 1 1 1 1 1 1 1 1 1 1 1 1 1 1 1 1 1 1 1 1 1 1 1 1 1 1 1 1 1 1 1 1 1 1 1 1 1 1 1 1 1 1 1 1 1 1 1 1 1 1 1 1 1 1 1 1 1 1 1 1 1 1 1 1 1 1 1 1 1 1 1 1 1 1 1 1 1 1 1 1 1 1 1 1 1 1 1 1 1 1 1 1 1 1 1 1 1 1 1 1 1 1 1 1 1 1 1 1\n"
     ]
    },
    {
     "name": "stderr",
     "output_type": "stream",
     "text": [
      "I0620 08:50:45.276325 139737458554624 tf_logging.py:115] input_mask: 1 1 1 1 1 1 1 1 1 1 1 1 1 1 1 1 1 1 1 1 1 1 1 1 1 1 1 1 1 1 1 1 1 1 1 1 1 1 1 1 1 1 1 1 1 1 1 1 1 1 1 1 1 1 1 1 1 1 1 1 1 1 1 1 1 1 1 1 1 1 1 1 1 1 1 1 1 1 1 1 1 1 1 1 1 1 1 1 1 1 1 1 1 1 1 1 1 1 1 1 1 1 1 1 1 1 1 1 1 1 1 1 1 1 1 1 1 1 1 1 1 1 1 1 1 1 1 1\n"
     ]
    },
    {
     "name": "stdout",
     "output_type": "stream",
     "text": [
      "INFO:tensorflow:segment_ids: 0 0 0 0 0 0 0 0 0 0 0 0 0 0 0 0 0 0 0 0 0 0 0 0 0 0 0 0 0 0 0 0 0 0 0 0 0 0 0 0 0 0 0 0 0 0 0 0 0 0 0 0 0 0 0 0 0 0 0 0 0 0 0 0 0 0 0 0 0 0 0 0 0 0 0 0 0 1 1 1 1 1 1 1 1 1 1 1 1 1 1 1 1 1 1 1 1 1 1 1 1 1 1 1 1 1 1 1 1 1 1 1 1 1 1 1 1 1 1 1 1 1 1 1 1 1 1 1\n"
     ]
    },
    {
     "name": "stderr",
     "output_type": "stream",
     "text": [
      "I0620 08:50:45.276901 139737458554624 tf_logging.py:115] segment_ids: 0 0 0 0 0 0 0 0 0 0 0 0 0 0 0 0 0 0 0 0 0 0 0 0 0 0 0 0 0 0 0 0 0 0 0 0 0 0 0 0 0 0 0 0 0 0 0 0 0 0 0 0 0 0 0 0 0 0 0 0 0 0 0 0 0 0 0 0 0 0 0 0 0 0 0 0 0 1 1 1 1 1 1 1 1 1 1 1 1 1 1 1 1 1 1 1 1 1 1 1 1 1 1 1 1 1 1 1 1 1 1 1 1 1 1 1 1 1 1 1 1 1 1 1 1 1 1 1\n"
     ]
    },
    {
     "name": "stdout",
     "output_type": "stream",
     "text": [
      "INFO:tensorflow:label: 0 (id = 0)\n"
     ]
    },
    {
     "name": "stderr",
     "output_type": "stream",
     "text": [
      "I0620 08:50:45.277847 139737458554624 tf_logging.py:115] label: 0 (id = 0)\n"
     ]
    },
    {
     "name": "stdout",
     "output_type": "stream",
     "text": [
      "INFO:tensorflow:*** Example ***\n"
     ]
    },
    {
     "name": "stderr",
     "output_type": "stream",
     "text": [
      "I0620 08:50:45.280699 139737458554624 tf_logging.py:115] *** Example ***\n"
     ]
    },
    {
     "name": "stdout",
     "output_type": "stream",
     "text": [
      "INFO:tensorflow:guid: None\n"
     ]
    },
    {
     "name": "stderr",
     "output_type": "stream",
     "text": [
      "I0620 08:50:45.281630 139737458554624 tf_logging.py:115] guid: None\n"
     ]
    },
    {
     "name": "stdout",
     "output_type": "stream",
     "text": [
      "INFO:tensorflow:tokens: [CLS] when a political party votes , in 1935 , 98 percent against the 25 - cent minimum wage , i know what the party stands for ; and when that same political party in 1960 votes in the house of representatives 85 percent against $ 1 . 25 minimum wage in 1960 , i know the republican party stands where it has always [SEP] it is our function , however , not to merely in ##vo ##ke the names of franklin roosevelt and harry truman , not to merely live off what they did , but to bring these old programs up to date . franklin roosevelt proposed a 25 - cent minimum wage , back in the middle thirties ; 90 percent of the republicans [SEP]\n"
     ]
    },
    {
     "name": "stderr",
     "output_type": "stream",
     "text": [
      "I0620 08:50:45.282364 139737458554624 tf_logging.py:115] tokens: [CLS] when a political party votes , in 1935 , 98 percent against the 25 - cent minimum wage , i know what the party stands for ; and when that same political party in 1960 votes in the house of representatives 85 percent against $ 1 . 25 minimum wage in 1960 , i know the republican party stands where it has always [SEP] it is our function , however , not to merely in ##vo ##ke the names of franklin roosevelt and harry truman , not to merely live off what they did , but to bring these old programs up to date . franklin roosevelt proposed a 25 - cent minimum wage , back in the middle thirties ; 90 percent of the republicans [SEP]\n"
     ]
    },
    {
     "name": "stdout",
     "output_type": "stream",
     "text": [
      "INFO:tensorflow:input_ids: 101 2043 1037 2576 2283 4494 1010 1999 4437 1010 5818 3867 2114 1996 2423 1011 9358 6263 11897 1010 1045 2113 2054 1996 2283 4832 2005 1025 1998 2043 2008 2168 2576 2283 1999 3624 4494 1999 1996 2160 1997 4505 5594 3867 2114 1002 1015 1012 2423 6263 11897 1999 3624 1010 1045 2113 1996 3951 2283 4832 2073 2009 2038 2467 102 2009 2003 2256 3853 1010 2174 1010 2025 2000 6414 1999 6767 3489 1996 3415 1997 5951 8573 1998 4302 15237 1010 2025 2000 6414 2444 2125 2054 2027 2106 1010 2021 2000 3288 2122 2214 3454 2039 2000 3058 1012 5951 8573 3818 1037 2423 1011 9358 6263 11897 1010 2067 1999 1996 2690 26313 1025 3938 3867 1997 1996 10643 102\n"
     ]
    },
    {
     "name": "stderr",
     "output_type": "stream",
     "text": [
      "I0620 08:50:45.283029 139737458554624 tf_logging.py:115] input_ids: 101 2043 1037 2576 2283 4494 1010 1999 4437 1010 5818 3867 2114 1996 2423 1011 9358 6263 11897 1010 1045 2113 2054 1996 2283 4832 2005 1025 1998 2043 2008 2168 2576 2283 1999 3624 4494 1999 1996 2160 1997 4505 5594 3867 2114 1002 1015 1012 2423 6263 11897 1999 3624 1010 1045 2113 1996 3951 2283 4832 2073 2009 2038 2467 102 2009 2003 2256 3853 1010 2174 1010 2025 2000 6414 1999 6767 3489 1996 3415 1997 5951 8573 1998 4302 15237 1010 2025 2000 6414 2444 2125 2054 2027 2106 1010 2021 2000 3288 2122 2214 3454 2039 2000 3058 1012 5951 8573 3818 1037 2423 1011 9358 6263 11897 1010 2067 1999 1996 2690 26313 1025 3938 3867 1997 1996 10643 102\n"
     ]
    },
    {
     "name": "stdout",
     "output_type": "stream",
     "text": [
      "INFO:tensorflow:input_mask: 1 1 1 1 1 1 1 1 1 1 1 1 1 1 1 1 1 1 1 1 1 1 1 1 1 1 1 1 1 1 1 1 1 1 1 1 1 1 1 1 1 1 1 1 1 1 1 1 1 1 1 1 1 1 1 1 1 1 1 1 1 1 1 1 1 1 1 1 1 1 1 1 1 1 1 1 1 1 1 1 1 1 1 1 1 1 1 1 1 1 1 1 1 1 1 1 1 1 1 1 1 1 1 1 1 1 1 1 1 1 1 1 1 1 1 1 1 1 1 1 1 1 1 1 1 1 1 1\n"
     ]
    },
    {
     "name": "stderr",
     "output_type": "stream",
     "text": [
      "I0620 08:50:45.284062 139737458554624 tf_logging.py:115] input_mask: 1 1 1 1 1 1 1 1 1 1 1 1 1 1 1 1 1 1 1 1 1 1 1 1 1 1 1 1 1 1 1 1 1 1 1 1 1 1 1 1 1 1 1 1 1 1 1 1 1 1 1 1 1 1 1 1 1 1 1 1 1 1 1 1 1 1 1 1 1 1 1 1 1 1 1 1 1 1 1 1 1 1 1 1 1 1 1 1 1 1 1 1 1 1 1 1 1 1 1 1 1 1 1 1 1 1 1 1 1 1 1 1 1 1 1 1 1 1 1 1 1 1 1 1 1 1 1 1\n"
     ]
    },
    {
     "name": "stdout",
     "output_type": "stream",
     "text": [
      "INFO:tensorflow:segment_ids: 0 0 0 0 0 0 0 0 0 0 0 0 0 0 0 0 0 0 0 0 0 0 0 0 0 0 0 0 0 0 0 0 0 0 0 0 0 0 0 0 0 0 0 0 0 0 0 0 0 0 0 0 0 0 0 0 0 0 0 0 0 0 0 0 0 1 1 1 1 1 1 1 1 1 1 1 1 1 1 1 1 1 1 1 1 1 1 1 1 1 1 1 1 1 1 1 1 1 1 1 1 1 1 1 1 1 1 1 1 1 1 1 1 1 1 1 1 1 1 1 1 1 1 1 1 1 1 1\n"
     ]
    },
    {
     "name": "stderr",
     "output_type": "stream",
     "text": [
      "I0620 08:50:45.285514 139737458554624 tf_logging.py:115] segment_ids: 0 0 0 0 0 0 0 0 0 0 0 0 0 0 0 0 0 0 0 0 0 0 0 0 0 0 0 0 0 0 0 0 0 0 0 0 0 0 0 0 0 0 0 0 0 0 0 0 0 0 0 0 0 0 0 0 0 0 0 0 0 0 0 0 0 1 1 1 1 1 1 1 1 1 1 1 1 1 1 1 1 1 1 1 1 1 1 1 1 1 1 1 1 1 1 1 1 1 1 1 1 1 1 1 1 1 1 1 1 1 1 1 1 1 1 1 1 1 1 1 1 1 1 1 1 1 1 1\n"
     ]
    },
    {
     "name": "stdout",
     "output_type": "stream",
     "text": [
      "INFO:tensorflow:label: 0 (id = 0)\n"
     ]
    },
    {
     "name": "stderr",
     "output_type": "stream",
     "text": [
      "I0620 08:50:45.286309 139737458554624 tf_logging.py:115] label: 0 (id = 0)\n"
     ]
    },
    {
     "name": "stdout",
     "output_type": "stream",
     "text": [
      "INFO:tensorflow:Writing example 0 of 146\n"
     ]
    },
    {
     "name": "stderr",
     "output_type": "stream",
     "text": [
      "I0620 08:50:48.025525 139737458554624 tf_logging.py:115] Writing example 0 of 146\n"
     ]
    },
    {
     "name": "stdout",
     "output_type": "stream",
     "text": [
      "INFO:tensorflow:*** Example ***\n"
     ]
    },
    {
     "name": "stderr",
     "output_type": "stream",
     "text": [
      "I0620 08:50:48.032607 139737458554624 tf_logging.py:115] *** Example ***\n"
     ]
    },
    {
     "name": "stdout",
     "output_type": "stream",
     "text": [
      "INFO:tensorflow:guid: None\n"
     ]
    },
    {
     "name": "stderr",
     "output_type": "stream",
     "text": [
      "I0620 08:50:48.033677 139737458554624 tf_logging.py:115] guid: None\n"
     ]
    },
    {
     "name": "stdout",
     "output_type": "stream",
     "text": [
      "INFO:tensorflow:tokens: [CLS] i select it because i believe it is the most important issue not only of this campaign , but of our time , of our generation , of this country . i select it because i know that the people of this state as the people of the other 49 states of the union , want leadership which will continue to do what [SEP] the struggle for di ##sar ##mament will not be an easy one . for di ##sar ##mament is an ideal just as peace itself is an ideal , but it was a great son of wisconsin , carl sc ##hur ##z , who said : ideals are like stars ; you will not succeed in touching them with your hands . but [SEP]\n"
     ]
    },
    {
     "name": "stderr",
     "output_type": "stream",
     "text": [
      "I0620 08:50:48.034421 139737458554624 tf_logging.py:115] tokens: [CLS] i select it because i believe it is the most important issue not only of this campaign , but of our time , of our generation , of this country . i select it because i know that the people of this state as the people of the other 49 states of the union , want leadership which will continue to do what [SEP] the struggle for di ##sar ##mament will not be an easy one . for di ##sar ##mament is an ideal just as peace itself is an ideal , but it was a great son of wisconsin , carl sc ##hur ##z , who said : ideals are like stars ; you will not succeed in touching them with your hands . but [SEP]\n"
     ]
    },
    {
     "name": "stdout",
     "output_type": "stream",
     "text": [
      "INFO:tensorflow:input_ids: 101 1045 7276 2009 2138 1045 2903 2009 2003 1996 2087 2590 3277 2025 2069 1997 2023 3049 1010 2021 1997 2256 2051 1010 1997 2256 4245 1010 1997 2023 2406 1012 1045 7276 2009 2138 1045 2113 2008 1996 2111 1997 2023 2110 2004 1996 2111 1997 1996 2060 4749 2163 1997 1996 2586 1010 2215 4105 2029 2097 3613 2000 2079 2054 102 1996 5998 2005 4487 10286 28119 2097 2025 2022 2019 3733 2028 1012 2005 4487 10286 28119 2003 2019 7812 2074 2004 3521 2993 2003 2019 7812 1010 2021 2009 2001 1037 2307 2365 1997 5273 1010 5529 8040 24572 2480 1010 2040 2056 1024 15084 2024 2066 3340 1025 2017 2097 2025 9510 1999 7244 2068 2007 2115 2398 1012 2021 102\n"
     ]
    },
    {
     "name": "stderr",
     "output_type": "stream",
     "text": [
      "I0620 08:50:48.035079 139737458554624 tf_logging.py:115] input_ids: 101 1045 7276 2009 2138 1045 2903 2009 2003 1996 2087 2590 3277 2025 2069 1997 2023 3049 1010 2021 1997 2256 2051 1010 1997 2256 4245 1010 1997 2023 2406 1012 1045 7276 2009 2138 1045 2113 2008 1996 2111 1997 2023 2110 2004 1996 2111 1997 1996 2060 4749 2163 1997 1996 2586 1010 2215 4105 2029 2097 3613 2000 2079 2054 102 1996 5998 2005 4487 10286 28119 2097 2025 2022 2019 3733 2028 1012 2005 4487 10286 28119 2003 2019 7812 2074 2004 3521 2993 2003 2019 7812 1010 2021 2009 2001 1037 2307 2365 1997 5273 1010 5529 8040 24572 2480 1010 2040 2056 1024 15084 2024 2066 3340 1025 2017 2097 2025 9510 1999 7244 2068 2007 2115 2398 1012 2021 102\n"
     ]
    },
    {
     "name": "stdout",
     "output_type": "stream",
     "text": [
      "INFO:tensorflow:input_mask: 1 1 1 1 1 1 1 1 1 1 1 1 1 1 1 1 1 1 1 1 1 1 1 1 1 1 1 1 1 1 1 1 1 1 1 1 1 1 1 1 1 1 1 1 1 1 1 1 1 1 1 1 1 1 1 1 1 1 1 1 1 1 1 1 1 1 1 1 1 1 1 1 1 1 1 1 1 1 1 1 1 1 1 1 1 1 1 1 1 1 1 1 1 1 1 1 1 1 1 1 1 1 1 1 1 1 1 1 1 1 1 1 1 1 1 1 1 1 1 1 1 1 1 1 1 1 1 1\n"
     ]
    },
    {
     "name": "stderr",
     "output_type": "stream",
     "text": [
      "I0620 08:50:48.035635 139737458554624 tf_logging.py:115] input_mask: 1 1 1 1 1 1 1 1 1 1 1 1 1 1 1 1 1 1 1 1 1 1 1 1 1 1 1 1 1 1 1 1 1 1 1 1 1 1 1 1 1 1 1 1 1 1 1 1 1 1 1 1 1 1 1 1 1 1 1 1 1 1 1 1 1 1 1 1 1 1 1 1 1 1 1 1 1 1 1 1 1 1 1 1 1 1 1 1 1 1 1 1 1 1 1 1 1 1 1 1 1 1 1 1 1 1 1 1 1 1 1 1 1 1 1 1 1 1 1 1 1 1 1 1 1 1 1 1\n"
     ]
    },
    {
     "name": "stdout",
     "output_type": "stream",
     "text": [
      "INFO:tensorflow:segment_ids: 0 0 0 0 0 0 0 0 0 0 0 0 0 0 0 0 0 0 0 0 0 0 0 0 0 0 0 0 0 0 0 0 0 0 0 0 0 0 0 0 0 0 0 0 0 0 0 0 0 0 0 0 0 0 0 0 0 0 0 0 0 0 0 0 0 1 1 1 1 1 1 1 1 1 1 1 1 1 1 1 1 1 1 1 1 1 1 1 1 1 1 1 1 1 1 1 1 1 1 1 1 1 1 1 1 1 1 1 1 1 1 1 1 1 1 1 1 1 1 1 1 1 1 1 1 1 1 1\n"
     ]
    },
    {
     "name": "stderr",
     "output_type": "stream",
     "text": [
      "I0620 08:50:48.036148 139737458554624 tf_logging.py:115] segment_ids: 0 0 0 0 0 0 0 0 0 0 0 0 0 0 0 0 0 0 0 0 0 0 0 0 0 0 0 0 0 0 0 0 0 0 0 0 0 0 0 0 0 0 0 0 0 0 0 0 0 0 0 0 0 0 0 0 0 0 0 0 0 0 0 0 0 1 1 1 1 1 1 1 1 1 1 1 1 1 1 1 1 1 1 1 1 1 1 1 1 1 1 1 1 1 1 1 1 1 1 1 1 1 1 1 1 1 1 1 1 1 1 1 1 1 1 1 1 1 1 1 1 1 1 1 1 1 1 1\n"
     ]
    },
    {
     "name": "stdout",
     "output_type": "stream",
     "text": [
      "INFO:tensorflow:label: 0 (id = 0)\n"
     ]
    },
    {
     "name": "stderr",
     "output_type": "stream",
     "text": [
      "I0620 08:50:48.036659 139737458554624 tf_logging.py:115] label: 0 (id = 0)\n"
     ]
    },
    {
     "name": "stdout",
     "output_type": "stream",
     "text": [
      "INFO:tensorflow:*** Example ***\n"
     ]
    },
    {
     "name": "stderr",
     "output_type": "stream",
     "text": [
      "I0620 08:50:48.039166 139737458554624 tf_logging.py:115] *** Example ***\n"
     ]
    },
    {
     "name": "stdout",
     "output_type": "stream",
     "text": [
      "INFO:tensorflow:guid: None\n"
     ]
    },
    {
     "name": "stderr",
     "output_type": "stream",
     "text": [
      "I0620 08:50:48.040581 139737458554624 tf_logging.py:115] guid: None\n"
     ]
    },
    {
     "name": "stdout",
     "output_type": "stream",
     "text": [
      "INFO:tensorflow:tokens: [CLS] the arms control research institute would coordinate and direct all these research efforts , carrying them on itself or farming them out to private firms and universities . the scattered di ##sar ##mament technicians , scientists , and policy ##makers could at last work as a unit with a central purpose and direction given by the president himself . third - we must [SEP] they would use it because their aim is to conquer the world . so , my friends , let me say this : we will work for di ##sar ##mament , yes . we will work to stop tests and get an agreement , yes ; but we will never agree to anything unless we are sure they are going to keep [SEP]\n"
     ]
    },
    {
     "name": "stderr",
     "output_type": "stream",
     "text": [
      "I0620 08:50:48.041775 139737458554624 tf_logging.py:115] tokens: [CLS] the arms control research institute would coordinate and direct all these research efforts , carrying them on itself or farming them out to private firms and universities . the scattered di ##sar ##mament technicians , scientists , and policy ##makers could at last work as a unit with a central purpose and direction given by the president himself . third - we must [SEP] they would use it because their aim is to conquer the world . so , my friends , let me say this : we will work for di ##sar ##mament , yes . we will work to stop tests and get an agreement , yes ; but we will never agree to anything unless we are sure they are going to keep [SEP]\n"
     ]
    },
    {
     "name": "stdout",
     "output_type": "stream",
     "text": [
      "INFO:tensorflow:input_ids: 101 1996 2608 2491 2470 2820 2052 13530 1998 3622 2035 2122 2470 4073 1010 4755 2068 2006 2993 2030 7876 2068 2041 2000 2797 9786 1998 5534 1012 1996 7932 4487 10286 28119 20202 1010 6529 1010 1998 3343 12088 2071 2012 2197 2147 2004 1037 3131 2007 1037 2430 3800 1998 3257 2445 2011 1996 2343 2370 1012 2353 1011 2057 2442 102 2027 2052 2224 2009 2138 2037 6614 2003 2000 16152 1996 2088 1012 2061 1010 2026 2814 1010 2292 2033 2360 2023 1024 2057 2097 2147 2005 4487 10286 28119 1010 2748 1012 2057 2097 2147 2000 2644 5852 1998 2131 2019 3820 1010 2748 1025 2021 2057 2097 2196 5993 2000 2505 4983 2057 2024 2469 2027 2024 2183 2000 2562 102\n"
     ]
    },
    {
     "name": "stderr",
     "output_type": "stream",
     "text": [
      "I0620 08:50:48.043470 139737458554624 tf_logging.py:115] input_ids: 101 1996 2608 2491 2470 2820 2052 13530 1998 3622 2035 2122 2470 4073 1010 4755 2068 2006 2993 2030 7876 2068 2041 2000 2797 9786 1998 5534 1012 1996 7932 4487 10286 28119 20202 1010 6529 1010 1998 3343 12088 2071 2012 2197 2147 2004 1037 3131 2007 1037 2430 3800 1998 3257 2445 2011 1996 2343 2370 1012 2353 1011 2057 2442 102 2027 2052 2224 2009 2138 2037 6614 2003 2000 16152 1996 2088 1012 2061 1010 2026 2814 1010 2292 2033 2360 2023 1024 2057 2097 2147 2005 4487 10286 28119 1010 2748 1012 2057 2097 2147 2000 2644 5852 1998 2131 2019 3820 1010 2748 1025 2021 2057 2097 2196 5993 2000 2505 4983 2057 2024 2469 2027 2024 2183 2000 2562 102\n"
     ]
    },
    {
     "name": "stdout",
     "output_type": "stream",
     "text": [
      "INFO:tensorflow:input_mask: 1 1 1 1 1 1 1 1 1 1 1 1 1 1 1 1 1 1 1 1 1 1 1 1 1 1 1 1 1 1 1 1 1 1 1 1 1 1 1 1 1 1 1 1 1 1 1 1 1 1 1 1 1 1 1 1 1 1 1 1 1 1 1 1 1 1 1 1 1 1 1 1 1 1 1 1 1 1 1 1 1 1 1 1 1 1 1 1 1 1 1 1 1 1 1 1 1 1 1 1 1 1 1 1 1 1 1 1 1 1 1 1 1 1 1 1 1 1 1 1 1 1 1 1 1 1 1 1\n"
     ]
    },
    {
     "name": "stderr",
     "output_type": "stream",
     "text": [
      "I0620 08:50:48.044286 139737458554624 tf_logging.py:115] input_mask: 1 1 1 1 1 1 1 1 1 1 1 1 1 1 1 1 1 1 1 1 1 1 1 1 1 1 1 1 1 1 1 1 1 1 1 1 1 1 1 1 1 1 1 1 1 1 1 1 1 1 1 1 1 1 1 1 1 1 1 1 1 1 1 1 1 1 1 1 1 1 1 1 1 1 1 1 1 1 1 1 1 1 1 1 1 1 1 1 1 1 1 1 1 1 1 1 1 1 1 1 1 1 1 1 1 1 1 1 1 1 1 1 1 1 1 1 1 1 1 1 1 1 1 1 1 1 1 1\n"
     ]
    },
    {
     "name": "stdout",
     "output_type": "stream",
     "text": [
      "INFO:tensorflow:segment_ids: 0 0 0 0 0 0 0 0 0 0 0 0 0 0 0 0 0 0 0 0 0 0 0 0 0 0 0 0 0 0 0 0 0 0 0 0 0 0 0 0 0 0 0 0 0 0 0 0 0 0 0 0 0 0 0 0 0 0 0 0 0 0 0 0 0 1 1 1 1 1 1 1 1 1 1 1 1 1 1 1 1 1 1 1 1 1 1 1 1 1 1 1 1 1 1 1 1 1 1 1 1 1 1 1 1 1 1 1 1 1 1 1 1 1 1 1 1 1 1 1 1 1 1 1 1 1 1 1\n"
     ]
    },
    {
     "name": "stderr",
     "output_type": "stream",
     "text": [
      "I0620 08:50:48.044893 139737458554624 tf_logging.py:115] segment_ids: 0 0 0 0 0 0 0 0 0 0 0 0 0 0 0 0 0 0 0 0 0 0 0 0 0 0 0 0 0 0 0 0 0 0 0 0 0 0 0 0 0 0 0 0 0 0 0 0 0 0 0 0 0 0 0 0 0 0 0 0 0 0 0 0 0 1 1 1 1 1 1 1 1 1 1 1 1 1 1 1 1 1 1 1 1 1 1 1 1 1 1 1 1 1 1 1 1 1 1 1 1 1 1 1 1 1 1 1 1 1 1 1 1 1 1 1 1 1 1 1 1 1 1 1 1 1 1 1\n"
     ]
    },
    {
     "name": "stdout",
     "output_type": "stream",
     "text": [
      "INFO:tensorflow:label: 0 (id = 0)\n"
     ]
    },
    {
     "name": "stderr",
     "output_type": "stream",
     "text": [
      "I0620 08:50:48.045874 139737458554624 tf_logging.py:115] label: 0 (id = 0)\n"
     ]
    },
    {
     "name": "stdout",
     "output_type": "stream",
     "text": [
      "INFO:tensorflow:*** Example ***\n"
     ]
    },
    {
     "name": "stderr",
     "output_type": "stream",
     "text": [
      "I0620 08:50:48.047965 139737458554624 tf_logging.py:115] *** Example ***\n"
     ]
    },
    {
     "name": "stdout",
     "output_type": "stream",
     "text": [
      "INFO:tensorflow:guid: None\n"
     ]
    },
    {
     "name": "stderr",
     "output_type": "stream",
     "text": [
      "I0620 08:50:48.048752 139737458554624 tf_logging.py:115] guid: None\n"
     ]
    },
    {
     "name": "stdout",
     "output_type": "stream",
     "text": [
      "INFO:tensorflow:tokens: [CLS] and nothing more clearly demonstrates the extent and depth and scope of that indifference than a statement which mr . nixon made this june to republican businessmen in hot springs , va . unless unemployment goes over 4 . 5 million it can not become a significant issue in the minds of a great many people * * * there must be some [SEP] in 1939 , when war came in europe , unemployment in america , after 6 futile years of their trying to solve it , stood just under 9 ½ million . let ' s face it : it took war to solve the unemployment riddle for them . after the war was over opposition spoke ##sm ##en forecast some 6 million unemployed [SEP]\n"
     ]
    },
    {
     "name": "stderr",
     "output_type": "stream",
     "text": [
      "I0620 08:50:48.049373 139737458554624 tf_logging.py:115] tokens: [CLS] and nothing more clearly demonstrates the extent and depth and scope of that indifference than a statement which mr . nixon made this june to republican businessmen in hot springs , va . unless unemployment goes over 4 . 5 million it can not become a significant issue in the minds of a great many people * * * there must be some [SEP] in 1939 , when war came in europe , unemployment in america , after 6 futile years of their trying to solve it , stood just under 9 ½ million . let ' s face it : it took war to solve the unemployment riddle for them . after the war was over opposition spoke ##sm ##en forecast some 6 million unemployed [SEP]\n"
     ]
    },
    {
     "name": "stdout",
     "output_type": "stream",
     "text": [
      "INFO:tensorflow:input_ids: 101 1998 2498 2062 4415 16691 1996 6698 1998 5995 1998 9531 1997 2008 25920 2084 1037 4861 2029 2720 1012 11296 2081 2023 2238 2000 3951 17353 1999 2980 6076 1010 12436 1012 4983 12163 3632 2058 1018 1012 1019 2454 2009 2064 2025 2468 1037 3278 3277 1999 1996 9273 1997 1037 2307 2116 2111 1008 1008 1008 2045 2442 2022 2070 102 1999 3912 1010 2043 2162 2234 1999 2885 1010 12163 1999 2637 1010 2044 1020 24495 2086 1997 2037 2667 2000 9611 2009 1010 2768 2074 2104 1023 1092 2454 1012 2292 1005 1055 2227 2009 1024 2009 2165 2162 2000 9611 1996 12163 21834 2005 2068 1012 2044 1996 2162 2001 2058 4559 3764 6491 2368 19939 2070 1020 2454 18787 102\n"
     ]
    },
    {
     "name": "stderr",
     "output_type": "stream",
     "text": [
      "I0620 08:50:48.050174 139737458554624 tf_logging.py:115] input_ids: 101 1998 2498 2062 4415 16691 1996 6698 1998 5995 1998 9531 1997 2008 25920 2084 1037 4861 2029 2720 1012 11296 2081 2023 2238 2000 3951 17353 1999 2980 6076 1010 12436 1012 4983 12163 3632 2058 1018 1012 1019 2454 2009 2064 2025 2468 1037 3278 3277 1999 1996 9273 1997 1037 2307 2116 2111 1008 1008 1008 2045 2442 2022 2070 102 1999 3912 1010 2043 2162 2234 1999 2885 1010 12163 1999 2637 1010 2044 1020 24495 2086 1997 2037 2667 2000 9611 2009 1010 2768 2074 2104 1023 1092 2454 1012 2292 1005 1055 2227 2009 1024 2009 2165 2162 2000 9611 1996 12163 21834 2005 2068 1012 2044 1996 2162 2001 2058 4559 3764 6491 2368 19939 2070 1020 2454 18787 102\n"
     ]
    },
    {
     "name": "stdout",
     "output_type": "stream",
     "text": [
      "INFO:tensorflow:input_mask: 1 1 1 1 1 1 1 1 1 1 1 1 1 1 1 1 1 1 1 1 1 1 1 1 1 1 1 1 1 1 1 1 1 1 1 1 1 1 1 1 1 1 1 1 1 1 1 1 1 1 1 1 1 1 1 1 1 1 1 1 1 1 1 1 1 1 1 1 1 1 1 1 1 1 1 1 1 1 1 1 1 1 1 1 1 1 1 1 1 1 1 1 1 1 1 1 1 1 1 1 1 1 1 1 1 1 1 1 1 1 1 1 1 1 1 1 1 1 1 1 1 1 1 1 1 1 1 1\n"
     ]
    },
    {
     "name": "stderr",
     "output_type": "stream",
     "text": [
      "I0620 08:50:48.050759 139737458554624 tf_logging.py:115] input_mask: 1 1 1 1 1 1 1 1 1 1 1 1 1 1 1 1 1 1 1 1 1 1 1 1 1 1 1 1 1 1 1 1 1 1 1 1 1 1 1 1 1 1 1 1 1 1 1 1 1 1 1 1 1 1 1 1 1 1 1 1 1 1 1 1 1 1 1 1 1 1 1 1 1 1 1 1 1 1 1 1 1 1 1 1 1 1 1 1 1 1 1 1 1 1 1 1 1 1 1 1 1 1 1 1 1 1 1 1 1 1 1 1 1 1 1 1 1 1 1 1 1 1 1 1 1 1 1 1\n"
     ]
    },
    {
     "name": "stdout",
     "output_type": "stream",
     "text": [
      "INFO:tensorflow:segment_ids: 0 0 0 0 0 0 0 0 0 0 0 0 0 0 0 0 0 0 0 0 0 0 0 0 0 0 0 0 0 0 0 0 0 0 0 0 0 0 0 0 0 0 0 0 0 0 0 0 0 0 0 0 0 0 0 0 0 0 0 0 0 0 0 0 0 1 1 1 1 1 1 1 1 1 1 1 1 1 1 1 1 1 1 1 1 1 1 1 1 1 1 1 1 1 1 1 1 1 1 1 1 1 1 1 1 1 1 1 1 1 1 1 1 1 1 1 1 1 1 1 1 1 1 1 1 1 1 1\n"
     ]
    },
    {
     "name": "stderr",
     "output_type": "stream",
     "text": [
      "I0620 08:50:48.051263 139737458554624 tf_logging.py:115] segment_ids: 0 0 0 0 0 0 0 0 0 0 0 0 0 0 0 0 0 0 0 0 0 0 0 0 0 0 0 0 0 0 0 0 0 0 0 0 0 0 0 0 0 0 0 0 0 0 0 0 0 0 0 0 0 0 0 0 0 0 0 0 0 0 0 0 0 1 1 1 1 1 1 1 1 1 1 1 1 1 1 1 1 1 1 1 1 1 1 1 1 1 1 1 1 1 1 1 1 1 1 1 1 1 1 1 1 1 1 1 1 1 1 1 1 1 1 1 1 1 1 1 1 1 1 1 1 1 1 1\n"
     ]
    },
    {
     "name": "stdout",
     "output_type": "stream",
     "text": [
      "INFO:tensorflow:label: 0 (id = 0)\n"
     ]
    },
    {
     "name": "stderr",
     "output_type": "stream",
     "text": [
      "I0620 08:50:48.051817 139737458554624 tf_logging.py:115] label: 0 (id = 0)\n"
     ]
    },
    {
     "name": "stdout",
     "output_type": "stream",
     "text": [
      "INFO:tensorflow:*** Example ***\n"
     ]
    },
    {
     "name": "stderr",
     "output_type": "stream",
     "text": [
      "I0620 08:50:48.053987 139737458554624 tf_logging.py:115] *** Example ***\n"
     ]
    },
    {
     "name": "stdout",
     "output_type": "stream",
     "text": [
      "INFO:tensorflow:guid: None\n"
     ]
    },
    {
     "name": "stderr",
     "output_type": "stream",
     "text": [
      "I0620 08:50:48.054870 139737458554624 tf_logging.py:115] guid: None\n"
     ]
    },
    {
     "name": "stdout",
     "output_type": "stream",
     "text": [
      "INFO:tensorflow:tokens: [CLS] to us the major issue is the fight against communism . but to most of the peoples of the world , that is a far - off battle - compared to their battles against poverty and disease and unemployment and ill ##iter ##acy . neither do they share our belief that our way , the private enterprise way , is necessarily the best path for any country under any circumstances . [SEP] throughout the entire nation men and women - almost 4 million of them - are looking for jobs . economists tell us that an unemployment rate of 6 percent is the danger signal . when a community passes that point it is officially regarded as an area of substantial labor surplus . [SEP]\n"
     ]
    },
    {
     "name": "stderr",
     "output_type": "stream",
     "text": [
      "I0620 08:50:48.055546 139737458554624 tf_logging.py:115] tokens: [CLS] to us the major issue is the fight against communism . but to most of the peoples of the world , that is a far - off battle - compared to their battles against poverty and disease and unemployment and ill ##iter ##acy . neither do they share our belief that our way , the private enterprise way , is necessarily the best path for any country under any circumstances . [SEP] throughout the entire nation men and women - almost 4 million of them - are looking for jobs . economists tell us that an unemployment rate of 6 percent is the danger signal . when a community passes that point it is officially regarded as an area of substantial labor surplus . [SEP]\n"
     ]
    },
    {
     "name": "stdout",
     "output_type": "stream",
     "text": [
      "INFO:tensorflow:input_ids: 101 2000 2149 1996 2350 3277 2003 1996 2954 2114 15523 1012 2021 2000 2087 1997 1996 7243 1997 1996 2088 1010 2008 2003 1037 2521 1011 2125 2645 1011 4102 2000 2037 7465 2114 5635 1998 4295 1998 12163 1998 5665 21646 15719 1012 4445 2079 2027 3745 2256 6772 2008 2256 2126 1010 1996 2797 6960 2126 1010 2003 9352 1996 2190 4130 2005 2151 2406 2104 2151 6214 1012 102 2802 1996 2972 3842 2273 1998 2308 1011 2471 1018 2454 1997 2068 1011 2024 2559 2005 5841 1012 22171 2425 2149 2008 2019 12163 3446 1997 1020 3867 2003 1996 5473 4742 1012 2043 1037 2451 5235 2008 2391 2009 2003 3985 5240 2004 2019 2181 1997 6937 4450 15726 1012 102 0 0\n"
     ]
    },
    {
     "name": "stderr",
     "output_type": "stream",
     "text": [
      "I0620 08:50:48.056210 139737458554624 tf_logging.py:115] input_ids: 101 2000 2149 1996 2350 3277 2003 1996 2954 2114 15523 1012 2021 2000 2087 1997 1996 7243 1997 1996 2088 1010 2008 2003 1037 2521 1011 2125 2645 1011 4102 2000 2037 7465 2114 5635 1998 4295 1998 12163 1998 5665 21646 15719 1012 4445 2079 2027 3745 2256 6772 2008 2256 2126 1010 1996 2797 6960 2126 1010 2003 9352 1996 2190 4130 2005 2151 2406 2104 2151 6214 1012 102 2802 1996 2972 3842 2273 1998 2308 1011 2471 1018 2454 1997 2068 1011 2024 2559 2005 5841 1012 22171 2425 2149 2008 2019 12163 3446 1997 1020 3867 2003 1996 5473 4742 1012 2043 1037 2451 5235 2008 2391 2009 2003 3985 5240 2004 2019 2181 1997 6937 4450 15726 1012 102 0 0\n"
     ]
    },
    {
     "name": "stdout",
     "output_type": "stream",
     "text": [
      "INFO:tensorflow:input_mask: 1 1 1 1 1 1 1 1 1 1 1 1 1 1 1 1 1 1 1 1 1 1 1 1 1 1 1 1 1 1 1 1 1 1 1 1 1 1 1 1 1 1 1 1 1 1 1 1 1 1 1 1 1 1 1 1 1 1 1 1 1 1 1 1 1 1 1 1 1 1 1 1 1 1 1 1 1 1 1 1 1 1 1 1 1 1 1 1 1 1 1 1 1 1 1 1 1 1 1 1 1 1 1 1 1 1 1 1 1 1 1 1 1 1 1 1 1 1 1 1 1 1 1 1 1 1 0 0\n"
     ]
    },
    {
     "name": "stderr",
     "output_type": "stream",
     "text": [
      "I0620 08:50:48.056839 139737458554624 tf_logging.py:115] input_mask: 1 1 1 1 1 1 1 1 1 1 1 1 1 1 1 1 1 1 1 1 1 1 1 1 1 1 1 1 1 1 1 1 1 1 1 1 1 1 1 1 1 1 1 1 1 1 1 1 1 1 1 1 1 1 1 1 1 1 1 1 1 1 1 1 1 1 1 1 1 1 1 1 1 1 1 1 1 1 1 1 1 1 1 1 1 1 1 1 1 1 1 1 1 1 1 1 1 1 1 1 1 1 1 1 1 1 1 1 1 1 1 1 1 1 1 1 1 1 1 1 1 1 1 1 1 1 0 0\n"
     ]
    },
    {
     "name": "stdout",
     "output_type": "stream",
     "text": [
      "INFO:tensorflow:segment_ids: 0 0 0 0 0 0 0 0 0 0 0 0 0 0 0 0 0 0 0 0 0 0 0 0 0 0 0 0 0 0 0 0 0 0 0 0 0 0 0 0 0 0 0 0 0 0 0 0 0 0 0 0 0 0 0 0 0 0 0 0 0 0 0 0 0 0 0 0 0 0 0 0 0 1 1 1 1 1 1 1 1 1 1 1 1 1 1 1 1 1 1 1 1 1 1 1 1 1 1 1 1 1 1 1 1 1 1 1 1 1 1 1 1 1 1 1 1 1 1 1 1 1 1 1 1 1 0 0\n"
     ]
    },
    {
     "name": "stderr",
     "output_type": "stream",
     "text": [
      "I0620 08:50:48.057548 139737458554624 tf_logging.py:115] segment_ids: 0 0 0 0 0 0 0 0 0 0 0 0 0 0 0 0 0 0 0 0 0 0 0 0 0 0 0 0 0 0 0 0 0 0 0 0 0 0 0 0 0 0 0 0 0 0 0 0 0 0 0 0 0 0 0 0 0 0 0 0 0 0 0 0 0 0 0 0 0 0 0 0 0 1 1 1 1 1 1 1 1 1 1 1 1 1 1 1 1 1 1 1 1 1 1 1 1 1 1 1 1 1 1 1 1 1 1 1 1 1 1 1 1 1 1 1 1 1 1 1 1 1 1 1 1 1 0 0\n"
     ]
    },
    {
     "name": "stdout",
     "output_type": "stream",
     "text": [
      "INFO:tensorflow:label: 0 (id = 0)\n"
     ]
    },
    {
     "name": "stderr",
     "output_type": "stream",
     "text": [
      "I0620 08:50:48.058118 139737458554624 tf_logging.py:115] label: 0 (id = 0)\n"
     ]
    },
    {
     "name": "stdout",
     "output_type": "stream",
     "text": [
      "INFO:tensorflow:*** Example ***\n"
     ]
    },
    {
     "name": "stderr",
     "output_type": "stream",
     "text": [
      "I0620 08:50:48.061368 139737458554624 tf_logging.py:115] *** Example ***\n"
     ]
    },
    {
     "name": "stdout",
     "output_type": "stream",
     "text": [
      "INFO:tensorflow:guid: None\n"
     ]
    },
    {
     "name": "stderr",
     "output_type": "stream",
     "text": [
      "I0620 08:50:48.064445 139737458554624 tf_logging.py:115] guid: None\n"
     ]
    },
    {
     "name": "stdout",
     "output_type": "stream",
     "text": [
      "INFO:tensorflow:tokens: [CLS] the miss ##tate ##ment : in the second debate senator kennedy said : the republicans in recent years , not only in the last 25 years , but in the last 8 years , have opposed * * * minimum wage * * the facts : senator kennedy is saying that republicans who opposed his particular bill are against minimum wage . the [SEP] i wonder if he is going to be smiling november 9 ? [ response from the audience . ] the fact of the matter is , as congressman flood knows , that the party that voted 90 percent against the $ 1 . 25 minimum wage voted 90 percent in the mid ##thi ##rti ##es against 25 cents . the party that [SEP]\n"
     ]
    },
    {
     "name": "stderr",
     "output_type": "stream",
     "text": [
      "I0620 08:50:48.065287 139737458554624 tf_logging.py:115] tokens: [CLS] the miss ##tate ##ment : in the second debate senator kennedy said : the republicans in recent years , not only in the last 25 years , but in the last 8 years , have opposed * * * minimum wage * * the facts : senator kennedy is saying that republicans who opposed his particular bill are against minimum wage . the [SEP] i wonder if he is going to be smiling november 9 ? [ response from the audience . ] the fact of the matter is , as congressman flood knows , that the party that voted 90 percent against the $ 1 . 25 minimum wage voted 90 percent in the mid ##thi ##rti ##es against 25 cents . the party that [SEP]\n"
     ]
    },
    {
     "name": "stdout",
     "output_type": "stream",
     "text": [
      "INFO:tensorflow:input_ids: 101 1996 3335 12259 3672 1024 1999 1996 2117 5981 5205 5817 2056 1024 1996 10643 1999 3522 2086 1010 2025 2069 1999 1996 2197 2423 2086 1010 2021 1999 1996 2197 1022 2086 1010 2031 4941 1008 1008 1008 6263 11897 1008 1008 1996 8866 1024 5205 5817 2003 3038 2008 10643 2040 4941 2010 3327 3021 2024 2114 6263 11897 1012 1996 102 1045 4687 2065 2002 2003 2183 2000 2022 5629 2281 1023 1029 1031 3433 2013 1996 4378 1012 1033 1996 2755 1997 1996 3043 2003 1010 2004 12295 7186 4282 1010 2008 1996 2283 2008 5444 3938 3867 2114 1996 1002 1015 1012 2423 6263 11897 5444 3938 3867 1999 1996 3054 15222 28228 2229 2114 2423 16653 1012 1996 2283 2008 102\n"
     ]
    },
    {
     "name": "stderr",
     "output_type": "stream",
     "text": [
      "I0620 08:50:48.066074 139737458554624 tf_logging.py:115] input_ids: 101 1996 3335 12259 3672 1024 1999 1996 2117 5981 5205 5817 2056 1024 1996 10643 1999 3522 2086 1010 2025 2069 1999 1996 2197 2423 2086 1010 2021 1999 1996 2197 1022 2086 1010 2031 4941 1008 1008 1008 6263 11897 1008 1008 1996 8866 1024 5205 5817 2003 3038 2008 10643 2040 4941 2010 3327 3021 2024 2114 6263 11897 1012 1996 102 1045 4687 2065 2002 2003 2183 2000 2022 5629 2281 1023 1029 1031 3433 2013 1996 4378 1012 1033 1996 2755 1997 1996 3043 2003 1010 2004 12295 7186 4282 1010 2008 1996 2283 2008 5444 3938 3867 2114 1996 1002 1015 1012 2423 6263 11897 5444 3938 3867 1999 1996 3054 15222 28228 2229 2114 2423 16653 1012 1996 2283 2008 102\n"
     ]
    },
    {
     "name": "stdout",
     "output_type": "stream",
     "text": [
      "INFO:tensorflow:input_mask: 1 1 1 1 1 1 1 1 1 1 1 1 1 1 1 1 1 1 1 1 1 1 1 1 1 1 1 1 1 1 1 1 1 1 1 1 1 1 1 1 1 1 1 1 1 1 1 1 1 1 1 1 1 1 1 1 1 1 1 1 1 1 1 1 1 1 1 1 1 1 1 1 1 1 1 1 1 1 1 1 1 1 1 1 1 1 1 1 1 1 1 1 1 1 1 1 1 1 1 1 1 1 1 1 1 1 1 1 1 1 1 1 1 1 1 1 1 1 1 1 1 1 1 1 1 1 1 1\n"
     ]
    },
    {
     "name": "stderr",
     "output_type": "stream",
     "text": [
      "I0620 08:50:48.066747 139737458554624 tf_logging.py:115] input_mask: 1 1 1 1 1 1 1 1 1 1 1 1 1 1 1 1 1 1 1 1 1 1 1 1 1 1 1 1 1 1 1 1 1 1 1 1 1 1 1 1 1 1 1 1 1 1 1 1 1 1 1 1 1 1 1 1 1 1 1 1 1 1 1 1 1 1 1 1 1 1 1 1 1 1 1 1 1 1 1 1 1 1 1 1 1 1 1 1 1 1 1 1 1 1 1 1 1 1 1 1 1 1 1 1 1 1 1 1 1 1 1 1 1 1 1 1 1 1 1 1 1 1 1 1 1 1 1 1\n"
     ]
    },
    {
     "name": "stdout",
     "output_type": "stream",
     "text": [
      "INFO:tensorflow:segment_ids: 0 0 0 0 0 0 0 0 0 0 0 0 0 0 0 0 0 0 0 0 0 0 0 0 0 0 0 0 0 0 0 0 0 0 0 0 0 0 0 0 0 0 0 0 0 0 0 0 0 0 0 0 0 0 0 0 0 0 0 0 0 0 0 0 0 1 1 1 1 1 1 1 1 1 1 1 1 1 1 1 1 1 1 1 1 1 1 1 1 1 1 1 1 1 1 1 1 1 1 1 1 1 1 1 1 1 1 1 1 1 1 1 1 1 1 1 1 1 1 1 1 1 1 1 1 1 1 1\n"
     ]
    },
    {
     "name": "stderr",
     "output_type": "stream",
     "text": [
      "I0620 08:50:48.067339 139737458554624 tf_logging.py:115] segment_ids: 0 0 0 0 0 0 0 0 0 0 0 0 0 0 0 0 0 0 0 0 0 0 0 0 0 0 0 0 0 0 0 0 0 0 0 0 0 0 0 0 0 0 0 0 0 0 0 0 0 0 0 0 0 0 0 0 0 0 0 0 0 0 0 0 0 1 1 1 1 1 1 1 1 1 1 1 1 1 1 1 1 1 1 1 1 1 1 1 1 1 1 1 1 1 1 1 1 1 1 1 1 1 1 1 1 1 1 1 1 1 1 1 1 1 1 1 1 1 1 1 1 1 1 1 1 1 1 1\n"
     ]
    },
    {
     "name": "stdout",
     "output_type": "stream",
     "text": [
      "INFO:tensorflow:label: 0 (id = 0)\n"
     ]
    },
    {
     "name": "stderr",
     "output_type": "stream",
     "text": [
      "I0620 08:50:48.068033 139737458554624 tf_logging.py:115] label: 0 (id = 0)\n"
     ]
    },
    {
     "name": "stdout",
     "output_type": "stream",
     "text": [
      "Beginning Training!\n",
      "test labels 1    73\n",
      "0    73\n",
      "Name: label, dtype: int64\n",
      "train labels 0    658\n",
      "1    656\n",
      "Name: label, dtype: int64\n",
      "INFO:tensorflow:Using config: {'_model_dir': 'BERT_RUN2019-06-20 08:25:39.792798political', '_tf_random_seed': None, '_save_summary_steps': 100, '_save_checkpoints_steps': 5000, '_save_checkpoints_secs': None, '_session_config': allow_soft_placement: true\n",
      "graph_options {\n",
      "  rewrite_options {\n",
      "    meta_optimizer_iterations: ONE\n",
      "  }\n",
      "}\n",
      ", '_keep_checkpoint_max': 5, '_keep_checkpoint_every_n_hours': 10000, '_log_step_count_steps': 100, '_train_distribute': None, '_device_fn': None, '_protocol': None, '_eval_distribute': None, '_experimental_distribute': None, '_service': None, '_cluster_spec': <tensorflow.python.training.server_lib.ClusterSpec object at 0x7f134efedfd0>, '_task_type': 'worker', '_task_id': 0, '_global_id_in_cluster': 0, '_master': '', '_evaluation_master': '', '_is_chief': True, '_num_ps_replicas': 0, '_num_worker_replicas': 1}\n"
     ]
    },
    {
     "name": "stderr",
     "output_type": "stream",
     "text": [
      "I0620 08:50:48.377712 139737458554624 tf_logging.py:115] Using config: {'_model_dir': 'BERT_RUN2019-06-20 08:25:39.792798political', '_tf_random_seed': None, '_save_summary_steps': 100, '_save_checkpoints_steps': 5000, '_save_checkpoints_secs': None, '_session_config': allow_soft_placement: true\n",
      "graph_options {\n",
      "  rewrite_options {\n",
      "    meta_optimizer_iterations: ONE\n",
      "  }\n",
      "}\n",
      ", '_keep_checkpoint_max': 5, '_keep_checkpoint_every_n_hours': 10000, '_log_step_count_steps': 100, '_train_distribute': None, '_device_fn': None, '_protocol': None, '_eval_distribute': None, '_experimental_distribute': None, '_service': None, '_cluster_spec': <tensorflow.python.training.server_lib.ClusterSpec object at 0x7f134efedfd0>, '_task_type': 'worker', '_task_id': 0, '_global_id_in_cluster': 0, '_master': '', '_evaluation_master': '', '_is_chief': True, '_num_ps_replicas': 0, '_num_worker_replicas': 1}\n"
     ]
    },
    {
     "name": "stdout",
     "output_type": "stream",
     "text": [
      "INFO:tensorflow:Calling model_fn.\n"
     ]
    },
    {
     "name": "stderr",
     "output_type": "stream",
     "text": [
      "I0620 08:50:48.788688 139737458554624 tf_logging.py:115] Calling model_fn.\n"
     ]
    },
    {
     "name": "stdout",
     "output_type": "stream",
     "text": [
      "INFO:tensorflow:Saver not created because there are no variables in the graph to restore\n"
     ]
    },
    {
     "name": "stderr",
     "output_type": "stream",
     "text": [
      "I0620 08:50:50.957631 139737458554624 tf_logging.py:115] Saver not created because there are no variables in the graph to restore\n"
     ]
    },
    {
     "name": "stdout",
     "output_type": "stream",
     "text": [
      "INFO:tensorflow:Done calling model_fn.\n"
     ]
    },
    {
     "name": "stderr",
     "output_type": "stream",
     "text": [
      "I0620 08:50:56.662883 139737458554624 tf_logging.py:115] Done calling model_fn.\n"
     ]
    },
    {
     "name": "stdout",
     "output_type": "stream",
     "text": [
      "INFO:tensorflow:Create CheckpointSaverHook.\n"
     ]
    },
    {
     "name": "stderr",
     "output_type": "stream",
     "text": [
      "I0620 08:50:56.665199 139737458554624 tf_logging.py:115] Create CheckpointSaverHook.\n"
     ]
    },
    {
     "name": "stdout",
     "output_type": "stream",
     "text": [
      "INFO:tensorflow:Graph was finalized.\n"
     ]
    },
    {
     "name": "stderr",
     "output_type": "stream",
     "text": [
      "I0620 08:50:57.583676 139737458554624 tf_logging.py:115] Graph was finalized.\n"
     ]
    },
    {
     "name": "stdout",
     "output_type": "stream",
     "text": [
      "INFO:tensorflow:Running local_init_op.\n"
     ]
    },
    {
     "name": "stderr",
     "output_type": "stream",
     "text": [
      "I0620 08:51:01.999533 139737458554624 tf_logging.py:115] Running local_init_op.\n"
     ]
    },
    {
     "name": "stdout",
     "output_type": "stream",
     "text": [
      "INFO:tensorflow:Done running local_init_op.\n"
     ]
    },
    {
     "name": "stderr",
     "output_type": "stream",
     "text": [
      "I0620 08:51:02.109238 139737458554624 tf_logging.py:115] Done running local_init_op.\n"
     ]
    },
    {
     "name": "stdout",
     "output_type": "stream",
     "text": [
      "INFO:tensorflow:Saving checkpoints for 0 into BERT_RUN2019-06-20 08:25:39.792798political/model.ckpt.\n"
     ]
    },
    {
     "name": "stderr",
     "output_type": "stream",
     "text": [
      "I0620 08:51:08.589730 139737458554624 tf_logging.py:115] Saving checkpoints for 0 into BERT_RUN2019-06-20 08:25:39.792798political/model.ckpt.\n"
     ]
    },
    {
     "name": "stdout",
     "output_type": "stream",
     "text": [
      "INFO:tensorflow:loss = 0.7317001, step = 0\n"
     ]
    },
    {
     "name": "stderr",
     "output_type": "stream",
     "text": [
      "I0620 08:51:19.984734 139737458554624 tf_logging.py:115] loss = 0.7317001, step = 0\n"
     ]
    },
    {
     "name": "stdout",
     "output_type": "stream",
     "text": [
      "INFO:tensorflow:global_step/sec: 2.29537\n"
     ]
    },
    {
     "name": "stderr",
     "output_type": "stream",
     "text": [
      "I0620 08:52:03.550379 139737458554624 tf_logging.py:115] global_step/sec: 2.29537\n"
     ]
    },
    {
     "name": "stdout",
     "output_type": "stream",
     "text": [
      "INFO:tensorflow:loss = 0.6123836, step = 100 (43.567 sec)\n"
     ]
    },
    {
     "name": "stderr",
     "output_type": "stream",
     "text": [
      "I0620 08:52:03.551696 139737458554624 tf_logging.py:115] loss = 0.6123836, step = 100 (43.567 sec)\n"
     ]
    },
    {
     "name": "stdout",
     "output_type": "stream",
     "text": [
      "INFO:tensorflow:global_step/sec: 3.17727\n"
     ]
    },
    {
     "name": "stderr",
     "output_type": "stream",
     "text": [
      "I0620 08:52:35.023984 139737458554624 tf_logging.py:115] global_step/sec: 3.17727\n"
     ]
    },
    {
     "name": "stdout",
     "output_type": "stream",
     "text": [
      "INFO:tensorflow:loss = 0.5851023, step = 200 (31.474 sec)\n"
     ]
    },
    {
     "name": "stderr",
     "output_type": "stream",
     "text": [
      "I0620 08:52:35.025796 139737458554624 tf_logging.py:115] loss = 0.5851023, step = 200 (31.474 sec)\n"
     ]
    },
    {
     "name": "stdout",
     "output_type": "stream",
     "text": [
      "INFO:tensorflow:global_step/sec: 3.17607\n"
     ]
    },
    {
     "name": "stderr",
     "output_type": "stream",
     "text": [
      "I0620 08:53:06.509438 139737458554624 tf_logging.py:115] global_step/sec: 3.17607\n"
     ]
    },
    {
     "name": "stdout",
     "output_type": "stream",
     "text": [
      "INFO:tensorflow:loss = 0.5714096, step = 300 (31.486 sec)\n"
     ]
    },
    {
     "name": "stderr",
     "output_type": "stream",
     "text": [
      "I0620 08:53:06.512228 139737458554624 tf_logging.py:115] loss = 0.5714096, step = 300 (31.486 sec)\n"
     ]
    },
    {
     "name": "stdout",
     "output_type": "stream",
     "text": [
      "INFO:tensorflow:global_step/sec: 3.17567\n"
     ]
    },
    {
     "name": "stderr",
     "output_type": "stream",
     "text": [
      "I0620 08:53:37.998839 139737458554624 tf_logging.py:115] global_step/sec: 3.17567\n"
     ]
    },
    {
     "name": "stdout",
     "output_type": "stream",
     "text": [
      "INFO:tensorflow:loss = 0.34180048, step = 400 (31.488 sec)\n"
     ]
    },
    {
     "name": "stderr",
     "output_type": "stream",
     "text": [
      "I0620 08:53:38.000499 139737458554624 tf_logging.py:115] loss = 0.34180048, step = 400 (31.488 sec)\n"
     ]
    },
    {
     "name": "stdout",
     "output_type": "stream",
     "text": [
      "INFO:tensorflow:Saving checkpoints for 492 into BERT_RUN2019-06-20 08:25:39.792798political/model.ckpt.\n"
     ]
    },
    {
     "name": "stderr",
     "output_type": "stream",
     "text": [
      "I0620 08:54:06.672845 139737458554624 tf_logging.py:115] Saving checkpoints for 492 into BERT_RUN2019-06-20 08:25:39.792798political/model.ckpt.\n"
     ]
    },
    {
     "name": "stdout",
     "output_type": "stream",
     "text": [
      "INFO:tensorflow:Loss for final step: 0.2550366.\n"
     ]
    },
    {
     "name": "stderr",
     "output_type": "stream",
     "text": [
      "I0620 08:54:13.135821 139737458554624 tf_logging.py:115] Loss for final step: 0.2550366.\n"
     ]
    },
    {
     "name": "stdout",
     "output_type": "stream",
     "text": [
      "<generator object Estimator.predict at 0x7f16644cff68>\n",
      "INFO:tensorflow:Calling model_fn.\n"
     ]
    },
    {
     "name": "stderr",
     "output_type": "stream",
     "text": [
      "I0620 08:54:13.193831 139737458554624 tf_logging.py:115] Calling model_fn.\n"
     ]
    },
    {
     "name": "stdout",
     "output_type": "stream",
     "text": [
      "INFO:tensorflow:Saver not created because there are no variables in the graph to restore\n"
     ]
    },
    {
     "name": "stderr",
     "output_type": "stream",
     "text": [
      "I0620 08:54:14.816082 139737458554624 tf_logging.py:115] Saver not created because there are no variables in the graph to restore\n"
     ]
    },
    {
     "name": "stdout",
     "output_type": "stream",
     "text": [
      "INFO:tensorflow:Done calling model_fn.\n"
     ]
    },
    {
     "name": "stderr",
     "output_type": "stream",
     "text": [
      "I0620 08:54:14.920754 139737458554624 tf_logging.py:115] Done calling model_fn.\n"
     ]
    },
    {
     "name": "stdout",
     "output_type": "stream",
     "text": [
      "INFO:tensorflow:Graph was finalized.\n"
     ]
    },
    {
     "name": "stderr",
     "output_type": "stream",
     "text": [
      "I0620 08:54:15.248000 139737458554624 tf_logging.py:115] Graph was finalized.\n"
     ]
    },
    {
     "name": "stdout",
     "output_type": "stream",
     "text": [
      "INFO:tensorflow:Restoring parameters from BERT_RUN2019-06-20 08:25:39.792798political/model.ckpt-492\n"
     ]
    },
    {
     "name": "stderr",
     "output_type": "stream",
     "text": [
      "I0620 08:54:15.251608 139737458554624 tf_logging.py:115] Restoring parameters from BERT_RUN2019-06-20 08:25:39.792798political/model.ckpt-492\n"
     ]
    },
    {
     "name": "stdout",
     "output_type": "stream",
     "text": [
      "INFO:tensorflow:Running local_init_op.\n"
     ]
    },
    {
     "name": "stderr",
     "output_type": "stream",
     "text": [
      "I0620 08:54:15.678411 139737458554624 tf_logging.py:115] Running local_init_op.\n"
     ]
    },
    {
     "name": "stdout",
     "output_type": "stream",
     "text": [
      "INFO:tensorflow:Done running local_init_op.\n"
     ]
    },
    {
     "name": "stderr",
     "output_type": "stream",
     "text": [
      "I0620 08:54:15.721254 139737458554624 tf_logging.py:115] Done running local_init_op.\n"
     ]
    },
    {
     "name": "stdout",
     "output_type": "stream",
     "text": [
      "[0. 0. 1. 1. 0. 1. 1. 1. 1. 0. 1. 0. 0. 1. 0. 0. 0. 0. 0. 0. 1. 0. 0. 0.\n",
      " 0. 1. 1. 0. 1. 1. 1. 0. 0. 1. 1. 0. 0. 0. 0. 0. 1. 1. 0. 0. 0. 0. 0. 0.\n",
      " 0. 1. 1. 1. 0. 0. 1. 0. 0. 0. 1. 0. 0. 1. 1. 0. 0. 0. 0. 1. 0. 0. 0. 0.\n",
      " 0. 1. 0. 0. 1. 0. 1. 1. 1. 1. 1. 1. 0. 1. 1. 1. 0. 1. 1. 1. 1. 0. 1. 1.\n",
      " 1. 1. 0. 1. 0. 0. 0. 0. 1. 0. 1. 1. 1. 0. 0. 0. 1. 0. 1. 0. 0. 0. 0. 0.\n",
      " 1. 1. 0. 0. 0. 1. 0. 1. 0. 1. 1. 0. 1. 0. 0. 0. 0. 0. 1. 0. 0. 1. 0. 0.\n",
      " 0. 1.]\n",
      "              precision    recall  f1-score   support\n",
      "\n",
      "    relation       0.61      0.70      0.65        73\n",
      "   unrelated       0.65      0.55      0.59        73\n",
      "\n",
      "    accuracy                           0.62       146\n",
      "   macro avg       0.63      0.62      0.62       146\n",
      "weighted avg       0.63      0.62      0.62       146\n",
      "\n",
      "Accuracy: 0.6232876712328768\n",
      "Training took time  0:03:29.342105\n",
      "(1314, 8) (146, 8)\n",
      "INFO:tensorflow:Writing example 0 of 1314\n"
     ]
    },
    {
     "name": "stderr",
     "output_type": "stream",
     "text": [
      "I0620 08:54:17.868673 139737458554624 tf_logging.py:115] Writing example 0 of 1314\n"
     ]
    },
    {
     "name": "stdout",
     "output_type": "stream",
     "text": [
      "INFO:tensorflow:*** Example ***\n"
     ]
    },
    {
     "name": "stderr",
     "output_type": "stream",
     "text": [
      "I0620 08:54:17.872486 139737458554624 tf_logging.py:115] *** Example ***\n"
     ]
    },
    {
     "name": "stdout",
     "output_type": "stream",
     "text": [
      "INFO:tensorflow:guid: None\n"
     ]
    },
    {
     "name": "stderr",
     "output_type": "stream",
     "text": [
      "I0620 08:54:17.873645 139737458554624 tf_logging.py:115] guid: None\n"
     ]
    },
    {
     "name": "stdout",
     "output_type": "stream",
     "text": [
      "INFO:tensorflow:tokens: [CLS] what are the folks going to do ? what are the voters going to do ? here ' s what you do : first , you look at our record and on the record i say you compare the record of the eisenhower administration with the record of the administration which preceded it . both have been in for 7 ½ years , [SEP] and what about that future ? we want a future of progress , but above all , the people of this country are concerned that our children may grow up in a world in which we can be free and we can live at peace - and that is the most important thing that americans must think about at this time . [SEP]\n"
     ]
    },
    {
     "name": "stderr",
     "output_type": "stream",
     "text": [
      "I0620 08:54:17.874517 139737458554624 tf_logging.py:115] tokens: [CLS] what are the folks going to do ? what are the voters going to do ? here ' s what you do : first , you look at our record and on the record i say you compare the record of the eisenhower administration with the record of the administration which preceded it . both have been in for 7 ½ years , [SEP] and what about that future ? we want a future of progress , but above all , the people of this country are concerned that our children may grow up in a world in which we can be free and we can live at peace - and that is the most important thing that americans must think about at this time . [SEP]\n"
     ]
    },
    {
     "name": "stdout",
     "output_type": "stream",
     "text": [
      "INFO:tensorflow:input_ids: 101 2054 2024 1996 12455 2183 2000 2079 1029 2054 2024 1996 7206 2183 2000 2079 1029 2182 1005 1055 2054 2017 2079 1024 2034 1010 2017 2298 2012 2256 2501 1998 2006 1996 2501 1045 2360 2017 12826 1996 2501 1997 1996 16551 3447 2007 1996 2501 1997 1996 3447 2029 11677 2009 1012 2119 2031 2042 1999 2005 1021 1092 2086 1010 102 1998 2054 2055 2008 2925 1029 2057 2215 1037 2925 1997 5082 1010 2021 2682 2035 1010 1996 2111 1997 2023 2406 2024 4986 2008 2256 2336 2089 4982 2039 1999 1037 2088 1999 2029 2057 2064 2022 2489 1998 2057 2064 2444 2012 3521 1011 1998 2008 2003 1996 2087 2590 2518 2008 4841 2442 2228 2055 2012 2023 2051 1012 102\n"
     ]
    },
    {
     "name": "stderr",
     "output_type": "stream",
     "text": [
      "I0620 08:54:17.875494 139737458554624 tf_logging.py:115] input_ids: 101 2054 2024 1996 12455 2183 2000 2079 1029 2054 2024 1996 7206 2183 2000 2079 1029 2182 1005 1055 2054 2017 2079 1024 2034 1010 2017 2298 2012 2256 2501 1998 2006 1996 2501 1045 2360 2017 12826 1996 2501 1997 1996 16551 3447 2007 1996 2501 1997 1996 3447 2029 11677 2009 1012 2119 2031 2042 1999 2005 1021 1092 2086 1010 102 1998 2054 2055 2008 2925 1029 2057 2215 1037 2925 1997 5082 1010 2021 2682 2035 1010 1996 2111 1997 2023 2406 2024 4986 2008 2256 2336 2089 4982 2039 1999 1037 2088 1999 2029 2057 2064 2022 2489 1998 2057 2064 2444 2012 3521 1011 1998 2008 2003 1996 2087 2590 2518 2008 4841 2442 2228 2055 2012 2023 2051 1012 102\n"
     ]
    },
    {
     "name": "stdout",
     "output_type": "stream",
     "text": [
      "INFO:tensorflow:input_mask: 1 1 1 1 1 1 1 1 1 1 1 1 1 1 1 1 1 1 1 1 1 1 1 1 1 1 1 1 1 1 1 1 1 1 1 1 1 1 1 1 1 1 1 1 1 1 1 1 1 1 1 1 1 1 1 1 1 1 1 1 1 1 1 1 1 1 1 1 1 1 1 1 1 1 1 1 1 1 1 1 1 1 1 1 1 1 1 1 1 1 1 1 1 1 1 1 1 1 1 1 1 1 1 1 1 1 1 1 1 1 1 1 1 1 1 1 1 1 1 1 1 1 1 1 1 1 1 1\n"
     ]
    },
    {
     "name": "stderr",
     "output_type": "stream",
     "text": [
      "I0620 08:54:17.876561 139737458554624 tf_logging.py:115] input_mask: 1 1 1 1 1 1 1 1 1 1 1 1 1 1 1 1 1 1 1 1 1 1 1 1 1 1 1 1 1 1 1 1 1 1 1 1 1 1 1 1 1 1 1 1 1 1 1 1 1 1 1 1 1 1 1 1 1 1 1 1 1 1 1 1 1 1 1 1 1 1 1 1 1 1 1 1 1 1 1 1 1 1 1 1 1 1 1 1 1 1 1 1 1 1 1 1 1 1 1 1 1 1 1 1 1 1 1 1 1 1 1 1 1 1 1 1 1 1 1 1 1 1 1 1 1 1 1 1\n"
     ]
    },
    {
     "name": "stdout",
     "output_type": "stream",
     "text": [
      "INFO:tensorflow:segment_ids: 0 0 0 0 0 0 0 0 0 0 0 0 0 0 0 0 0 0 0 0 0 0 0 0 0 0 0 0 0 0 0 0 0 0 0 0 0 0 0 0 0 0 0 0 0 0 0 0 0 0 0 0 0 0 0 0 0 0 0 0 0 0 0 0 0 1 1 1 1 1 1 1 1 1 1 1 1 1 1 1 1 1 1 1 1 1 1 1 1 1 1 1 1 1 1 1 1 1 1 1 1 1 1 1 1 1 1 1 1 1 1 1 1 1 1 1 1 1 1 1 1 1 1 1 1 1 1 1\n"
     ]
    },
    {
     "name": "stderr",
     "output_type": "stream",
     "text": [
      "I0620 08:54:17.877313 139737458554624 tf_logging.py:115] segment_ids: 0 0 0 0 0 0 0 0 0 0 0 0 0 0 0 0 0 0 0 0 0 0 0 0 0 0 0 0 0 0 0 0 0 0 0 0 0 0 0 0 0 0 0 0 0 0 0 0 0 0 0 0 0 0 0 0 0 0 0 0 0 0 0 0 0 1 1 1 1 1 1 1 1 1 1 1 1 1 1 1 1 1 1 1 1 1 1 1 1 1 1 1 1 1 1 1 1 1 1 1 1 1 1 1 1 1 1 1 1 1 1 1 1 1 1 1 1 1 1 1 1 1 1 1 1 1 1 1\n"
     ]
    },
    {
     "name": "stdout",
     "output_type": "stream",
     "text": [
      "INFO:tensorflow:label: 1 (id = 1)\n"
     ]
    },
    {
     "name": "stderr",
     "output_type": "stream",
     "text": [
      "I0620 08:54:17.878963 139737458554624 tf_logging.py:115] label: 1 (id = 1)\n"
     ]
    },
    {
     "name": "stdout",
     "output_type": "stream",
     "text": [
      "INFO:tensorflow:*** Example ***\n"
     ]
    },
    {
     "name": "stderr",
     "output_type": "stream",
     "text": [
      "I0620 08:54:17.882507 139737458554624 tf_logging.py:115] *** Example ***\n"
     ]
    },
    {
     "name": "stdout",
     "output_type": "stream",
     "text": [
      "INFO:tensorflow:guid: None\n"
     ]
    },
    {
     "name": "stderr",
     "output_type": "stream",
     "text": [
      "I0620 08:54:17.883387 139737458554624 tf_logging.py:115] guid: None\n"
     ]
    },
    {
     "name": "stdout",
     "output_type": "stream",
     "text": [
      "INFO:tensorflow:tokens: [CLS] [ applause . ] mr . nixon considers a minimum wage of $ 1 . 25 to be extreme . mr . nixon considers federal aid to make sure that teachers are paid a decent salary to be extreme . [SEP] meanwhile , the contradictory statements of senator kennedy still leave him opposed to this position . the miss ##tate ##ment : in the second debate senator kennedy said : the republicans in recent years , not only in the last 25 years , but in the last 8 years , have opposed * * * minimum wage * * the facts : senator kennedy is saying that republicans who opposed his particular bill are against minimum wage . the administration supported an increase in the [SEP]\n"
     ]
    },
    {
     "name": "stderr",
     "output_type": "stream",
     "text": [
      "I0620 08:54:17.884079 139737458554624 tf_logging.py:115] tokens: [CLS] [ applause . ] mr . nixon considers a minimum wage of $ 1 . 25 to be extreme . mr . nixon considers federal aid to make sure that teachers are paid a decent salary to be extreme . [SEP] meanwhile , the contradictory statements of senator kennedy still leave him opposed to this position . the miss ##tate ##ment : in the second debate senator kennedy said : the republicans in recent years , not only in the last 25 years , but in the last 8 years , have opposed * * * minimum wage * * the facts : senator kennedy is saying that republicans who opposed his particular bill are against minimum wage . the administration supported an increase in the [SEP]\n"
     ]
    },
    {
     "name": "stdout",
     "output_type": "stream",
     "text": [
      "INFO:tensorflow:input_ids: 101 1031 20737 1012 1033 2720 1012 11296 10592 1037 6263 11897 1997 1002 1015 1012 2423 2000 2022 6034 1012 2720 1012 11296 10592 2976 4681 2000 2191 2469 2008 5089 2024 3825 1037 11519 10300 2000 2022 6034 1012 102 5564 1010 1996 27894 8635 1997 5205 5817 2145 2681 2032 4941 2000 2023 2597 1012 1996 3335 12259 3672 1024 1999 1996 2117 5981 5205 5817 2056 1024 1996 10643 1999 3522 2086 1010 2025 2069 1999 1996 2197 2423 2086 1010 2021 1999 1996 2197 1022 2086 1010 2031 4941 1008 1008 1008 6263 11897 1008 1008 1996 8866 1024 5205 5817 2003 3038 2008 10643 2040 4941 2010 3327 3021 2024 2114 6263 11897 1012 1996 3447 3569 2019 3623 1999 1996 102\n"
     ]
    },
    {
     "name": "stderr",
     "output_type": "stream",
     "text": [
      "I0620 08:54:17.884865 139737458554624 tf_logging.py:115] input_ids: 101 1031 20737 1012 1033 2720 1012 11296 10592 1037 6263 11897 1997 1002 1015 1012 2423 2000 2022 6034 1012 2720 1012 11296 10592 2976 4681 2000 2191 2469 2008 5089 2024 3825 1037 11519 10300 2000 2022 6034 1012 102 5564 1010 1996 27894 8635 1997 5205 5817 2145 2681 2032 4941 2000 2023 2597 1012 1996 3335 12259 3672 1024 1999 1996 2117 5981 5205 5817 2056 1024 1996 10643 1999 3522 2086 1010 2025 2069 1999 1996 2197 2423 2086 1010 2021 1999 1996 2197 1022 2086 1010 2031 4941 1008 1008 1008 6263 11897 1008 1008 1996 8866 1024 5205 5817 2003 3038 2008 10643 2040 4941 2010 3327 3021 2024 2114 6263 11897 1012 1996 3447 3569 2019 3623 1999 1996 102\n"
     ]
    },
    {
     "name": "stdout",
     "output_type": "stream",
     "text": [
      "INFO:tensorflow:input_mask: 1 1 1 1 1 1 1 1 1 1 1 1 1 1 1 1 1 1 1 1 1 1 1 1 1 1 1 1 1 1 1 1 1 1 1 1 1 1 1 1 1 1 1 1 1 1 1 1 1 1 1 1 1 1 1 1 1 1 1 1 1 1 1 1 1 1 1 1 1 1 1 1 1 1 1 1 1 1 1 1 1 1 1 1 1 1 1 1 1 1 1 1 1 1 1 1 1 1 1 1 1 1 1 1 1 1 1 1 1 1 1 1 1 1 1 1 1 1 1 1 1 1 1 1 1 1 1 1\n"
     ]
    },
    {
     "name": "stderr",
     "output_type": "stream",
     "text": [
      "I0620 08:54:17.885551 139737458554624 tf_logging.py:115] input_mask: 1 1 1 1 1 1 1 1 1 1 1 1 1 1 1 1 1 1 1 1 1 1 1 1 1 1 1 1 1 1 1 1 1 1 1 1 1 1 1 1 1 1 1 1 1 1 1 1 1 1 1 1 1 1 1 1 1 1 1 1 1 1 1 1 1 1 1 1 1 1 1 1 1 1 1 1 1 1 1 1 1 1 1 1 1 1 1 1 1 1 1 1 1 1 1 1 1 1 1 1 1 1 1 1 1 1 1 1 1 1 1 1 1 1 1 1 1 1 1 1 1 1 1 1 1 1 1 1\n"
     ]
    },
    {
     "name": "stdout",
     "output_type": "stream",
     "text": [
      "INFO:tensorflow:segment_ids: 0 0 0 0 0 0 0 0 0 0 0 0 0 0 0 0 0 0 0 0 0 0 0 0 0 0 0 0 0 0 0 0 0 0 0 0 0 0 0 0 0 0 1 1 1 1 1 1 1 1 1 1 1 1 1 1 1 1 1 1 1 1 1 1 1 1 1 1 1 1 1 1 1 1 1 1 1 1 1 1 1 1 1 1 1 1 1 1 1 1 1 1 1 1 1 1 1 1 1 1 1 1 1 1 1 1 1 1 1 1 1 1 1 1 1 1 1 1 1 1 1 1 1 1 1 1 1 1\n"
     ]
    },
    {
     "name": "stderr",
     "output_type": "stream",
     "text": [
      "I0620 08:54:17.886094 139737458554624 tf_logging.py:115] segment_ids: 0 0 0 0 0 0 0 0 0 0 0 0 0 0 0 0 0 0 0 0 0 0 0 0 0 0 0 0 0 0 0 0 0 0 0 0 0 0 0 0 0 0 1 1 1 1 1 1 1 1 1 1 1 1 1 1 1 1 1 1 1 1 1 1 1 1 1 1 1 1 1 1 1 1 1 1 1 1 1 1 1 1 1 1 1 1 1 1 1 1 1 1 1 1 1 1 1 1 1 1 1 1 1 1 1 1 1 1 1 1 1 1 1 1 1 1 1 1 1 1 1 1 1 1 1 1 1 1\n"
     ]
    },
    {
     "name": "stdout",
     "output_type": "stream",
     "text": [
      "INFO:tensorflow:label: 0 (id = 0)\n"
     ]
    },
    {
     "name": "stderr",
     "output_type": "stream",
     "text": [
      "I0620 08:54:17.886584 139737458554624 tf_logging.py:115] label: 0 (id = 0)\n"
     ]
    },
    {
     "name": "stdout",
     "output_type": "stream",
     "text": [
      "INFO:tensorflow:*** Example ***\n"
     ]
    },
    {
     "name": "stderr",
     "output_type": "stream",
     "text": [
      "I0620 08:54:17.888959 139737458554624 tf_logging.py:115] *** Example ***\n"
     ]
    },
    {
     "name": "stdout",
     "output_type": "stream",
     "text": [
      "INFO:tensorflow:guid: None\n"
     ]
    },
    {
     "name": "stderr",
     "output_type": "stream",
     "text": [
      "I0620 08:54:17.889774 139737458554624 tf_logging.py:115] guid: None\n"
     ]
    },
    {
     "name": "stdout",
     "output_type": "stream",
     "text": [
      "INFO:tensorflow:tokens: [CLS] [ applause . ] let me make it very clear that if we are successful in january , we are going to recommend the following programs : first , we are going to make sure that those americans who are retired , who are on social security , who do need medical care , shall have it under the social security system . [ applause . [SEP] [ applause . ] a party which opposed social security , which tried to repeal it , a party which opposed minimum wage and tried to repeal it , a party which has opposed our efforts to pass in this congress medical care for the aged to the social security . [ applause . [SEP]\n"
     ]
    },
    {
     "name": "stderr",
     "output_type": "stream",
     "text": [
      "I0620 08:54:17.890367 139737458554624 tf_logging.py:115] tokens: [CLS] [ applause . ] let me make it very clear that if we are successful in january , we are going to recommend the following programs : first , we are going to make sure that those americans who are retired , who are on social security , who do need medical care , shall have it under the social security system . [ applause . [SEP] [ applause . ] a party which opposed social security , which tried to repeal it , a party which opposed minimum wage and tried to repeal it , a party which has opposed our efforts to pass in this congress medical care for the aged to the social security . [ applause . [SEP]\n"
     ]
    },
    {
     "name": "stdout",
     "output_type": "stream",
     "text": [
      "INFO:tensorflow:input_ids: 101 1031 20737 1012 1033 2292 2033 2191 2009 2200 3154 2008 2065 2057 2024 3144 1999 2254 1010 2057 2024 2183 2000 16755 1996 2206 3454 1024 2034 1010 2057 2024 2183 2000 2191 2469 2008 2216 4841 2040 2024 3394 1010 2040 2024 2006 2591 3036 1010 2040 2079 2342 2966 2729 1010 4618 2031 2009 2104 1996 2591 3036 2291 1012 1031 20737 1012 102 1031 20737 1012 1033 1037 2283 2029 4941 2591 3036 1010 2029 2699 2000 21825 2009 1010 1037 2283 2029 4941 6263 11897 1998 2699 2000 21825 2009 1010 1037 2283 2029 2038 4941 2256 4073 2000 3413 1999 2023 3519 2966 2729 2005 1996 4793 2000 1996 2591 3036 1012 1031 20737 1012 102 0 0 0 0 0\n"
     ]
    },
    {
     "name": "stderr",
     "output_type": "stream",
     "text": [
      "I0620 08:54:17.890950 139737458554624 tf_logging.py:115] input_ids: 101 1031 20737 1012 1033 2292 2033 2191 2009 2200 3154 2008 2065 2057 2024 3144 1999 2254 1010 2057 2024 2183 2000 16755 1996 2206 3454 1024 2034 1010 2057 2024 2183 2000 2191 2469 2008 2216 4841 2040 2024 3394 1010 2040 2024 2006 2591 3036 1010 2040 2079 2342 2966 2729 1010 4618 2031 2009 2104 1996 2591 3036 2291 1012 1031 20737 1012 102 1031 20737 1012 1033 1037 2283 2029 4941 2591 3036 1010 2029 2699 2000 21825 2009 1010 1037 2283 2029 4941 6263 11897 1998 2699 2000 21825 2009 1010 1037 2283 2029 2038 4941 2256 4073 2000 3413 1999 2023 3519 2966 2729 2005 1996 4793 2000 1996 2591 3036 1012 1031 20737 1012 102 0 0 0 0 0\n"
     ]
    },
    {
     "name": "stdout",
     "output_type": "stream",
     "text": [
      "INFO:tensorflow:input_mask: 1 1 1 1 1 1 1 1 1 1 1 1 1 1 1 1 1 1 1 1 1 1 1 1 1 1 1 1 1 1 1 1 1 1 1 1 1 1 1 1 1 1 1 1 1 1 1 1 1 1 1 1 1 1 1 1 1 1 1 1 1 1 1 1 1 1 1 1 1 1 1 1 1 1 1 1 1 1 1 1 1 1 1 1 1 1 1 1 1 1 1 1 1 1 1 1 1 1 1 1 1 1 1 1 1 1 1 1 1 1 1 1 1 1 1 1 1 1 1 1 1 1 1 0 0 0 0 0\n"
     ]
    },
    {
     "name": "stderr",
     "output_type": "stream",
     "text": [
      "I0620 08:54:17.891498 139737458554624 tf_logging.py:115] input_mask: 1 1 1 1 1 1 1 1 1 1 1 1 1 1 1 1 1 1 1 1 1 1 1 1 1 1 1 1 1 1 1 1 1 1 1 1 1 1 1 1 1 1 1 1 1 1 1 1 1 1 1 1 1 1 1 1 1 1 1 1 1 1 1 1 1 1 1 1 1 1 1 1 1 1 1 1 1 1 1 1 1 1 1 1 1 1 1 1 1 1 1 1 1 1 1 1 1 1 1 1 1 1 1 1 1 1 1 1 1 1 1 1 1 1 1 1 1 1 1 1 1 1 1 0 0 0 0 0\n"
     ]
    },
    {
     "name": "stdout",
     "output_type": "stream",
     "text": [
      "INFO:tensorflow:segment_ids: 0 0 0 0 0 0 0 0 0 0 0 0 0 0 0 0 0 0 0 0 0 0 0 0 0 0 0 0 0 0 0 0 0 0 0 0 0 0 0 0 0 0 0 0 0 0 0 0 0 0 0 0 0 0 0 0 0 0 0 0 0 0 0 0 0 0 0 0 1 1 1 1 1 1 1 1 1 1 1 1 1 1 1 1 1 1 1 1 1 1 1 1 1 1 1 1 1 1 1 1 1 1 1 1 1 1 1 1 1 1 1 1 1 1 1 1 1 1 1 1 1 1 1 0 0 0 0 0\n"
     ]
    },
    {
     "name": "stderr",
     "output_type": "stream",
     "text": [
      "I0620 08:54:17.892044 139737458554624 tf_logging.py:115] segment_ids: 0 0 0 0 0 0 0 0 0 0 0 0 0 0 0 0 0 0 0 0 0 0 0 0 0 0 0 0 0 0 0 0 0 0 0 0 0 0 0 0 0 0 0 0 0 0 0 0 0 0 0 0 0 0 0 0 0 0 0 0 0 0 0 0 0 0 0 0 1 1 1 1 1 1 1 1 1 1 1 1 1 1 1 1 1 1 1 1 1 1 1 1 1 1 1 1 1 1 1 1 1 1 1 1 1 1 1 1 1 1 1 1 1 1 1 1 1 1 1 1 1 1 1 0 0 0 0 0\n"
     ]
    },
    {
     "name": "stdout",
     "output_type": "stream",
     "text": [
      "INFO:tensorflow:label: 1 (id = 1)\n"
     ]
    },
    {
     "name": "stderr",
     "output_type": "stream",
     "text": [
      "I0620 08:54:17.892547 139737458554624 tf_logging.py:115] label: 1 (id = 1)\n"
     ]
    },
    {
     "name": "stdout",
     "output_type": "stream",
     "text": [
      "INFO:tensorflow:*** Example ***\n"
     ]
    },
    {
     "name": "stderr",
     "output_type": "stream",
     "text": [
      "I0620 08:54:17.895123 139737458554624 tf_logging.py:115] *** Example ***\n"
     ]
    },
    {
     "name": "stdout",
     "output_type": "stream",
     "text": [
      "INFO:tensorflow:guid: None\n"
     ]
    },
    {
     "name": "stderr",
     "output_type": "stream",
     "text": [
      "I0620 08:54:17.895915 139737458554624 tf_logging.py:115] guid: None\n"
     ]
    },
    {
     "name": "stdout",
     "output_type": "stream",
     "text": [
      "INFO:tensorflow:tokens: [CLS] the point is that we pay for that . every time the president veto ##es a housing bill , every time a republican member votes against the $ 1 . 25 minimum wage , every time we are unable to get any support on our bill to tie medical care for the aged to social security , it is not the congress that suffers , it is not the administration ; it is the people [SEP] they talked . but what did they produce ? they promised a 25 - percent minimum wage increase in place of the program that president eisenhower asked for and that could have been passed and should have been passed . what did the workers get ? nothing at all . [SEP]\n"
     ]
    },
    {
     "name": "stderr",
     "output_type": "stream",
     "text": [
      "I0620 08:54:17.896460 139737458554624 tf_logging.py:115] tokens: [CLS] the point is that we pay for that . every time the president veto ##es a housing bill , every time a republican member votes against the $ 1 . 25 minimum wage , every time we are unable to get any support on our bill to tie medical care for the aged to social security , it is not the congress that suffers , it is not the administration ; it is the people [SEP] they talked . but what did they produce ? they promised a 25 - percent minimum wage increase in place of the program that president eisenhower asked for and that could have been passed and should have been passed . what did the workers get ? nothing at all . [SEP]\n"
     ]
    },
    {
     "name": "stdout",
     "output_type": "stream",
     "text": [
      "INFO:tensorflow:input_ids: 101 1996 2391 2003 2008 2057 3477 2005 2008 1012 2296 2051 1996 2343 22102 2229 1037 3847 3021 1010 2296 2051 1037 3951 2266 4494 2114 1996 1002 1015 1012 2423 6263 11897 1010 2296 2051 2057 2024 4039 2000 2131 2151 2490 2006 2256 3021 2000 5495 2966 2729 2005 1996 4793 2000 2591 3036 1010 2009 2003 2025 1996 3519 2008 17567 1010 2009 2003 2025 1996 3447 1025 2009 2003 1996 2111 102 2027 5720 1012 2021 2054 2106 2027 3965 1029 2027 5763 1037 2423 1011 3867 6263 11897 3623 1999 2173 1997 1996 2565 2008 2343 16551 2356 2005 1998 2008 2071 2031 2042 2979 1998 2323 2031 2042 2979 1012 2054 2106 1996 3667 2131 1029 2498 2012 2035 1012 102\n"
     ]
    },
    {
     "name": "stderr",
     "output_type": "stream",
     "text": [
      "I0620 08:54:17.896972 139737458554624 tf_logging.py:115] input_ids: 101 1996 2391 2003 2008 2057 3477 2005 2008 1012 2296 2051 1996 2343 22102 2229 1037 3847 3021 1010 2296 2051 1037 3951 2266 4494 2114 1996 1002 1015 1012 2423 6263 11897 1010 2296 2051 2057 2024 4039 2000 2131 2151 2490 2006 2256 3021 2000 5495 2966 2729 2005 1996 4793 2000 2591 3036 1010 2009 2003 2025 1996 3519 2008 17567 1010 2009 2003 2025 1996 3447 1025 2009 2003 1996 2111 102 2027 5720 1012 2021 2054 2106 2027 3965 1029 2027 5763 1037 2423 1011 3867 6263 11897 3623 1999 2173 1997 1996 2565 2008 2343 16551 2356 2005 1998 2008 2071 2031 2042 2979 1998 2323 2031 2042 2979 1012 2054 2106 1996 3667 2131 1029 2498 2012 2035 1012 102\n"
     ]
    },
    {
     "name": "stdout",
     "output_type": "stream",
     "text": [
      "INFO:tensorflow:input_mask: 1 1 1 1 1 1 1 1 1 1 1 1 1 1 1 1 1 1 1 1 1 1 1 1 1 1 1 1 1 1 1 1 1 1 1 1 1 1 1 1 1 1 1 1 1 1 1 1 1 1 1 1 1 1 1 1 1 1 1 1 1 1 1 1 1 1 1 1 1 1 1 1 1 1 1 1 1 1 1 1 1 1 1 1 1 1 1 1 1 1 1 1 1 1 1 1 1 1 1 1 1 1 1 1 1 1 1 1 1 1 1 1 1 1 1 1 1 1 1 1 1 1 1 1 1 1 1 1\n"
     ]
    },
    {
     "name": "stderr",
     "output_type": "stream",
     "text": [
      "I0620 08:54:17.897784 139737458554624 tf_logging.py:115] input_mask: 1 1 1 1 1 1 1 1 1 1 1 1 1 1 1 1 1 1 1 1 1 1 1 1 1 1 1 1 1 1 1 1 1 1 1 1 1 1 1 1 1 1 1 1 1 1 1 1 1 1 1 1 1 1 1 1 1 1 1 1 1 1 1 1 1 1 1 1 1 1 1 1 1 1 1 1 1 1 1 1 1 1 1 1 1 1 1 1 1 1 1 1 1 1 1 1 1 1 1 1 1 1 1 1 1 1 1 1 1 1 1 1 1 1 1 1 1 1 1 1 1 1 1 1 1 1 1 1\n"
     ]
    },
    {
     "name": "stdout",
     "output_type": "stream",
     "text": [
      "INFO:tensorflow:segment_ids: 0 0 0 0 0 0 0 0 0 0 0 0 0 0 0 0 0 0 0 0 0 0 0 0 0 0 0 0 0 0 0 0 0 0 0 0 0 0 0 0 0 0 0 0 0 0 0 0 0 0 0 0 0 0 0 0 0 0 0 0 0 0 0 0 0 0 0 0 0 0 0 0 0 0 0 0 0 1 1 1 1 1 1 1 1 1 1 1 1 1 1 1 1 1 1 1 1 1 1 1 1 1 1 1 1 1 1 1 1 1 1 1 1 1 1 1 1 1 1 1 1 1 1 1 1 1 1 1\n"
     ]
    },
    {
     "name": "stderr",
     "output_type": "stream",
     "text": [
      "I0620 08:54:17.898454 139737458554624 tf_logging.py:115] segment_ids: 0 0 0 0 0 0 0 0 0 0 0 0 0 0 0 0 0 0 0 0 0 0 0 0 0 0 0 0 0 0 0 0 0 0 0 0 0 0 0 0 0 0 0 0 0 0 0 0 0 0 0 0 0 0 0 0 0 0 0 0 0 0 0 0 0 0 0 0 0 0 0 0 0 0 0 0 0 1 1 1 1 1 1 1 1 1 1 1 1 1 1 1 1 1 1 1 1 1 1 1 1 1 1 1 1 1 1 1 1 1 1 1 1 1 1 1 1 1 1 1 1 1 1 1 1 1 1 1\n"
     ]
    },
    {
     "name": "stdout",
     "output_type": "stream",
     "text": [
      "INFO:tensorflow:label: 0 (id = 0)\n"
     ]
    },
    {
     "name": "stderr",
     "output_type": "stream",
     "text": [
      "I0620 08:54:17.899056 139737458554624 tf_logging.py:115] label: 0 (id = 0)\n"
     ]
    },
    {
     "name": "stdout",
     "output_type": "stream",
     "text": [
      "INFO:tensorflow:*** Example ***\n"
     ]
    },
    {
     "name": "stderr",
     "output_type": "stream",
     "text": [
      "I0620 08:54:17.901897 139737458554624 tf_logging.py:115] *** Example ***\n"
     ]
    },
    {
     "name": "stdout",
     "output_type": "stream",
     "text": [
      "INFO:tensorflow:guid: None\n"
     ]
    },
    {
     "name": "stderr",
     "output_type": "stream",
     "text": [
      "I0620 08:54:17.902875 139737458554624 tf_logging.py:115] guid: None\n"
     ]
    },
    {
     "name": "stdout",
     "output_type": "stream",
     "text": [
      "INFO:tensorflow:tokens: [CLS] when a political party votes , in 1935 , 98 percent against the 25 - cent minimum wage , i know what the party stands for ; and when that same political party in 1960 votes in the house of representatives 85 percent against $ 1 . 25 minimum wage in 1960 , i know the republican party stands where it has always [SEP] it is our function , however , not to merely in ##vo ##ke the names of franklin roosevelt and harry truman , not to merely live off what they did , but to bring these old programs up to date . franklin roosevelt proposed a 25 - cent minimum wage , back in the middle thirties ; 90 percent of the republicans [SEP]\n"
     ]
    },
    {
     "name": "stderr",
     "output_type": "stream",
     "text": [
      "I0620 08:54:17.903682 139737458554624 tf_logging.py:115] tokens: [CLS] when a political party votes , in 1935 , 98 percent against the 25 - cent minimum wage , i know what the party stands for ; and when that same political party in 1960 votes in the house of representatives 85 percent against $ 1 . 25 minimum wage in 1960 , i know the republican party stands where it has always [SEP] it is our function , however , not to merely in ##vo ##ke the names of franklin roosevelt and harry truman , not to merely live off what they did , but to bring these old programs up to date . franklin roosevelt proposed a 25 - cent minimum wage , back in the middle thirties ; 90 percent of the republicans [SEP]\n"
     ]
    },
    {
     "name": "stdout",
     "output_type": "stream",
     "text": [
      "INFO:tensorflow:input_ids: 101 2043 1037 2576 2283 4494 1010 1999 4437 1010 5818 3867 2114 1996 2423 1011 9358 6263 11897 1010 1045 2113 2054 1996 2283 4832 2005 1025 1998 2043 2008 2168 2576 2283 1999 3624 4494 1999 1996 2160 1997 4505 5594 3867 2114 1002 1015 1012 2423 6263 11897 1999 3624 1010 1045 2113 1996 3951 2283 4832 2073 2009 2038 2467 102 2009 2003 2256 3853 1010 2174 1010 2025 2000 6414 1999 6767 3489 1996 3415 1997 5951 8573 1998 4302 15237 1010 2025 2000 6414 2444 2125 2054 2027 2106 1010 2021 2000 3288 2122 2214 3454 2039 2000 3058 1012 5951 8573 3818 1037 2423 1011 9358 6263 11897 1010 2067 1999 1996 2690 26313 1025 3938 3867 1997 1996 10643 102\n"
     ]
    },
    {
     "name": "stderr",
     "output_type": "stream",
     "text": [
      "I0620 08:54:17.904794 139737458554624 tf_logging.py:115] input_ids: 101 2043 1037 2576 2283 4494 1010 1999 4437 1010 5818 3867 2114 1996 2423 1011 9358 6263 11897 1010 1045 2113 2054 1996 2283 4832 2005 1025 1998 2043 2008 2168 2576 2283 1999 3624 4494 1999 1996 2160 1997 4505 5594 3867 2114 1002 1015 1012 2423 6263 11897 1999 3624 1010 1045 2113 1996 3951 2283 4832 2073 2009 2038 2467 102 2009 2003 2256 3853 1010 2174 1010 2025 2000 6414 1999 6767 3489 1996 3415 1997 5951 8573 1998 4302 15237 1010 2025 2000 6414 2444 2125 2054 2027 2106 1010 2021 2000 3288 2122 2214 3454 2039 2000 3058 1012 5951 8573 3818 1037 2423 1011 9358 6263 11897 1010 2067 1999 1996 2690 26313 1025 3938 3867 1997 1996 10643 102\n"
     ]
    },
    {
     "name": "stdout",
     "output_type": "stream",
     "text": [
      "INFO:tensorflow:input_mask: 1 1 1 1 1 1 1 1 1 1 1 1 1 1 1 1 1 1 1 1 1 1 1 1 1 1 1 1 1 1 1 1 1 1 1 1 1 1 1 1 1 1 1 1 1 1 1 1 1 1 1 1 1 1 1 1 1 1 1 1 1 1 1 1 1 1 1 1 1 1 1 1 1 1 1 1 1 1 1 1 1 1 1 1 1 1 1 1 1 1 1 1 1 1 1 1 1 1 1 1 1 1 1 1 1 1 1 1 1 1 1 1 1 1 1 1 1 1 1 1 1 1 1 1 1 1 1 1\n"
     ]
    },
    {
     "name": "stderr",
     "output_type": "stream",
     "text": [
      "I0620 08:54:17.906412 139737458554624 tf_logging.py:115] input_mask: 1 1 1 1 1 1 1 1 1 1 1 1 1 1 1 1 1 1 1 1 1 1 1 1 1 1 1 1 1 1 1 1 1 1 1 1 1 1 1 1 1 1 1 1 1 1 1 1 1 1 1 1 1 1 1 1 1 1 1 1 1 1 1 1 1 1 1 1 1 1 1 1 1 1 1 1 1 1 1 1 1 1 1 1 1 1 1 1 1 1 1 1 1 1 1 1 1 1 1 1 1 1 1 1 1 1 1 1 1 1 1 1 1 1 1 1 1 1 1 1 1 1 1 1 1 1 1 1\n"
     ]
    },
    {
     "name": "stdout",
     "output_type": "stream",
     "text": [
      "INFO:tensorflow:segment_ids: 0 0 0 0 0 0 0 0 0 0 0 0 0 0 0 0 0 0 0 0 0 0 0 0 0 0 0 0 0 0 0 0 0 0 0 0 0 0 0 0 0 0 0 0 0 0 0 0 0 0 0 0 0 0 0 0 0 0 0 0 0 0 0 0 0 1 1 1 1 1 1 1 1 1 1 1 1 1 1 1 1 1 1 1 1 1 1 1 1 1 1 1 1 1 1 1 1 1 1 1 1 1 1 1 1 1 1 1 1 1 1 1 1 1 1 1 1 1 1 1 1 1 1 1 1 1 1 1\n"
     ]
    },
    {
     "name": "stderr",
     "output_type": "stream",
     "text": [
      "I0620 08:54:17.907221 139737458554624 tf_logging.py:115] segment_ids: 0 0 0 0 0 0 0 0 0 0 0 0 0 0 0 0 0 0 0 0 0 0 0 0 0 0 0 0 0 0 0 0 0 0 0 0 0 0 0 0 0 0 0 0 0 0 0 0 0 0 0 0 0 0 0 0 0 0 0 0 0 0 0 0 0 1 1 1 1 1 1 1 1 1 1 1 1 1 1 1 1 1 1 1 1 1 1 1 1 1 1 1 1 1 1 1 1 1 1 1 1 1 1 1 1 1 1 1 1 1 1 1 1 1 1 1 1 1 1 1 1 1 1 1 1 1 1 1\n"
     ]
    },
    {
     "name": "stdout",
     "output_type": "stream",
     "text": [
      "INFO:tensorflow:label: 0 (id = 0)\n"
     ]
    },
    {
     "name": "stderr",
     "output_type": "stream",
     "text": [
      "I0620 08:54:17.907853 139737458554624 tf_logging.py:115] label: 0 (id = 0)\n"
     ]
    },
    {
     "name": "stdout",
     "output_type": "stream",
     "text": [
      "INFO:tensorflow:Writing example 0 of 146\n"
     ]
    },
    {
     "name": "stderr",
     "output_type": "stream",
     "text": [
      "I0620 08:54:20.656086 139737458554624 tf_logging.py:115] Writing example 0 of 146\n"
     ]
    },
    {
     "name": "stdout",
     "output_type": "stream",
     "text": [
      "INFO:tensorflow:*** Example ***\n"
     ]
    },
    {
     "name": "stderr",
     "output_type": "stream",
     "text": [
      "I0620 08:54:20.660390 139737458554624 tf_logging.py:115] *** Example ***\n"
     ]
    },
    {
     "name": "stdout",
     "output_type": "stream",
     "text": [
      "INFO:tensorflow:guid: None\n"
     ]
    },
    {
     "name": "stderr",
     "output_type": "stream",
     "text": [
      "I0620 08:54:20.661742 139737458554624 tf_logging.py:115] guid: None\n"
     ]
    },
    {
     "name": "stdout",
     "output_type": "stream",
     "text": [
      "INFO:tensorflow:tokens: [CLS] promises for what ? promises that would go back . promises that would restore in this country policies that reduced the value of our dollars ; promises that would bring back in this country policies which discouraged business investment , policies which resulted in unemployment , policies which st ##ag ##nated the american economy . i just want to say in that connection [SEP] we are going to have to build a better life for our people . as long as there are 15 million american homes which are sub ##stand ##ard , as long as there are millions of americans who are not even paid a dollar an hour , as long as there are hundreds of thousands of americans out of work , living [SEP]\n"
     ]
    },
    {
     "name": "stderr",
     "output_type": "stream",
     "text": [
      "I0620 08:54:20.662786 139737458554624 tf_logging.py:115] tokens: [CLS] promises for what ? promises that would go back . promises that would restore in this country policies that reduced the value of our dollars ; promises that would bring back in this country policies which discouraged business investment , policies which resulted in unemployment , policies which st ##ag ##nated the american economy . i just want to say in that connection [SEP] we are going to have to build a better life for our people . as long as there are 15 million american homes which are sub ##stand ##ard , as long as there are millions of americans who are not even paid a dollar an hour , as long as there are hundreds of thousands of americans out of work , living [SEP]\n"
     ]
    },
    {
     "name": "stdout",
     "output_type": "stream",
     "text": [
      "INFO:tensorflow:input_ids: 101 10659 2005 2054 1029 10659 2008 2052 2175 2067 1012 10659 2008 2052 9239 1999 2023 2406 6043 2008 4359 1996 3643 1997 2256 6363 1025 10659 2008 2052 3288 2067 1999 2023 2406 6043 2029 22585 2449 5211 1010 6043 2029 4504 1999 12163 1010 6043 2029 2358 8490 23854 1996 2137 4610 1012 1045 2074 2215 2000 2360 1999 2008 4434 102 2057 2024 2183 2000 2031 2000 3857 1037 2488 2166 2005 2256 2111 1012 2004 2146 2004 2045 2024 2321 2454 2137 5014 2029 2024 4942 21515 4232 1010 2004 2146 2004 2045 2024 8817 1997 4841 2040 2024 2025 2130 3825 1037 7922 2019 3178 1010 2004 2146 2004 2045 2024 5606 1997 5190 1997 4841 2041 1997 2147 1010 2542 102\n"
     ]
    },
    {
     "name": "stderr",
     "output_type": "stream",
     "text": [
      "I0620 08:54:20.663658 139737458554624 tf_logging.py:115] input_ids: 101 10659 2005 2054 1029 10659 2008 2052 2175 2067 1012 10659 2008 2052 9239 1999 2023 2406 6043 2008 4359 1996 3643 1997 2256 6363 1025 10659 2008 2052 3288 2067 1999 2023 2406 6043 2029 22585 2449 5211 1010 6043 2029 4504 1999 12163 1010 6043 2029 2358 8490 23854 1996 2137 4610 1012 1045 2074 2215 2000 2360 1999 2008 4434 102 2057 2024 2183 2000 2031 2000 3857 1037 2488 2166 2005 2256 2111 1012 2004 2146 2004 2045 2024 2321 2454 2137 5014 2029 2024 4942 21515 4232 1010 2004 2146 2004 2045 2024 8817 1997 4841 2040 2024 2025 2130 3825 1037 7922 2019 3178 1010 2004 2146 2004 2045 2024 5606 1997 5190 1997 4841 2041 1997 2147 1010 2542 102\n"
     ]
    },
    {
     "name": "stdout",
     "output_type": "stream",
     "text": [
      "INFO:tensorflow:input_mask: 1 1 1 1 1 1 1 1 1 1 1 1 1 1 1 1 1 1 1 1 1 1 1 1 1 1 1 1 1 1 1 1 1 1 1 1 1 1 1 1 1 1 1 1 1 1 1 1 1 1 1 1 1 1 1 1 1 1 1 1 1 1 1 1 1 1 1 1 1 1 1 1 1 1 1 1 1 1 1 1 1 1 1 1 1 1 1 1 1 1 1 1 1 1 1 1 1 1 1 1 1 1 1 1 1 1 1 1 1 1 1 1 1 1 1 1 1 1 1 1 1 1 1 1 1 1 1 1\n"
     ]
    },
    {
     "name": "stderr",
     "output_type": "stream",
     "text": [
      "I0620 08:54:20.664497 139737458554624 tf_logging.py:115] input_mask: 1 1 1 1 1 1 1 1 1 1 1 1 1 1 1 1 1 1 1 1 1 1 1 1 1 1 1 1 1 1 1 1 1 1 1 1 1 1 1 1 1 1 1 1 1 1 1 1 1 1 1 1 1 1 1 1 1 1 1 1 1 1 1 1 1 1 1 1 1 1 1 1 1 1 1 1 1 1 1 1 1 1 1 1 1 1 1 1 1 1 1 1 1 1 1 1 1 1 1 1 1 1 1 1 1 1 1 1 1 1 1 1 1 1 1 1 1 1 1 1 1 1 1 1 1 1 1 1\n"
     ]
    },
    {
     "name": "stdout",
     "output_type": "stream",
     "text": [
      "INFO:tensorflow:segment_ids: 0 0 0 0 0 0 0 0 0 0 0 0 0 0 0 0 0 0 0 0 0 0 0 0 0 0 0 0 0 0 0 0 0 0 0 0 0 0 0 0 0 0 0 0 0 0 0 0 0 0 0 0 0 0 0 0 0 0 0 0 0 0 0 0 0 1 1 1 1 1 1 1 1 1 1 1 1 1 1 1 1 1 1 1 1 1 1 1 1 1 1 1 1 1 1 1 1 1 1 1 1 1 1 1 1 1 1 1 1 1 1 1 1 1 1 1 1 1 1 1 1 1 1 1 1 1 1 1\n"
     ]
    },
    {
     "name": "stderr",
     "output_type": "stream",
     "text": [
      "I0620 08:54:20.666601 139737458554624 tf_logging.py:115] segment_ids: 0 0 0 0 0 0 0 0 0 0 0 0 0 0 0 0 0 0 0 0 0 0 0 0 0 0 0 0 0 0 0 0 0 0 0 0 0 0 0 0 0 0 0 0 0 0 0 0 0 0 0 0 0 0 0 0 0 0 0 0 0 0 0 0 0 1 1 1 1 1 1 1 1 1 1 1 1 1 1 1 1 1 1 1 1 1 1 1 1 1 1 1 1 1 1 1 1 1 1 1 1 1 1 1 1 1 1 1 1 1 1 1 1 1 1 1 1 1 1 1 1 1 1 1 1 1 1 1\n"
     ]
    },
    {
     "name": "stdout",
     "output_type": "stream",
     "text": [
      "INFO:tensorflow:label: 0 (id = 0)\n"
     ]
    },
    {
     "name": "stderr",
     "output_type": "stream",
     "text": [
      "I0620 08:54:20.668547 139737458554624 tf_logging.py:115] label: 0 (id = 0)\n"
     ]
    },
    {
     "name": "stdout",
     "output_type": "stream",
     "text": [
      "INFO:tensorflow:*** Example ***\n"
     ]
    },
    {
     "name": "stderr",
     "output_type": "stream",
     "text": [
      "I0620 08:54:20.672543 139737458554624 tf_logging.py:115] *** Example ***\n"
     ]
    },
    {
     "name": "stdout",
     "output_type": "stream",
     "text": [
      "INFO:tensorflow:guid: None\n"
     ]
    },
    {
     "name": "stderr",
     "output_type": "stream",
     "text": [
      "I0620 08:54:20.673959 139737458554624 tf_logging.py:115] guid: None\n"
     ]
    },
    {
     "name": "stdout",
     "output_type": "stream",
     "text": [
      "INFO:tensorflow:tokens: [CLS] i do n ' t think the monetary and fiscal policies which this administration has followed are good enough . i believe that when they stand against the minimum wage of $ 1 . 25 an hour , i think they are standing in the way of progress . we have high interest rates and as a partial result we built this year [SEP] meanwhile , the contradictory statements of senator kennedy still leave him opposed to this position . the miss ##tate ##ment : in the second debate senator kennedy said : the republicans in recent years , not only in the last 25 years , but in the last 8 years , have opposed * * * minimum wage * * the facts : [SEP]\n"
     ]
    },
    {
     "name": "stderr",
     "output_type": "stream",
     "text": [
      "I0620 08:54:20.675033 139737458554624 tf_logging.py:115] tokens: [CLS] i do n ' t think the monetary and fiscal policies which this administration has followed are good enough . i believe that when they stand against the minimum wage of $ 1 . 25 an hour , i think they are standing in the way of progress . we have high interest rates and as a partial result we built this year [SEP] meanwhile , the contradictory statements of senator kennedy still leave him opposed to this position . the miss ##tate ##ment : in the second debate senator kennedy said : the republicans in recent years , not only in the last 25 years , but in the last 8 years , have opposed * * * minimum wage * * the facts : [SEP]\n"
     ]
    },
    {
     "name": "stdout",
     "output_type": "stream",
     "text": [
      "INFO:tensorflow:input_ids: 101 1045 2079 1050 1005 1056 2228 1996 12194 1998 10807 6043 2029 2023 3447 2038 2628 2024 2204 2438 1012 1045 2903 2008 2043 2027 3233 2114 1996 6263 11897 1997 1002 1015 1012 2423 2019 3178 1010 1045 2228 2027 2024 3061 1999 1996 2126 1997 5082 1012 2057 2031 2152 3037 6165 1998 2004 1037 7704 2765 2057 2328 2023 2095 102 5564 1010 1996 27894 8635 1997 5205 5817 2145 2681 2032 4941 2000 2023 2597 1012 1996 3335 12259 3672 1024 1999 1996 2117 5981 5205 5817 2056 1024 1996 10643 1999 3522 2086 1010 2025 2069 1999 1996 2197 2423 2086 1010 2021 1999 1996 2197 1022 2086 1010 2031 4941 1008 1008 1008 6263 11897 1008 1008 1996 8866 1024 102\n"
     ]
    },
    {
     "name": "stderr",
     "output_type": "stream",
     "text": [
      "I0620 08:54:20.675970 139737458554624 tf_logging.py:115] input_ids: 101 1045 2079 1050 1005 1056 2228 1996 12194 1998 10807 6043 2029 2023 3447 2038 2628 2024 2204 2438 1012 1045 2903 2008 2043 2027 3233 2114 1996 6263 11897 1997 1002 1015 1012 2423 2019 3178 1010 1045 2228 2027 2024 3061 1999 1996 2126 1997 5082 1012 2057 2031 2152 3037 6165 1998 2004 1037 7704 2765 2057 2328 2023 2095 102 5564 1010 1996 27894 8635 1997 5205 5817 2145 2681 2032 4941 2000 2023 2597 1012 1996 3335 12259 3672 1024 1999 1996 2117 5981 5205 5817 2056 1024 1996 10643 1999 3522 2086 1010 2025 2069 1999 1996 2197 2423 2086 1010 2021 1999 1996 2197 1022 2086 1010 2031 4941 1008 1008 1008 6263 11897 1008 1008 1996 8866 1024 102\n"
     ]
    },
    {
     "name": "stdout",
     "output_type": "stream",
     "text": [
      "INFO:tensorflow:input_mask: 1 1 1 1 1 1 1 1 1 1 1 1 1 1 1 1 1 1 1 1 1 1 1 1 1 1 1 1 1 1 1 1 1 1 1 1 1 1 1 1 1 1 1 1 1 1 1 1 1 1 1 1 1 1 1 1 1 1 1 1 1 1 1 1 1 1 1 1 1 1 1 1 1 1 1 1 1 1 1 1 1 1 1 1 1 1 1 1 1 1 1 1 1 1 1 1 1 1 1 1 1 1 1 1 1 1 1 1 1 1 1 1 1 1 1 1 1 1 1 1 1 1 1 1 1 1 1 1\n"
     ]
    },
    {
     "name": "stderr",
     "output_type": "stream",
     "text": [
      "I0620 08:54:20.677802 139737458554624 tf_logging.py:115] input_mask: 1 1 1 1 1 1 1 1 1 1 1 1 1 1 1 1 1 1 1 1 1 1 1 1 1 1 1 1 1 1 1 1 1 1 1 1 1 1 1 1 1 1 1 1 1 1 1 1 1 1 1 1 1 1 1 1 1 1 1 1 1 1 1 1 1 1 1 1 1 1 1 1 1 1 1 1 1 1 1 1 1 1 1 1 1 1 1 1 1 1 1 1 1 1 1 1 1 1 1 1 1 1 1 1 1 1 1 1 1 1 1 1 1 1 1 1 1 1 1 1 1 1 1 1 1 1 1 1\n"
     ]
    },
    {
     "name": "stdout",
     "output_type": "stream",
     "text": [
      "INFO:tensorflow:segment_ids: 0 0 0 0 0 0 0 0 0 0 0 0 0 0 0 0 0 0 0 0 0 0 0 0 0 0 0 0 0 0 0 0 0 0 0 0 0 0 0 0 0 0 0 0 0 0 0 0 0 0 0 0 0 0 0 0 0 0 0 0 0 0 0 0 0 1 1 1 1 1 1 1 1 1 1 1 1 1 1 1 1 1 1 1 1 1 1 1 1 1 1 1 1 1 1 1 1 1 1 1 1 1 1 1 1 1 1 1 1 1 1 1 1 1 1 1 1 1 1 1 1 1 1 1 1 1 1 1\n"
     ]
    },
    {
     "name": "stderr",
     "output_type": "stream",
     "text": [
      "I0620 08:54:20.678775 139737458554624 tf_logging.py:115] segment_ids: 0 0 0 0 0 0 0 0 0 0 0 0 0 0 0 0 0 0 0 0 0 0 0 0 0 0 0 0 0 0 0 0 0 0 0 0 0 0 0 0 0 0 0 0 0 0 0 0 0 0 0 0 0 0 0 0 0 0 0 0 0 0 0 0 0 1 1 1 1 1 1 1 1 1 1 1 1 1 1 1 1 1 1 1 1 1 1 1 1 1 1 1 1 1 1 1 1 1 1 1 1 1 1 1 1 1 1 1 1 1 1 1 1 1 1 1 1 1 1 1 1 1 1 1 1 1 1 1\n"
     ]
    },
    {
     "name": "stdout",
     "output_type": "stream",
     "text": [
      "INFO:tensorflow:label: 0 (id = 0)\n"
     ]
    },
    {
     "name": "stderr",
     "output_type": "stream",
     "text": [
      "I0620 08:54:20.679451 139737458554624 tf_logging.py:115] label: 0 (id = 0)\n"
     ]
    },
    {
     "name": "stdout",
     "output_type": "stream",
     "text": [
      "INFO:tensorflow:*** Example ***\n"
     ]
    },
    {
     "name": "stderr",
     "output_type": "stream",
     "text": [
      "I0620 08:54:20.683408 139737458554624 tf_logging.py:115] *** Example ***\n"
     ]
    },
    {
     "name": "stdout",
     "output_type": "stream",
     "text": [
      "INFO:tensorflow:guid: None\n"
     ]
    },
    {
     "name": "stderr",
     "output_type": "stream",
     "text": [
      "I0620 08:54:20.684286 139737458554624 tf_logging.py:115] guid: None\n"
     ]
    },
    {
     "name": "stdout",
     "output_type": "stream",
     "text": [
      "INFO:tensorflow:tokens: [CLS] it is very easy to talk about all the programs you ' re for , but when they had the opportunity , as they have had the opportunity during these past years , they were not able to move forward in these areas in which they have talked . now , let ' s look at some of these programs , and particularly [SEP] he promises a farm program that would force drastic cut ##backs in production and marketing , force 2 million people out of work , trigger off inflation , sharply raise food prices , create food scar ##city , and regiment all agriculture by setting up all sorts of new regulations and creating new battalions of government oversee ##rs to watch over and [SEP]\n"
     ]
    },
    {
     "name": "stderr",
     "output_type": "stream",
     "text": [
      "I0620 08:54:20.684880 139737458554624 tf_logging.py:115] tokens: [CLS] it is very easy to talk about all the programs you ' re for , but when they had the opportunity , as they have had the opportunity during these past years , they were not able to move forward in these areas in which they have talked . now , let ' s look at some of these programs , and particularly [SEP] he promises a farm program that would force drastic cut ##backs in production and marketing , force 2 million people out of work , trigger off inflation , sharply raise food prices , create food scar ##city , and regiment all agriculture by setting up all sorts of new regulations and creating new battalions of government oversee ##rs to watch over and [SEP]\n"
     ]
    },
    {
     "name": "stdout",
     "output_type": "stream",
     "text": [
      "INFO:tensorflow:input_ids: 101 2009 2003 2200 3733 2000 2831 2055 2035 1996 3454 2017 1005 2128 2005 1010 2021 2043 2027 2018 1996 4495 1010 2004 2027 2031 2018 1996 4495 2076 2122 2627 2086 1010 2027 2020 2025 2583 2000 2693 2830 1999 2122 2752 1999 2029 2027 2031 5720 1012 2085 1010 2292 1005 1055 2298 2012 2070 1997 2122 3454 1010 1998 3391 102 2002 10659 1037 3888 2565 2008 2052 2486 23956 3013 12221 1999 2537 1998 5821 1010 2486 1016 2454 2111 2041 1997 2147 1010 9495 2125 14200 1010 9249 5333 2833 7597 1010 3443 2833 11228 12972 1010 1998 3483 2035 5237 2011 4292 2039 2035 11901 1997 2047 7040 1998 4526 2047 10157 1997 2231 17467 2869 2000 3422 2058 1998 102\n"
     ]
    },
    {
     "name": "stderr",
     "output_type": "stream",
     "text": [
      "I0620 08:54:20.685450 139737458554624 tf_logging.py:115] input_ids: 101 2009 2003 2200 3733 2000 2831 2055 2035 1996 3454 2017 1005 2128 2005 1010 2021 2043 2027 2018 1996 4495 1010 2004 2027 2031 2018 1996 4495 2076 2122 2627 2086 1010 2027 2020 2025 2583 2000 2693 2830 1999 2122 2752 1999 2029 2027 2031 5720 1012 2085 1010 2292 1005 1055 2298 2012 2070 1997 2122 3454 1010 1998 3391 102 2002 10659 1037 3888 2565 2008 2052 2486 23956 3013 12221 1999 2537 1998 5821 1010 2486 1016 2454 2111 2041 1997 2147 1010 9495 2125 14200 1010 9249 5333 2833 7597 1010 3443 2833 11228 12972 1010 1998 3483 2035 5237 2011 4292 2039 2035 11901 1997 2047 7040 1998 4526 2047 10157 1997 2231 17467 2869 2000 3422 2058 1998 102\n"
     ]
    },
    {
     "name": "stdout",
     "output_type": "stream",
     "text": [
      "INFO:tensorflow:input_mask: 1 1 1 1 1 1 1 1 1 1 1 1 1 1 1 1 1 1 1 1 1 1 1 1 1 1 1 1 1 1 1 1 1 1 1 1 1 1 1 1 1 1 1 1 1 1 1 1 1 1 1 1 1 1 1 1 1 1 1 1 1 1 1 1 1 1 1 1 1 1 1 1 1 1 1 1 1 1 1 1 1 1 1 1 1 1 1 1 1 1 1 1 1 1 1 1 1 1 1 1 1 1 1 1 1 1 1 1 1 1 1 1 1 1 1 1 1 1 1 1 1 1 1 1 1 1 1 1\n"
     ]
    },
    {
     "name": "stderr",
     "output_type": "stream",
     "text": [
      "I0620 08:54:20.686223 139737458554624 tf_logging.py:115] input_mask: 1 1 1 1 1 1 1 1 1 1 1 1 1 1 1 1 1 1 1 1 1 1 1 1 1 1 1 1 1 1 1 1 1 1 1 1 1 1 1 1 1 1 1 1 1 1 1 1 1 1 1 1 1 1 1 1 1 1 1 1 1 1 1 1 1 1 1 1 1 1 1 1 1 1 1 1 1 1 1 1 1 1 1 1 1 1 1 1 1 1 1 1 1 1 1 1 1 1 1 1 1 1 1 1 1 1 1 1 1 1 1 1 1 1 1 1 1 1 1 1 1 1 1 1 1 1 1 1\n"
     ]
    },
    {
     "name": "stdout",
     "output_type": "stream",
     "text": [
      "INFO:tensorflow:segment_ids: 0 0 0 0 0 0 0 0 0 0 0 0 0 0 0 0 0 0 0 0 0 0 0 0 0 0 0 0 0 0 0 0 0 0 0 0 0 0 0 0 0 0 0 0 0 0 0 0 0 0 0 0 0 0 0 0 0 0 0 0 0 0 0 0 0 1 1 1 1 1 1 1 1 1 1 1 1 1 1 1 1 1 1 1 1 1 1 1 1 1 1 1 1 1 1 1 1 1 1 1 1 1 1 1 1 1 1 1 1 1 1 1 1 1 1 1 1 1 1 1 1 1 1 1 1 1 1 1\n"
     ]
    },
    {
     "name": "stderr",
     "output_type": "stream",
     "text": [
      "I0620 08:54:20.686915 139737458554624 tf_logging.py:115] segment_ids: 0 0 0 0 0 0 0 0 0 0 0 0 0 0 0 0 0 0 0 0 0 0 0 0 0 0 0 0 0 0 0 0 0 0 0 0 0 0 0 0 0 0 0 0 0 0 0 0 0 0 0 0 0 0 0 0 0 0 0 0 0 0 0 0 0 1 1 1 1 1 1 1 1 1 1 1 1 1 1 1 1 1 1 1 1 1 1 1 1 1 1 1 1 1 1 1 1 1 1 1 1 1 1 1 1 1 1 1 1 1 1 1 1 1 1 1 1 1 1 1 1 1 1 1 1 1 1 1\n"
     ]
    },
    {
     "name": "stdout",
     "output_type": "stream",
     "text": [
      "INFO:tensorflow:label: 0 (id = 0)\n"
     ]
    },
    {
     "name": "stderr",
     "output_type": "stream",
     "text": [
      "I0620 08:54:20.687649 139737458554624 tf_logging.py:115] label: 0 (id = 0)\n"
     ]
    },
    {
     "name": "stdout",
     "output_type": "stream",
     "text": [
      "INFO:tensorflow:*** Example ***\n"
     ]
    },
    {
     "name": "stderr",
     "output_type": "stream",
     "text": [
      "I0620 08:54:20.692008 139737458554624 tf_logging.py:115] *** Example ***\n"
     ]
    },
    {
     "name": "stdout",
     "output_type": "stream",
     "text": [
      "INFO:tensorflow:guid: None\n"
     ]
    },
    {
     "name": "stderr",
     "output_type": "stream",
     "text": [
      "I0620 08:54:20.694436 139737458554624 tf_logging.py:115] guid: None\n"
     ]
    },
    {
     "name": "stdout",
     "output_type": "stream",
     "text": [
      "INFO:tensorflow:tokens: [CLS] [ applause . ] these are the issues : what kind of a country are we going to build ? how are we going to stimulate the economy of this country ? what monetary and fiscal policies will we follow , which will provide full employment for our people ? how will we protect their unemployment compensation if they are out of work [SEP] but we can always do better and i am determined that we shall do better in quick ##ening the pace of our economic advance and in mini ##mi ##zing interruption ##s to it . i am determined to undertake every sensible measure to that end , to lift to ever higher levels the number of jobs in america , to reduce unemployment [SEP]\n"
     ]
    },
    {
     "name": "stderr",
     "output_type": "stream",
     "text": [
      "I0620 08:54:20.695373 139737458554624 tf_logging.py:115] tokens: [CLS] [ applause . ] these are the issues : what kind of a country are we going to build ? how are we going to stimulate the economy of this country ? what monetary and fiscal policies will we follow , which will provide full employment for our people ? how will we protect their unemployment compensation if they are out of work [SEP] but we can always do better and i am determined that we shall do better in quick ##ening the pace of our economic advance and in mini ##mi ##zing interruption ##s to it . i am determined to undertake every sensible measure to that end , to lift to ever higher levels the number of jobs in america , to reduce unemployment [SEP]\n"
     ]
    },
    {
     "name": "stdout",
     "output_type": "stream",
     "text": [
      "INFO:tensorflow:input_ids: 101 1031 20737 1012 1033 2122 2024 1996 3314 1024 2054 2785 1997 1037 2406 2024 2057 2183 2000 3857 1029 2129 2024 2057 2183 2000 23216 1996 4610 1997 2023 2406 1029 2054 12194 1998 10807 6043 2097 2057 3582 1010 2029 2097 3073 2440 6107 2005 2256 2111 1029 2129 2097 2057 4047 2037 12163 9430 2065 2027 2024 2041 1997 2147 102 2021 2057 2064 2467 2079 2488 1998 1045 2572 4340 2008 2057 4618 2079 2488 1999 4248 7406 1996 6393 1997 2256 3171 5083 1998 1999 7163 4328 6774 24191 2015 2000 2009 1012 1045 2572 4340 2000 16617 2296 21082 5468 2000 2008 2203 1010 2000 6336 2000 2412 3020 3798 1996 2193 1997 5841 1999 2637 1010 2000 5547 12163 102\n"
     ]
    },
    {
     "name": "stderr",
     "output_type": "stream",
     "text": [
      "I0620 08:54:20.696155 139737458554624 tf_logging.py:115] input_ids: 101 1031 20737 1012 1033 2122 2024 1996 3314 1024 2054 2785 1997 1037 2406 2024 2057 2183 2000 3857 1029 2129 2024 2057 2183 2000 23216 1996 4610 1997 2023 2406 1029 2054 12194 1998 10807 6043 2097 2057 3582 1010 2029 2097 3073 2440 6107 2005 2256 2111 1029 2129 2097 2057 4047 2037 12163 9430 2065 2027 2024 2041 1997 2147 102 2021 2057 2064 2467 2079 2488 1998 1045 2572 4340 2008 2057 4618 2079 2488 1999 4248 7406 1996 6393 1997 2256 3171 5083 1998 1999 7163 4328 6774 24191 2015 2000 2009 1012 1045 2572 4340 2000 16617 2296 21082 5468 2000 2008 2203 1010 2000 6336 2000 2412 3020 3798 1996 2193 1997 5841 1999 2637 1010 2000 5547 12163 102\n"
     ]
    },
    {
     "name": "stdout",
     "output_type": "stream",
     "text": [
      "INFO:tensorflow:input_mask: 1 1 1 1 1 1 1 1 1 1 1 1 1 1 1 1 1 1 1 1 1 1 1 1 1 1 1 1 1 1 1 1 1 1 1 1 1 1 1 1 1 1 1 1 1 1 1 1 1 1 1 1 1 1 1 1 1 1 1 1 1 1 1 1 1 1 1 1 1 1 1 1 1 1 1 1 1 1 1 1 1 1 1 1 1 1 1 1 1 1 1 1 1 1 1 1 1 1 1 1 1 1 1 1 1 1 1 1 1 1 1 1 1 1 1 1 1 1 1 1 1 1 1 1 1 1 1 1\n"
     ]
    },
    {
     "name": "stderr",
     "output_type": "stream",
     "text": [
      "I0620 08:54:20.696877 139737458554624 tf_logging.py:115] input_mask: 1 1 1 1 1 1 1 1 1 1 1 1 1 1 1 1 1 1 1 1 1 1 1 1 1 1 1 1 1 1 1 1 1 1 1 1 1 1 1 1 1 1 1 1 1 1 1 1 1 1 1 1 1 1 1 1 1 1 1 1 1 1 1 1 1 1 1 1 1 1 1 1 1 1 1 1 1 1 1 1 1 1 1 1 1 1 1 1 1 1 1 1 1 1 1 1 1 1 1 1 1 1 1 1 1 1 1 1 1 1 1 1 1 1 1 1 1 1 1 1 1 1 1 1 1 1 1 1\n"
     ]
    },
    {
     "name": "stdout",
     "output_type": "stream",
     "text": [
      "INFO:tensorflow:segment_ids: 0 0 0 0 0 0 0 0 0 0 0 0 0 0 0 0 0 0 0 0 0 0 0 0 0 0 0 0 0 0 0 0 0 0 0 0 0 0 0 0 0 0 0 0 0 0 0 0 0 0 0 0 0 0 0 0 0 0 0 0 0 0 0 0 0 1 1 1 1 1 1 1 1 1 1 1 1 1 1 1 1 1 1 1 1 1 1 1 1 1 1 1 1 1 1 1 1 1 1 1 1 1 1 1 1 1 1 1 1 1 1 1 1 1 1 1 1 1 1 1 1 1 1 1 1 1 1 1\n"
     ]
    },
    {
     "name": "stderr",
     "output_type": "stream",
     "text": [
      "I0620 08:54:20.697634 139737458554624 tf_logging.py:115] segment_ids: 0 0 0 0 0 0 0 0 0 0 0 0 0 0 0 0 0 0 0 0 0 0 0 0 0 0 0 0 0 0 0 0 0 0 0 0 0 0 0 0 0 0 0 0 0 0 0 0 0 0 0 0 0 0 0 0 0 0 0 0 0 0 0 0 0 1 1 1 1 1 1 1 1 1 1 1 1 1 1 1 1 1 1 1 1 1 1 1 1 1 1 1 1 1 1 1 1 1 1 1 1 1 1 1 1 1 1 1 1 1 1 1 1 1 1 1 1 1 1 1 1 1 1 1 1 1 1 1\n"
     ]
    },
    {
     "name": "stdout",
     "output_type": "stream",
     "text": [
      "INFO:tensorflow:label: 0 (id = 0)\n"
     ]
    },
    {
     "name": "stderr",
     "output_type": "stream",
     "text": [
      "I0620 08:54:20.698344 139737458554624 tf_logging.py:115] label: 0 (id = 0)\n"
     ]
    },
    {
     "name": "stdout",
     "output_type": "stream",
     "text": [
      "INFO:tensorflow:*** Example ***\n"
     ]
    },
    {
     "name": "stderr",
     "output_type": "stream",
     "text": [
      "I0620 08:54:20.700394 139737458554624 tf_logging.py:115] *** Example ***\n"
     ]
    },
    {
     "name": "stdout",
     "output_type": "stream",
     "text": [
      "INFO:tensorflow:guid: None\n"
     ]
    },
    {
     "name": "stderr",
     "output_type": "stream",
     "text": [
      "I0620 08:54:20.701180 139737458554624 tf_logging.py:115] guid: None\n"
     ]
    },
    {
     "name": "stdout",
     "output_type": "stream",
     "text": [
      "INFO:tensorflow:tokens: [CLS] now he says he really did n ' t mean it that way . he disagreed with the president on cuba , but now he says his position is really about the same as the president ' s . over and over again , we find him saying one thing one day and another thing another day , as soon as he reads the polls or hears the people [SEP] as a matter of fact , my friends , on every one of these three instances his friends and supporters say : but , mr . nixon , he changed his mind . he ' s now for the president on cuba . he now says that the president did the right thing in paris . [SEP]\n"
     ]
    },
    {
     "name": "stderr",
     "output_type": "stream",
     "text": [
      "I0620 08:54:20.701946 139737458554624 tf_logging.py:115] tokens: [CLS] now he says he really did n ' t mean it that way . he disagreed with the president on cuba , but now he says his position is really about the same as the president ' s . over and over again , we find him saying one thing one day and another thing another day , as soon as he reads the polls or hears the people [SEP] as a matter of fact , my friends , on every one of these three instances his friends and supporters say : but , mr . nixon , he changed his mind . he ' s now for the president on cuba . he now says that the president did the right thing in paris . [SEP]\n"
     ]
    },
    {
     "name": "stdout",
     "output_type": "stream",
     "text": [
      "INFO:tensorflow:input_ids: 101 2085 2002 2758 2002 2428 2106 1050 1005 1056 2812 2009 2008 2126 1012 2002 18335 2007 1996 2343 2006 7394 1010 2021 2085 2002 2758 2010 2597 2003 2428 2055 1996 2168 2004 1996 2343 1005 1055 1012 2058 1998 2058 2153 1010 2057 2424 2032 3038 2028 2518 2028 2154 1998 2178 2518 2178 2154 1010 2004 2574 2004 2002 9631 1996 14592 2030 14994 1996 2111 102 2004 1037 3043 1997 2755 1010 2026 2814 1010 2006 2296 2028 1997 2122 2093 12107 2010 2814 1998 6793 2360 1024 2021 1010 2720 1012 11296 1010 2002 2904 2010 2568 1012 2002 1005 1055 2085 2005 1996 2343 2006 7394 1012 2002 2085 2758 2008 1996 2343 2106 1996 2157 2518 1999 3000 1012 102\n"
     ]
    },
    {
     "name": "stderr",
     "output_type": "stream",
     "text": [
      "I0620 08:54:20.702598 139737458554624 tf_logging.py:115] input_ids: 101 2085 2002 2758 2002 2428 2106 1050 1005 1056 2812 2009 2008 2126 1012 2002 18335 2007 1996 2343 2006 7394 1010 2021 2085 2002 2758 2010 2597 2003 2428 2055 1996 2168 2004 1996 2343 1005 1055 1012 2058 1998 2058 2153 1010 2057 2424 2032 3038 2028 2518 2028 2154 1998 2178 2518 2178 2154 1010 2004 2574 2004 2002 9631 1996 14592 2030 14994 1996 2111 102 2004 1037 3043 1997 2755 1010 2026 2814 1010 2006 2296 2028 1997 2122 2093 12107 2010 2814 1998 6793 2360 1024 2021 1010 2720 1012 11296 1010 2002 2904 2010 2568 1012 2002 1005 1055 2085 2005 1996 2343 2006 7394 1012 2002 2085 2758 2008 1996 2343 2106 1996 2157 2518 1999 3000 1012 102\n"
     ]
    },
    {
     "name": "stdout",
     "output_type": "stream",
     "text": [
      "INFO:tensorflow:input_mask: 1 1 1 1 1 1 1 1 1 1 1 1 1 1 1 1 1 1 1 1 1 1 1 1 1 1 1 1 1 1 1 1 1 1 1 1 1 1 1 1 1 1 1 1 1 1 1 1 1 1 1 1 1 1 1 1 1 1 1 1 1 1 1 1 1 1 1 1 1 1 1 1 1 1 1 1 1 1 1 1 1 1 1 1 1 1 1 1 1 1 1 1 1 1 1 1 1 1 1 1 1 1 1 1 1 1 1 1 1 1 1 1 1 1 1 1 1 1 1 1 1 1 1 1 1 1 1 1\n"
     ]
    },
    {
     "name": "stderr",
     "output_type": "stream",
     "text": [
      "I0620 08:54:20.704312 139737458554624 tf_logging.py:115] input_mask: 1 1 1 1 1 1 1 1 1 1 1 1 1 1 1 1 1 1 1 1 1 1 1 1 1 1 1 1 1 1 1 1 1 1 1 1 1 1 1 1 1 1 1 1 1 1 1 1 1 1 1 1 1 1 1 1 1 1 1 1 1 1 1 1 1 1 1 1 1 1 1 1 1 1 1 1 1 1 1 1 1 1 1 1 1 1 1 1 1 1 1 1 1 1 1 1 1 1 1 1 1 1 1 1 1 1 1 1 1 1 1 1 1 1 1 1 1 1 1 1 1 1 1 1 1 1 1 1\n"
     ]
    },
    {
     "name": "stdout",
     "output_type": "stream",
     "text": [
      "INFO:tensorflow:segment_ids: 0 0 0 0 0 0 0 0 0 0 0 0 0 0 0 0 0 0 0 0 0 0 0 0 0 0 0 0 0 0 0 0 0 0 0 0 0 0 0 0 0 0 0 0 0 0 0 0 0 0 0 0 0 0 0 0 0 0 0 0 0 0 0 0 0 0 0 0 0 0 0 1 1 1 1 1 1 1 1 1 1 1 1 1 1 1 1 1 1 1 1 1 1 1 1 1 1 1 1 1 1 1 1 1 1 1 1 1 1 1 1 1 1 1 1 1 1 1 1 1 1 1 1 1 1 1 1 1\n"
     ]
    },
    {
     "name": "stderr",
     "output_type": "stream",
     "text": [
      "I0620 08:54:20.704947 139737458554624 tf_logging.py:115] segment_ids: 0 0 0 0 0 0 0 0 0 0 0 0 0 0 0 0 0 0 0 0 0 0 0 0 0 0 0 0 0 0 0 0 0 0 0 0 0 0 0 0 0 0 0 0 0 0 0 0 0 0 0 0 0 0 0 0 0 0 0 0 0 0 0 0 0 0 0 0 0 0 0 1 1 1 1 1 1 1 1 1 1 1 1 1 1 1 1 1 1 1 1 1 1 1 1 1 1 1 1 1 1 1 1 1 1 1 1 1 1 1 1 1 1 1 1 1 1 1 1 1 1 1 1 1 1 1 1 1\n"
     ]
    },
    {
     "name": "stdout",
     "output_type": "stream",
     "text": [
      "INFO:tensorflow:label: 0 (id = 0)\n"
     ]
    },
    {
     "name": "stderr",
     "output_type": "stream",
     "text": [
      "I0620 08:54:20.705682 139737458554624 tf_logging.py:115] label: 0 (id = 0)\n"
     ]
    },
    {
     "name": "stdout",
     "output_type": "stream",
     "text": [
      "Beginning Training!\n",
      "test labels 1    73\n",
      "0    73\n",
      "Name: label, dtype: int64\n",
      "train labels 0    658\n",
      "1    656\n",
      "Name: label, dtype: int64\n",
      "INFO:tensorflow:Using config: {'_model_dir': 'BERT_RUN2019-06-20 08:25:39.792798political', '_tf_random_seed': None, '_save_summary_steps': 100, '_save_checkpoints_steps': 5000, '_save_checkpoints_secs': None, '_session_config': allow_soft_placement: true\n",
      "graph_options {\n",
      "  rewrite_options {\n",
      "    meta_optimizer_iterations: ONE\n",
      "  }\n",
      "}\n",
      ", '_keep_checkpoint_max': 5, '_keep_checkpoint_every_n_hours': 10000, '_log_step_count_steps': 100, '_train_distribute': None, '_device_fn': None, '_protocol': None, '_eval_distribute': None, '_experimental_distribute': None, '_service': None, '_cluster_spec': <tensorflow.python.training.server_lib.ClusterSpec object at 0x7f16868a8160>, '_task_type': 'worker', '_task_id': 0, '_global_id_in_cluster': 0, '_master': '', '_evaluation_master': '', '_is_chief': True, '_num_ps_replicas': 0, '_num_worker_replicas': 1}\n"
     ]
    },
    {
     "name": "stderr",
     "output_type": "stream",
     "text": [
      "I0620 08:54:21.000595 139737458554624 tf_logging.py:115] Using config: {'_model_dir': 'BERT_RUN2019-06-20 08:25:39.792798political', '_tf_random_seed': None, '_save_summary_steps': 100, '_save_checkpoints_steps': 5000, '_save_checkpoints_secs': None, '_session_config': allow_soft_placement: true\n",
      "graph_options {\n",
      "  rewrite_options {\n",
      "    meta_optimizer_iterations: ONE\n",
      "  }\n",
      "}\n",
      ", '_keep_checkpoint_max': 5, '_keep_checkpoint_every_n_hours': 10000, '_log_step_count_steps': 100, '_train_distribute': None, '_device_fn': None, '_protocol': None, '_eval_distribute': None, '_experimental_distribute': None, '_service': None, '_cluster_spec': <tensorflow.python.training.server_lib.ClusterSpec object at 0x7f16868a8160>, '_task_type': 'worker', '_task_id': 0, '_global_id_in_cluster': 0, '_master': '', '_evaluation_master': '', '_is_chief': True, '_num_ps_replicas': 0, '_num_worker_replicas': 1}\n"
     ]
    },
    {
     "name": "stdout",
     "output_type": "stream",
     "text": [
      "INFO:tensorflow:Calling model_fn.\n"
     ]
    },
    {
     "name": "stderr",
     "output_type": "stream",
     "text": [
      "I0620 08:54:21.419643 139737458554624 tf_logging.py:115] Calling model_fn.\n"
     ]
    },
    {
     "name": "stdout",
     "output_type": "stream",
     "text": [
      "INFO:tensorflow:Saver not created because there are no variables in the graph to restore\n"
     ]
    },
    {
     "name": "stderr",
     "output_type": "stream",
     "text": [
      "I0620 08:54:24.219316 139737458554624 tf_logging.py:115] Saver not created because there are no variables in the graph to restore\n"
     ]
    },
    {
     "name": "stdout",
     "output_type": "stream",
     "text": [
      "INFO:tensorflow:Done calling model_fn.\n"
     ]
    },
    {
     "name": "stderr",
     "output_type": "stream",
     "text": [
      "I0620 08:54:29.924213 139737458554624 tf_logging.py:115] Done calling model_fn.\n"
     ]
    },
    {
     "name": "stdout",
     "output_type": "stream",
     "text": [
      "INFO:tensorflow:Create CheckpointSaverHook.\n"
     ]
    },
    {
     "name": "stderr",
     "output_type": "stream",
     "text": [
      "I0620 08:54:29.926133 139737458554624 tf_logging.py:115] Create CheckpointSaverHook.\n"
     ]
    },
    {
     "name": "stdout",
     "output_type": "stream",
     "text": [
      "INFO:tensorflow:Graph was finalized.\n"
     ]
    },
    {
     "name": "stderr",
     "output_type": "stream",
     "text": [
      "I0620 08:54:30.846810 139737458554624 tf_logging.py:115] Graph was finalized.\n"
     ]
    },
    {
     "name": "stdout",
     "output_type": "stream",
     "text": [
      "INFO:tensorflow:Running local_init_op.\n"
     ]
    },
    {
     "name": "stderr",
     "output_type": "stream",
     "text": [
      "I0620 08:54:35.257391 139737458554624 tf_logging.py:115] Running local_init_op.\n"
     ]
    },
    {
     "name": "stdout",
     "output_type": "stream",
     "text": [
      "INFO:tensorflow:Done running local_init_op.\n"
     ]
    },
    {
     "name": "stderr",
     "output_type": "stream",
     "text": [
      "I0620 08:54:35.367420 139737458554624 tf_logging.py:115] Done running local_init_op.\n"
     ]
    },
    {
     "name": "stdout",
     "output_type": "stream",
     "text": [
      "INFO:tensorflow:Saving checkpoints for 0 into BERT_RUN2019-06-20 08:25:39.792798political/model.ckpt.\n"
     ]
    },
    {
     "name": "stderr",
     "output_type": "stream",
     "text": [
      "I0620 08:54:41.734625 139737458554624 tf_logging.py:115] Saving checkpoints for 0 into BERT_RUN2019-06-20 08:25:39.792798political/model.ckpt.\n"
     ]
    },
    {
     "name": "stdout",
     "output_type": "stream",
     "text": [
      "INFO:tensorflow:loss = 0.53743297, step = 0\n"
     ]
    },
    {
     "name": "stderr",
     "output_type": "stream",
     "text": [
      "I0620 08:54:54.109301 139737458554624 tf_logging.py:115] loss = 0.53743297, step = 0\n"
     ]
    },
    {
     "name": "stdout",
     "output_type": "stream",
     "text": [
      "INFO:tensorflow:global_step/sec: 2.18286\n"
     ]
    },
    {
     "name": "stderr",
     "output_type": "stream",
     "text": [
      "I0620 08:55:39.920568 139737458554624 tf_logging.py:115] global_step/sec: 2.18286\n"
     ]
    },
    {
     "name": "stdout",
     "output_type": "stream",
     "text": [
      "INFO:tensorflow:loss = 0.60404414, step = 100 (45.813 sec)\n"
     ]
    },
    {
     "name": "stderr",
     "output_type": "stream",
     "text": [
      "I0620 08:55:39.921884 139737458554624 tf_logging.py:115] loss = 0.60404414, step = 100 (45.813 sec)\n"
     ]
    },
    {
     "name": "stdout",
     "output_type": "stream",
     "text": [
      "INFO:tensorflow:global_step/sec: 3.08192\n"
     ]
    },
    {
     "name": "stderr",
     "output_type": "stream",
     "text": [
      "I0620 08:56:12.367950 139737458554624 tf_logging.py:115] global_step/sec: 3.08192\n"
     ]
    },
    {
     "name": "stdout",
     "output_type": "stream",
     "text": [
      "INFO:tensorflow:loss = 0.4284022, step = 200 (32.448 sec)\n"
     ]
    },
    {
     "name": "stderr",
     "output_type": "stream",
     "text": [
      "I0620 08:56:12.369691 139737458554624 tf_logging.py:115] loss = 0.4284022, step = 200 (32.448 sec)\n"
     ]
    },
    {
     "name": "stdout",
     "output_type": "stream",
     "text": [
      "INFO:tensorflow:global_step/sec: 3.13554\n"
     ]
    },
    {
     "name": "stderr",
     "output_type": "stream",
     "text": [
      "I0620 08:56:44.260432 139737458554624 tf_logging.py:115] global_step/sec: 3.13554\n"
     ]
    },
    {
     "name": "stdout",
     "output_type": "stream",
     "text": [
      "INFO:tensorflow:loss = 0.7659275, step = 300 (31.892 sec)\n"
     ]
    },
    {
     "name": "stderr",
     "output_type": "stream",
     "text": [
      "I0620 08:56:44.261960 139737458554624 tf_logging.py:115] loss = 0.7659275, step = 300 (31.892 sec)\n"
     ]
    },
    {
     "name": "stdout",
     "output_type": "stream",
     "text": [
      "INFO:tensorflow:global_step/sec: 3.15149\n"
     ]
    },
    {
     "name": "stderr",
     "output_type": "stream",
     "text": [
      "I0620 08:57:15.991532 139737458554624 tf_logging.py:115] global_step/sec: 3.15149\n"
     ]
    },
    {
     "name": "stdout",
     "output_type": "stream",
     "text": [
      "INFO:tensorflow:loss = 0.19861622, step = 400 (31.732 sec)\n"
     ]
    },
    {
     "name": "stderr",
     "output_type": "stream",
     "text": [
      "I0620 08:57:15.993559 139737458554624 tf_logging.py:115] loss = 0.19861622, step = 400 (31.732 sec)\n"
     ]
    },
    {
     "name": "stdout",
     "output_type": "stream",
     "text": [
      "INFO:tensorflow:Saving checkpoints for 492 into BERT_RUN2019-06-20 08:25:39.792798political/model.ckpt.\n"
     ]
    },
    {
     "name": "stderr",
     "output_type": "stream",
     "text": [
      "I0620 08:57:45.111777 139737458554624 tf_logging.py:115] Saving checkpoints for 492 into BERT_RUN2019-06-20 08:25:39.792798political/model.ckpt.\n"
     ]
    },
    {
     "name": "stdout",
     "output_type": "stream",
     "text": [
      "INFO:tensorflow:Loss for final step: 0.39608735.\n"
     ]
    },
    {
     "name": "stderr",
     "output_type": "stream",
     "text": [
      "I0620 08:57:52.956765 139737458554624 tf_logging.py:115] Loss for final step: 0.39608735.\n"
     ]
    },
    {
     "name": "stdout",
     "output_type": "stream",
     "text": [
      "<generator object Estimator.predict at 0x7f16854f4e08>\n",
      "INFO:tensorflow:Calling model_fn.\n"
     ]
    },
    {
     "name": "stderr",
     "output_type": "stream",
     "text": [
      "I0620 08:57:53.018205 139737458554624 tf_logging.py:115] Calling model_fn.\n"
     ]
    },
    {
     "name": "stdout",
     "output_type": "stream",
     "text": [
      "INFO:tensorflow:Saver not created because there are no variables in the graph to restore\n"
     ]
    },
    {
     "name": "stderr",
     "output_type": "stream",
     "text": [
      "I0620 08:57:55.600106 139737458554624 tf_logging.py:115] Saver not created because there are no variables in the graph to restore\n"
     ]
    },
    {
     "name": "stdout",
     "output_type": "stream",
     "text": [
      "INFO:tensorflow:Done calling model_fn.\n"
     ]
    },
    {
     "name": "stderr",
     "output_type": "stream",
     "text": [
      "I0620 08:57:55.718021 139737458554624 tf_logging.py:115] Done calling model_fn.\n"
     ]
    },
    {
     "name": "stdout",
     "output_type": "stream",
     "text": [
      "INFO:tensorflow:Graph was finalized.\n"
     ]
    },
    {
     "name": "stderr",
     "output_type": "stream",
     "text": [
      "I0620 08:57:56.098940 139737458554624 tf_logging.py:115] Graph was finalized.\n"
     ]
    },
    {
     "name": "stdout",
     "output_type": "stream",
     "text": [
      "INFO:tensorflow:Restoring parameters from BERT_RUN2019-06-20 08:25:39.792798political/model.ckpt-492\n"
     ]
    },
    {
     "name": "stderr",
     "output_type": "stream",
     "text": [
      "I0620 08:57:56.103025 139737458554624 tf_logging.py:115] Restoring parameters from BERT_RUN2019-06-20 08:25:39.792798political/model.ckpt-492\n"
     ]
    },
    {
     "name": "stdout",
     "output_type": "stream",
     "text": [
      "INFO:tensorflow:Running local_init_op.\n"
     ]
    },
    {
     "name": "stderr",
     "output_type": "stream",
     "text": [
      "I0620 08:57:56.588807 139737458554624 tf_logging.py:115] Running local_init_op.\n"
     ]
    },
    {
     "name": "stdout",
     "output_type": "stream",
     "text": [
      "INFO:tensorflow:Done running local_init_op.\n"
     ]
    },
    {
     "name": "stderr",
     "output_type": "stream",
     "text": [
      "I0620 08:57:56.634090 139737458554624 tf_logging.py:115] Done running local_init_op.\n"
     ]
    },
    {
     "name": "stdout",
     "output_type": "stream",
     "text": [
      "[1. 0. 1. 0. 0. 1. 1. 0. 0. 0. 0. 0. 0. 0. 1. 0. 1. 0. 1. 0. 1. 1. 0. 0.\n",
      " 1. 1. 0. 1. 1. 1. 1. 0. 1. 1. 1. 0. 1. 0. 1. 0. 1. 0. 1. 0. 1. 0. 0. 0.\n",
      " 0. 1. 1. 0. 0. 0. 0. 1. 1. 0. 0. 0. 0. 0. 0. 1. 0. 0. 0. 1. 1. 1. 1. 0.\n",
      " 1. 1. 1. 1. 1. 0. 0. 1. 1. 0. 0. 0. 1. 0. 1. 0. 0. 1. 0. 1. 1. 1. 0. 0.\n",
      " 1. 0. 0. 0. 0. 0. 1. 0. 0. 0. 0. 1. 0. 0. 1. 1. 0. 0. 0. 1. 0. 1. 0. 0.\n",
      " 0. 1. 1. 0. 1. 0. 1. 1. 0. 1. 0. 1. 1. 1. 0. 0. 1. 0. 1. 1. 1. 1. 0. 1.\n",
      " 1. 0.]\n",
      "              precision    recall  f1-score   support\n",
      "\n",
      "    relation       0.60      0.64      0.62        73\n",
      "   unrelated       0.62      0.58      0.60        73\n",
      "\n",
      "    accuracy                           0.61       146\n",
      "   macro avg       0.61      0.61      0.61       146\n",
      "weighted avg       0.61      0.61      0.61       146\n",
      "\n",
      "Accuracy: 0.6095890410958904\n",
      "Training took time  0:03:37.671653\n",
      "(1315, 8) (145, 8)\n",
      "INFO:tensorflow:Writing example 0 of 1315\n"
     ]
    },
    {
     "name": "stderr",
     "output_type": "stream",
     "text": [
      "I0620 08:57:58.774557 139737458554624 tf_logging.py:115] Writing example 0 of 1315\n"
     ]
    },
    {
     "name": "stdout",
     "output_type": "stream",
     "text": [
      "INFO:tensorflow:*** Example ***\n"
     ]
    },
    {
     "name": "stderr",
     "output_type": "stream",
     "text": [
      "I0620 08:57:58.778813 139737458554624 tf_logging.py:115] *** Example ***\n"
     ]
    },
    {
     "name": "stdout",
     "output_type": "stream",
     "text": [
      "INFO:tensorflow:guid: None\n"
     ]
    },
    {
     "name": "stderr",
     "output_type": "stream",
     "text": [
      "I0620 08:57:58.779555 139737458554624 tf_logging.py:115] guid: None\n"
     ]
    },
    {
     "name": "stdout",
     "output_type": "stream",
     "text": [
      "INFO:tensorflow:tokens: [CLS] what are the folks going to do ? what are the voters going to do ? here ' s what you do : first , you look at our record and on the record i say you compare the record of the eisenhower administration with the record of the administration which preceded it . both have been in for 7 ½ years , [SEP] and what about that future ? we want a future of progress , but above all , the people of this country are concerned that our children may grow up in a world in which we can be free and we can live at peace - and that is the most important thing that americans must think about at this time . [SEP]\n"
     ]
    },
    {
     "name": "stderr",
     "output_type": "stream",
     "text": [
      "I0620 08:57:58.780319 139737458554624 tf_logging.py:115] tokens: [CLS] what are the folks going to do ? what are the voters going to do ? here ' s what you do : first , you look at our record and on the record i say you compare the record of the eisenhower administration with the record of the administration which preceded it . both have been in for 7 ½ years , [SEP] and what about that future ? we want a future of progress , but above all , the people of this country are concerned that our children may grow up in a world in which we can be free and we can live at peace - and that is the most important thing that americans must think about at this time . [SEP]\n"
     ]
    },
    {
     "name": "stdout",
     "output_type": "stream",
     "text": [
      "INFO:tensorflow:input_ids: 101 2054 2024 1996 12455 2183 2000 2079 1029 2054 2024 1996 7206 2183 2000 2079 1029 2182 1005 1055 2054 2017 2079 1024 2034 1010 2017 2298 2012 2256 2501 1998 2006 1996 2501 1045 2360 2017 12826 1996 2501 1997 1996 16551 3447 2007 1996 2501 1997 1996 3447 2029 11677 2009 1012 2119 2031 2042 1999 2005 1021 1092 2086 1010 102 1998 2054 2055 2008 2925 1029 2057 2215 1037 2925 1997 5082 1010 2021 2682 2035 1010 1996 2111 1997 2023 2406 2024 4986 2008 2256 2336 2089 4982 2039 1999 1037 2088 1999 2029 2057 2064 2022 2489 1998 2057 2064 2444 2012 3521 1011 1998 2008 2003 1996 2087 2590 2518 2008 4841 2442 2228 2055 2012 2023 2051 1012 102\n"
     ]
    },
    {
     "name": "stderr",
     "output_type": "stream",
     "text": [
      "I0620 08:57:58.781224 139737458554624 tf_logging.py:115] input_ids: 101 2054 2024 1996 12455 2183 2000 2079 1029 2054 2024 1996 7206 2183 2000 2079 1029 2182 1005 1055 2054 2017 2079 1024 2034 1010 2017 2298 2012 2256 2501 1998 2006 1996 2501 1045 2360 2017 12826 1996 2501 1997 1996 16551 3447 2007 1996 2501 1997 1996 3447 2029 11677 2009 1012 2119 2031 2042 1999 2005 1021 1092 2086 1010 102 1998 2054 2055 2008 2925 1029 2057 2215 1037 2925 1997 5082 1010 2021 2682 2035 1010 1996 2111 1997 2023 2406 2024 4986 2008 2256 2336 2089 4982 2039 1999 1037 2088 1999 2029 2057 2064 2022 2489 1998 2057 2064 2444 2012 3521 1011 1998 2008 2003 1996 2087 2590 2518 2008 4841 2442 2228 2055 2012 2023 2051 1012 102\n"
     ]
    },
    {
     "name": "stdout",
     "output_type": "stream",
     "text": [
      "INFO:tensorflow:input_mask: 1 1 1 1 1 1 1 1 1 1 1 1 1 1 1 1 1 1 1 1 1 1 1 1 1 1 1 1 1 1 1 1 1 1 1 1 1 1 1 1 1 1 1 1 1 1 1 1 1 1 1 1 1 1 1 1 1 1 1 1 1 1 1 1 1 1 1 1 1 1 1 1 1 1 1 1 1 1 1 1 1 1 1 1 1 1 1 1 1 1 1 1 1 1 1 1 1 1 1 1 1 1 1 1 1 1 1 1 1 1 1 1 1 1 1 1 1 1 1 1 1 1 1 1 1 1 1 1\n"
     ]
    },
    {
     "name": "stderr",
     "output_type": "stream",
     "text": [
      "I0620 08:57:58.781960 139737458554624 tf_logging.py:115] input_mask: 1 1 1 1 1 1 1 1 1 1 1 1 1 1 1 1 1 1 1 1 1 1 1 1 1 1 1 1 1 1 1 1 1 1 1 1 1 1 1 1 1 1 1 1 1 1 1 1 1 1 1 1 1 1 1 1 1 1 1 1 1 1 1 1 1 1 1 1 1 1 1 1 1 1 1 1 1 1 1 1 1 1 1 1 1 1 1 1 1 1 1 1 1 1 1 1 1 1 1 1 1 1 1 1 1 1 1 1 1 1 1 1 1 1 1 1 1 1 1 1 1 1 1 1 1 1 1 1\n"
     ]
    },
    {
     "name": "stdout",
     "output_type": "stream",
     "text": [
      "INFO:tensorflow:segment_ids: 0 0 0 0 0 0 0 0 0 0 0 0 0 0 0 0 0 0 0 0 0 0 0 0 0 0 0 0 0 0 0 0 0 0 0 0 0 0 0 0 0 0 0 0 0 0 0 0 0 0 0 0 0 0 0 0 0 0 0 0 0 0 0 0 0 1 1 1 1 1 1 1 1 1 1 1 1 1 1 1 1 1 1 1 1 1 1 1 1 1 1 1 1 1 1 1 1 1 1 1 1 1 1 1 1 1 1 1 1 1 1 1 1 1 1 1 1 1 1 1 1 1 1 1 1 1 1 1\n"
     ]
    },
    {
     "name": "stderr",
     "output_type": "stream",
     "text": [
      "I0620 08:57:58.782659 139737458554624 tf_logging.py:115] segment_ids: 0 0 0 0 0 0 0 0 0 0 0 0 0 0 0 0 0 0 0 0 0 0 0 0 0 0 0 0 0 0 0 0 0 0 0 0 0 0 0 0 0 0 0 0 0 0 0 0 0 0 0 0 0 0 0 0 0 0 0 0 0 0 0 0 0 1 1 1 1 1 1 1 1 1 1 1 1 1 1 1 1 1 1 1 1 1 1 1 1 1 1 1 1 1 1 1 1 1 1 1 1 1 1 1 1 1 1 1 1 1 1 1 1 1 1 1 1 1 1 1 1 1 1 1 1 1 1 1\n"
     ]
    },
    {
     "name": "stdout",
     "output_type": "stream",
     "text": [
      "INFO:tensorflow:label: 1 (id = 1)\n"
     ]
    },
    {
     "name": "stderr",
     "output_type": "stream",
     "text": [
      "I0620 08:57:58.783402 139737458554624 tf_logging.py:115] label: 1 (id = 1)\n"
     ]
    },
    {
     "name": "stdout",
     "output_type": "stream",
     "text": [
      "INFO:tensorflow:*** Example ***\n"
     ]
    },
    {
     "name": "stderr",
     "output_type": "stream",
     "text": [
      "I0620 08:57:58.785862 139737458554624 tf_logging.py:115] *** Example ***\n"
     ]
    },
    {
     "name": "stdout",
     "output_type": "stream",
     "text": [
      "INFO:tensorflow:guid: None\n"
     ]
    },
    {
     "name": "stderr",
     "output_type": "stream",
     "text": [
      "I0620 08:57:58.786746 139737458554624 tf_logging.py:115] guid: None\n"
     ]
    },
    {
     "name": "stdout",
     "output_type": "stream",
     "text": [
      "INFO:tensorflow:tokens: [CLS] [ applause . ] mr . nixon considers a minimum wage of $ 1 . 25 to be extreme . mr . nixon considers federal aid to make sure that teachers are paid a decent salary to be extreme . [SEP] meanwhile , the contradictory statements of senator kennedy still leave him opposed to this position . the miss ##tate ##ment : in the second debate senator kennedy said : the republicans in recent years , not only in the last 25 years , but in the last 8 years , have opposed * * * minimum wage * * the facts : senator kennedy is saying that republicans who opposed his particular bill are against minimum wage . the administration supported an increase in the [SEP]\n"
     ]
    },
    {
     "name": "stderr",
     "output_type": "stream",
     "text": [
      "I0620 08:57:58.787522 139737458554624 tf_logging.py:115] tokens: [CLS] [ applause . ] mr . nixon considers a minimum wage of $ 1 . 25 to be extreme . mr . nixon considers federal aid to make sure that teachers are paid a decent salary to be extreme . [SEP] meanwhile , the contradictory statements of senator kennedy still leave him opposed to this position . the miss ##tate ##ment : in the second debate senator kennedy said : the republicans in recent years , not only in the last 25 years , but in the last 8 years , have opposed * * * minimum wage * * the facts : senator kennedy is saying that republicans who opposed his particular bill are against minimum wage . the administration supported an increase in the [SEP]\n"
     ]
    },
    {
     "name": "stdout",
     "output_type": "stream",
     "text": [
      "INFO:tensorflow:input_ids: 101 1031 20737 1012 1033 2720 1012 11296 10592 1037 6263 11897 1997 1002 1015 1012 2423 2000 2022 6034 1012 2720 1012 11296 10592 2976 4681 2000 2191 2469 2008 5089 2024 3825 1037 11519 10300 2000 2022 6034 1012 102 5564 1010 1996 27894 8635 1997 5205 5817 2145 2681 2032 4941 2000 2023 2597 1012 1996 3335 12259 3672 1024 1999 1996 2117 5981 5205 5817 2056 1024 1996 10643 1999 3522 2086 1010 2025 2069 1999 1996 2197 2423 2086 1010 2021 1999 1996 2197 1022 2086 1010 2031 4941 1008 1008 1008 6263 11897 1008 1008 1996 8866 1024 5205 5817 2003 3038 2008 10643 2040 4941 2010 3327 3021 2024 2114 6263 11897 1012 1996 3447 3569 2019 3623 1999 1996 102\n"
     ]
    },
    {
     "name": "stderr",
     "output_type": "stream",
     "text": [
      "I0620 08:57:58.788103 139737458554624 tf_logging.py:115] input_ids: 101 1031 20737 1012 1033 2720 1012 11296 10592 1037 6263 11897 1997 1002 1015 1012 2423 2000 2022 6034 1012 2720 1012 11296 10592 2976 4681 2000 2191 2469 2008 5089 2024 3825 1037 11519 10300 2000 2022 6034 1012 102 5564 1010 1996 27894 8635 1997 5205 5817 2145 2681 2032 4941 2000 2023 2597 1012 1996 3335 12259 3672 1024 1999 1996 2117 5981 5205 5817 2056 1024 1996 10643 1999 3522 2086 1010 2025 2069 1999 1996 2197 2423 2086 1010 2021 1999 1996 2197 1022 2086 1010 2031 4941 1008 1008 1008 6263 11897 1008 1008 1996 8866 1024 5205 5817 2003 3038 2008 10643 2040 4941 2010 3327 3021 2024 2114 6263 11897 1012 1996 3447 3569 2019 3623 1999 1996 102\n"
     ]
    },
    {
     "name": "stdout",
     "output_type": "stream",
     "text": [
      "INFO:tensorflow:input_mask: 1 1 1 1 1 1 1 1 1 1 1 1 1 1 1 1 1 1 1 1 1 1 1 1 1 1 1 1 1 1 1 1 1 1 1 1 1 1 1 1 1 1 1 1 1 1 1 1 1 1 1 1 1 1 1 1 1 1 1 1 1 1 1 1 1 1 1 1 1 1 1 1 1 1 1 1 1 1 1 1 1 1 1 1 1 1 1 1 1 1 1 1 1 1 1 1 1 1 1 1 1 1 1 1 1 1 1 1 1 1 1 1 1 1 1 1 1 1 1 1 1 1 1 1 1 1 1 1\n"
     ]
    },
    {
     "name": "stderr",
     "output_type": "stream",
     "text": [
      "I0620 08:57:58.789007 139737458554624 tf_logging.py:115] input_mask: 1 1 1 1 1 1 1 1 1 1 1 1 1 1 1 1 1 1 1 1 1 1 1 1 1 1 1 1 1 1 1 1 1 1 1 1 1 1 1 1 1 1 1 1 1 1 1 1 1 1 1 1 1 1 1 1 1 1 1 1 1 1 1 1 1 1 1 1 1 1 1 1 1 1 1 1 1 1 1 1 1 1 1 1 1 1 1 1 1 1 1 1 1 1 1 1 1 1 1 1 1 1 1 1 1 1 1 1 1 1 1 1 1 1 1 1 1 1 1 1 1 1 1 1 1 1 1 1\n"
     ]
    },
    {
     "name": "stdout",
     "output_type": "stream",
     "text": [
      "INFO:tensorflow:segment_ids: 0 0 0 0 0 0 0 0 0 0 0 0 0 0 0 0 0 0 0 0 0 0 0 0 0 0 0 0 0 0 0 0 0 0 0 0 0 0 0 0 0 0 1 1 1 1 1 1 1 1 1 1 1 1 1 1 1 1 1 1 1 1 1 1 1 1 1 1 1 1 1 1 1 1 1 1 1 1 1 1 1 1 1 1 1 1 1 1 1 1 1 1 1 1 1 1 1 1 1 1 1 1 1 1 1 1 1 1 1 1 1 1 1 1 1 1 1 1 1 1 1 1 1 1 1 1 1 1\n"
     ]
    },
    {
     "name": "stderr",
     "output_type": "stream",
     "text": [
      "I0620 08:57:58.790168 139737458554624 tf_logging.py:115] segment_ids: 0 0 0 0 0 0 0 0 0 0 0 0 0 0 0 0 0 0 0 0 0 0 0 0 0 0 0 0 0 0 0 0 0 0 0 0 0 0 0 0 0 0 1 1 1 1 1 1 1 1 1 1 1 1 1 1 1 1 1 1 1 1 1 1 1 1 1 1 1 1 1 1 1 1 1 1 1 1 1 1 1 1 1 1 1 1 1 1 1 1 1 1 1 1 1 1 1 1 1 1 1 1 1 1 1 1 1 1 1 1 1 1 1 1 1 1 1 1 1 1 1 1 1 1 1 1 1 1\n"
     ]
    },
    {
     "name": "stdout",
     "output_type": "stream",
     "text": [
      "INFO:tensorflow:label: 0 (id = 0)\n"
     ]
    },
    {
     "name": "stderr",
     "output_type": "stream",
     "text": [
      "I0620 08:57:58.790825 139737458554624 tf_logging.py:115] label: 0 (id = 0)\n"
     ]
    },
    {
     "name": "stdout",
     "output_type": "stream",
     "text": [
      "INFO:tensorflow:*** Example ***\n"
     ]
    },
    {
     "name": "stderr",
     "output_type": "stream",
     "text": [
      "I0620 08:57:58.792633 139737458554624 tf_logging.py:115] *** Example ***\n"
     ]
    },
    {
     "name": "stdout",
     "output_type": "stream",
     "text": [
      "INFO:tensorflow:guid: None\n"
     ]
    },
    {
     "name": "stderr",
     "output_type": "stream",
     "text": [
      "I0620 08:57:58.793504 139737458554624 tf_logging.py:115] guid: None\n"
     ]
    },
    {
     "name": "stdout",
     "output_type": "stream",
     "text": [
      "INFO:tensorflow:tokens: [CLS] [ applause . ] let me make it very clear that if we are successful in january , we are going to recommend the following programs : first , we are going to make sure that those americans who are retired , who are on social security , who do need medical care , shall have it under the social security system . [ applause . [SEP] [ applause . ] a party which opposed social security , which tried to repeal it , a party which opposed minimum wage and tried to repeal it , a party which has opposed our efforts to pass in this congress medical care for the aged to the social security . [ applause . [SEP]\n"
     ]
    },
    {
     "name": "stderr",
     "output_type": "stream",
     "text": [
      "I0620 08:57:58.794401 139737458554624 tf_logging.py:115] tokens: [CLS] [ applause . ] let me make it very clear that if we are successful in january , we are going to recommend the following programs : first , we are going to make sure that those americans who are retired , who are on social security , who do need medical care , shall have it under the social security system . [ applause . [SEP] [ applause . ] a party which opposed social security , which tried to repeal it , a party which opposed minimum wage and tried to repeal it , a party which has opposed our efforts to pass in this congress medical care for the aged to the social security . [ applause . [SEP]\n"
     ]
    },
    {
     "name": "stdout",
     "output_type": "stream",
     "text": [
      "INFO:tensorflow:input_ids: 101 1031 20737 1012 1033 2292 2033 2191 2009 2200 3154 2008 2065 2057 2024 3144 1999 2254 1010 2057 2024 2183 2000 16755 1996 2206 3454 1024 2034 1010 2057 2024 2183 2000 2191 2469 2008 2216 4841 2040 2024 3394 1010 2040 2024 2006 2591 3036 1010 2040 2079 2342 2966 2729 1010 4618 2031 2009 2104 1996 2591 3036 2291 1012 1031 20737 1012 102 1031 20737 1012 1033 1037 2283 2029 4941 2591 3036 1010 2029 2699 2000 21825 2009 1010 1037 2283 2029 4941 6263 11897 1998 2699 2000 21825 2009 1010 1037 2283 2029 2038 4941 2256 4073 2000 3413 1999 2023 3519 2966 2729 2005 1996 4793 2000 1996 2591 3036 1012 1031 20737 1012 102 0 0 0 0 0\n"
     ]
    },
    {
     "name": "stderr",
     "output_type": "stream",
     "text": [
      "I0620 08:57:58.795126 139737458554624 tf_logging.py:115] input_ids: 101 1031 20737 1012 1033 2292 2033 2191 2009 2200 3154 2008 2065 2057 2024 3144 1999 2254 1010 2057 2024 2183 2000 16755 1996 2206 3454 1024 2034 1010 2057 2024 2183 2000 2191 2469 2008 2216 4841 2040 2024 3394 1010 2040 2024 2006 2591 3036 1010 2040 2079 2342 2966 2729 1010 4618 2031 2009 2104 1996 2591 3036 2291 1012 1031 20737 1012 102 1031 20737 1012 1033 1037 2283 2029 4941 2591 3036 1010 2029 2699 2000 21825 2009 1010 1037 2283 2029 4941 6263 11897 1998 2699 2000 21825 2009 1010 1037 2283 2029 2038 4941 2256 4073 2000 3413 1999 2023 3519 2966 2729 2005 1996 4793 2000 1996 2591 3036 1012 1031 20737 1012 102 0 0 0 0 0\n"
     ]
    },
    {
     "name": "stdout",
     "output_type": "stream",
     "text": [
      "INFO:tensorflow:input_mask: 1 1 1 1 1 1 1 1 1 1 1 1 1 1 1 1 1 1 1 1 1 1 1 1 1 1 1 1 1 1 1 1 1 1 1 1 1 1 1 1 1 1 1 1 1 1 1 1 1 1 1 1 1 1 1 1 1 1 1 1 1 1 1 1 1 1 1 1 1 1 1 1 1 1 1 1 1 1 1 1 1 1 1 1 1 1 1 1 1 1 1 1 1 1 1 1 1 1 1 1 1 1 1 1 1 1 1 1 1 1 1 1 1 1 1 1 1 1 1 1 1 1 1 0 0 0 0 0\n"
     ]
    },
    {
     "name": "stderr",
     "output_type": "stream",
     "text": [
      "I0620 08:57:58.795692 139737458554624 tf_logging.py:115] input_mask: 1 1 1 1 1 1 1 1 1 1 1 1 1 1 1 1 1 1 1 1 1 1 1 1 1 1 1 1 1 1 1 1 1 1 1 1 1 1 1 1 1 1 1 1 1 1 1 1 1 1 1 1 1 1 1 1 1 1 1 1 1 1 1 1 1 1 1 1 1 1 1 1 1 1 1 1 1 1 1 1 1 1 1 1 1 1 1 1 1 1 1 1 1 1 1 1 1 1 1 1 1 1 1 1 1 1 1 1 1 1 1 1 1 1 1 1 1 1 1 1 1 1 1 0 0 0 0 0\n"
     ]
    },
    {
     "name": "stdout",
     "output_type": "stream",
     "text": [
      "INFO:tensorflow:segment_ids: 0 0 0 0 0 0 0 0 0 0 0 0 0 0 0 0 0 0 0 0 0 0 0 0 0 0 0 0 0 0 0 0 0 0 0 0 0 0 0 0 0 0 0 0 0 0 0 0 0 0 0 0 0 0 0 0 0 0 0 0 0 0 0 0 0 0 0 0 1 1 1 1 1 1 1 1 1 1 1 1 1 1 1 1 1 1 1 1 1 1 1 1 1 1 1 1 1 1 1 1 1 1 1 1 1 1 1 1 1 1 1 1 1 1 1 1 1 1 1 1 1 1 1 0 0 0 0 0\n"
     ]
    },
    {
     "name": "stderr",
     "output_type": "stream",
     "text": [
      "I0620 08:57:58.796224 139737458554624 tf_logging.py:115] segment_ids: 0 0 0 0 0 0 0 0 0 0 0 0 0 0 0 0 0 0 0 0 0 0 0 0 0 0 0 0 0 0 0 0 0 0 0 0 0 0 0 0 0 0 0 0 0 0 0 0 0 0 0 0 0 0 0 0 0 0 0 0 0 0 0 0 0 0 0 0 1 1 1 1 1 1 1 1 1 1 1 1 1 1 1 1 1 1 1 1 1 1 1 1 1 1 1 1 1 1 1 1 1 1 1 1 1 1 1 1 1 1 1 1 1 1 1 1 1 1 1 1 1 1 1 0 0 0 0 0\n"
     ]
    },
    {
     "name": "stdout",
     "output_type": "stream",
     "text": [
      "INFO:tensorflow:label: 1 (id = 1)\n"
     ]
    },
    {
     "name": "stderr",
     "output_type": "stream",
     "text": [
      "I0620 08:57:58.796715 139737458554624 tf_logging.py:115] label: 1 (id = 1)\n"
     ]
    },
    {
     "name": "stdout",
     "output_type": "stream",
     "text": [
      "INFO:tensorflow:*** Example ***\n"
     ]
    },
    {
     "name": "stderr",
     "output_type": "stream",
     "text": [
      "I0620 08:57:58.799302 139737458554624 tf_logging.py:115] *** Example ***\n"
     ]
    },
    {
     "name": "stdout",
     "output_type": "stream",
     "text": [
      "INFO:tensorflow:guid: None\n"
     ]
    },
    {
     "name": "stderr",
     "output_type": "stream",
     "text": [
      "I0620 08:57:58.800127 139737458554624 tf_logging.py:115] guid: None\n"
     ]
    },
    {
     "name": "stdout",
     "output_type": "stream",
     "text": [
      "INFO:tensorflow:tokens: [CLS] the point is that we pay for that . every time the president veto ##es a housing bill , every time a republican member votes against the $ 1 . 25 minimum wage , every time we are unable to get any support on our bill to tie medical care for the aged to social security , it is not the congress that suffers , it is not the administration ; it is the people [SEP] they talked . but what did they produce ? they promised a 25 - percent minimum wage increase in place of the program that president eisenhower asked for and that could have been passed and should have been passed . what did the workers get ? nothing at all . [SEP]\n"
     ]
    },
    {
     "name": "stderr",
     "output_type": "stream",
     "text": [
      "I0620 08:57:58.801099 139737458554624 tf_logging.py:115] tokens: [CLS] the point is that we pay for that . every time the president veto ##es a housing bill , every time a republican member votes against the $ 1 . 25 minimum wage , every time we are unable to get any support on our bill to tie medical care for the aged to social security , it is not the congress that suffers , it is not the administration ; it is the people [SEP] they talked . but what did they produce ? they promised a 25 - percent minimum wage increase in place of the program that president eisenhower asked for and that could have been passed and should have been passed . what did the workers get ? nothing at all . [SEP]\n"
     ]
    },
    {
     "name": "stdout",
     "output_type": "stream",
     "text": [
      "INFO:tensorflow:input_ids: 101 1996 2391 2003 2008 2057 3477 2005 2008 1012 2296 2051 1996 2343 22102 2229 1037 3847 3021 1010 2296 2051 1037 3951 2266 4494 2114 1996 1002 1015 1012 2423 6263 11897 1010 2296 2051 2057 2024 4039 2000 2131 2151 2490 2006 2256 3021 2000 5495 2966 2729 2005 1996 4793 2000 2591 3036 1010 2009 2003 2025 1996 3519 2008 17567 1010 2009 2003 2025 1996 3447 1025 2009 2003 1996 2111 102 2027 5720 1012 2021 2054 2106 2027 3965 1029 2027 5763 1037 2423 1011 3867 6263 11897 3623 1999 2173 1997 1996 2565 2008 2343 16551 2356 2005 1998 2008 2071 2031 2042 2979 1998 2323 2031 2042 2979 1012 2054 2106 1996 3667 2131 1029 2498 2012 2035 1012 102\n"
     ]
    },
    {
     "name": "stderr",
     "output_type": "stream",
     "text": [
      "I0620 08:57:58.801805 139737458554624 tf_logging.py:115] input_ids: 101 1996 2391 2003 2008 2057 3477 2005 2008 1012 2296 2051 1996 2343 22102 2229 1037 3847 3021 1010 2296 2051 1037 3951 2266 4494 2114 1996 1002 1015 1012 2423 6263 11897 1010 2296 2051 2057 2024 4039 2000 2131 2151 2490 2006 2256 3021 2000 5495 2966 2729 2005 1996 4793 2000 2591 3036 1010 2009 2003 2025 1996 3519 2008 17567 1010 2009 2003 2025 1996 3447 1025 2009 2003 1996 2111 102 2027 5720 1012 2021 2054 2106 2027 3965 1029 2027 5763 1037 2423 1011 3867 6263 11897 3623 1999 2173 1997 1996 2565 2008 2343 16551 2356 2005 1998 2008 2071 2031 2042 2979 1998 2323 2031 2042 2979 1012 2054 2106 1996 3667 2131 1029 2498 2012 2035 1012 102\n"
     ]
    },
    {
     "name": "stdout",
     "output_type": "stream",
     "text": [
      "INFO:tensorflow:input_mask: 1 1 1 1 1 1 1 1 1 1 1 1 1 1 1 1 1 1 1 1 1 1 1 1 1 1 1 1 1 1 1 1 1 1 1 1 1 1 1 1 1 1 1 1 1 1 1 1 1 1 1 1 1 1 1 1 1 1 1 1 1 1 1 1 1 1 1 1 1 1 1 1 1 1 1 1 1 1 1 1 1 1 1 1 1 1 1 1 1 1 1 1 1 1 1 1 1 1 1 1 1 1 1 1 1 1 1 1 1 1 1 1 1 1 1 1 1 1 1 1 1 1 1 1 1 1 1 1\n"
     ]
    },
    {
     "name": "stderr",
     "output_type": "stream",
     "text": [
      "I0620 08:57:58.802416 139737458554624 tf_logging.py:115] input_mask: 1 1 1 1 1 1 1 1 1 1 1 1 1 1 1 1 1 1 1 1 1 1 1 1 1 1 1 1 1 1 1 1 1 1 1 1 1 1 1 1 1 1 1 1 1 1 1 1 1 1 1 1 1 1 1 1 1 1 1 1 1 1 1 1 1 1 1 1 1 1 1 1 1 1 1 1 1 1 1 1 1 1 1 1 1 1 1 1 1 1 1 1 1 1 1 1 1 1 1 1 1 1 1 1 1 1 1 1 1 1 1 1 1 1 1 1 1 1 1 1 1 1 1 1 1 1 1 1\n"
     ]
    },
    {
     "name": "stdout",
     "output_type": "stream",
     "text": [
      "INFO:tensorflow:segment_ids: 0 0 0 0 0 0 0 0 0 0 0 0 0 0 0 0 0 0 0 0 0 0 0 0 0 0 0 0 0 0 0 0 0 0 0 0 0 0 0 0 0 0 0 0 0 0 0 0 0 0 0 0 0 0 0 0 0 0 0 0 0 0 0 0 0 0 0 0 0 0 0 0 0 0 0 0 0 1 1 1 1 1 1 1 1 1 1 1 1 1 1 1 1 1 1 1 1 1 1 1 1 1 1 1 1 1 1 1 1 1 1 1 1 1 1 1 1 1 1 1 1 1 1 1 1 1 1 1\n"
     ]
    },
    {
     "name": "stderr",
     "output_type": "stream",
     "text": [
      "I0620 08:57:58.802957 139737458554624 tf_logging.py:115] segment_ids: 0 0 0 0 0 0 0 0 0 0 0 0 0 0 0 0 0 0 0 0 0 0 0 0 0 0 0 0 0 0 0 0 0 0 0 0 0 0 0 0 0 0 0 0 0 0 0 0 0 0 0 0 0 0 0 0 0 0 0 0 0 0 0 0 0 0 0 0 0 0 0 0 0 0 0 0 0 1 1 1 1 1 1 1 1 1 1 1 1 1 1 1 1 1 1 1 1 1 1 1 1 1 1 1 1 1 1 1 1 1 1 1 1 1 1 1 1 1 1 1 1 1 1 1 1 1 1 1\n"
     ]
    },
    {
     "name": "stdout",
     "output_type": "stream",
     "text": [
      "INFO:tensorflow:label: 0 (id = 0)\n"
     ]
    },
    {
     "name": "stderr",
     "output_type": "stream",
     "text": [
      "I0620 08:57:58.803525 139737458554624 tf_logging.py:115] label: 0 (id = 0)\n"
     ]
    },
    {
     "name": "stdout",
     "output_type": "stream",
     "text": [
      "INFO:tensorflow:*** Example ***\n"
     ]
    },
    {
     "name": "stderr",
     "output_type": "stream",
     "text": [
      "I0620 08:57:58.806813 139737458554624 tf_logging.py:115] *** Example ***\n"
     ]
    },
    {
     "name": "stdout",
     "output_type": "stream",
     "text": [
      "INFO:tensorflow:guid: None\n"
     ]
    },
    {
     "name": "stderr",
     "output_type": "stream",
     "text": [
      "I0620 08:57:58.808222 139737458554624 tf_logging.py:115] guid: None\n"
     ]
    },
    {
     "name": "stdout",
     "output_type": "stream",
     "text": [
      "INFO:tensorflow:tokens: [CLS] when a political party votes , in 1935 , 98 percent against the 25 - cent minimum wage , i know what the party stands for ; and when that same political party in 1960 votes in the house of representatives 85 percent against $ 1 . 25 minimum wage in 1960 , i know the republican party stands where it has always [SEP] it is our function , however , not to merely in ##vo ##ke the names of franklin roosevelt and harry truman , not to merely live off what they did , but to bring these old programs up to date . franklin roosevelt proposed a 25 - cent minimum wage , back in the middle thirties ; 90 percent of the republicans [SEP]\n"
     ]
    },
    {
     "name": "stderr",
     "output_type": "stream",
     "text": [
      "I0620 08:57:58.808867 139737458554624 tf_logging.py:115] tokens: [CLS] when a political party votes , in 1935 , 98 percent against the 25 - cent minimum wage , i know what the party stands for ; and when that same political party in 1960 votes in the house of representatives 85 percent against $ 1 . 25 minimum wage in 1960 , i know the republican party stands where it has always [SEP] it is our function , however , not to merely in ##vo ##ke the names of franklin roosevelt and harry truman , not to merely live off what they did , but to bring these old programs up to date . franklin roosevelt proposed a 25 - cent minimum wage , back in the middle thirties ; 90 percent of the republicans [SEP]\n"
     ]
    },
    {
     "name": "stdout",
     "output_type": "stream",
     "text": [
      "INFO:tensorflow:input_ids: 101 2043 1037 2576 2283 4494 1010 1999 4437 1010 5818 3867 2114 1996 2423 1011 9358 6263 11897 1010 1045 2113 2054 1996 2283 4832 2005 1025 1998 2043 2008 2168 2576 2283 1999 3624 4494 1999 1996 2160 1997 4505 5594 3867 2114 1002 1015 1012 2423 6263 11897 1999 3624 1010 1045 2113 1996 3951 2283 4832 2073 2009 2038 2467 102 2009 2003 2256 3853 1010 2174 1010 2025 2000 6414 1999 6767 3489 1996 3415 1997 5951 8573 1998 4302 15237 1010 2025 2000 6414 2444 2125 2054 2027 2106 1010 2021 2000 3288 2122 2214 3454 2039 2000 3058 1012 5951 8573 3818 1037 2423 1011 9358 6263 11897 1010 2067 1999 1996 2690 26313 1025 3938 3867 1997 1996 10643 102\n"
     ]
    },
    {
     "name": "stderr",
     "output_type": "stream",
     "text": [
      "I0620 08:57:58.809401 139737458554624 tf_logging.py:115] input_ids: 101 2043 1037 2576 2283 4494 1010 1999 4437 1010 5818 3867 2114 1996 2423 1011 9358 6263 11897 1010 1045 2113 2054 1996 2283 4832 2005 1025 1998 2043 2008 2168 2576 2283 1999 3624 4494 1999 1996 2160 1997 4505 5594 3867 2114 1002 1015 1012 2423 6263 11897 1999 3624 1010 1045 2113 1996 3951 2283 4832 2073 2009 2038 2467 102 2009 2003 2256 3853 1010 2174 1010 2025 2000 6414 1999 6767 3489 1996 3415 1997 5951 8573 1998 4302 15237 1010 2025 2000 6414 2444 2125 2054 2027 2106 1010 2021 2000 3288 2122 2214 3454 2039 2000 3058 1012 5951 8573 3818 1037 2423 1011 9358 6263 11897 1010 2067 1999 1996 2690 26313 1025 3938 3867 1997 1996 10643 102\n"
     ]
    },
    {
     "name": "stdout",
     "output_type": "stream",
     "text": [
      "INFO:tensorflow:input_mask: 1 1 1 1 1 1 1 1 1 1 1 1 1 1 1 1 1 1 1 1 1 1 1 1 1 1 1 1 1 1 1 1 1 1 1 1 1 1 1 1 1 1 1 1 1 1 1 1 1 1 1 1 1 1 1 1 1 1 1 1 1 1 1 1 1 1 1 1 1 1 1 1 1 1 1 1 1 1 1 1 1 1 1 1 1 1 1 1 1 1 1 1 1 1 1 1 1 1 1 1 1 1 1 1 1 1 1 1 1 1 1 1 1 1 1 1 1 1 1 1 1 1 1 1 1 1 1 1\n"
     ]
    },
    {
     "name": "stderr",
     "output_type": "stream",
     "text": [
      "I0620 08:57:58.809934 139737458554624 tf_logging.py:115] input_mask: 1 1 1 1 1 1 1 1 1 1 1 1 1 1 1 1 1 1 1 1 1 1 1 1 1 1 1 1 1 1 1 1 1 1 1 1 1 1 1 1 1 1 1 1 1 1 1 1 1 1 1 1 1 1 1 1 1 1 1 1 1 1 1 1 1 1 1 1 1 1 1 1 1 1 1 1 1 1 1 1 1 1 1 1 1 1 1 1 1 1 1 1 1 1 1 1 1 1 1 1 1 1 1 1 1 1 1 1 1 1 1 1 1 1 1 1 1 1 1 1 1 1 1 1 1 1 1 1\n"
     ]
    },
    {
     "name": "stdout",
     "output_type": "stream",
     "text": [
      "INFO:tensorflow:segment_ids: 0 0 0 0 0 0 0 0 0 0 0 0 0 0 0 0 0 0 0 0 0 0 0 0 0 0 0 0 0 0 0 0 0 0 0 0 0 0 0 0 0 0 0 0 0 0 0 0 0 0 0 0 0 0 0 0 0 0 0 0 0 0 0 0 0 1 1 1 1 1 1 1 1 1 1 1 1 1 1 1 1 1 1 1 1 1 1 1 1 1 1 1 1 1 1 1 1 1 1 1 1 1 1 1 1 1 1 1 1 1 1 1 1 1 1 1 1 1 1 1 1 1 1 1 1 1 1 1\n"
     ]
    },
    {
     "name": "stderr",
     "output_type": "stream",
     "text": [
      "I0620 08:57:58.810458 139737458554624 tf_logging.py:115] segment_ids: 0 0 0 0 0 0 0 0 0 0 0 0 0 0 0 0 0 0 0 0 0 0 0 0 0 0 0 0 0 0 0 0 0 0 0 0 0 0 0 0 0 0 0 0 0 0 0 0 0 0 0 0 0 0 0 0 0 0 0 0 0 0 0 0 0 1 1 1 1 1 1 1 1 1 1 1 1 1 1 1 1 1 1 1 1 1 1 1 1 1 1 1 1 1 1 1 1 1 1 1 1 1 1 1 1 1 1 1 1 1 1 1 1 1 1 1 1 1 1 1 1 1 1 1 1 1 1 1\n"
     ]
    },
    {
     "name": "stdout",
     "output_type": "stream",
     "text": [
      "INFO:tensorflow:label: 0 (id = 0)\n"
     ]
    },
    {
     "name": "stderr",
     "output_type": "stream",
     "text": [
      "I0620 08:57:58.810947 139737458554624 tf_logging.py:115] label: 0 (id = 0)\n"
     ]
    },
    {
     "name": "stdout",
     "output_type": "stream",
     "text": [
      "INFO:tensorflow:Writing example 0 of 145\n"
     ]
    },
    {
     "name": "stderr",
     "output_type": "stream",
     "text": [
      "I0620 08:58:01.646722 139737458554624 tf_logging.py:115] Writing example 0 of 145\n"
     ]
    },
    {
     "name": "stdout",
     "output_type": "stream",
     "text": [
      "INFO:tensorflow:*** Example ***\n"
     ]
    },
    {
     "name": "stderr",
     "output_type": "stream",
     "text": [
      "I0620 08:58:01.651153 139737458554624 tf_logging.py:115] *** Example ***\n"
     ]
    },
    {
     "name": "stdout",
     "output_type": "stream",
     "text": [
      "INFO:tensorflow:guid: None\n"
     ]
    },
    {
     "name": "stderr",
     "output_type": "stream",
     "text": [
      "I0620 08:58:01.652180 139737458554624 tf_logging.py:115] guid: None\n"
     ]
    },
    {
     "name": "stdout",
     "output_type": "stream",
     "text": [
      "INFO:tensorflow:tokens: [CLS] for peace will not come solely through the conference room and the propaganda machine . rather the road to a world at peace runs through a rev ##ital ##ized and growing american economy , through the ar ##du ##ous construction of defenses so powerful that the communists know that peace is their only alternative , through vast research projects to solve the complex [SEP] so , anytime we make a di ##sar ##mament agreement which does not have inspection , under which they might increase their strength as against ours , it increases the risk of war . that ' s why i say that we stand for peace when we say , as president eisenhower says : yes , we will go to geneva and [SEP]\n"
     ]
    },
    {
     "name": "stderr",
     "output_type": "stream",
     "text": [
      "I0620 08:58:01.653246 139737458554624 tf_logging.py:115] tokens: [CLS] for peace will not come solely through the conference room and the propaganda machine . rather the road to a world at peace runs through a rev ##ital ##ized and growing american economy , through the ar ##du ##ous construction of defenses so powerful that the communists know that peace is their only alternative , through vast research projects to solve the complex [SEP] so , anytime we make a di ##sar ##mament agreement which does not have inspection , under which they might increase their strength as against ours , it increases the risk of war . that ' s why i say that we stand for peace when we say , as president eisenhower says : yes , we will go to geneva and [SEP]\n"
     ]
    },
    {
     "name": "stdout",
     "output_type": "stream",
     "text": [
      "INFO:tensorflow:input_ids: 101 2005 3521 2097 2025 2272 9578 2083 1996 3034 2282 1998 1996 10398 3698 1012 2738 1996 2346 2000 1037 2088 2012 3521 3216 2083 1037 7065 18400 3550 1998 3652 2137 4610 1010 2083 1996 12098 8566 3560 2810 1997 13345 2061 3928 2008 1996 13009 2113 2008 3521 2003 2037 2069 4522 1010 2083 6565 2470 3934 2000 9611 1996 3375 102 2061 1010 15933 2057 2191 1037 4487 10286 28119 3820 2029 2515 2025 2031 10569 1010 2104 2029 2027 2453 3623 2037 3997 2004 2114 14635 1010 2009 7457 1996 3891 1997 2162 1012 2008 1005 1055 2339 1045 2360 2008 2057 3233 2005 3521 2043 2057 2360 1010 2004 2343 16551 2758 1024 2748 1010 2057 2097 2175 2000 9810 1998 102\n"
     ]
    },
    {
     "name": "stderr",
     "output_type": "stream",
     "text": [
      "I0620 08:58:01.653950 139737458554624 tf_logging.py:115] input_ids: 101 2005 3521 2097 2025 2272 9578 2083 1996 3034 2282 1998 1996 10398 3698 1012 2738 1996 2346 2000 1037 2088 2012 3521 3216 2083 1037 7065 18400 3550 1998 3652 2137 4610 1010 2083 1996 12098 8566 3560 2810 1997 13345 2061 3928 2008 1996 13009 2113 2008 3521 2003 2037 2069 4522 1010 2083 6565 2470 3934 2000 9611 1996 3375 102 2061 1010 15933 2057 2191 1037 4487 10286 28119 3820 2029 2515 2025 2031 10569 1010 2104 2029 2027 2453 3623 2037 3997 2004 2114 14635 1010 2009 7457 1996 3891 1997 2162 1012 2008 1005 1055 2339 1045 2360 2008 2057 3233 2005 3521 2043 2057 2360 1010 2004 2343 16551 2758 1024 2748 1010 2057 2097 2175 2000 9810 1998 102\n"
     ]
    },
    {
     "name": "stdout",
     "output_type": "stream",
     "text": [
      "INFO:tensorflow:input_mask: 1 1 1 1 1 1 1 1 1 1 1 1 1 1 1 1 1 1 1 1 1 1 1 1 1 1 1 1 1 1 1 1 1 1 1 1 1 1 1 1 1 1 1 1 1 1 1 1 1 1 1 1 1 1 1 1 1 1 1 1 1 1 1 1 1 1 1 1 1 1 1 1 1 1 1 1 1 1 1 1 1 1 1 1 1 1 1 1 1 1 1 1 1 1 1 1 1 1 1 1 1 1 1 1 1 1 1 1 1 1 1 1 1 1 1 1 1 1 1 1 1 1 1 1 1 1 1 1\n"
     ]
    },
    {
     "name": "stderr",
     "output_type": "stream",
     "text": [
      "I0620 08:58:01.654749 139737458554624 tf_logging.py:115] input_mask: 1 1 1 1 1 1 1 1 1 1 1 1 1 1 1 1 1 1 1 1 1 1 1 1 1 1 1 1 1 1 1 1 1 1 1 1 1 1 1 1 1 1 1 1 1 1 1 1 1 1 1 1 1 1 1 1 1 1 1 1 1 1 1 1 1 1 1 1 1 1 1 1 1 1 1 1 1 1 1 1 1 1 1 1 1 1 1 1 1 1 1 1 1 1 1 1 1 1 1 1 1 1 1 1 1 1 1 1 1 1 1 1 1 1 1 1 1 1 1 1 1 1 1 1 1 1 1 1\n"
     ]
    },
    {
     "name": "stdout",
     "output_type": "stream",
     "text": [
      "INFO:tensorflow:segment_ids: 0 0 0 0 0 0 0 0 0 0 0 0 0 0 0 0 0 0 0 0 0 0 0 0 0 0 0 0 0 0 0 0 0 0 0 0 0 0 0 0 0 0 0 0 0 0 0 0 0 0 0 0 0 0 0 0 0 0 0 0 0 0 0 0 0 1 1 1 1 1 1 1 1 1 1 1 1 1 1 1 1 1 1 1 1 1 1 1 1 1 1 1 1 1 1 1 1 1 1 1 1 1 1 1 1 1 1 1 1 1 1 1 1 1 1 1 1 1 1 1 1 1 1 1 1 1 1 1\n"
     ]
    },
    {
     "name": "stderr",
     "output_type": "stream",
     "text": [
      "I0620 08:58:01.656626 139737458554624 tf_logging.py:115] segment_ids: 0 0 0 0 0 0 0 0 0 0 0 0 0 0 0 0 0 0 0 0 0 0 0 0 0 0 0 0 0 0 0 0 0 0 0 0 0 0 0 0 0 0 0 0 0 0 0 0 0 0 0 0 0 0 0 0 0 0 0 0 0 0 0 0 0 1 1 1 1 1 1 1 1 1 1 1 1 1 1 1 1 1 1 1 1 1 1 1 1 1 1 1 1 1 1 1 1 1 1 1 1 1 1 1 1 1 1 1 1 1 1 1 1 1 1 1 1 1 1 1 1 1 1 1 1 1 1 1\n"
     ]
    },
    {
     "name": "stdout",
     "output_type": "stream",
     "text": [
      "INFO:tensorflow:label: 0 (id = 0)\n"
     ]
    },
    {
     "name": "stderr",
     "output_type": "stream",
     "text": [
      "I0620 08:58:01.657683 139737458554624 tf_logging.py:115] label: 0 (id = 0)\n"
     ]
    },
    {
     "name": "stdout",
     "output_type": "stream",
     "text": [
      "INFO:tensorflow:*** Example ***\n"
     ]
    },
    {
     "name": "stderr",
     "output_type": "stream",
     "text": [
      "I0620 08:58:01.660305 139737458554624 tf_logging.py:115] *** Example ***\n"
     ]
    },
    {
     "name": "stdout",
     "output_type": "stream",
     "text": [
      "INFO:tensorflow:guid: None\n"
     ]
    },
    {
     "name": "stderr",
     "output_type": "stream",
     "text": [
      "I0620 08:58:01.661916 139737458554624 tf_logging.py:115] guid: None\n"
     ]
    },
    {
     "name": "stdout",
     "output_type": "stream",
     "text": [
      "INFO:tensorflow:tokens: [CLS] [ applause . ] we must be firm in our diplomacy in dealing with mr . k ##hr ##ush ##chev at the conference table , always willing to go an extra mile as president eisenhower has said , working for di ##sar ##mament , working for reduction of tension , but again as he has said , never reducing our arms strength until [SEP] let me just make this one point . we will always go the extra mile to negotiate , we will always make over every proposal and take every initiative , as president eisenhower did , on di ##sar ##mament , on open skies , on the use of outer space for peaceful purposes in his u . n . speech . but [SEP]\n"
     ]
    },
    {
     "name": "stderr",
     "output_type": "stream",
     "text": [
      "I0620 08:58:01.662752 139737458554624 tf_logging.py:115] tokens: [CLS] [ applause . ] we must be firm in our diplomacy in dealing with mr . k ##hr ##ush ##chev at the conference table , always willing to go an extra mile as president eisenhower has said , working for di ##sar ##mament , working for reduction of tension , but again as he has said , never reducing our arms strength until [SEP] let me just make this one point . we will always go the extra mile to negotiate , we will always make over every proposal and take every initiative , as president eisenhower did , on di ##sar ##mament , on open skies , on the use of outer space for peaceful purposes in his u . n . speech . but [SEP]\n"
     ]
    },
    {
     "name": "stdout",
     "output_type": "stream",
     "text": [
      "INFO:tensorflow:input_ids: 101 1031 20737 1012 1033 2057 2442 2022 3813 1999 2256 17610 1999 7149 2007 2720 1012 1047 8093 20668 16179 2012 1996 3034 2795 1010 2467 5627 2000 2175 2019 4469 3542 2004 2343 16551 2038 2056 1010 2551 2005 4487 10286 28119 1010 2551 2005 7312 1997 6980 1010 2021 2153 2004 2002 2038 2056 1010 2196 8161 2256 2608 3997 2127 102 2292 2033 2074 2191 2023 2028 2391 1012 2057 2097 2467 2175 1996 4469 3542 2000 13676 1010 2057 2097 2467 2191 2058 2296 6378 1998 2202 2296 6349 1010 2004 2343 16551 2106 1010 2006 4487 10286 28119 1010 2006 2330 15717 1010 2006 1996 2224 1997 6058 2686 2005 9379 5682 1999 2010 1057 1012 1050 1012 4613 1012 2021 102\n"
     ]
    },
    {
     "name": "stderr",
     "output_type": "stream",
     "text": [
      "I0620 08:58:01.663527 139737458554624 tf_logging.py:115] input_ids: 101 1031 20737 1012 1033 2057 2442 2022 3813 1999 2256 17610 1999 7149 2007 2720 1012 1047 8093 20668 16179 2012 1996 3034 2795 1010 2467 5627 2000 2175 2019 4469 3542 2004 2343 16551 2038 2056 1010 2551 2005 4487 10286 28119 1010 2551 2005 7312 1997 6980 1010 2021 2153 2004 2002 2038 2056 1010 2196 8161 2256 2608 3997 2127 102 2292 2033 2074 2191 2023 2028 2391 1012 2057 2097 2467 2175 1996 4469 3542 2000 13676 1010 2057 2097 2467 2191 2058 2296 6378 1998 2202 2296 6349 1010 2004 2343 16551 2106 1010 2006 4487 10286 28119 1010 2006 2330 15717 1010 2006 1996 2224 1997 6058 2686 2005 9379 5682 1999 2010 1057 1012 1050 1012 4613 1012 2021 102\n"
     ]
    },
    {
     "name": "stdout",
     "output_type": "stream",
     "text": [
      "INFO:tensorflow:input_mask: 1 1 1 1 1 1 1 1 1 1 1 1 1 1 1 1 1 1 1 1 1 1 1 1 1 1 1 1 1 1 1 1 1 1 1 1 1 1 1 1 1 1 1 1 1 1 1 1 1 1 1 1 1 1 1 1 1 1 1 1 1 1 1 1 1 1 1 1 1 1 1 1 1 1 1 1 1 1 1 1 1 1 1 1 1 1 1 1 1 1 1 1 1 1 1 1 1 1 1 1 1 1 1 1 1 1 1 1 1 1 1 1 1 1 1 1 1 1 1 1 1 1 1 1 1 1 1 1\n"
     ]
    },
    {
     "name": "stderr",
     "output_type": "stream",
     "text": [
      "I0620 08:58:01.664067 139737458554624 tf_logging.py:115] input_mask: 1 1 1 1 1 1 1 1 1 1 1 1 1 1 1 1 1 1 1 1 1 1 1 1 1 1 1 1 1 1 1 1 1 1 1 1 1 1 1 1 1 1 1 1 1 1 1 1 1 1 1 1 1 1 1 1 1 1 1 1 1 1 1 1 1 1 1 1 1 1 1 1 1 1 1 1 1 1 1 1 1 1 1 1 1 1 1 1 1 1 1 1 1 1 1 1 1 1 1 1 1 1 1 1 1 1 1 1 1 1 1 1 1 1 1 1 1 1 1 1 1 1 1 1 1 1 1 1\n"
     ]
    },
    {
     "name": "stdout",
     "output_type": "stream",
     "text": [
      "INFO:tensorflow:segment_ids: 0 0 0 0 0 0 0 0 0 0 0 0 0 0 0 0 0 0 0 0 0 0 0 0 0 0 0 0 0 0 0 0 0 0 0 0 0 0 0 0 0 0 0 0 0 0 0 0 0 0 0 0 0 0 0 0 0 0 0 0 0 0 0 0 0 1 1 1 1 1 1 1 1 1 1 1 1 1 1 1 1 1 1 1 1 1 1 1 1 1 1 1 1 1 1 1 1 1 1 1 1 1 1 1 1 1 1 1 1 1 1 1 1 1 1 1 1 1 1 1 1 1 1 1 1 1 1 1\n"
     ]
    },
    {
     "name": "stderr",
     "output_type": "stream",
     "text": [
      "I0620 08:58:01.664710 139737458554624 tf_logging.py:115] segment_ids: 0 0 0 0 0 0 0 0 0 0 0 0 0 0 0 0 0 0 0 0 0 0 0 0 0 0 0 0 0 0 0 0 0 0 0 0 0 0 0 0 0 0 0 0 0 0 0 0 0 0 0 0 0 0 0 0 0 0 0 0 0 0 0 0 0 1 1 1 1 1 1 1 1 1 1 1 1 1 1 1 1 1 1 1 1 1 1 1 1 1 1 1 1 1 1 1 1 1 1 1 1 1 1 1 1 1 1 1 1 1 1 1 1 1 1 1 1 1 1 1 1 1 1 1 1 1 1 1\n"
     ]
    },
    {
     "name": "stdout",
     "output_type": "stream",
     "text": [
      "INFO:tensorflow:label: 0 (id = 0)\n"
     ]
    },
    {
     "name": "stderr",
     "output_type": "stream",
     "text": [
      "I0620 08:58:01.665788 139737458554624 tf_logging.py:115] label: 0 (id = 0)\n"
     ]
    },
    {
     "name": "stdout",
     "output_type": "stream",
     "text": [
      "INFO:tensorflow:*** Example ***\n"
     ]
    },
    {
     "name": "stderr",
     "output_type": "stream",
     "text": [
      "I0620 08:58:01.668781 139737458554624 tf_logging.py:115] *** Example ***\n"
     ]
    },
    {
     "name": "stdout",
     "output_type": "stream",
     "text": [
      "INFO:tensorflow:guid: None\n"
     ]
    },
    {
     "name": "stderr",
     "output_type": "stream",
     "text": [
      "I0620 08:58:01.669886 139737458554624 tf_logging.py:115] guid: None\n"
     ]
    },
    {
     "name": "stdout",
     "output_type": "stream",
     "text": [
      "INFO:tensorflow:tokens: [CLS] i see him , ruthless , tough , completely a man dedicated to one purpose only - the evil purpose of conquer ##ing the world , and this is what i know . if america ever makes the mistake of entering into a di ##sar ##mament agreement , which he does not also keep with inspection , it will increase the danger of [SEP] a recent independent survey concludes , and i quote it accurately , the only continuous features of our efforts in the di ##sar ##mament field have been a lack of continuity in top personnel and a pau ##city of planning and research effort . as a result , we have been un ##pre ##par ##ed at every di ##sar ##mament conference that [SEP]\n"
     ]
    },
    {
     "name": "stderr",
     "output_type": "stream",
     "text": [
      "I0620 08:58:01.670640 139737458554624 tf_logging.py:115] tokens: [CLS] i see him , ruthless , tough , completely a man dedicated to one purpose only - the evil purpose of conquer ##ing the world , and this is what i know . if america ever makes the mistake of entering into a di ##sar ##mament agreement , which he does not also keep with inspection , it will increase the danger of [SEP] a recent independent survey concludes , and i quote it accurately , the only continuous features of our efforts in the di ##sar ##mament field have been a lack of continuity in top personnel and a pau ##city of planning and research effort . as a result , we have been un ##pre ##par ##ed at every di ##sar ##mament conference that [SEP]\n"
     ]
    },
    {
     "name": "stdout",
     "output_type": "stream",
     "text": [
      "INFO:tensorflow:input_ids: 101 1045 2156 2032 1010 18101 1010 7823 1010 3294 1037 2158 4056 2000 2028 3800 2069 1011 1996 4763 3800 1997 16152 2075 1996 2088 1010 1998 2023 2003 2054 1045 2113 1012 2065 2637 2412 3084 1996 6707 1997 5738 2046 1037 4487 10286 28119 3820 1010 2029 2002 2515 2025 2036 2562 2007 10569 1010 2009 2097 3623 1996 5473 1997 102 1037 3522 2981 5002 14730 1010 1998 1045 14686 2009 14125 1010 1996 2069 7142 2838 1997 2256 4073 1999 1996 4487 10286 28119 2492 2031 2042 1037 3768 1997 13717 1999 2327 5073 1998 1037 29025 12972 1997 4041 1998 2470 3947 1012 2004 1037 2765 1010 2057 2031 2042 4895 28139 19362 2098 2012 2296 4487 10286 28119 3034 2008 102\n"
     ]
    },
    {
     "name": "stderr",
     "output_type": "stream",
     "text": [
      "I0620 08:58:01.671302 139737458554624 tf_logging.py:115] input_ids: 101 1045 2156 2032 1010 18101 1010 7823 1010 3294 1037 2158 4056 2000 2028 3800 2069 1011 1996 4763 3800 1997 16152 2075 1996 2088 1010 1998 2023 2003 2054 1045 2113 1012 2065 2637 2412 3084 1996 6707 1997 5738 2046 1037 4487 10286 28119 3820 1010 2029 2002 2515 2025 2036 2562 2007 10569 1010 2009 2097 3623 1996 5473 1997 102 1037 3522 2981 5002 14730 1010 1998 1045 14686 2009 14125 1010 1996 2069 7142 2838 1997 2256 4073 1999 1996 4487 10286 28119 2492 2031 2042 1037 3768 1997 13717 1999 2327 5073 1998 1037 29025 12972 1997 4041 1998 2470 3947 1012 2004 1037 2765 1010 2057 2031 2042 4895 28139 19362 2098 2012 2296 4487 10286 28119 3034 2008 102\n"
     ]
    },
    {
     "name": "stdout",
     "output_type": "stream",
     "text": [
      "INFO:tensorflow:input_mask: 1 1 1 1 1 1 1 1 1 1 1 1 1 1 1 1 1 1 1 1 1 1 1 1 1 1 1 1 1 1 1 1 1 1 1 1 1 1 1 1 1 1 1 1 1 1 1 1 1 1 1 1 1 1 1 1 1 1 1 1 1 1 1 1 1 1 1 1 1 1 1 1 1 1 1 1 1 1 1 1 1 1 1 1 1 1 1 1 1 1 1 1 1 1 1 1 1 1 1 1 1 1 1 1 1 1 1 1 1 1 1 1 1 1 1 1 1 1 1 1 1 1 1 1 1 1 1 1\n"
     ]
    },
    {
     "name": "stderr",
     "output_type": "stream",
     "text": [
      "I0620 08:58:01.671998 139737458554624 tf_logging.py:115] input_mask: 1 1 1 1 1 1 1 1 1 1 1 1 1 1 1 1 1 1 1 1 1 1 1 1 1 1 1 1 1 1 1 1 1 1 1 1 1 1 1 1 1 1 1 1 1 1 1 1 1 1 1 1 1 1 1 1 1 1 1 1 1 1 1 1 1 1 1 1 1 1 1 1 1 1 1 1 1 1 1 1 1 1 1 1 1 1 1 1 1 1 1 1 1 1 1 1 1 1 1 1 1 1 1 1 1 1 1 1 1 1 1 1 1 1 1 1 1 1 1 1 1 1 1 1 1 1 1 1\n"
     ]
    },
    {
     "name": "stdout",
     "output_type": "stream",
     "text": [
      "INFO:tensorflow:segment_ids: 0 0 0 0 0 0 0 0 0 0 0 0 0 0 0 0 0 0 0 0 0 0 0 0 0 0 0 0 0 0 0 0 0 0 0 0 0 0 0 0 0 0 0 0 0 0 0 0 0 0 0 0 0 0 0 0 0 0 0 0 0 0 0 0 0 1 1 1 1 1 1 1 1 1 1 1 1 1 1 1 1 1 1 1 1 1 1 1 1 1 1 1 1 1 1 1 1 1 1 1 1 1 1 1 1 1 1 1 1 1 1 1 1 1 1 1 1 1 1 1 1 1 1 1 1 1 1 1\n"
     ]
    },
    {
     "name": "stderr",
     "output_type": "stream",
     "text": [
      "I0620 08:58:01.672692 139737458554624 tf_logging.py:115] segment_ids: 0 0 0 0 0 0 0 0 0 0 0 0 0 0 0 0 0 0 0 0 0 0 0 0 0 0 0 0 0 0 0 0 0 0 0 0 0 0 0 0 0 0 0 0 0 0 0 0 0 0 0 0 0 0 0 0 0 0 0 0 0 0 0 0 0 1 1 1 1 1 1 1 1 1 1 1 1 1 1 1 1 1 1 1 1 1 1 1 1 1 1 1 1 1 1 1 1 1 1 1 1 1 1 1 1 1 1 1 1 1 1 1 1 1 1 1 1 1 1 1 1 1 1 1 1 1 1 1\n"
     ]
    },
    {
     "name": "stdout",
     "output_type": "stream",
     "text": [
      "INFO:tensorflow:label: 0 (id = 0)\n"
     ]
    },
    {
     "name": "stderr",
     "output_type": "stream",
     "text": [
      "I0620 08:58:01.673178 139737458554624 tf_logging.py:115] label: 0 (id = 0)\n"
     ]
    },
    {
     "name": "stdout",
     "output_type": "stream",
     "text": [
      "INFO:tensorflow:*** Example ***\n"
     ]
    },
    {
     "name": "stderr",
     "output_type": "stream",
     "text": [
      "I0620 08:58:01.678932 139737458554624 tf_logging.py:115] *** Example ***\n"
     ]
    },
    {
     "name": "stdout",
     "output_type": "stream",
     "text": [
      "INFO:tensorflow:guid: None\n"
     ]
    },
    {
     "name": "stderr",
     "output_type": "stream",
     "text": [
      "I0620 08:58:01.685127 139737458554624 tf_logging.py:115] guid: None\n"
     ]
    },
    {
     "name": "stdout",
     "output_type": "stream",
     "text": [
      "INFO:tensorflow:tokens: [CLS] i am proud of this support . i know that the american labor movement wants for america what i want for america : the elimination of poverty and unemployment , the rees ##ta ##bl ##ishment of america ' s position of leadership in the world , the end of racial discrimination everywhere in our society . i know the american labor movement opposes [SEP] but mr . nixon and the party he leads say they are content , just as they have always been content , in the face of poverty and unemployment and an america with its most urgent needs un ##met . the republican party which mr . nixon leads today is the same republican party which for half a century has opposed every [SEP]\n"
     ]
    },
    {
     "name": "stderr",
     "output_type": "stream",
     "text": [
      "I0620 08:58:01.686002 139737458554624 tf_logging.py:115] tokens: [CLS] i am proud of this support . i know that the american labor movement wants for america what i want for america : the elimination of poverty and unemployment , the rees ##ta ##bl ##ishment of america ' s position of leadership in the world , the end of racial discrimination everywhere in our society . i know the american labor movement opposes [SEP] but mr . nixon and the party he leads say they are content , just as they have always been content , in the face of poverty and unemployment and an america with its most urgent needs un ##met . the republican party which mr . nixon leads today is the same republican party which for half a century has opposed every [SEP]\n"
     ]
    },
    {
     "name": "stdout",
     "output_type": "stream",
     "text": [
      "INFO:tensorflow:input_ids: 101 1045 2572 7098 1997 2023 2490 1012 1045 2113 2008 1996 2137 4450 2929 4122 2005 2637 2054 1045 2215 2005 2637 1024 1996 9614 1997 5635 1998 12163 1010 1996 22131 2696 16558 21808 1997 2637 1005 1055 2597 1997 4105 1999 1996 2088 1010 1996 2203 1997 5762 9147 7249 1999 2256 2554 1012 1045 2113 1996 2137 4450 2929 29158 102 2021 2720 1012 11296 1998 1996 2283 2002 5260 2360 2027 2024 4180 1010 2074 2004 2027 2031 2467 2042 4180 1010 1999 1996 2227 1997 5635 1998 12163 1998 2019 2637 2007 2049 2087 13661 3791 4895 11368 1012 1996 3951 2283 2029 2720 1012 11296 5260 2651 2003 1996 2168 3951 2283 2029 2005 2431 1037 2301 2038 4941 2296 102\n"
     ]
    },
    {
     "name": "stderr",
     "output_type": "stream",
     "text": [
      "I0620 08:58:01.686861 139737458554624 tf_logging.py:115] input_ids: 101 1045 2572 7098 1997 2023 2490 1012 1045 2113 2008 1996 2137 4450 2929 4122 2005 2637 2054 1045 2215 2005 2637 1024 1996 9614 1997 5635 1998 12163 1010 1996 22131 2696 16558 21808 1997 2637 1005 1055 2597 1997 4105 1999 1996 2088 1010 1996 2203 1997 5762 9147 7249 1999 2256 2554 1012 1045 2113 1996 2137 4450 2929 29158 102 2021 2720 1012 11296 1998 1996 2283 2002 5260 2360 2027 2024 4180 1010 2074 2004 2027 2031 2467 2042 4180 1010 1999 1996 2227 1997 5635 1998 12163 1998 2019 2637 2007 2049 2087 13661 3791 4895 11368 1012 1996 3951 2283 2029 2720 1012 11296 5260 2651 2003 1996 2168 3951 2283 2029 2005 2431 1037 2301 2038 4941 2296 102\n"
     ]
    },
    {
     "name": "stdout",
     "output_type": "stream",
     "text": [
      "INFO:tensorflow:input_mask: 1 1 1 1 1 1 1 1 1 1 1 1 1 1 1 1 1 1 1 1 1 1 1 1 1 1 1 1 1 1 1 1 1 1 1 1 1 1 1 1 1 1 1 1 1 1 1 1 1 1 1 1 1 1 1 1 1 1 1 1 1 1 1 1 1 1 1 1 1 1 1 1 1 1 1 1 1 1 1 1 1 1 1 1 1 1 1 1 1 1 1 1 1 1 1 1 1 1 1 1 1 1 1 1 1 1 1 1 1 1 1 1 1 1 1 1 1 1 1 1 1 1 1 1 1 1 1 1\n"
     ]
    },
    {
     "name": "stderr",
     "output_type": "stream",
     "text": [
      "I0620 08:58:01.687785 139737458554624 tf_logging.py:115] input_mask: 1 1 1 1 1 1 1 1 1 1 1 1 1 1 1 1 1 1 1 1 1 1 1 1 1 1 1 1 1 1 1 1 1 1 1 1 1 1 1 1 1 1 1 1 1 1 1 1 1 1 1 1 1 1 1 1 1 1 1 1 1 1 1 1 1 1 1 1 1 1 1 1 1 1 1 1 1 1 1 1 1 1 1 1 1 1 1 1 1 1 1 1 1 1 1 1 1 1 1 1 1 1 1 1 1 1 1 1 1 1 1 1 1 1 1 1 1 1 1 1 1 1 1 1 1 1 1 1\n"
     ]
    },
    {
     "name": "stdout",
     "output_type": "stream",
     "text": [
      "INFO:tensorflow:segment_ids: 0 0 0 0 0 0 0 0 0 0 0 0 0 0 0 0 0 0 0 0 0 0 0 0 0 0 0 0 0 0 0 0 0 0 0 0 0 0 0 0 0 0 0 0 0 0 0 0 0 0 0 0 0 0 0 0 0 0 0 0 0 0 0 0 0 1 1 1 1 1 1 1 1 1 1 1 1 1 1 1 1 1 1 1 1 1 1 1 1 1 1 1 1 1 1 1 1 1 1 1 1 1 1 1 1 1 1 1 1 1 1 1 1 1 1 1 1 1 1 1 1 1 1 1 1 1 1 1\n"
     ]
    },
    {
     "name": "stderr",
     "output_type": "stream",
     "text": [
      "I0620 08:58:01.688459 139737458554624 tf_logging.py:115] segment_ids: 0 0 0 0 0 0 0 0 0 0 0 0 0 0 0 0 0 0 0 0 0 0 0 0 0 0 0 0 0 0 0 0 0 0 0 0 0 0 0 0 0 0 0 0 0 0 0 0 0 0 0 0 0 0 0 0 0 0 0 0 0 0 0 0 0 1 1 1 1 1 1 1 1 1 1 1 1 1 1 1 1 1 1 1 1 1 1 1 1 1 1 1 1 1 1 1 1 1 1 1 1 1 1 1 1 1 1 1 1 1 1 1 1 1 1 1 1 1 1 1 1 1 1 1 1 1 1 1\n"
     ]
    },
    {
     "name": "stdout",
     "output_type": "stream",
     "text": [
      "INFO:tensorflow:label: 0 (id = 0)\n"
     ]
    },
    {
     "name": "stderr",
     "output_type": "stream",
     "text": [
      "I0620 08:58:01.689131 139737458554624 tf_logging.py:115] label: 0 (id = 0)\n"
     ]
    },
    {
     "name": "stdout",
     "output_type": "stream",
     "text": [
      "INFO:tensorflow:*** Example ***\n"
     ]
    },
    {
     "name": "stderr",
     "output_type": "stream",
     "text": [
      "I0620 08:58:01.692076 139737458554624 tf_logging.py:115] *** Example ***\n"
     ]
    },
    {
     "name": "stdout",
     "output_type": "stream",
     "text": [
      "INFO:tensorflow:guid: None\n"
     ]
    },
    {
     "name": "stderr",
     "output_type": "stream",
     "text": [
      "I0620 08:58:01.693117 139737458554624 tf_logging.py:115] guid: None\n"
     ]
    },
    {
     "name": "stdout",
     "output_type": "stream",
     "text": [
      "INFO:tensorflow:tokens: [CLS] the administration supported an increase in the minimum wage in 1955 , and in 1957 urged legislation to extend minimum wage coverage to some 3 million additional workers , an extension which the democratic - led congress failed to approve . in 1960 , this administration sought to extend minimum wage coverage to 3 . 1 million additional workers and indicated support of [SEP] these are the things which divide our two parties . medical care for the aged , aid to education , unemployment compensation ins ##ured by federal minimum standards , a minimum wage , area redevelopment , development of our natural resources . i do n ' t believe there is any comparison in the record of our parties for 25 years , [SEP]\n"
     ]
    },
    {
     "name": "stderr",
     "output_type": "stream",
     "text": [
      "I0620 08:58:01.694113 139737458554624 tf_logging.py:115] tokens: [CLS] the administration supported an increase in the minimum wage in 1955 , and in 1957 urged legislation to extend minimum wage coverage to some 3 million additional workers , an extension which the democratic - led congress failed to approve . in 1960 , this administration sought to extend minimum wage coverage to 3 . 1 million additional workers and indicated support of [SEP] these are the things which divide our two parties . medical care for the aged , aid to education , unemployment compensation ins ##ured by federal minimum standards , a minimum wage , area redevelopment , development of our natural resources . i do n ' t believe there is any comparison in the record of our parties for 25 years , [SEP]\n"
     ]
    },
    {
     "name": "stdout",
     "output_type": "stream",
     "text": [
      "INFO:tensorflow:input_ids: 101 1996 3447 3569 2019 3623 1999 1996 6263 11897 1999 3982 1010 1998 1999 3890 9720 6094 2000 7949 6263 11897 6325 2000 2070 1017 2454 3176 3667 1010 2019 5331 2029 1996 3537 1011 2419 3519 3478 2000 14300 1012 1999 3624 1010 2023 3447 4912 2000 7949 6263 11897 6325 2000 1017 1012 1015 2454 3176 3667 1998 5393 2490 1997 102 2122 2024 1996 2477 2029 11443 2256 2048 4243 1012 2966 2729 2005 1996 4793 1010 4681 2000 2495 1010 12163 9430 16021 12165 2011 2976 6263 4781 1010 1037 6263 11897 1010 2181 15582 1010 2458 1997 2256 3019 4219 1012 1045 2079 1050 1005 1056 2903 2045 2003 2151 7831 1999 1996 2501 1997 2256 4243 2005 2423 2086 1010 102\n"
     ]
    },
    {
     "name": "stderr",
     "output_type": "stream",
     "text": [
      "I0620 08:58:01.695045 139737458554624 tf_logging.py:115] input_ids: 101 1996 3447 3569 2019 3623 1999 1996 6263 11897 1999 3982 1010 1998 1999 3890 9720 6094 2000 7949 6263 11897 6325 2000 2070 1017 2454 3176 3667 1010 2019 5331 2029 1996 3537 1011 2419 3519 3478 2000 14300 1012 1999 3624 1010 2023 3447 4912 2000 7949 6263 11897 6325 2000 1017 1012 1015 2454 3176 3667 1998 5393 2490 1997 102 2122 2024 1996 2477 2029 11443 2256 2048 4243 1012 2966 2729 2005 1996 4793 1010 4681 2000 2495 1010 12163 9430 16021 12165 2011 2976 6263 4781 1010 1037 6263 11897 1010 2181 15582 1010 2458 1997 2256 3019 4219 1012 1045 2079 1050 1005 1056 2903 2045 2003 2151 7831 1999 1996 2501 1997 2256 4243 2005 2423 2086 1010 102\n"
     ]
    },
    {
     "name": "stdout",
     "output_type": "stream",
     "text": [
      "INFO:tensorflow:input_mask: 1 1 1 1 1 1 1 1 1 1 1 1 1 1 1 1 1 1 1 1 1 1 1 1 1 1 1 1 1 1 1 1 1 1 1 1 1 1 1 1 1 1 1 1 1 1 1 1 1 1 1 1 1 1 1 1 1 1 1 1 1 1 1 1 1 1 1 1 1 1 1 1 1 1 1 1 1 1 1 1 1 1 1 1 1 1 1 1 1 1 1 1 1 1 1 1 1 1 1 1 1 1 1 1 1 1 1 1 1 1 1 1 1 1 1 1 1 1 1 1 1 1 1 1 1 1 1 1\n"
     ]
    },
    {
     "name": "stderr",
     "output_type": "stream",
     "text": [
      "I0620 08:58:01.696256 139737458554624 tf_logging.py:115] input_mask: 1 1 1 1 1 1 1 1 1 1 1 1 1 1 1 1 1 1 1 1 1 1 1 1 1 1 1 1 1 1 1 1 1 1 1 1 1 1 1 1 1 1 1 1 1 1 1 1 1 1 1 1 1 1 1 1 1 1 1 1 1 1 1 1 1 1 1 1 1 1 1 1 1 1 1 1 1 1 1 1 1 1 1 1 1 1 1 1 1 1 1 1 1 1 1 1 1 1 1 1 1 1 1 1 1 1 1 1 1 1 1 1 1 1 1 1 1 1 1 1 1 1 1 1 1 1 1 1\n"
     ]
    },
    {
     "name": "stdout",
     "output_type": "stream",
     "text": [
      "INFO:tensorflow:segment_ids: 0 0 0 0 0 0 0 0 0 0 0 0 0 0 0 0 0 0 0 0 0 0 0 0 0 0 0 0 0 0 0 0 0 0 0 0 0 0 0 0 0 0 0 0 0 0 0 0 0 0 0 0 0 0 0 0 0 0 0 0 0 0 0 0 0 1 1 1 1 1 1 1 1 1 1 1 1 1 1 1 1 1 1 1 1 1 1 1 1 1 1 1 1 1 1 1 1 1 1 1 1 1 1 1 1 1 1 1 1 1 1 1 1 1 1 1 1 1 1 1 1 1 1 1 1 1 1 1\n"
     ]
    },
    {
     "name": "stderr",
     "output_type": "stream",
     "text": [
      "I0620 08:58:01.697317 139737458554624 tf_logging.py:115] segment_ids: 0 0 0 0 0 0 0 0 0 0 0 0 0 0 0 0 0 0 0 0 0 0 0 0 0 0 0 0 0 0 0 0 0 0 0 0 0 0 0 0 0 0 0 0 0 0 0 0 0 0 0 0 0 0 0 0 0 0 0 0 0 0 0 0 0 1 1 1 1 1 1 1 1 1 1 1 1 1 1 1 1 1 1 1 1 1 1 1 1 1 1 1 1 1 1 1 1 1 1 1 1 1 1 1 1 1 1 1 1 1 1 1 1 1 1 1 1 1 1 1 1 1 1 1 1 1 1 1\n"
     ]
    },
    {
     "name": "stdout",
     "output_type": "stream",
     "text": [
      "INFO:tensorflow:label: 0 (id = 0)\n"
     ]
    },
    {
     "name": "stderr",
     "output_type": "stream",
     "text": [
      "I0620 08:58:01.699663 139737458554624 tf_logging.py:115] label: 0 (id = 0)\n"
     ]
    },
    {
     "name": "stdout",
     "output_type": "stream",
     "text": [
      "Beginning Training!\n",
      "test labels 0    73\n",
      "1    72\n",
      "Name: label, dtype: int64\n",
      "train labels 0    658\n",
      "1    657\n",
      "Name: label, dtype: int64\n",
      "INFO:tensorflow:Using config: {'_model_dir': 'BERT_RUN2019-06-20 08:25:39.792798political', '_tf_random_seed': None, '_save_summary_steps': 100, '_save_checkpoints_steps': 5000, '_save_checkpoints_secs': None, '_session_config': allow_soft_placement: true\n",
      "graph_options {\n",
      "  rewrite_options {\n",
      "    meta_optimizer_iterations: ONE\n",
      "  }\n",
      "}\n",
      ", '_keep_checkpoint_max': 5, '_keep_checkpoint_every_n_hours': 10000, '_log_step_count_steps': 100, '_train_distribute': None, '_device_fn': None, '_protocol': None, '_eval_distribute': None, '_experimental_distribute': None, '_service': None, '_cluster_spec': <tensorflow.python.training.server_lib.ClusterSpec object at 0x7f13538493c8>, '_task_type': 'worker', '_task_id': 0, '_global_id_in_cluster': 0, '_master': '', '_evaluation_master': '', '_is_chief': True, '_num_ps_replicas': 0, '_num_worker_replicas': 1}\n"
     ]
    },
    {
     "name": "stderr",
     "output_type": "stream",
     "text": [
      "I0620 08:58:02.011053 139737458554624 tf_logging.py:115] Using config: {'_model_dir': 'BERT_RUN2019-06-20 08:25:39.792798political', '_tf_random_seed': None, '_save_summary_steps': 100, '_save_checkpoints_steps': 5000, '_save_checkpoints_secs': None, '_session_config': allow_soft_placement: true\n",
      "graph_options {\n",
      "  rewrite_options {\n",
      "    meta_optimizer_iterations: ONE\n",
      "  }\n",
      "}\n",
      ", '_keep_checkpoint_max': 5, '_keep_checkpoint_every_n_hours': 10000, '_log_step_count_steps': 100, '_train_distribute': None, '_device_fn': None, '_protocol': None, '_eval_distribute': None, '_experimental_distribute': None, '_service': None, '_cluster_spec': <tensorflow.python.training.server_lib.ClusterSpec object at 0x7f13538493c8>, '_task_type': 'worker', '_task_id': 0, '_global_id_in_cluster': 0, '_master': '', '_evaluation_master': '', '_is_chief': True, '_num_ps_replicas': 0, '_num_worker_replicas': 1}\n"
     ]
    },
    {
     "name": "stdout",
     "output_type": "stream",
     "text": [
      "INFO:tensorflow:Calling model_fn.\n"
     ]
    },
    {
     "name": "stderr",
     "output_type": "stream",
     "text": [
      "I0620 08:58:02.438038 139737458554624 tf_logging.py:115] Calling model_fn.\n"
     ]
    },
    {
     "name": "stdout",
     "output_type": "stream",
     "text": [
      "INFO:tensorflow:Saver not created because there are no variables in the graph to restore\n"
     ]
    },
    {
     "name": "stderr",
     "output_type": "stream",
     "text": [
      "I0620 08:58:05.078561 139737458554624 tf_logging.py:115] Saver not created because there are no variables in the graph to restore\n"
     ]
    },
    {
     "name": "stdout",
     "output_type": "stream",
     "text": [
      "INFO:tensorflow:Done calling model_fn.\n"
     ]
    },
    {
     "name": "stderr",
     "output_type": "stream",
     "text": [
      "I0620 08:58:11.724438 139737458554624 tf_logging.py:115] Done calling model_fn.\n"
     ]
    },
    {
     "name": "stdout",
     "output_type": "stream",
     "text": [
      "INFO:tensorflow:Create CheckpointSaverHook.\n"
     ]
    },
    {
     "name": "stderr",
     "output_type": "stream",
     "text": [
      "I0620 08:58:11.726949 139737458554624 tf_logging.py:115] Create CheckpointSaverHook.\n"
     ]
    },
    {
     "name": "stdout",
     "output_type": "stream",
     "text": [
      "INFO:tensorflow:Graph was finalized.\n"
     ]
    },
    {
     "name": "stderr",
     "output_type": "stream",
     "text": [
      "I0620 08:58:12.775771 139737458554624 tf_logging.py:115] Graph was finalized.\n"
     ]
    },
    {
     "name": "stdout",
     "output_type": "stream",
     "text": [
      "INFO:tensorflow:Running local_init_op.\n"
     ]
    },
    {
     "name": "stderr",
     "output_type": "stream",
     "text": [
      "I0620 08:58:17.604201 139737458554624 tf_logging.py:115] Running local_init_op.\n"
     ]
    },
    {
     "name": "stdout",
     "output_type": "stream",
     "text": [
      "INFO:tensorflow:Done running local_init_op.\n"
     ]
    },
    {
     "name": "stderr",
     "output_type": "stream",
     "text": [
      "I0620 08:58:17.722481 139737458554624 tf_logging.py:115] Done running local_init_op.\n"
     ]
    },
    {
     "name": "stdout",
     "output_type": "stream",
     "text": [
      "INFO:tensorflow:Saving checkpoints for 0 into BERT_RUN2019-06-20 08:25:39.792798political/model.ckpt.\n"
     ]
    },
    {
     "name": "stderr",
     "output_type": "stream",
     "text": [
      "I0620 08:58:24.108696 139737458554624 tf_logging.py:115] Saving checkpoints for 0 into BERT_RUN2019-06-20 08:25:39.792798political/model.ckpt.\n"
     ]
    },
    {
     "name": "stdout",
     "output_type": "stream",
     "text": [
      "INFO:tensorflow:loss = 0.777686, step = 0\n"
     ]
    },
    {
     "name": "stderr",
     "output_type": "stream",
     "text": [
      "I0620 08:58:36.659393 139737458554624 tf_logging.py:115] loss = 0.777686, step = 0\n"
     ]
    },
    {
     "name": "stdout",
     "output_type": "stream",
     "text": [
      "INFO:tensorflow:global_step/sec: 2.26337\n"
     ]
    },
    {
     "name": "stderr",
     "output_type": "stream",
     "text": [
      "I0620 08:59:20.840962 139737458554624 tf_logging.py:115] global_step/sec: 2.26337\n"
     ]
    },
    {
     "name": "stdout",
     "output_type": "stream",
     "text": [
      "INFO:tensorflow:loss = 0.5883963, step = 100 (44.183 sec)\n"
     ]
    },
    {
     "name": "stderr",
     "output_type": "stream",
     "text": [
      "I0620 08:59:20.842712 139737458554624 tf_logging.py:115] loss = 0.5883963, step = 100 (44.183 sec)\n"
     ]
    },
    {
     "name": "stdout",
     "output_type": "stream",
     "text": [
      "INFO:tensorflow:global_step/sec: 3.17863\n"
     ]
    },
    {
     "name": "stderr",
     "output_type": "stream",
     "text": [
      "I0620 08:59:52.301092 139737458554624 tf_logging.py:115] global_step/sec: 3.17863\n"
     ]
    },
    {
     "name": "stdout",
     "output_type": "stream",
     "text": [
      "INFO:tensorflow:loss = 0.37491325, step = 200 (31.461 sec)\n"
     ]
    },
    {
     "name": "stderr",
     "output_type": "stream",
     "text": [
      "I0620 08:59:52.303565 139737458554624 tf_logging.py:115] loss = 0.37491325, step = 200 (31.461 sec)\n"
     ]
    },
    {
     "name": "stdout",
     "output_type": "stream",
     "text": [
      "INFO:tensorflow:global_step/sec: 3.1721\n"
     ]
    },
    {
     "name": "stderr",
     "output_type": "stream",
     "text": [
      "I0620 09:00:23.825903 139737458554624 tf_logging.py:115] global_step/sec: 3.1721\n"
     ]
    },
    {
     "name": "stdout",
     "output_type": "stream",
     "text": [
      "INFO:tensorflow:loss = 0.7873299, step = 300 (31.524 sec)\n"
     ]
    },
    {
     "name": "stderr",
     "output_type": "stream",
     "text": [
      "I0620 09:00:23.827414 139737458554624 tf_logging.py:115] loss = 0.7873299, step = 300 (31.524 sec)\n"
     ]
    },
    {
     "name": "stdout",
     "output_type": "stream",
     "text": [
      "INFO:tensorflow:global_step/sec: 3.17536\n"
     ]
    },
    {
     "name": "stderr",
     "output_type": "stream",
     "text": [
      "I0620 09:00:55.318451 139737458554624 tf_logging.py:115] global_step/sec: 3.17536\n"
     ]
    },
    {
     "name": "stdout",
     "output_type": "stream",
     "text": [
      "INFO:tensorflow:loss = 0.2005242, step = 400 (31.494 sec)\n"
     ]
    },
    {
     "name": "stderr",
     "output_type": "stream",
     "text": [
      "I0620 09:00:55.321735 139737458554624 tf_logging.py:115] loss = 0.2005242, step = 400 (31.494 sec)\n"
     ]
    },
    {
     "name": "stdout",
     "output_type": "stream",
     "text": [
      "INFO:tensorflow:Saving checkpoints for 493 into BERT_RUN2019-06-20 08:25:39.792798political/model.ckpt.\n"
     ]
    },
    {
     "name": "stderr",
     "output_type": "stream",
     "text": [
      "I0620 09:01:24.315836 139737458554624 tf_logging.py:115] Saving checkpoints for 493 into BERT_RUN2019-06-20 08:25:39.792798political/model.ckpt.\n"
     ]
    },
    {
     "name": "stdout",
     "output_type": "stream",
     "text": [
      "INFO:tensorflow:Loss for final step: 0.22914976.\n"
     ]
    },
    {
     "name": "stderr",
     "output_type": "stream",
     "text": [
      "I0620 09:01:30.662513 139737458554624 tf_logging.py:115] Loss for final step: 0.22914976.\n"
     ]
    },
    {
     "name": "stdout",
     "output_type": "stream",
     "text": [
      "<generator object Estimator.predict at 0x7f172098ce60>\n",
      "INFO:tensorflow:Calling model_fn.\n"
     ]
    },
    {
     "name": "stderr",
     "output_type": "stream",
     "text": [
      "I0620 09:01:30.718299 139737458554624 tf_logging.py:115] Calling model_fn.\n"
     ]
    },
    {
     "name": "stdout",
     "output_type": "stream",
     "text": [
      "INFO:tensorflow:Saver not created because there are no variables in the graph to restore\n"
     ]
    },
    {
     "name": "stderr",
     "output_type": "stream",
     "text": [
      "I0620 09:01:32.329824 139737458554624 tf_logging.py:115] Saver not created because there are no variables in the graph to restore\n"
     ]
    },
    {
     "name": "stdout",
     "output_type": "stream",
     "text": [
      "INFO:tensorflow:Done calling model_fn.\n"
     ]
    },
    {
     "name": "stderr",
     "output_type": "stream",
     "text": [
      "I0620 09:01:32.432302 139737458554624 tf_logging.py:115] Done calling model_fn.\n"
     ]
    },
    {
     "name": "stdout",
     "output_type": "stream",
     "text": [
      "INFO:tensorflow:Graph was finalized.\n"
     ]
    },
    {
     "name": "stderr",
     "output_type": "stream",
     "text": [
      "I0620 09:01:32.755121 139737458554624 tf_logging.py:115] Graph was finalized.\n"
     ]
    },
    {
     "name": "stdout",
     "output_type": "stream",
     "text": [
      "INFO:tensorflow:Restoring parameters from BERT_RUN2019-06-20 08:25:39.792798political/model.ckpt-493\n"
     ]
    },
    {
     "name": "stderr",
     "output_type": "stream",
     "text": [
      "I0620 09:01:32.760460 139737458554624 tf_logging.py:115] Restoring parameters from BERT_RUN2019-06-20 08:25:39.792798political/model.ckpt-493\n"
     ]
    },
    {
     "name": "stdout",
     "output_type": "stream",
     "text": [
      "INFO:tensorflow:Running local_init_op.\n"
     ]
    },
    {
     "name": "stderr",
     "output_type": "stream",
     "text": [
      "I0620 09:01:33.179440 139737458554624 tf_logging.py:115] Running local_init_op.\n"
     ]
    },
    {
     "name": "stdout",
     "output_type": "stream",
     "text": [
      "INFO:tensorflow:Done running local_init_op.\n"
     ]
    },
    {
     "name": "stderr",
     "output_type": "stream",
     "text": [
      "I0620 09:01:33.220756 139737458554624 tf_logging.py:115] Done running local_init_op.\n"
     ]
    },
    {
     "name": "stdout",
     "output_type": "stream",
     "text": [
      "[0. 0. 1. 0. 0. 0. 0. 0. 0. 0. 0. 1. 0. 0. 1. 0. 1. 0. 1. 0. 1. 1. 0. 1.\n",
      " 1. 1. 0. 1. 1. 1. 0. 0. 0. 0. 1. 1. 1. 1. 1. 0. 0. 0. 1. 1. 1. 0. 1. 1.\n",
      " 1. 1. 1. 0. 0. 1. 0. 0. 0. 1. 0. 0. 0. 1. 1. 0. 0. 0. 1. 1. 1. 1. 1. 1.\n",
      " 0. 1. 0. 1. 1. 1. 0. 0. 0. 0. 1. 0. 0. 0. 1. 0. 1. 1. 1. 0. 1. 1. 1. 1.\n",
      " 0. 0. 1. 0. 1. 1. 0. 0. 0. 0. 0. 0. 1. 1. 0. 0. 1. 1. 0. 1. 0. 0. 0. 1.\n",
      " 0. 0. 1. 0. 0. 1. 1. 1. 0. 1. 1. 0. 0. 0. 1. 1. 0. 1. 1. 0. 0. 0. 0. 1.\n",
      " 1.]\n",
      "              precision    recall  f1-score   support\n",
      "\n",
      "    relation       0.67      0.68      0.68        73\n",
      "   unrelated       0.67      0.65      0.66        72\n",
      "\n",
      "    accuracy                           0.67       145\n",
      "   macro avg       0.67      0.67      0.67       145\n",
      "weighted avg       0.67      0.67      0.67       145\n",
      "\n",
      "Accuracy: 0.6689655172413793\n",
      "Training took time  0:03:33.459099\n"
     ]
    }
   ],
   "source": [
    "if cross_val:\n",
    "\n",
    "    result = cross_validate(train_df.append(test_df))"
   ]
  },
  {
   "cell_type": "code",
   "execution_count": 17,
   "metadata": {},
   "outputs": [
    {
     "name": "stdout",
     "output_type": "stream",
     "text": [
      "                   f1-score  precision    recall     support\n",
      "relation     mean  0.654506   0.640441  0.671566   73.100000\n",
      "             amax  0.727273   0.742857  0.756757   74.000000\n",
      "             amin  0.542857   0.552941  0.520548   73.000000\n",
      "unrelated    mean  0.633804   0.652457  0.618702   72.900000\n",
      "             amax  0.738255   0.723684  0.753425   73.000000\n",
      "             amin  0.522388   0.556962  0.479452   72.000000\n",
      "accuracy     mean  0.645188   0.645188  0.645188    0.645188\n",
      "             amax  0.732877   0.732877  0.732877    0.732877\n",
      "             amin  0.561644   0.561644  0.561644    0.561644\n",
      "macro avg    mean  0.644155   0.646449  0.645134  146.000000\n",
      "             amax  0.732764   0.733271  0.732877  147.000000\n",
      "             amin  0.558662   0.562063  0.561644  145.000000\n",
      "weighted avg mean  0.644174   0.646433  0.645188  146.000000\n",
      "             amax  0.732764   0.733271  0.732877  147.000000\n",
      "             amin  0.558662   0.562063  0.561644  145.000000\n"
     ]
    }
   ],
   "source": [
    "if cross_val:\n",
    "    #print(result)\n",
    "    res = np.array(result)[:,0]\n",
    "    result_df = pd.DataFrame(res[0])\n",
    "    for data in res[1:]:\n",
    "        new_data = pd.DataFrame(data)\n",
    "        result_df = result_df.append(new_data)\n",
    "    pd.set_option('display.max_rows', 500)\n",
    "    pd.set_option('display.max_columns', 500)\n",
    "    pd.set_option('display.width', 1000)\n",
    "    print(result_df.groupby(level=0).agg([np.mean, np.max, np.min]).transpose())"
   ]
  },
  {
   "cell_type": "code",
   "execution_count": 18,
   "metadata": {},
   "outputs": [],
   "source": [
    "#print(estimator.get_variable_names())"
   ]
  }
 ],
 "metadata": {
  "kernelspec": {
   "display_name": "Python 3",
   "language": "python",
   "name": "python3"
  },
  "language_info": {
   "codemirror_mode": {
    "name": "ipython",
    "version": 3
   },
   "file_extension": ".py",
   "mimetype": "text/x-python",
   "name": "python",
   "nbconvert_exporter": "python",
   "pygments_lexer": "ipython3",
   "version": "3.6.8"
  }
 },
 "nbformat": 4,
 "nbformat_minor": 2
}
